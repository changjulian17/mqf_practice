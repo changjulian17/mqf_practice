{
 "cells": [
  {
   "cell_type": "markdown",
   "metadata": {},
   "source": [
    "# QF620 Project Part 1"
   ]
  },
  {
   "cell_type": "code",
   "execution_count": 35,
   "metadata": {},
   "outputs": [],
   "source": [
    "import numpy as np\n",
    "from sklearn.linear_model import LinearRegression\n",
    "import matplotlib.pyplot as plt\n",
    "from scipy.stats import norm\n",
    "import math\n"
   ]
  },
  {
   "cell_type": "code",
   "execution_count": 2,
   "metadata": {},
   "outputs": [
    {
     "name": "stdout",
     "output_type": "stream",
     "text": [
      "7.563587000586885 6.329082602003513\n"
     ]
    }
   ],
   "source": [
    "def black_scholes_price(S0, K, T, r, sig)->tuple:\n",
    "    \"\"\"\n",
    "    Calculate the Black-Scholes prices of both a European call and put option.\n",
    "\n",
    "    Parameters:\n",
    "    ----------\n",
    "    S0 : float\n",
    "        Current stock price.\n",
    "    K : float\n",
    "        Strike price of the option.\n",
    "    T : float\n",
    "        Time to expiration in years.\n",
    "    r : float\n",
    "        Risk-free interest rate (as a decimal).\n",
    "    sig : float\n",
    "        Volatility of the stock (as a decimal).\n",
    "\n",
    "    Returns:\n",
    "    -------\n",
    "    tuple\n",
    "        A tuple containing the call option price and the put option price (call_price, put_price).\n",
    "\n",
    "    Example:\n",
    "    -------\n",
    "    >>> C, P = black_scholes_price(S0, K, T, r, sig)\n",
    "    >>> print(C, P)\n",
    "    7.563587000586885 6.329082602003513\n",
    "    \"\"\"\n",
    "    # Calculate d1 and d2\n",
    "    d_1 = (math.log(S0 / K) + (r + 0.5 * sig ** 2) * T) / (sig * np.sqrt(T))\n",
    "    d_2 = d_1 - sig * np.sqrt(T)\n",
    "\n",
    "    V_c = S0 * norm.cdf(d_1) - K * math.exp(-r * T) * norm.cdf(d_2)\n",
    "    V_p = K * math.exp(-r * T) * norm.cdf(-d_2) - S0 * norm.cdf(-d_1)\n",
    "    \n",
    "    return V_c, V_p\n",
    "\n",
    "# Example usage\n",
    "S0 = 50\n",
    "K = 50\n",
    "T = 0.5\n",
    "r = 0.05\n",
    "sig = 0.5\n",
    "\n",
    "C, P = black_scholes_price(S0, K, T, r, sig)\n",
    "print(C, P)"
   ]
  },
  {
   "cell_type": "code",
   "execution_count": 13,
   "metadata": {},
   "outputs": [],
   "source": [
    "def black_scholes_digital_cash(S0, K, T, r, sig)->tuple:\n",
    "    x_star = (math.log(K/S0) - (r-(sig**2)/2)*T)/ \\\n",
    "                (sig * np.sqrt(T))\n",
    "    V_c = math.exp(-r*T) * norm.cdf(-x_star)\n",
    "    V_p = math.exp(-r*T) * norm.cdf( x_star)\n",
    "    \n",
    "    return V_c, V_p\n",
    "\n",
    "def black_scholes_digital_asset(S0, K, T, r, sig)->tuple:\n",
    "    d_1 = (math.log(S0/K) + (r+(sig**2)/2))/  \\\n",
    "               (sig * np.sqrt(T)) \n",
    "    \n",
    "    V_c = S0 * norm.cdf(-d_1)\n",
    "    V_p = S0 * norm.cdf( d_1)\n",
    "\n",
    "    return V_c, V_p"
   ]
  },
  {
   "cell_type": "code",
   "execution_count": 3,
   "metadata": {},
   "outputs": [
    {
     "data": {
      "text/plain": [
       "(0.13756492327431596, 0.13756492327431596)"
      ]
     },
     "execution_count": 3,
     "metadata": {},
     "output_type": "execute_result"
    }
   ],
   "source": [
    "def bachelier_price(S0, K, T, r, sig)->tuple:\n",
    "    \"\"\"\n",
    "    Calculate the discounted Bachelier prices of European call and put options.\n",
    "\n",
    "    Parameters:\n",
    "    ----------\n",
    "    S0 : float\n",
    "        Current stock price.\n",
    "    K : float\n",
    "        Strike price of the option.\n",
    "    T : float\n",
    "        Time to expiration in years.\n",
    "    r : float\n",
    "        Risk-free interest rate (as a decimal).\n",
    "    sig : float\n",
    "        Volatility of the underlying asset (in absolute terms).\n",
    "\n",
    "    Returns:\n",
    "    -------\n",
    "    tuple\n",
    "        A tuple containing the call option price and the put option price (call_price, put_price).\n",
    "\n",
    "    Example:\n",
    "    -------\n",
    "    >>> C, P = bachelier_price(50, 50, 0.5, 0.05, 0.5)\n",
    "    >>> print( bachelier_price(50, 50, 0.5, 0.05, 0.5) )\n",
    "    (0.13756492327431596, 0.13756492327431596)\n",
    "    \"\"\"\n",
    "    d = (S0 - K)/(sig*np.sqrt(T))\n",
    "    \n",
    "    V_c = math.exp(-r*T) * ( (S0 - K)*norm.cdf( d) + sig*np.sqrt(T)*norm.pdf( d))\n",
    "    V_p = math.exp(-r*T) * (-(S0 - K)*norm.cdf(-d) + sig*np.sqrt(T)*norm.pdf(-d))\n",
    "    \n",
    "    return V_c, V_p\n",
    "\n",
    "C, P = bachelier_price(S0, K, T, r, sig)\n",
    "C,P"
   ]
  },
  {
   "cell_type": "code",
   "execution_count": 14,
   "metadata": {},
   "outputs": [],
   "source": [
    "def bachelier_digital_cash(S0, K, T, r, sig)->tuple:\n",
    "    x_star = (K-S0) / (sig *np.sqrt(T))\n",
    "\n",
    "    V_c = math.exp(-r*T) * norm.cdf(-x_star)\n",
    "    V_p = math.exp(-r*T) * norm.cdf( x_star)\n",
    "\n",
    "    return V_c, V_p\n",
    "\n",
    "def bachelier_digital_asset(S0, K, T, r, sig)->tuple:\n",
    "    x_star = (S0-K) / (sig *np.sqrt(T))\n",
    "\n",
    "    V_c = math.exp(-r*T) * (S0 * norm.cdf( x_star) + sig * np.sqrt(T) * norm.pdf( x_star))\n",
    "    V_p = math.exp(-r*T) * (S0 * norm.cdf(-x_star) - sig * np.sqrt(T) * norm.pdf(-x_star))\n",
    "\n",
    "    return V_c, V_p\n"
   ]
  },
  {
   "cell_type": "code",
   "execution_count": 4,
   "metadata": {},
   "outputs": [
    {
     "data": {
      "text/plain": [
       "(55.60808486946355, 0.0)"
      ]
     },
     "execution_count": 4,
     "metadata": {},
     "output_type": "execute_result"
    }
   ],
   "source": [
    "def black_price(F0, K, T, r, sig)->tuple:\n",
    "    \"\"\"\n",
    "    Calculate the Black model prices of European call and put options.\n",
    "\n",
    "    Parameters:\n",
    "    ----------\n",
    "    F0 : float\n",
    "        Current futures price.\n",
    "    K : float\n",
    "        Strike price of the option.\n",
    "    T : float\n",
    "        Time to expiration in years.\n",
    "    r : float\n",
    "        Risk-free interest rate (as a decimal).\n",
    "    sig : float\n",
    "        Volatility of the underlying asset (annualized).\n",
    "\n",
    "    Returns:\n",
    "    -------\n",
    "    tuple\n",
    "        A tuple containing the call option price and the put option price (call_price, put_price).\n",
    "\n",
    "    Example:\n",
    "    -------\n",
    "    >>> C, P = black_price(50, 50, 0.5, 0.05, 0.2)\n",
    "    >>> print( black_price(50, 50, 0.5, 0.05, 0.2) )\n",
    "    (55.60808486946355, 0.0)\n",
    "    \"\"\"\n",
    "\n",
    "    d = (math.log(F0/K) +.5*(sig**2)*T) / (sig*np.sqrt(T))\n",
    "    \n",
    "    V_c = math.exp(-r*T) * ( F0*norm.cdf( d) + K *norm.cdf( d) )\n",
    "    V_p = math.exp(-r*T) * ( K *norm.cdf(-d) - F0*norm.cdf(-d) )\n",
    "    \n",
    "    return V_c, V_p\n",
    "\n",
    "C, P = black_price(S0, K, T, r, sig)\n",
    "C, P"
   ]
  },
  {
   "cell_type": "code",
   "execution_count": null,
   "metadata": {},
   "outputs": [],
   "source": [
    "def black_digital_cash(F0, K, T, r, sig)->tuple:\n",
    "    x_star = (math.log(K/F0) + ((sig**2)/2)*T)/ \\\n",
    "                (sig * np.sqrt(T))\n",
    "    V_c = math.exp(-r*T) * norm.cdf(-x_star)\n",
    "    V_p = math.exp(-r*T) * norm.cdf( x_star)\n",
    "\n",
    "    return V_c, V_p\n",
    "\n",
    "\n",
    "def black_digital_asset(F0, K, T, r, sig)->tuple:\n",
    "    x_star = (math.log(K/F0) + ((sig**2)/2)*T)/ \\\n",
    "                (sig * np.sqrt(T))\n",
    "    V_c = math.exp(-r*T) * norm.cdf(-x_star)\n",
    "    V_p = math.exp(-r*T) * norm.cdf( x_star)\n",
    "\n",
    "    return V_c, V_p\n",
    "\n",
    "\n"
   ]
  },
  {
   "cell_type": "code",
   "execution_count": 12,
   "metadata": {},
   "outputs": [
    {
     "data": {
      "text/plain": [
       "(128.78625759180068, -6.929993731065541e-15)"
      ]
     },
     "execution_count": 12,
     "metadata": {},
     "output_type": "execute_result"
    }
   ],
   "source": [
    "def displaced_diffusion_price(F0, K, T, r, sig, beta)->tuple:\n",
    "    \"\"\"\n",
    "    Calculate the price of European call and put options using the Displaced Diffusion model.\n",
    "\n",
    "    The Displaced Diffusion model modifies the Black model by applying a displacement\n",
    "    to the futures price and strike price, which helps in better fitting the observed \n",
    "    market prices of options.\n",
    "\n",
    "    Parameters:\n",
    "    ----------\n",
    "    F0 : float\n",
    "        Current futures price.\n",
    "    K : float\n",
    "        Strike price of the option.\n",
    "    T : float\n",
    "        Time to expiration in years.\n",
    "    r : float\n",
    "        Risk-free interest rate (as a decimal).\n",
    "    sig : float\n",
    "        Volatility of the underlying asset (annualized).\n",
    "    beta : float\n",
    "        Displacement factor, where 0 < beta < 1. Affects the adjustment of the futures\n",
    "        price and strike price.\n",
    "\n",
    "    Returns:\n",
    "    -------\n",
    "    tuple\n",
    "        A tuple containing the call option price and the put option price \n",
    "        (call_price, put_price) calculated using the Black model with the adjusted parameters.\n",
    "\n",
    "    Example:\n",
    "    -------\n",
    "    >>> C, P = displaced_diffusion_price(50, 50, 0.5, 0.05, 0.5, 0.4)\n",
    "    >>> print(C,P)\n",
    "    128.78625759180068, -6.929993731065541e-15\n",
    "    \"\"\"\n",
    "    F0_dd   = F0 / beta\n",
    "    K_dd    = K + (1-beta)/beta * F0\n",
    "    sig_dd  = sig * beta\n",
    "\n",
    "    return black_price(F0_dd, K_dd, T, r, sig_dd)\n",
    "\n",
    "C, P = displaced_diffusion_price(S0, K, T, r, sig, beta=.4)\n",
    "C,P"
   ]
  },
  {
   "cell_type": "code",
   "execution_count": null,
   "metadata": {},
   "outputs": [],
   "source": [
    "def displaced_diffusion_digital_cash(F0, K, T, r, sig, beta)->tuple:\n",
    "    F0_dd   = F0 / beta\n",
    "    K_dd    = K + (1-beta)/beta * F0\n",
    "    sig_dd  = sig * beta\n",
    "\n",
    "    x_star = (math.log(K_dd/F0_dd) + ((sig_dd**2)/2)*T)/ \\\n",
    "                (sig_dd * np.sqrt(T))\n",
    "    V_c = math.exp(-r*T) * norm.cdf(-x_star)\n",
    "    V_p = math.exp(-r*T) * norm.cdf( x_star)\n",
    "\n",
    "    return V_c, V_p\n",
    "\n",
    "\n",
    "def displaced_diffusion_digital_asset(F0, K, T, r, sig, beta)->tuple:\n",
    "    F0_dd   = F0 / beta\n",
    "    K_dd    = K + (1-beta)/beta * F0\n",
    "    sig_dd  = sig * beta\n",
    "    x_star = (math.log(K_dd/F0_dd) + ((sig_dd**2)/2)*T)/ \\\n",
    "                (sig_dd * np.sqrt(T))\n",
    "    V_c = math.exp(-r*T) * norm.cdf(-x_star)\n",
    "    V_p = math.exp(-r*T) * norm.cdf( x_star)\n",
    "\n",
    "    return V_c, V_p"
   ]
  },
  {
   "cell_type": "code",
   "execution_count": null,
   "metadata": {},
   "outputs": [],
   "source": []
  }
 ],
 "metadata": {
  "kernelspec": {
   "display_name": "Python 3",
   "language": "python",
   "name": "python3"
  },
  "language_info": {
   "codemirror_mode": {
    "name": "ipython",
    "version": 3
   },
   "file_extension": ".py",
   "mimetype": "text/x-python",
   "name": "python",
   "nbconvert_exporter": "python",
   "pygments_lexer": "ipython3",
   "version": "3.9.13"
  }
 },
 "nbformat": 4,
 "nbformat_minor": 2
}
