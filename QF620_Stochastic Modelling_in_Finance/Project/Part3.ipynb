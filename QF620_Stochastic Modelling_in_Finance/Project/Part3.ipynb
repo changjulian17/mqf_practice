{
 "cells": [
  {
   "cell_type": "code",
   "execution_count": 1,
   "metadata": {},
   "outputs": [],
   "source": [
    "## Python 3.12.0\n",
    "\n",
    "import pandas as pd\n",
    "import numpy as np\n",
    "from scipy.stats import norm\n",
    "from scipy.integrate import quad\n",
    "from scipy.optimize import brentq, least_squares\n",
    "import matplotlib.pylab as plt\n",
    "import math\n",
    "import warnings\n",
    "from scipy.integrate import IntegrationWarning\n",
    "\n",
    "warnings.filterwarnings(\"ignore\", category=IntegrationWarning)"
   ]
  },
  {
   "cell_type": "code",
   "execution_count": 2,
   "metadata": {},
   "outputs": [],
   "source": [
    "# Preprocessing and BS supporting funcs\n",
    "def impliedVolatility(S, K, r, price, T, payoff):\n",
    "    try:\n",
    "        if (payoff.lower() == 'call'):\n",
    "            impliedVol = brentq(lambda x: price -\n",
    "                                BlackScholesLognormalCall(S, K, r, x, T),\n",
    "                                1e-12, 10.0)\n",
    "        elif (payoff.lower() == 'put'):\n",
    "            impliedVol = brentq(lambda x: price -\n",
    "                                BlackScholesLognormalPut(S, K, r, x, T),\n",
    "                                1e-12, 10.0)\n",
    "        else:\n",
    "            raise NameError('Payoff type not recognized')\n",
    "    except Exception:\n",
    "        impliedVol = np.nan\n",
    "\n",
    "    return impliedVol\n",
    "\n",
    "def preprocess_options_data(file_path):\n",
    "    \"\"\"\n",
    "    Preprocess options data by calculating mid-price, scaling strike prices, \n",
    "    and mapping call/put flags.\n",
    "\n",
    "    Parameters:\n",
    "    - file_path (str): Path to the CSV file containing options data.\n",
    "\n",
    "    Returns:\n",
    "    - DataFrame: Processed options data with 'mid', 'strike', and 'payoff' columns.\n",
    "    \"\"\"\n",
    "    df = pd.read_csv(file_path)\n",
    "    df['mid'] = 0.5 * (df['best_bid'] + df['best_offer'])\n",
    "    df['strike'] = df['strike_price'] * 0.001  # Adjusting strike price scale\n",
    "    df['payoff'] = df['cp_flag'].map(lambda x: 'call' if x == 'C' else 'put')\n",
    "    return df\n",
    "\n",
    "def BlackScholesLognormalCall(S, K, r, sigma, T):\n",
    "    d1 = (np.log(S/K)+(r+sigma**2/2)*T) / (sigma*np.sqrt(T))\n",
    "    d2 = d1 - sigma*np.sqrt(T)\n",
    "    return S*norm.cdf(d1) - K*np.exp(-r*T)*norm.cdf(d2)\n",
    "\n",
    "def BlackScholesLognormalPut(S, K, r, sigma, T):\n",
    "    d1 = (np.log(S/K)+(r+sigma**2/2)*T) / (sigma*np.sqrt(T))\n",
    "    d2 = d1 - sigma*np.sqrt(T)\n",
    "    return K*np.exp(-r*T)*norm.cdf(-d2) - S*norm.cdf(-d1)\n",
    "\n",
    "def BachelierCall(S0, K, T, r, sig)->tuple:\n",
    "    \"\"\"\n",
    "    Calculate the discounted Bachelier prices of European call options.\n",
    "    \"\"\"\n",
    "    d = (S0 - K)/(sig*T**.5)\n",
    "    \n",
    "    return math.exp(-r*T) * ( (S0 - K)*norm.cdf( d) + sig*T**.5*norm.pdf( d))\n",
    "\n",
    "def BachelierPut(S0, K, T, r, sig)->tuple:\n",
    "    \"\"\"\n",
    "    Calculate the discounted Bachelier prices of European put options.\n",
    "    \"\"\"\n",
    "    d = (S0 - K)/(sig*T**.5)\n",
    "    \n",
    "    return math.exp(-r*T) * (-(S0 - K)*norm.cdf(-d) + sig*T**.5*norm.pdf(-d))\n",
    "\n",
    "def SABR(F, K, T, alpha, beta, rho, nu):\n",
    "    \"\"\"\n",
    "    Use SABR model to return sigma \n",
    "    \"\"\"\n",
    "\n",
    "    X = K\n",
    "    # if K is at-the-money-forward\n",
    "    if abs(F - K) < 1e-12:\n",
    "        numer1 = (((1 - beta)**2)/24)*alpha*alpha/(F**(2 - 2*beta))\n",
    "        numer2 = 0.25*rho*beta*nu*alpha/(F**(1 - beta))\n",
    "        numer3 = ((2 - 3*rho*rho)/24)*nu*nu\n",
    "        VolAtm = alpha*(1 + (numer1 + numer2 + numer3)*T)/(F**(1-beta))\n",
    "        sabrsigma = VolAtm\n",
    "    else:\n",
    "        z = (nu/alpha)*((F*X)**(0.5*(1-beta)))*np.log(F/X)\n",
    "        zhi = np.log((((1 - 2*rho*z + z*z)**0.5) + z - rho)/(1 - rho))\n",
    "        numer1 = (((1 - beta)**2)/24)*((alpha*alpha)/((F*X)**(1 - beta)))\n",
    "        numer2 = 0.25*rho*beta*nu*alpha/((F*X)**((1 - beta)/2))\n",
    "        numer3 = ((2 - 3*rho*rho)/24)*nu*nu\n",
    "        numer = alpha*(1 + (numer1 + numer2 + numer3)*T)*z\n",
    "        denom1 = ((1 - beta)**2/24)*(np.log(F/X))**2\n",
    "        denom2 = (((1 - beta)**4)/1920)*((np.log(F/X))**4)\n",
    "        denom = ((F*X)**((1 - beta)/2))*(1 + denom1 + denom2)*zhi\n",
    "        sabrsigma = numer/denom\n",
    "\n",
    "    return sabrsigma"
   ]
  },
  {
   "cell_type": "code",
   "execution_count": 3,
   "metadata": {},
   "outputs": [],
   "source": [
    "# Read data and instantiate constants\n",
    "df_rates = pd.read_csv(\"zero_rates_20201201.csv\")\\\n",
    "            .sort_values('days')\n",
    "df_spx = preprocess_options_data(\"SPX_options.csv\")\n",
    "df_spy = preprocess_options_data(\"SPY_options.csv\")\n",
    "\n",
    "exdate = 20210115                       # contract expiry to use\n",
    "days_to_expiry = (pd.Timestamp(str(exdate)) - pd.Timestamp('2020-12-01')).days\n",
    "r = np.interp(days_to_expiry, df_rates['days'].values, df_rates['rate'].values) / 100\n",
    "T = days_to_expiry / 365\n",
    "S_spx, K_spx = 3662.45, 3660\n",
    "S_spy, K_spy= 366.02, 366\n",
    "\n",
    "F_spx, F_spy = S_spx * np.exp(r * T), S_spy * np.exp(r * T)\n",
    "\n",
    "# SABR constants\n",
    "beta = 0.7\n",
    "dict_spx = {'ticker': 'SPX', \n",
    "            'S': S_spx,\n",
    "            'F': F_spx, \n",
    "            'K': K_spx, \n",
    "            'alpha': 1.8165044218295023, \n",
    "            'rho': -0.4043017619125521, \n",
    "            'nu': 2.7901583381061568}\n",
    "dict_spy = {'ticker': 'SPY', \n",
    "            'S': S_spy,\n",
    "            'F': F_spy, \n",
    "            'K': K_spy,\n",
    "            'alpha': 0.9081326360891961, \n",
    "            'rho': -0.4887794505604543, \n",
    "            'nu': 2.7285163399809482}\n",
    "\n",
    "# calculate get ATM params\n",
    "df_spx_atm = df_spx[(df_spx['exdate']==exdate)& \\\n",
    "                    (df_spx['strike']==K_spx)& \\\n",
    "                    (df_spx['payoff']=='put')]\n",
    "df_spy_atm = df_spy[(df_spy['exdate']==exdate)& \\\n",
    "                    (df_spy['strike']==K_spy)& \\\n",
    "                    (df_spy['payoff']=='put')]"
   ]
  },
  {
   "cell_type": "markdown",
   "metadata": {},
   "source": [
    "# QF620 Project Part 3\n",
    "Suppose on 1-Dec-2020, we need to evaluate an exotic European derivative\n",
    "expiring on 15-Jan-2021\n",
    "## 1. Contract Payoff function\n",
    "Payoff function is\n",
    "\n",
    "$$\n",
    "S^{\\frac{1}{3}}_T + 1.5 \\times \\log(S_T) + 10.0\n",
    "\n",
    "$$"
   ]
  },
  {
   "cell_type": "markdown",
   "metadata": {},
   "source": [
    "\n",
    "### 1.1 Black-Scholes Model\n",
    "under Black-Scholes\n",
    "\n",
    "$$\n",
    "S_T = S_0 e^{(r - \\frac{\\sigma^2}{2})T + \\sigma W_T}\n",
    "\n",
    "$$\n",
    "\n",
    "Therefore\n",
    "\n",
    "$$\n",
    "\\begin{aligned}\n",
    "\n",
    "V_0 \n",
    "&= e^{-rT} \\mathbb{E}\n",
    "\\left[\n",
    "    {S_0^\\frac{1}{3} e^{\\frac{1}{3} (r - \\frac{\\sigma^2}{2})T + \\frac{1}{3} \\sigma W_T}}\n",
    "    + 1.5 \\times \\log(S_0 e^{(r - \\frac{\\sigma^2}{2})T \n",
    "    + \\sigma W_T}) + 10.0\n",
    "\\right] \\\\\n",
    "&= \n",
    "e^{-rT}\n",
    "\\left[\n",
    "{S_0^\\frac{1}{3} e^{\\frac{1}{3} (r - \\frac{\\sigma^2}{2})T}} \\mathbb{E}[{e^{\\frac{1}{3} \\sigma W_T}}] +\n",
    "\n",
    "\t 1.5 \\left[ \n",
    "\t\t \\log{S_0} + \\left(r - \\frac{\\sigma^2}{2} \\right) T  + \\mathbb{E}[\\sigma W_T] \n",
    "\t\\right]\n",
    "\t+\n",
    "\t10.0\n",
    "\\right]\n",
    "\\\\\\\\\n",
    "V_0\n",
    "&= \n",
    "e^{-rT}\n",
    "\\left[\n",
    "{S_0^\\frac{1}{3} e^{\\frac{1}{3} (r - \\frac{\\sigma^2}{3})T}} +\n",
    "\n",
    "\t 1.5 \\left[ \n",
    "\t\t \\log{S_0} + \\left(r - \\frac{\\sigma^2}{2} \\right) T \n",
    "\t\\right]\n",
    "\t+\n",
    "\t10.0\n",
    "\\right]\n",
    "\\\\\n",
    "\n",
    "\\end{aligned}\n",
    "$$"
   ]
  },
  {
   "cell_type": "markdown",
   "metadata": {},
   "source": [
    "\n",
    "#### 1.1.1 $\\sigma$ used\n",
    "There is many market implied volatilities \n",
    "We can try using ATM strike volatility $K = S_0$\n"
   ]
  },
  {
   "cell_type": "code",
   "execution_count": 4,
   "metadata": {},
   "outputs": [
    {
     "name": "stdout",
     "output_type": "stream",
     "text": [
      "==========  Black-Scholes  ==========\n",
      "SPX ATM implied vol: 0.18886\n",
      "SPY ATM implied vol: 0.19777\n"
     ]
    }
   ],
   "source": [
    "dict_spx['bs_sigma'] = impliedVolatility(S_spx, K_spx, r, df_spx_atm['mid'].values[0], T, 'put')\n",
    "dict_spy['bs_sigma'] = impliedVolatility(S_spy, K_spy, r, df_spy_atm['mid'].values[0], T, 'put')\n",
    "\n",
    "print(10*\"=\", \" Black-Scholes \", 10*\"=\")\n",
    "print(f\"SPX ATM implied vol: {dict_spx['bs_sigma']:.5f}\")\n",
    "print(f\"SPY ATM implied vol: {dict_spy['bs_sigma']:.5f}\")"
   ]
  },
  {
   "cell_type": "markdown",
   "metadata": {},
   "source": [
    "\n",
    "#### 1.1.2 Valuation\n",
    "##### Method 1 - Analytical"
   ]
  },
  {
   "cell_type": "code",
   "execution_count": 5,
   "metadata": {},
   "outputs": [
    {
     "name": "stdout",
     "output_type": "stream",
     "text": [
      "==========  Black-Scholes  ==========\n",
      "SPX: Black-Scholes Price $37.70\n",
      "SPY: Black-Scholes Price $25.99\n"
     ]
    }
   ],
   "source": [
    "spx_bs_px = np.exp(-r * T) *\\\n",
    "    (\n",
    "        dict_spx['S'] **(1/3) * np.exp(1/3 * (r - (dict_spx['bs_sigma']**2) / 3) * T) \\\n",
    "        + 1.5 * (np.log(S_spx) + (r - (dict_spx['bs_sigma']**2) / 2) * T)\n",
    "        + 10\n",
    "\t)\n",
    "\n",
    "spy_bs_px = np.exp(-r * T) *\\\n",
    "    (\n",
    "        dict_spy['S']**(1/3) * np.exp(1/3 * (r - (dict_spy['bs_sigma']**2) / 3) * T) \\\n",
    "        + 1.5 * (\n",
    "                np.log(S_spy) \n",
    "                + (r - (dict_spy['bs_sigma']**2) / 2) * T)\n",
    "        + 10\n",
    "\t)\n",
    "\n",
    "print(10*\"=\", \" Black-Scholes \", 10*\"=\")\n",
    "print(f\"SPX: Black-Scholes Price ${spx_bs_px:.2f}\")\n",
    "print(f\"SPY: Black-Scholes Price ${spy_bs_px:.2f}\")"
   ]
  },
  {
   "cell_type": "markdown",
   "metadata": {},
   "source": [
    "##### Method 2 - Monte Carlo "
   ]
  },
  {
   "cell_type": "code",
   "execution_count": 6,
   "metadata": {},
   "outputs": [
    {
     "name": "stdout",
     "output_type": "stream",
     "text": [
      "==========  Black - Scholes estimated price of contract  ==========\n",
      "SPX:  $37.70\n",
      "SPY:  $25.99\n"
     ]
    }
   ],
   "source": [
    "print(10*\"=\", \" Black - Scholes estimated price of contract \", 10*\"=\")\n",
    "\n",
    "for d in [dict_spx, dict_spy]:\n",
    "    num_simulations = 10**8  # Number of Monte Carlo simulations\n",
    "    \n",
    "    # Simulate end prices S_T under BS\n",
    "    Z = np.random.normal(0, 1, num_simulations)\n",
    "    S_T = d['S'] * np.exp((r - (d['bs_sigma']**2) / 2) * T - d[\"bs_sigma\"] * np.sqrt(T) * Z )\n",
    "\n",
    "    # Calculate payoff for each simulated S_T\n",
    "    payoffs = S_T**(1/3) + 1.5 * np.log(S_T) + 10\n",
    "\n",
    "    # Discount the expected payoff\n",
    "    discounted_payoff = np.exp(-r * T) * np.mean(payoffs)\n",
    "    \n",
    "    print(f\"{d['ticker']}:  ${discounted_payoff:.2f}\")"
   ]
  },
  {
   "cell_type": "markdown",
   "metadata": {},
   "source": [
    "\n",
    "### 1.2 Bachelier Model\n",
    "\n",
    "$$\n",
    "dS_T = \\mu dt + \\sigma dW_t\n",
    "$$\n",
    "$$\n",
    "S_T = S_0 + \\mu T + \\sigma W_T\n",
    "$$\n"
   ]
  },
  {
   "cell_type": "markdown",
   "metadata": {},
   "source": [
    "#### 1.2.1 $\\sigma$ used\n"
   ]
  },
  {
   "cell_type": "code",
   "execution_count": 7,
   "metadata": {},
   "outputs": [
    {
     "name": "stdout",
     "output_type": "stream",
     "text": [
      "==========  Bachelier ATM implied vol  ==========\n",
      "SPX: 670.65\n",
      "SPY: 71.91\n"
     ]
    }
   ],
   "source": [
    "dict_spx['bach_sigma'] = brentq(lambda x: df_spx_atm['mid'].values[0] \\\n",
    "                                        - BachelierCall(dict_spx['S'], \n",
    "                                                        dict_spx['K'] , \n",
    "                                                        T, r, x),\n",
    "                                1e-12, 1000)\n",
    "dict_spy['bach_sigma'] = brentq(lambda x: df_spy_atm['mid'].values[0] \\\n",
    "                                        - BachelierCall(dict_spy['S'], \n",
    "                                                        dict_spy['K'],\n",
    "                                                        T, r, x),\n",
    "                                1e-12, 1000)\n",
    "print(10*\"=\", \" Bachelier ATM implied vol \", 10*\"=\")\n",
    "print(f\"{dict_spx['ticker']}: {dict_spx['bach_sigma']:.2f}\")\n",
    "print(f\"{dict_spy['ticker']}: {dict_spy['bach_sigma']:.2f}\")"
   ]
  },
  {
   "cell_type": "markdown",
   "metadata": {},
   "source": [
    "\n",
    "#### 1.2.2 Valuation\n"
   ]
  },
  {
   "cell_type": "code",
   "execution_count": 8,
   "metadata": {},
   "outputs": [
    {
     "name": "stdout",
     "output_type": "stream",
     "text": [
      "==========  Bachelier estimated price via Monte Carlo ==========\n",
      "SPX: $37.70\n",
      "SPY: $25.99\n"
     ]
    },
    {
     "data": {
      "image/png": "[encoded data removed]",
      "text/plain": [
       "<Figure size 640x480 with 1 Axes>"
      ]
     },
     "metadata": {},
     "output_type": "display_data"
    },
    {
     "data": {
      "image/png": "[encoded data removed]",
      "text/plain": [
       "<Figure size 640x480 with 1 Axes>"
      ]
     },
     "metadata": {},
     "output_type": "display_data"
    }
   ],
   "source": [
    "print(10*\"=\", \" Bachelier estimated price via Monte Carlo\", 10*\"=\")\n",
    "num_simulations = 10**8  # Number of Monte Carlo simulations\n",
    "\n",
    "for d in [dict_spx, dict_spy]:     \n",
    "    Z = np.random.normal(0, 1, num_simulations)\n",
    "    S_T = d['S'] + r * T + d['bach_sigma'] * np.sqrt(T) * Z\n",
    "\n",
    "    # Calculate payoff for each simulated S_T\n",
    "    bach_payoffs = S_T**(1/3) + 1.5 * np.log(S_T) + 10.0\n",
    "    # Discount the expected payoff\n",
    "    bach_discounted_payoff = np.exp(-r * T) * np.mean(bach_payoffs)\n",
    "\n",
    "    print(f\"{d['ticker']}: ${bach_discounted_payoff:.2f}\")\n",
    "    plt.figure(tight_layout=True)\n",
    "    plt.title(f\"{exdate} Bachelier sample discounted payouts\")\n",
    "    plt.hist(bach_payoffs, bins=100)\n",
    "    plt.axvline(bach_discounted_payoff, color='red', \n",
    "                linestyle='dashed', linewidth=2, \n",
    "                label=f'Expected payout: ${bach_discounted_payoff:.2f}')\n",
    "    plt.legend()\n",
    "    \n",
    "plt.show();"
   ]
  },
  {
   "cell_type": "markdown",
   "metadata": {},
   "source": [
    "\n",
    "### 1.2 Static Replication of European Payoff Model\n",
    "*using SABR model calibrated from Part 2*\n",
    "\n",
    "\n",
    "##### Carr-Madan Static Replication formula\n",
    "$$\n",
    "V_0 = e^{-rT} h(F) + \\int_{0}^{F} h''(K) P(K) \\, dK + \\int_{F}^{\\infty} h''(K) C(K) \\, dK\n",
    "$$\n",
    "#### 1.2.1 Calibrated SABR model\n",
    "SPX: Exdate 20210115: alpha = 1.817, rho = -0.404, nu = 2.790\n",
    "\n",
    "SPY: Exdate 20210115: alpha = 0.908, rho = -0.489, nu = 2.729\n",
    "#### 1.2.2 Valuation\n",
    "$$\n",
    "S^{1/3}_T + 1.5 \\times \\log(S_T) + 10.0\n",
    "$$\n",
    "$$\n",
    "h'(S_T) = \\frac{1}{3} {S_T}^{-\\frac{2}{3}} + 1.5 \\frac{1}{S_T} \\quad h''(S_T) = -\\frac{2}{9} {S_T}^{-\\frac{5}{3}} - 1.5 \\frac{1}{{S_T}^2}\n",
    "$$\n",
    "\n",
    "$$\n",
    "\n",
    "V_0 \n",
    "= \n",
    "e^{-rT} \\left[ K^{\\frac{1}{3}} + 1.5 \\times \\log(K) + 10.0 \\right]\n",
    "    + \\int_{0}^{F} \\left( -\\frac{2}{9} {K}^{-\\frac{5}{3}} - 1.5 \\frac{1}{{K}^2} \\right) P(K) dK\n",
    "        + \\int_{F}^{\\infty} \\left( -\\frac{2}{9} {K}^{-\\frac{5}{3}} - 1.5 \\frac{1}{{K}^2} \\right) C(K) dK\n",
    "\n",
    "$$\n",
    "\n"
   ]
  },
  {
   "cell_type": "code",
   "execution_count": 9,
   "metadata": {},
   "outputs": [],
   "source": [
    "# Static replication supporting functions for special payout\n",
    "def BlackScholesCall(S, K, r, sigma, T):\n",
    "    d1 = (np.log(S/K)+(r+sigma**2/2)*T) / (sigma*np.sqrt(T))\n",
    "    d2 = d1 - sigma*np.sqrt(T)\n",
    "    return S*norm.cdf(d1) - K*np.exp(-r*T)*norm.cdf(d2)\n",
    "\n",
    "\n",
    "def BlackScholesPut(S, K, r, sigma, T):\n",
    "    return BlackScholesCall(S, K, r, sigma, T) - S + K*np.exp(-r*T)\n",
    "\n",
    "def SABRCall(S, K, r, alpha, beta, rho, nu, T):\n",
    "    sabr_vol = SABR(S*np.exp(r*T), K, T, alpha, beta, rho, nu)\n",
    "    return BlackScholesCall(S, K, r, sabr_vol, T)\n",
    "\n",
    "\n",
    "def SABRPut(S, K, r, alpha, beta, rho, nu, T):\n",
    "    sabr_vol = SABR(S*np.exp(r*T), K, T, alpha, beta, rho, nu)\n",
    "    return BlackScholesPut(S, K, r, sabr_vol, T)\n",
    "\n",
    "def h_double_prime(K):\n",
    "    h_pp = -2 / 9*K**(-5/3) - 1.5 / (K**2)\n",
    "    return h_pp\n",
    "\n",
    "def P1_sabrcallintegrand(K, S, r, T, alpha, beta, rho, nu):\n",
    "    \"\"\"\n",
    "    Function that incorporates integral h''(K) f(K) dK for call side\n",
    "    \"\"\"\n",
    "    price = SABRCall(S, K, r, alpha, beta, rho, nu, T) * h_double_prime(K)\n",
    "    return price\n",
    "\n",
    "\n",
    "def P1_sabrputintegrand(K, S, r, T, alpha, beta, rho, nu):\n",
    "    \"\"\"\n",
    "    Function that incorporates integral h''(K) f(K) dK for put side\n",
    "    \"\"\"\n",
    "    price = SABRPut(S, K, r, alpha, beta, rho, nu, T) * h_double_prime(K)\n",
    "    return price"
   ]
  },
  {
   "cell_type": "code",
   "execution_count": 10,
   "metadata": {},
   "outputs": [
    {
     "name": "stdout",
     "output_type": "stream",
     "text": [
      "==========  Static Replication Model-Free estimated price via Monte Carlo ==========\n",
      "SPX: $37.70\n",
      "SPY: $25.99\n"
     ]
    }
   ],
   "source": [
    "print(10*\"=\", \" Static Replication Model-Free estimated price via Monte Carlo\", 10*\"=\")\n",
    "num_simulations = 10**8  # Number of Monte Carlo simulations\n",
    "\n",
    "for d in [dict_spx, dict_spy]: \n",
    "    I_put = quad(lambda x: P1_sabrputintegrand(x, \n",
    "                                            d['S'], \n",
    "                                            r, \n",
    "                                            T, \n",
    "                                            d['alpha'], \n",
    "                                            beta, \n",
    "                                            d['rho'], \n",
    "                                            d['nu']), \n",
    "                1e-6, \n",
    "                d['F'])\n",
    "    I_call = quad(lambda x: P1_sabrcallintegrand(x, \n",
    "                                              d['S'],  \n",
    "                                              r,\n",
    "                                              T,\n",
    "                                              d['alpha'],\n",
    "                                              beta,\n",
    "                                              d['rho'],\n",
    "                                              d['nu']), \n",
    "                d['F'], \n",
    "                8000)\n",
    "    E_v = np.exp(-r*T) * (d['S']**(1/3) + 1.5 * np.log(d['S']) + 10) + I_put + I_call\n",
    "    print(f\"{d['ticker']}: ${E_v[0]:.2f}\")\n"
   ]
  },
  {
   "cell_type": "markdown",
   "metadata": {},
   "source": [
    "\n",
    "## 2. Variance Swap\n",
    "Variance swaps are contracts which allow us to gain explicit volatility (and\n",
    "variance) exposure. This frees us from the need to worry about delta or gamma\n",
    "hedging if we were to use vanilla options to gain volatility exposure.\n",
    "The payoff of a variance swap is given by\n",
    "Var Swap = Notional × $(\\sigma_R^2 − \\sigma_K^2)$ ,\n",
    "where σ2\n",
    "R is the realized variance of the stock and σ2\n",
    "K is the strike variance\n",
    "$$\n",
    "\n",
    "\\mathbb{E} \\left[ \\int_0^T \\sigma_t^2 \\, dt \\right] = 2 e^{rT} \\int_0^F \\frac{P(K)}{K^2} \\, dK + 2 e^{rT} \\int_F^{\\infty} \\frac{C(K)}{K^2} \\, dK\n",
    "\n",
    "$$\n",
    "### 2.1 Black-Scholes Model\n",
    "#### 2.1.1 $\\sigma$ used\n",
    "Use At-the-money Sigma"
   ]
  },
  {
   "cell_type": "code",
   "execution_count": 11,
   "metadata": {},
   "outputs": [
    {
     "name": "stdout",
     "output_type": "stream",
     "text": [
      "==========  Black-Scholes expected ATM variance  ==========\n",
      "SPX: 0.18886\n",
      "SPY: 0.19777\n"
     ]
    }
   ],
   "source": [
    "print(10*\"=\", \" Black-Scholes expected ATM variance \", 10*\"=\")\n",
    "for d in [dict_spx, dict_spy]:\n",
    "    print(f\"{d['ticker']}: {d['bs_sigma']:.5f}\")"
   ]
  },
  {
   "cell_type": "markdown",
   "metadata": {},
   "source": [
    "\n",
    "#### 2.1.2 Valuation\n"
   ]
  },
  {
   "cell_type": "code",
   "execution_count": 12,
   "metadata": {},
   "outputs": [],
   "source": [
    "# Supporting funcs for Black-Scholes Variance swap pricing\n",
    "def BlackScholesCall(S, K, r, sigma, T):\n",
    "    d1 = (np.log(S/K)+(r+sigma**2/2)*T) / (sigma*np.sqrt(T))\n",
    "    d2 = d1 - sigma*np.sqrt(T)\n",
    "    return S*norm.cdf(d1) - K*np.exp(-r*T)*norm.cdf(d2)\n",
    "\n",
    "def BlackScholesPut(S, K, r, sigma, T):\n",
    "    return BlackScholesCall(S, K, r, sigma, T) - S + K*np.exp(-r*T)\n",
    "\n",
    "def BScallintegrand(K, S, r, T, sigma):\n",
    "    price = BlackScholesCall(S, K, r, sigma, T) / K**2\n",
    "    return price\n",
    "\n",
    "def BSputintegrand(K, S, r, T, sigma):\n",
    "    price = BlackScholesPut(S, K, r, sigma, T) / K**2\n",
    "    return price"
   ]
  },
  {
   "cell_type": "code",
   "execution_count": 13,
   "metadata": {},
   "outputs": [
    {
     "name": "stdout",
     "output_type": "stream",
     "text": [
      "==========  Black-Scholes expected integrated variance  ==========\n",
      "SPX: 0.004397450\n",
      "SPY: 0.004821988\n"
     ]
    }
   ],
   "source": [
    "print(10*\"=\", \" Black-Scholes expected integrated variance \", 10*\"=\")\n",
    "\n",
    "for d in [dict_spx, dict_spy]:\n",
    "    I_put = quad(lambda x: BSputintegrand(x, d['S'], r, T, d['bs_sigma']), 0.0, d['F'])\n",
    "    I_call = quad(lambda x: BScallintegrand(x, d['S'], r, T, d['bs_sigma']), d['F'], 8000)\n",
    "    E_var = 2*np.exp(r*T)*(I_put[0] + I_call[0])\n",
    "    print(f\"{d['ticker']}: {E_var:.9f}\")"
   ]
  },
  {
   "cell_type": "markdown",
   "metadata": {},
   "source": [
    "\n",
    "### 2.2 Bachelier Model\n",
    "#### 2.2.1 $\\sigma$ used\n",
    "Use At-the-money Sigma"
   ]
  },
  {
   "cell_type": "code",
   "execution_count": 14,
   "metadata": {},
   "outputs": [
    {
     "name": "stdout",
     "output_type": "stream",
     "text": [
      "==========  Bachelier ATM variance  ==========\n",
      "SPX: 670.65\n",
      "SPY: 71.91\n"
     ]
    }
   ],
   "source": [
    "print(10*\"=\", \" Bachelier ATM variance \", 10*\"=\")\n",
    "for d in [dict_spx, dict_spy]:\n",
    "    print(f\"{d['ticker']}: {d['bach_sigma']:.2f}\")"
   ]
  },
  {
   "cell_type": "markdown",
   "metadata": {},
   "source": [
    "#### 2.2.2 Valuation"
   ]
  },
  {
   "cell_type": "code",
   "execution_count": 15,
   "metadata": {},
   "outputs": [],
   "source": [
    "# Supporting funcs for Bachelier Variance swap pricing\n",
    "def BachelierCall(K, S, r, T, sigma):\n",
    "    d = ( S - K)/( sigma*T**.5)\n",
    "    return math.exp(-r*T) * ( ( S - K)*norm.cdf( d) +  sigma*T**.5*norm.pdf( d))\n",
    "\n",
    "def BachelierPut(K, S, r, T, sigma):\n",
    "    d = ( S - K)/( sigma*T**.5)\n",
    "    return math.exp(-r*T) * (-( S - K)*norm.cdf(-d) +  sigma*T**.5*norm.pdf(-d))\n",
    "\n",
    "def Bachcallintegrand(K, S, r, T, sigma):\n",
    "    price = BachelierCall(K, S, r, T, sigma) / K**2\n",
    "    return price\n",
    "\n",
    "def Bachputintegrand(K, S, r, T, sigma):\n",
    "    price = BachelierPut(K, S, r, T, sigma) / K**2\n",
    "    return price"
   ]
  },
  {
   "cell_type": "code",
   "execution_count": 16,
   "metadata": {},
   "outputs": [
    {
     "name": "stdout",
     "output_type": "stream",
     "text": [
      "==========  Bachelier expected integrated variance  ==========\n",
      "SPX: 0.004160098\n",
      "SPY: 0.004792845\n"
     ]
    }
   ],
   "source": [
    "print(10*\"=\", \" Bachelier expected integrated variance \", 10*\"=\")\n",
    "\n",
    "for d in [dict_spx, dict_spy]:\n",
    "    I_put = quad(lambda x: Bachputintegrand(x, d['S'], r, T, d['bach_sigma']), 0.0, d['F'])\n",
    "    I_call = quad(lambda x: Bachcallintegrand(x, d['S'], r, T, d['bach_sigma']), d['F'], 8000)\n",
    "    E_var_bach = 2*np.exp(r*T)*(I_put[0] + I_call[0])\n",
    "    print(f\"{d['ticker']}: {E_var_bach:.9f}\")"
   ]
  },
  {
   "cell_type": "markdown",
   "metadata": {},
   "source": [
    "### 2.2 Static Replication of European Payoff Model\n",
    "*using SABR model calibrated from Part 2*\n",
    "\n",
    "#### 2.2.1 Calibrated SABR model\n"
   ]
  },
  {
   "cell_type": "code",
   "execution_count": 17,
   "metadata": {},
   "outputs": [
    {
     "name": "stdout",
     "output_type": "stream",
     "text": [
      "==========  SABR params  ==========\n",
      "SPX:\n",
      "\t alpha \t 1.8165\n",
      "\t beta \t 0.7000\n",
      "\t rho \t -0.404\n",
      "\t nu \t 2.7902\n",
      "SPY:\n",
      "\t alpha \t 0.9081\n",
      "\t beta \t 0.7000\n",
      "\t rho \t -0.489\n",
      "\t nu \t 2.7285\n"
     ]
    }
   ],
   "source": [
    "print(10*\"=\", \" SABR params \", 10*\"=\")\n",
    "for d in [dict_spx, dict_spy]:\n",
    "    print(f\"{d['ticker']}:\")\n",
    "    print(f\"\\t alpha \\t {d['alpha']:.4f}\")\n",
    "    print(f\"\\t beta \\t {beta:.4f}\")\n",
    "    print(f\"\\t rho \\t {d['rho']:.3f}\")\n",
    "    print(f\"\\t nu \\t {d['nu']:.4f}\")"
   ]
  },
  {
   "cell_type": "markdown",
   "metadata": {},
   "source": [
    "\n",
    "\n",
    "#### 2.2.2 Valuation"
   ]
  },
  {
   "cell_type": "code",
   "execution_count": 18,
   "metadata": {},
   "outputs": [],
   "source": [
    "# Supporting funcs for SABR Variancer Swap\n",
    "def P2_sabrcallintegrand(K, S, r, T, alpha, beta, rho, nu):\n",
    "    \"\"\"\n",
    "    Function that incorporates integral h''(K) f(K) dK for call side\n",
    "    \"\"\"\n",
    "    price = SABRCall(S, K, r, alpha, beta, rho, nu, T) / (K**2)\n",
    "    return price\n",
    "\n",
    "\n",
    "def P2_sabrputintegrand(K, S, r, T, alpha, beta, rho, nu):\n",
    "    \"\"\"\n",
    "    Function that incorporates integral h''(K) f(K) dK for put side\n",
    "    \"\"\"\n",
    "    price = SABRPut(S, K, r, alpha, beta, rho, nu, T) / (K**2)\n",
    "    return price"
   ]
  },
  {
   "cell_type": "code",
   "execution_count": 19,
   "metadata": {},
   "outputs": [
    {
     "name": "stdout",
     "output_type": "stream",
     "text": [
      "==========  SABR expected integrated variance  ==========\n",
      "SPX: 0.006350163\n",
      "SPY: 0.006016098\n"
     ]
    }
   ],
   "source": [
    "print(10*\"=\", \" SABR expected integrated variance \", 10*\"=\")\n",
    "\n",
    "for d in [dict_spx, dict_spy]:\n",
    "    I_put = quad(lambda x: P2_sabrputintegrand(x, \n",
    "                                            d['S'], \n",
    "                                            r, \n",
    "                                            T, \n",
    "                                            d['alpha'], \n",
    "                                            beta,\n",
    "                                            d['rho'], \n",
    "                                            d['nu']), \n",
    "                1e-6, \n",
    "                d['F'])\n",
    "    I_call = quad(lambda x: P2_sabrcallintegrand(x, \n",
    "                                            d['S'], \n",
    "                                            r, \n",
    "                                            T, \n",
    "                                            d['alpha'], \n",
    "                                            beta,\n",
    "                                            d['rho'], \n",
    "                                            d['nu']), \n",
    "                d['F'], \n",
    "                8000)\n",
    "    E_var_bach = 2*np.exp(r*T)*(I_put[0] + I_call[0])\n",
    "    print(f\"{d['ticker']}: {E_var_bach:.9f}\")"
   ]
  }
 ],
 "metadata": {
  "kernelspec": {
   "display_name": "Python 3",
   "language": "python",
   "name": "python3"
  },
  "language_info": {
   "codemirror_mode": {
    "name": "ipython",
    "version": 3
   },
   "file_extension": ".py",
   "mimetype": "text/x-python",
   "name": "python",
   "nbconvert_exporter": "python",
   "pygments_lexer": "ipython3",
   "version": "3.12.0"
  }
 },
 "nbformat": 4,
 "nbformat_minor": 2
}
