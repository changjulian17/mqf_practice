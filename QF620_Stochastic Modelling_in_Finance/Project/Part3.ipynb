{
 "cells": [
  {
   "cell_type": "code",
   "execution_count": 1,
   "metadata": {},
   "outputs": [],
   "source": [
    "import pandas as pd\n",
    "import numpy as np\n",
    "from scipy.stats import norm\n",
    "from scipy.optimize import brentq, least_squares\n",
    "import matplotlib.pylab as plt\n",
    "import math\n"
   ]
  },
  {
   "cell_type": "code",
   "execution_count": 2,
   "metadata": {},
   "outputs": [],
   "source": [
    "def impliedVolatility(S, K, r, price, T, payoff):\n",
    "    try:\n",
    "        if (payoff.lower() == 'call'):\n",
    "            impliedVol = brentq(lambda x: price -\n",
    "                                BlackScholesLognormalCall(S, K, r, x, T),\n",
    "                                1e-12, 10.0)\n",
    "        elif (payoff.lower() == 'put'):\n",
    "            impliedVol = brentq(lambda x: price -\n",
    "                                BlackScholesLognormalPut(S, K, r, x, T),\n",
    "                                1e-12, 10.0)\n",
    "        else:\n",
    "            raise NameError('Payoff type not recognized')\n",
    "    except Exception:\n",
    "        impliedVol = np.nan\n",
    "\n",
    "    return impliedVol\n",
    "\n",
    "def bachelierImpliedVolatility(S, K, r, price, T, payoff):\n",
    "    try:\n",
    "        if (payoff.lower() == 'call'):\n",
    "            impliedVol = brentq(lambda x: price -\n",
    "                                BachelierCall(S, K, T, r, x),\n",
    "                                1e-12, 10.0)\n",
    "        elif (payoff.lower() == 'put'):\n",
    "            impliedVol = brentq(lambda x: price -\n",
    "                                BachelierPut(S, K, T, r, x),\n",
    "                                1e-12, 10.0)\n",
    "        else:\n",
    "            raise NameError('Payoff type not recognized')\n",
    "    except Exception:\n",
    "        impliedVol = np.nan\n",
    "\n",
    "    return impliedVol\n",
    "\n",
    "def preprocess_options_data(file_path):\n",
    "    \"\"\"\n",
    "    Preprocess options data by calculating mid-price, scaling strike prices, \n",
    "    and mapping call/put flags.\n",
    "\n",
    "    Parameters:\n",
    "    - file_path (str): Path to the CSV file containing options data.\n",
    "\n",
    "    Returns:\n",
    "    - DataFrame: Processed options data with 'mid', 'strike', and 'payoff' columns.\n",
    "    \"\"\"\n",
    "    df = pd.read_csv(file_path)\n",
    "    df['mid'] = 0.5 * (df['best_bid'] + df['best_offer'])\n",
    "    df['strike'] = df['strike_price'] * 0.001  # Adjusting strike price scale\n",
    "    df['payoff'] = df['cp_flag'].map(lambda x: 'call' if x == 'C' else 'put')\n",
    "    return df\n",
    "\n",
    "def BlackScholesLognormalCall(S, K, r, sigma, T):\n",
    "    d1 = (np.log(S/K)+(r+sigma**2/2)*T) / (sigma*np.sqrt(T))\n",
    "    d2 = d1 - sigma*np.sqrt(T)\n",
    "    return S*norm.cdf(d1) - K*np.exp(-r*T)*norm.cdf(d2)\n",
    "\n",
    "def BlackScholesLognormalPut(S, K, r, sigma, T):\n",
    "    d1 = (np.log(S/K)+(r+sigma**2/2)*T) / (sigma*np.sqrt(T))\n",
    "    d2 = d1 - sigma*np.sqrt(T)\n",
    "    return K*np.exp(-r*T)*norm.cdf(-d2) - S*norm.cdf(-d1)\n",
    "\n",
    "def BachelierCall(S0, K, T, r, sig)->tuple:\n",
    "    \"\"\"\n",
    "    Calculate the discounted Bachelier prices of European call options.\n",
    "    \"\"\"\n",
    "    d = (S0 - K)/(sig*T**.5)\n",
    "    \n",
    "    return math.exp(-r*T) * ( (S0 - K)*norm.cdf( d) + sig*T**.5*norm.pdf( d))\n",
    "\n",
    "def BachelierPut(S0, K, T, r, sig)->tuple:\n",
    "    \"\"\"\n",
    "    Calculate the discounted Bachelier prices of European put options.\n",
    "    \"\"\"\n",
    "    d = (S0 - K)/(sig*T**.5)\n",
    "    \n",
    "    return math.exp(-r*T) * (-(S0 - K)*norm.cdf(-d) + sig*T**.5*norm.pdf(-d))\n"
   ]
  },
  {
   "cell_type": "code",
   "execution_count": 3,
   "metadata": {},
   "outputs": [],
   "source": [
    "\n",
    "df_rates = pd.read_csv(\"zero_rates_20201201.csv\")\\\n",
    "            .sort_values('days')\n",
    "df_spx = preprocess_options_data(\"SPX_options.csv\")\n",
    "df_spy = preprocess_options_data(\"SPY_options.csv\")\n",
    "\n",
    "S_spx = 3662.45\n",
    "S_spy = 366.02\n",
    "exdate = 20210115\n",
    "days_to_expiry = (pd.Timestamp(str(exdate)) - pd.Timestamp('2020-12-01')).days\n",
    "r = np.interp(days_to_expiry, df_rates['days'].values, df_rates['rate'].values)\n",
    "T = days_to_expiry / 365\n"
   ]
  },
  {
   "cell_type": "markdown",
   "metadata": {},
   "source": [
    "# QF620 Project Part 3\n",
    "Suppose on 1-Dec-2020, we need to evaluate an exotic European derivative\n",
    "expiring on 15-Jan-2021\n",
    "## 1. Contract Payoff function\n",
    "Payoff function is\n",
    "\n",
    "$$\n",
    "S^{\\frac{1}{3}}_T + 1.5 \\times \\log(S_T) + 10.0\n",
    "\n",
    "$$"
   ]
  },
  {
   "cell_type": "markdown",
   "metadata": {},
   "source": [
    "\n",
    "### 1.1 Black-Scholes Model\n",
    "under Black-Scholes\n",
    "\n",
    "$$\n",
    "S_T = S_0 e^{(r - \\frac{\\sigma^2}{2})T + \\sigma W_T}\n",
    "\n",
    "$$\n",
    "\n",
    "Therefore\n",
    "\n",
    "$$\n",
    "\\begin{aligned}\n",
    "\n",
    "V_0 \n",
    "&= e^{-rT} \\mathbb{E}\n",
    "\\left[\n",
    "    {S_0 e^{\\frac{1}{3} (r - \\frac{\\sigma^2}{2})T + \\frac{1}{3} \\sigma W_T}}\n",
    "    + 1.5 \\times \\log(S_0 e^{(r - \\frac{\\sigma^2}{2})T \n",
    "    + \\sigma W_T}) + 10.0\n",
    "\\right] \\\\\n",
    "&= \n",
    "e^{-rT}\n",
    "\\left[\n",
    "{S_0 e^{\\frac{1}{3} (r - \\frac{\\sigma^2}{2})T}} \\mathbb{E}[{e^{\\frac{1}{3} \\sigma W_T}}] +\n",
    "\n",
    "\t 1.5 \\left[ \n",
    "\t\t \\log{S_0} + \\left(r - \\frac{\\sigma^2}{2} \\right) T  + \\mathbb{E}[\\sigma W_T] \n",
    "\t\\right]\n",
    "\t+\n",
    "\t10.0\n",
    "\\right]\n",
    "\\\\\\\\\n",
    "V_0\n",
    "&= \n",
    "e^{-rT}\n",
    "\\left[\n",
    "{S_0 e^{\\frac{1}{3} (r - \\frac{\\sigma^2}{3})T}} +\n",
    "\n",
    "\t 1.5 \\left[ \n",
    "\t\t \\log{S_0} + \\left(r - \\frac{\\sigma^2}{2} \\right) T \n",
    "\t\\right]\n",
    "\t+\n",
    "\t10.0\n",
    "\\right]\n",
    "\\\\\n",
    "\n",
    "\\end{aligned}\n",
    "$$"
   ]
  },
  {
   "cell_type": "markdown",
   "metadata": {},
   "source": [
    "\n",
    "#### 1.1.1 $\\sigma$ used\n",
    "There is many market implied volatilities \n",
    "We can try using ATM strike volatility to price as a risk neutral measure where $K = S_0 e^{rT}$\n"
   ]
  },
  {
   "cell_type": "markdown",
   "metadata": {},
   "source": [
    "\n",
    "##### 1.1.1.1 SPX "
   ]
  },
  {
   "cell_type": "code",
   "execution_count": 4,
   "metadata": {},
   "outputs": [],
   "source": [
    "F = S_spx * np.exp(r * T)\n",
    "# Filter for the current expiration date\n",
    "df_ex = df_spx[df_spx[\"exdate\"] == exdate].copy()\n",
    "\n",
    "# Filter and collect strikes and implied vols\n",
    "df_ex['vols'] = df_ex.apply(lambda x: impliedVolatility(S_spx, x['strike'], r, x['mid'], T, x['payoff']), axis=1)\n",
    "df_ex.dropna(inplace=True)\n",
    "call_df, put_df = df_ex[df_ex['payoff'] == 'call'], df_ex[df_ex['payoff'] == 'put']\n",
    "strikes = put_df['strike'].values\n",
    "impliedvols = [\n",
    "    call_df[call_df['strike'] == K]['vols'].values[0] \n",
    "        if K > S_spx else put_df[put_df['strike'] == K]['vols'].values[0]\n",
    "            for K in strikes\n",
    "]\n",
    "df_iv = pd.DataFrame({'strike': strikes, 'impliedvol': impliedvols})\n",
    "closest_strike = df_iv['strike'].iloc[(df_iv['strike'] - S_spx).abs().idxmin()]\n",
    "\n",
    "# get pricing vol for contract\n",
    "spx_ATM_implied_vol = df_iv[df_iv['strike'] == closest_strike]['impliedvol'].values[0]"
   ]
  },
  {
   "cell_type": "markdown",
   "metadata": {},
   "source": [
    "\n",
    "#### 1.1.2 Valuation\n"
   ]
  },
  {
   "cell_type": "code",
   "execution_count": 5,
   "metadata": {},
   "outputs": [
    {
     "data": {
      "text/plain": [
       "3619.3971131390895"
      ]
     },
     "execution_count": 5,
     "metadata": {},
     "output_type": "execute_result"
    }
   ],
   "source": [
    "np.exp(-r * T) *\\\n",
    "    (\n",
    "        S_spx * np.exp(1/3 * (r - (spx_ATM_implied_vol**2) / 3) * T) \\\n",
    "        + 1.5 * (np.log(S_spx) + (r - (spx_ATM_implied_vol**2) / 2) * T)\n",
    "        + 10\n",
    "\t)\n"
   ]
  },
  {
   "cell_type": "markdown",
   "metadata": {},
   "source": [
    "\n",
    "### 1.2 Bachelier Model\n",
    "\n",
    "$$\n",
    "dS_T = \\mu dt + \\sigma dW_t\n",
    "$$\n",
    "$$\n",
    "S_T = S_0 + \\mu T + \\sigma W_T\n",
    "$$\n"
   ]
  },
  {
   "cell_type": "markdown",
   "metadata": {},
   "source": [
    "#### 1.2.1 $\\sigma$ used\n"
   ]
  },
  {
   "cell_type": "code",
   "execution_count": 6,
   "metadata": {},
   "outputs": [],
   "source": [
    "ATM_put = df_ex[(df_ex['strike'] == closest_strike) & (df_ex['payoff'] == 'put')]"
   ]
  },
  {
   "cell_type": "code",
   "execution_count": 7,
   "metadata": {},
   "outputs": [
    {
     "data": {
      "text/html": [
       "<div>\n",
       "<style scoped>\n",
       "    .dataframe tbody tr th:only-of-type {\n",
       "        vertical-align: middle;\n",
       "    }\n",
       "\n",
       "    .dataframe tbody tr th {\n",
       "        vertical-align: top;\n",
       "    }\n",
       "\n",
       "    .dataframe thead th {\n",
       "        text-align: right;\n",
       "    }\n",
       "</style>\n",
       "<table border=\"1\" class=\"dataframe\">\n",
       "  <thead>\n",
       "    <tr style=\"text-align: right;\">\n",
       "      <th></th>\n",
       "      <th>date</th>\n",
       "      <th>exdate</th>\n",
       "      <th>cp_flag</th>\n",
       "      <th>strike_price</th>\n",
       "      <th>best_bid</th>\n",
       "      <th>best_offer</th>\n",
       "      <th>exercise_style</th>\n",
       "      <th>mid</th>\n",
       "      <th>strike</th>\n",
       "      <th>payoff</th>\n",
       "      <th>vols</th>\n",
       "    </tr>\n",
       "  </thead>\n",
       "  <tbody>\n",
       "    <tr>\n",
       "      <th>1478</th>\n",
       "      <td>20201201</td>\n",
       "      <td>20210115</td>\n",
       "      <td>P</td>\n",
       "      <td>3660000</td>\n",
       "      <td>94.8</td>\n",
       "      <td>95.5</td>\n",
       "      <td>E</td>\n",
       "      <td>95.15</td>\n",
       "      <td>3660.0</td>\n",
       "      <td>put</td>\n",
       "      <td>0.270597</td>\n",
       "    </tr>\n",
       "  </tbody>\n",
       "</table>\n",
       "</div>"
      ],
      "text/plain": [
       "          date    exdate cp_flag  strike_price  best_bid  best_offer  \\\n",
       "1478  20201201  20210115       P       3660000      94.8        95.5   \n",
       "\n",
       "     exercise_style    mid  strike payoff      vols  \n",
       "1478              E  95.15  3660.0    put  0.270597  "
      ]
     },
     "execution_count": 7,
     "metadata": {},
     "output_type": "execute_result"
    }
   ],
   "source": [
    "ATM_put"
   ]
  },
  {
   "cell_type": "code",
   "execution_count": null,
   "metadata": {},
   "outputs": [],
   "source": [
    "bachelier_sigma = brentq(lambda x: 95.15 - BachelierCall(S_spx, 3660, T, r, x),\n",
    "                                1e-12, 1000)"
   ]
  },
  {
   "cell_type": "markdown",
   "metadata": {},
   "source": [
    "\n",
    "#### 1.2.2 Valuation\n"
   ]
  },
  {
   "cell_type": "code",
   "execution_count": 9,
   "metadata": {},
   "outputs": [
    {
     "name": "stdout",
     "output_type": "stream",
     "text": [
      "The estimated price of the derivative contract is: 36.7698\n"
     ]
    }
   ],
   "source": [
    "import numpy as np\n",
    "\n",
    "# Parameters\n",
    "S0 = S_spx        # Initial stock price\n",
    "sigma = bachelier_sigma     # Volatility in the Bachelier model\n",
    "num_simulations = 100000  # Number of Monte Carlo simulations\n",
    "\n",
    "# Simulate end prices S_T under Bachelier model\n",
    "# S_T = S0 + (r * T) + sigma * sqrt(T) * Z\n",
    "Z = np.random.normal(0, 1, num_simulations)\n",
    "S_T = S0 + r * T + sigma * np.sqrt(T) * Z\n",
    "\n",
    "# Calculate payoff for each simulated S_T\n",
    "payoffs = S_T**(1/3) + 1.5 * np.log(S_T) + 10.0\n",
    "\n",
    "# Discount the expected payoff\n",
    "discounted_payoff = np.exp(-r * T) * np.mean(payoffs)\n",
    "\n",
    "print(f\"The estimated price of the derivative contract is: {discounted_payoff:.4f}\")"
   ]
  },
  {
   "cell_type": "markdown",
   "metadata": {},
   "source": [
    "\n",
    "### 1.2 Static Replication of European Payoff Model\n",
    "*using SABR model calibrated from Part 2*\n",
    "#### 1.2.1 Calibrated SABR model\n",
    "SPX: Exdate 20210115: alpha = 1.817, rho = -0.404, nu = 2.790\n",
    "\n",
    "SPY: Exdate 20210115: alpha = 0.908, rho = -0.489, nu = 2.729\n",
    "#### 1.2.2 Valuation\n",
    "\n",
    "## 2. Variance Swap\n",
    "### 2.1 Black-Scholes Model\n",
    "#### 2.1.1 $\\sigma$ used\n",
    "#### 2.1.2 Valuation\n",
    "\n",
    "### 2.2 Bachelier Model\n",
    "#### 2.2.1 $\\sigma$ used\n",
    "#### 2.2.2 Valuation\n",
    "\n",
    "### 2.2 Static Replication of European Payoff Model\n",
    "*using SABR model calibrated from Part 2*\n",
    "#### 2.2.1 Calibrated SABR model\n",
    "#### 2.2.2 Valuation"
   ]
  },
  {
   "cell_type": "markdown",
   "metadata": {},
   "source": []
  }
 ],
 "metadata": {
  "kernelspec": {
   "display_name": "Python 3",
   "language": "python",
   "name": "python3"
  },
  "language_info": {
   "codemirror_mode": {
    "name": "ipython",
    "version": 3
   },
   "file_extension": ".py",
   "mimetype": "text/x-python",
   "name": "python",
   "nbconvert_exporter": "python",
   "pygments_lexer": "ipython3",
   "version": "3.9.13"
  }
 },
 "nbformat": 4,
 "nbformat_minor": 2
}
