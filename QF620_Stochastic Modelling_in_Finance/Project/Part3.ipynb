{
 "cells": [
  {
   "cell_type": "code",
   "execution_count": 1,
   "metadata": {},
   "outputs": [],
   "source": [
    "import pandas as pd\n",
    "import numpy as np\n",
    "from scipy.stats import norm\n",
    "from scipy.integrate import quad\n",
    "from scipy.optimize import brentq, least_squares\n",
    "import matplotlib.pylab as plt\n",
    "import math\n",
    "\n",
    "\n"
   ]
  },
  {
   "cell_type": "code",
   "execution_count": 2,
   "metadata": {},
   "outputs": [],
   "source": [
    "def impliedVolatility(S, K, r, price, T, payoff):\n",
    "    try:\n",
    "        if (payoff.lower() == 'call'):\n",
    "            impliedVol = brentq(lambda x: price -\n",
    "                                BlackScholesLognormalCall(S, K, r, x, T),\n",
    "                                1e-12, 10.0)\n",
    "        elif (payoff.lower() == 'put'):\n",
    "            impliedVol = brentq(lambda x: price -\n",
    "                                BlackScholesLognormalPut(S, K, r, x, T),\n",
    "                                1e-12, 10.0)\n",
    "        else:\n",
    "            raise NameError('Payoff type not recognized')\n",
    "    except Exception:\n",
    "        impliedVol = np.nan\n",
    "\n",
    "    return impliedVol\n",
    "\n",
    "def preprocess_options_data(file_path):\n",
    "    \"\"\"\n",
    "    Preprocess options data by calculating mid-price, scaling strike prices, \n",
    "    and mapping call/put flags.\n",
    "\n",
    "    Parameters:\n",
    "    - file_path (str): Path to the CSV file containing options data.\n",
    "\n",
    "    Returns:\n",
    "    - DataFrame: Processed options data with 'mid', 'strike', and 'payoff' columns.\n",
    "    \"\"\"\n",
    "    df = pd.read_csv(file_path)\n",
    "    df['mid'] = 0.5 * (df['best_bid'] + df['best_offer'])\n",
    "    df['strike'] = df['strike_price'] * 0.001  # Adjusting strike price scale\n",
    "    df['payoff'] = df['cp_flag'].map(lambda x: 'call' if x == 'C' else 'put')\n",
    "    return df\n",
    "\n",
    "def BlackScholesLognormalCall(S, K, r, sigma, T):\n",
    "    d1 = (np.log(S/K)+(r+sigma**2/2)*T) / (sigma*np.sqrt(T))\n",
    "    d2 = d1 - sigma*np.sqrt(T)\n",
    "    return S*norm.cdf(d1) - K*np.exp(-r*T)*norm.cdf(d2)\n",
    "\n",
    "def BlackScholesLognormalPut(S, K, r, sigma, T):\n",
    "    d1 = (np.log(S/K)+(r+sigma**2/2)*T) / (sigma*np.sqrt(T))\n",
    "    d2 = d1 - sigma*np.sqrt(T)\n",
    "    return K*np.exp(-r*T)*norm.cdf(-d2) - S*norm.cdf(-d1)\n",
    "\n",
    "def BachelierCall(S0, K, T, r, sig)->tuple:\n",
    "    \"\"\"\n",
    "    Calculate the discounted Bachelier prices of European call options.\n",
    "    \"\"\"\n",
    "    d = (S0 - K)/(sig*T**.5)\n",
    "    \n",
    "    return math.exp(-r*T) * ( (S0 - K)*norm.cdf( d) + sig*T**.5*norm.pdf( d))\n",
    "\n",
    "def BachelierPut(S0, K, T, r, sig)->tuple:\n",
    "    \"\"\"\n",
    "    Calculate the discounted Bachelier prices of European put options.\n",
    "    \"\"\"\n",
    "    d = (S0 - K)/(sig*T**.5)\n",
    "    \n",
    "    return math.exp(-r*T) * (-(S0 - K)*norm.cdf(-d) + sig*T**.5*norm.pdf(-d))\n",
    "\n",
    "def SABR(F, K, T, alpha, beta, rho, nu):\n",
    "    \"\"\"\n",
    "    Use SABR model to return sigma \n",
    "    \"\"\"\n",
    "\n",
    "    X = K\n",
    "    # if K is at-the-money-forward\n",
    "    if abs(F - K) < 1e-12:\n",
    "        numer1 = (((1 - beta)**2)/24)*alpha*alpha/(F**(2 - 2*beta))\n",
    "        numer2 = 0.25*rho*beta*nu*alpha/(F**(1 - beta))\n",
    "        numer3 = ((2 - 3*rho*rho)/24)*nu*nu\n",
    "        VolAtm = alpha*(1 + (numer1 + numer2 + numer3)*T)/(F**(1-beta))\n",
    "        sabrsigma = VolAtm\n",
    "    else:\n",
    "        z = (nu/alpha)*((F*X)**(0.5*(1-beta)))*np.log(F/X)\n",
    "        zhi = np.log((((1 - 2*rho*z + z*z)**0.5) + z - rho)/(1 - rho))\n",
    "        numer1 = (((1 - beta)**2)/24)*((alpha*alpha)/((F*X)**(1 - beta)))\n",
    "        numer2 = 0.25*rho*beta*nu*alpha/((F*X)**((1 - beta)/2))\n",
    "        numer3 = ((2 - 3*rho*rho)/24)*nu*nu\n",
    "        numer = alpha*(1 + (numer1 + numer2 + numer3)*T)*z\n",
    "        denom1 = ((1 - beta)**2/24)*(np.log(F/X))**2\n",
    "        denom2 = (((1 - beta)**4)/1920)*((np.log(F/X))**4)\n",
    "        denom = ((F*X)**((1 - beta)/2))*(1 + denom1 + denom2)*zhi\n",
    "        sabrsigma = numer/denom\n",
    "\n",
    "    return sabrsigma"
   ]
  },
  {
   "cell_type": "code",
   "execution_count": 3,
   "metadata": {},
   "outputs": [],
   "source": [
    "df_rates = pd.read_csv(\"zero_rates_20201201.csv\")\\\n",
    "            .sort_values('days')\n",
    "df_spx = preprocess_options_data(\"SPX_options.csv\")\n",
    "df_spy = preprocess_options_data(\"SPY_options.csv\")\n",
    "\n",
    "\n",
    "exdate = 20210115\n",
    "days_to_expiry = (pd.Timestamp(str(exdate)) - pd.Timestamp('2020-12-01')).days\n",
    "r = np.interp(days_to_expiry, df_rates['days'].values, df_rates['rate'].values)\n",
    "T = days_to_expiry / 365\n",
    "S_spx, K_spx = 3662.45, 3660\n",
    "S_spy, K_spy= 366.02, 366\n",
    "F_spx, F_spy = S_spx * np.exp(r * T), S_spy * np.exp(r * T)\n",
    "\n",
    "# calculate get ATM params\n",
    "df_spx_atm = df_spx[(df_spx['exdate']==exdate)& \\\n",
    "                    (df_spx['strike']==K_spx)& \\\n",
    "                    (df_spx['payoff']=='put')]\n",
    "df_spy_atm = df_spy[(df_spy['exdate']==exdate)& \\\n",
    "                    (df_spy['strike']==K_spy)& \\\n",
    "                    (df_spy['payoff']=='put')]\n",
    "\n",
    "# SABR constants\n",
    "beta = 0.7\n",
    "dict_spx = {'ticker': 'SPX', \n",
    "            'F': F_spx, \n",
    "            'K': K_spx, \n",
    "            'alpha': 1.817, \n",
    "            'rho': -0.404, \n",
    "            'nu': 2.790}\n",
    "dict_spy = {'ticker': 'SPY', \n",
    "            'F': F_spy, \n",
    "            'K': K_spy,\n",
    "            'alpha': 0.908, \n",
    "            'rho': -0.489, \n",
    "            'nu': 2.729}"
   ]
  },
  {
   "cell_type": "markdown",
   "metadata": {},
   "source": [
    "# QF620 Project Part 3\n",
    "Suppose on 1-Dec-2020, we need to evaluate an exotic European derivative\n",
    "expiring on 15-Jan-2021\n",
    "## 1. Contract Payoff function\n",
    "Payoff function is\n",
    "\n",
    "$$\n",
    "S^{\\frac{1}{3}}_T + 1.5 \\times \\log(S_T) + 10.0\n",
    "\n",
    "$$"
   ]
  },
  {
   "cell_type": "markdown",
   "metadata": {},
   "source": [
    "\n",
    "### 1.1 Black-Scholes Model\n",
    "under Black-Scholes\n",
    "\n",
    "$$\n",
    "S_T = S_0 e^{(r - \\frac{\\sigma^2}{2})T + \\sigma W_T}\n",
    "\n",
    "$$\n",
    "\n",
    "Therefore\n",
    "\n",
    "$$\n",
    "\\begin{aligned}\n",
    "\n",
    "V_0 \n",
    "&= e^{-rT} \\mathbb{E}\n",
    "\\left[\n",
    "    {S_0 e^{\\frac{1}{3} (r - \\frac{\\sigma^2}{2})T + \\frac{1}{3} \\sigma W_T}}\n",
    "    + 1.5 \\times \\log(S_0 e^{(r - \\frac{\\sigma^2}{2})T \n",
    "    + \\sigma W_T}) + 10.0\n",
    "\\right] \\\\\n",
    "&= \n",
    "e^{-rT}\n",
    "\\left[\n",
    "{S_0 e^{\\frac{1}{3} (r - \\frac{\\sigma^2}{2})T}} \\mathbb{E}[{e^{\\frac{1}{3} \\sigma W_T}}] +\n",
    "\n",
    "\t 1.5 \\left[ \n",
    "\t\t \\log{S_0} + \\left(r - \\frac{\\sigma^2}{2} \\right) T  + \\mathbb{E}[\\sigma W_T] \n",
    "\t\\right]\n",
    "\t+\n",
    "\t10.0\n",
    "\\right]\n",
    "\\\\\\\\\n",
    "V_0\n",
    "&= \n",
    "e^{-rT}\n",
    "\\left[\n",
    "{S_0 e^{\\frac{1}{3} (r - \\frac{\\sigma^2}{3})T}} +\n",
    "\n",
    "\t 1.5 \\left[ \n",
    "\t\t \\log{S_0} + \\left(r - \\frac{\\sigma^2}{2} \\right) T \n",
    "\t\\right]\n",
    "\t+\n",
    "\t10.0\n",
    "\\right]\n",
    "\\\\\n",
    "\n",
    "\\end{aligned}\n",
    "$$"
   ]
  },
  {
   "cell_type": "markdown",
   "metadata": {},
   "source": [
    "\n",
    "#### 1.1.1 $\\sigma$ used\n",
    "There is many market implied volatilities \n",
    "We can try using ATM strike volatility $K = S_0$\n"
   ]
  },
  {
   "cell_type": "markdown",
   "metadata": {},
   "source": [
    "\n",
    "##### 1.1.1.1 SPX "
   ]
  },
  {
   "cell_type": "code",
   "execution_count": 18,
   "metadata": {},
   "outputs": [
    {
     "name": "stdout",
     "output_type": "stream",
     "text": [
      "SPX ATM implied vol: 0.27060\n",
      "SPY ATM implied vol: 0.28043\n"
     ]
    }
   ],
   "source": [
    "spx_ATM_implied_vol = impliedVolatility(S_spx, K_spx, r, df_spx_atm['mid'].values[0], T, 'put')\n",
    "spy_ATM_implied_vol = impliedVolatility(S_spy, K_spy, r, df_spy_atm['mid'].values[0], T, 'put')\n",
    "\n",
    "print(10*\"=\", \" Black-Scholes \", 10*\"=\")\n",
    "print(f\"SPX ATM implied vol: {spx_ATM_implied_vol:.5f}\")\n",
    "print(f\"SPY ATM implied vol: {spy_ATM_implied_vol:.5f}\")"
   ]
  },
  {
   "cell_type": "markdown",
   "metadata": {},
   "source": [
    "\n",
    "#### 1.1.2 Valuation\n"
   ]
  },
  {
   "cell_type": "code",
   "execution_count": 19,
   "metadata": {},
   "outputs": [
    {
     "name": "stdout",
     "output_type": "stream",
     "text": [
      "SPX: Black-Scholes Price $3619.40\n",
      "SPY: Black-Scholes Price $377.93\n"
     ]
    }
   ],
   "source": [
    "spx_bs_px = np.exp(-r * T) *\\\n",
    "    (\n",
    "        S_spx * np.exp(1/3 * (r - (spx_ATM_implied_vol**2) / 3) * T) \\\n",
    "        + 1.5 * (np.log(S_spx) + (r - (spx_ATM_implied_vol**2) / 2) * T)\n",
    "        + 10\n",
    "\t)\n",
    "\n",
    "spy_bs_px = np.exp(-r * T) *\\\n",
    "    (\n",
    "        S_spy * np.exp(1/3 * (r - (spy_ATM_implied_vol**2) / 3) * T) \\\n",
    "        + 1.5 * (np.log(S_spy) + (r - (spy_ATM_implied_vol**2) / 2) * T)\n",
    "        + 10\n",
    "\t)\n",
    "\n",
    "print(10*\"=\", \" Black-Scholes \", 10*\"=\")\n",
    "print(f\"SPX: Black-Scholes Price ${spx_bs_px:.2f}\")\n",
    "print(f\"SPY: Black-Scholes Price ${spy_bs_px:.2f}\")"
   ]
  },
  {
   "cell_type": "markdown",
   "metadata": {},
   "source": [
    "\n",
    "### 1.2 Bachelier Model\n",
    "\n",
    "$$\n",
    "dS_T = \\mu dt + \\sigma dW_t\n",
    "$$\n",
    "$$\n",
    "S_T = S_0 + \\mu T + \\sigma W_T\n",
    "$$\n"
   ]
  },
  {
   "cell_type": "markdown",
   "metadata": {},
   "source": [
    "#### 1.2.1 $\\sigma$ used\n"
   ]
  },
  {
   "cell_type": "code",
   "execution_count": 24,
   "metadata": {},
   "outputs": [
    {
     "name": "stdout",
     "output_type": "stream",
     "text": [
      "==========  Bachelier  ==========\n",
      "SPX ATM implied vol: 687.87969\n",
      "SPY ATM implied vol: 73.73137\n"
     ]
    }
   ],
   "source": [
    "spx_bachelier_sigma = brentq(lambda x: df_spx_atm['mid'] - BachelierCall(S_spx, K_spx, T, r, x),\n",
    "                                1e-12, 1000)\n",
    "spy_bachelier_sigma = brentq(lambda x: df_spy_atm['mid'] - BachelierCall(S_spy, K_spy, T, r, x),\n",
    "                                1e-12, 1000)\n",
    "print(10*\"=\", \" Bachelier \", 10*\"=\")\n",
    "print(f\"SPX ATM implied vol: {spx_bachelier_sigma:.5f}\")\n",
    "print(f\"SPY ATM implied vol: {spy_bachelier_sigma:.5f}\")"
   ]
  },
  {
   "cell_type": "markdown",
   "metadata": {},
   "source": [
    "\n",
    "#### 1.2.2 Valuation\n"
   ]
  },
  {
   "cell_type": "code",
   "execution_count": 34,
   "metadata": {},
   "outputs": [
    {
     "name": "stdout",
     "output_type": "stream",
     "text": [
      "==========  Bachelier  ==========\n",
      "The estimated price of the derivative contract is: $36.77\n"
     ]
    }
   ],
   "source": [
    "S0 = S_spx        # Initial stock price\n",
    "sigma = spx_bachelier_sigma     # Volatility in the Bachelier model\n",
    "num_simulations = 10**8  # Number of Monte Carlo simulations\n",
    "\n",
    "# Simulate end prices S_T under Bachelier model\n",
    "# S_T = S0 + (r * T) + sigma * sqrt(T) * Z\n",
    "Z = np.random.normal(0, 1, num_simulations)\n",
    "S_T = S0 + r * T + sigma * np.sqrt(T) * Z\n",
    "\n",
    "# Calculate payoff for each simulated S_T\n",
    "payoffs = S_T**(1/3) + 1.5 * np.log(S_T) + 10.0\n",
    "\n",
    "# Discount the expected payoff\n",
    "discounted_payoff = np.exp(-r * T) * np.mean(payoffs)\n",
    "\n",
    "print(10*\"=\", \" Bachelier \", 10*\"=\")\n",
    "print(f\"The estimated price of the derivative contract is: ${discounted_payoff:.2f}\")"
   ]
  },
  {
   "cell_type": "code",
   "execution_count": 43,
   "metadata": {},
   "outputs": [
    {
     "data": {
      "image/png": "[encoded data removed]",
      "text/plain": [
       "<Figure size 640x480 with 1 Axes>"
      ]
     },
     "metadata": {},
     "output_type": "display_data"
    }
   ],
   "source": [
    "plt.hist(payoffs, bins=100);"
   ]
  },
  {
   "cell_type": "code",
   "execution_count": 44,
   "metadata": {},
   "outputs": [
    {
     "data": {
      "text/plain": [
       "'Bachelier Price $40.10'"
      ]
     },
     "execution_count": 44,
     "metadata": {},
     "output_type": "execute_result"
    }
   ],
   "source": [
    "f\"Bachelier Price ${payoffs.max():.2f}\"\n",
    "\n",
    "# TODO get for SPY"
   ]
  },
  {
   "cell_type": "code",
   "execution_count": 41,
   "metadata": {},
   "outputs": [
    {
     "data": {
      "text/plain": [
       "array([36.79164416, 38.0002765 , 38.36388031, ..., 37.29682439,\n",
       "       37.35578771, 38.00107453])"
      ]
     },
     "execution_count": 41,
     "metadata": {},
     "output_type": "execute_result"
    }
   ],
   "source": [
    "payoffs"
   ]
  },
  {
   "cell_type": "markdown",
   "metadata": {},
   "source": [
    "payoffs"
   ]
  },
  {
   "cell_type": "markdown",
   "metadata": {},
   "source": [
    "\n",
    "### 1.2 Static Replication of European Payoff Model\n",
    "*using SABR model calibrated from Part 2*\n",
    "\n",
    "\n",
    "##### Carr-Madan Static Replication formula\n",
    "$$\n",
    "V_0 = e^{-rT} h(F) + \\int_{0}^{F} h''(K) P(K) \\, dK + \\int_{F}^{\\infty} h''(K) C(K) \\, dK\n",
    "$$\n",
    "#### 1.2.1 Calibrated SABR model\n",
    "SPX: Exdate 20210115: alpha = 1.817, rho = -0.404, nu = 2.790\n",
    "\n",
    "SPY: Exdate 20210115: alpha = 0.908, rho = -0.489, nu = 2.729\n",
    "#### 1.2.2 Valuation\n",
    "$$\n",
    "S^{1/3}_T + 1.5 \\times \\log(S_T) + 10.0\n",
    "$$\n",
    "$$\n",
    "h'(S_T) = \\frac{1}{3} {S_T}^{-\\frac{2}{3}} + 1.5 \\frac{1}{S_T} \\quad h''(S_T) = -\\frac{2}{9} {S_T}^{-\\frac{5}{3}} - 1.5 \\frac{1}{{S_T}^2}\n",
    "$$\n",
    "\n",
    "$$\n",
    "\n",
    "V_0 \n",
    "= \n",
    "e^{-rT} \\left[ K^{\\frac{1}{3}} + 1.5 \\times \\log(K) + 10.0 \\right]\n",
    "    + \\int_{0}^{F} \\left( -\\frac{2}{9} {K}^{-\\frac{5}{3}} - 1.5 \\frac{1}{{K}^2} \\right) P(K) dK\n",
    "        + \\int_{F}^{\\infty} \\left( -\\frac{2}{9} {K}^{-\\frac{5}{3}} - 1.5 \\frac{1}{{K}^2} \\right) C(K) dK\n",
    "\n",
    "$$\n",
    "\n"
   ]
  },
  {
   "cell_type": "code",
   "execution_count": 16,
   "metadata": {},
   "outputs": [
    {
     "name": "stdout",
     "output_type": "stream",
     "text": [
      "The expected replicated price is: 36.77\n"
     ]
    }
   ],
   "source": [
    "def BlackScholesCall(S, K, r, sigma, T):\n",
    "    d1 = (np.log(S/K)+(r+sigma**2/2)*T) / (sigma*np.sqrt(T))\n",
    "    d2 = d1 - sigma*np.sqrt(T)\n",
    "    return S*norm.cdf(d1) - K*np.exp(-r*T)*norm.cdf(d2)\n",
    "\n",
    "\n",
    "def BlackScholesPut(S, K, r, sigma, T):\n",
    "    return BlackScholesCall(S, K, r, sigma, T) - S + K*np.exp(-r*T)\n",
    "\n",
    "def SABRCall(S, K, r, alpha, beta, rho, nu, T):\n",
    "    sabr_vol = SABR(S*np.exp(r*T), K, T, alpha, beta, rho, nu)\n",
    "    return BlackScholesCall(S, K, r, sabr_vol, T)\n",
    "\n",
    "\n",
    "def SABRPut(S, K, r, alpha, beta, rho, nu, T):\n",
    "    sabr_vol = SABR(S*np.exp(r*T), K, T, alpha, beta, rho, nu)\n",
    "    return BlackScholesPut(S, K, r, sabr_vol, T)\n",
    "\n",
    "def h_double_prime(K):\n",
    "    h_pp = -2 / 9*K**(-5/3) - 1.5 / (K**2)\n",
    "    return h_pp\n",
    "\n",
    "def sabrcallintegrand(K, S, r, T, alpha, beta, rho, nu):\n",
    "    \"\"\"\n",
    "    Function that incorporates integral h''(K) f(K) dK for call side\n",
    "    \"\"\"\n",
    "    price = SABRCall(S, K, r, alpha, beta, rho, nu, T) * h_double_prime(K)\n",
    "    return price\n",
    "\n",
    "\n",
    "def sabrputintegrand(K, S, r, T, alpha, beta, rho, nu):\n",
    "    \"\"\"\n",
    "    Function that incorporates integral h''(K) f(K) dK for put side\n",
    "    \"\"\"\n",
    "    price = SABRPut(S, K, r, alpha, beta, rho, nu, T) * h_double_prime(K)\n",
    "    return price\n",
    "\n",
    "\n",
    "S = S_spx\n",
    "alpha = dict_spx['alpha']\n",
    "rho = dict_spx['rho']\n",
    "nu = dict_spx['nu']\n",
    "F = dict_spx['F']\n",
    "I_put = quad(lambda x: sabrputintegrand(x, S, r, T, alpha, beta, rho, nu), 1e-6, F)\n",
    "I_call = quad(lambda x: sabrcallintegrand(x, S, r, T, alpha, beta, rho, nu), F, 5000)\n",
    "E_v = np.exp(-r*T) * (S**(1/3) + 1.5 * np.log(S) + 10) + I_put + I_call\n",
    "print('The expected replicated price is: %.2f' % E_v[0])\n",
    "\n"
   ]
  },
  {
   "cell_type": "code",
   "execution_count": 14,
   "metadata": {},
   "outputs": [
    {
     "data": {
      "text/plain": [
       "{'F': 3756.2441250350075, 'K': 3660, 'alpha': 1.817, 'rho': -0.404, 'nu': 2.79}"
      ]
     },
     "execution_count": 14,
     "metadata": {},
     "output_type": "execute_result"
    }
   ],
   "source": [
    "dict_spx"
   ]
  },
  {
   "cell_type": "markdown",
   "metadata": {},
   "source": [
    "\n",
    "## 2. Variance Swap\n",
    "### 2.1 Black-Scholes Model\n",
    "#### 2.1.1 $\\sigma$ used\n",
    "#### 2.1.2 Valuation\n",
    "\n",
    "### 2.2 Bachelier Model\n",
    "#### 2.2.1 $\\sigma$ used\n",
    "#### 2.2.2 Valuation\n",
    "\n",
    "### 2.2 Static Replication of European Payoff Model\n",
    "*using SABR model calibrated from Part 2*\n",
    "#### 2.2.1 Calibrated SABR model\n",
    "#### 2.2.2 Valuation"
   ]
  },
  {
   "cell_type": "markdown",
   "metadata": {},
   "source": []
  }
 ],
 "metadata": {
  "kernelspec": {
   "display_name": "Python 3",
   "language": "python",
   "name": "python3"
  },
  "language_info": {
   "codemirror_mode": {
    "name": "ipython",
    "version": 3
   },
   "file_extension": ".py",
   "mimetype": "text/x-python",
   "name": "python",
   "nbconvert_exporter": "python",
   "pygments_lexer": "ipython3",
   "version": "3.9.13"
  }
 },
 "nbformat": 4,
 "nbformat_minor": 2
}
