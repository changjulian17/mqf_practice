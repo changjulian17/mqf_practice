{
 "cells": [
  {
   "cell_type": "markdown",
   "metadata": {},
   "source": [
    "In this notebook we explain how do we implement the SABR stochastic volatility model, and how to plot the implied volatility curve based on SABR models. We shall also review how to calibrate a model to the market data."
   ]
  },
  {
   "cell_type": "markdown",
   "metadata": {},
   "source": [
    "First, we shall implement the SABR model. The implied Black volatility of the SABR model is given by\n",
    "  \\begin{equation*}\n",
    "    \\begin{split}\n",
    "      &\\sigma_{\\mbox{SABR}}(F_0, K, \\alpha, \\beta, \\rho, \\nu) \\\\\n",
    "      &= \\frac{\\alpha}{(F_0K)^{(1-\\beta)/2}\\left\\{ 1 + \\frac{(1-\\beta)^2}{24}\\log^2\\left(\\frac{F_0}{K}\\right) + \\frac{(1-\\beta)^4}{1920}\\log^4\\left(\\frac{F_0}{K}\\right) + \\cdots\\right\\} } \\\\\n",
    "      &\\;\\;\\;\\times \\frac{z}{x(z)} \\times \\left\\{ 1 + \\left[\n",
    "          \\frac{(1-\\beta)^2}{24}\n",
    "          \\frac{\\alpha^2}{(F_0K)^{1-\\beta}}+\\frac{1}{4}\\frac{\\rho\\beta\\nu\\alpha}{(F_0K)^{(1-\\beta)/2}}+\\frac{2-3\\rho^2}{24}\\nu^2\\right]\n",
    "        T + \\cdots \\right.\n",
    "    \\end{split}\n",
    "  \\end{equation*}\n",
    "  where\n",
    "  \\begin{equation*}\n",
    "    \\begin{split}\n",
    "      z = \\frac{\\nu}{\\alpha} (F_0K)^{(1-\\beta)/2}\n",
    "      \\log\\left(\\frac{F_0}{K}\\right),\n",
    "    \\end{split}\n",
    "  \\end{equation*}\n",
    "  and\n",
    "  \\begin{equation*}\n",
    "    \\begin{split}\n",
    "      x(z) = \\log \\left[ \\frac{\\sqrt{1-2\\rho z+z^2}+z -\\rho}{1-\\rho}\n",
    "      \\right].\n",
    "    \\end{split}\n",
    "  \\end{equation*}\n",
    "\n",
    "This can be implemented in Python as follows:"
   ]
  },
  {
   "cell_type": "code",
   "execution_count": 8,
   "metadata": {},
   "outputs": [],
   "source": [
    "import pandas as pd\n",
    "import numpy as np\n",
    "from scipy.stats import norm\n",
    "from scipy.optimize import brentq\n",
    "import matplotlib.pylab as plt\n",
    "\n",
    "\n",
    "def SABR(F, K, T, alpha, beta, rho, nu):\n",
    "    X = K\n",
    "    # if K is at-the-money-forward\n",
    "    if abs(F - K) < 1e-12:\n",
    "        numer1 = (((1 - beta)**2)/24)*alpha*alpha/(F**(2 - 2*beta))\n",
    "        numer2 = 0.25*rho*beta*nu*alpha/(F**(1 - beta))\n",
    "        numer3 = ((2 - 3*rho*rho)/24)*nu*nu\n",
    "        VolAtm = alpha*(1 + (numer1 + numer2 + numer3)*T)/(F**(1-beta))\n",
    "        sabrsigma = VolAtm\n",
    "    else:\n",
    "        z = (nu/alpha)*((F*X)**(0.5*(1-beta)))*np.log(F/X)\n",
    "        zhi = np.log((((1 - 2*rho*z + z*z)**0.5) + z - rho)/(1 - rho))\n",
    "        numer1 = (((1 - beta)**2)/24)*((alpha*alpha)/((F*X)**(1 - beta)))\n",
    "        numer2 = 0.25*rho*beta*nu*alpha/((F*X)**((1 - beta)/2))\n",
    "        numer3 = ((2 - 3*rho*rho)/24)*nu*nu\n",
    "        numer = alpha*(1 + (numer1 + numer2 + numer3)*T)*z\n",
    "        denom1 = ((1 - beta)**2/24)*(np.log(F/X))**2\n",
    "        denom2 = (((1 - beta)**4)/1920)*((np.log(F/X))**4)\n",
    "        denom = ((F*X)**((1 - beta)/2))*(1 + denom1 + denom2)*zhi\n",
    "        sabrsigma = numer/denom\n",
    "\n",
    "    return sabrsigma\n"
   ]
  },
  {
   "cell_type": "markdown",
   "metadata": {},
   "source": [
    "To plot the implied volatility smile for the normal (Bachelier) model, just replaced the \"BlackScholesCall\" with the Bachelier formula.\n",
    "\n",
    "Next, we look at the SABR model. The definition above contains the function\n",
    "\n",
    "\\begin{equation*}\n",
    "\\begin{split}\n",
    "\\mbox{SABR}(F, K, T, \\alpha, \\beta, \\rho, \\nu)\n",
    "\\end{split}\n",
    "\\end{equation*}\n",
    "\n",
    "The function returns a volatility $\\sigma_{\\mbox{SABR}}$ for the Black76Lognormal call or put option formula, so that\n",
    "\n",
    "\\begin{equation*}\n",
    "\\begin{split}\n",
    "\\mbox{Call price} &= \\mbox{BlackScholesCall}(S, K, r, \\sigma_{\\mbox{SABR}}, T) \\\\\n",
    "\\mbox{Put price} &= \\mbox{BlackScholesPut}(S, K, r, \\sigma_{\\mbox{SABR}}, T) \\\\\n",
    "\\end{split}\n",
    "\\end{equation*}\n",
    "\n",
    "How do we determine the parameters $\\alpha$, $\\rho$ and $\\nu$?\n",
    "- We choose them so that the output of the SABR model matches the implied volatilities observed in the market.\n",
    "- We refer to this process as \"model calibration\".\n",
    "\n",
    "In other words, defining\n",
    "\n",
    "  \\begin{equation*}\n",
    "    \\begin{split}\n",
    "      \\sigma_{\\mbox{Mkt}}(K_1) - \\mbox{SABR}(F, K_1, T, \\alpha, 0.8, \\rho, \\nu) &= \\epsilon_1 \\\\\n",
    "      \\sigma_{\\mbox{Mkt}}(K_2) - \\mbox{SABR}(F, K_2, T, \\alpha, 0.8, \\rho, \\nu) &= \\epsilon_2 \\\\\n",
    "      \\vdots&\\\\\n",
    "      \\sigma_{\\mbox{Mkt}}(K_n) - \\mbox{SABR}(F, K_n, T, \\alpha, 0.8, \\rho, \\nu) &= \\epsilon_n \\\\\n",
    "    \\end{split}\n",
    "  \\end{equation*}\n",
    "\n",
    "We want to minimize the sum of squared error terms as follows:\n",
    "  \n",
    "  \\begin{equation*}\n",
    "    \\begin{split}\n",
    "      \\min_{\\substack{\\alpha,\\; \\rho,\\; \\nu}} \\;\\sum_{i=1}^n \\epsilon_i^2\n",
    "    \\end{split}\n",
    "  \\end{equation*}\n",
    "\n",
    "We use the \"least_squares\" algorithm in \"scipy\" package to calibrate the SABR model parameters:\n"
   ]
  },
  {
   "cell_type": "code",
   "execution_count": 9,
   "metadata": {
    "scrolled": true
   },
   "outputs": [],
   "source": [
    "from scipy.optimize import least_squares\n",
    "\n",
    "beta = 0.7\n",
    "\n",
    "def sabrcalibration(x, strikes, vols, F, T):\n",
    "    err = 0.0\n",
    "    for i, vol in enumerate(vols):\n",
    "        err += (vol - SABR(F, strikes[i], T,\n",
    "                           x[0], beta, x[1], x[2]))**2\n",
    "\n",
    "    return err\n",
    "\n",
    "\n",
    "def impliedVolatility(S, K, r, price, T, payoff):\n",
    "    try:\n",
    "        if (payoff.lower() == 'call'):\n",
    "            impliedVol = brentq(lambda x: price -\n",
    "                                BlackScholesLognormalCall(S, K, r, x, T),\n",
    "                                1e-12, 10.0)\n",
    "        elif (payoff.lower() == 'put'):\n",
    "            impliedVol = brentq(lambda x: price -\n",
    "                                BlackScholesLognormalPut(S, K, r, x, T),\n",
    "                                1e-12, 10.0)\n",
    "        else:\n",
    "            raise NameError('Payoff type not recognized')\n",
    "    except Exception:\n",
    "        impliedVol = np.nan\n",
    "\n",
    "    return impliedVol\n",
    "\n",
    "\n",
    "def BlackScholesLognormalCall(S, K, r, sigma, T):\n",
    "    d1 = (np.log(S/K)+(r+sigma**2/2)*T) / (sigma*np.sqrt(T))\n",
    "    d2 = d1 - sigma*np.sqrt(T)\n",
    "    return S*norm.cdf(d1) - K*np.exp(-r*T)*norm.cdf(d2)\n",
    "\n",
    "\n",
    "def BlackScholesLognormalPut(S, K, r, sigma, T):\n",
    "    d1 = (np.log(S/K)+(r+sigma**2/2)*T) / (sigma*np.sqrt(T))\n",
    "    d2 = d1 - sigma*np.sqrt(T)\n",
    "    return K*np.exp(-r*T)*norm.cdf(-d2) - S*norm.cdf(-d1)\n",
    "\n",
    "\n",
    "#####\n",
    "# Here, load DataFrame with strike and implied volatility information into \"df\"\n",
    "#####\n",
    "df = pd.read_csv('../SPX_options.csv')\n",
    "df['mid'] = 0.5*(df['best_bid'] + df['best_offer'])\n",
    "df['strike'] = df['strike_price']*0.001\n",
    "df['payoff'] = df['cp_flag'].map(lambda x: 'call' if x == 'C' else 'put')\n",
    "exdate = sorted(df['exdate'].unique())[2]\n",
    "df = df[df['exdate'] == exdate]\n",
    "days_to_expiry = (pd.Timestamp(str(exdate)) - pd.Timestamp('2020-12-01')).days\n",
    "T = days_to_expiry/365\n",
    "S = 3662.45\n",
    "r = 0.2206/100.0\n",
    "F = S*np.exp(r*T)\n",
    "\n",
    "df['vols'] = df.apply(lambda x: impliedVolatility(S,\n",
    "                                                  x['strike'],\n",
    "                                                  r,\n",
    "                                                  x['mid'],\n",
    "                                                  T,\n",
    "                                                  x['payoff']),\n",
    "                      axis=1)\n",
    "df.dropna(inplace=True)\n",
    "call_df = df[df['payoff'] == 'call']\n",
    "put_df = df[df['payoff'] == 'put']\n"
   ]
  },
  {
   "cell_type": "code",
   "execution_count": 10,
   "metadata": {},
   "outputs": [
    {
     "name": "stdout",
     "output_type": "stream",
     "text": [
      "Calibrated SABR model parameters: alpha = 2.140, beta = 0.7, rho = -0.575, nu = 1.842\n"
     ]
    }
   ],
   "source": [
    "\n",
    "strikes = put_df['strike'].values\n",
    "impliedvols = []\n",
    "for K in strikes:    \n",
    "    if K > S:\n",
    "        impliedvols.append(call_df[call_df['strike'] == K]['vols'].values[0])\n",
    "    else:\n",
    "        impliedvols.append(put_df[put_df['strike'] == K]['vols'].values[0])\n",
    "\n",
    "# populate \"df\" with the dataframe containing strikes and market implied volatilities\n",
    "df = pd.DataFrame({'strike': strikes, 'impliedvol': impliedvols})\n",
    "\n",
    "initialGuess = [0.02, 0.2, 0.1]\n",
    "res = least_squares(lambda x: sabrcalibration(x,\n",
    "                                              df['strike'],\n",
    "                                              df['impliedvol'],\n",
    "                                              F,\n",
    "                                              T),\n",
    "                    initialGuess)\n",
    "alpha = res.x[0]\n",
    "rho = res.x[1]\n",
    "nu = res.x[2]\n",
    "\n",
    "print('Calibrated SABR model parameters: alpha = %.3f, beta = %.1f, rho = %.3f, nu = %.3f' % (alpha, beta, rho, nu))\n",
    "\n",
    "sabrvols = []\n",
    "for K in strikes:\n",
    "    sabrvols.append(SABR(F, K, T, alpha, beta, rho, nu))"
   ]
  },
  {
   "cell_type": "code",
   "execution_count": 11,
   "metadata": {},
   "outputs": [
    {
     "data": {
      "image/png": "[encoded data removed]",
      "text/plain": [
       "<Figure size 640x480 with 1 Axes>"
      ]
     },
     "metadata": {},
     "output_type": "display_data"
    },
    {
     "name": "stdout",
     "output_type": "stream",
     "text": [
      "20210219\n"
     ]
    }
   ],
   "source": [
    "plt.figure(tight_layout=True)\n",
    "plt.plot(strikes, df['impliedvol'], 'gs', label='Market Vols')\n",
    "plt.plot(strikes, sabrvols, 'm--', label='SABR Vols')\n",
    "plt.legend()\n",
    "plt.show()\n",
    "\n",
    "print(exdate)"
   ]
  },
  {
   "cell_type": "code",
   "execution_count": 12,
   "metadata": {},
   "outputs": [],
   "source": [
    "impliedvols = [call_df[call_df['strike'] == K]['vols'].values[0] \\\n",
    "                if K > 3662 \\\n",
    "                else put_df[put_df['strike'] == K]['vols'].values[0] \n",
    "                    for K in strikes]"
   ]
  },
  {
   "cell_type": "code",
   "execution_count": 14,
   "metadata": {},
   "outputs": [
    {
     "data": {
      "text/html": [
       "<div>\n",
       "<style scoped>\n",
       "    .dataframe tbody tr th:only-of-type {\n",
       "        vertical-align: middle;\n",
       "    }\n",
       "\n",
       "    .dataframe tbody tr th {\n",
       "        vertical-align: top;\n",
       "    }\n",
       "\n",
       "    .dataframe thead th {\n",
       "        text-align: right;\n",
       "    }\n",
       "</style>\n",
       "<table border=\"1\" class=\"dataframe\">\n",
       "  <thead>\n",
       "    <tr style=\"text-align: right;\">\n",
       "      <th></th>\n",
       "      <th>date</th>\n",
       "      <th>exdate</th>\n",
       "      <th>cp_flag</th>\n",
       "      <th>strike_price</th>\n",
       "      <th>best_bid</th>\n",
       "      <th>best_offer</th>\n",
       "      <th>exercise_style</th>\n",
       "      <th>mid</th>\n",
       "      <th>strike</th>\n",
       "      <th>payoff</th>\n",
       "      <th>vols</th>\n",
       "    </tr>\n",
       "  </thead>\n",
       "  <tbody>\n",
       "    <tr>\n",
       "      <th>1816</th>\n",
       "      <td>20201201</td>\n",
       "      <td>20210219</td>\n",
       "      <td>P</td>\n",
       "      <td>100000</td>\n",
       "      <td>0.0</td>\n",
       "      <td>0.05</td>\n",
       "      <td>E</td>\n",
       "      <td>0.025</td>\n",
       "      <td>100.0</td>\n",
       "      <td>put</td>\n",
       "      <td>2.160100</td>\n",
       "    </tr>\n",
       "    <tr>\n",
       "      <th>1817</th>\n",
       "      <td>20201201</td>\n",
       "      <td>20210219</td>\n",
       "      <td>P</td>\n",
       "      <td>200000</td>\n",
       "      <td>0.0</td>\n",
       "      <td>0.05</td>\n",
       "      <td>E</td>\n",
       "      <td>0.025</td>\n",
       "      <td>200.0</td>\n",
       "      <td>put</td>\n",
       "      <td>1.724868</td>\n",
       "    </tr>\n",
       "    <tr>\n",
       "      <th>1818</th>\n",
       "      <td>20201201</td>\n",
       "      <td>20210219</td>\n",
       "      <td>P</td>\n",
       "      <td>300000</td>\n",
       "      <td>0.0</td>\n",
       "      <td>0.05</td>\n",
       "      <td>E</td>\n",
       "      <td>0.025</td>\n",
       "      <td>300.0</td>\n",
       "      <td>put</td>\n",
       "      <td>1.477592</td>\n",
       "    </tr>\n",
       "    <tr>\n",
       "      <th>1819</th>\n",
       "      <td>20201201</td>\n",
       "      <td>20210219</td>\n",
       "      <td>P</td>\n",
       "      <td>400000</td>\n",
       "      <td>0.0</td>\n",
       "      <td>0.05</td>\n",
       "      <td>E</td>\n",
       "      <td>0.025</td>\n",
       "      <td>400.0</td>\n",
       "      <td>put</td>\n",
       "      <td>1.304969</td>\n",
       "    </tr>\n",
       "    <tr>\n",
       "      <th>1820</th>\n",
       "      <td>20201201</td>\n",
       "      <td>20210219</td>\n",
       "      <td>P</td>\n",
       "      <td>500000</td>\n",
       "      <td>0.0</td>\n",
       "      <td>0.05</td>\n",
       "      <td>E</td>\n",
       "      <td>0.025</td>\n",
       "      <td>500.0</td>\n",
       "      <td>put</td>\n",
       "      <td>1.172504</td>\n",
       "    </tr>\n",
       "    <tr>\n",
       "      <th>...</th>\n",
       "      <td>...</td>\n",
       "      <td>...</td>\n",
       "      <td>...</td>\n",
       "      <td>...</td>\n",
       "      <td>...</td>\n",
       "      <td>...</td>\n",
       "      <td>...</td>\n",
       "      <td>...</td>\n",
       "      <td>...</td>\n",
       "      <td>...</td>\n",
       "      <td>...</td>\n",
       "    </tr>\n",
       "    <tr>\n",
       "      <th>2067</th>\n",
       "      <td>20201201</td>\n",
       "      <td>20210219</td>\n",
       "      <td>P</td>\n",
       "      <td>5000000</td>\n",
       "      <td>1333.1</td>\n",
       "      <td>1350.50</td>\n",
       "      <td>E</td>\n",
       "      <td>1341.800</td>\n",
       "      <td>5000.0</td>\n",
       "      <td>put</td>\n",
       "      <td>0.341056</td>\n",
       "    </tr>\n",
       "    <tr>\n",
       "      <th>2068</th>\n",
       "      <td>20201201</td>\n",
       "      <td>20210219</td>\n",
       "      <td>P</td>\n",
       "      <td>5100000</td>\n",
       "      <td>1431.8</td>\n",
       "      <td>1454.70</td>\n",
       "      <td>E</td>\n",
       "      <td>1443.250</td>\n",
       "      <td>5100.0</td>\n",
       "      <td>put</td>\n",
       "      <td>0.370766</td>\n",
       "    </tr>\n",
       "    <tr>\n",
       "      <th>2069</th>\n",
       "      <td>20201201</td>\n",
       "      <td>20210219</td>\n",
       "      <td>P</td>\n",
       "      <td>5200000</td>\n",
       "      <td>1531.7</td>\n",
       "      <td>1554.60</td>\n",
       "      <td>E</td>\n",
       "      <td>1543.150</td>\n",
       "      <td>5200.0</td>\n",
       "      <td>put</td>\n",
       "      <td>0.387808</td>\n",
       "    </tr>\n",
       "    <tr>\n",
       "      <th>2070</th>\n",
       "      <td>20201201</td>\n",
       "      <td>20210219</td>\n",
       "      <td>P</td>\n",
       "      <td>5300000</td>\n",
       "      <td>1631.5</td>\n",
       "      <td>1654.40</td>\n",
       "      <td>E</td>\n",
       "      <td>1642.950</td>\n",
       "      <td>5300.0</td>\n",
       "      <td>put</td>\n",
       "      <td>0.403516</td>\n",
       "    </tr>\n",
       "    <tr>\n",
       "      <th>2071</th>\n",
       "      <td>20201201</td>\n",
       "      <td>20210219</td>\n",
       "      <td>P</td>\n",
       "      <td>5400000</td>\n",
       "      <td>1731.4</td>\n",
       "      <td>1752.30</td>\n",
       "      <td>E</td>\n",
       "      <td>1741.850</td>\n",
       "      <td>5400.0</td>\n",
       "      <td>put</td>\n",
       "      <td>0.410678</td>\n",
       "    </tr>\n",
       "  </tbody>\n",
       "</table>\n",
       "<p>256 rows × 11 columns</p>\n",
       "</div>"
      ],
      "text/plain": [
       "          date    exdate cp_flag  strike_price  best_bid  best_offer  \\\n",
       "1816  20201201  20210219       P        100000       0.0        0.05   \n",
       "1817  20201201  20210219       P        200000       0.0        0.05   \n",
       "1818  20201201  20210219       P        300000       0.0        0.05   \n",
       "1819  20201201  20210219       P        400000       0.0        0.05   \n",
       "1820  20201201  20210219       P        500000       0.0        0.05   \n",
       "...        ...       ...     ...           ...       ...         ...   \n",
       "2067  20201201  20210219       P       5000000    1333.1     1350.50   \n",
       "2068  20201201  20210219       P       5100000    1431.8     1454.70   \n",
       "2069  20201201  20210219       P       5200000    1531.7     1554.60   \n",
       "2070  20201201  20210219       P       5300000    1631.5     1654.40   \n",
       "2071  20201201  20210219       P       5400000    1731.4     1752.30   \n",
       "\n",
       "     exercise_style       mid  strike payoff      vols  \n",
       "1816              E     0.025   100.0    put  2.160100  \n",
       "1817              E     0.025   200.0    put  1.724868  \n",
       "1818              E     0.025   300.0    put  1.477592  \n",
       "1819              E     0.025   400.0    put  1.304969  \n",
       "1820              E     0.025   500.0    put  1.172504  \n",
       "...             ...       ...     ...    ...       ...  \n",
       "2067              E  1341.800  5000.0    put  0.341056  \n",
       "2068              E  1443.250  5100.0    put  0.370766  \n",
       "2069              E  1543.150  5200.0    put  0.387808  \n",
       "2070              E  1642.950  5300.0    put  0.403516  \n",
       "2071              E  1741.850  5400.0    put  0.410678  \n",
       "\n",
       "[256 rows x 11 columns]"
      ]
     },
     "execution_count": 14,
     "metadata": {},
     "output_type": "execute_result"
    }
   ],
   "source": [
    "put_df"
   ]
  },
  {
   "cell_type": "code",
   "execution_count": 15,
   "metadata": {},
   "outputs": [
    {
     "data": {
      "text/plain": [
       "nan"
      ]
     },
     "execution_count": 15,
     "metadata": {},
     "output_type": "execute_result"
    }
   ],
   "source": [
    "impliedVolatility(S, 5400, r, 17141.85,.219178219,'put')"
   ]
  },
  {
   "cell_type": "code",
   "execution_count": 16,
   "metadata": {},
   "outputs": [
    {
     "data": {
      "text/plain": [
       "0.002206"
      ]
     },
     "execution_count": 16,
     "metadata": {},
     "output_type": "execute_result"
    }
   ],
   "source": [
    "r"
   ]
  },
  {
   "cell_type": "code",
   "execution_count": 17,
   "metadata": {},
   "outputs": [
    {
     "data": {
      "text/plain": [
       "3662.45"
      ]
     },
     "execution_count": 17,
     "metadata": {},
     "output_type": "execute_result"
    }
   ],
   "source": [
    "S"
   ]
  },
  {
   "cell_type": "code",
   "execution_count": 21,
   "metadata": {},
   "outputs": [
    {
     "data": {
      "text/plain": [
       "2071    0.410678\n",
       "Name: vols, dtype: float64"
      ]
     },
     "execution_count": 21,
     "metadata": {},
     "output_type": "execute_result"
    }
   ],
   "source": [
    "put_df[put_df['strike'] == K]['vols']"
   ]
  },
  {
   "cell_type": "code",
   "execution_count": 23,
   "metadata": {},
   "outputs": [],
   "source": [
    "impliedvols.append(call_df[call_df['strike'] == K]['vols'].values[0])"
   ]
  },
  {
   "cell_type": "code",
   "execution_count": 24,
   "metadata": {},
   "outputs": [
    {
     "data": {
      "text/plain": [
       "0.2635135533712264"
      ]
     },
     "execution_count": 24,
     "metadata": {},
     "output_type": "execute_result"
    }
   ],
   "source": [
    "call_df[call_df['strike'] == K]['vols'].values[0]"
   ]
  },
  {
   "cell_type": "code",
   "execution_count": null,
   "metadata": {},
   "outputs": [],
   "source": []
  }
 ],
 "metadata": {
  "kernelspec": {
   "display_name": "Python 3",
   "language": "python",
   "name": "python3"
  },
  "language_info": {
   "codemirror_mode": {
    "name": "ipython",
    "version": 3
   },
   "file_extension": ".py",
   "mimetype": "text/x-python",
   "name": "python",
   "nbconvert_exporter": "python",
   "pygments_lexer": "ipython3",
   "version": "3.9.13"
  }
 },
 "nbformat": 4,
 "nbformat_minor": 4
}
