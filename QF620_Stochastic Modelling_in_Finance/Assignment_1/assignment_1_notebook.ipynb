{
 "cells": [
  {
   "cell_type": "markdown",
   "metadata": {},
   "source": [
    "1(a)\\\n",
    "Since $ X \\sim N(\\mu, \\sigma^2)$, use MGF to find $\\mathbb{E}[e^X]$,\n",
    "$$ \\mathbb{E}[e^{\\theta X}] = M_X(\\theta) = exp\\left( \\mu \\theta + \\frac{1}{2}\\sigma^2 \\theta^2 \\right) $$\n",
    "Using $ \\theta = 1 $,\n",
    "$$ \\mathbb{E}[e^X] = M_X(1) = exp\\left( \\mu + \\frac{1}{2}\\sigma^2 \\right) $$\n",
    "1(b)\\\n",
    "Taking MGF and using $ \\theta = 2 $,\n",
    "$$ \\mathbb{E}[e^{2X}] = M_{X}(2) = exp\\left( 2 \\mu + 2 \\sigma^2 \\right) $$\n",
    "\n",
    "---"
   ]
  },
  {
   "cell_type": "markdown",
   "metadata": {},
   "source": [
    "2(a)\\\n",
    "Since $ W_t \\sim N(0, t)$, use MGF to find $ \\mathbb{E}[e^{W_t}]$,\n",
    "$$ \\mathbb{E}[e^{\\theta W_t}] = M_{W_t}(\\theta) $$\n",
    "\n",
    "$$ \\mathbb{E}[e^{W_t}] = M_{W_t}(1) = exp\\left( \\mu \\theta + \\frac{1}{2}\\sigma^2 \\theta^2 \\right) = exp\\left( \\frac{1}{2}t^2 \\right)$$\n",
    "\n",
    "2(b)\\\n",
    "\n",
    "$$ \\mathbb{E}[e^{\\sigma W_t}] = M_{W_t}(\\sigma) = exp\\left( \\mu \\theta + \\frac{1}{2}\\sigma^2 \\theta^2 \\right) = exp\\left(\\frac{1}{2}\\sigma^4 \\right)$$\n",
    "\n",
    "---"
   ]
  },
  {
   "cell_type": "markdown",
   "metadata": {},
   "source": [
    "3\\\n",
    "Calculate risk neutral probabilities $p^*$ and $q^*$ using *Cox-Ross-Rubinstein* formulation and choose $d= \\frac{1}{u}$\n",
    "$$ p^* =\\frac {(1+r)-d}{u-d} ; \\quad q^* = 1-p^* $$\n",
    "$p^*$ = 36% and $q^*$ = 64%\n",
    "\n",
    "Calculate the exercise prices at maturity ($t=2$)\n",
    "\n",
    "Calculate the expected price with exercise prices at $t=2$ for the option using risk neutral probabilities for $t=1$ then $t=0$\n",
    "$$ V_E^n = \\frac{1}{1 + r} \\mathbb{E}_n^*[V_{n+1}] = \\frac{1}{1 + r} \\left( p^* \\times V_{n+1}^{u} + q^* \\times V_{n+1}^{d} \\right) $$\n",
    "\n",
    "$$ V_A^n = max\\left\\{\\frac{1}{1 + r} \\mathbb{E}_n^*[V_{n+1}] = \\frac{1}{1 + r} \\left( p^* \\times V_{n+1}^{u} + q^* \\times V_{n+1}^{d} \\right) , (K-S_n)^{+} \\right\\} $$\n",
    "\n",
    "![](Question3.png)\n",
    "\n",
    "(a) $5.44\n",
    "(b) $5.68\n",
    "(c) $1.20\n",
    "(d) $1.20\n",
    "\n",
    "---"
   ]
  },
  {
   "cell_type": "markdown",
   "metadata": {
    "vscode": {
     "languageId": "plaintext"
    }
   },
   "source": [
    "4(a)\\\n",
    "Given that $W_1>0$ and $W_2<0$ \n",
    "$$ P(W_2<0 | W_1>0) = P(W_2-W_1<-W_1|W_1>0); \\quad W_2 - W_1 \\sim N(0,1) $$\n",
    "\n",
    "Since $\\mathbb{E}[-W_1]=0$ then,\n",
    "$$ P(W_2-W_1<-W_1|W_1>0) = P(W_2-W_1<0)= \\frac {1}{2}$$\n",
    "\n",
    "4(b)\\\n",
    "$ P(W_1 \\times W_2 <0) $ is when $W_1$ and $W_2$ have opposite signs and there is 50% probability that either is more or less than 0. \\\n",
    "\n",
    "$$ P(W_1 \\times W_2 <0) = P(W_1<0 \\cap  W_2 >0) + P(W_1<0 \\cap W_2>0) = \\frac{1}{2} \\times \\frac{1}{2} + \\frac{1}{2} \\times \\frac{1}{2} = \\frac{1}{2} $$\n",
    "\n",
    "4(c)\\\n",
    "$$ P(W_1 < 0 \\cap W_2 < 0) = $$\n",
    "\n",
    "---"
   ]
  },
  {
   "cell_type": "markdown",
   "metadata": {},
   "source": [
    "5(a)\\\n",
    "Definitions for Brownian Motion:\\\n",
    "$ W_0 = 0 $\\\n",
    "$ 0 < s < t; \\quad (W_t - W_s) \\sim N(0, t-s)$\\\n",
    "\\\n",
    "$ \\mathbb{E}[W_t] = 0, W_t \\sim N(0,t)$ \\\n",
    "then, $ \\mathbb{E}[(W_t-\\mu)^2] = \\mathbb{E}[W_t^2] = Var[W_t] = t $ and \n",
    "$$ V[(W_t-W_s)] = V[W_t] - V[W_s] = t-s $$\n",
    "\n",
    "5(b)\\\n",
    "By variance definition,\n",
    "$$ Var((W_t-W_s)^2) = \\mathbb{E}[((W_t-W_s)^2)^2]-(\\mathbb{E}[(W_t-W_s)^2])^2$$\n",
    "\\\n",
    "First finding $\\mathbb{E}[(W_t-W_s)^2]$\n",
    "$$ Var[(W_t-W_s)] = E[(W_t-W_s - \\mu_{t-s})^2] = E[(W_t-W_s)^2] $$\n",
    " where $ \\mu_{t-s} = \\mathbb{E}[W_t-W_s] = 0 $\\\n",
    "So,\n",
    "$$ \\begin{equation} E[(W_t-W_s)^2] = t-s \\tag{1} \\end{equation}$$ \n",
    "\\\n",
    "Next finding $ \\mathbb{E}[((W_t-W_s)^2)^2] = \\mathbb{E}[(W_t-W_s)^4] $,\n",
    "Use MGF, \n",
    "$$ M_{W_t-W_s}(\\theta) = exp\\left(\\mu \\theta + \\frac{1}{2}\\sigma^2\\theta^2\\right) = \\exp\\left(\\frac{1}{2}\\sigma^2\\theta^2\\right) $$\n",
    "Compute derivatives up to 4th moment,\n",
    "$ \\frac {dM_{W_t-W_s}(\\theta)}{d\\theta} = \\mathbb{E}[W_t-W_s] = \n",
    "\\sigma\\theta \\exp\\left(\\frac{1}{2}\\sigma^2\\theta^2\\right)$\n",
    "\n",
    "$ \\frac {d^2M_{W_t-W_s}(\\theta)}{d\\theta^2} = \\mathbb{E}[(W_t-W_s)^2] = \n",
    "\\sigma^4\\theta^4 \\exp\\left(\\frac{1}{2}\\sigma^2\\theta^2\\right) + \n",
    "\\sigma^2 \\exp\\left(\\frac{1}{2}\\sigma^2\\theta^2\\right)$\n",
    "\n",
    "$ \\frac {d^3M_{W_t-W_s}(\\theta)}{d\\theta^3} = \\mathbb{E}[(W_t-W_s)^3] = \n",
    "\\sigma^6\\theta^3 \\exp\\left(\\frac{1}{2}\\sigma^2\\theta^2\\right) + \n",
    "2\\sigma^4\\theta \\exp\\left(\\frac{1}{2}\\sigma^2\\theta^2\\right) + \n",
    "\\sigma^4\\theta \\exp\\left(\\frac{1}{2}\\sigma^2\\theta^2\\right)$\n",
    "\n",
    "$ \\frac {d^4M_{W_t-W_s}(\\theta)}{d\\theta^4} = \\mathbb{E}[(W_t-W_s)^4] = \n",
    "\\sigma^8\\theta^4 \\exp\\left(\\frac{1}{2}\\sigma^2\\theta^2\\right) + \n",
    "3\\sigma^6\\theta^2 \\exp\\left(\\frac{1}{2}\\sigma^2\\theta^2\\right) + \n",
    "2\\sigma^6\\theta^2 \\exp\\left(\\frac{1}{2}\\sigma^2\\theta^2\\right) + \n",
    "2\\sigma^4 \\exp\\left(\\frac{1}{2}\\sigma^2\\theta^2\\right) + \n",
    "\\sigma^6\\theta^2 \\exp\\left(\\frac{1}{2}\\sigma^2\\theta^2\\right) + \n",
    "\\sigma^4 \\exp\\left(\\frac{1}{2}\\sigma^2\\theta^2\\right)$\\\n",
    "\\\n",
    "and taking $\\frac {d^4M_{W_t-W_s}(\\theta)}{d\\theta^4}$ when $\\theta=0, \\sigma^2 = t-s$,\n",
    "$$ \\begin{align} \\mathbb{E}[(W_t-W_s)^4] = 3(t-s)^2 \\tag{2}  \\end{align} $$\n",
    "\n",
    "Therefore from (1) and (2),\n",
    "$$ Var((W_t-W_s)^2) = \\mathbb{E}[(W_t-W_s)^4]-(\\mathbb{E}[(W_t-W_s)^2])^2 = 3(t-s)^2 - (t-s)^2 = 2(t-s)^2$$\n",
    "\n",
    "---"
   ]
  },
  {
   "cell_type": "markdown",
   "metadata": {},
   "source": [
    "6\\\n",
    "Finding $ \\mathbb{E}[W_{t+\\Delta t}-W_t]$, given $W_t \\sim N(0,t)$ and $ (W_{t+\\Delta t}-W_t) \\sim N(0, \\Delta t)$\n",
    "\n",
    "Function for p.d.f. is $f(x) = \\frac{1}{\\sqrt{2\\pi} \\sigma} e^{-\\frac{(x - \\mu)^2}{2\\sigma^2}} $ and Expectation of X, $ \\mathbb{E}[X] = \\int_{-\\infty}^{\\infty} xf(x) = \\int_{-\\infty}^{\\infty} x\\frac{1}{\\sqrt{2\\pi} \\sigma} e^{-\\frac{(x - \\mu)^2}{2\\sigma^2}} $ \n",
    "Let $ (W_{t+\\Delta t}-W_t) $ be X, such that $ X \\sim N(0, \\Delta t)$. Then, \\\n",
    "$  \n",
    "\\begin{align}\n",
    "\\mathbb{E}[W_{t+\\Delta t}-W_t] &= \\mathbb{E}[|X|] \\notag  \\\\\n",
    "                               &= 2 \\int_{0}^{\\infty} X\\frac{1}{\\sqrt{2\\pi} \\sigma} e^{-\\frac{(X - \\mu)^2}{2\\sigma^2}} dx \\notag \\\\\n",
    "                               &= 2 \\int_{0}^{\\infty} X\\frac{1}{\\sqrt{2\\pi \\Delta t}} e^{-\\frac{X^2}{2\\Delta t}} dx \\\\\n",
    "                               &= -\\sqrt{\\frac{2 \\Delta t}{\\pi}} \\int_{0}^{-\\infty} e^{u} du \\tag 2\\\\\n",
    "                               &= -\\sqrt{\\frac{2 \\Delta t}{\\pi}} [0-1] \\notag \\\\\n",
    "                               &= \\sqrt{\\frac{2 \\Delta t}{\\pi}} \\notag\n",
    "\\end{align}\n",
    "$\n",
    "(1) $\\mu = 0$ and $\\sigma^2 = {\\Delta t}$ \\\n",
    "(2) substitute $ u=- \\frac{X^2}{2 \\Delta t}; \\quad\\frac {du}{dx} = -\\frac{X}{\\Delta t}; \\quad x{dx}=-{\\Delta t}{du}$ "
   ]
  }
 ],
 "metadata": {
  "language_info": {
   "name": "python"
  }
 },
 "nbformat": 4,
 "nbformat_minor": 2
}
