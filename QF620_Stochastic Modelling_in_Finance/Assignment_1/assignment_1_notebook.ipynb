{
 "cells": [
  {
   "cell_type": "markdown",
   "metadata": {},
   "source": [
    "1(a)\\\n",
    "Since $ X \\sim N(\\mu, \\sigma^2)$,\n",
    "$$ \\mathbb{E}[e^X] = M_X'(0) $$\n",
    "Taking MGF,\n",
    "$$ M_X(\\theta) = exp\\left( \\mu \\theta + \\frac{1}{2}\\sigma^2 \\theta^2 \\right) $$\n",
    "Using $ \\theta = 0 $,\n",
    "$$ M_X'(0) = \\mathbb{E}[e^X] = \\mu $$\n",
    "1(b)\\\n",
    "Since \n",
    "$$ Var(2X) = 2^2Var(X) = 4Var(X)$$\n",
    "Then,\n",
    "$$ \\quad 2X \\sim N(2\\mu, 4\\sigma^2)$$\n",
    "Taking MGF,\n",
    "$$ \\mathbb{E}[e^{2X}] = M_{2X}'(0) $$\n",
    "\n",
    "Where $$ M_{2X}(\\theta) = exp\\left( 2\\mu \\theta + \\frac{1}{2}(2\\sigma)^2 \\theta^2 \\right) $$\n",
    "Using $ \\theta = 0 $,\n",
    "$$ M_{2X}'(0) =  \\mathbb{E}[e^{2X}] = 2\\mu $$\n",
    "\n",
    "---"
   ]
  },
  {
   "cell_type": "markdown",
   "metadata": {},
   "source": [
    "2(a)\\\n",
    "Since $ W_t \\sim N(0, t)$,\n",
    "$$ \\mathbb{E}[e^{W_t}] = M_{W_t}'(0) $$\n",
    "\n",
    "Where $$ M_{W_t}(\\theta) = exp\\left( \\mu \\theta + \\frac{1}{2}\\sigma^2 \\theta^2 \\right) $$\n",
    "Using $ \\theta = 0 $,\n",
    "$$ M_X'(0) = \\mathbb{E}[e^{W_t}] =  0 $$\n",
    "\n",
    "2(b)\\\n",
    "Since $ Var(\\sigma W_t) = \\sigma^2Var(W_t)$,\n",
    "$$ \\sigma W_t \\sim N(0, \\sigma^2t)$$\n",
    "Taking MGF\n",
    "$$ \\mathbb{E}[e^{\\sigma W_t}] = M_{\\sigma W_t}'(0) $$\n",
    "\n",
    "Where $$ M_{\\sigma W_t}(\\theta) = exp\\left( \\sigma \\mu \\theta + \\frac{1}{2}(\\sigma\\sqrt t)^2 \\theta^2 \\right)$$\n",
    "Using $ \\theta = 0 $,\n",
    "$$ M_{\\sigma W_t}'(0) = \\mathbb{E}[e^{\\sigma W_t}] = 0 $$\n",
    "\n",
    "---"
   ]
  },
  {
   "cell_type": "markdown",
   "metadata": {},
   "source": [
    "3\\\n",
    "Calculate risk neutral probabilities $p^*$ and $q^*$ using *Cox-Ross-Rubinstein* formulation and choose $d= \\frac{1}{u}$\n",
    "$$ p^* =\\frac {(1+r)-d}{u-d} ; \\quad q^* = 1-p^* $$\n",
    "$p^*$ = 36% and $q^*$ = 64%\n",
    "\n",
    "Calculate the exercise prices at maturity ($t=2$)\n",
    "\n",
    "Calculate the expected price with exercise prices at $t=2$ for the option using risk neutral probabilities for $t=1$ then $t=0$\n",
    "$$ V_E^n = \\frac{1}{1 + r} \\mathbb{E}_n^*[V_{n+1}] = \\frac{1}{1 + r} \\left( p^* \\times V_{n+1}^{u} + q^* \\times V_{n+1}^{d} \\right) $$\n",
    "\n",
    "$$ V_A^n = max\\left\\{\\frac{1}{1 + r} \\mathbb{E}_n^*[V_{n+1}] = \\frac{1}{1 + r} \\left( p^* \\times V_{n+1}^{u} + q^* \\times V_{n+1}^{d} \\right) , (K-S_n)^{+} \\right\\} $$\n",
    "\n",
    "![](Question3.png)\n",
    "\n",
    "(a) $5.44\n",
    "(b) $5.68\n",
    "(c) $1.20\n",
    "(d) $1.20\n",
    "\n",
    "---"
   ]
  },
  {
   "cell_type": "markdown",
   "metadata": {
    "vscode": {
     "languageId": "plaintext"
    }
   },
   "source": [
    "4(a)\\\n",
    "Given that $W_1>0$ and $W_2<0$ \n",
    "$$ P(W_2<0 | W_1>0) = P(W_2-W_1<-W_1|W_1>0); \\quad W_2 - W_1 \\sim N(0,1) $$\n",
    "\n",
    "Since $\\mathbb{E}[-W_1]=0$ then,\n",
    " $$P(W_2-W_1<-W_1|W_1>0) = \\frac {1}{2}$$\n",
    "\n",
    "4(b)\\\n",
    "$ P(W_1 \\times W_2 <0)$ is when $W_1$ and $W_2$ have opposite signs and there is 50% probability that either is more or less than 0. \n",
    "So, \n",
    "$$ P(W_1 \\times W_2 <0) = P(W_1<0 \\cap  W_2 >0) + P(W_1<0 \\cap W_2>0) = \\frac{1}{2} \\times \\frac{1}{2} + \\frac{1}{2} \\times \\frac{1}{2} = \\frac{1}{4} $$\n"
   ]
  },
  {
   "cell_type": "markdown",
   "metadata": {},
   "source": []
  },
  {
   "cell_type": "markdown",
   "metadata": {},
   "source": []
  }
 ],
 "metadata": {
  "language_info": {
   "name": "python"
  }
 },
 "nbformat": 4,
 "nbformat_minor": 2
}
