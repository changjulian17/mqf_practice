{
 "cells": [
  {
   "cell_type": "markdown",
   "metadata": {},
   "source": [
    "# Homework 3 Graded Exercise:\n",
    "## Chapter5-3.ipynb (this file is provided only after grading) \n",
    "The data is related with direct marketing campaigns of  a Portuguese banking institution. The \n",
    "marketing campaigns were based on phone calls. Often, more than one contact to the same client was \n",
    "required, in order to access if  the product (bank term deposit) would be (or not) subscribed. Data set is \n",
    "public – acknowledgement: S. Moro, R. Laureano and P. Cortez. Using Data Mining for Bank Direct \n",
    "Marketing: An Application of  the CRISP-DM Methodology. In P. Novais et al. (Eds.), Proceedings of  \n",
    "the  European  Simulation  and  Modelling  Conference  -  ESM'2011,  pp.  117-121,  Guimarães,  Portugal, \n",
    "October, 2011. EUROSIS. \\\n",
    "Download  from  ‘banking3.csv’.  This  is  a  simplified  version  of   the  original  data  set.  There  are  18 \n",
    "features  and  one  label  variable y.  y  =  1  denotes  success  in  getting  client  to  put  in  a  term  deposit.  y=0 \n",
    "denotes failure to do so.\\\n",
    "The  features  are  self-explanatory  as  in  Homework  2.  Note  that  Euribor3m  is  the  3-month  Euribor \n",
    "interest rate prevailing in the particular campaign for the client when client’s response was y=1 or y=0."
   ]
  },
  {
   "cell_type": "code",
   "execution_count": 1,
   "metadata": {},
   "outputs": [],
   "source": [
    "import pandas as pd\n",
    "import numpy as np\n",
    "import matplotlib.pyplot as plt\n",
    "from matplotlib.ticker import PercentFormatter\n",
    "import matplotlib.ticker as mtick\n",
    "%matplotlib inline\n",
    "from random import sample\n",
    "import seaborn as sns\n",
    "from sklearn import metrics\n",
    "from sklearn import preprocessing\n",
    "from sklearn.metrics import classification_report\n",
    "from sklearn.metrics import accuracy_score\n",
    "from sklearn.metrics import confusion_matrix\n",
    "from sklearn.model_selection import train_test_split\n",
    "from sklearn.preprocessing import StandardScaler\n",
    "# import warnings filter\n",
    "from warnings import simplefilter\n",
    "# ignore all future warnings\n",
    "simplefilter(action='ignore', category=FutureWarning)"
   ]
  },
  {
   "cell_type": "markdown",
   "metadata": {},
   "source": [
    "Use Random Forest method to predict if  a client would subscribe to a bank term deposit. Use the \n",
    "following specifications to construct training and test data sets. Assume optimal hyperparameters have \n",
    "been determined in the following specifications.\n",
    "\n",
    "`from sklearn.model_selection import train_test_split`\\\n",
    "`X_train, X_test, y_train, y_test = train_test_split(X, y, test_size=0.3, random_state=0)`\n"
   ]
  },
  {
   "cell_type": "code",
   "execution_count": null,
   "metadata": {},
   "outputs": [],
   "source": [
    "df = pd.read_csv(\"./QF634-G1-Applied Quantitative Research Methods - 11202024 - 802 PM/banking3.csv\",index_col=0)"
   ]
  },
  {
   "cell_type": "markdown",
   "metadata": {},
   "source": [
    "\n",
    "Use the following specifications in the RandomForestClassifier in sklearn.\n",
    "\n",
    "`from sklearn.ensemble import RandomForestClassifier`\\\n",
    "`  RF_model = RandomForestClassifier(n_estimators=1000, random_state=1, max_features=None, max_depth=None)`\n",
    "\n",
    "Record the % of  cases of  y=1. Find the confusion matrix, classification report and area under ROC.\n",
    "What are the importance features. How do you compare with logistic regression?"
   ]
  },
  {
   "cell_type": "code",
   "execution_count": null,
   "metadata": {},
   "outputs": [],
   "source": []
  }
 ],
 "metadata": {
  "kernelspec": {
   "display_name": "Python 3",
   "language": "python",
   "name": "python3"
  },
  "language_info": {
   "codemirror_mode": {
    "name": "ipython",
    "version": 3
   },
   "file_extension": ".py",
   "mimetype": "text/x-python",
   "name": "python",
   "nbconvert_exporter": "python",
   "pygments_lexer": "ipython3",
   "version": "3.12.0"
  }
 },
 "nbformat": 4,
 "nbformat_minor": 2
}
