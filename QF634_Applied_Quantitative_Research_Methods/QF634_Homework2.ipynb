{
 "cells": [
  {
   "cell_type": "markdown",
   "metadata": {},
   "source": [
    "# Homework 2 Graded Exercise:\n",
    "## Chapter3-2.ipynb (this file is provided only after grading) \n",
    "The data is related with direct marketing campaigns of  a Portuguese banking institution. The \n",
    "marketing campaigns were based on phone calls. Often, more than one contact to the same client was \n",
    "required, in order to access if  the product (bank term deposit) would be (or not) subscribed. Data set is \n",
    "public – acknowledgement: S. Moro, R. Laureano and P. Cortez. Using Data Mining for Bank Direct \n",
    "Marketing: An Application of  the CRISP-DM Methodology. In P. Novais et al. (Eds.), Proceedings of  \n",
    "the  European  Simulation  and  Modelling  Conference  -  ESM'2011,  pp.  117-121,  Guimarães,  Portugal, \n",
    "October, 2011. EUROSIS\n",
    "\n",
    "Download  from  ‘banking3.csv’.  This  is  a  simplified  version  of   the  original  data  set.  There  are  18 \n",
    "features and one label variable y. y = 1 denotes success in getting client to put in a term deposit in that \n",
    "particular marketing campaign. y=0 denotes failure to do so in that particular marketing campaign."
   ]
  },
  {
   "cell_type": "code",
   "execution_count": 1,
   "metadata": {},
   "outputs": [],
   "source": [
    "import pandas as pd"
   ]
  },
  {
   "cell_type": "code",
   "execution_count": 2,
   "metadata": {},
   "outputs": [],
   "source": [
    "df = pd.read_csv(\"./QF634-G1-Applied Quantitative Research Methods - 11202024 - 802 PM/banking3.csv\",index_col=0)"
   ]
  },
  {
   "cell_type": "code",
   "execution_count": 3,
   "metadata": {},
   "outputs": [
    {
     "data": {
      "text/plain": [
       "(41188, 19)"
      ]
     },
     "execution_count": 3,
     "metadata": {},
     "output_type": "execute_result"
    }
   ],
   "source": [
    "df.shape"
   ]
  },
  {
   "cell_type": "code",
   "execution_count": 4,
   "metadata": {},
   "outputs": [
    {
     "data": {
      "text/plain": [
       "Index(['euribor3m', 'job_blue-collar', 'job_housemaid', 'marital_single',\n",
       "       'education_illiterate', 'default_no', 'contact_cellular', 'month_apr',\n",
       "       'month_aug', 'month_dec', 'month_jul', 'month_jun', 'month_mar',\n",
       "       'month_may', 'month_nov', 'month_oct', 'poutcome_failure',\n",
       "       'poutcome_success', 'y'],\n",
       "      dtype='object')"
      ]
     },
     "execution_count": 4,
     "metadata": {},
     "output_type": "execute_result"
    }
   ],
   "source": [
    "df.columns"
   ]
  },
  {
   "cell_type": "code",
   "execution_count": 5,
   "metadata": {},
   "outputs": [
    {
     "data": {
      "text/html": [
       "<div>\n",
       "<style scoped>\n",
       "    .dataframe tbody tr th:only-of-type {\n",
       "        vertical-align: middle;\n",
       "    }\n",
       "\n",
       "    .dataframe tbody tr th {\n",
       "        vertical-align: top;\n",
       "    }\n",
       "\n",
       "    .dataframe thead th {\n",
       "        text-align: right;\n",
       "    }\n",
       "</style>\n",
       "<table border=\"1\" class=\"dataframe\">\n",
       "  <thead>\n",
       "    <tr style=\"text-align: right;\">\n",
       "      <th></th>\n",
       "      <th>euribor3m</th>\n",
       "      <th>job_blue-collar</th>\n",
       "      <th>job_housemaid</th>\n",
       "      <th>marital_single</th>\n",
       "      <th>education_illiterate</th>\n",
       "      <th>default_no</th>\n",
       "      <th>contact_cellular</th>\n",
       "      <th>month_apr</th>\n",
       "      <th>month_aug</th>\n",
       "      <th>month_dec</th>\n",
       "      <th>month_jul</th>\n",
       "      <th>month_jun</th>\n",
       "      <th>month_mar</th>\n",
       "      <th>month_may</th>\n",
       "      <th>month_nov</th>\n",
       "      <th>month_oct</th>\n",
       "      <th>poutcome_failure</th>\n",
       "      <th>poutcome_success</th>\n",
       "      <th>y</th>\n",
       "    </tr>\n",
       "  </thead>\n",
       "  <tbody>\n",
       "    <tr>\n",
       "      <th>0</th>\n",
       "      <td>4.963</td>\n",
       "      <td>1</td>\n",
       "      <td>0</td>\n",
       "      <td>0</td>\n",
       "      <td>0</td>\n",
       "      <td>0</td>\n",
       "      <td>1</td>\n",
       "      <td>0</td>\n",
       "      <td>1</td>\n",
       "      <td>0</td>\n",
       "      <td>0</td>\n",
       "      <td>0</td>\n",
       "      <td>0</td>\n",
       "      <td>0</td>\n",
       "      <td>0</td>\n",
       "      <td>0</td>\n",
       "      <td>0</td>\n",
       "      <td>0</td>\n",
       "      <td>0</td>\n",
       "    </tr>\n",
       "    <tr>\n",
       "      <th>1</th>\n",
       "      <td>4.021</td>\n",
       "      <td>0</td>\n",
       "      <td>0</td>\n",
       "      <td>0</td>\n",
       "      <td>0</td>\n",
       "      <td>1</td>\n",
       "      <td>1</td>\n",
       "      <td>0</td>\n",
       "      <td>0</td>\n",
       "      <td>0</td>\n",
       "      <td>0</td>\n",
       "      <td>0</td>\n",
       "      <td>0</td>\n",
       "      <td>0</td>\n",
       "      <td>1</td>\n",
       "      <td>0</td>\n",
       "      <td>0</td>\n",
       "      <td>0</td>\n",
       "      <td>0</td>\n",
       "    </tr>\n",
       "    <tr>\n",
       "      <th>2</th>\n",
       "      <td>0.729</td>\n",
       "      <td>0</td>\n",
       "      <td>0</td>\n",
       "      <td>1</td>\n",
       "      <td>0</td>\n",
       "      <td>1</td>\n",
       "      <td>1</td>\n",
       "      <td>0</td>\n",
       "      <td>0</td>\n",
       "      <td>0</td>\n",
       "      <td>0</td>\n",
       "      <td>1</td>\n",
       "      <td>0</td>\n",
       "      <td>0</td>\n",
       "      <td>0</td>\n",
       "      <td>0</td>\n",
       "      <td>0</td>\n",
       "      <td>1</td>\n",
       "      <td>1</td>\n",
       "    </tr>\n",
       "    <tr>\n",
       "      <th>3</th>\n",
       "      <td>1.405</td>\n",
       "      <td>0</td>\n",
       "      <td>0</td>\n",
       "      <td>0</td>\n",
       "      <td>0</td>\n",
       "      <td>1</td>\n",
       "      <td>1</td>\n",
       "      <td>1</td>\n",
       "      <td>0</td>\n",
       "      <td>0</td>\n",
       "      <td>0</td>\n",
       "      <td>0</td>\n",
       "      <td>0</td>\n",
       "      <td>0</td>\n",
       "      <td>0</td>\n",
       "      <td>0</td>\n",
       "      <td>0</td>\n",
       "      <td>0</td>\n",
       "      <td>0</td>\n",
       "    </tr>\n",
       "    <tr>\n",
       "      <th>4</th>\n",
       "      <td>0.869</td>\n",
       "      <td>0</td>\n",
       "      <td>0</td>\n",
       "      <td>0</td>\n",
       "      <td>0</td>\n",
       "      <td>1</td>\n",
       "      <td>1</td>\n",
       "      <td>0</td>\n",
       "      <td>1</td>\n",
       "      <td>0</td>\n",
       "      <td>0</td>\n",
       "      <td>0</td>\n",
       "      <td>0</td>\n",
       "      <td>0</td>\n",
       "      <td>0</td>\n",
       "      <td>0</td>\n",
       "      <td>0</td>\n",
       "      <td>1</td>\n",
       "      <td>1</td>\n",
       "    </tr>\n",
       "  </tbody>\n",
       "</table>\n",
       "</div>"
      ],
      "text/plain": [
       "   euribor3m  job_blue-collar  job_housemaid  marital_single  \\\n",
       "0      4.963                1              0               0   \n",
       "1      4.021                0              0               0   \n",
       "2      0.729                0              0               1   \n",
       "3      1.405                0              0               0   \n",
       "4      0.869                0              0               0   \n",
       "\n",
       "   education_illiterate  default_no  contact_cellular  month_apr  month_aug  \\\n",
       "0                     0           0                 1          0          1   \n",
       "1                     0           1                 1          0          0   \n",
       "2                     0           1                 1          0          0   \n",
       "3                     0           1                 1          1          0   \n",
       "4                     0           1                 1          0          1   \n",
       "\n",
       "   month_dec  month_jul  month_jun  month_mar  month_may  month_nov  \\\n",
       "0          0          0          0          0          0          0   \n",
       "1          0          0          0          0          0          1   \n",
       "2          0          0          1          0          0          0   \n",
       "3          0          0          0          0          0          0   \n",
       "4          0          0          0          0          0          0   \n",
       "\n",
       "   month_oct  poutcome_failure  poutcome_success  y  \n",
       "0          0                 0                 0  0  \n",
       "1          0                 0                 0  0  \n",
       "2          0                 0                 1  1  \n",
       "3          0                 0                 0  0  \n",
       "4          0                 0                 1  1  "
      ]
     },
     "execution_count": 5,
     "metadata": {},
     "output_type": "execute_result"
    }
   ],
   "source": [
    "df.head()"
   ]
  },
  {
   "cell_type": "code",
   "execution_count": 6,
   "metadata": {},
   "outputs": [
    {
     "name": "stdout",
     "output_type": "stream",
     "text": [
      "<class 'pandas.core.frame.DataFrame'>\n",
      "Index: 41188 entries, 0 to 41187\n",
      "Data columns (total 19 columns):\n",
      " #   Column                Non-Null Count  Dtype  \n",
      "---  ------                --------------  -----  \n",
      " 0   euribor3m             41188 non-null  float64\n",
      " 1   job_blue-collar       41188 non-null  int64  \n",
      " 2   job_housemaid         41188 non-null  int64  \n",
      " 3   marital_single        41188 non-null  int64  \n",
      " 4   education_illiterate  41188 non-null  int64  \n",
      " 5   default_no            41188 non-null  int64  \n",
      " 6   contact_cellular      41188 non-null  int64  \n",
      " 7   month_apr             41188 non-null  int64  \n",
      " 8   month_aug             41188 non-null  int64  \n",
      " 9   month_dec             41188 non-null  int64  \n",
      " 10  month_jul             41188 non-null  int64  \n",
      " 11  month_jun             41188 non-null  int64  \n",
      " 12  month_mar             41188 non-null  int64  \n",
      " 13  month_may             41188 non-null  int64  \n",
      " 14  month_nov             41188 non-null  int64  \n",
      " 15  month_oct             41188 non-null  int64  \n",
      " 16  poutcome_failure      41188 non-null  int64  \n",
      " 17  poutcome_success      41188 non-null  int64  \n",
      " 18  y                     41188 non-null  int64  \n",
      "dtypes: float64(1), int64(18)\n",
      "memory usage: 6.3 MB\n"
     ]
    }
   ],
   "source": [
    "df.info()"
   ]
  },
  {
   "cell_type": "code",
   "execution_count": 7,
   "metadata": {},
   "outputs": [
    {
     "data": {
      "text/html": [
       "<div>\n",
       "<style scoped>\n",
       "    .dataframe tbody tr th:only-of-type {\n",
       "        vertical-align: middle;\n",
       "    }\n",
       "\n",
       "    .dataframe tbody tr th {\n",
       "        vertical-align: top;\n",
       "    }\n",
       "\n",
       "    .dataframe thead th {\n",
       "        text-align: right;\n",
       "    }\n",
       "</style>\n",
       "<table border=\"1\" class=\"dataframe\">\n",
       "  <thead>\n",
       "    <tr style=\"text-align: right;\">\n",
       "      <th></th>\n",
       "      <th>euribor3m</th>\n",
       "      <th>job_blue-collar</th>\n",
       "      <th>job_housemaid</th>\n",
       "      <th>marital_single</th>\n",
       "      <th>education_illiterate</th>\n",
       "      <th>default_no</th>\n",
       "      <th>contact_cellular</th>\n",
       "      <th>month_apr</th>\n",
       "      <th>month_aug</th>\n",
       "      <th>month_dec</th>\n",
       "      <th>month_jul</th>\n",
       "      <th>month_jun</th>\n",
       "      <th>month_mar</th>\n",
       "      <th>month_may</th>\n",
       "      <th>month_nov</th>\n",
       "      <th>month_oct</th>\n",
       "      <th>poutcome_failure</th>\n",
       "      <th>poutcome_success</th>\n",
       "      <th>y</th>\n",
       "    </tr>\n",
       "  </thead>\n",
       "  <tbody>\n",
       "    <tr>\n",
       "      <th>count</th>\n",
       "      <td>41188.000000</td>\n",
       "      <td>41188.000000</td>\n",
       "      <td>41188.000000</td>\n",
       "      <td>41188.000000</td>\n",
       "      <td>41188.000000</td>\n",
       "      <td>41188.000000</td>\n",
       "      <td>41188.000000</td>\n",
       "      <td>41188.000000</td>\n",
       "      <td>41188.000000</td>\n",
       "      <td>41188.000000</td>\n",
       "      <td>41188.000000</td>\n",
       "      <td>41188.000000</td>\n",
       "      <td>41188.000000</td>\n",
       "      <td>41188.000000</td>\n",
       "      <td>41188.000000</td>\n",
       "      <td>41188.000000</td>\n",
       "      <td>41188.000000</td>\n",
       "      <td>41188.000000</td>\n",
       "      <td>41188.000000</td>\n",
       "    </tr>\n",
       "    <tr>\n",
       "      <th>mean</th>\n",
       "      <td>3.621291</td>\n",
       "      <td>0.224677</td>\n",
       "      <td>0.025736</td>\n",
       "      <td>0.280859</td>\n",
       "      <td>0.000437</td>\n",
       "      <td>0.791201</td>\n",
       "      <td>0.634748</td>\n",
       "      <td>0.063902</td>\n",
       "      <td>0.149995</td>\n",
       "      <td>0.004419</td>\n",
       "      <td>0.174177</td>\n",
       "      <td>0.129115</td>\n",
       "      <td>0.013256</td>\n",
       "      <td>0.334296</td>\n",
       "      <td>0.099568</td>\n",
       "      <td>0.017432</td>\n",
       "      <td>0.103234</td>\n",
       "      <td>0.033335</td>\n",
       "      <td>0.112654</td>\n",
       "    </tr>\n",
       "    <tr>\n",
       "      <th>std</th>\n",
       "      <td>1.734447</td>\n",
       "      <td>0.417375</td>\n",
       "      <td>0.158348</td>\n",
       "      <td>0.449424</td>\n",
       "      <td>0.020901</td>\n",
       "      <td>0.406455</td>\n",
       "      <td>0.481507</td>\n",
       "      <td>0.244581</td>\n",
       "      <td>0.357071</td>\n",
       "      <td>0.066328</td>\n",
       "      <td>0.379266</td>\n",
       "      <td>0.335332</td>\n",
       "      <td>0.114372</td>\n",
       "      <td>0.471750</td>\n",
       "      <td>0.299427</td>\n",
       "      <td>0.130877</td>\n",
       "      <td>0.304268</td>\n",
       "      <td>0.179512</td>\n",
       "      <td>0.316173</td>\n",
       "    </tr>\n",
       "    <tr>\n",
       "      <th>min</th>\n",
       "      <td>0.634000</td>\n",
       "      <td>0.000000</td>\n",
       "      <td>0.000000</td>\n",
       "      <td>0.000000</td>\n",
       "      <td>0.000000</td>\n",
       "      <td>0.000000</td>\n",
       "      <td>0.000000</td>\n",
       "      <td>0.000000</td>\n",
       "      <td>0.000000</td>\n",
       "      <td>0.000000</td>\n",
       "      <td>0.000000</td>\n",
       "      <td>0.000000</td>\n",
       "      <td>0.000000</td>\n",
       "      <td>0.000000</td>\n",
       "      <td>0.000000</td>\n",
       "      <td>0.000000</td>\n",
       "      <td>0.000000</td>\n",
       "      <td>0.000000</td>\n",
       "      <td>0.000000</td>\n",
       "    </tr>\n",
       "    <tr>\n",
       "      <th>25%</th>\n",
       "      <td>1.344000</td>\n",
       "      <td>0.000000</td>\n",
       "      <td>0.000000</td>\n",
       "      <td>0.000000</td>\n",
       "      <td>0.000000</td>\n",
       "      <td>1.000000</td>\n",
       "      <td>0.000000</td>\n",
       "      <td>0.000000</td>\n",
       "      <td>0.000000</td>\n",
       "      <td>0.000000</td>\n",
       "      <td>0.000000</td>\n",
       "      <td>0.000000</td>\n",
       "      <td>0.000000</td>\n",
       "      <td>0.000000</td>\n",
       "      <td>0.000000</td>\n",
       "      <td>0.000000</td>\n",
       "      <td>0.000000</td>\n",
       "      <td>0.000000</td>\n",
       "      <td>0.000000</td>\n",
       "    </tr>\n",
       "    <tr>\n",
       "      <th>50%</th>\n",
       "      <td>4.857000</td>\n",
       "      <td>0.000000</td>\n",
       "      <td>0.000000</td>\n",
       "      <td>0.000000</td>\n",
       "      <td>0.000000</td>\n",
       "      <td>1.000000</td>\n",
       "      <td>1.000000</td>\n",
       "      <td>0.000000</td>\n",
       "      <td>0.000000</td>\n",
       "      <td>0.000000</td>\n",
       "      <td>0.000000</td>\n",
       "      <td>0.000000</td>\n",
       "      <td>0.000000</td>\n",
       "      <td>0.000000</td>\n",
       "      <td>0.000000</td>\n",
       "      <td>0.000000</td>\n",
       "      <td>0.000000</td>\n",
       "      <td>0.000000</td>\n",
       "      <td>0.000000</td>\n",
       "    </tr>\n",
       "    <tr>\n",
       "      <th>75%</th>\n",
       "      <td>4.961000</td>\n",
       "      <td>0.000000</td>\n",
       "      <td>0.000000</td>\n",
       "      <td>1.000000</td>\n",
       "      <td>0.000000</td>\n",
       "      <td>1.000000</td>\n",
       "      <td>1.000000</td>\n",
       "      <td>0.000000</td>\n",
       "      <td>0.000000</td>\n",
       "      <td>0.000000</td>\n",
       "      <td>0.000000</td>\n",
       "      <td>0.000000</td>\n",
       "      <td>0.000000</td>\n",
       "      <td>1.000000</td>\n",
       "      <td>0.000000</td>\n",
       "      <td>0.000000</td>\n",
       "      <td>0.000000</td>\n",
       "      <td>0.000000</td>\n",
       "      <td>0.000000</td>\n",
       "    </tr>\n",
       "    <tr>\n",
       "      <th>max</th>\n",
       "      <td>5.045000</td>\n",
       "      <td>1.000000</td>\n",
       "      <td>1.000000</td>\n",
       "      <td>1.000000</td>\n",
       "      <td>1.000000</td>\n",
       "      <td>1.000000</td>\n",
       "      <td>1.000000</td>\n",
       "      <td>1.000000</td>\n",
       "      <td>1.000000</td>\n",
       "      <td>1.000000</td>\n",
       "      <td>1.000000</td>\n",
       "      <td>1.000000</td>\n",
       "      <td>1.000000</td>\n",
       "      <td>1.000000</td>\n",
       "      <td>1.000000</td>\n",
       "      <td>1.000000</td>\n",
       "      <td>1.000000</td>\n",
       "      <td>1.000000</td>\n",
       "      <td>1.000000</td>\n",
       "    </tr>\n",
       "  </tbody>\n",
       "</table>\n",
       "</div>"
      ],
      "text/plain": [
       "          euribor3m  job_blue-collar  job_housemaid  marital_single  \\\n",
       "count  41188.000000     41188.000000   41188.000000    41188.000000   \n",
       "mean       3.621291         0.224677       0.025736        0.280859   \n",
       "std        1.734447         0.417375       0.158348        0.449424   \n",
       "min        0.634000         0.000000       0.000000        0.000000   \n",
       "25%        1.344000         0.000000       0.000000        0.000000   \n",
       "50%        4.857000         0.000000       0.000000        0.000000   \n",
       "75%        4.961000         0.000000       0.000000        1.000000   \n",
       "max        5.045000         1.000000       1.000000        1.000000   \n",
       "\n",
       "       education_illiterate    default_no  contact_cellular     month_apr  \\\n",
       "count          41188.000000  41188.000000      41188.000000  41188.000000   \n",
       "mean               0.000437      0.791201          0.634748      0.063902   \n",
       "std                0.020901      0.406455          0.481507      0.244581   \n",
       "min                0.000000      0.000000          0.000000      0.000000   \n",
       "25%                0.000000      1.000000          0.000000      0.000000   \n",
       "50%                0.000000      1.000000          1.000000      0.000000   \n",
       "75%                0.000000      1.000000          1.000000      0.000000   \n",
       "max                1.000000      1.000000          1.000000      1.000000   \n",
       "\n",
       "          month_aug     month_dec     month_jul     month_jun     month_mar  \\\n",
       "count  41188.000000  41188.000000  41188.000000  41188.000000  41188.000000   \n",
       "mean       0.149995      0.004419      0.174177      0.129115      0.013256   \n",
       "std        0.357071      0.066328      0.379266      0.335332      0.114372   \n",
       "min        0.000000      0.000000      0.000000      0.000000      0.000000   \n",
       "25%        0.000000      0.000000      0.000000      0.000000      0.000000   \n",
       "50%        0.000000      0.000000      0.000000      0.000000      0.000000   \n",
       "75%        0.000000      0.000000      0.000000      0.000000      0.000000   \n",
       "max        1.000000      1.000000      1.000000      1.000000      1.000000   \n",
       "\n",
       "          month_may     month_nov     month_oct  poutcome_failure  \\\n",
       "count  41188.000000  41188.000000  41188.000000      41188.000000   \n",
       "mean       0.334296      0.099568      0.017432          0.103234   \n",
       "std        0.471750      0.299427      0.130877          0.304268   \n",
       "min        0.000000      0.000000      0.000000          0.000000   \n",
       "25%        0.000000      0.000000      0.000000          0.000000   \n",
       "50%        0.000000      0.000000      0.000000          0.000000   \n",
       "75%        1.000000      0.000000      0.000000          0.000000   \n",
       "max        1.000000      1.000000      1.000000          1.000000   \n",
       "\n",
       "       poutcome_success             y  \n",
       "count      41188.000000  41188.000000  \n",
       "mean           0.033335      0.112654  \n",
       "std            0.179512      0.316173  \n",
       "min            0.000000      0.000000  \n",
       "25%            0.000000      0.000000  \n",
       "50%            0.000000      0.000000  \n",
       "75%            0.000000      0.000000  \n",
       "max            1.000000      1.000000  "
      ]
     },
     "execution_count": 7,
     "metadata": {},
     "output_type": "execute_result"
    }
   ],
   "source": [
    "df.describe()"
   ]
  },
  {
   "cell_type": "markdown",
   "metadata": {},
   "source": [
    "The features are self-explanatory. Many variables are dummy variables, e.g., job_blue-collar = 1 if  the \n",
    "potential  client  is  a  blue-collar  worker,  0  otherwise.  Default_no  =  1  means  client  has  no  default  in  \n",
    "loans before, 0 otherwise. Contact_cellular = 1 if  it is contact by handphone (not land line telephone) \n",
    "and 0 otherwise. Month_apr = 1 means last contact timing is previous April, 0 otherwise, and so on.\n",
    "   \n",
    "Poutcome_failure = 1 means client was approached in previous marketing campaign and there was failure to \n",
    "secure a deposit from client, 0 means client was not in previous campaign listing.\n",
    "\n",
    "Poutcome_success = 1 means client was approached in previous marketing campaign and there was success to \n",
    "secure a deposit from client, 0 means client was not in previous campaign listing.\n",
    "\n",
    "Euribor3m is the 3-month Euribor interest rate prevailing. The data was captured over several years over many \n",
    "campaigns, so the Euribor rates vary over the data points depending on when is the latest campaign.\n",
    "\n",
    "All the features refer to those in that particular campaign when y=1 or 0 was noted"
   ]
  },
  {
   "cell_type": "markdown",
   "metadata": {},
   "source": []
  },
  {
   "cell_type": "code",
   "execution_count": 8,
   "metadata": {},
   "outputs": [],
   "source": [
    "X = df.drop(columns=['y'])\n",
    "y = df['y']"
   ]
  },
  {
   "cell_type": "code",
   "execution_count": 9,
   "metadata": {},
   "outputs": [
    {
     "data": {
      "text/plain": [
       "((41188, 18), (41188,))"
      ]
     },
     "execution_count": 9,
     "metadata": {},
     "output_type": "execute_result"
    }
   ],
   "source": [
    "X.shape, y.shape"
   ]
  },
  {
   "cell_type": "markdown",
   "metadata": {},
   "source": [
    "Perform a logistic regression as follows:"
   ]
  },
  {
   "cell_type": "code",
   "execution_count": 10,
   "metadata": {},
   "outputs": [],
   "source": [
    "from sklearn.linear_model import LogisticRegression\n",
    "from sklearn import metrics\n",
    "from sklearn.model_selection import train_test_split\n",
    "\n",
    "X_train, X_test, y_train, y_test = train_test_split(X, y, test_size=0.3, random_state=0)\n",
    "logreg = LogisticRegression()\n",
    "Lresult=logreg.fit(X_train, y_train)\n"
   ]
  },
  {
   "cell_type": "code",
   "execution_count": 11,
   "metadata": {},
   "outputs": [
    {
     "name": "stdout",
     "output_type": "stream",
     "text": [
      "Accuracy of logistic regression classifier on test set: 0.90\n"
     ]
    }
   ],
   "source": [
    "y_pred = logreg.predict(X_test)\n",
    "print('Accuracy of logistic regression classifier on test set: {:.2f}'.format(logreg.score(X_test, y_test)))"
   ]
  },
  {
   "cell_type": "code",
   "execution_count": 12,
   "metadata": {},
   "outputs": [
    {
     "name": "stdout",
     "output_type": "stream",
     "text": [
      "[[-0.50500418 -0.22981685 -0.17915562  0.05415056  0.27616133  0.27470228\n",
      "   0.13863229 -0.62756319 -0.35992966 -0.1767201  -0.06267282 -0.15093429\n",
      "   0.36210547 -1.25209664 -0.46773905  0.10904289 -0.35778423  1.4653542 ]] [-0.37612157]\n"
     ]
    }
   ],
   "source": [
    "print(Lresult.coef_, Lresult.intercept_)"
   ]
  },
  {
   "cell_type": "code",
   "execution_count": 13,
   "metadata": {},
   "outputs": [
    {
     "data": {
      "text/plain": [
       "1376"
      ]
     },
     "execution_count": 13,
     "metadata": {},
     "output_type": "execute_result"
    }
   ],
   "source": [
    "import numpy as np\n",
    "np.sum(y_test)"
   ]
  },
  {
   "cell_type": "markdown",
   "metadata": {},
   "source": [
    "Report the confusion matrix,"
   ]
  },
  {
   "cell_type": "code",
   "execution_count": 14,
   "metadata": {},
   "outputs": [
    {
     "name": "stdout",
     "output_type": "stream",
     "text": [
      "[[10880   101]\n",
      " [ 1125   251]]\n"
     ]
    }
   ],
   "source": [
    "from sklearn.metrics import confusion_matrix\n",
    "confusion_matrix = confusion_matrix(y_test, y_pred)\n",
    "print(confusion_matrix)"
   ]
  },
  {
   "cell_type": "markdown",
   "metadata": {},
   "source": [
    "the classification report,"
   ]
  },
  {
   "cell_type": "code",
   "execution_count": 16,
   "metadata": {},
   "outputs": [
    {
     "name": "stdout",
     "output_type": "stream",
     "text": [
      "              precision    recall  f1-score   support\n",
      "\n",
      "           0       0.91      0.99      0.95     10981\n",
      "           1       0.71      0.18      0.29      1376\n",
      "\n",
      "    accuracy                           0.90     12357\n",
      "   macro avg       0.81      0.59      0.62     12357\n",
      "weighted avg       0.88      0.90      0.87     12357\n",
      "\n"
     ]
    }
   ],
   "source": [
    "from sklearn.metrics import classification_report\n",
    "print(classification_report(y_test, y_pred))\n",
    "### classification_report(y_test, y_pred, digits=8) # will give more decimal places"
   ]
  },
  {
   "cell_type": "markdown",
   "metadata": {},
   "source": [
    "under threshhold for 0.5 where y=0 is positive, what is the false positive rate\n",
    "\n",
    "$$\n",
    "\\frac{\\text{FP}_0}{\\text{FP}_0 + \\text{TN}_0}\n",
    "$$\n",
    "\n",
    "confusion matrix\n",
    "|                | Predicted: 0 | Predicted: 1 |\n",
    "|----------------|--------------|--------------|\n",
    "| **True: 0**    | 10880        | 101          |\n",
    "| **True: 1**    | 1125         | 251          |\n",
    "\n",
    "Also,\n",
    "|                | Predicted: 0 | Predicted: 1 |\n",
    "|----------------|--------------|--------------|\n",
    "| **True: 0**    | TP_0         | FN_0         |\n",
    "| **True: 1**    | FP_0         | TN_0         |\n"
   ]
  },
  {
   "cell_type": "code",
   "execution_count": 3,
   "metadata": {},
   "outputs": [
    {
     "data": {
      "text/plain": [
       "0.8175872093023255"
      ]
     },
     "execution_count": 3,
     "metadata": {},
     "output_type": "execute_result"
    }
   ],
   "source": [
    "1125/(1125+251)"
   ]
  },
  {
   "cell_type": "markdown",
   "metadata": {},
   "source": [
    "and show the Area under the ROC Curve."
   ]
  },
  {
   "cell_type": "code",
   "execution_count": 17,
   "metadata": {},
   "outputs": [
    {
     "data": {
      "text/plain": [
       "0.7905454228021762"
      ]
     },
     "execution_count": 17,
     "metadata": {},
     "output_type": "execute_result"
    }
   ],
   "source": [
    "import sklearn.metrics as metrics\n",
    "# calculate the fpr and tpr for all thresholds of the classification\n",
    "preds_logreg = logreg.predict_proba(X_test)[:,1]\n",
    "\n",
    "fpr, tpr, thresholds = metrics.roc_curve(y_test, preds_logreg)  \n",
    "    # matches y_test of 1's and 0's versus pred prob of 1's for each of the 10,523 test cases\n",
    "    # sklearn.metrics.roc_curve(y_true, y_score,...) requires y_true as 0,1 input and y_score as prob inputs\n",
    "    # this metrics.roc_curve returns fpr, tpr, thresholds (Decreasing thresholds used to compute fpr and tpr)\n",
    "    \n",
    "    # above can also be done using: fpr, tpr, thresholds = roc_curve(y_test, logreg.predict_proba(X_test)[:,1])\n",
    "roc_auc_logreg = metrics.auc(fpr, tpr)\n",
    "    # sklearn.metrics.auc(fpr,tpr) returns AUC using trapezoidal rule\n",
    "    # Compute Area Under the Curve (AUC) using the trapezoidal rule.\n",
    "    # This is a general function, given points on a curve. For computing the area under the ROC-curve, see roc_auc_score. \n",
    "roc_auc_logreg\n"
   ]
  },
  {
   "cell_type": "code",
   "execution_count": 18,
   "metadata": {},
   "outputs": [
    {
     "data": {
      "image/png": "[encoded data removed]",
      "text/plain": [
       "<Figure size 640x480 with 1 Axes>"
      ]
     },
     "metadata": {},
     "output_type": "display_data"
    }
   ],
   "source": [
    "\n",
    "import matplotlib.pyplot as plt\n",
    "plt.rc(\"font\", size=14)\n",
    "plt.title('Receiver Operating Characteristic')\n",
    "plt.plot(fpr, tpr, 'b', label = 'AUC = %0.2f' % roc_auc_logreg)\n",
    "plt.legend(loc = 'lower right')\n",
    "plt.plot([0, 1], [0, 1],'r--')\n",
    "plt.xlim([0, 1])\n",
    "plt.ylim([0, 1])\n",
    "plt.ylabel('True Positive Rate')\n",
    "plt.xlabel('False Positive Rate')\n",
    "plt.show()"
   ]
  },
  {
   "cell_type": "code",
   "execution_count": 19,
   "metadata": {},
   "outputs": [],
   "source": [
    "from sklearn.preprocessing import StandardScaler\n",
    "scaler = StandardScaler() \n",
    "#`StandardScaler` in `sklearn.preprocessing` module is used to \n",
    "# standardize features by removing the mean and scaling to unit variance.\n",
    "X1_train=scaler.fit_transform(X_train)\n",
    "X1_test =scaler.transform(X_test)\n",
    "\n"
   ]
  },
  {
   "cell_type": "code",
   "execution_count": 20,
   "metadata": {},
   "outputs": [],
   "source": [
    "logreg1 = LogisticRegression()\n",
    "Lresult=logreg1.fit(X1_train, y_train)"
   ]
  },
  {
   "cell_type": "code",
   "execution_count": 21,
   "metadata": {},
   "outputs": [
    {
     "name": "stdout",
     "output_type": "stream",
     "text": [
      "Accuracy of logistic regression classifier on test set: 0.90\n"
     ]
    }
   ],
   "source": [
    "y_pred = logreg1.predict(X1_test)\n",
    "print('Accuracy of logistic regression classifier on test set: {:.2f}'.format(logreg1.score(X1_test, y_test)))"
   ]
  },
  {
   "cell_type": "code",
   "execution_count": 22,
   "metadata": {},
   "outputs": [
    {
     "data": {
      "text/plain": [
       "15500    0\n",
       "29034    0\n",
       "11199    0\n",
       "22247    0\n",
       "27180    0\n",
       "        ..\n",
       "20920    0\n",
       "15744    0\n",
       "34965    0\n",
       "4644     0\n",
       "20742    0\n",
       "Name: y, Length: 12357, dtype: int64"
      ]
     },
     "execution_count": 22,
     "metadata": {},
     "output_type": "execute_result"
    }
   ],
   "source": [
    "y_test"
   ]
  },
  {
   "cell_type": "code",
   "execution_count": 25,
   "metadata": {},
   "outputs": [
    {
     "data": {
      "text/plain": [
       "array([[10880,   101],\n",
       "       [ 1125,   251]])"
      ]
     },
     "execution_count": 25,
     "metadata": {},
     "output_type": "execute_result"
    }
   ],
   "source": [
    "from sklearn.metrics import confusion_matrix\n",
    "\n",
    "# Correct naming\n",
    "confusion_matrix(y_test, y_pred)"
   ]
  },
  {
   "cell_type": "code",
   "execution_count": 26,
   "metadata": {},
   "outputs": [
    {
     "name": "stdout",
     "output_type": "stream",
     "text": [
      "              precision    recall  f1-score   support\n",
      "\n",
      "           0       0.91      0.99      0.95     10981\n",
      "           1       0.71      0.18      0.29      1376\n",
      "\n",
      "    accuracy                           0.90     12357\n",
      "   macro avg       0.81      0.59      0.62     12357\n",
      "weighted avg       0.88      0.90      0.87     12357\n",
      "\n"
     ]
    }
   ],
   "source": [
    "\n",
    "print(classification_report(y_test, y_pred))\n",
    "### classification_report(y_test, y_pred, digits=8) # will give more decimal places"
   ]
  },
  {
   "cell_type": "code",
   "execution_count": 27,
   "metadata": {},
   "outputs": [
    {
     "data": {
      "text/plain": [
       "0.7907523738148132"
      ]
     },
     "execution_count": 27,
     "metadata": {},
     "output_type": "execute_result"
    }
   ],
   "source": [
    "preds_logreg1 = logreg1.predict_proba(X1_test)[:,1]\n",
    "\n",
    "fpr, tpr, thresholds = metrics.roc_curve(y_test, preds_logreg1)  \n",
    "    # matches y_test of 1's and 0's versus pred prob of 1's for each of the 10,523 test cases\n",
    "    # sklearn.metrics.roc_curve(y_true, y_score,...) requires y_true as 0,1 input and y_score as prob inputs\n",
    "    # this metrics.roc_curve returns fpr, tpr, thresholds (Decreasing thresholds used to compute fpr and tpr)\n",
    "    \n",
    "    # above can also be done using: fpr, tpr, thresholds = roc_curve(y_test, logreg.predict_proba(X_test)[:,1])\n",
    "roc_auc_logreg = metrics.auc(fpr, tpr)\n",
    "    # sklearn.metrics.auc(fpr,tpr) returns AUC using trapezoidal rule\n",
    "    # Compute Area Under the Curve (AUC) using the trapezoidal rule.\n",
    "    # This is a general function, given points on a curve. For computing the area under the ROC-curve, see roc_auc_score. \n",
    "roc_auc_logreg"
   ]
  },
  {
   "cell_type": "markdown",
   "metadata": {},
   "source": [
    "Scaled result no difference to non-scaled"
   ]
  },
  {
   "cell_type": "code",
   "execution_count": 28,
   "metadata": {},
   "outputs": [
    {
     "data": {
      "image/png": "[encoded data removed]",
      "text/plain": [
       "<Figure size 640x480 with 1 Axes>"
      ]
     },
     "metadata": {},
     "output_type": "display_data"
    }
   ],
   "source": [
    "plt.rc(\"font\", size=14)\n",
    "plt.title('Receiver Operating Characteristic')\n",
    "plt.plot(fpr, tpr, 'b', label = 'AUC = %0.2f' % roc_auc_logreg)\n",
    "plt.legend(loc = 'lower right')\n",
    "plt.plot([0, 1], [0, 1],'r--')\n",
    "plt.xlim([0, 1])\n",
    "plt.ylim([0, 1])\n",
    "plt.ylabel('True Positive Rate')\n",
    "plt.xlabel('False Positive Rate')\n",
    "plt.show()"
   ]
  },
  {
   "cell_type": "markdown",
   "metadata": {},
   "source": []
  }
 ],
 "metadata": {
  "kernelspec": {
   "display_name": "Python 3",
   "language": "python",
   "name": "python3"
  },
  "language_info": {
   "codemirror_mode": {
    "name": "ipython",
    "version": 3
   },
   "file_extension": ".py",
   "mimetype": "text/x-python",
   "name": "python",
   "nbconvert_exporter": "python",
   "pygments_lexer": "ipython3",
   "version": "3.12.0"
  }
 },
 "nbformat": 4,
 "nbformat_minor": 2
}
