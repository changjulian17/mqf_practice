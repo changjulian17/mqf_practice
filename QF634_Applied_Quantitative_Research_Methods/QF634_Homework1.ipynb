{
 "cells": [
  {
   "cell_type": "markdown",
   "metadata": {},
   "source": [
    "# Homework 1 Graded Exercise:\n",
    "Chapter2-2.ipynb (this file is provided only after grading) \\\n",
    "Use data set ‘cruise_ship_info.csv’ to predict the number of  crews required to man a cruise ship given certain  features/attributes  of   the  ship.  Use  the  \n",
    "\n",
    "## features  \n",
    "- Age,  \n",
    "- TonnageGTx1000  (30.0  means  30,000 gross  tons),  \n",
    "- passengersx100  (6.94  means  694  passengers),  \n",
    "- lengthx100ft  (5.94  means  594  feet  length  of ship), \n",
    "- cabinsx100 (3.55 means a total of  355 cabins on the ship), \n",
    "- and spaceratio (42.64 means number of   gross  tonnage  divided  by  number  of   passengers  on ship).  \n",
    "\n",
    "## Target variable  is  \n",
    "- Crewx100  (3.55  means 355 crews on the ship). \n",
    "\n",
    "Use  StandardScaler  to  standardize  all  the  features  (subtracting  by  mean  and  dividing  by  standard \n",
    "deviation). \\\n",
    " - Split the 158 rows of  sample into 70% training and 30% test. In train_test_split, use random_state = 0.\n",
    "\n",
    "\n",
    "\n"
   ]
  },
  {
   "cell_type": "code",
   "execution_count": 36,
   "metadata": {},
   "outputs": [],
   "source": [
    "import pandas as pd"
   ]
  },
  {
   "cell_type": "code",
   "execution_count": 37,
   "metadata": {},
   "outputs": [],
   "source": [
    "df = pd.read_csv(\"./QF634-G1-Applied Quantitative Research Methods - 11202024 - 802 PM/cruise_ship_info.csv\")"
   ]
  },
  {
   "cell_type": "code",
   "execution_count": 38,
   "metadata": {},
   "outputs": [
    {
     "name": "stdout",
     "output_type": "stream",
     "text": [
      "<class 'pandas.core.frame.DataFrame'>\n",
      "RangeIndex: 158 entries, 0 to 157\n",
      "Data columns (total 9 columns):\n",
      " #   Column          Non-Null Count  Dtype  \n",
      "---  ------          --------------  -----  \n",
      " 0   Ship_name       158 non-null    object \n",
      " 1   Cruise_line     158 non-null    object \n",
      " 2   Age             158 non-null    int64  \n",
      " 3   TonnageGTx1000  158 non-null    float64\n",
      " 4   passengersx100  158 non-null    float64\n",
      " 5   lengthx100ft    158 non-null    float64\n",
      " 6   cabinsx100      158 non-null    float64\n",
      " 7   spaceratio      158 non-null    float64\n",
      " 8   crewx100        158 non-null    float64\n",
      "dtypes: float64(6), int64(1), object(2)\n",
      "memory usage: 11.2+ KB\n"
     ]
    }
   ],
   "source": [
    "df.info()"
   ]
  },
  {
   "cell_type": "code",
   "execution_count": 39,
   "metadata": {},
   "outputs": [
    {
     "data": {
      "text/html": [
       "<div>\n",
       "<style scoped>\n",
       "    .dataframe tbody tr th:only-of-type {\n",
       "        vertical-align: middle;\n",
       "    }\n",
       "\n",
       "    .dataframe tbody tr th {\n",
       "        vertical-align: top;\n",
       "    }\n",
       "\n",
       "    .dataframe thead th {\n",
       "        text-align: right;\n",
       "    }\n",
       "</style>\n",
       "<table border=\"1\" class=\"dataframe\">\n",
       "  <thead>\n",
       "    <tr style=\"text-align: right;\">\n",
       "      <th></th>\n",
       "      <th>Ship_name</th>\n",
       "      <th>Cruise_line</th>\n",
       "      <th>Age</th>\n",
       "      <th>TonnageGTx1000</th>\n",
       "      <th>passengersx100</th>\n",
       "      <th>lengthx100ft</th>\n",
       "      <th>cabinsx100</th>\n",
       "      <th>spaceratio</th>\n",
       "      <th>crewx100</th>\n",
       "    </tr>\n",
       "  </thead>\n",
       "  <tbody>\n",
       "    <tr>\n",
       "      <th>0</th>\n",
       "      <td>Journey</td>\n",
       "      <td>Azamara</td>\n",
       "      <td>6</td>\n",
       "      <td>30.277</td>\n",
       "      <td>6.94</td>\n",
       "      <td>5.94</td>\n",
       "      <td>3.55</td>\n",
       "      <td>42.64</td>\n",
       "      <td>3.55</td>\n",
       "    </tr>\n",
       "    <tr>\n",
       "      <th>1</th>\n",
       "      <td>Quest</td>\n",
       "      <td>Azamara</td>\n",
       "      <td>6</td>\n",
       "      <td>30.277</td>\n",
       "      <td>6.94</td>\n",
       "      <td>5.94</td>\n",
       "      <td>3.55</td>\n",
       "      <td>42.64</td>\n",
       "      <td>3.55</td>\n",
       "    </tr>\n",
       "    <tr>\n",
       "      <th>2</th>\n",
       "      <td>Celebration</td>\n",
       "      <td>Carnival</td>\n",
       "      <td>26</td>\n",
       "      <td>47.262</td>\n",
       "      <td>14.86</td>\n",
       "      <td>7.22</td>\n",
       "      <td>7.43</td>\n",
       "      <td>31.80</td>\n",
       "      <td>6.70</td>\n",
       "    </tr>\n",
       "    <tr>\n",
       "      <th>3</th>\n",
       "      <td>Conquest</td>\n",
       "      <td>Carnival</td>\n",
       "      <td>11</td>\n",
       "      <td>110.000</td>\n",
       "      <td>29.74</td>\n",
       "      <td>9.53</td>\n",
       "      <td>14.88</td>\n",
       "      <td>36.99</td>\n",
       "      <td>19.10</td>\n",
       "    </tr>\n",
       "    <tr>\n",
       "      <th>4</th>\n",
       "      <td>Destiny</td>\n",
       "      <td>Carnival</td>\n",
       "      <td>17</td>\n",
       "      <td>101.353</td>\n",
       "      <td>26.42</td>\n",
       "      <td>8.92</td>\n",
       "      <td>13.21</td>\n",
       "      <td>38.36</td>\n",
       "      <td>10.00</td>\n",
       "    </tr>\n",
       "  </tbody>\n",
       "</table>\n",
       "</div>"
      ],
      "text/plain": [
       "     Ship_name Cruise_line  Age  TonnageGTx1000  passengersx100  lengthx100ft  \\\n",
       "0      Journey     Azamara    6          30.277            6.94          5.94   \n",
       "1        Quest     Azamara    6          30.277            6.94          5.94   \n",
       "2  Celebration    Carnival   26          47.262           14.86          7.22   \n",
       "3     Conquest    Carnival   11         110.000           29.74          9.53   \n",
       "4      Destiny    Carnival   17         101.353           26.42          8.92   \n",
       "\n",
       "   cabinsx100  spaceratio  crewx100  \n",
       "0        3.55       42.64      3.55  \n",
       "1        3.55       42.64      3.55  \n",
       "2        7.43       31.80      6.70  \n",
       "3       14.88       36.99     19.10  \n",
       "4       13.21       38.36     10.00  "
      ]
     },
     "execution_count": 39,
     "metadata": {},
     "output_type": "execute_result"
    }
   ],
   "source": [
    "df.head()"
   ]
  },
  {
   "cell_type": "code",
   "execution_count": 40,
   "metadata": {},
   "outputs": [],
   "source": [
    "X = df.drop(columns=['Ship_name', 'Cruise_line', 'crewx100'])\n",
    "y = df['crewx100'] "
   ]
  },
  {
   "cell_type": "code",
   "execution_count": 41,
   "metadata": {},
   "outputs": [
    {
     "name": "stdout",
     "output_type": "stream",
     "text": [
      "110 110 48 48\n"
     ]
    }
   ],
   "source": [
    "from sklearn.model_selection import train_test_split\n",
    "X_train, X_test, y_train, y_test = train_test_split(X, y, test_size = 0.3, random_state = 0) \n",
    "### test_size here is 20%; random state number is a seed number -- diff seed produces diff random draws\n",
    "### note 0.2*19615 = 3923 (or closest to an integer). 0.8*19615 = 15,692.\n",
    "### X_train, y_train each has 15,692 rows. \n",
    "### X_test, y_test each has 3923 rows\n",
    "### Latter can be checked using print(len(y_test))\n",
    "print(len(X_train),len(y_train),len(X_test),len(y_test))"
   ]
  },
  {
   "cell_type": "code",
   "execution_count": 42,
   "metadata": {},
   "outputs": [],
   "source": [
    "from sklearn.preprocessing import StandardScaler\n",
    "\n",
    "# Initialize scaler\n",
    "scaler = StandardScaler()\n",
    "# Linear model does not need to scale y\n",
    "X_train = scaler.fit_transform(X_train, y_train)\n",
    "X_test = scaler.transform(X_test)  # Use transform, not fit_transform\n",
    "# X_test = scaler.fit_transform(X_test)  # Use transform, not fit_transform"
   ]
  },
  {
   "cell_type": "markdown",
   "metadata": {},
   "source": [
    "### Q1. Using LinearRegression in sklearn.linear.model, find R2 for training data set, and R2 score for the test data set."
   ]
  },
  {
   "cell_type": "code",
   "execution_count": 43,
   "metadata": {},
   "outputs": [
    {
     "name": "stdout",
     "output_type": "stream",
     "text": [
      "Intercept (train): 7.584636363636363\n",
      "Slopes (train): [-0.072877    0.26018085 -1.46912253  0.88167707  3.76943323  0.033122  ]\n",
      "R2_score (train):  0.9118485946473178\n"
     ]
    }
   ],
   "source": [
    "from sklearn.linear_model import LinearRegression\n",
    "Linreg = LinearRegression()  \n",
    "Linreg.fit(X_train, y_train) ###training the algorithm, note regression is done without normalizing the X, y\n",
    "### To retrieve the intercept:\n",
    "print('Intercept (train):', Linreg.intercept_)\n",
    "### To retrieving the slope:\n",
    "print('Slopes (train):', Linreg.coef_)\n",
    "\n",
    "from sklearn.metrics import r2_score\n",
    "y_pred_Linreg_train = Linreg.predict(X_train)\n",
    "### Fitting y using the x_train data\n",
    "r2_score_Linreg_train = r2_score(y_train, y_pred_Linreg_train)\n",
    "\n",
    "print('R2_score (train): ', r2_score_Linreg_train)\n",
    "### R2_score (train) is the R-square in the linear regression involving only the training data set"
   ]
  },
  {
   "cell_type": "code",
   "execution_count": 44,
   "metadata": {},
   "outputs": [
    {
     "name": "stdout",
     "output_type": "stream",
     "text": [
      "R2_score (test):  0.957979988701403\n"
     ]
    }
   ],
   "source": [
    "y_pred_Linreg_test = Linreg.predict(X_test)\n",
    "### Fitting y using the x_test data\n",
    "r2_score_Linreg_test = r2_score(y_test, y_pred_Linreg_test)\n",
    "\n",
    "print('R2_score (test): ', r2_score_Linreg_test)"
   ]
  },
  {
   "cell_type": "markdown",
   "metadata": {},
   "source": [
    "### Q2. Now use a Ridge Regression with alpha = 0.05 and report the training and test R2 scores."
   ]
  },
  {
   "cell_type": "code",
   "execution_count": 45,
   "metadata": {},
   "outputs": [
    {
     "name": "stdout",
     "output_type": "stream",
     "text": [
      "Intercept (train):\t7.584636363636363\n",
      "Slopes (train):\t\t[-0.07197822  0.28002789 -1.40703519  0.8837327   3.68556985  0.03024898]\n",
      "R2_score (train): \t0.9118349660687162\n"
     ]
    }
   ],
   "source": [
    "from sklearn import linear_model\n",
    "from sklearn.metrics import r2_score\n",
    "\n",
    "Ridge=linear_model.Ridge(alpha=.05,)\n",
    "Ridge.fit(X_train, y_train)\n",
    "\n",
    "print(f\"Intercept (train):\\t{Ridge.intercept_}\")\n",
    "print(f\"Slopes (train):\\t\\t{Ridge.coef_}\")\n",
    "\n",
    "# predict test\n",
    "y_pred_ridge_train = Ridge.predict(X_train)\n",
    "r2_score_ridge_train = r2_score(y_train, y_pred_ridge_train)\n",
    "\n",
    "print(f\"R2_score (train): \\t{r2_score_ridge_train}\")"
   ]
  },
  {
   "cell_type": "code",
   "execution_count": 46,
   "metadata": {},
   "outputs": [
    {
     "name": "stdout",
     "output_type": "stream",
     "text": [
      "R2_score (test): \t0.9581682510918933\n"
     ]
    }
   ],
   "source": [
    "y_pred_ridge_test = Ridge.predict(X_test)\n",
    "r2_score_ridge_test = r2_score(y_test, y_pred_ridge_test)\n",
    "\n",
    "print(f\"R2_score (test): \\t{r2_score_ridge_test}\")"
   ]
  },
  {
   "cell_type": "markdown",
   "metadata": {},
   "source": [
    "### Q3. Now use a LASSO Regression with alpha = 0.01 and report the training and test R2 scores."
   ]
  },
  {
   "cell_type": "code",
   "execution_count": 47,
   "metadata": {},
   "outputs": [
    {
     "name": "stdout",
     "output_type": "stream",
     "text": [
      "Intercept (train):\t7.584636363636363\n",
      "Slopes (train):\t\t[-0.0532671   0.12859993 -0.83028528  0.89616769  3.26678071  0.07907695]\n",
      "R2_score (train):\t0.9109095096120939\n"
     ]
    }
   ],
   "source": [
    "Lasso=linear_model.Lasso(alpha=0.01,)\n",
    "Lasso.fit(X_train, y_train)\n",
    "\n",
    "print(f\"Intercept (train):\\t{Lasso.intercept_}\")\n",
    "print(f\"Slopes (train):\\t\\t{Lasso.coef_}\")\n",
    "\n",
    "y_pred_lasso_train = Lasso.predict(X_train)\n",
    "r2_score_lasso_train = r2_score(y_train, y_pred_lasso_train)\n",
    "print(f\"R2_score (train):\\t{r2_score_lasso_train}\")"
   ]
  },
  {
   "cell_type": "code",
   "execution_count": 48,
   "metadata": {},
   "outputs": [
    {
     "name": "stdout",
     "output_type": "stream",
     "text": [
      "R2_score (test): \t0.9567349248625471\n"
     ]
    }
   ],
   "source": [
    "y_pred_lasso_test = Lasso.predict(X_test)\n",
    "r2_score_lasso_test = r2_score(y_test, y_pred_lasso_test)\n",
    "\n",
    "print(f\"R2_score (test): \\t{r2_score_lasso_test}\")"
   ]
  },
  {
   "cell_type": "markdown",
   "metadata": {},
   "source": [
    "### Q4. Now use 4-fold cross validation (without reshuffling), on the X_train and y_train. Use Linreg and report the mean R2 scores and standard deviation of  R2 scores in the 4 cross-validation cases"
   ]
  },
  {
   "cell_type": "code",
   "execution_count": 49,
   "metadata": {},
   "outputs": [
    {
     "data": {
      "text/plain": [
       "array([0.87938812, 0.83344863, 0.94233134, 0.97065224])"
      ]
     },
     "execution_count": 49,
     "metadata": {},
     "output_type": "execute_result"
    }
   ],
   "source": [
    "from sklearn.model_selection import cross_val_score\n",
    "scoresLinreg = cross_val_score(estimator=Linreg, X=X_train, y=y_train, cv=4)\n",
    "scoresLinreg"
   ]
  },
  {
   "cell_type": "code",
   "execution_count": 50,
   "metadata": {},
   "outputs": [
    {
     "name": "stdout",
     "output_type": "stream",
     "text": [
      "0.9065 mean R2 with a standard deviation of 0.0536\n"
     ]
    }
   ],
   "source": [
    "print(f\"{scoresLinreg.mean():.4f} mean R2 with a standard deviation of {scoresLinreg.std():.4f}\")"
   ]
  },
  {
   "cell_type": "markdown",
   "metadata": {},
   "source": [
    "### Q5.  Now  use  4-fold  cross  validation  (without  reshuffling),  on  the  X_train  and  y_train.  Use  Ridge regression  (alpha  =  0.05)  and  report  the  mean  R2  scores  and  standard  deviation  of   R2  scores  in  the 4 cross-validation cases."
   ]
  },
  {
   "cell_type": "code",
   "execution_count": 51,
   "metadata": {},
   "outputs": [
    {
     "data": {
      "text/plain": [
       "array([0.88044283, 0.83264471, 0.94298708, 0.97064133])"
      ]
     },
     "execution_count": 51,
     "metadata": {},
     "output_type": "execute_result"
    }
   ],
   "source": [
    "scoresRidge = cross_val_score(estimator=Ridge, X=X_train, y=y_train, cv=4)\n",
    "scoresRidge"
   ]
  },
  {
   "cell_type": "code",
   "execution_count": 52,
   "metadata": {},
   "outputs": [
    {
     "name": "stdout",
     "output_type": "stream",
     "text": [
      "0.9067 mean R2 with a standard deviation of 0.0538\n"
     ]
    }
   ],
   "source": [
    "print(f\"{scoresRidge.mean():.4f} mean R2 with a standard deviation of {scoresRidge.std():.4f}\")"
   ]
  }
 ],
 "metadata": {
  "kernelspec": {
   "display_name": "Python 3",
   "language": "python",
   "name": "python3"
  },
  "language_info": {
   "codemirror_mode": {
    "name": "ipython",
    "version": 3
   },
   "file_extension": ".py",
   "mimetype": "text/x-python",
   "name": "python",
   "nbconvert_exporter": "python",
   "pygments_lexer": "ipython3",
   "version": "3.12.0"
  }
 },
 "nbformat": 4,
 "nbformat_minor": 2
}
