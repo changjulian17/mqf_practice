{
 "cells": [
  {
   "cell_type": "code",
   "execution_count": 1,
   "metadata": {},
   "outputs": [],
   "source": [
    "## anaconda3 (Python 3.9.13) Kernel\n",
    "\n",
    "import torch\n",
    "import torch.nn as nn\n",
    "import torch.optim as optim\n",
    "import numpy as np\n",
    "\n",
    "# pair trade packages\n",
    "import pandas as pd\n",
    "import numpy as np\n",
    "import matplotlib.pyplot as plt\n",
    "import pickle\n",
    "from datetime import datetime"
   ]
  },
  {
   "cell_type": "markdown",
   "metadata": {},
   "source": [
    "# Load Pairs Data\n"
   ]
  },
  {
   "cell_type": "code",
   "execution_count": 2,
   "metadata": {},
   "outputs": [
    {
     "name": "stdout",
     "output_type": "stream",
     "text": [
      "Dictionary loaded from pairsOutcome.pkl\n"
     ]
    },
    {
     "name": "stderr",
     "output_type": "stream",
     "text": [
      "/var/folders/h2/r7qn2m9n1zb6y_0q191gdqth0000gn/T/ipykernel_5131/3199335484.py:12: FutureWarning: The argument 'date_parser' is deprecated and will be removed in a future version. Please use 'date_format' instead, or read your data in as 'object' dtype and then call 'to_datetime'.\n",
      "  tpxData = pd.read_csv('TPX_prices.csv', index_col=0, parse_dates=True, date_parser=custom_date_parser)\n"
     ]
    }
   ],
   "source": [
    "def custom_date_parser(date_str):\n",
    "    return datetime.strptime(date_str, '%d/%m/%Y')\n",
    "\n",
    "# Load the dictionary from the pickle file\n",
    "with open('pairsOutcome.pkl', 'rb') as file:\n",
    "    pairsOutcome = pickle.load(file)\n",
    "\n",
    "print(\"Dictionary loaded from pairsOutcome.pkl\")\n",
    "\n",
    "\n",
    "# Load stock data and get return \n",
    "tpxData = pd.read_csv('TPX_prices.csv', index_col=0, parse_dates=True, date_parser=custom_date_parser)\n",
    "tpxData = tpxData.dropna(axis='columns')\n",
    "return_df = (tpxData / tpxData.shift(1)) - 1"
   ]
  },
  {
   "cell_type": "code",
   "execution_count": 3,
   "metadata": {},
   "outputs": [
    {
     "data": {
      "text/plain": [
       "17"
      ]
     },
     "execution_count": 3,
     "metadata": {},
     "output_type": "execute_result"
    }
   ],
   "source": [
    "len(pairsOutcome)"
   ]
  },
  {
   "cell_type": "markdown",
   "metadata": {},
   "source": [
    "# Get Pair Trade Portfolio\n",
    "`pairsOutcome` already have TOPIX stocks with highest liquidity and are tested for stationarity over a 1 year window\n",
    "\n",
    "Choose top 10 known pair trades by returns in the total dataset"
   ]
  },
  {
   "cell_type": "code",
   "execution_count": 4,
   "metadata": {},
   "outputs": [
    {
     "name": "stdout",
     "output_type": "stream",
     "text": [
      "17 clustered pair trades:\n",
      "1. Key: 6503 JP Equity 7269 JP Equity, Value: 1.33\n",
      "2. Key: 6326 JP Equity 6954 JP Equity, Value: 1.19\n",
      "3. Key: 8053 JP Equity 8058 JP Equity, Value: 0.52\n",
      "4. Key: 4901 JP Equity 9613 JP Equity, Value: 1.10\n",
      "5. Key: 6988 JP Equity 7267 JP Equity, Value: 0.65\n",
      "6. Key: 4901 JP Equity 6702 JP Equity, Value: -0.34\n",
      "7. Key: 4684 JP Equity 7832 JP Equity, Value: 0.89\n",
      "8. Key: 7267 JP Equity 8306 JP Equity, Value: 1.16\n",
      "9. Key: 7267 JP Equity 8801 JP Equity, Value: 0.64\n",
      "10. Key: 4519 JP Equity 7532 JP Equity, Value: 1.14\n"
     ]
    }
   ],
   "source": [
    "import csv\n",
    "\n",
    "with open(\"output_clustering.csv\", 'r') as csvfile:\n",
    "    reader = csv.reader(csvfile)\n",
    "    next(reader)\n",
    "    working_pairs = [tuple(row) for row in reader]\n",
    "\n",
    "\n",
    "top_keys = [f\"{pair[0]} {pair[1]}\" for pair in working_pairs]\n",
    "\n",
    "print(\"17 clustered pair trades:\")\n",
    "for i, key in enumerate(top_keys, 1):\n",
    "    print(f\"{i}. Key: {key}, Value: {pairsOutcome[key].cumpnl.iloc[-2]:.2f}\")"
   ]
  },
  {
   "cell_type": "markdown",
   "metadata": {},
   "source": [
    "## Calculate baseline Pair Trade Portfolio Returns\n",
    "\n",
    "Assume that each pair  and there is no diversification of returns. Each Pair Trade is self-funded and only has risk of 10% of initial investment (1 unit).\n",
    "\n",
    "2013 is used as warm up year to consolidate rolling window aggregate mid and Std dev data. Investment only starts from 2014."
   ]
  },
  {
   "cell_type": "code",
   "execution_count": 5,
   "metadata": {},
   "outputs": [
    {
     "data": {
      "text/html": [
       "<div>\n",
       "<style scoped>\n",
       "    .dataframe tbody tr th:only-of-type {\n",
       "        vertical-align: middle;\n",
       "    }\n",
       "\n",
       "    .dataframe tbody tr th {\n",
       "        vertical-align: top;\n",
       "    }\n",
       "\n",
       "    .dataframe thead th {\n",
       "        text-align: right;\n",
       "    }\n",
       "</style>\n",
       "<table border=\"1\" class=\"dataframe\">\n",
       "  <thead>\n",
       "    <tr style=\"text-align: right;\">\n",
       "      <th></th>\n",
       "      <th>dailypnl</th>\n",
       "      <th>dailypnl</th>\n",
       "      <th>dailypnl</th>\n",
       "      <th>dailypnl</th>\n",
       "      <th>dailypnl</th>\n",
       "      <th>dailypnl</th>\n",
       "      <th>dailypnl</th>\n",
       "      <th>dailypnl</th>\n",
       "      <th>dailypnl</th>\n",
       "      <th>dailypnl</th>\n",
       "    </tr>\n",
       "    <tr>\n",
       "      <th>Date</th>\n",
       "      <th></th>\n",
       "      <th></th>\n",
       "      <th></th>\n",
       "      <th></th>\n",
       "      <th></th>\n",
       "      <th></th>\n",
       "      <th></th>\n",
       "      <th></th>\n",
       "      <th></th>\n",
       "      <th></th>\n",
       "    </tr>\n",
       "  </thead>\n",
       "  <tbody>\n",
       "    <tr>\n",
       "      <th>1/1/2013</th>\n",
       "      <td>0.000000</td>\n",
       "      <td>0.00000</td>\n",
       "      <td>0.000000</td>\n",
       "      <td>0.000000</td>\n",
       "      <td>0.000000</td>\n",
       "      <td>0.000000</td>\n",
       "      <td>0.000000</td>\n",
       "      <td>0.000000</td>\n",
       "      <td>0.000000</td>\n",
       "      <td>0.00000</td>\n",
       "    </tr>\n",
       "    <tr>\n",
       "      <th>2/1/2013</th>\n",
       "      <td>0.000000</td>\n",
       "      <td>0.00000</td>\n",
       "      <td>0.000000</td>\n",
       "      <td>0.000000</td>\n",
       "      <td>0.000000</td>\n",
       "      <td>0.000000</td>\n",
       "      <td>0.000000</td>\n",
       "      <td>0.000000</td>\n",
       "      <td>0.000000</td>\n",
       "      <td>0.00000</td>\n",
       "    </tr>\n",
       "    <tr>\n",
       "      <th>3/1/2013</th>\n",
       "      <td>0.000000</td>\n",
       "      <td>0.00000</td>\n",
       "      <td>0.000000</td>\n",
       "      <td>0.000000</td>\n",
       "      <td>0.000000</td>\n",
       "      <td>0.000000</td>\n",
       "      <td>0.000000</td>\n",
       "      <td>0.000000</td>\n",
       "      <td>0.000000</td>\n",
       "      <td>0.00000</td>\n",
       "    </tr>\n",
       "    <tr>\n",
       "      <th>4/1/2013</th>\n",
       "      <td>0.000000</td>\n",
       "      <td>0.00000</td>\n",
       "      <td>0.000000</td>\n",
       "      <td>0.000000</td>\n",
       "      <td>0.000000</td>\n",
       "      <td>0.000000</td>\n",
       "      <td>0.000000</td>\n",
       "      <td>0.000000</td>\n",
       "      <td>0.000000</td>\n",
       "      <td>0.00000</td>\n",
       "    </tr>\n",
       "    <tr>\n",
       "      <th>7/1/2013</th>\n",
       "      <td>0.000000</td>\n",
       "      <td>0.00000</td>\n",
       "      <td>0.000000</td>\n",
       "      <td>0.000000</td>\n",
       "      <td>0.000000</td>\n",
       "      <td>0.000000</td>\n",
       "      <td>0.000000</td>\n",
       "      <td>0.000000</td>\n",
       "      <td>0.000000</td>\n",
       "      <td>0.00000</td>\n",
       "    </tr>\n",
       "    <tr>\n",
       "      <th>...</th>\n",
       "      <td>...</td>\n",
       "      <td>...</td>\n",
       "      <td>...</td>\n",
       "      <td>...</td>\n",
       "      <td>...</td>\n",
       "      <td>...</td>\n",
       "      <td>...</td>\n",
       "      <td>...</td>\n",
       "      <td>...</td>\n",
       "      <td>...</td>\n",
       "    </tr>\n",
       "    <tr>\n",
       "      <th>27/5/2024</th>\n",
       "      <td>1.308067</td>\n",
       "      <td>1.19382</td>\n",
       "      <td>0.518366</td>\n",
       "      <td>1.083350</td>\n",
       "      <td>0.645342</td>\n",
       "      <td>-0.338771</td>\n",
       "      <td>0.886695</td>\n",
       "      <td>1.173548</td>\n",
       "      <td>0.644275</td>\n",
       "      <td>1.13833</td>\n",
       "    </tr>\n",
       "    <tr>\n",
       "      <th>28/5/2024</th>\n",
       "      <td>1.343141</td>\n",
       "      <td>1.19382</td>\n",
       "      <td>0.518366</td>\n",
       "      <td>1.086770</td>\n",
       "      <td>0.645342</td>\n",
       "      <td>-0.338771</td>\n",
       "      <td>0.886695</td>\n",
       "      <td>1.162874</td>\n",
       "      <td>0.644275</td>\n",
       "      <td>1.13833</td>\n",
       "    </tr>\n",
       "    <tr>\n",
       "      <th>29/5/2024</th>\n",
       "      <td>1.371096</td>\n",
       "      <td>1.19382</td>\n",
       "      <td>0.518366</td>\n",
       "      <td>1.090710</td>\n",
       "      <td>0.645342</td>\n",
       "      <td>-0.338771</td>\n",
       "      <td>0.886695</td>\n",
       "      <td>1.162874</td>\n",
       "      <td>0.644275</td>\n",
       "      <td>1.13833</td>\n",
       "    </tr>\n",
       "    <tr>\n",
       "      <th>30/5/2024</th>\n",
       "      <td>1.332416</td>\n",
       "      <td>1.19382</td>\n",
       "      <td>0.518366</td>\n",
       "      <td>1.103389</td>\n",
       "      <td>0.645342</td>\n",
       "      <td>-0.338771</td>\n",
       "      <td>0.886695</td>\n",
       "      <td>1.162874</td>\n",
       "      <td>0.644275</td>\n",
       "      <td>1.13833</td>\n",
       "    </tr>\n",
       "    <tr>\n",
       "      <th>31/5/2024</th>\n",
       "      <td>NaN</td>\n",
       "      <td>NaN</td>\n",
       "      <td>NaN</td>\n",
       "      <td>NaN</td>\n",
       "      <td>NaN</td>\n",
       "      <td>NaN</td>\n",
       "      <td>NaN</td>\n",
       "      <td>NaN</td>\n",
       "      <td>NaN</td>\n",
       "      <td>NaN</td>\n",
       "    </tr>\n",
       "  </tbody>\n",
       "</table>\n",
       "<p>2979 rows × 10 columns</p>\n",
       "</div>"
      ],
      "text/plain": [
       "           dailypnl  dailypnl  dailypnl  dailypnl  dailypnl  dailypnl  \\\n",
       "Date                                                                    \n",
       "1/1/2013   0.000000   0.00000  0.000000  0.000000  0.000000  0.000000   \n",
       "2/1/2013   0.000000   0.00000  0.000000  0.000000  0.000000  0.000000   \n",
       "3/1/2013   0.000000   0.00000  0.000000  0.000000  0.000000  0.000000   \n",
       "4/1/2013   0.000000   0.00000  0.000000  0.000000  0.000000  0.000000   \n",
       "7/1/2013   0.000000   0.00000  0.000000  0.000000  0.000000  0.000000   \n",
       "...             ...       ...       ...       ...       ...       ...   \n",
       "27/5/2024  1.308067   1.19382  0.518366  1.083350  0.645342 -0.338771   \n",
       "28/5/2024  1.343141   1.19382  0.518366  1.086770  0.645342 -0.338771   \n",
       "29/5/2024  1.371096   1.19382  0.518366  1.090710  0.645342 -0.338771   \n",
       "30/5/2024  1.332416   1.19382  0.518366  1.103389  0.645342 -0.338771   \n",
       "31/5/2024       NaN       NaN       NaN       NaN       NaN       NaN   \n",
       "\n",
       "           dailypnl  dailypnl  dailypnl  dailypnl  \n",
       "Date                                               \n",
       "1/1/2013   0.000000  0.000000  0.000000   0.00000  \n",
       "2/1/2013   0.000000  0.000000  0.000000   0.00000  \n",
       "3/1/2013   0.000000  0.000000  0.000000   0.00000  \n",
       "4/1/2013   0.000000  0.000000  0.000000   0.00000  \n",
       "7/1/2013   0.000000  0.000000  0.000000   0.00000  \n",
       "...             ...       ...       ...       ...  \n",
       "27/5/2024  0.886695  1.173548  0.644275   1.13833  \n",
       "28/5/2024  0.886695  1.162874  0.644275   1.13833  \n",
       "29/5/2024  0.886695  1.162874  0.644275   1.13833  \n",
       "30/5/2024  0.886695  1.162874  0.644275   1.13833  \n",
       "31/5/2024       NaN       NaN       NaN       NaN  \n",
       "\n",
       "[2979 rows x 10 columns]"
      ]
     },
     "execution_count": 5,
     "metadata": {},
     "output_type": "execute_result"
    }
   ],
   "source": [
    "dailypnl_data = [pairsOutcome[key]['dailypnl'] for key in top_keys]\n",
    "\n",
    "df_daily_returns =  pd.DataFrame(dailypnl_data).T # Transpose to align rows\n",
    "df_daily_returns.cumsum()"
   ]
  },
  {
   "cell_type": "code",
   "execution_count": 6,
   "metadata": {},
   "outputs": [
    {
     "data": {
      "text/plain": [
       "'From 1 Jan 2014 investing 1 unit resulted in 31 May 2024 return 2.51 unit'"
      ]
     },
     "execution_count": 6,
     "metadata": {},
     "output_type": "execute_result"
    }
   ],
   "source": [
    "ten_portf_return = np.exp(df_daily_returns.cumsum().iloc[-2]).sum()/10\n",
    "f\"From 1 Jan 2014 investing 1 unit resulted in 31 May 2024 return {ten_portf_return:.2f} unit\""
   ]
  },
  {
   "cell_type": "code",
   "execution_count": 7,
   "metadata": {},
   "outputs": [
    {
     "data": {
      "text/plain": [
       "'Baseline Annual return is 8.75%'"
      ]
     },
     "execution_count": 7,
     "metadata": {},
     "output_type": "execute_result"
    }
   ],
   "source": [
    "f\"Baseline Annual return is {(np.log(ten_portf_return))/10.5*100:.2f}%\""
   ]
  },
  {
   "cell_type": "markdown",
   "metadata": {},
   "source": [
    "### Train and Test Results"
   ]
  },
  {
   "cell_type": "code",
   "execution_count": 44,
   "metadata": {},
   "outputs": [
    {
     "name": "stdout",
     "output_type": "stream",
     "text": [
      "==================== Baseline Return Train ====================\n",
      "Mean: \t\t\t0.74129\n",
      "Mean (ave daily return): 0.00028\n",
      "==================== Baseline Return Test ====================\n",
      "Mean: \t\t\t0.08739\n",
      "Mean (ave daily return): 0.00079\n"
     ]
    },
    {
     "name": "stderr",
     "output_type": "stream",
     "text": [
      "/var/folders/h2/r7qn2m9n1zb6y_0q191gdqth0000gn/T/ipykernel_5131/2719366827.py:1: FutureWarning: Series.__getitem__ treating keys as positions is deprecated. In a future version, integer keys will always be treated as labels (consistent with DataFrame behavior). To access a value by position, use `ser.iloc[pos]`\n",
      "  baseline_train_mean_return = df_daily_returns.iloc[:2868].cumsum().mean(axis=1)[-1]\n"
     ]
    }
   ],
   "source": [
    "baseline_train_mean_return = df_daily_returns.iloc[:2868].cumsum().mean(axis=1)[-1]\n",
    "baseline_test_mean_return = df_daily_returns.iloc[2869:].cumsum().iloc[-2].mean()\n",
    "\n",
    "print(\"=\"*20, \"Baseline Return Train\",\"=\"*20)\n",
    "print(f\"Mean: \\t\\t\\t{baseline_train_mean_return:.5f}\")\n",
    "print(f\"Mean (ave daily return): {baseline_train_mean_return/(2868-261):.5f}\")\n",
    "print(\"=\"*20, \"Baseline Return Test\",\"=\"*20)\n",
    "print(f\"Mean: \\t\\t\\t{baseline_test_mean_return:.5f}\")\n",
    "print(f\"Mean (ave daily return): {baseline_test_mean_return/(2979-2868):.5f}\")"
   ]
  },
  {
   "cell_type": "markdown",
   "metadata": {},
   "source": [
    "## Baseline graph\n",
    "\n",
    "Investing starts from 2014 as a warm start for 1 year rolling window (from 2013) we plot the total returns."
   ]
  },
  {
   "cell_type": "code",
   "execution_count": 45,
   "metadata": {},
   "outputs": [
    {
     "data": {
      "text/plain": [
       "count    2979.000000\n",
       "mean        1.288108\n",
       "std         0.348571\n",
       "min         0.918642\n",
       "25%         1.006095\n",
       "50%         1.146149\n",
       "75%         1.498417\n",
       "max         2.296241\n",
       "dtype: float64"
      ]
     },
     "execution_count": 45,
     "metadata": {},
     "output_type": "execute_result"
    }
   ],
   "source": [
    "df_port_return = df_daily_returns.cumsum().sum(axis=1)/10\n",
    "np.exp(df_port_return).describe()"
   ]
  },
  {
   "cell_type": "code",
   "execution_count": 46,
   "metadata": {},
   "outputs": [
    {
     "data": {
      "text/plain": [
       "Text(0.5, 1.0, 'Baseline returns')"
      ]
     },
     "execution_count": 46,
     "metadata": {},
     "output_type": "execute_result"
    },
    {
     "data": {
      "image/png": "[encoded data removed]",
      "text/plain": [
       "<Figure size 640x480 with 1 Axes>"
      ]
     },
     "metadata": {},
     "output_type": "display_data"
    }
   ],
   "source": [
    "df_daily_returns.cumsum()[262:-1].plot(legend=None)\n",
    "plt.title(\"Baseline returns\")"
   ]
  },
  {
   "cell_type": "code",
   "execution_count": 47,
   "metadata": {},
   "outputs": [
    {
     "data": {
      "text/plain": [
       "count    2979.000000\n",
       "mean        3.422625\n",
       "std         1.826316\n",
       "min         0.000000\n",
       "25%         2.000000\n",
       "50%         4.000000\n",
       "75%         5.000000\n",
       "max         9.000000\n",
       "dtype: float64"
      ]
     },
     "execution_count": 47,
     "metadata": {},
     "output_type": "execute_result"
    }
   ],
   "source": [
    "postion_data = [pairsOutcome[key]['position'] for key in top_keys]\n",
    "\n",
    "pd.DataFrame(postion_data).T.abs().sum(axis=1).describe()"
   ]
  },
  {
   "cell_type": "markdown",
   "metadata": {},
   "source": [
    "# Machine Learning Challenge\n",
    "\n",
    "## Background\n",
    "Initial evaluation of the baseline portfolio shows that draw downs are small. Originally team had the idea of using Machine Learning to optimise for sizing of these pair trades. However since there was no significant drawdowns the returns are linearly increasing with investment sizing i.e. greater nominal investment in the the pair trade the proportionate increase in returns without realising significant drawdown risk.\n",
    "\n",
    "Instead of optimising for sizing, we can explore Machine Learning in terms of strategy on this stationary dataset. Whereas our prescribed strategy is to enter at +/- 1 std dev, exit at 0 with +/- 2 std dev stop loss. These are only suggestions and arbitrary levels.\n",
    "\n",
    "With Machine Learning, we can discover if it will uncover the mean reverting nature and recommend another threshhold. We use Q Learner to understand state space with the same spread, mid, std dev parameters as the baseline.\n",
    "\n",
    "### Steps\n",
    "#### Environment:\n",
    "- State Space: A set of all possible states the agent can be in.  \n",
    "  - [spread, mid, 2 sd low, 1 sd low, 1 sd high, 2 sd high]\n",
    "- Action Space: A set of all possible actions the agent can take in each state.   \n",
    "  - [-1, # short\\\n",
    "      0, # uninvested\\\n",
    "      1  # long]   \n",
    "- Reward Function: A function that assigns a numerical reward to each state-action pair, indicating the immediate consequence of taking a particular action in a specific state.\n",
    "  - dailypnl\n",
    "- Transition Function: A function that determines the probability of transitioning from one state to another when a particular action is taken.\n",
    "  - deterministic based on historical performance\n",
    "#### Agent:\n",
    "\n",
    "- Q-Table: A matrix that stores the estimated Q-values for each state-action pair. Q-values represent the expected future reward for taking a specific action in a given state.   \n",
    "  - continuous Q table?\n",
    "- Learning Rate (α): A parameter that controls how much the Q-values are updated with each new experience.   \n",
    "- Discount Factor (γ): A parameter that determines the importance of future rewards. A higher discount factor gives more weight to future rewards.   \n",
    "- Exploration Rate (ε): A parameter that controls the balance between exploration (trying new actions) and exploitation (choosing the action with the highest Q-value).   \n",
    "- Q-Learning Algorithm:\n",
    "\n",
    "  - Initialization: Initialize the Q-table with random values or zeros.   \n",
    "  - Exploration and Exploitation: Use an exploration strategy (e.g., ε-greedy) to choose an action:\n",
    "    - With probability ε, choose a random action.   \n",
    "    - With probability 1-ε, choose the action with the highest Q-value for the current state.   \n",
    "  \n",
    "  - Take Action: Execute the chosen action in the environment.   \n",
    "  - Observe Reward and Next State: Observe the immediate reward and the next state resulting from the action.\n",
    "- Update Q-Value: Update the Q-value of the current state-action pair using the following formula:\n",
    "\n",
    "#### Training and Test set\n",
    "\n",
    "2013 is used for warm start\\\n",
    "2014 - 2023 train data since NN need a lot of training data\\\n",
    "2024 onwards (5 months) test data\n"
   ]
  },
  {
   "cell_type": "code",
   "execution_count": 48,
   "metadata": {},
   "outputs": [
    {
     "name": "stderr",
     "output_type": "stream",
     "text": [
      "/var/folders/h2/r7qn2m9n1zb6y_0q191gdqth0000gn/T/ipykernel_5131/2263820838.py:4: FutureWarning: The argument 'date_parser' is deprecated and will be removed in a future version. Please use 'date_format' instead, or read your data in as 'object' dtype and then call 'to_datetime'.\n",
      "  valid = pd.read_csv('validPairs5.csv',\n"
     ]
    }
   ],
   "source": [
    "## Get pair stock data\n",
    "def custom_date_parser(date_str):\n",
    "    return datetime.strptime(date_str, '%d/%m/%Y')\n",
    "valid = pd.read_csv('validPairs5.csv', \n",
    "                    index_col=0, \n",
    "                    parse_dates=True, \n",
    "                    date_parser=custom_date_parser)\n",
    "## get list of pair stocks\n",
    "validPairsList = [\n",
    "    [item.strip() + ' Equity' for item in pair.split('Equity') if item.strip()]\n",
    "    for pair in top_keys\n",
    "]"
   ]
  },
  {
   "cell_type": "code",
   "execution_count": 49,
   "metadata": {},
   "outputs": [],
   "source": [
    "rollingWindow = 262\n",
    "cutLossSd = 2"
   ]
  },
  {
   "cell_type": "code",
   "execution_count": 50,
   "metadata": {},
   "outputs": [],
   "source": [
    "for pair in validPairsList:\n",
    "    df = pd.DataFrame()\n",
    "\n",
    "    #Calculate Standard Deviations\n",
    "    df['spread'] = valid[f'spread_{pair[0]}_{pair[1]}']\n",
    "    df['mid'] =  df['spread'].rolling(rollingWindow).mean()\n",
    "    df['1sd high'] = df['spread'].rolling(rollingWindow).mean() + df['spread'].rolling(rollingWindow).std()\n",
    "    df['1sd low'] = df['spread'].rolling(rollingWindow).mean() - df['spread'].rolling(rollingWindow).std()\n",
    "    df['2sd high'] = df['spread'].rolling(rollingWindow).mean() + df['spread'].rolling(rollingWindow).std() * cutLossSd\n",
    "    df['2sd low'] = df['spread'].rolling(rollingWindow).mean() - df['spread'].rolling(rollingWindow).std() * cutLossSd\n",
    "    df['position'] = 0\n",
    "\n",
    "    df.loc[(df['spread'] > df['1sd high']) & (df['spread'] < df['2sd high']), 'position'] = -1\n",
    "    df.loc[(df['spread']< df['1sd low']) & (df['spread'] > df['2sd low']), 'position'] = 1\n",
    "\n",
    "    #Calculate PnL\n",
    "    df[f'{pair[0]} position'] = df['position']\n",
    "    df[f'{pair[1]} position'] = df['position'] * -1\n",
    "    df['dailypnl'] = df[f'{pair[1]} position']*return_df[f'{pair[1]}'].shift(-1) + df[f'{pair[0]} position']*return_df[f'{pair[0]}'].shift(-1)\n",
    "    df['cumpnl'] = df['dailypnl'].cumsum()\n",
    "\n",
    "    pairsOutcome[f'{pair[0]} {pair[1]}'] = df"
   ]
  },
  {
   "cell_type": "code",
   "execution_count": 51,
   "metadata": {},
   "outputs": [
    {
     "data": {
      "text/plain": [
       "-0.0036522408824405383"
      ]
     },
     "execution_count": 51,
     "metadata": {},
     "output_type": "execute_result"
    }
   ],
   "source": [
    "-1*return_df[f'{pair[0]}'].iloc[1000+1] + 1*return_df[f'{pair[1]}'].iloc[1000+1]"
   ]
  },
  {
   "cell_type": "code",
   "execution_count": 52,
   "metadata": {},
   "outputs": [
    {
     "data": {
      "text/plain": [
       "(-0.018706896551724195, -0.018706896551724195)"
      ]
     },
     "execution_count": 52,
     "metadata": {},
     "output_type": "execute_result"
    }
   ],
   "source": [
    "return_df[f'{pair[0]}'].iloc[1000+1], return_df[f'{pair[0]}'].shift(-1).iloc[1000]"
   ]
  },
  {
   "cell_type": "code",
   "execution_count": 53,
   "metadata": {},
   "outputs": [
    {
     "data": {
      "text/plain": [
       "Date\n",
       "2016-10-31   -0.004173\n",
       "2016-11-01   -0.027906\n",
       "2016-11-02   -0.018707\n",
       "Name: 4519 JP Equity, dtype: float64"
      ]
     },
     "execution_count": 53,
     "metadata": {},
     "output_type": "execute_result"
    }
   ],
   "source": [
    "return_df[f'{pair[0]}'].iloc[999:1002]"
   ]
  },
  {
   "cell_type": "code",
   "execution_count": 54,
   "metadata": {},
   "outputs": [
    {
     "data": {
      "text/plain": [
       "[['6503 JP Equity', '7269 JP Equity'],\n",
       " ['6326 JP Equity', '6954 JP Equity'],\n",
       " ['8053 JP Equity', '8058 JP Equity'],\n",
       " ['4901 JP Equity', '9613 JP Equity'],\n",
       " ['6988 JP Equity', '7267 JP Equity'],\n",
       " ['4901 JP Equity', '6702 JP Equity'],\n",
       " ['4684 JP Equity', '7832 JP Equity'],\n",
       " ['7267 JP Equity', '8306 JP Equity'],\n",
       " ['7267 JP Equity', '8801 JP Equity'],\n",
       " ['4519 JP Equity', '7532 JP Equity']]"
      ]
     },
     "execution_count": 54,
     "metadata": {},
     "output_type": "execute_result"
    }
   ],
   "source": [
    "validPairsList"
   ]
  },
  {
   "cell_type": "code",
   "execution_count": 55,
   "metadata": {},
   "outputs": [
    {
     "data": {
      "text/html": [
       "<div>\n",
       "<style scoped>\n",
       "    .dataframe tbody tr th:only-of-type {\n",
       "        vertical-align: middle;\n",
       "    }\n",
       "\n",
       "    .dataframe tbody tr th {\n",
       "        vertical-align: top;\n",
       "    }\n",
       "\n",
       "    .dataframe thead th {\n",
       "        text-align: right;\n",
       "    }\n",
       "</style>\n",
       "<table border=\"1\" class=\"dataframe\">\n",
       "  <thead>\n",
       "    <tr style=\"text-align: right;\">\n",
       "      <th></th>\n",
       "      <th>dailypnl</th>\n",
       "      <th>dailypnl</th>\n",
       "      <th>dailypnl</th>\n",
       "      <th>dailypnl</th>\n",
       "      <th>dailypnl</th>\n",
       "      <th>dailypnl</th>\n",
       "      <th>dailypnl</th>\n",
       "      <th>dailypnl</th>\n",
       "      <th>dailypnl</th>\n",
       "      <th>dailypnl</th>\n",
       "    </tr>\n",
       "    <tr>\n",
       "      <th>Date</th>\n",
       "      <th></th>\n",
       "      <th></th>\n",
       "      <th></th>\n",
       "      <th></th>\n",
       "      <th></th>\n",
       "      <th></th>\n",
       "      <th></th>\n",
       "      <th></th>\n",
       "      <th></th>\n",
       "      <th></th>\n",
       "    </tr>\n",
       "  </thead>\n",
       "  <tbody>\n",
       "    <tr>\n",
       "      <th>2013-01-01</th>\n",
       "      <td>0.000000</td>\n",
       "      <td>0.00000</td>\n",
       "      <td>0.000000</td>\n",
       "      <td>0.000000</td>\n",
       "      <td>0.000000</td>\n",
       "      <td>0.000000</td>\n",
       "      <td>0.000000</td>\n",
       "      <td>0.000000</td>\n",
       "      <td>0.000000</td>\n",
       "      <td>0.00000</td>\n",
       "    </tr>\n",
       "    <tr>\n",
       "      <th>2013-01-02</th>\n",
       "      <td>0.000000</td>\n",
       "      <td>0.00000</td>\n",
       "      <td>0.000000</td>\n",
       "      <td>0.000000</td>\n",
       "      <td>0.000000</td>\n",
       "      <td>0.000000</td>\n",
       "      <td>0.000000</td>\n",
       "      <td>0.000000</td>\n",
       "      <td>0.000000</td>\n",
       "      <td>0.00000</td>\n",
       "    </tr>\n",
       "    <tr>\n",
       "      <th>2013-01-03</th>\n",
       "      <td>0.000000</td>\n",
       "      <td>0.00000</td>\n",
       "      <td>0.000000</td>\n",
       "      <td>0.000000</td>\n",
       "      <td>0.000000</td>\n",
       "      <td>0.000000</td>\n",
       "      <td>0.000000</td>\n",
       "      <td>0.000000</td>\n",
       "      <td>0.000000</td>\n",
       "      <td>0.00000</td>\n",
       "    </tr>\n",
       "    <tr>\n",
       "      <th>2013-01-04</th>\n",
       "      <td>0.000000</td>\n",
       "      <td>0.00000</td>\n",
       "      <td>0.000000</td>\n",
       "      <td>0.000000</td>\n",
       "      <td>0.000000</td>\n",
       "      <td>0.000000</td>\n",
       "      <td>0.000000</td>\n",
       "      <td>0.000000</td>\n",
       "      <td>0.000000</td>\n",
       "      <td>0.00000</td>\n",
       "    </tr>\n",
       "    <tr>\n",
       "      <th>2013-01-07</th>\n",
       "      <td>0.000000</td>\n",
       "      <td>0.00000</td>\n",
       "      <td>0.000000</td>\n",
       "      <td>0.000000</td>\n",
       "      <td>0.000000</td>\n",
       "      <td>0.000000</td>\n",
       "      <td>0.000000</td>\n",
       "      <td>0.000000</td>\n",
       "      <td>0.000000</td>\n",
       "      <td>0.00000</td>\n",
       "    </tr>\n",
       "    <tr>\n",
       "      <th>...</th>\n",
       "      <td>...</td>\n",
       "      <td>...</td>\n",
       "      <td>...</td>\n",
       "      <td>...</td>\n",
       "      <td>...</td>\n",
       "      <td>...</td>\n",
       "      <td>...</td>\n",
       "      <td>...</td>\n",
       "      <td>...</td>\n",
       "      <td>...</td>\n",
       "    </tr>\n",
       "    <tr>\n",
       "      <th>2024-05-27</th>\n",
       "      <td>1.308067</td>\n",
       "      <td>1.19382</td>\n",
       "      <td>0.518366</td>\n",
       "      <td>1.083350</td>\n",
       "      <td>0.645342</td>\n",
       "      <td>-0.338771</td>\n",
       "      <td>0.886695</td>\n",
       "      <td>1.173548</td>\n",
       "      <td>0.644275</td>\n",
       "      <td>1.13833</td>\n",
       "    </tr>\n",
       "    <tr>\n",
       "      <th>2024-05-28</th>\n",
       "      <td>1.343141</td>\n",
       "      <td>1.19382</td>\n",
       "      <td>0.518366</td>\n",
       "      <td>1.086770</td>\n",
       "      <td>0.645342</td>\n",
       "      <td>-0.338771</td>\n",
       "      <td>0.886695</td>\n",
       "      <td>1.162874</td>\n",
       "      <td>0.644275</td>\n",
       "      <td>1.13833</td>\n",
       "    </tr>\n",
       "    <tr>\n",
       "      <th>2024-05-29</th>\n",
       "      <td>1.371096</td>\n",
       "      <td>1.19382</td>\n",
       "      <td>0.518366</td>\n",
       "      <td>1.090710</td>\n",
       "      <td>0.645342</td>\n",
       "      <td>-0.338771</td>\n",
       "      <td>0.886695</td>\n",
       "      <td>1.162874</td>\n",
       "      <td>0.644275</td>\n",
       "      <td>1.13833</td>\n",
       "    </tr>\n",
       "    <tr>\n",
       "      <th>2024-05-30</th>\n",
       "      <td>1.332416</td>\n",
       "      <td>1.19382</td>\n",
       "      <td>0.518366</td>\n",
       "      <td>1.103389</td>\n",
       "      <td>0.645342</td>\n",
       "      <td>-0.338771</td>\n",
       "      <td>0.886695</td>\n",
       "      <td>1.162874</td>\n",
       "      <td>0.644275</td>\n",
       "      <td>1.13833</td>\n",
       "    </tr>\n",
       "    <tr>\n",
       "      <th>2024-05-31</th>\n",
       "      <td>NaN</td>\n",
       "      <td>NaN</td>\n",
       "      <td>NaN</td>\n",
       "      <td>NaN</td>\n",
       "      <td>NaN</td>\n",
       "      <td>NaN</td>\n",
       "      <td>NaN</td>\n",
       "      <td>NaN</td>\n",
       "      <td>NaN</td>\n",
       "      <td>NaN</td>\n",
       "    </tr>\n",
       "  </tbody>\n",
       "</table>\n",
       "<p>2979 rows × 10 columns</p>\n",
       "</div>"
      ],
      "text/plain": [
       "            dailypnl  dailypnl  dailypnl  dailypnl  dailypnl  dailypnl  \\\n",
       "Date                                                                     \n",
       "2013-01-01  0.000000   0.00000  0.000000  0.000000  0.000000  0.000000   \n",
       "2013-01-02  0.000000   0.00000  0.000000  0.000000  0.000000  0.000000   \n",
       "2013-01-03  0.000000   0.00000  0.000000  0.000000  0.000000  0.000000   \n",
       "2013-01-04  0.000000   0.00000  0.000000  0.000000  0.000000  0.000000   \n",
       "2013-01-07  0.000000   0.00000  0.000000  0.000000  0.000000  0.000000   \n",
       "...              ...       ...       ...       ...       ...       ...   \n",
       "2024-05-27  1.308067   1.19382  0.518366  1.083350  0.645342 -0.338771   \n",
       "2024-05-28  1.343141   1.19382  0.518366  1.086770  0.645342 -0.338771   \n",
       "2024-05-29  1.371096   1.19382  0.518366  1.090710  0.645342 -0.338771   \n",
       "2024-05-30  1.332416   1.19382  0.518366  1.103389  0.645342 -0.338771   \n",
       "2024-05-31       NaN       NaN       NaN       NaN       NaN       NaN   \n",
       "\n",
       "            dailypnl  dailypnl  dailypnl  dailypnl  \n",
       "Date                                                \n",
       "2013-01-01  0.000000  0.000000  0.000000   0.00000  \n",
       "2013-01-02  0.000000  0.000000  0.000000   0.00000  \n",
       "2013-01-03  0.000000  0.000000  0.000000   0.00000  \n",
       "2013-01-04  0.000000  0.000000  0.000000   0.00000  \n",
       "2013-01-07  0.000000  0.000000  0.000000   0.00000  \n",
       "...              ...       ...       ...       ...  \n",
       "2024-05-27  0.886695  1.173548  0.644275   1.13833  \n",
       "2024-05-28  0.886695  1.162874  0.644275   1.13833  \n",
       "2024-05-29  0.886695  1.162874  0.644275   1.13833  \n",
       "2024-05-30  0.886695  1.162874  0.644275   1.13833  \n",
       "2024-05-31       NaN       NaN       NaN       NaN  \n",
       "\n",
       "[2979 rows x 10 columns]"
      ]
     },
     "execution_count": 55,
     "metadata": {},
     "output_type": "execute_result"
    }
   ],
   "source": [
    "dailypnl_data = [pairsOutcome[key]['dailypnl'] for key in top_keys]\n",
    "\n",
    "df_daily_returns =  pd.DataFrame(dailypnl_data).T # Transpose to align rows\n",
    "df_daily_returns.cumsum()"
   ]
  }
 ],
 "metadata": {
  "kernelspec": {
   "display_name": "Python 3",
   "language": "python",
   "name": "python3"
  },
  "language_info": {
   "codemirror_mode": {
    "name": "ipython",
    "version": 3
   },
   "file_extension": ".py",
   "mimetype": "text/x-python",
   "name": "python",
   "nbconvert_exporter": "python",
   "pygments_lexer": "ipython3",
   "version": "3.12.0"
  }
 },
 "nbformat": 4,
 "nbformat_minor": 2
}
