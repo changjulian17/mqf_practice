{
 "cells": [
  {
   "cell_type": "code",
   "execution_count": 36,
   "metadata": {},
   "outputs": [],
   "source": [
    "## anaconda3 (Python 3.12.0) Kernel\n",
    "import numpy as np\n",
    "\n",
    "# pair trade packages\n",
    "import pandas as pd\n",
    "import numpy as np\n",
    "import matplotlib.pyplot as plt\n",
    "import pickle\n",
    "from datetime import datetime"
   ]
  },
  {
   "cell_type": "markdown",
   "metadata": {},
   "source": [
    "# Load Pairs Data\n"
   ]
  },
  {
   "cell_type": "code",
   "execution_count": 37,
   "metadata": {},
   "outputs": [
    {
     "name": "stdout",
     "output_type": "stream",
     "text": [
      "Dictionary loaded from pairsOutcome.pkl\n"
     ]
    },
    {
     "name": "stderr",
     "output_type": "stream",
     "text": [
      "/var/folders/h2/r7qn2m9n1zb6y_0q191gdqth0000gn/T/ipykernel_40682/3199335484.py:12: FutureWarning: The argument 'date_parser' is deprecated and will be removed in a future version. Please use 'date_format' instead, or read your data in as 'object' dtype and then call 'to_datetime'.\n",
      "  tpxData = pd.read_csv('TPX_prices.csv', index_col=0, parse_dates=True, date_parser=custom_date_parser)\n"
     ]
    }
   ],
   "source": [
    "def custom_date_parser(date_str):\n",
    "    return datetime.strptime(date_str, '%d/%m/%Y')\n",
    "\n",
    "# Load the dictionary from the pickle file\n",
    "with open('pairsOutcome.pkl', 'rb') as file:\n",
    "    pairsOutcome = pickle.load(file)\n",
    "\n",
    "print(\"Dictionary loaded from pairsOutcome.pkl\")\n",
    "\n",
    "\n",
    "# Load stock data and get return \n",
    "tpxData = pd.read_csv('TPX_prices.csv', index_col=0, parse_dates=True, date_parser=custom_date_parser)\n",
    "tpxData = tpxData.dropna(axis='columns')\n",
    "return_df = (tpxData / tpxData.shift(1)) - 1"
   ]
  },
  {
   "cell_type": "markdown",
   "metadata": {},
   "source": [
    "# Get Pair Trade Portfolio\n",
    "`pairsOutcome` already have TOPIX stocks with highest liquidity and are tested for stationarity over a 1 year window\n",
    "\n",
    "Choose top 10 known pair trades by returns in the total dataset"
   ]
  },
  {
   "cell_type": "code",
   "execution_count": 38,
   "metadata": {},
   "outputs": [
    {
     "name": "stdout",
     "output_type": "stream",
     "text": [
      "10 clustered pair trades:\n",
      "1. Key: 6503 JP Equity 7269 JP Equity, Value: 1.33\n",
      "2. Key: 6326 JP Equity 6954 JP Equity, Value: 1.19\n",
      "3. Key: 8053 JP Equity 8058 JP Equity, Value: 0.52\n",
      "4. Key: 4901 JP Equity 9613 JP Equity, Value: 1.10\n",
      "5. Key: 6988 JP Equity 7267 JP Equity, Value: 0.65\n",
      "6. Key: 4901 JP Equity 6702 JP Equity, Value: -0.34\n",
      "7. Key: 4684 JP Equity 7832 JP Equity, Value: 0.89\n",
      "8. Key: 7267 JP Equity 8306 JP Equity, Value: 1.16\n",
      "9. Key: 7267 JP Equity 8801 JP Equity, Value: 0.64\n",
      "10. Key: 4519 JP Equity 7532 JP Equity, Value: 1.14\n"
     ]
    }
   ],
   "source": [
    "import csv\n",
    "\n",
    "with open(\"output_clustering.csv\", 'r') as csvfile:\n",
    "    reader = csv.reader(csvfile)\n",
    "    next(reader)\n",
    "    working_pairs = [tuple(row) for row in reader]\n",
    "\n",
    "\n",
    "top_keys = [f\"{pair[0]} {pair[1]}\" for pair in working_pairs]\n",
    "\n",
    "print(\"10 clustered pair trades:\")\n",
    "for i, key in enumerate(top_keys, 1):\n",
    "    print(f\"{i}. Key: {key}, Value: {pairsOutcome[key].cumpnl.iloc[-2]:.2f}\")"
   ]
  },
  {
   "cell_type": "code",
   "execution_count": 39,
   "metadata": {},
   "outputs": [
    {
     "name": "stderr",
     "output_type": "stream",
     "text": [
      "/var/folders/h2/r7qn2m9n1zb6y_0q191gdqth0000gn/T/ipykernel_40682/312682044.py:1: FutureWarning: The argument 'date_parser' is deprecated and will be removed in a future version. Please use 'date_format' instead, or read your data in as 'object' dtype and then call 'to_datetime'.\n",
      "  valid = pd.read_csv('validPairs5.csv',\n"
     ]
    }
   ],
   "source": [
    "valid = pd.read_csv('validPairs5.csv', \n",
    "                    index_col=0, \n",
    "                    parse_dates=True, \n",
    "                    date_parser=custom_date_parser)\n",
    "## get list of pair stocks\n",
    "validPairsList = [\n",
    "    [item.strip() + ' Equity' for item in pair.split('Equity') if item.strip()]\n",
    "    for pair in top_keys\n",
    "]\n",
    "rollingWindow = 262\n",
    "cutLossSd = 2\n",
    "for pair in validPairsList:\n",
    "    df = pd.DataFrame()\n",
    "\n",
    "    #Calculate Standard Deviations\n",
    "    df['spread'] = valid[f'spread_{pair[0]}_{pair[1]}']\n",
    "    df['mid'] =  df['spread'].rolling(rollingWindow).mean()\n",
    "    df['1sd high'] = df['spread'].rolling(rollingWindow).mean() + df['spread'].rolling(rollingWindow).std()\n",
    "    df['1sd low'] = df['spread'].rolling(rollingWindow).mean() - df['spread'].rolling(rollingWindow).std()\n",
    "    df['2sd high'] = df['spread'].rolling(rollingWindow).mean() + df['spread'].rolling(rollingWindow).std() * cutLossSd\n",
    "    df['2sd low'] = df['spread'].rolling(rollingWindow).mean() - df['spread'].rolling(rollingWindow).std() * cutLossSd\n",
    "    df['position'] = 0\n",
    "\n",
    "    df.loc[(df['spread'] > df['1sd high']) & (df['spread'] < df['2sd high']), 'position'] = -1\n",
    "    df.loc[(df['spread']< df['1sd low']) & (df['spread'] > df['2sd low']), 'position'] = 1\n",
    "\n",
    "    #Calculate PnL\n",
    "    df[f'{pair[0]} position'] = df['position']\n",
    "    df[f'{pair[1]} position'] = df['position'] * -1\n",
    "    df['dailypnl'] = df[f'{pair[1]} position']*return_df[f'{pair[1]}'].shift(-1) + df[f'{pair[0]} position']*return_df[f'{pair[0]}'].shift(-1)\n",
    "    df['cumpnl'] = df['dailypnl'].cumsum()\n",
    "\n",
    "    pairsOutcome[f'{pair[0]} {pair[1]}'] = df"
   ]
  },
  {
   "cell_type": "markdown",
   "metadata": {},
   "source": [
    "## Make indicators and spread stationary around 0\n",
    "Deduct the mean from all values to translate to 0 axis"
   ]
  },
  {
   "cell_type": "code",
   "execution_count": 40,
   "metadata": {},
   "outputs": [
    {
     "data": {
      "text/plain": [
       "array([[0, 1, 1, 0, 0, 0],\n",
       "       [0, 1, 1, 0, 0, 0],\n",
       "       [0, 1, 1, 0, 0, 0],\n",
       "       [0, 1, 1, 0, 0, 0],\n",
       "       [0, 1, 1, 0, 0, 0]])"
      ]
     },
     "execution_count": 40,
     "metadata": {},
     "output_type": "execute_result"
    }
   ],
   "source": [
    "workingPairOutcome = {}\n",
    "\n",
    "for pair in top_keys:\n",
    "    dummy_df = pairsOutcome[top_keys[0]].iloc[::,:6]\n",
    "    dummy_df = dummy_df.subtract(dummy_df['mid'], axis=0).drop(columns=['mid']) # centre spread and SD\n",
    "    dummy_df = dummy_df.div(dummy_df['2sd high']-dummy_df['1sd high'],axis=0)   # express SD as integers, give spread as propotionate\n",
    "    dummy_df['2sd_high_boolean'] = (dummy_df['spread']>dummy_df['2sd high']).astype(int)\n",
    "    dummy_df['1sd_high_boolean'] = (dummy_df['spread']>dummy_df['1sd high']).astype(int)\n",
    "    dummy_df['0sd_high_boolean'] = (dummy_df['spread']>0).astype(int)\n",
    "    dummy_df['0sd_low_boolean']  = (dummy_df['spread']<0).astype(int)\n",
    "    dummy_df['1sd_low_boolean']  = (dummy_df['spread']<dummy_df['1sd low'] ).astype(int)\n",
    "    dummy_df['2sd_low_boolean']  = (dummy_df['spread']<dummy_df['2sd low'] ).astype(int)\n",
    "    dummy_df = dummy_df.drop(columns=['spread','1sd high', '1sd low', '2sd high', '2sd low'])\n",
    "    workingPairOutcome[pair] = dummy_df.to_numpy()\n",
    "workingPairOutcome[top_keys[5]][-5:]     # spread is not a proportion and direction of SD"
   ]
  },
  {
   "cell_type": "markdown",
   "metadata": {},
   "source": [
    "# Machine Learning Challenge\n",
    "\n",
    "## Background\n",
    "Initial evaluation of the baseline portfolio shows that draw downs are small. Originally team had the idea of using Machine Learning to optimise for sizing of these pair trades. However since there was no significant drawdowns the returns are linearly increasing with investment sizing i.e. greater nominal investment in the the pair trade the proportionate increase in returns without realising significant drawdown risk.\n",
    "\n",
    "Instead of optimising for sizing, we can explore Machine Learning in terms of strategy on this stationary dataset. Whereas our prescribed strategy is to enter at +/- 1 std dev, exit at 0 with +/- 2 std dev stop loss. These are only suggestions and arbitrary levels.\n",
    "\n",
    "With Machine Learning, we can discover if it will uncover the mean reverting nature and recommend another threshhold. We use Q Learner to understand state space with the same spread, mid, std dev parameters as the baseline.\n",
    "\n",
    "### Q Value table"
   ]
  },
  {
   "cell_type": "code",
   "execution_count": 41,
   "metadata": {},
   "outputs": [
    {
     "data": {
      "text/plain": [
       "array([0, 1, 1, 0, 0, 0])"
      ]
     },
     "execution_count": 41,
     "metadata": {},
     "output_type": "execute_result"
    }
   ],
   "source": [
    "workingPairOutcome[top_keys[0]][261]"
   ]
  },
  {
   "cell_type": "code",
   "execution_count": 42,
   "metadata": {},
   "outputs": [
    {
     "data": {
      "text/html": [
       "<div>\n",
       "<style scoped>\n",
       "    .dataframe tbody tr th:only-of-type {\n",
       "        vertical-align: middle;\n",
       "    }\n",
       "\n",
       "    .dataframe tbody tr th {\n",
       "        vertical-align: top;\n",
       "    }\n",
       "\n",
       "    .dataframe thead th {\n",
       "        text-align: right;\n",
       "    }\n",
       "</style>\n",
       "<table border=\"1\" class=\"dataframe\">\n",
       "  <thead>\n",
       "    <tr style=\"text-align: right;\">\n",
       "      <th></th>\n",
       "      <th>spread</th>\n",
       "      <th>mid</th>\n",
       "      <th>1sd high</th>\n",
       "      <th>1sd low</th>\n",
       "      <th>2sd high</th>\n",
       "      <th>2sd low</th>\n",
       "      <th>position</th>\n",
       "      <th>6503 JP Equity position</th>\n",
       "      <th>7269 JP Equity position</th>\n",
       "      <th>dailypnl</th>\n",
       "      <th>cumpnl</th>\n",
       "    </tr>\n",
       "    <tr>\n",
       "      <th>Date</th>\n",
       "      <th></th>\n",
       "      <th></th>\n",
       "      <th></th>\n",
       "      <th></th>\n",
       "      <th></th>\n",
       "      <th></th>\n",
       "      <th></th>\n",
       "      <th></th>\n",
       "      <th></th>\n",
       "      <th></th>\n",
       "      <th></th>\n",
       "    </tr>\n",
       "  </thead>\n",
       "  <tbody>\n",
       "    <tr>\n",
       "      <th>2024-05-27</th>\n",
       "      <td>711.312149</td>\n",
       "      <td>312.114302</td>\n",
       "      <td>519.582968</td>\n",
       "      <td>104.645636</td>\n",
       "      <td>727.051634</td>\n",
       "      <td>-102.823030</td>\n",
       "      <td>-1</td>\n",
       "      <td>-1</td>\n",
       "      <td>1</td>\n",
       "      <td>-0.008760</td>\n",
       "      <td>1.308067</td>\n",
       "    </tr>\n",
       "    <tr>\n",
       "      <th>2024-05-28</th>\n",
       "      <td>729.471175</td>\n",
       "      <td>313.747398</td>\n",
       "      <td>522.810854</td>\n",
       "      <td>104.683941</td>\n",
       "      <td>731.874311</td>\n",
       "      <td>-104.379515</td>\n",
       "      <td>-1</td>\n",
       "      <td>-1</td>\n",
       "      <td>1</td>\n",
       "      <td>0.035074</td>\n",
       "      <td>1.343141</td>\n",
       "    </tr>\n",
       "    <tr>\n",
       "      <th>2024-05-29</th>\n",
       "      <td>616.692335</td>\n",
       "      <td>314.853872</td>\n",
       "      <td>524.752129</td>\n",
       "      <td>104.955615</td>\n",
       "      <td>734.650386</td>\n",
       "      <td>-104.942642</td>\n",
       "      <td>-1</td>\n",
       "      <td>-1</td>\n",
       "      <td>1</td>\n",
       "      <td>0.027955</td>\n",
       "      <td>1.371096</td>\n",
       "    </tr>\n",
       "    <tr>\n",
       "      <th>2024-05-30</th>\n",
       "      <td>535.448255</td>\n",
       "      <td>315.684473</td>\n",
       "      <td>526.024663</td>\n",
       "      <td>105.344282</td>\n",
       "      <td>736.364854</td>\n",
       "      <td>-104.995908</td>\n",
       "      <td>-1</td>\n",
       "      <td>-1</td>\n",
       "      <td>1</td>\n",
       "      <td>-0.038680</td>\n",
       "      <td>1.332416</td>\n",
       "    </tr>\n",
       "    <tr>\n",
       "      <th>2024-05-31</th>\n",
       "      <td>644.564375</td>\n",
       "      <td>316.967564</td>\n",
       "      <td>528.286170</td>\n",
       "      <td>105.648958</td>\n",
       "      <td>739.604776</td>\n",
       "      <td>-105.669648</td>\n",
       "      <td>-1</td>\n",
       "      <td>-1</td>\n",
       "      <td>1</td>\n",
       "      <td>NaN</td>\n",
       "      <td>NaN</td>\n",
       "    </tr>\n",
       "  </tbody>\n",
       "</table>\n",
       "</div>"
      ],
      "text/plain": [
       "                spread         mid    1sd high     1sd low    2sd high  \\\n",
       "Date                                                                     \n",
       "2024-05-27  711.312149  312.114302  519.582968  104.645636  727.051634   \n",
       "2024-05-28  729.471175  313.747398  522.810854  104.683941  731.874311   \n",
       "2024-05-29  616.692335  314.853872  524.752129  104.955615  734.650386   \n",
       "2024-05-30  535.448255  315.684473  526.024663  105.344282  736.364854   \n",
       "2024-05-31  644.564375  316.967564  528.286170  105.648958  739.604776   \n",
       "\n",
       "               2sd low  position  6503 JP Equity position  \\\n",
       "Date                                                        \n",
       "2024-05-27 -102.823030        -1                       -1   \n",
       "2024-05-28 -104.379515        -1                       -1   \n",
       "2024-05-29 -104.942642        -1                       -1   \n",
       "2024-05-30 -104.995908        -1                       -1   \n",
       "2024-05-31 -105.669648        -1                       -1   \n",
       "\n",
       "            7269 JP Equity position  dailypnl    cumpnl  \n",
       "Date                                                     \n",
       "2024-05-27                        1 -0.008760  1.308067  \n",
       "2024-05-28                        1  0.035074  1.343141  \n",
       "2024-05-29                        1  0.027955  1.371096  \n",
       "2024-05-30                        1 -0.038680  1.332416  \n",
       "2024-05-31                        1       NaN       NaN  "
      ]
     },
     "execution_count": 42,
     "metadata": {},
     "output_type": "execute_result"
    }
   ],
   "source": [
    "df = pairsOutcome[top_keys[0]]\n",
    "df.tail()"
   ]
  },
  {
   "cell_type": "code",
   "execution_count": 43,
   "metadata": {},
   "outputs": [],
   "source": [
    "ls_pos = [-1,0,1]\n",
    "pair = validPairsList[0]\n",
    "\n",
    "#Calculate PnL\n",
    "for pos in ls_pos:\n",
    "    df[f'dailypnl_{pos}'] = pos*return_df[f'{pair[0]}'].shift(-1) + -pos*return_df[f'{pair[1]}'].shift(-1)"
   ]
  },
  {
   "cell_type": "code",
   "execution_count": 44,
   "metadata": {},
   "outputs": [
    {
     "data": {
      "text/html": [
       "<div>\n",
       "<style scoped>\n",
       "    .dataframe tbody tr th:only-of-type {\n",
       "        vertical-align: middle;\n",
       "    }\n",
       "\n",
       "    .dataframe tbody tr th {\n",
       "        vertical-align: top;\n",
       "    }\n",
       "\n",
       "    .dataframe thead th {\n",
       "        text-align: right;\n",
       "    }\n",
       "</style>\n",
       "<table border=\"1\" class=\"dataframe\">\n",
       "  <thead>\n",
       "    <tr style=\"text-align: right;\">\n",
       "      <th></th>\n",
       "      <th>spread</th>\n",
       "      <th>mid</th>\n",
       "      <th>1sd high</th>\n",
       "      <th>1sd low</th>\n",
       "      <th>2sd high</th>\n",
       "      <th>2sd low</th>\n",
       "      <th>position</th>\n",
       "      <th>6503 JP Equity position</th>\n",
       "      <th>7269 JP Equity position</th>\n",
       "      <th>dailypnl</th>\n",
       "      <th>cumpnl</th>\n",
       "      <th>dailypnl_-1</th>\n",
       "      <th>dailypnl_0</th>\n",
       "      <th>dailypnl_1</th>\n",
       "    </tr>\n",
       "    <tr>\n",
       "      <th>Date</th>\n",
       "      <th></th>\n",
       "      <th></th>\n",
       "      <th></th>\n",
       "      <th></th>\n",
       "      <th></th>\n",
       "      <th></th>\n",
       "      <th></th>\n",
       "      <th></th>\n",
       "      <th></th>\n",
       "      <th></th>\n",
       "      <th></th>\n",
       "      <th></th>\n",
       "      <th></th>\n",
       "      <th></th>\n",
       "    </tr>\n",
       "  </thead>\n",
       "  <tbody>\n",
       "    <tr>\n",
       "      <th>2013-01-01</th>\n",
       "      <td>-303.939690</td>\n",
       "      <td>NaN</td>\n",
       "      <td>NaN</td>\n",
       "      <td>NaN</td>\n",
       "      <td>NaN</td>\n",
       "      <td>NaN</td>\n",
       "      <td>0</td>\n",
       "      <td>0</td>\n",
       "      <td>0</td>\n",
       "      <td>0.000000</td>\n",
       "      <td>0.000000</td>\n",
       "      <td>0.000000</td>\n",
       "      <td>0.0</td>\n",
       "      <td>0.000000</td>\n",
       "    </tr>\n",
       "    <tr>\n",
       "      <th>2013-01-02</th>\n",
       "      <td>-303.939690</td>\n",
       "      <td>NaN</td>\n",
       "      <td>NaN</td>\n",
       "      <td>NaN</td>\n",
       "      <td>NaN</td>\n",
       "      <td>NaN</td>\n",
       "      <td>0</td>\n",
       "      <td>0</td>\n",
       "      <td>0</td>\n",
       "      <td>0.000000</td>\n",
       "      <td>0.000000</td>\n",
       "      <td>0.000000</td>\n",
       "      <td>0.0</td>\n",
       "      <td>0.000000</td>\n",
       "    </tr>\n",
       "    <tr>\n",
       "      <th>2013-01-03</th>\n",
       "      <td>-303.939690</td>\n",
       "      <td>NaN</td>\n",
       "      <td>NaN</td>\n",
       "      <td>NaN</td>\n",
       "      <td>NaN</td>\n",
       "      <td>NaN</td>\n",
       "      <td>0</td>\n",
       "      <td>0</td>\n",
       "      <td>0</td>\n",
       "      <td>0.000000</td>\n",
       "      <td>0.000000</td>\n",
       "      <td>0.047930</td>\n",
       "      <td>0.0</td>\n",
       "      <td>-0.047930</td>\n",
       "    </tr>\n",
       "    <tr>\n",
       "      <th>2013-01-04</th>\n",
       "      <td>-316.816182</td>\n",
       "      <td>NaN</td>\n",
       "      <td>NaN</td>\n",
       "      <td>NaN</td>\n",
       "      <td>NaN</td>\n",
       "      <td>NaN</td>\n",
       "      <td>0</td>\n",
       "      <td>0</td>\n",
       "      <td>0</td>\n",
       "      <td>-0.000000</td>\n",
       "      <td>0.000000</td>\n",
       "      <td>-0.021472</td>\n",
       "      <td>-0.0</td>\n",
       "      <td>0.021472</td>\n",
       "    </tr>\n",
       "    <tr>\n",
       "      <th>2013-01-07</th>\n",
       "      <td>-307.755527</td>\n",
       "      <td>NaN</td>\n",
       "      <td>NaN</td>\n",
       "      <td>NaN</td>\n",
       "      <td>NaN</td>\n",
       "      <td>NaN</td>\n",
       "      <td>0</td>\n",
       "      <td>0</td>\n",
       "      <td>0</td>\n",
       "      <td>-0.000000</td>\n",
       "      <td>0.000000</td>\n",
       "      <td>-0.018079</td>\n",
       "      <td>-0.0</td>\n",
       "      <td>0.018079</td>\n",
       "    </tr>\n",
       "    <tr>\n",
       "      <th>...</th>\n",
       "      <td>...</td>\n",
       "      <td>...</td>\n",
       "      <td>...</td>\n",
       "      <td>...</td>\n",
       "      <td>...</td>\n",
       "      <td>...</td>\n",
       "      <td>...</td>\n",
       "      <td>...</td>\n",
       "      <td>...</td>\n",
       "      <td>...</td>\n",
       "      <td>...</td>\n",
       "      <td>...</td>\n",
       "      <td>...</td>\n",
       "      <td>...</td>\n",
       "    </tr>\n",
       "    <tr>\n",
       "      <th>2024-05-27</th>\n",
       "      <td>711.312149</td>\n",
       "      <td>312.114302</td>\n",
       "      <td>519.582968</td>\n",
       "      <td>104.645636</td>\n",
       "      <td>727.051634</td>\n",
       "      <td>-102.823030</td>\n",
       "      <td>-1</td>\n",
       "      <td>-1</td>\n",
       "      <td>1</td>\n",
       "      <td>-0.008760</td>\n",
       "      <td>1.308067</td>\n",
       "      <td>-0.008760</td>\n",
       "      <td>0.0</td>\n",
       "      <td>0.008760</td>\n",
       "    </tr>\n",
       "    <tr>\n",
       "      <th>2024-05-28</th>\n",
       "      <td>729.471175</td>\n",
       "      <td>313.747398</td>\n",
       "      <td>522.810854</td>\n",
       "      <td>104.683941</td>\n",
       "      <td>731.874311</td>\n",
       "      <td>-104.379515</td>\n",
       "      <td>-1</td>\n",
       "      <td>-1</td>\n",
       "      <td>1</td>\n",
       "      <td>0.035074</td>\n",
       "      <td>1.343141</td>\n",
       "      <td>0.035074</td>\n",
       "      <td>-0.0</td>\n",
       "      <td>-0.035074</td>\n",
       "    </tr>\n",
       "    <tr>\n",
       "      <th>2024-05-29</th>\n",
       "      <td>616.692335</td>\n",
       "      <td>314.853872</td>\n",
       "      <td>524.752129</td>\n",
       "      <td>104.955615</td>\n",
       "      <td>734.650386</td>\n",
       "      <td>-104.942642</td>\n",
       "      <td>-1</td>\n",
       "      <td>-1</td>\n",
       "      <td>1</td>\n",
       "      <td>0.027955</td>\n",
       "      <td>1.371096</td>\n",
       "      <td>0.027955</td>\n",
       "      <td>-0.0</td>\n",
       "      <td>-0.027955</td>\n",
       "    </tr>\n",
       "    <tr>\n",
       "      <th>2024-05-30</th>\n",
       "      <td>535.448255</td>\n",
       "      <td>315.684473</td>\n",
       "      <td>526.024663</td>\n",
       "      <td>105.344282</td>\n",
       "      <td>736.364854</td>\n",
       "      <td>-104.995908</td>\n",
       "      <td>-1</td>\n",
       "      <td>-1</td>\n",
       "      <td>1</td>\n",
       "      <td>-0.038680</td>\n",
       "      <td>1.332416</td>\n",
       "      <td>-0.038680</td>\n",
       "      <td>0.0</td>\n",
       "      <td>0.038680</td>\n",
       "    </tr>\n",
       "    <tr>\n",
       "      <th>2024-05-31</th>\n",
       "      <td>644.564375</td>\n",
       "      <td>316.967564</td>\n",
       "      <td>528.286170</td>\n",
       "      <td>105.648958</td>\n",
       "      <td>739.604776</td>\n",
       "      <td>-105.669648</td>\n",
       "      <td>-1</td>\n",
       "      <td>-1</td>\n",
       "      <td>1</td>\n",
       "      <td>NaN</td>\n",
       "      <td>NaN</td>\n",
       "      <td>NaN</td>\n",
       "      <td>NaN</td>\n",
       "      <td>NaN</td>\n",
       "    </tr>\n",
       "  </tbody>\n",
       "</table>\n",
       "<p>2979 rows × 14 columns</p>\n",
       "</div>"
      ],
      "text/plain": [
       "                spread         mid    1sd high     1sd low    2sd high  \\\n",
       "Date                                                                     \n",
       "2013-01-01 -303.939690         NaN         NaN         NaN         NaN   \n",
       "2013-01-02 -303.939690         NaN         NaN         NaN         NaN   \n",
       "2013-01-03 -303.939690         NaN         NaN         NaN         NaN   \n",
       "2013-01-04 -316.816182         NaN         NaN         NaN         NaN   \n",
       "2013-01-07 -307.755527         NaN         NaN         NaN         NaN   \n",
       "...                ...         ...         ...         ...         ...   \n",
       "2024-05-27  711.312149  312.114302  519.582968  104.645636  727.051634   \n",
       "2024-05-28  729.471175  313.747398  522.810854  104.683941  731.874311   \n",
       "2024-05-29  616.692335  314.853872  524.752129  104.955615  734.650386   \n",
       "2024-05-30  535.448255  315.684473  526.024663  105.344282  736.364854   \n",
       "2024-05-31  644.564375  316.967564  528.286170  105.648958  739.604776   \n",
       "\n",
       "               2sd low  position  6503 JP Equity position  \\\n",
       "Date                                                        \n",
       "2013-01-01         NaN         0                        0   \n",
       "2013-01-02         NaN         0                        0   \n",
       "2013-01-03         NaN         0                        0   \n",
       "2013-01-04         NaN         0                        0   \n",
       "2013-01-07         NaN         0                        0   \n",
       "...                ...       ...                      ...   \n",
       "2024-05-27 -102.823030        -1                       -1   \n",
       "2024-05-28 -104.379515        -1                       -1   \n",
       "2024-05-29 -104.942642        -1                       -1   \n",
       "2024-05-30 -104.995908        -1                       -1   \n",
       "2024-05-31 -105.669648        -1                       -1   \n",
       "\n",
       "            7269 JP Equity position  dailypnl    cumpnl  dailypnl_-1  \\\n",
       "Date                                                                   \n",
       "2013-01-01                        0  0.000000  0.000000     0.000000   \n",
       "2013-01-02                        0  0.000000  0.000000     0.000000   \n",
       "2013-01-03                        0  0.000000  0.000000     0.047930   \n",
       "2013-01-04                        0 -0.000000  0.000000    -0.021472   \n",
       "2013-01-07                        0 -0.000000  0.000000    -0.018079   \n",
       "...                             ...       ...       ...          ...   \n",
       "2024-05-27                        1 -0.008760  1.308067    -0.008760   \n",
       "2024-05-28                        1  0.035074  1.343141     0.035074   \n",
       "2024-05-29                        1  0.027955  1.371096     0.027955   \n",
       "2024-05-30                        1 -0.038680  1.332416    -0.038680   \n",
       "2024-05-31                        1       NaN       NaN          NaN   \n",
       "\n",
       "            dailypnl_0  dailypnl_1  \n",
       "Date                                \n",
       "2013-01-01         0.0    0.000000  \n",
       "2013-01-02         0.0    0.000000  \n",
       "2013-01-03         0.0   -0.047930  \n",
       "2013-01-04        -0.0    0.021472  \n",
       "2013-01-07        -0.0    0.018079  \n",
       "...                ...         ...  \n",
       "2024-05-27         0.0    0.008760  \n",
       "2024-05-28        -0.0   -0.035074  \n",
       "2024-05-29        -0.0   -0.027955  \n",
       "2024-05-30         0.0    0.038680  \n",
       "2024-05-31         NaN         NaN  \n",
       "\n",
       "[2979 rows x 14 columns]"
      ]
     },
     "execution_count": 44,
     "metadata": {},
     "output_type": "execute_result"
    }
   ],
   "source": [
    "df"
   ]
  },
  {
   "cell_type": "code",
   "execution_count": 45,
   "metadata": {},
   "outputs": [],
   "source": [
    "ls_pos = [-1,0,1]\n",
    "ls_res_111000 = []\n",
    "ls_res_011000 = []\n",
    "ls_res_001000 = []\n",
    "ls_res_000100 = []\n",
    "ls_res_000110 = []\n",
    "ls_res_000111 = []\n",
    "ls_df = []\n",
    "\n",
    "for i, key in enumerate(top_keys):\n",
    "    pair = validPairsList[i]\n",
    "    df = pairsOutcome[key]\n",
    "    for pos in ls_pos:\n",
    "        df[f'dailypnl_{pos}'] = pos*return_df[f'{pair[0]}'].shift(-1) + -pos*return_df[f'{pair[1]}'].shift(-1)\n",
    "\n",
    "    # above 2 high SD\n",
    "    ls_res_111000.append(df.loc[(df['spread'] > df['2sd high'])][['dailypnl_-1', 'dailypnl_0', 'dailypnl_1']].sum())\n",
    "    # within 1 to 2 high SD\n",
    "    ls_res_011000.append(df.loc[(df['spread'] > df['1sd high']) & (df['spread'] < df['2sd high'])][['dailypnl_-1', 'dailypnl_0', 'dailypnl_1']].sum())\n",
    "    # within 0 to 1 high SD\n",
    "    ls_res_001000.append(df.loc[(df['spread'] > df['mid']) & (df['spread'] < df['1sd high'])][['dailypnl_-1', 'dailypnl_0', 'dailypnl_1']].sum())\n",
    "    # within 0 to 1 high SD\n",
    "    ls_res_000100.append(df.loc[(df['spread'] < df['mid']) & (df['spread'] > df['1sd low'])][['dailypnl_-1', 'dailypnl_0', 'dailypnl_1']].sum())\n",
    "    # within 1 to 2 low SD\n",
    "    ls_res_000110.append(df.loc[(df['spread'] > df['2sd low']) & (df['spread'] < df['1sd low'])][['dailypnl_-1', 'dailypnl_0', 'dailypnl_1']].sum())\n",
    "    # less than 2sd spread\n",
    "    ls_res_000111.append(df.loc[(df['spread'] < df['2sd low'])][['dailypnl_-1', 'dailypnl_0', 'dailypnl_1']].sum())\n",
    "\n",
    "    ls_df.append(df)\n",
    "    \n",
    "ls_ls = [ls_res_111000,ls_res_011000, ls_res_001000,ls_res_000100,ls_res_000110,ls_res_000111]\n",
    "ls_state_returns = []\n",
    "for i, ls_ in enumerate(ls_ls):\n",
    "    dummy_df = pd.concat(ls_, axis=1).T\n",
    "    dummy_df['max return'] = dummy_df.idxmax(axis=1)\n",
    "    ls_state_returns.append(dummy_df)\n"
   ]
  },
  {
   "cell_type": "code",
   "execution_count": 46,
   "metadata": {},
   "outputs": [
    {
     "data": {
      "text/plain": [
       "Index(['spread', 'mid', '1sd high', '1sd low', '2sd high', '2sd low',\n",
       "       'position', '6503 JP Equity position', '7269 JP Equity position',\n",
       "       'dailypnl', 'cumpnl', 'dailypnl_-1', 'dailypnl_0', 'dailypnl_1'],\n",
       "      dtype='object')"
      ]
     },
     "execution_count": 46,
     "metadata": {},
     "output_type": "execute_result"
    }
   ],
   "source": [
    "ls_df[0].columns"
   ]
  },
  {
   "cell_type": "code",
   "execution_count": 47,
   "metadata": {},
   "outputs": [],
   "source": [
    "ls_df = [df[['dailypnl_-1', 'dailypnl_0', 'dailypnl_1']] for df in ls_df]\n",
    "dailypnl_df = pd.concat(ls_df).dropna()"
   ]
  },
  {
   "cell_type": "code",
   "execution_count": 48,
   "metadata": {},
   "outputs": [
    {
     "data": {
      "text/plain": [
       "count    29780.000000\n",
       "mean         0.000008\n",
       "std          0.018391\n",
       "min         -0.238144\n",
       "25%         -0.008742\n",
       "50%          0.000000\n",
       "75%          0.008738\n",
       "max          0.199404\n",
       "Name: dailypnl_-1, dtype: float64"
      ]
     },
     "execution_count": 48,
     "metadata": {},
     "output_type": "execute_result"
    }
   ],
   "source": [
    "dailypnl_df['dailypnl_-1'].describe()"
   ]
  },
  {
   "cell_type": "code",
   "execution_count": 49,
   "metadata": {},
   "outputs": [
    {
     "data": {
      "text/plain": [
       "count    29780.000000\n",
       "mean        -0.000008\n",
       "std          0.018391\n",
       "min         -0.199404\n",
       "25%         -0.008738\n",
       "50%          0.000000\n",
       "75%          0.008742\n",
       "max          0.238144\n",
       "Name: dailypnl_1, dtype: float64"
      ]
     },
     "execution_count": 49,
     "metadata": {},
     "output_type": "execute_result"
    }
   ],
   "source": [
    "dailypnl_df['dailypnl_1'].describe()"
   ]
  },
  {
   "cell_type": "code",
   "execution_count": 50,
   "metadata": {},
   "outputs": [
    {
     "data": {
      "image/png": "[encoded data removed]",
      "text/plain": [
       "<Figure size 640x480 with 1 Axes>"
      ]
     },
     "metadata": {},
     "output_type": "display_data"
    }
   ],
   "source": [
    "from scipy.stats import norm\n",
    "\n",
    "# Calculate mean and standard deviation\n",
    "mean = dailypnl_df['dailypnl_1'].mean()\n",
    "std_dev = dailypnl_df['dailypnl_1'].std()\n",
    "\n",
    "# Plot the histogram\n",
    "plt.hist(dailypnl_df['dailypnl_1'], bins=100, density=True, alpha=0.7, label='Histogram')\n",
    "\n",
    "# Plot the vertical lines for 1, 2, and 3 standard deviations\n",
    "x_axis = np.linspace(mean - 3*std_dev, mean + 3*std_dev, 100)\n",
    "plt.plot(x_axis, norm.pdf(x_axis, mean, std_dev), color='red', label='Normal Distribution')\n",
    "plt.axvline(x=mean + std_dev, color='blue', linestyle='--', label='1 SD')\n",
    "plt.axvline(x=mean + 2*std_dev, color='green', linestyle='--', label='2 SD')\n",
    "plt.axvline(x=mean + 3*std_dev, color='orange', linestyle='--', label='3 SD')\n",
    "\n",
    "# Add labels and title\n",
    "plt.xlabel('Daily P&L')\n",
    "plt.ylabel('Density')\n",
    "plt.title('Daily P&L Histogram with Standard Deviations')\n",
    "plt.legend()\n",
    "plt.grid(True)\n",
    "plt.show()\n"
   ]
  },
  {
   "cell_type": "code",
   "execution_count": 51,
   "metadata": {},
   "outputs": [
    {
     "data": {
      "text/plain": [
       "0.018390515013803736"
      ]
     },
     "execution_count": 51,
     "metadata": {},
     "output_type": "execute_result"
    }
   ],
   "source": [
    "dailypnl_df['dailypnl_1'].std()"
   ]
  },
  {
   "cell_type": "code",
   "execution_count": 52,
   "metadata": {},
   "outputs": [
    {
     "data": {
      "image/png": "[encoded data removed]",
      "text/plain": [
       "<Figure size 640x480 with 1 Axes>"
      ]
     },
     "metadata": {},
     "output_type": "display_data"
    }
   ],
   "source": [
    "# Calculate mean and standard deviation\n",
    "scaled = dailypnl_df['dailypnl_1']/std_dev\n",
    "\n",
    "# Plot the histogram\n",
    "plt.hist(scaled, bins=100, density=True, alpha=0.7, label='Histogram')\n",
    "\n",
    "# Plot the vertical lines for 1, 2, and 3 standard deviations\n",
    "x_axis = np.linspace(mean - 3*std_dev, mean + 3*std_dev, 100)\n",
    "# plt.plot(x_axis, norm.pdf(x_axis, mean, std_dev), color='red', label='Normal Distribution')\n",
    "plt.axvline(x=mean + 1, color='blue', linestyle='--', label='1 SD')\n",
    "plt.axvline(x=mean + 2*1, color='green', linestyle='--', label='2 SD')\n",
    "plt.axvline(x=mean + 3*1, color='orange', linestyle='--', label='3 SD')\n",
    "\n",
    "# Add labels and title\n",
    "plt.xlabel('Daily P&L')\n",
    "plt.ylabel('Density')\n",
    "plt.title('Daily P&L Histogram with Standard Deviations after scaling')\n",
    "plt.legend()\n",
    "plt.grid(True)\n",
    "plt.show()"
   ]
  },
  {
   "cell_type": "markdown",
   "metadata": {},
   "source": [
    "there seems to be 0 mean for returns, maybe very small"
   ]
  },
  {
   "cell_type": "code",
   "execution_count": 53,
   "metadata": {},
   "outputs": [
    {
     "data": {
      "text/plain": [
       "14"
      ]
     },
     "execution_count": 53,
     "metadata": {},
     "output_type": "execute_result"
    }
   ],
   "source": [
    "x = 9\n",
    "\n",
    "if x >2:\n",
    "    x +=5\n",
    "elif x > 1:\n",
    "    x +=5\n",
    "x"
   ]
  },
  {
   "cell_type": "markdown",
   "metadata": {},
   "source": []
  },
  {
   "cell_type": "code",
   "execution_count": 54,
   "metadata": {},
   "outputs": [
    {
     "name": "stdout",
     "output_type": "stream",
     "text": [
      "Sum of returns for state 111000\n",
      "dailypnl_-1    3.114367\n",
      "dailypnl_0     0.000000\n",
      "dailypnl_1    -3.114367\n",
      "dtype: float64 \n",
      "\n",
      "Sum of returns for state 011000\n",
      "dailypnl_-1    4.048432\n",
      "dailypnl_0     0.000000\n",
      "dailypnl_1    -4.048432\n",
      "dtype: float64 \n",
      "\n",
      "Sum of returns for state 001000\n",
      "dailypnl_-1    2.009062\n",
      "dailypnl_0     0.000000\n",
      "dailypnl_1    -2.009062\n",
      "dtype: float64 \n",
      "\n",
      "Sum of returns for state 000100\n",
      "dailypnl_-1   -2.440315\n",
      "dailypnl_0     0.000000\n",
      "dailypnl_1     2.440315\n",
      "dtype: float64 \n",
      "\n",
      "Sum of returns for state 000110\n",
      "dailypnl_-1   -4.238304\n",
      "dailypnl_0     0.000000\n",
      "dailypnl_1     4.238304\n",
      "dtype: float64 \n",
      "\n",
      "Sum of returns for state 000111\n",
      "dailypnl_-1   -2.398257\n",
      "dailypnl_0     0.000000\n",
      "dailypnl_1     2.398257\n",
      "dtype: float64 \n",
      "\n"
     ]
    }
   ],
   "source": [
    "states = ['111000','011000', '001000','000100','000110','000111']\n",
    "for state, dummy_df in zip(states,ls_state_returns):\n",
    "    print(f\"Sum of returns for state {state}\")\n",
    "    print(dummy_df[dummy_df.columns[:-1]].sum(axis=0),\"\\n\")"
   ]
  },
  {
   "cell_type": "markdown",
   "metadata": {},
   "source": [
    "# Machine Learning Challenge\n",
    "\n",
    "## Background\n",
    "Initial evaluation of the baseline portfolio shows that draw downs are small. Originally team had the idea of using Machine Learning to optimise for sizing of these pair trades. However since there was no significant drawdowns the returns are linearly increasing with investment sizing i.e. greater nominal investment in the the pair trade the proportionate increase in returns without realising significant drawdown risk.\n",
    "\n",
    "Instead of optimising for sizing, we can explore Machine Learning in terms of strategy on this stationary dataset. Whereas our prescribed strategy is to enter at +/- 1 std dev, exit at 0 with +/- 2 std dev stop loss. These are only suggestions and arbitrary levels.\n",
    "\n",
    "With Machine Learning, we can discover if it will uncover the mean reverting nature and recommend another threshhold. We use Q Learner to understand state space with the same spread, mid, std dev parameters as the baseline.\n",
    "\n",
    "### Steps\n",
    "#### Environment:\n",
    "- State Space: A set of all possible states the agent can be in.  \n",
    "  - [spread, mid, 2 sd low, 1 sd low, 1 sd high, 2 sd high]\n",
    "- Action Space: A set of all possible actions the agent can take in each state.   \n",
    "  - [-1, # short\\\n",
    "      0, # uninvested\\\n",
    "      1  # long]   \n",
    "- Reward Function: A function that assigns a numerical reward to each state-action pair, indicating the immediate consequence of taking a particular action in a specific state.\n",
    "  - dailypnl\n",
    "- Transition Function: A function that determines the probability of transitioning from one state to another when a particular action is taken.\n",
    "  - deterministic based on historical performance\n",
    "#### Agent:\n",
    "\n",
    "- Q-Table: A matrix that stores the estimated Q-values for each state-action pair. Q-values represent the expected future reward for taking a specific action in a given state.   \n",
    "  - continuous Q table?\n",
    "- Learning Rate (α): A parameter that controls how much the Q-values are updated with each new experience.   \n",
    "- Discount Factor (γ): A parameter that determines the importance of future rewards. A higher discount factor gives more weight to future rewards.   \n",
    "- Exploration Rate (ε): A parameter that controls the balance between exploration (trying new actions) and exploitation (choosing the action with the highest Q-value).   \n",
    "- Q-Learning Algorithm:\n",
    "\n",
    "  - Initialization: Initialize the Q-table with random values or zeros.   \n",
    "  - Exploration and Exploitation: Use an exploration strategy (e.g., ε-greedy) to choose an action:\n",
    "    - With probability ε, choose a random action.   \n",
    "    - With probability 1-ε, choose the action with the highest Q-value for the current state.   \n",
    "  \n",
    "  - Take Action: Execute the chosen action in the environment.   \n",
    "  - Observe Reward and Next State: Observe the immediate reward and the next state resulting from the action.\n",
    "- Update Q-Value: Update the Q-value of the current state-action pair using the following formula:\n",
    "\n",
    "## Make indicators and spread stationary around 0\n",
    "Deduct the mean from all values to translate to 0 axis\n",
    "\n",
    "#### Training and Test set\n",
    "\n",
    "2013 is used for warm start\\\n",
    "2014 - 2023 train data since NN need a lot of training data {end 2023 idx == 2868}\\\n",
    "2024 onwards (5 months) test data\n"
   ]
  },
  {
   "cell_type": "markdown",
   "metadata": {},
   "source": [
    "The above results show the reliability of mean reversion. In each state space we expect the returns to reward position that expect a return to mean.\n",
    "\n",
    "However, although this trend is true in aggregate, there are some pairs where this rule does not hold. Below shows a sample of returns where the 2 of 17 pair trades have a greater return going long (instead of short) when the spread is over 2 SD."
   ]
  },
  {
   "cell_type": "code",
   "execution_count": 55,
   "metadata": {},
   "outputs": [
    {
     "data": {
      "text/plain": [
       "dailypnl_-1   -0.239826\n",
       "dailypnl_0     0.000000\n",
       "dailypnl_1     0.239826\n",
       "dtype: float64"
      ]
     },
     "execution_count": 55,
     "metadata": {},
     "output_type": "execute_result"
    }
   ],
   "source": [
    "dummy_df[dummy_df.columns[:-1]].mean()"
   ]
  },
  {
   "cell_type": "code",
   "execution_count": 56,
   "metadata": {},
   "outputs": [
    {
     "data": {
      "text/html": [
       "<div>\n",
       "<style scoped>\n",
       "    .dataframe tbody tr th:only-of-type {\n",
       "        vertical-align: middle;\n",
       "    }\n",
       "\n",
       "    .dataframe tbody tr th {\n",
       "        vertical-align: top;\n",
       "    }\n",
       "\n",
       "    .dataframe thead th {\n",
       "        text-align: right;\n",
       "    }\n",
       "</style>\n",
       "<table border=\"1\" class=\"dataframe\">\n",
       "  <thead>\n",
       "    <tr style=\"text-align: right;\">\n",
       "      <th></th>\n",
       "      <th>dailypnl_-1</th>\n",
       "      <th>dailypnl_0</th>\n",
       "      <th>dailypnl_1</th>\n",
       "      <th>max return</th>\n",
       "    </tr>\n",
       "  </thead>\n",
       "  <tbody>\n",
       "    <tr>\n",
       "      <th>0</th>\n",
       "      <td>0.530858</td>\n",
       "      <td>0.0</td>\n",
       "      <td>-0.530858</td>\n",
       "      <td>dailypnl_-1</td>\n",
       "    </tr>\n",
       "    <tr>\n",
       "      <th>1</th>\n",
       "      <td>0.486802</td>\n",
       "      <td>0.0</td>\n",
       "      <td>-0.486802</td>\n",
       "      <td>dailypnl_-1</td>\n",
       "    </tr>\n",
       "    <tr>\n",
       "      <th>2</th>\n",
       "      <td>0.161907</td>\n",
       "      <td>0.0</td>\n",
       "      <td>-0.161907</td>\n",
       "      <td>dailypnl_-1</td>\n",
       "    </tr>\n",
       "    <tr>\n",
       "      <th>3</th>\n",
       "      <td>0.206617</td>\n",
       "      <td>0.0</td>\n",
       "      <td>-0.206617</td>\n",
       "      <td>dailypnl_-1</td>\n",
       "    </tr>\n",
       "    <tr>\n",
       "      <th>4</th>\n",
       "      <td>0.177500</td>\n",
       "      <td>0.0</td>\n",
       "      <td>-0.177500</td>\n",
       "      <td>dailypnl_-1</td>\n",
       "    </tr>\n",
       "    <tr>\n",
       "      <th>5</th>\n",
       "      <td>0.238607</td>\n",
       "      <td>0.0</td>\n",
       "      <td>-0.238607</td>\n",
       "      <td>dailypnl_-1</td>\n",
       "    </tr>\n",
       "    <tr>\n",
       "      <th>6</th>\n",
       "      <td>-0.036494</td>\n",
       "      <td>0.0</td>\n",
       "      <td>0.036494</td>\n",
       "      <td>dailypnl_1</td>\n",
       "    </tr>\n",
       "    <tr>\n",
       "      <th>7</th>\n",
       "      <td>0.348275</td>\n",
       "      <td>0.0</td>\n",
       "      <td>-0.348275</td>\n",
       "      <td>dailypnl_-1</td>\n",
       "    </tr>\n",
       "    <tr>\n",
       "      <th>8</th>\n",
       "      <td>0.455133</td>\n",
       "      <td>0.0</td>\n",
       "      <td>-0.455133</td>\n",
       "      <td>dailypnl_-1</td>\n",
       "    </tr>\n",
       "    <tr>\n",
       "      <th>9</th>\n",
       "      <td>0.545163</td>\n",
       "      <td>0.0</td>\n",
       "      <td>-0.545163</td>\n",
       "      <td>dailypnl_-1</td>\n",
       "    </tr>\n",
       "  </tbody>\n",
       "</table>\n",
       "</div>"
      ],
      "text/plain": [
       "   dailypnl_-1  dailypnl_0  dailypnl_1   max return\n",
       "0     0.530858         0.0   -0.530858  dailypnl_-1\n",
       "1     0.486802         0.0   -0.486802  dailypnl_-1\n",
       "2     0.161907         0.0   -0.161907  dailypnl_-1\n",
       "3     0.206617         0.0   -0.206617  dailypnl_-1\n",
       "4     0.177500         0.0   -0.177500  dailypnl_-1\n",
       "5     0.238607         0.0   -0.238607  dailypnl_-1\n",
       "6    -0.036494         0.0    0.036494   dailypnl_1\n",
       "7     0.348275         0.0   -0.348275  dailypnl_-1\n",
       "8     0.455133         0.0   -0.455133  dailypnl_-1\n",
       "9     0.545163         0.0   -0.545163  dailypnl_-1"
      ]
     },
     "execution_count": 56,
     "metadata": {},
     "output_type": "execute_result"
    }
   ],
   "source": [
    "dummy_df = ls_state_returns[0]\n",
    "dummy_df"
   ]
  },
  {
   "cell_type": "markdown",
   "metadata": {},
   "source": [
    "# checking state imbalances"
   ]
  },
  {
   "cell_type": "code",
   "execution_count": 57,
   "metadata": {},
   "outputs": [],
   "source": [
    "from collections import Counter"
   ]
  },
  {
   "cell_type": "code",
   "execution_count": 58,
   "metadata": {},
   "outputs": [],
   "source": [
    "array = np.concatenate([workingPairOutcome[key] for key in top_keys])\n",
    "array_train = np.concatenate([workingPairOutcome[key][:2868] for key in top_keys])\n",
    "array_test = np.concatenate([workingPairOutcome[key][2868:] for key in top_keys])"
   ]
  },
  {
   "cell_type": "code",
   "execution_count": 59,
   "metadata": {},
   "outputs": [
    {
     "name": "stdout",
     "output_type": "stream",
     "text": [
      "===== All Dataset State Distribution =====\n",
      "State: (0, 0, 1, 0, 0, 0), Count: 7520\n",
      "State: (0, 0, 0, 1, 0, 0), Count: 6750\n",
      "State: (0, 1, 1, 0, 0, 0), Count: 5830\n",
      "State: (0, 0, 0, 1, 1, 0), Count: 3140\n",
      "State: (0, 0, 0, 0, 0, 0), Count: 2610\n",
      "State: (0, 0, 0, 1, 1, 1), Count: 1980\n",
      "State: (1, 1, 1, 0, 0, 0), Count: 1960\n"
     ]
    }
   ],
   "source": [
    "row_tuples = map(tuple, array)\n",
    "\n",
    "# Count unique rows\n",
    "row_counts = Counter(row_tuples)\n",
    "\n",
    "print(\"=\"*5, \"All Dataset State Distribution\", \"=\"*5)\n",
    "for row, count in sorted(row_counts.items(), key=lambda x: x[1], reverse=True):\n",
    "    print(f\"State: {row}, Count: {count}\")"
   ]
  },
  {
   "cell_type": "code",
   "execution_count": 60,
   "metadata": {},
   "outputs": [
    {
     "name": "stdout",
     "output_type": "stream",
     "text": [
      "===== Train Dataset State Distribution =====\n",
      "State: (0, 0, 1, 0, 0, 0), Count: 7150\n",
      "State: (0, 0, 0, 1, 0, 0), Count: 6720\n",
      "State: (0, 1, 1, 0, 0, 0), Count: 5530\n",
      "State: (0, 0, 0, 1, 1, 0), Count: 3130\n",
      "State: (0, 0, 0, 0, 0, 0), Count: 2610\n",
      "State: (0, 0, 0, 1, 1, 1), Count: 1980\n",
      "State: (1, 1, 1, 0, 0, 0), Count: 1560\n"
     ]
    }
   ],
   "source": [
    "row_tuples = map(tuple, array_train)\n",
    "row_counts = Counter(row_tuples)\n",
    "\n",
    "print(\"=\"*5, \"Train Dataset State Distribution\", \"=\"*5)\n",
    "for row, count in sorted(row_counts.items(), key=lambda x: x[1], reverse=True):\n",
    "    print(f\"State: {row}, Count: {count}\")"
   ]
  },
  {
   "cell_type": "code",
   "execution_count": 61,
   "metadata": {},
   "outputs": [
    {
     "name": "stdout",
     "output_type": "stream",
     "text": [
      "===== Test Dataset State Distribution =====\n",
      "State: (1, 1, 1, 0, 0, 0), Count: 400\n",
      "State: (0, 0, 1, 0, 0, 0), Count: 370\n",
      "State: (0, 1, 1, 0, 0, 0), Count: 300\n",
      "State: (0, 0, 0, 1, 0, 0), Count: 30\n",
      "State: (0, 0, 0, 1, 1, 0), Count: 10\n"
     ]
    }
   ],
   "source": [
    "row_tuples = map(tuple, array_test)\n",
    "\n",
    "# Count unique rows\n",
    "row_counts = Counter(row_tuples)\n",
    "\n",
    "print(\"=\"*5, \"Test Dataset State Distribution\", \"=\"*5)\n",
    "for row, count in sorted(row_counts.items(), key=lambda x: x[1], reverse=True):\n",
    "    print(f\"State: {row}, Count: {count}\")"
   ]
  }
 ],
 "metadata": {
  "kernelspec": {
   "display_name": "Python 3",
   "language": "python",
   "name": "python3"
  },
  "language_info": {
   "codemirror_mode": {
    "name": "ipython",
    "version": 3
   },
   "file_extension": ".py",
   "mimetype": "text/x-python",
   "name": "python",
   "nbconvert_exporter": "python",
   "pygments_lexer": "ipython3",
   "version": "3.12.0"
  }
 },
 "nbformat": 4,
 "nbformat_minor": 2
}
