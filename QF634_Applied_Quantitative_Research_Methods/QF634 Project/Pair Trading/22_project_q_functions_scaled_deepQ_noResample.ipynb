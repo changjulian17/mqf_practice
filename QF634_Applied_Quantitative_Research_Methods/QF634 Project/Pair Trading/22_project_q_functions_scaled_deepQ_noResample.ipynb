{
 "cells": [
  {
   "cell_type": "code",
   "execution_count": 1,
   "metadata": {},
   "outputs": [],
   "source": [
    "## anaconda3 (Python 3.12.0) Kernel\n",
    "\n",
    "import torch\n",
    "import torch.nn as nn\n",
    "import torch.optim as optim\n",
    "import numpy as np\n",
    "\n",
    "# pair trade packages\n",
    "import pandas as pd\n",
    "import numpy as np\n",
    "import matplotlib.pyplot as plt\n",
    "import pickle\n",
    "from datetime import datetime"
   ]
  },
  {
   "cell_type": "markdown",
   "metadata": {},
   "source": [
    "# Load Pairs Data\n"
   ]
  },
  {
   "cell_type": "code",
   "execution_count": 2,
   "metadata": {},
   "outputs": [
    {
     "name": "stdout",
     "output_type": "stream",
     "text": [
      "Dictionary loaded from pairsOutcome.pkl\n"
     ]
    },
    {
     "name": "stderr",
     "output_type": "stream",
     "text": [
      "/var/folders/h2/r7qn2m9n1zb6y_0q191gdqth0000gn/T/ipykernel_4680/3199335484.py:12: FutureWarning: The argument 'date_parser' is deprecated and will be removed in a future version. Please use 'date_format' instead, or read your data in as 'object' dtype and then call 'to_datetime'.\n",
      "  tpxData = pd.read_csv('TPX_prices.csv', index_col=0, parse_dates=True, date_parser=custom_date_parser)\n"
     ]
    }
   ],
   "source": [
    "def custom_date_parser(date_str):\n",
    "    return datetime.strptime(date_str, '%d/%m/%Y')\n",
    "\n",
    "# Load the dictionary from the pickle file\n",
    "with open('pairsOutcome.pkl', 'rb') as file:\n",
    "    pairsOutcome = pickle.load(file)\n",
    "\n",
    "print(\"Dictionary loaded from pairsOutcome.pkl\")\n",
    "\n",
    "\n",
    "# Load stock data and get return \n",
    "tpxData = pd.read_csv('TPX_prices.csv', index_col=0, parse_dates=True, date_parser=custom_date_parser)\n",
    "tpxData = tpxData.dropna(axis='columns')\n",
    "return_df = (tpxData / tpxData.shift(1)) - 1"
   ]
  },
  {
   "cell_type": "markdown",
   "metadata": {},
   "source": [
    "# Get Pair Trade Portfolio\n",
    "`pairsOutcome` already have TOPIX stocks with highest liquidity and are tested for stationarity over a 1 year window\n",
    "\n",
    "Choose top 10 known pair trades by returns in the total dataset"
   ]
  },
  {
   "cell_type": "code",
   "execution_count": 3,
   "metadata": {},
   "outputs": [
    {
     "data": {
      "text/plain": [
       "['6503 JP Equity 7269 JP Equity',\n",
       " '6326 JP Equity 6954 JP Equity',\n",
       " '8053 JP Equity 8058 JP Equity',\n",
       " '4901 JP Equity 9613 JP Equity',\n",
       " '6988 JP Equity 7267 JP Equity',\n",
       " '4901 JP Equity 6702 JP Equity',\n",
       " '4684 JP Equity 7832 JP Equity',\n",
       " '7267 JP Equity 8306 JP Equity',\n",
       " '7267 JP Equity 8801 JP Equity',\n",
       " '4519 JP Equity 7532 JP Equity']"
      ]
     },
     "execution_count": 3,
     "metadata": {},
     "output_type": "execute_result"
    }
   ],
   "source": [
    "import csv\n",
    "\n",
    "\n",
    "with open(\"output_clustering.csv\", 'r') as csvfile:\n",
    "    reader = csv.reader(csvfile)\n",
    "    # Skip the header row\n",
    "    next(reader)\n",
    "    working_pairs = [tuple(row) for row in reader]\n",
    "\n",
    "# Assuming your CSV data is in a file named 'data.csv'\n",
    "top_keys = [f\"{pair[0]} {pair[1]}\" for pair in working_pairs]\n",
    "\n",
    "top_keys"
   ]
  },
  {
   "cell_type": "code",
   "execution_count": 4,
   "metadata": {},
   "outputs": [
    {
     "name": "stdout",
     "output_type": "stream",
     "text": [
      "Top 10 performing trades:\n",
      "1. Key: 6503 JP Equity 7269 JP Equity, Return: 1.33\n",
      "2. Key: 6326 JP Equity 6954 JP Equity, Return: 1.19\n",
      "3. Key: 8053 JP Equity 8058 JP Equity, Return: 0.52\n",
      "4. Key: 4901 JP Equity 9613 JP Equity, Return: 1.10\n",
      "5. Key: 6988 JP Equity 7267 JP Equity, Return: 0.65\n",
      "6. Key: 4901 JP Equity 6702 JP Equity, Return: -0.34\n",
      "7. Key: 4684 JP Equity 7832 JP Equity, Return: 0.89\n",
      "8. Key: 7267 JP Equity 8306 JP Equity, Return: 1.16\n",
      "9. Key: 7267 JP Equity 8801 JP Equity, Return: 0.64\n",
      "10. Key: 4519 JP Equity 7532 JP Equity, Return: 1.14\n"
     ]
    }
   ],
   "source": [
    "print(\"Top 10 performing trades:\")\n",
    "for i, key in enumerate(top_keys, 1):\n",
    "    print(f\"{i}. Key: {key}, Return: {pairsOutcome[key].cumpnl.iloc[-2]:.2f}\")"
   ]
  },
  {
   "cell_type": "markdown",
   "metadata": {},
   "source": [
    "# Machine Learning Challenge\n",
    "\n",
    "## Background\n",
    "Initial evaluation of the baseline portfolio shows that draw downs are small. Originally team had the idea of using Machine Learning to optimise for sizing of these pair trades. However since there was no significant drawdowns the returns are linearly increasing with investment sizing i.e. greater nominal investment in the the pair trade the proportionate increase in returns without realising significant drawdown risk.\n",
    "\n",
    "Instead of optimising for sizing, we can explore Machine Learning in terms of strategy on this stationary dataset. Whereas our prescribed strategy is to enter at +/- 1 std dev, exit at 0 with +/- 2 std dev stop loss. These are only suggestions and arbitrary levels.\n",
    "\n",
    "With Machine Learning, we can discover if it will uncover the mean reverting nature and recommend another threshhold. We use Q Learner to understand state space with the same spread, mid, std dev parameters as the baseline.\n",
    "\n",
    "### Steps\n",
    "#### Environment:\n",
    "- State Space: A set of all possible states the agent can be in.  \n",
    "  - [spread, mid, 2 sd low, 1 sd low, 1 sd high, 2 sd high]\n",
    "- Action Space: A set of all possible actions the agent can take in each state.   \n",
    "  - [-1, # short\\\n",
    "      0, # uninvested\\\n",
    "      1  # long]   \n",
    "- Reward Function: A function that assigns a numerical reward to each state-action pair, indicating the immediate consequence of taking a particular action in a specific state.\n",
    "  - dailypnl\n",
    "- Transition Function: A function that determines the probability of transitioning from one state to another when a particular action is taken.\n",
    "  - deterministic based on historical performance\n",
    "#### Agent:\n",
    "\n",
    "- Q-Table: A matrix that stores the estimated Q-values for each state-action pair. Q-values represent the expected future reward for taking a specific action in a given state.   \n",
    "  - continuous Q table?\n",
    "- Learning Rate (α): A parameter that controls how much the Q-values are updated with each new experience.   \n",
    "- Discount Factor (γ): A parameter that determines the importance of future rewards. A higher discount factor gives more weight to future rewards.   \n",
    "- Exploration Rate (ε): A parameter that controls the balance between exploration (trying new actions) and exploitation (choosing the action with the highest Q-value).   \n",
    "- Q-Learning Algorithm:\n",
    "\n",
    "  - Initialization: Initialize the Q-table with random values or zeros.   \n",
    "  - Exploration and Exploitation: Use an exploration strategy (e.g., ε-greedy) to choose an action:\n",
    "    - With probability ε, choose a random action.   \n",
    "    - With probability 1-ε, choose the action with the highest Q-value for the current state.   \n",
    "  \n",
    "  - Take Action: Execute the chosen action in the environment.   \n",
    "  - Observe Reward and Next State: Observe the immediate reward and the next state resulting from the action.\n",
    "- Update Q-Value: Update the Q-value of the current state-action pair using the following formula:\n",
    "\n",
    "#### Training and Test set\n",
    "\n",
    "2013 is used for warm start\\\n",
    "2014 - 2023 train data since NN need a lot of training data {end 2023 idx == 2868}\\\n",
    "2024 onwards (5 months) test data\n"
   ]
  },
  {
   "cell_type": "code",
   "execution_count": 5,
   "metadata": {},
   "outputs": [
    {
     "name": "stderr",
     "output_type": "stream",
     "text": [
      "/var/folders/h2/r7qn2m9n1zb6y_0q191gdqth0000gn/T/ipykernel_4680/2263820838.py:4: FutureWarning: The argument 'date_parser' is deprecated and will be removed in a future version. Please use 'date_format' instead, or read your data in as 'object' dtype and then call 'to_datetime'.\n",
      "  valid = pd.read_csv('validPairs5.csv',\n"
     ]
    }
   ],
   "source": [
    "## Get pair stock data\n",
    "def custom_date_parser(date_str):\n",
    "    return datetime.strptime(date_str, '%d/%m/%Y')\n",
    "valid = pd.read_csv('validPairs5.csv', \n",
    "                    index_col=0, \n",
    "                    parse_dates=True, \n",
    "                    date_parser=custom_date_parser)\n",
    "## get list of pair stocks\n",
    "validPairsList = [\n",
    "    [item.strip() + ' Equity' for item in pair.split('Equity') if item.strip()]\n",
    "    for pair in top_keys\n",
    "]"
   ]
  },
  {
   "cell_type": "code",
   "execution_count": 6,
   "metadata": {},
   "outputs": [],
   "source": [
    "rollingWindow = 262\n",
    "cutLossSd = 2"
   ]
  },
  {
   "cell_type": "code",
   "execution_count": 7,
   "metadata": {},
   "outputs": [],
   "source": [
    "for pair in validPairsList:\n",
    "    df = pd.DataFrame()\n",
    "\n",
    "    #Calculate Standard Deviations\n",
    "    df['spread'] = valid[f'spread_{pair[0]}_{pair[1]}']\n",
    "    df['mid'] =  df['spread'].rolling(rollingWindow).mean()\n",
    "    df['1sd high'] = df['spread'].rolling(rollingWindow).mean() + df['spread'].rolling(rollingWindow).std()\n",
    "    df['1sd low'] = df['spread'].rolling(rollingWindow).mean() - df['spread'].rolling(rollingWindow).std()\n",
    "    df['2sd high'] = df['spread'].rolling(rollingWindow).mean() + df['spread'].rolling(rollingWindow).std() * cutLossSd\n",
    "    df['2sd low'] = df['spread'].rolling(rollingWindow).mean() - df['spread'].rolling(rollingWindow).std() * cutLossSd\n",
    "    df['position'] = 0\n",
    "\n",
    "    df.loc[(df['spread'] > df['1sd high']) & (df['spread'] < df['2sd high']), 'position'] = -1\n",
    "    df.loc[(df['spread']< df['1sd low']) & (df['spread'] > df['2sd low']), 'position'] = 1\n",
    "\n",
    "    #Calculate PnL\n",
    "    df[f'{pair[0]} position'] = df['position']\n",
    "    df[f'{pair[1]} position'] = df['position'] * -1\n",
    "    df['dailypnl'] = df[f'{pair[1]} position']*return_df[f'{pair[1]}'].shift(-1) + df[f'{pair[0]} position']*return_df[f'{pair[0]}'].shift(-1)\n",
    "    df['cumpnl'] = df['dailypnl'].cumsum()\n",
    "\n",
    "    pairsOutcome[f'{pair[0]} {pair[1]}'] = df"
   ]
  },
  {
   "cell_type": "markdown",
   "metadata": {},
   "source": [
    "## Make indicators and spread stationary around 0\n",
    "Deduct the mean from all values to translate to 0 axis"
   ]
  },
  {
   "cell_type": "code",
   "execution_count": 8,
   "metadata": {},
   "outputs": [],
   "source": [
    "workingPairOutcome = {}\n",
    "\n",
    "for pair in top_keys:\n",
    "    dummy_df = pairsOutcome[top_keys[0]].iloc[::,:6]\n",
    "    dummy_df = dummy_df.subtract(dummy_df['mid'], axis=0).drop(columns=['mid']) # centre spread and SD\n",
    "    dummy_df = dummy_df.div(dummy_df['2sd high']-dummy_df['1sd high'],axis=0)   # express SD as integers, give spread as propotionate\n",
    "    dummy_df['2sd_high_boolean'] = (dummy_df['spread']>dummy_df['2sd high']).astype(int)\n",
    "    dummy_df['1sd_high_boolean'] = (dummy_df['spread']>dummy_df['1sd high']).astype(int)\n",
    "    dummy_df['0sd_high_boolean'] = (dummy_df['spread']>0).astype(int)\n",
    "    dummy_df['0sd_low_boolean']  = (dummy_df['spread']<0).astype(int)\n",
    "    dummy_df['1sd_low_boolean']  = (dummy_df['spread']<dummy_df['1sd low'] ).astype(int)\n",
    "    dummy_df['2sd_low_boolean']  = (dummy_df['spread']<dummy_df['2sd low'] ).astype(int)\n",
    "    dummy_df = dummy_df.drop(columns=['spread','1sd high', '1sd low', '2sd high', '2sd low'])\n",
    "    workingPairOutcome[pair] = dummy_df.to_numpy()"
   ]
  },
  {
   "cell_type": "code",
   "execution_count": 9,
   "metadata": {},
   "outputs": [
    {
     "data": {
      "text/plain": [
       "array([[0, 1, 1, 0, 0, 0],\n",
       "       [0, 1, 1, 0, 0, 0],\n",
       "       [0, 1, 1, 0, 0, 0],\n",
       "       [0, 1, 1, 0, 0, 0],\n",
       "       [0, 1, 1, 0, 0, 0]])"
      ]
     },
     "execution_count": 9,
     "metadata": {},
     "output_type": "execute_result"
    }
   ],
   "source": [
    "workingPairOutcome[top_keys[5]][-5:]  "
   ]
  },
  {
   "cell_type": "code",
   "execution_count": 10,
   "metadata": {},
   "outputs": [],
   "source": [
    "# workingPairOutcome = {top_keys[0]:workingPairOutcome[top_keys[0]]}"
   ]
  },
  {
   "cell_type": "markdown",
   "metadata": {},
   "source": [
    "- Test one timestep at a time (even though we can test all at the same time)\n",
    "- give state\n",
    "- Trading should be path dependent due to stop loss. in this case I can only give last position as one of the parameters"
   ]
  },
  {
   "cell_type": "code",
   "execution_count": 11,
   "metadata": {},
   "outputs": [],
   "source": [
    "import gym\n",
    "import random\n",
    "\n",
    "class PairTradeEnv(gym.Env):\n",
    "    # ... (define your environment's state space, action space, etc.)\n",
    "    def __init__(self, workingPairOutcome, top_keys, validPairsList, return_df):\n",
    "        # ... (initialize other parameters)\n",
    "        self.earliest_step = 261  # hot start\n",
    "        self.last_step = 2868\n",
    "        # self.current_step = random.randint(self.earliest_step, self.last_step - 1)\n",
    "        self.current_step = self.earliest_step\n",
    "\n",
    "\n",
    "    def step(self, action, pair_idx):\n",
    "        \"\"\"\n",
    "        Input\n",
    "            action: single value e.g. -1 (short)\n",
    "            pair_idx: index of pair trade\n",
    "        Output:\n",
    "            next_state: next state \n",
    "            reward: reward for last timestep\n",
    "            done: boolean for if end of dataset\n",
    "            info: optional\n",
    "        \"\"\"\n",
    "        # Advance the time step\n",
    "        self.current_step += 1\n",
    "        # Get the next state\n",
    "        next_state = workingPairOutcome[top_keys[pair_idx]][self.current_step]\n",
    "        # Calculate reward (implement your reward function here)\n",
    "        reward = self.calculate_reward(action, self.current_step, validPairsList[pair_idx])\n",
    "        # Check for termination (implement your termination condition here)\n",
    "        done = self.current_step >= self.last_step\n",
    "\n",
    "        # Provide additional information (optional)\n",
    "        info = {}\n",
    "\n",
    "        return next_state, reward, done, info\n",
    "\n",
    "    def reset(self, pair_idx):\n",
    "        # ... (implement the reset function to initialize the environment)\n",
    "        # reset to start of 2014 every time\n",
    "        # self.current_step = random.randint(self.earliest_step, self.last_step - 1)\n",
    "        self.current_step = self.earliest_step\n",
    "        initial_state = workingPairOutcome[top_keys[pair_idx]][self.current_step]\n",
    "        return initial_state\n",
    "    \n",
    "    def calculate_reward(self, position, idx, pair):\n",
    "        \"\"\"\n",
    "        Give one _previous_ day's return\n",
    "        Input:\n",
    "            position: position for idx (current step)\n",
    "            idx: usually current timestp \n",
    "            pair: tuple of tpx stock\n",
    "        Output:\n",
    "            dailypnl\n",
    "        \"\"\"\n",
    "        # position = position_vector @ np.array([-1,0,1])\n",
    "        position_0 = position\n",
    "        position_1 = position * -1\n",
    "        ## return_df gives the return for the previous day for the given idx\n",
    "        dailypnl = position_0*return_df[f'{pair[0]}'].iloc[idx] + position_1*return_df[f'{pair[1]}'].iloc[idx] \n",
    "\n",
    "        return dailypnl\n",
    "\n",
    "# Instantiate the custom environment\n",
    "env = PairTradeEnv(workingPairOutcome, top_keys, validPairsList, return_df)"
   ]
  },
  {
   "cell_type": "code",
   "execution_count": 12,
   "metadata": {},
   "outputs": [
    {
     "name": "stdout",
     "output_type": "stream",
     "text": [
      "fc3.weight grad: tensor([[-0.0003, -0.0029, -0.0016, -0.0005],\n",
      "        [-0.0109, -0.1228, -0.0604, -0.0500],\n",
      "        [-0.0075, -0.0820, -0.0405, -0.0319]])\n",
      "fc3.bias grad: tensor([-0.0060, -0.3274, -0.2122])\n",
      "fc3.weight grad: tensor([[ 2.1868e-02, -2.7718e-04, -3.9183e-04,  3.0756e-02],\n",
      "        [-8.4281e-03,  1.2088e-04,  1.8623e-04, -1.3851e-02],\n",
      "        [ 8.0560e-04, -3.7201e-05, -2.8533e-05, -8.2080e-04]])\n",
      "fc3.bias grad: tensor([ 0.0109, -0.0050, -0.0018])\n",
      "fc3.weight grad: tensor([[-5.0747e-02,  4.6398e-04,  2.8897e-04, -6.9859e-02],\n",
      "        [-3.0744e-03, -2.9608e-05, -7.9709e-05,  8.9768e-04],\n",
      "        [ 3.3739e-02, -4.8194e-04, -4.1918e-04,  5.6229e-02]])\n",
      "fc3.bias grad: tensor([-0.0241,  0.0004,  0.0188])\n",
      "fc3.weight grad: tensor([[ 86310.6094,  -1110.3064,  -1013.3790,  76437.2578],\n",
      "        [-91531.3438,   1174.1832,   1072.6567, -80980.5781],\n",
      "        [ 54823.7148,   -705.6357,   -643.7938,  48553.1914]])\n",
      "fc3.bias grad: tensor([ 86.4180, -98.5095,  54.7029])\n",
      "fc3.weight grad: tensor([[ 1.0894e+00, -1.8010e-01, -1.1106e-01,  8.0586e-01],\n",
      "        [ 4.1700e-01, -1.1257e-03, -3.4338e-04,  5.4990e-01],\n",
      "        [ 4.9995e-01, -6.8625e-02, -4.0861e-02,  2.0767e-01]])\n",
      "fc3.bias grad: tensor([0.1450, 0.0167, 0.0580])\n",
      "fc3.weight grad: tensor([[ 0.0206, -0.0317, -0.0179, -0.0030],\n",
      "        [ 0.1801,  0.0080,  0.0053,  0.0076],\n",
      "        [ 0.1771, -0.0165, -0.0091,  0.0046]])\n",
      "fc3.bias grad: tensor([0.0244, 0.0056, 0.0237])\n",
      "fc3.weight grad: tensor([[-0.0170, -0.0345, -0.0181, -0.0063],\n",
      "        [ 0.0434, -0.0409, -0.0227, -0.0016],\n",
      "        [ 0.0169, -0.0481, -0.0261, -0.0040]])\n",
      "fc3.bias grad: tensor([0.0260, 0.0403, 0.0443])\n",
      "fc3.weight grad: tensor([[ 0.0054, -0.0223, -0.0078, -0.0043],\n",
      "        [ 0.0240, -0.0229, -0.0095, -0.0012],\n",
      "        [ 0.0114, -0.0281, -0.0108, -0.0033]])\n",
      "fc3.bias grad: tensor([0.0252, 0.0291, 0.0341])\n",
      "fc3.weight grad: tensor([[-1.6120e-04, -7.3589e-03, -1.2593e-03, -8.9819e-04],\n",
      "        [-7.6120e-05, -5.6317e-03, -1.2145e-03, -4.8268e-04],\n",
      "        [-2.8586e-04, -4.6951e-03, -8.7094e-05, -1.6272e-03]])\n",
      "fc3.bias grad: tensor([0.0119, 0.0093, 0.0072])\n",
      "fc3.weight grad: tensor([[ 1.7458e-04,  1.0415e-03, -3.5708e-04,  1.0888e-03],\n",
      "        [ 7.0959e-05,  7.0983e-05, -2.5371e-04,  4.1025e-04],\n",
      "        [-2.4780e-04, -2.7687e-03,  4.5183e-04, -1.3958e-03]])\n",
      "fc3.bias grad: tensor([-1.6942e-03, -1.2437e-05,  4.5438e-03])\n",
      "fc3.weight grad: tensor([[-4.0580e-05, -1.8155e-03, -1.4280e-04, -1.7165e-04],\n",
      "        [ 8.7687e-05,  7.0827e-04, -1.6130e-04,  5.0213e-04],\n",
      "        [-3.3334e-04, -4.2665e-03,  3.9055e-04, -1.8737e-03]])\n",
      "fc3.bias grad: tensor([ 0.0032, -0.0011,  0.0072])\n",
      "fc3.weight grad: tensor([[ 1.7463e-04,  1.5325e-03, -3.3925e-04,  9.8403e-04],\n",
      "        [-8.2729e-06, -1.6265e-03, -3.1493e-04, -5.9022e-05],\n",
      "        [-1.3102e-04, -8.4192e-04,  5.0669e-04, -6.7410e-04]])\n",
      "fc3.bias grad: tensor([-0.0026,  0.0030,  0.0016])\n",
      "fc3.weight grad: tensor([[ 1.2980e-04, -5.5561e-04, -6.8984e-04,  6.9155e-04],\n",
      "        [-2.0661e-05, -6.4632e-04, -4.0287e-05, -1.1053e-04],\n",
      "        [-2.0546e-04, -1.1513e-03,  6.0815e-04, -1.0932e-03]])\n",
      "fc3.bias grad: tensor([0.0008, 0.0014, 0.0027])\n",
      "fc3.weight grad: tensor([[ 2.0009e-04, -1.3487e-03, -1.0409e-03,  1.0644e-03],\n",
      "        [ 1.1731e-05, -2.5548e-04, -5.9813e-05,  7.2747e-05],\n",
      "        [-1.2673e-04, -5.1404e-04,  3.3860e-04, -6.6577e-04]])\n",
      "fc3.bias grad: tensor([0.0025, 0.0006, 0.0013])\n",
      "fc3.weight grad: tensor([[ 1.1222e-04,  5.7497e-04, -7.5730e-05,  5.9840e-04],\n",
      "        [ 4.1924e-05, -1.9709e-04, -1.0217e-04,  2.3359e-04],\n",
      "        [-1.8395e-04, -2.3153e-03, -3.3849e-04, -1.0275e-03]])\n",
      "fc3.bias grad: tensor([-0.0012,  0.0005,  0.0049])\n",
      "fc3.weight grad: tensor([[ 2.2242e-04,  4.4406e-03,  9.0623e-04,  1.1460e-03],\n",
      "        [ 5.3027e-05, -2.8805e-05, -2.2982e-05,  2.9826e-04],\n",
      "        [-3.9559e-05, -1.9733e-04, -9.4780e-05, -2.4109e-04]])\n",
      "fc3.bias grad: tensor([-1.0138e-02,  9.0147e-05,  4.8218e-04])\n",
      "fc3.weight grad: tensor([[ 6.9117e-05,  1.4121e-03,  4.6841e-04,  3.6552e-04],\n",
      "        [ 5.1159e-05, -2.6716e-05,  5.1660e-05,  2.9769e-04],\n",
      "        [-2.4627e-04, -4.3261e-03, -1.4273e-03, -1.3174e-03]])\n",
      "fc3.bias grad: tensor([-3.2229e-03,  1.7299e-06,  9.8911e-03])\n",
      "fc3.weight grad: tensor([[ 5.8985e-05,  1.7200e-03,  8.8766e-04,  3.4738e-04],\n",
      "        [ 2.8841e-05, -4.7995e-05,  6.3125e-05,  1.6840e-04],\n",
      "        [-4.7577e-05, -8.9137e-04, -4.9214e-04, -2.7508e-04]])\n",
      "fc3.bias grad: tensor([-4.2179e-03,  7.4527e-05,  2.1940e-03])\n",
      "Episode 1: Total Return: -0.008, Epsilon: 0.14\n"
     ]
    },
    {
     "data": {
      "image/png": "[encoded data removed]",
      "text/plain": [
       "<Figure size 640x480 with 1 Axes>"
      ]
     },
     "metadata": {},
     "output_type": "display_data"
    }
   ],
   "source": [
    "import torch\n",
    "import torch.nn as nn\n",
    "import torch.optim as optim\n",
    "import numpy as np\n",
    "import random\n",
    "from collections import deque\n",
    "from collections import Counter\n",
    "\n",
    "\n",
    "class QNetwork(nn.Module):\n",
    "    def __init__(self, input_size, output_size, dropout_rate=0.2):\n",
    "        super(QNetwork, self).__init__()\n",
    "        self.fc1 = nn.Linear(input_size, 4)\n",
    "        # self.dropout1 = nn.Dropout(p=dropout_rate) \n",
    "        self.fc2 = nn.Linear(4, 4)\n",
    "        # self.dropout2 = nn.Dropout(p=dropout_rate)\n",
    "        self.fc3 = nn.Linear(4, output_size)\n",
    "        self.leaky_relu = nn.LeakyReLU(negative_slope=0.01)\n",
    "\n",
    "    def forward(self, x):\n",
    "        x = self.leaky_relu(self.fc1(x))\n",
    "        # x = self.dropout1(x)\n",
    "        x = self.leaky_relu(self.fc2(x))\n",
    "        # x = self.dropout2(x)\n",
    "        x = self.fc3(x)\n",
    "        return x\n",
    "\n",
    "class QLearningAgent:\n",
    "    def __init__(self, input_size, output_size, learning_rate, discount_factor, epsilon, batch_size=9000, replay_buffer_size=10000):\n",
    "        self.q_network = QNetwork(input_size, output_size)\n",
    "        self.target_network = QNetwork(input_size, output_size)\n",
    "        self.target_network.load_state_dict(self.q_network.state_dict())\n",
    "        self.optimizer = optim.Adam(self.q_network.parameters(), lr=learning_rate) \n",
    "        self.loss_fn = nn.MSELoss()\n",
    "        self.discount_factor = discount_factor\n",
    "        self.epsilon = epsilon\n",
    "        self.learn_count = 0\n",
    "        self.batch_size = batch_size\n",
    "        self.replay_buffer = deque(maxlen=replay_buffer_size)\n",
    "        \n",
    "        # Action to index mapping\n",
    "        self.action_to_index = {-1: 0, 0: 1, 1: 2}\n",
    "        self.index_to_action = {0: -1, 1: 0, 2: 1}\n",
    "\n",
    "    def choose_action(self, state):\n",
    "        if np.random.rand() < self.epsilon:\n",
    "            action = np.random.choice([-1, 0, 1])  # Explore\n",
    "        else:\n",
    "            with torch.no_grad():\n",
    "                q_values = self.q_network(torch.tensor(state, dtype=torch.float32).unsqueeze(0))\n",
    "                action_index = torch.argmax(q_values, dim=1).item()  # Choose best action\n",
    "            action = self.index_to_action[action_index]  # Map index to action\n",
    "        return action\n",
    "\n",
    "    def store_experience(self, state, action, reward, next_state, done):\n",
    "        self.replay_buffer.append((state, action, reward, next_state, done))\n",
    "\n",
    "    def learn(self):\n",
    "        if len(self.replay_buffer) < self.batch_size:\n",
    "            return\n",
    "\n",
    "        batch = random.sample(self.replay_buffer, self.batch_size)\n",
    "\n",
    "        states, actions, rewards, next_states, dones = zip(*batch)\n",
    "        states = torch.tensor(np.array(states), dtype=torch.float32)\n",
    "        next_states = torch.tensor(np.array(next_states), dtype=torch.float32)\n",
    "        actions = torch.tensor([self.action_to_index[action] for action in actions], dtype=torch.long).view(-1, 1)\n",
    "        rewards = torch.tensor(rewards, dtype=torch.float32).view(-1, 1)\n",
    "        dones = torch.tensor(dones, dtype=torch.float32)\n",
    "\n",
    "        # Get max Q-value for the next states from target network\n",
    "        q_values = self.q_network(states).gather(1, actions)\n",
    "        next_q_values = self.target_network(next_states).max(1, keepdim=True)[0].detach().view(-1, 1)\n",
    "        target_q_values = rewards + self.discount_factor * next_q_values * (1 - dones).view(-1,1)\n",
    "\n",
    "        loss = self.loss_fn(q_values, target_q_values)\n",
    "        self.optimizer.zero_grad()\n",
    "        loss.backward()\n",
    "        if self.learn_count%1000==0:\n",
    "            for name, param in agent.q_network.named_parameters():\n",
    "                if 'fc3' in name and param.requires_grad:\n",
    "                    print(f\"{name} grad: {param.grad}\")\n",
    "        self.optimizer.step()\n",
    "\n",
    "        self.learn_count += 1\n",
    "        # Update target network every few episodes\n",
    "        if self.learn_count % 1 == 0:\n",
    "            self.update_target_network()\n",
    "        if self.learn_count % 100 == 0:\n",
    "            self.epsilon = max(0.1, self.epsilon * 0.9885)\n",
    "        \n",
    "    def update_target_network(self):\n",
    "        self.target_network.load_state_dict(self.q_network.state_dict())\n",
    "\n",
    "input_size = 6\n",
    "output_size = 3 \n",
    "learning_rate = 0.1\n",
    "discount_factor = 0.99\n",
    "epsilon = 1.0\n",
    "\n",
    "agent = QLearningAgent(input_size, output_size, learning_rate, discount_factor, epsilon)\n",
    "\n",
    "## Training constants\n",
    "total_episodes = 1\n",
    "number_of_pairs = len(workingPairOutcome)\n",
    "ls_total_reward = []\n",
    "\n",
    "# Simulating agent learning (in practice, use a loop with environment interaction)\n",
    "for episode in range(total_episodes):\n",
    "    arr_pair_reward = np.zeros(number_of_pairs)\n",
    "\n",
    "    for pair_idx in range(number_of_pairs):\n",
    "        state = env.reset(pair_idx)\n",
    "        pair_reward = 0\n",
    "        done = False\n",
    "        \n",
    "        while not done:\n",
    "            action = agent.choose_action(state)\n",
    "            next_state, reward, done, _ = env.step(action, pair_idx)\n",
    "            pair_reward += reward\n",
    "            if reward > 0:\n",
    "                reward += 1\n",
    "            elif reward<0:\n",
    "                reward += -1\n",
    "\n",
    "            agent.store_experience(state, action, reward, next_state, done)\n",
    "            agent.learn()\n",
    "            \n",
    "            state = next_state\n",
    "\n",
    "        arr_pair_reward[pair_idx] = pair_reward\n",
    "    \n",
    "    total_reward = arr_pair_reward.mean()\n",
    "    print(f\"Episode {episode+1}: Total Return: {total_reward:.3f}, Epsilon: {agent.epsilon:.2f}\")\n",
    "    # Capture total_reward for further analysis\n",
    "    ls_total_reward.append(total_reward)\n",
    "\n",
    "# evaluate random and final trained performance\n",
    "plt.plot(ls_total_reward)\n",
    "\n",
    "# After training, save the entire Q-network\n",
    "torch.save(agent.q_network, 'q_network.pth')"
   ]
  },
  {
   "cell_type": "markdown",
   "metadata": {},
   "source": [
    "### 11 Dec\n",
    "- add back spread as one continuous variable for DQN\n",
    "    - initial results is biased and resorts to shorting\n",
    "- since its biased, try removing the dropout to get more fitting ==> still biased\n",
    "- try reducing the epsilon to get more training\n",
    "- Underfitting\n",
    "  - remove dropout layers\n",
    "  - increase learning rate\n",
    "  - increase update to once every 2 learning\n",
    "  - increase batch size to 8000\n",
    "- reached 28 mins and ran out of memory\n",
    "- run no. 2 gradient vanished. try again. == make sure to quit other apps ==\n",
    "  - ***v20241211_1***\n",
    "  - removed dropout layers\n",
    "  - learning rate 0.9\n",
    "  - update target every 2 learns\n",
    "  - batch size 8000\n",
    "  - 2 hidden layers 4x4 nn\n",
    "  - changed relu to leaky relu ==> mean reverting!!!! but overfit.  (6mins~)\n",
    "- try reducing neural net. v20241211_1 but changed learning rate to 0.1. less overfitting but negative performance\n"
   ]
  },
  {
   "cell_type": "code",
   "execution_count": 13,
   "metadata": {},
   "outputs": [],
   "source": [
    "# loaded_q_network = torch.load('q_network_replay1batch_32x4.pth')\n",
    "\n",
    "# loaded_q_network = QNetwork(6,3)  # Replace QNetwork with your model class\n",
    "# loaded_q_network.eval()"
   ]
  },
  {
   "cell_type": "code",
   "execution_count": 14,
   "metadata": {},
   "outputs": [
    {
     "name": "stdout",
     "output_type": "stream",
     "text": [
      "Evaluation: Average Total Train Return: -0.05740\n"
     ]
    }
   ],
   "source": [
    "def evaluate_agent_train(agent, env, number_of_pairs):\n",
    "    \"\"\"\n",
    "    Evaluates the agent's performance over one episode without epsilon exploration.\n",
    "    \"\"\"\n",
    "    total_rewards = np.zeros(number_of_pairs)\n",
    "\n",
    "    for pair_idx in range(number_of_pairs):\n",
    "        state = env.reset(pair_idx)\n",
    "        pair_reward = 0\n",
    "        done = False\n",
    "\n",
    "        while not done:\n",
    "            with torch.no_grad():\n",
    "                # Select action based purely on Q-network (greedy action)\n",
    "                q_values = agent.q_network(torch.tensor(state, dtype=torch.float32).unsqueeze(0))\n",
    "                action_index = torch.argmax(q_values, dim=1).item()\n",
    "                action = agent.index_to_action[action_index]\n",
    "            \n",
    "            # Take the selected action\n",
    "            next_state, reward, done, _ = env.step(action, pair_idx)\n",
    "            pair_reward += reward\n",
    "            state = next_state\n",
    "\n",
    "        total_rewards[pair_idx] = pair_reward\n",
    "\n",
    "    # Return the average reward across all pairs\n",
    "    return total_rewards.mean()\n",
    "\n",
    "agent.q_network.eval()\n",
    "agent.target_network.eval()\n",
    "# Example usage\n",
    "average_return = evaluate_agent_train(agent, env, number_of_pairs)\n",
    "print(f\"Evaluation: Average Total Train Return: {average_return:.5f}\")"
   ]
  },
  {
   "cell_type": "code",
   "execution_count": 15,
   "metadata": {},
   "outputs": [
    {
     "name": "stdout",
     "output_type": "stream",
     "text": [
      "Q-values: tensor([[0.1110, 0.1266, 0.0895],\n",
      "        [0.1630, 0.1995, 0.1798],\n",
      "        [0.3165, 0.3331, 0.3289],\n",
      "        [0.1003, 0.1138, 0.0954],\n",
      "        [0.1174, 0.1249, 0.1291],\n",
      "        [0.1249, 0.1368, 0.1452]])\n",
      "Greedy actions: [0, 0, 0, 0, 1, 1]\n"
     ]
    }
   ],
   "source": [
    "# Assuming states is a list of 6 states, each a list or NumPy array\n",
    "states = [[0, 0, 0, 1, 0, 0],\n",
    "        [0, 0, 0, 1, 1, 0],\n",
    "        [0, 0, 0, 1, 1, 1],\n",
    "        [0, 0, 1, 0, 0, 0],\n",
    "        [0, 1, 1, 0, 0, 0],\n",
    "        [1, 1, 1, 0, 0, 0]]\n",
    "\n",
    "# Convert to PyTorch tensor (ensure float32 for compatibility)\n",
    "states_tensor = torch.tensor(states, dtype=torch.float32)\n",
    "\n",
    "# Evaluate the Q-values for all states\n",
    "agent.q_network.eval()  # Set the network to evaluation mode\n",
    "with torch.no_grad():\n",
    "    q_values = agent.q_network(states_tensor)  # Output will be a tensor of shape (6, output_size)\n",
    "\n",
    "# Example: Get the greedy actions for each state\n",
    "action_indices = torch.argmax(q_values, dim=1).tolist()\n",
    "actions = [agent.index_to_action[index] for index in action_indices]\n",
    "\n",
    "print(\"Q-values:\", q_values)\n",
    "print(\"Greedy actions:\", actions)\n"
   ]
  },
  {
   "cell_type": "code",
   "execution_count": 16,
   "metadata": {},
   "outputs": [
    {
     "data": {
      "text/plain": [
       "{(0, 0, 0, 1, 0, 0): 0,\n",
       " (0, 0, 0, 1, 1, 0): 0,\n",
       " (0, 0, 0, 1, 1, 1): 0,\n",
       " (0, 0, 1, 0, 0, 0): 0,\n",
       " (0, 1, 1, 0, 0, 0): 1,\n",
       " (1, 1, 1, 0, 0, 0): 1,\n",
       " (0, 0, 0, 0, 0, 0): 0}"
      ]
     },
     "execution_count": 16,
     "metadata": {},
     "output_type": "execute_result"
    }
   ],
   "source": [
    "dict_policy_actions = dict(zip([tuple(state) for state in states], actions))\n",
    "dict_policy_actions[(0, 0, 0, 0, 0, 0)] = 0\n",
    "dict_policy_actions"
   ]
  },
  {
   "cell_type": "code",
   "execution_count": 17,
   "metadata": {},
   "outputs": [],
   "source": [
    "workingPairQresults = {}\n",
    "\n",
    "for pair_idx in range(number_of_pairs):\n",
    "    df = pd.DataFrame(workingPairOutcome[top_keys[pair_idx]], columns=dummy_df.columns)\n",
    "\n",
    "    # Assign policy values using the dictionary\n",
    "    df['position'] = df.apply(lambda row: dict_policy_actions.get(tuple(row), np.nan), axis=1)\n",
    "    df[df.isna().any(axis=1)]\n",
    "    pair = validPairsList[pair_idx]\n",
    "    #Calculate PnL\n",
    "    df[f'{pair[0]} position'] = df['position']\n",
    "    df[f'{pair[1]} position'] = df['position'] * -1\n",
    "    df['dailypnl'] = df[f'{pair[1]} position'].values*return_df[f'{pair[1]}'].shift(-1).values \\\n",
    "                    + df[f'{pair[0]} position'].values*return_df[f'{pair[0]}'].shift(-1).values\n",
    "    df['cumpnl'] = df['dailypnl'].cumsum()\n",
    "    workingPairQresults[top_keys[pair_idx]] = df"
   ]
  },
  {
   "cell_type": "code",
   "execution_count": 18,
   "metadata": {},
   "outputs": [
    {
     "name": "stdout",
     "output_type": "stream",
     "text": [
      "total return \t\t-0.10777\n",
      "total train return \t-0.05740\n",
      "total test return \t-0.05037\n"
     ]
    }
   ],
   "source": [
    "total_q_return = 0\n",
    "total_train_q_return = 0\n",
    "total_test_q_return = 0\n",
    "\n",
    "for pair in top_keys:\n",
    "    total_q_return += workingPairQresults[pair]['cumpnl'].iloc[-2]\n",
    "    total_train_q_return += workingPairQresults[pair]['cumpnl'].iloc[2868-2]\n",
    "\n",
    "\n",
    "print(f\"total return \\t\\t{total_q_return/len(top_keys):.5f}\")\n",
    "print(f\"total train return \\t{total_train_q_return/len(top_keys):.5f}\")\n",
    "print(f\"total test return \\t{(total_q_return - total_train_q_return)/len(top_keys):.5f}\")"
   ]
  }
 ],
 "metadata": {
  "kernelspec": {
   "display_name": "Python 3",
   "language": "python",
   "name": "python3"
  },
  "language_info": {
   "codemirror_mode": {
    "name": "ipython",
    "version": 3
   },
   "file_extension": ".py",
   "mimetype": "text/x-python",
   "name": "python",
   "nbconvert_exporter": "python",
   "pygments_lexer": "ipython3",
   "version": "3.12.0"
  }
 },
 "nbformat": 4,
 "nbformat_minor": 2
}
