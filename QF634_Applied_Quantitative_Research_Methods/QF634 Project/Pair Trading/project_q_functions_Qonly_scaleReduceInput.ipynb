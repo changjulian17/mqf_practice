{
 "cells": [
  {
   "cell_type": "code",
   "execution_count": 45,
   "metadata": {},
   "outputs": [],
   "source": [
    "## anaconda3 (Python 3.12.0) Kernel\n",
    "import numpy as np\n",
    "\n",
    "# pair trade packages\n",
    "import pandas as pd\n",
    "import numpy as np\n",
    "import matplotlib.pyplot as plt\n",
    "import pickle\n",
    "from datetime import datetime"
   ]
  },
  {
   "cell_type": "markdown",
   "metadata": {},
   "source": [
    "# Load Pairs Data\n"
   ]
  },
  {
   "cell_type": "code",
   "execution_count": 46,
   "metadata": {},
   "outputs": [
    {
     "name": "stdout",
     "output_type": "stream",
     "text": [
      "Dictionary loaded from pairsOutcome.pkl\n"
     ]
    },
    {
     "name": "stderr",
     "output_type": "stream",
     "text": [
      "/var/folders/h2/r7qn2m9n1zb6y_0q191gdqth0000gn/T/ipykernel_88454/3199335484.py:12: FutureWarning: The argument 'date_parser' is deprecated and will be removed in a future version. Please use 'date_format' instead, or read your data in as 'object' dtype and then call 'to_datetime'.\n",
      "  tpxData = pd.read_csv('TPX_prices.csv', index_col=0, parse_dates=True, date_parser=custom_date_parser)\n"
     ]
    }
   ],
   "source": [
    "def custom_date_parser(date_str):\n",
    "    return datetime.strptime(date_str, '%d/%m/%Y')\n",
    "\n",
    "# Load the dictionary from the pickle file\n",
    "with open('pairsOutcome.pkl', 'rb') as file:\n",
    "    pairsOutcome = pickle.load(file)\n",
    "\n",
    "print(\"Dictionary loaded from pairsOutcome.pkl\")\n",
    "\n",
    "\n",
    "# Load stock data and get return \n",
    "tpxData = pd.read_csv('TPX_prices.csv', index_col=0, parse_dates=True, date_parser=custom_date_parser)\n",
    "tpxData = tpxData.dropna(axis='columns')\n",
    "return_df = (tpxData / tpxData.shift(1)) - 1"
   ]
  },
  {
   "cell_type": "markdown",
   "metadata": {},
   "source": [
    "# Get Pair Trade Portfolio\n",
    "`pairsOutcome` already have TOPIX stocks with highest liquidity and are tested for stationarity over a 1 year window\n",
    "\n",
    "Choose top 10 known pair trades by returns in the total dataset"
   ]
  },
  {
   "cell_type": "code",
   "execution_count": 47,
   "metadata": {},
   "outputs": [
    {
     "name": "stdout",
     "output_type": "stream",
     "text": [
      "Top 10 performing trades:\n",
      "1. Key: 1801 JP Equity 2670 JP Equity, Value: 2.5797887367591246\n",
      "2. Key: 3778 JP Equity 6701 JP Equity, Value: 2.537242032391529\n",
      "3. Key: 2760 JP Equity 6254 JP Equity, Value: 2.3688208386917404\n",
      "4. Key: 5706 JP Equity 6954 JP Equity, Value: 2.2676474298290237\n",
      "5. Key: 7951 JP Equity 9684 JP Equity, Value: 2.0657325467200596\n",
      "6. Key: 1808 JP Equity 6481 JP Equity, Value: 1.9929348941248262\n",
      "7. Key: 3099 JP Equity 5831 JP Equity, Value: 1.939742664925484\n",
      "8. Key: 1808 JP Equity 6971 JP Equity, Value: 1.9132602773493155\n",
      "9. Key: 4021 JP Equity 9843 JP Equity, Value: 1.8675031161000868\n",
      "10. Key: 5929 JP Equity 6504 JP Equity, Value: 1.811533049967201\n"
     ]
    }
   ],
   "source": [
    "# Sort the keys by their cumpnl[-2] values in descending order\n",
    "top_keys = sorted(\n",
    "    pairsOutcome,\n",
    "    key=lambda k: pairsOutcome[k].cumpnl.iloc[-2],  # Access cumpnl[-2] safely\n",
    "    reverse=True\n",
    ")[:10]  # Get the top 10 keys\n",
    "\n",
    "# Print the top 10 performing trades\n",
    "print(\"Top 10 performing trades:\")\n",
    "for i, key in enumerate(top_keys, 1):\n",
    "    print(f\"{i}. Key: {key}, Value: {pairsOutcome[key].cumpnl.iloc[-2]}\")"
   ]
  },
  {
   "cell_type": "code",
   "execution_count": 48,
   "metadata": {},
   "outputs": [
    {
     "name": "stderr",
     "output_type": "stream",
     "text": [
      "/var/folders/h2/r7qn2m9n1zb6y_0q191gdqth0000gn/T/ipykernel_88454/199844939.py:4: FutureWarning: The argument 'date_parser' is deprecated and will be removed in a future version. Please use 'date_format' instead, or read your data in as 'object' dtype and then call 'to_datetime'.\n",
      "  valid = pd.read_csv('validPairs4.csv',\n"
     ]
    }
   ],
   "source": [
    "## Get pair stock data\n",
    "def custom_date_parser(date_str):\n",
    "    return datetime.strptime(date_str, '%d/%m/%Y')\n",
    "valid = pd.read_csv('validPairs4.csv', \n",
    "                    index_col=0, \n",
    "                    parse_dates=True, \n",
    "                    date_parser=custom_date_parser)\n",
    "## get list of pair stocks\n",
    "validPairsList = [\n",
    "    [item.strip() + ' Equity' for item in pair.split('Equity') if item.strip()]\n",
    "    for pair in top_keys\n",
    "]"
   ]
  },
  {
   "cell_type": "code",
   "execution_count": 49,
   "metadata": {},
   "outputs": [],
   "source": [
    "rollingWindow = 262\n",
    "cutLossSd = 2"
   ]
  },
  {
   "cell_type": "code",
   "execution_count": 50,
   "metadata": {},
   "outputs": [],
   "source": [
    "for pair in validPairsList:\n",
    "    df = pd.DataFrame()\n",
    "\n",
    "    #Calculate Standard Deviations\n",
    "    df['spread'] = valid[f'spread_{pair[0]}_{pair[1]}']\n",
    "    df['mid'] =  df['spread'].rolling(rollingWindow).mean()\n",
    "    df['1sd high'] = df['spread'].rolling(rollingWindow).mean() + df['spread'].rolling(rollingWindow).std()\n",
    "    df['1sd low'] = df['spread'].rolling(rollingWindow).mean() - df['spread'].rolling(rollingWindow).std()\n",
    "    df['2sd high'] = df['spread'].rolling(rollingWindow).mean() + df['spread'].rolling(rollingWindow).std() * cutLossSd\n",
    "    df['2sd low'] = df['spread'].rolling(rollingWindow).mean() - df['spread'].rolling(rollingWindow).std() * cutLossSd\n",
    "    df['position'] = 0\n",
    "\n",
    "    df.loc[(df['spread'] > df['1sd high']) & (df['spread'] < df['2sd high']), 'position'] = -1\n",
    "    df.loc[(df['spread']< df['1sd low']) & (df['spread'] > df['2sd low']), 'position'] = 1\n",
    "\n",
    "    #Calculate PnL\n",
    "    df[f'{pair[0]} position'] = df['position']\n",
    "    df[f'{pair[1]} position'] = df['position'] * -1\n",
    "    df['dailypnl'] = df[f'{pair[1]} position']*return_df[f'{pair[1]}'].shift(-1) + df[f'{pair[0]} position']*return_df[f'{pair[0]}'].shift(-1)\n",
    "    df['cumpnl'] = df['dailypnl'].cumsum()\n",
    "\n",
    "    pairsOutcome[f'{pair[0]} {pair[1]}'] = df"
   ]
  },
  {
   "cell_type": "markdown",
   "metadata": {},
   "source": [
    "## Make indicators and spread stationary around 0\n",
    "Deduct the mean from all values to translate to 0 axis"
   ]
  },
  {
   "cell_type": "code",
   "execution_count": 51,
   "metadata": {},
   "outputs": [],
   "source": [
    "workingPairOutcome = {}\n",
    "\n",
    "for pair in top_keys:\n",
    "    dummy_df = pairsOutcome[top_keys[0]].iloc[::,:6]\n",
    "    dummy_df = dummy_df.subtract(dummy_df['mid'], axis=0).drop(columns=['mid']) # centre spread and SD\n",
    "    dummy_df = dummy_df.div(dummy_df['2sd high']-dummy_df['1sd high'],axis=0)   # express SD as integers, give spread as propotionate\n",
    "    dummy_df['1sd_high_boolean'] = (dummy_df['spread']>dummy_df['1sd high']).astype(int)\n",
    "    dummy_df['2sd_high_boolean'] = (dummy_df['spread']>dummy_df['2sd high']).astype(int)\n",
    "    dummy_df['1sd_low_boolean'] =  (dummy_df['spread']<dummy_df['1sd low'] ).astype(int)\n",
    "    dummy_df['2sd_low_boolean'] =  (dummy_df['spread']<dummy_df['2sd low'] ).astype(int)\n",
    "    dummy_df = dummy_df.drop(columns=['spread','1sd high', '1sd low', '2sd high', '2sd low'])\n",
    "    workingPairOutcome[pair] = dummy_df.to_numpy()"
   ]
  },
  {
   "cell_type": "code",
   "execution_count": 52,
   "metadata": {},
   "outputs": [
    {
     "data": {
      "text/plain": [
       "array([[0, 0, 0, 0],\n",
       "       [0, 0, 0, 0],\n",
       "       [1, 0, 0, 0],\n",
       "       [0, 0, 0, 0],\n",
       "       [0, 0, 0, 0]])"
      ]
     },
     "execution_count": 52,
     "metadata": {},
     "output_type": "execute_result"
    }
   ],
   "source": [
    "workingPairOutcome[top_keys[5]][-5:]     # spread is not a proportion and direction of SD"
   ]
  },
  {
   "cell_type": "markdown",
   "metadata": {},
   "source": [
    "# Machine Learning Challenge\n",
    "\n",
    "## Background\n",
    "Initial evaluation of the baseline portfolio shows that draw downs are small. Originally team had the idea of using Machine Learning to optimise for sizing of these pair trades. However since there was no significant drawdowns the returns are linearly increasing with investment sizing i.e. greater nominal investment in the the pair trade the proportionate increase in returns without realising significant drawdown risk.\n",
    "\n",
    "Instead of optimising for sizing, we can explore Machine Learning in terms of strategy on this stationary dataset. Whereas our prescribed strategy is to enter at +/- 1 std dev, exit at 0 with +/- 2 std dev stop loss. These are only suggestions and arbitrary levels.\n",
    "\n",
    "With Machine Learning, we can discover if it will uncover the mean reverting nature and recommend another threshhold. We use Q Learner to understand state space with the same spread, mid, std dev parameters as the baseline.\n",
    "\n",
    "### Q Value table"
   ]
  },
  {
   "cell_type": "code",
   "execution_count": 53,
   "metadata": {},
   "outputs": [
    {
     "data": {
      "text/plain": [
       "array([1, 0, 0, 0])"
      ]
     },
     "execution_count": 53,
     "metadata": {},
     "output_type": "execute_result"
    }
   ],
   "source": [
    "workingPairOutcome[top_keys[0]][261]"
   ]
  },
  {
   "cell_type": "code",
   "execution_count": 96,
   "metadata": {},
   "outputs": [],
   "source": [
    "class PairTradeEnv1:\n",
    "    def __init__(self):\n",
    "        # Initialize environment variables and parameters\n",
    "        self.num_actions = 3\n",
    "        self.num_states = 2**4\n",
    "        self.earliest_step = 261  # hot start\n",
    "        self.last_step = 2868\n",
    "\n",
    "        self.state = self.reset()\n",
    "        self.current_step = self.earliest_step\n",
    "\n",
    "    def reset(self):\n",
    "        # Reset the environment to its initial state\n",
    "        self.current_step = self.earliest_step\n",
    "        self.state = workingPairOutcome[top_keys[0]][self.current_step]\n",
    "        return self.state\n",
    "\n",
    "    def step(self, action):\n",
    "        # Advance the time step\n",
    "        self.current_step += 1\n",
    "        next_state = workingPairOutcome[top_keys[0]][self.current_step]\n",
    "        reward = self.calculate_reward(action)\n",
    "        done = self.current_step >= self.last_step\n",
    "        return next_state, reward, done\n",
    "    \n",
    "    def calculate_reward(self, position):\n",
    "        \"\"\"\n",
    "        Give one _previous_ day's return\n",
    "        Input:\n",
    "            position: position for idx (current step)\n",
    "            idx: usually current timestp \n",
    "            pair: tuple of tpx stock\n",
    "        Output:\n",
    "            dailypnl\n",
    "        \"\"\"\n",
    "        pair = validPairsList[0]\n",
    "        # position = position_vector @ np.array([-1,0,1])\n",
    "        position_0 = position\n",
    "        position_1 = position * -1\n",
    "        ## return_df gives the return for the previous day for the given idx\n",
    "        dailypnl = position_0*return_df[f'{pair[0]}'].iloc[self.current_step] + position_1*return_df[f'{pair[1]}'].iloc[self.current_step] \n",
    "\n",
    "        return dailypnl\n",
    "    \n",
    "class Agent:\n",
    "    def __init__(self, num_states, num_actions, alpha=0.1, gamma=0.9, epsilon=0.1):\n",
    "        self.num_actions = num_actions\n",
    "        self.num_states = num_states\n",
    "        self.alpha = alpha  # Learning rate\n",
    "        self.gamma = gamma  # Discount factor\n",
    "        self.epsilon = epsilon  # Exploration rate\n",
    "        # Action to index mapping\n",
    "        self.action_to_index = {-1: 0, 0: 1, 1: 2}\n",
    "        self.index_to_action = {0: -1, 1: 0, 2: 1}\n",
    "\n",
    "        # Initialize Q-table\n",
    "        self.Q = np.zeros((num_states, num_actions))\n",
    "\n",
    "    def b_to_d_state(self,binary_state):\n",
    "        \"\"\"\n",
    "        Converts a 4-bit binary state to a decimal index.\n",
    "\n",
    "        Args:\n",
    "            binary_state: A list of 4 binary values (e.g., [0, 1, 1, 0])\n",
    "\n",
    "        Returns:\n",
    "            The corresponding decimal index.\n",
    "        \"\"\"\n",
    "\n",
    "        decimal_index = 0\n",
    "        for i in range(4):\n",
    "            decimal_index += binary_state[i] * 2**(3-i)\n",
    "        return decimal_index\n",
    "\n",
    "    def choose_action(self, state):\n",
    "        if np.random.rand() < self.epsilon:\n",
    "            # Explore: Choose a random action\n",
    "            action_index = np.random.randint(self.num_actions)\n",
    "        else:\n",
    "            # Exploit: Choose the action with the highest Q-value for the current state\n",
    "            state_index = self.b_to_d_state(state)\n",
    "            action_index = np.argmax(self.Q[state_index])\n",
    "        \n",
    "        action = self.index_to_action[action_index]  # Map index to action\n",
    "\n",
    "        return action\n",
    "\n",
    "    def update_Q(self, state, action, reward, next_state):\n",
    "        # Update the Q-value for the current state-action pair\n",
    "        state_index = self.b_to_d_state(state)\n",
    "        next_state_index = self.b_to_d_state(next_state)\n",
    "        self.Q[state_index, action] += self.alpha * (reward + self.gamma * np.max(self.Q[next_state_index]) - self.Q[state_index, action])\n",
    "\n",
    "    def learn(self, num_episodes, env):\n",
    "        for episode in range(num_episodes):\n",
    "            state = env.reset()\n",
    "            done = False\n",
    "\n",
    "            while not done:\n",
    "                action = self.choose_action(state)\n",
    "                next_state, reward, done = env.step(action)\n",
    "                self.update_Q(state, action, reward, next_state)\n",
    "                state = next_state\n",
    "\n",
    "\n",
    "num_episodes = 100\n",
    "\n",
    "env = PairTradeEnv1()\n",
    "agent = Agent(num_states=env.num_states, num_actions=env.num_actions)\n",
    "agent.learn(num_episodes, env=env)"
   ]
  },
  {
   "cell_type": "code",
   "execution_count": 98,
   "metadata": {},
   "outputs": [
    {
     "data": {
      "text/plain": [
       "array([[0.05523666, 0.06109173, 0.05741216],\n",
       "       [0.        , 0.        , 0.        ],\n",
       "       [0.05784907, 0.06685922, 0.0602012 ],\n",
       "       [0.04994626, 0.05441258, 0.04338129],\n",
       "       [0.        , 0.        , 0.        ],\n",
       "       [0.        , 0.        , 0.        ],\n",
       "       [0.        , 0.        , 0.        ],\n",
       "       [0.        , 0.        , 0.        ],\n",
       "       [0.04958142, 0.04552188, 0.05409196],\n",
       "       [0.        , 0.        , 0.        ],\n",
       "       [0.        , 0.        , 0.        ],\n",
       "       [0.        , 0.        , 0.        ],\n",
       "       [0.04224489, 0.04607351, 0.04472461],\n",
       "       [0.        , 0.        , 0.        ],\n",
       "       [0.        , 0.        , 0.        ],\n",
       "       [0.        , 0.        , 0.        ]])"
      ]
     },
     "execution_count": 98,
     "metadata": {},
     "output_type": "execute_result"
    }
   ],
   "source": [
    "agent.Q"
   ]
  },
  {
   "cell_type": "code",
   "execution_count": null,
   "metadata": {},
   "outputs": [],
   "source": []
  },
  {
   "cell_type": "code",
   "execution_count": 99,
   "metadata": {},
   "outputs": [
    {
     "name": "stdout",
     "output_type": "stream",
     "text": [
      "      Action 1  Action 2  Action 3\n",
      "0000  0.055237  0.061092  0.057412\n",
      "0001  0.000000  0.000000  0.000000\n",
      "0010  0.057849  0.066859  0.060201\n",
      "0011  0.049946  0.054413  0.043381\n",
      "0100  0.000000  0.000000  0.000000\n",
      "0101  0.000000  0.000000  0.000000\n",
      "0110  0.000000  0.000000  0.000000\n",
      "0111  0.000000  0.000000  0.000000\n",
      "1000  0.049581  0.045522  0.054092\n",
      "1001  0.000000  0.000000  0.000000\n",
      "1010  0.000000  0.000000  0.000000\n",
      "1011  0.000000  0.000000  0.000000\n",
      "1100  0.042245  0.046074  0.044725\n",
      "1101  0.000000  0.000000  0.000000\n",
      "1110  0.000000  0.000000  0.000000\n",
      "1111  0.000000  0.000000  0.000000\n"
     ]
    }
   ],
   "source": [
    "\n",
    "import pandas as pd\n",
    "\n",
    "# Create a list of binary representations for the row indices\n",
    "binary_labels = [f\"{i:04b}\" for i in range(16)]\n",
    "\n",
    "# Create a DataFrame from the array with binary labels\n",
    "df = pd.DataFrame(agent.Q, index=binary_labels, columns=[\"Action 1\", \"Action 2\", \"Action 3\"])\n",
    "\n",
    "# Print the DataFrame\n",
    "print(df)"
   ]
  },
  {
   "cell_type": "code",
   "execution_count": null,
   "metadata": {},
   "outputs": [],
   "source": []
  }
 ],
 "metadata": {
  "kernelspec": {
   "display_name": "Python 3",
   "language": "python",
   "name": "python3"
  },
  "language_info": {
   "codemirror_mode": {
    "name": "ipython",
    "version": 3
   },
   "file_extension": ".py",
   "mimetype": "text/x-python",
   "name": "python",
   "nbconvert_exporter": "python",
   "pygments_lexer": "ipython3",
   "version": "3.12.0"
  }
 },
 "nbformat": 4,
 "nbformat_minor": 2
}
