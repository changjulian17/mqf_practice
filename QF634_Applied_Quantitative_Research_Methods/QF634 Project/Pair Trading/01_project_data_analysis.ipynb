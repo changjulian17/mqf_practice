{
 "cells": [
  {
   "cell_type": "code",
   "execution_count": 1,
   "metadata": {},
   "outputs": [],
   "source": [
    "## anaconda3 (Python 3.9.13) Kernel\n",
    "\n",
    "import torch\n",
    "import torch.nn as nn\n",
    "import torch.optim as optim\n",
    "import numpy as np\n",
    "\n",
    "# pair trade packages\n",
    "import pandas as pd\n",
    "import numpy as np\n",
    "import matplotlib.pyplot as plt\n",
    "import pickle\n",
    "from datetime import datetime"
   ]
  },
  {
   "cell_type": "markdown",
   "metadata": {},
   "source": [
    "# Load Pairs Data\n"
   ]
  },
  {
   "cell_type": "code",
   "execution_count": 2,
   "metadata": {},
   "outputs": [
    {
     "name": "stdout",
     "output_type": "stream",
     "text": [
      "Dictionary loaded from pairsOutcome.pkl\n"
     ]
    },
    {
     "name": "stderr",
     "output_type": "stream",
     "text": [
      "/var/folders/h2/r7qn2m9n1zb6y_0q191gdqth0000gn/T/ipykernel_40555/3735753696.py:12: FutureWarning: The argument 'date_parser' is deprecated and will be removed in a future version. Please use 'date_format' instead, or read your data in as 'object' dtype and then call 'to_datetime'.\n",
      "  tpxData = pd.read_csv('TPX_prices.csv', index_col=0, parse_dates=True, date_parser=custom_date_parser)\n"
     ]
    }
   ],
   "source": [
    "def custom_date_parser(date_str):\n",
    "    return datetime.strptime(date_str, '%d/%m/%Y')\n",
    "\n",
    "# Load the dictionary from the pickle file\n",
    "with open('pairsOutcome.pkl', 'rb') as file:\n",
    "    pairsOutcome = pickle.load(file);\n",
    "\n",
    "print(\"Dictionary loaded from pairsOutcome.pkl\")\n",
    "\n",
    "\n",
    "# Load stock data and get return \n",
    "tpxData = pd.read_csv('TPX_prices.csv', index_col=0, parse_dates=True, date_parser=custom_date_parser)\n",
    "tpxData = tpxData.dropna(axis='columns')\n",
    "return_df = (tpxData / tpxData.shift(1)) - 1"
   ]
  },
  {
   "cell_type": "code",
   "execution_count": 3,
   "metadata": {},
   "outputs": [
    {
     "data": {
      "text/plain": [
       "17"
      ]
     },
     "execution_count": 3,
     "metadata": {},
     "output_type": "execute_result"
    }
   ],
   "source": [
    "len(pairsOutcome)"
   ]
  },
  {
   "cell_type": "code",
   "execution_count": 4,
   "metadata": {},
   "outputs": [
    {
     "name": "stdout",
     "output_type": "stream",
     "text": [
      "10 clustered pair trades:\n",
      "1. Pair: 6503 JP Equity 7269 JP Equity, Value: 1.33\n",
      "2. Pair: 6326 JP Equity 6954 JP Equity, Value: 1.19\n",
      "3. Pair: 8053 JP Equity 8058 JP Equity, Value: 0.52\n",
      "4. Pair: 4901 JP Equity 9613 JP Equity, Value: 1.10\n",
      "5. Pair: 6988 JP Equity 7267 JP Equity, Value: 0.65\n",
      "6. Pair: 4901 JP Equity 6702 JP Equity, Value: -0.34\n",
      "7. Pair: 4684 JP Equity 7832 JP Equity, Value: 0.89\n",
      "8. Pair: 7267 JP Equity 8306 JP Equity, Value: 1.16\n",
      "9. Pair: 7267 JP Equity 8801 JP Equity, Value: 0.64\n",
      "10. Pair: 4519 JP Equity 7532 JP Equity, Value: 1.14\n"
     ]
    }
   ],
   "source": [
    "import csv\n",
    "\n",
    "with open(\"output_clustering.csv\", 'r') as csvfile:\n",
    "    reader = csv.reader(csvfile)\n",
    "    next(reader)\n",
    "    working_pairs = [tuple(row) for row in reader]\n",
    "\n",
    "\n",
    "top_keys = [f\"{pair[0]} {pair[1]}\" for pair in working_pairs]\n",
    "\n",
    "print(\"10 clustered pair trades:\")\n",
    "for i, key in enumerate(top_keys, 1):\n",
    "    print(f\"{i}. Pair: {key}, Value: {pairsOutcome[key].cumpnl.iloc[-2]:.2f}\")"
   ]
  },
  {
   "cell_type": "code",
   "execution_count": 5,
   "metadata": {},
   "outputs": [
    {
     "data": {
      "text/html": [
       "<div>\n",
       "<style scoped>\n",
       "    .dataframe tbody tr th:only-of-type {\n",
       "        vertical-align: middle;\n",
       "    }\n",
       "\n",
       "    .dataframe tbody tr th {\n",
       "        vertical-align: top;\n",
       "    }\n",
       "\n",
       "    .dataframe thead th {\n",
       "        text-align: right;\n",
       "    }\n",
       "</style>\n",
       "<table border=\"1\" class=\"dataframe\">\n",
       "  <thead>\n",
       "    <tr style=\"text-align: right;\">\n",
       "      <th></th>\n",
       "      <th>spread</th>\n",
       "      <th>mid</th>\n",
       "      <th>1sd high</th>\n",
       "      <th>1sd low</th>\n",
       "      <th>2sd high</th>\n",
       "      <th>2sd low</th>\n",
       "      <th>position</th>\n",
       "      <th>6503 JP Equity position</th>\n",
       "      <th>7269 JP Equity position</th>\n",
       "    </tr>\n",
       "    <tr>\n",
       "      <th>Date</th>\n",
       "      <th></th>\n",
       "      <th></th>\n",
       "      <th></th>\n",
       "      <th></th>\n",
       "      <th></th>\n",
       "      <th></th>\n",
       "      <th></th>\n",
       "      <th></th>\n",
       "      <th></th>\n",
       "    </tr>\n",
       "  </thead>\n",
       "  <tbody>\n",
       "    <tr>\n",
       "      <th>1/1/2014</th>\n",
       "      <td>166.950061</td>\n",
       "      <td>-89.698832</td>\n",
       "      <td>39.560998</td>\n",
       "      <td>-218.958661</td>\n",
       "      <td>168.820828</td>\n",
       "      <td>-348.218491</td>\n",
       "      <td>-1</td>\n",
       "      <td>-1</td>\n",
       "      <td>1</td>\n",
       "    </tr>\n",
       "    <tr>\n",
       "      <th>2/1/2014</th>\n",
       "      <td>166.950061</td>\n",
       "      <td>-87.901542</td>\n",
       "      <td>41.641394</td>\n",
       "      <td>-217.444479</td>\n",
       "      <td>171.184331</td>\n",
       "      <td>-346.987416</td>\n",
       "      <td>-1</td>\n",
       "      <td>-1</td>\n",
       "      <td>1</td>\n",
       "    </tr>\n",
       "    <tr>\n",
       "      <th>3/1/2014</th>\n",
       "      <td>166.950061</td>\n",
       "      <td>-86.104253</td>\n",
       "      <td>43.696194</td>\n",
       "      <td>-215.904701</td>\n",
       "      <td>173.496642</td>\n",
       "      <td>-345.705148</td>\n",
       "      <td>-1</td>\n",
       "      <td>-1</td>\n",
       "      <td>1</td>\n",
       "    </tr>\n",
       "    <tr>\n",
       "      <th>6/1/2014</th>\n",
       "      <td>165.770330</td>\n",
       "      <td>-84.311467</td>\n",
       "      <td>45.712333</td>\n",
       "      <td>-214.335267</td>\n",
       "      <td>175.736132</td>\n",
       "      <td>-344.359066</td>\n",
       "      <td>-1</td>\n",
       "      <td>-1</td>\n",
       "      <td>1</td>\n",
       "    </tr>\n",
       "    <tr>\n",
       "      <th>7/1/2014</th>\n",
       "      <td>148.384234</td>\n",
       "      <td>-82.535893</td>\n",
       "      <td>47.477046</td>\n",
       "      <td>-212.548831</td>\n",
       "      <td>177.489984</td>\n",
       "      <td>-342.561770</td>\n",
       "      <td>-1</td>\n",
       "      <td>-1</td>\n",
       "      <td>1</td>\n",
       "    </tr>\n",
       "    <tr>\n",
       "      <th>...</th>\n",
       "      <td>...</td>\n",
       "      <td>...</td>\n",
       "      <td>...</td>\n",
       "      <td>...</td>\n",
       "      <td>...</td>\n",
       "      <td>...</td>\n",
       "      <td>...</td>\n",
       "      <td>...</td>\n",
       "      <td>...</td>\n",
       "    </tr>\n",
       "    <tr>\n",
       "      <th>27/5/2024</th>\n",
       "      <td>711.312149</td>\n",
       "      <td>312.114302</td>\n",
       "      <td>519.582968</td>\n",
       "      <td>104.645636</td>\n",
       "      <td>727.051634</td>\n",
       "      <td>-102.823030</td>\n",
       "      <td>-1</td>\n",
       "      <td>-1</td>\n",
       "      <td>1</td>\n",
       "    </tr>\n",
       "    <tr>\n",
       "      <th>28/5/2024</th>\n",
       "      <td>729.471175</td>\n",
       "      <td>313.747398</td>\n",
       "      <td>522.810854</td>\n",
       "      <td>104.683941</td>\n",
       "      <td>731.874311</td>\n",
       "      <td>-104.379515</td>\n",
       "      <td>-1</td>\n",
       "      <td>-1</td>\n",
       "      <td>1</td>\n",
       "    </tr>\n",
       "    <tr>\n",
       "      <th>29/5/2024</th>\n",
       "      <td>616.692335</td>\n",
       "      <td>314.853872</td>\n",
       "      <td>524.752129</td>\n",
       "      <td>104.955615</td>\n",
       "      <td>734.650386</td>\n",
       "      <td>-104.942642</td>\n",
       "      <td>-1</td>\n",
       "      <td>-1</td>\n",
       "      <td>1</td>\n",
       "    </tr>\n",
       "    <tr>\n",
       "      <th>30/5/2024</th>\n",
       "      <td>535.448255</td>\n",
       "      <td>315.684473</td>\n",
       "      <td>526.024663</td>\n",
       "      <td>105.344282</td>\n",
       "      <td>736.364854</td>\n",
       "      <td>-104.995908</td>\n",
       "      <td>-1</td>\n",
       "      <td>-1</td>\n",
       "      <td>1</td>\n",
       "    </tr>\n",
       "    <tr>\n",
       "      <th>31/5/2024</th>\n",
       "      <td>644.564375</td>\n",
       "      <td>316.967564</td>\n",
       "      <td>528.286170</td>\n",
       "      <td>105.648958</td>\n",
       "      <td>739.604776</td>\n",
       "      <td>-105.669648</td>\n",
       "      <td>-1</td>\n",
       "      <td>-1</td>\n",
       "      <td>1</td>\n",
       "    </tr>\n",
       "  </tbody>\n",
       "</table>\n",
       "<p>2718 rows × 9 columns</p>\n",
       "</div>"
      ],
      "text/plain": [
       "               spread         mid    1sd high     1sd low    2sd high  \\\n",
       "Date                                                                    \n",
       "1/1/2014   166.950061  -89.698832   39.560998 -218.958661  168.820828   \n",
       "2/1/2014   166.950061  -87.901542   41.641394 -217.444479  171.184331   \n",
       "3/1/2014   166.950061  -86.104253   43.696194 -215.904701  173.496642   \n",
       "6/1/2014   165.770330  -84.311467   45.712333 -214.335267  175.736132   \n",
       "7/1/2014   148.384234  -82.535893   47.477046 -212.548831  177.489984   \n",
       "...               ...         ...         ...         ...         ...   \n",
       "27/5/2024  711.312149  312.114302  519.582968  104.645636  727.051634   \n",
       "28/5/2024  729.471175  313.747398  522.810854  104.683941  731.874311   \n",
       "29/5/2024  616.692335  314.853872  524.752129  104.955615  734.650386   \n",
       "30/5/2024  535.448255  315.684473  526.024663  105.344282  736.364854   \n",
       "31/5/2024  644.564375  316.967564  528.286170  105.648958  739.604776   \n",
       "\n",
       "              2sd low  position  6503 JP Equity position  \\\n",
       "Date                                                       \n",
       "1/1/2014  -348.218491        -1                       -1   \n",
       "2/1/2014  -346.987416        -1                       -1   \n",
       "3/1/2014  -345.705148        -1                       -1   \n",
       "6/1/2014  -344.359066        -1                       -1   \n",
       "7/1/2014  -342.561770        -1                       -1   \n",
       "...               ...       ...                      ...   \n",
       "27/5/2024 -102.823030        -1                       -1   \n",
       "28/5/2024 -104.379515        -1                       -1   \n",
       "29/5/2024 -104.942642        -1                       -1   \n",
       "30/5/2024 -104.995908        -1                       -1   \n",
       "31/5/2024 -105.669648        -1                       -1   \n",
       "\n",
       "           7269 JP Equity position  \n",
       "Date                                \n",
       "1/1/2014                         1  \n",
       "2/1/2014                         1  \n",
       "3/1/2014                         1  \n",
       "6/1/2014                         1  \n",
       "7/1/2014                         1  \n",
       "...                            ...  \n",
       "27/5/2024                        1  \n",
       "28/5/2024                        1  \n",
       "29/5/2024                        1  \n",
       "30/5/2024                        1  \n",
       "31/5/2024                        1  \n",
       "\n",
       "[2718 rows x 9 columns]"
      ]
     },
     "execution_count": 5,
     "metadata": {},
     "output_type": "execute_result"
    }
   ],
   "source": [
    "working_pair = pairsOutcome[top_keys[0]]\n",
    "working_pair = working_pair.iloc[261:]\n",
    "working_pair = working_pair.iloc[:, :-2]\n",
    "working_pair"
   ]
  },
  {
   "cell_type": "code",
   "execution_count": 6,
   "metadata": {},
   "outputs": [],
   "source": [
    "def count_consecutive(col):\n",
    "  \"\"\"\n",
    "  This function counts the length of consecutive -1 and 1 in a pandas Series.\n",
    "\n",
    "  Args:\n",
    "      col: The pandas Series containing the position values.\n",
    "\n",
    "  Returns:\n",
    "      A dictionary containing two DataFrames:\n",
    "          - 'minus_one_consecutive': DataFrame with lengths of consecutive -1.\n",
    "          - 'plus_one_consecutive': DataFrame with lengths of consecutive 1.\n",
    "  \"\"\"\n",
    "  minus_one_consecutive = []\n",
    "  plus_one_consecutive = []\n",
    "  count = 0\n",
    "  prev = None\n",
    "  for val in col:\n",
    "    if val == prev:\n",
    "      count += 1\n",
    "    else:\n",
    "      if prev == -1:\n",
    "        minus_one_consecutive.append(count)\n",
    "      elif prev == 1:\n",
    "        plus_one_consecutive.append(count)\n",
    "      count = 1\n",
    "    prev = val\n",
    "  if prev == -1:\n",
    "    minus_one_consecutive.append(count)\n",
    "  elif prev == 1:\n",
    "    plus_one_consecutive.append(count)\n",
    "\n",
    "  return {\n",
    "      'minus_one_consecutive': pd.DataFrame(minus_one_consecutive),\n",
    "      'plus_one_consecutive': pd.DataFrame(plus_one_consecutive)\n",
    "  }\n"
   ]
  },
  {
   "cell_type": "code",
   "execution_count": 7,
   "metadata": {},
   "outputs": [],
   "source": [
    "\n",
    "# Get results\n",
    "consecutive_lengths = count_consecutive(working_pair['position'])\n"
   ]
  },
  {
   "cell_type": "code",
   "execution_count": 8,
   "metadata": {},
   "outputs": [
    {
     "data": {
      "text/plain": [
       "{'minus_one_consecutive':       0\n",
       " 0    21\n",
       " 1     1\n",
       " 2     9\n",
       " 3     1\n",
       " 4     4\n",
       " ..   ..\n",
       " 96    6\n",
       " 97   10\n",
       " 98    1\n",
       " 99    1\n",
       " 100   5\n",
       " \n",
       " [101 rows x 1 columns],\n",
       " 'plus_one_consecutive':      0\n",
       " 0    1\n",
       " 1    3\n",
       " 2    2\n",
       " 3    1\n",
       " 4    1\n",
       " 5   17\n",
       " 6    9\n",
       " 7    8\n",
       " 8    5\n",
       " 9    1\n",
       " 10   5\n",
       " 11   6\n",
       " 12   3\n",
       " 13   5\n",
       " 14   2\n",
       " 15  19\n",
       " 16   5\n",
       " 17   6\n",
       " 18  10\n",
       " 19  12\n",
       " 20   6\n",
       " 21   3\n",
       " 22   1\n",
       " 23  12\n",
       " 24   2\n",
       " 25   4\n",
       " 26   3\n",
       " 27   1\n",
       " 28   1\n",
       " 29   2\n",
       " 30   1\n",
       " 31   9\n",
       " 32  12\n",
       " 33   6\n",
       " 34   4\n",
       " 35   7\n",
       " 36   2\n",
       " 37   1\n",
       " 38  15\n",
       " 39   9\n",
       " 40  12\n",
       " 41   5\n",
       " 42  19\n",
       " 43   1\n",
       " 44   1\n",
       " 45  14\n",
       " 46   3\n",
       " 47  15\n",
       " 48   3\n",
       " 49   8\n",
       " 50   9\n",
       " 51   1\n",
       " 52   1}"
      ]
     },
     "execution_count": 8,
     "metadata": {},
     "output_type": "execute_result"
    }
   ],
   "source": [
    "consecutive_lengths"
   ]
  },
  {
   "cell_type": "code",
   "execution_count": 9,
   "metadata": {},
   "outputs": [
    {
     "data": {
      "text/html": [
       "<div>\n",
       "<style scoped>\n",
       "    .dataframe tbody tr th:only-of-type {\n",
       "        vertical-align: middle;\n",
       "    }\n",
       "\n",
       "    .dataframe tbody tr th {\n",
       "        vertical-align: top;\n",
       "    }\n",
       "\n",
       "    .dataframe thead th {\n",
       "        text-align: right;\n",
       "    }\n",
       "</style>\n",
       "<table border=\"1\" class=\"dataframe\">\n",
       "  <thead>\n",
       "    <tr style=\"text-align: right;\">\n",
       "      <th></th>\n",
       "      <th>0</th>\n",
       "    </tr>\n",
       "  </thead>\n",
       "  <tbody>\n",
       "    <tr>\n",
       "      <th>count</th>\n",
       "      <td>101.000000</td>\n",
       "    </tr>\n",
       "    <tr>\n",
       "      <th>mean</th>\n",
       "      <td>5.772277</td>\n",
       "    </tr>\n",
       "    <tr>\n",
       "      <th>std</th>\n",
       "      <td>6.344890</td>\n",
       "    </tr>\n",
       "    <tr>\n",
       "      <th>min</th>\n",
       "      <td>1.000000</td>\n",
       "    </tr>\n",
       "    <tr>\n",
       "      <th>25%</th>\n",
       "      <td>2.000000</td>\n",
       "    </tr>\n",
       "    <tr>\n",
       "      <th>50%</th>\n",
       "      <td>4.000000</td>\n",
       "    </tr>\n",
       "    <tr>\n",
       "      <th>75%</th>\n",
       "      <td>8.000000</td>\n",
       "    </tr>\n",
       "    <tr>\n",
       "      <th>max</th>\n",
       "      <td>37.000000</td>\n",
       "    </tr>\n",
       "  </tbody>\n",
       "</table>\n",
       "</div>"
      ],
      "text/plain": [
       "                0\n",
       "count  101.000000\n",
       "mean     5.772277\n",
       "std      6.344890\n",
       "min      1.000000\n",
       "25%      2.000000\n",
       "50%      4.000000\n",
       "75%      8.000000\n",
       "max     37.000000"
      ]
     },
     "execution_count": 9,
     "metadata": {},
     "output_type": "execute_result"
    }
   ],
   "source": [
    "consecutive_lengths['minus_one_consecutive'].describe()\n"
   ]
  },
  {
   "cell_type": "code",
   "execution_count": 10,
   "metadata": {},
   "outputs": [
    {
     "data": {
      "text/html": [
       "<div>\n",
       "<style scoped>\n",
       "    .dataframe tbody tr th:only-of-type {\n",
       "        vertical-align: middle;\n",
       "    }\n",
       "\n",
       "    .dataframe tbody tr th {\n",
       "        vertical-align: top;\n",
       "    }\n",
       "\n",
       "    .dataframe thead th {\n",
       "        text-align: right;\n",
       "    }\n",
       "</style>\n",
       "<table border=\"1\" class=\"dataframe\">\n",
       "  <thead>\n",
       "    <tr style=\"text-align: right;\">\n",
       "      <th></th>\n",
       "      <th>0</th>\n",
       "    </tr>\n",
       "  </thead>\n",
       "  <tbody>\n",
       "    <tr>\n",
       "      <th>count</th>\n",
       "      <td>53.000000</td>\n",
       "    </tr>\n",
       "    <tr>\n",
       "      <th>mean</th>\n",
       "      <td>5.924528</td>\n",
       "    </tr>\n",
       "    <tr>\n",
       "      <th>std</th>\n",
       "      <td>5.117275</td>\n",
       "    </tr>\n",
       "    <tr>\n",
       "      <th>min</th>\n",
       "      <td>1.000000</td>\n",
       "    </tr>\n",
       "    <tr>\n",
       "      <th>25%</th>\n",
       "      <td>2.000000</td>\n",
       "    </tr>\n",
       "    <tr>\n",
       "      <th>50%</th>\n",
       "      <td>5.000000</td>\n",
       "    </tr>\n",
       "    <tr>\n",
       "      <th>75%</th>\n",
       "      <td>9.000000</td>\n",
       "    </tr>\n",
       "    <tr>\n",
       "      <th>max</th>\n",
       "      <td>19.000000</td>\n",
       "    </tr>\n",
       "  </tbody>\n",
       "</table>\n",
       "</div>"
      ],
      "text/plain": [
       "               0\n",
       "count  53.000000\n",
       "mean    5.924528\n",
       "std     5.117275\n",
       "min     1.000000\n",
       "25%     2.000000\n",
       "50%     5.000000\n",
       "75%     9.000000\n",
       "max    19.000000"
      ]
     },
     "execution_count": 10,
     "metadata": {},
     "output_type": "execute_result"
    }
   ],
   "source": [
    "consecutive_lengths['plus_one_consecutive'].describe()\n"
   ]
  },
  {
   "cell_type": "code",
   "execution_count": 11,
   "metadata": {},
   "outputs": [
    {
     "data": {
      "text/plain": [
       "583"
      ]
     },
     "execution_count": 11,
     "metadata": {},
     "output_type": "execute_result"
    }
   ],
   "source": [
    "consecutive_lengths['minus_one_consecutive'].values.sum()"
   ]
  },
  {
   "cell_type": "code",
   "execution_count": 12,
   "metadata": {},
   "outputs": [
    {
     "data": {
      "text/plain": [
       "314"
      ]
     },
     "execution_count": 12,
     "metadata": {},
     "output_type": "execute_result"
    }
   ],
   "source": [
    "consecutive_lengths['plus_one_consecutive'].values.sum()"
   ]
  },
  {
   "cell_type": "code",
   "execution_count": 13,
   "metadata": {},
   "outputs": [
    {
     "data": {
      "text/plain": [
       "897"
      ]
     },
     "execution_count": 13,
     "metadata": {},
     "output_type": "execute_result"
    }
   ],
   "source": [
    "consecutive_lengths['minus_one_consecutive'].values.sum() + consecutive_lengths['plus_one_consecutive'].values.sum()"
   ]
  },
  {
   "cell_type": "markdown",
   "metadata": {},
   "source": [
    "taking position 1038 out of 2718 days of trading"
   ]
  },
  {
   "cell_type": "code",
   "execution_count": 14,
   "metadata": {},
   "outputs": [
    {
     "name": "stdout",
     "output_type": "stream",
     "text": [
      "\n",
      "Total number of position changes: 307\n"
     ]
    }
   ],
   "source": [
    "# Count changes in position values\n",
    "position_changes = (working_pair['position'] != working_pair['position'].shift(1)).sum()\n",
    "\n",
    "# Print result\n",
    "print(\"\\nTotal number of position changes:\", position_changes)\n"
   ]
  },
  {
   "cell_type": "code",
   "execution_count": 15,
   "metadata": {},
   "outputs": [
    {
     "data": {
      "text/plain": [
       "'over 10.4 years means 33.6 ave trades per year'"
      ]
     },
     "execution_count": 15,
     "metadata": {},
     "output_type": "execute_result"
    }
   ],
   "source": [
    "f\"over {2718/261:.1f} years means {350/(2718/261):.1f} ave trades per year\""
   ]
  },
  {
   "cell_type": "code",
   "execution_count": 16,
   "metadata": {},
   "outputs": [
    {
     "data": {
      "text/plain": [
       "spread                     0\n",
       "mid                        0\n",
       "1sd high                   0\n",
       "1sd low                    0\n",
       "2sd high                   0\n",
       "2sd low                    0\n",
       "position                   0\n",
       "6503 JP Equity position    0\n",
       "7269 JP Equity position    0\n",
       "dtype: int64"
      ]
     },
     "execution_count": 16,
     "metadata": {},
     "output_type": "execute_result"
    }
   ],
   "source": [
    "working_pair.isna().sum()"
   ]
  },
  {
   "cell_type": "markdown",
   "metadata": {},
   "source": [
    "```   \n",
    "df.loc[(df['spread'] > df['1sd high']) & (df['spread'] < df['2sd high']), 'position'] = -1 \n",
    "df.loc[(df['spread']< df['1sd low']) & (df['spread'] > df['2sd low']), 'position'] = 1\n",
    "```\n",
    "### Level 1\n",
    "\n",
    "above is the line where we assign some weightage to the position size. \n",
    "\n",
    "1. If we can assign a challenge to the Q learner to let it decide how much to make this number for 10 pairs.\n",
    "2. Then we measure the total cum pnl \n",
    "3. Use that data to give a reward function\n",
    "\n",
    "### Level 2\n",
    "1. Only get learner to size when entering a trade. only give the Q learner state on the trade date\n",
    "\n",
    "### Level 3\n",
    "1. Daily sizing of trade"
   ]
  },
  {
   "cell_type": "code",
   "execution_count": 17,
   "metadata": {},
   "outputs": [
    {
     "data": {
      "text/html": [
       "<div>\n",
       "<style scoped>\n",
       "    .dataframe tbody tr th:only-of-type {\n",
       "        vertical-align: middle;\n",
       "    }\n",
       "\n",
       "    .dataframe tbody tr th {\n",
       "        vertical-align: top;\n",
       "    }\n",
       "\n",
       "    .dataframe thead th {\n",
       "        text-align: right;\n",
       "    }\n",
       "</style>\n",
       "<table border=\"1\" class=\"dataframe\">\n",
       "  <thead>\n",
       "    <tr style=\"text-align: right;\">\n",
       "      <th></th>\n",
       "      <th>spread</th>\n",
       "      <th>mid</th>\n",
       "      <th>1sd high</th>\n",
       "      <th>1sd low</th>\n",
       "      <th>2sd high</th>\n",
       "      <th>2sd low</th>\n",
       "      <th>position</th>\n",
       "      <th>6503 JP Equity position</th>\n",
       "      <th>7269 JP Equity position</th>\n",
       "    </tr>\n",
       "    <tr>\n",
       "      <th>Date</th>\n",
       "      <th></th>\n",
       "      <th></th>\n",
       "      <th></th>\n",
       "      <th></th>\n",
       "      <th></th>\n",
       "      <th></th>\n",
       "      <th></th>\n",
       "      <th></th>\n",
       "      <th></th>\n",
       "    </tr>\n",
       "  </thead>\n",
       "  <tbody>\n",
       "    <tr>\n",
       "      <th>1/1/2014</th>\n",
       "      <td>166.950061</td>\n",
       "      <td>-89.698832</td>\n",
       "      <td>39.560998</td>\n",
       "      <td>-218.958661</td>\n",
       "      <td>168.820828</td>\n",
       "      <td>-348.218491</td>\n",
       "      <td>-1</td>\n",
       "      <td>-1</td>\n",
       "      <td>1</td>\n",
       "    </tr>\n",
       "    <tr>\n",
       "      <th>2/1/2014</th>\n",
       "      <td>166.950061</td>\n",
       "      <td>-87.901542</td>\n",
       "      <td>41.641394</td>\n",
       "      <td>-217.444479</td>\n",
       "      <td>171.184331</td>\n",
       "      <td>-346.987416</td>\n",
       "      <td>-1</td>\n",
       "      <td>-1</td>\n",
       "      <td>1</td>\n",
       "    </tr>\n",
       "    <tr>\n",
       "      <th>3/1/2014</th>\n",
       "      <td>166.950061</td>\n",
       "      <td>-86.104253</td>\n",
       "      <td>43.696194</td>\n",
       "      <td>-215.904701</td>\n",
       "      <td>173.496642</td>\n",
       "      <td>-345.705148</td>\n",
       "      <td>-1</td>\n",
       "      <td>-1</td>\n",
       "      <td>1</td>\n",
       "    </tr>\n",
       "    <tr>\n",
       "      <th>6/1/2014</th>\n",
       "      <td>165.770330</td>\n",
       "      <td>-84.311467</td>\n",
       "      <td>45.712333</td>\n",
       "      <td>-214.335267</td>\n",
       "      <td>175.736132</td>\n",
       "      <td>-344.359066</td>\n",
       "      <td>-1</td>\n",
       "      <td>-1</td>\n",
       "      <td>1</td>\n",
       "    </tr>\n",
       "    <tr>\n",
       "      <th>7/1/2014</th>\n",
       "      <td>148.384234</td>\n",
       "      <td>-82.535893</td>\n",
       "      <td>47.477046</td>\n",
       "      <td>-212.548831</td>\n",
       "      <td>177.489984</td>\n",
       "      <td>-342.561770</td>\n",
       "      <td>-1</td>\n",
       "      <td>-1</td>\n",
       "      <td>1</td>\n",
       "    </tr>\n",
       "    <tr>\n",
       "      <th>...</th>\n",
       "      <td>...</td>\n",
       "      <td>...</td>\n",
       "      <td>...</td>\n",
       "      <td>...</td>\n",
       "      <td>...</td>\n",
       "      <td>...</td>\n",
       "      <td>...</td>\n",
       "      <td>...</td>\n",
       "      <td>...</td>\n",
       "    </tr>\n",
       "    <tr>\n",
       "      <th>27/5/2024</th>\n",
       "      <td>711.312149</td>\n",
       "      <td>312.114302</td>\n",
       "      <td>519.582968</td>\n",
       "      <td>104.645636</td>\n",
       "      <td>727.051634</td>\n",
       "      <td>-102.823030</td>\n",
       "      <td>-1</td>\n",
       "      <td>-1</td>\n",
       "      <td>1</td>\n",
       "    </tr>\n",
       "    <tr>\n",
       "      <th>28/5/2024</th>\n",
       "      <td>729.471175</td>\n",
       "      <td>313.747398</td>\n",
       "      <td>522.810854</td>\n",
       "      <td>104.683941</td>\n",
       "      <td>731.874311</td>\n",
       "      <td>-104.379515</td>\n",
       "      <td>-1</td>\n",
       "      <td>-1</td>\n",
       "      <td>1</td>\n",
       "    </tr>\n",
       "    <tr>\n",
       "      <th>29/5/2024</th>\n",
       "      <td>616.692335</td>\n",
       "      <td>314.853872</td>\n",
       "      <td>524.752129</td>\n",
       "      <td>104.955615</td>\n",
       "      <td>734.650386</td>\n",
       "      <td>-104.942642</td>\n",
       "      <td>-1</td>\n",
       "      <td>-1</td>\n",
       "      <td>1</td>\n",
       "    </tr>\n",
       "    <tr>\n",
       "      <th>30/5/2024</th>\n",
       "      <td>535.448255</td>\n",
       "      <td>315.684473</td>\n",
       "      <td>526.024663</td>\n",
       "      <td>105.344282</td>\n",
       "      <td>736.364854</td>\n",
       "      <td>-104.995908</td>\n",
       "      <td>-1</td>\n",
       "      <td>-1</td>\n",
       "      <td>1</td>\n",
       "    </tr>\n",
       "    <tr>\n",
       "      <th>31/5/2024</th>\n",
       "      <td>644.564375</td>\n",
       "      <td>316.967564</td>\n",
       "      <td>528.286170</td>\n",
       "      <td>105.648958</td>\n",
       "      <td>739.604776</td>\n",
       "      <td>-105.669648</td>\n",
       "      <td>-1</td>\n",
       "      <td>-1</td>\n",
       "      <td>1</td>\n",
       "    </tr>\n",
       "  </tbody>\n",
       "</table>\n",
       "<p>2718 rows × 9 columns</p>\n",
       "</div>"
      ],
      "text/plain": [
       "               spread         mid    1sd high     1sd low    2sd high  \\\n",
       "Date                                                                    \n",
       "1/1/2014   166.950061  -89.698832   39.560998 -218.958661  168.820828   \n",
       "2/1/2014   166.950061  -87.901542   41.641394 -217.444479  171.184331   \n",
       "3/1/2014   166.950061  -86.104253   43.696194 -215.904701  173.496642   \n",
       "6/1/2014   165.770330  -84.311467   45.712333 -214.335267  175.736132   \n",
       "7/1/2014   148.384234  -82.535893   47.477046 -212.548831  177.489984   \n",
       "...               ...         ...         ...         ...         ...   \n",
       "27/5/2024  711.312149  312.114302  519.582968  104.645636  727.051634   \n",
       "28/5/2024  729.471175  313.747398  522.810854  104.683941  731.874311   \n",
       "29/5/2024  616.692335  314.853872  524.752129  104.955615  734.650386   \n",
       "30/5/2024  535.448255  315.684473  526.024663  105.344282  736.364854   \n",
       "31/5/2024  644.564375  316.967564  528.286170  105.648958  739.604776   \n",
       "\n",
       "              2sd low  position  6503 JP Equity position  \\\n",
       "Date                                                       \n",
       "1/1/2014  -348.218491        -1                       -1   \n",
       "2/1/2014  -346.987416        -1                       -1   \n",
       "3/1/2014  -345.705148        -1                       -1   \n",
       "6/1/2014  -344.359066        -1                       -1   \n",
       "7/1/2014  -342.561770        -1                       -1   \n",
       "...               ...       ...                      ...   \n",
       "27/5/2024 -102.823030        -1                       -1   \n",
       "28/5/2024 -104.379515        -1                       -1   \n",
       "29/5/2024 -104.942642        -1                       -1   \n",
       "30/5/2024 -104.995908        -1                       -1   \n",
       "31/5/2024 -105.669648        -1                       -1   \n",
       "\n",
       "           7269 JP Equity position  \n",
       "Date                                \n",
       "1/1/2014                         1  \n",
       "2/1/2014                         1  \n",
       "3/1/2014                         1  \n",
       "6/1/2014                         1  \n",
       "7/1/2014                         1  \n",
       "...                            ...  \n",
       "27/5/2024                        1  \n",
       "28/5/2024                        1  \n",
       "29/5/2024                        1  \n",
       "30/5/2024                        1  \n",
       "31/5/2024                        1  \n",
       "\n",
       "[2718 rows x 9 columns]"
      ]
     },
     "execution_count": 17,
     "metadata": {},
     "output_type": "execute_result"
    }
   ],
   "source": [
    "working_pair"
   ]
  },
  {
   "cell_type": "code",
   "execution_count": 18,
   "metadata": {},
   "outputs": [
    {
     "name": "stderr",
     "output_type": "stream",
     "text": [
      "/var/folders/h2/r7qn2m9n1zb6y_0q191gdqth0000gn/T/ipykernel_40555/3045906102.py:7: FutureWarning: The argument 'date_parser' is deprecated and will be removed in a future version. Please use 'date_format' instead, or read your data in as 'object' dtype and then call 'to_datetime'.\n",
      "  valid = pd.read_csv('validPairs5.csv',\n"
     ]
    }
   ],
   "source": [
    "with open(\"output_clustering.csv\", 'r') as csvfile:\n",
    "    reader = csv.reader(csvfile)\n",
    "    next(reader)\n",
    "    working_pairs = [tuple(row) for row in reader]\n",
    "\n",
    "top_keys = [f\"{pair[0]} {pair[1]}\" for pair in working_pairs]\n",
    "valid = pd.read_csv('validPairs5.csv', \n",
    "                    index_col=0, \n",
    "                    parse_dates=True, \n",
    "                    date_parser=custom_date_parser)\n",
    "validPairsList = [\n",
    "    [item.strip() + ' Equity' for item in pair.split('Equity') if item.strip()]\n",
    "    for pair in top_keys\n",
    "]\n",
    "rollingWindow = 262\n",
    "cutLossSd = 2\n",
    "\n",
    "for pair in validPairsList:\n",
    "    df = pd.DataFrame()\n",
    "\n",
    "    #Calculate Standard Deviations\n",
    "    df['spread'] = valid[f'spread_{pair[0]}_{pair[1]}']\n",
    "    df['mid'] =  df['spread'].rolling(rollingWindow).mean()\n",
    "    df['1sd high'] = df['spread'].rolling(rollingWindow).mean() + df['spread'].rolling(rollingWindow).std()\n",
    "    df['1sd low'] = df['spread'].rolling(rollingWindow).mean() - df['spread'].rolling(rollingWindow).std()\n",
    "    df['2sd high'] = df['spread'].rolling(rollingWindow).mean() + df['spread'].rolling(rollingWindow).std() * cutLossSd\n",
    "    df['2sd low'] = df['spread'].rolling(rollingWindow).mean() - df['spread'].rolling(rollingWindow).std() * cutLossSd\n",
    "    df['position'] = 0\n",
    "\n",
    "    df.loc[(df['spread'] > df['1sd high']) & (df['spread'] < df['2sd high']), 'position'] = -1\n",
    "    df.loc[(df['spread']< df['1sd low']) & (df['spread'] > df['2sd low']), 'position'] = 1\n",
    "\n",
    "    #Calculate PnL\n",
    "    df[f'{pair[0]} position'] = df['position']\n",
    "    df[f'{pair[1]} position'] = df['position'] * -1\n",
    "    df['dailypnl'] = df[f'{pair[1]} position']*return_df[f'{pair[1]}'].shift(-1) + df[f'{pair[0]} position']*return_df[f'{pair[0]}'].shift(-1)\n",
    "    df['cumpnl'] = df['dailypnl'].cumsum()\n",
    "\n",
    "    pairsOutcome[f'{pair[0]} {pair[1]}'] = df"
   ]
  },
  {
   "cell_type": "code",
   "execution_count": 49,
   "metadata": {},
   "outputs": [
    {
     "data": {
      "text/plain": [
       "array([[1, 1, 1, 0, 0, 0],\n",
       "       [1, 1, 1, 0, 0, 0],\n",
       "       [1, 1, 1, 0, 0, 0],\n",
       "       [1, 1, 1, 0, 0, 0],\n",
       "       [1, 1, 1, 0, 0, 0]])"
      ]
     },
     "execution_count": 49,
     "metadata": {},
     "output_type": "execute_result"
    }
   ],
   "source": [
    "workingPairOutcome = {}\n",
    "\n",
    "for pair in top_keys:\n",
    "    dummy_df = pairsOutcome[pair].iloc[::,:6]\n",
    "    dummy_df = dummy_df.subtract(dummy_df['mid'], axis=0).drop(columns=['mid']) # centre spread and SD\n",
    "    dummy_df = dummy_df.div(dummy_df['2sd high']-dummy_df['1sd high'],axis=0)   # express SD as integers, give spread as propotionate\n",
    "    dummy_df['2sd_high_boolean'] = (dummy_df['spread']>dummy_df['2sd high']).astype(int)\n",
    "    dummy_df['1sd_high_boolean'] = (dummy_df['spread']>dummy_df['1sd high']).astype(int)\n",
    "    dummy_df['0sd_high_boolean'] = (dummy_df['spread']>0).astype(int)\n",
    "    dummy_df['0sd_low_boolean']  = (dummy_df['spread']<0).astype(int)\n",
    "    dummy_df['1sd_low_boolean']  = (dummy_df['spread']<dummy_df['1sd low'] ).astype(int)\n",
    "    dummy_df['2sd_low_boolean']  = (dummy_df['spread']<dummy_df['2sd low'] ).astype(int)\n",
    "    dummy_df = dummy_df.drop(columns=['spread','1sd high', '1sd low', '2sd high', '2sd low'])\n",
    "    workingPairOutcome[pair] = dummy_df.to_numpy()\n",
    "\n",
    "workingPairOutcome[top_keys[5]][-5:]"
   ]
  },
  {
   "cell_type": "code",
   "execution_count": 50,
   "metadata": {},
   "outputs": [
    {
     "name": "stderr",
     "output_type": "stream",
     "text": [
      "/var/folders/h2/r7qn2m9n1zb6y_0q191gdqth0000gn/T/ipykernel_40555/1036547325.py:1: FutureWarning: The argument 'date_parser' is deprecated and will be removed in a future version. Please use 'date_format' instead, or read your data in as 'object' dtype and then call 'to_datetime'.\n",
      "  valid = pd.read_csv('validPairs5.csv',\n"
     ]
    },
    {
     "data": {
      "text/plain": [
       "array([[2.00028887, 1.        , 1.        , 1.        , 0.        ,\n",
       "        0.        , 0.        ],\n",
       "       [2.6859092 , 1.        , 1.        , 1.        , 0.        ,\n",
       "        0.        , 0.        ],\n",
       "       [2.52197973, 1.        , 1.        , 1.        , 0.        ,\n",
       "        0.        , 0.        ],\n",
       "       [2.40723813, 1.        , 1.        , 1.        , 0.        ,\n",
       "        0.        , 0.        ],\n",
       "       [2.46852476, 1.        , 1.        , 1.        , 0.        ,\n",
       "        0.        , 0.        ]])"
      ]
     },
     "execution_count": 50,
     "metadata": {},
     "output_type": "execute_result"
    }
   ],
   "source": [
    "valid = pd.read_csv('validPairs5.csv', \n",
    "                    index_col=0, \n",
    "                    parse_dates=True, \n",
    "                    date_parser=custom_date_parser)\n",
    "## get list of pair stocks\n",
    "validPairsList = [\n",
    "    [item.strip() + ' Equity' for item in pair.split('Equity') if item.strip()]\n",
    "    for pair in top_keys\n",
    "]\n",
    "rollingWindow = 262\n",
    "cutLossSd = 2\n",
    "\n",
    "for pair in validPairsList:\n",
    "    df = pd.DataFrame()\n",
    "\n",
    "    #Calculate Standard Deviations\n",
    "    df['spread'] = valid[f'spread_{pair[0]}_{pair[1]}']\n",
    "    df['mid'] =  df['spread'].rolling(rollingWindow).mean()\n",
    "    df['1sd high'] = df['spread'].rolling(rollingWindow).mean() + df['spread'].rolling(rollingWindow).std()\n",
    "    df['1sd low'] = df['spread'].rolling(rollingWindow).mean() - df['spread'].rolling(rollingWindow).std()\n",
    "    df['2sd high'] = df['spread'].rolling(rollingWindow).mean() + df['spread'].rolling(rollingWindow).std() * cutLossSd\n",
    "    df['2sd low'] = df['spread'].rolling(rollingWindow).mean() - df['spread'].rolling(rollingWindow).std() * cutLossSd\n",
    "    df['position'] = 0\n",
    "\n",
    "    df.loc[(df['spread'] > df['1sd high']) & (df['spread'] < df['2sd high']), 'position'] = -1\n",
    "    df.loc[(df['spread']< df['1sd low']) & (df['spread'] > df['2sd low']), 'position'] = 1\n",
    "\n",
    "    #Calculate PnL\n",
    "    df[f'{pair[0]} position'] = df['position']\n",
    "    df[f'{pair[1]} position'] = df['position'] * -1\n",
    "    df['dailypnl'] = df[f'{pair[1]} position']*return_df[f'{pair[1]}'].shift(-1) + df[f'{pair[0]} position']*return_df[f'{pair[0]}'].shift(-1)\n",
    "    df['cumpnl'] = df['dailypnl'].cumsum()\n",
    "\n",
    "    pairsOutcome[f'{pair[0]} {pair[1]}'] = df\n",
    "\n",
    "workingPairOutcome = {}\n",
    "\n",
    "for pair in top_keys:\n",
    "    dummy_df = pairsOutcome[pair].iloc[::,:6]\n",
    "    dummy_df = dummy_df.subtract(dummy_df['mid'], axis=0).drop(columns=['mid']) # centre spread and SD\n",
    "    dummy_df = dummy_df.div(dummy_df['2sd high']-dummy_df['1sd high'],axis=0)   # express SD as integers, give spread as propotionate\n",
    "    dummy_df['2sd_high_boolean'] = (dummy_df['spread']>dummy_df['2sd high']).astype(int)\n",
    "    dummy_df['1sd_high_boolean'] = (dummy_df['spread']>dummy_df['1sd high']).astype(int)\n",
    "    dummy_df['0sd_high_boolean'] = (dummy_df['spread']>0).astype(int)\n",
    "    dummy_df['0sd_low_boolean']  = (dummy_df['spread']<0).astype(int)\n",
    "    dummy_df['1sd_low_boolean']  = (dummy_df['spread']<dummy_df['1sd low'] ).astype(int)\n",
    "    dummy_df['2sd_low_boolean']  = (dummy_df['spread']<dummy_df['2sd low'] ).astype(int)\n",
    "    dummy_df = dummy_df.drop(columns=['1sd high', '1sd low', '2sd high', '2sd low'])\n",
    "    workingPairOutcome[pair] = dummy_df.to_numpy()\n",
    "\n",
    "workingPairOutcome[top_keys[5]][-5:]  \n"
   ]
  },
  {
   "cell_type": "code",
   "execution_count": 51,
   "metadata": {},
   "outputs": [
    {
     "data": {
      "image/png": "[encoded data removed]",
      "text/plain": [
       "<Figure size 640x480 with 1 Axes>"
      ]
     },
     "metadata": {},
     "output_type": "display_data"
    }
   ],
   "source": [
    "for i in range(len(top_keys)):\n",
    "    plt.plot(workingPairOutcome[top_keys[i]][:,0])"
   ]
  },
  {
   "cell_type": "code",
   "execution_count": 52,
   "metadata": {},
   "outputs": [
    {
     "data": {
      "text/plain": [
       "('6326 JP Equity 6954 JP Equity', '4901 JP Equity 6702 JP Equity')"
      ]
     },
     "execution_count": 52,
     "metadata": {},
     "output_type": "execute_result"
    }
   ],
   "source": [
    "top_keys[1], top_keys[5]"
   ]
  },
  {
   "cell_type": "code",
   "execution_count": 53,
   "metadata": {},
   "outputs": [
    {
     "data": {
      "text/plain": [
       "array([False, False, False, ..., False, False, False])"
      ]
     },
     "execution_count": 53,
     "metadata": {},
     "output_type": "execute_result"
    }
   ],
   "source": [
    "workingPairOutcome[top_keys[5]][:,0] == workingPairOutcome[top_keys[1]][:,0]"
   ]
  },
  {
   "cell_type": "code",
   "execution_count": null,
   "metadata": {},
   "outputs": [],
   "source": []
  }
 ],
 "metadata": {
  "kernelspec": {
   "display_name": "Python 3",
   "language": "python",
   "name": "python3"
  },
  "language_info": {
   "codemirror_mode": {
    "name": "ipython",
    "version": 3
   },
   "file_extension": ".py",
   "mimetype": "text/x-python",
   "name": "python",
   "nbconvert_exporter": "python",
   "pygments_lexer": "ipython3",
   "version": "3.12.0"
  }
 },
 "nbformat": 4,
 "nbformat_minor": 2
}
