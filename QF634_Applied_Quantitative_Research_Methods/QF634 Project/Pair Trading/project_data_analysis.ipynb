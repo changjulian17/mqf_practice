{
 "cells": [
  {
   "cell_type": "code",
   "execution_count": 2,
   "metadata": {},
   "outputs": [],
   "source": [
    "## anaconda3 (Python 3.9.13) Kernel\n",
    "\n",
    "import torch\n",
    "import torch.nn as nn\n",
    "import torch.optim as optim\n",
    "import numpy as np\n",
    "\n",
    "# pair trade packages\n",
    "import pandas as pd\n",
    "import numpy as np\n",
    "import matplotlib.pyplot as plt\n",
    "import pickle\n",
    "from datetime import datetime"
   ]
  },
  {
   "cell_type": "markdown",
   "metadata": {},
   "source": [
    "# Load Pairs Data\n"
   ]
  },
  {
   "cell_type": "code",
   "execution_count": 3,
   "metadata": {},
   "outputs": [
    {
     "name": "stdout",
     "output_type": "stream",
     "text": [
      "Dictionary loaded from pairsOutcome.pkl\n"
     ]
    },
    {
     "name": "stderr",
     "output_type": "stream",
     "text": [
      "/var/folders/h2/r7qn2m9n1zb6y_0q191gdqth0000gn/T/ipykernel_95870/3735753696.py:12: FutureWarning: The argument 'date_parser' is deprecated and will be removed in a future version. Please use 'date_format' instead, or read your data in as 'object' dtype and then call 'to_datetime'.\n",
      "  tpxData = pd.read_csv('TPX_prices.csv', index_col=0, parse_dates=True, date_parser=custom_date_parser)\n"
     ]
    }
   ],
   "source": [
    "def custom_date_parser(date_str):\n",
    "    return datetime.strptime(date_str, '%d/%m/%Y')\n",
    "\n",
    "# Load the dictionary from the pickle file\n",
    "with open('pairsOutcome.pkl', 'rb') as file:\n",
    "    pairsOutcome = pickle.load(file);\n",
    "\n",
    "print(\"Dictionary loaded from pairsOutcome.pkl\")\n",
    "\n",
    "\n",
    "# Load stock data and get return \n",
    "tpxData = pd.read_csv('TPX_prices.csv', index_col=0, parse_dates=True, date_parser=custom_date_parser)\n",
    "tpxData = tpxData.dropna(axis='columns')\n",
    "return_df = (tpxData / tpxData.shift(1)) - 1"
   ]
  },
  {
   "cell_type": "code",
   "execution_count": 4,
   "metadata": {},
   "outputs": [
    {
     "data": {
      "text/plain": [
       "508"
      ]
     },
     "execution_count": 4,
     "metadata": {},
     "output_type": "execute_result"
    }
   ],
   "source": [
    "len(pairsOutcome)"
   ]
  },
  {
   "cell_type": "code",
   "execution_count": 5,
   "metadata": {},
   "outputs": [
    {
     "name": "stdout",
     "output_type": "stream",
     "text": [
      "Top 10 performing trades:\n",
      "1. Key: 1801 JP Equity 2670 JP Equity, Value: 2.5797887367591246\n",
      "2. Key: 3778 JP Equity 6701 JP Equity, Value: 2.537242032391529\n",
      "3. Key: 2760 JP Equity 6254 JP Equity, Value: 2.3688208386917404\n",
      "4. Key: 5706 JP Equity 6954 JP Equity, Value: 2.2676474298290237\n",
      "5. Key: 7951 JP Equity 9684 JP Equity, Value: 2.0657325467200596\n",
      "6. Key: 1808 JP Equity 6481 JP Equity, Value: 1.9929348941248262\n",
      "7. Key: 3099 JP Equity 5831 JP Equity, Value: 1.939742664925484\n",
      "8. Key: 1808 JP Equity 6971 JP Equity, Value: 1.9132602773493155\n",
      "9. Key: 4021 JP Equity 9843 JP Equity, Value: 1.8675031161000868\n",
      "10. Key: 5929 JP Equity 6504 JP Equity, Value: 1.811533049967201\n"
     ]
    }
   ],
   "source": [
    "# Sort the keys by their cumpnl[-2] values in descending order\n",
    "top_keys = sorted(\n",
    "    pairsOutcome,\n",
    "    key=lambda k: pairsOutcome[k].cumpnl.iloc[-2],  # Access cumpnl[-2] safely\n",
    "    reverse=True\n",
    ")[:10]  # Get the top 10 keys\n",
    "\n",
    "# Print the top 10 performing trades\n",
    "print(\"Top 10 performing trades:\")\n",
    "for i, key in enumerate(top_keys, 1):\n",
    "    print(f\"{i}. Key: {key}, Value: {pairsOutcome[key].cumpnl.iloc[-2]}\")"
   ]
  },
  {
   "cell_type": "code",
   "execution_count": 6,
   "metadata": {},
   "outputs": [],
   "source": [
    "## greatest return\n",
    "\n",
    "working_pair = pairsOutcome[top_keys[0]]"
   ]
  },
  {
   "cell_type": "code",
   "execution_count": 7,
   "metadata": {},
   "outputs": [
    {
     "data": {
      "text/html": [
       "<div>\n",
       "<style scoped>\n",
       "    .dataframe tbody tr th:only-of-type {\n",
       "        vertical-align: middle;\n",
       "    }\n",
       "\n",
       "    .dataframe tbody tr th {\n",
       "        vertical-align: top;\n",
       "    }\n",
       "\n",
       "    .dataframe thead th {\n",
       "        text-align: right;\n",
       "    }\n",
       "</style>\n",
       "<table border=\"1\" class=\"dataframe\">\n",
       "  <thead>\n",
       "    <tr style=\"text-align: right;\">\n",
       "      <th></th>\n",
       "      <th>spread</th>\n",
       "      <th>mid</th>\n",
       "      <th>1sd high</th>\n",
       "      <th>1sd low</th>\n",
       "      <th>2sd high</th>\n",
       "      <th>2sd low</th>\n",
       "      <th>position</th>\n",
       "      <th>1801 JP Equity position</th>\n",
       "      <th>2670 JP Equity position</th>\n",
       "    </tr>\n",
       "    <tr>\n",
       "      <th>Date</th>\n",
       "      <th></th>\n",
       "      <th></th>\n",
       "      <th></th>\n",
       "      <th></th>\n",
       "      <th></th>\n",
       "      <th></th>\n",
       "      <th></th>\n",
       "      <th></th>\n",
       "      <th></th>\n",
       "    </tr>\n",
       "  </thead>\n",
       "  <tbody>\n",
       "    <tr>\n",
       "      <th>1/1/2014</th>\n",
       "      <td>-447.679644</td>\n",
       "      <td>-609.316380</td>\n",
       "      <td>-482.301096</td>\n",
       "      <td>-736.331665</td>\n",
       "      <td>-355.285811</td>\n",
       "      <td>-863.346949</td>\n",
       "      <td>-1</td>\n",
       "      <td>-1</td>\n",
       "      <td>1</td>\n",
       "    </tr>\n",
       "    <tr>\n",
       "      <th>2/1/2014</th>\n",
       "      <td>-447.679644</td>\n",
       "      <td>-607.859204</td>\n",
       "      <td>-481.189674</td>\n",
       "      <td>-734.528735</td>\n",
       "      <td>-354.520143</td>\n",
       "      <td>-861.198265</td>\n",
       "      <td>-1</td>\n",
       "      <td>-1</td>\n",
       "      <td>1</td>\n",
       "    </tr>\n",
       "    <tr>\n",
       "      <th>3/1/2014</th>\n",
       "      <td>-447.679644</td>\n",
       "      <td>-606.402028</td>\n",
       "      <td>-480.096073</td>\n",
       "      <td>-732.707984</td>\n",
       "      <td>-353.790117</td>\n",
       "      <td>-859.013940</td>\n",
       "      <td>-1</td>\n",
       "      <td>-1</td>\n",
       "      <td>1</td>\n",
       "    </tr>\n",
       "    <tr>\n",
       "      <th>6/1/2014</th>\n",
       "      <td>-498.128143</td>\n",
       "      <td>-605.137404</td>\n",
       "      <td>-479.415988</td>\n",
       "      <td>-730.858820</td>\n",
       "      <td>-353.694572</td>\n",
       "      <td>-856.580237</td>\n",
       "      <td>0</td>\n",
       "      <td>0</td>\n",
       "      <td>0</td>\n",
       "    </tr>\n",
       "    <tr>\n",
       "      <th>7/1/2014</th>\n",
       "      <td>-499.575654</td>\n",
       "      <td>-604.036501</td>\n",
       "      <td>-478.660197</td>\n",
       "      <td>-729.412805</td>\n",
       "      <td>-353.283893</td>\n",
       "      <td>-854.789110</td>\n",
       "      <td>0</td>\n",
       "      <td>0</td>\n",
       "      <td>0</td>\n",
       "    </tr>\n",
       "    <tr>\n",
       "      <th>...</th>\n",
       "      <td>...</td>\n",
       "      <td>...</td>\n",
       "      <td>...</td>\n",
       "      <td>...</td>\n",
       "      <td>...</td>\n",
       "      <td>...</td>\n",
       "      <td>...</td>\n",
       "      <td>...</td>\n",
       "      <td>...</td>\n",
       "    </tr>\n",
       "    <tr>\n",
       "      <th>27/5/2024</th>\n",
       "      <td>-39.304773</td>\n",
       "      <td>-46.289714</td>\n",
       "      <td>319.903354</td>\n",
       "      <td>-412.482783</td>\n",
       "      <td>686.096423</td>\n",
       "      <td>-778.675852</td>\n",
       "      <td>0</td>\n",
       "      <td>0</td>\n",
       "      <td>0</td>\n",
       "    </tr>\n",
       "    <tr>\n",
       "      <th>28/5/2024</th>\n",
       "      <td>204.731719</td>\n",
       "      <td>-44.231112</td>\n",
       "      <td>321.850855</td>\n",
       "      <td>-410.313080</td>\n",
       "      <td>687.932823</td>\n",
       "      <td>-776.395048</td>\n",
       "      <td>0</td>\n",
       "      <td>0</td>\n",
       "      <td>0</td>\n",
       "    </tr>\n",
       "    <tr>\n",
       "      <th>29/5/2024</th>\n",
       "      <td>345.042254</td>\n",
       "      <td>-41.541554</td>\n",
       "      <td>324.802844</td>\n",
       "      <td>-407.885953</td>\n",
       "      <td>691.147243</td>\n",
       "      <td>-774.230351</td>\n",
       "      <td>-1</td>\n",
       "      <td>-1</td>\n",
       "      <td>1</td>\n",
       "    </tr>\n",
       "    <tr>\n",
       "      <th>30/5/2024</th>\n",
       "      <td>178.588811</td>\n",
       "      <td>-39.334254</td>\n",
       "      <td>326.585734</td>\n",
       "      <td>-405.254242</td>\n",
       "      <td>692.505722</td>\n",
       "      <td>-771.174230</td>\n",
       "      <td>0</td>\n",
       "      <td>0</td>\n",
       "      <td>0</td>\n",
       "    </tr>\n",
       "    <tr>\n",
       "      <th>31/5/2024</th>\n",
       "      <td>15.040724</td>\n",
       "      <td>-37.437415</td>\n",
       "      <td>327.466148</td>\n",
       "      <td>-402.340979</td>\n",
       "      <td>692.369711</td>\n",
       "      <td>-767.244542</td>\n",
       "      <td>0</td>\n",
       "      <td>0</td>\n",
       "      <td>0</td>\n",
       "    </tr>\n",
       "  </tbody>\n",
       "</table>\n",
       "<p>2718 rows × 9 columns</p>\n",
       "</div>"
      ],
      "text/plain": [
       "               spread         mid    1sd high     1sd low    2sd high  \\\n",
       "Date                                                                    \n",
       "1/1/2014  -447.679644 -609.316380 -482.301096 -736.331665 -355.285811   \n",
       "2/1/2014  -447.679644 -607.859204 -481.189674 -734.528735 -354.520143   \n",
       "3/1/2014  -447.679644 -606.402028 -480.096073 -732.707984 -353.790117   \n",
       "6/1/2014  -498.128143 -605.137404 -479.415988 -730.858820 -353.694572   \n",
       "7/1/2014  -499.575654 -604.036501 -478.660197 -729.412805 -353.283893   \n",
       "...               ...         ...         ...         ...         ...   \n",
       "27/5/2024  -39.304773  -46.289714  319.903354 -412.482783  686.096423   \n",
       "28/5/2024  204.731719  -44.231112  321.850855 -410.313080  687.932823   \n",
       "29/5/2024  345.042254  -41.541554  324.802844 -407.885953  691.147243   \n",
       "30/5/2024  178.588811  -39.334254  326.585734 -405.254242  692.505722   \n",
       "31/5/2024   15.040724  -37.437415  327.466148 -402.340979  692.369711   \n",
       "\n",
       "              2sd low  position  1801 JP Equity position  \\\n",
       "Date                                                       \n",
       "1/1/2014  -863.346949        -1                       -1   \n",
       "2/1/2014  -861.198265        -1                       -1   \n",
       "3/1/2014  -859.013940        -1                       -1   \n",
       "6/1/2014  -856.580237         0                        0   \n",
       "7/1/2014  -854.789110         0                        0   \n",
       "...               ...       ...                      ...   \n",
       "27/5/2024 -778.675852         0                        0   \n",
       "28/5/2024 -776.395048         0                        0   \n",
       "29/5/2024 -774.230351        -1                       -1   \n",
       "30/5/2024 -771.174230         0                        0   \n",
       "31/5/2024 -767.244542         0                        0   \n",
       "\n",
       "           2670 JP Equity position  \n",
       "Date                                \n",
       "1/1/2014                         1  \n",
       "2/1/2014                         1  \n",
       "3/1/2014                         1  \n",
       "6/1/2014                         0  \n",
       "7/1/2014                         0  \n",
       "...                            ...  \n",
       "27/5/2024                        0  \n",
       "28/5/2024                        0  \n",
       "29/5/2024                        1  \n",
       "30/5/2024                        0  \n",
       "31/5/2024                        0  \n",
       "\n",
       "[2718 rows x 9 columns]"
      ]
     },
     "execution_count": 7,
     "metadata": {},
     "output_type": "execute_result"
    }
   ],
   "source": [
    "working_pair = working_pair.iloc[261:]\n",
    "working_pair = working_pair.iloc[:, :-2]\n",
    "working_pair"
   ]
  },
  {
   "cell_type": "code",
   "execution_count": 8,
   "metadata": {},
   "outputs": [],
   "source": [
    "def count_consecutive(col):\n",
    "  \"\"\"\n",
    "  This function counts the length of consecutive -1 and 1 in a pandas Series.\n",
    "\n",
    "  Args:\n",
    "      col: The pandas Series containing the position values.\n",
    "\n",
    "  Returns:\n",
    "      A dictionary containing two DataFrames:\n",
    "          - 'minus_one_consecutive': DataFrame with lengths of consecutive -1.\n",
    "          - 'plus_one_consecutive': DataFrame with lengths of consecutive 1.\n",
    "  \"\"\"\n",
    "  minus_one_consecutive = []\n",
    "  plus_one_consecutive = []\n",
    "  count = 0\n",
    "  prev = None\n",
    "  for val in col:\n",
    "    if val == prev:\n",
    "      count += 1\n",
    "    else:\n",
    "      if prev == -1:\n",
    "        minus_one_consecutive.append(count)\n",
    "      elif prev == 1:\n",
    "        plus_one_consecutive.append(count)\n",
    "      count = 1\n",
    "    prev = val\n",
    "  if prev == -1:\n",
    "    minus_one_consecutive.append(count)\n",
    "  elif prev == 1:\n",
    "    plus_one_consecutive.append(count)\n",
    "\n",
    "  return {\n",
    "      'minus_one_consecutive': pd.DataFrame(minus_one_consecutive),\n",
    "      'plus_one_consecutive': pd.DataFrame(plus_one_consecutive)\n",
    "  }\n"
   ]
  },
  {
   "cell_type": "code",
   "execution_count": 9,
   "metadata": {},
   "outputs": [],
   "source": [
    "\n",
    "# Get results\n",
    "consecutive_lengths = count_consecutive(working_pair['position'])\n"
   ]
  },
  {
   "cell_type": "code",
   "execution_count": 10,
   "metadata": {},
   "outputs": [
    {
     "data": {
      "text/plain": [
       "{'minus_one_consecutive':      0\n",
       " 0    3\n",
       " 1    1\n",
       " 2    1\n",
       " 3    1\n",
       " 4    1\n",
       " ..  ..\n",
       " 110  3\n",
       " 111  9\n",
       " 112  2\n",
       " 113  3\n",
       " 114  1\n",
       " \n",
       " [115 rows x 1 columns],\n",
       " 'plus_one_consecutive':     0\n",
       " 0   5\n",
       " 1   3\n",
       " 2   1\n",
       " 3   1\n",
       " 4   5\n",
       " .. ..\n",
       " 76  6\n",
       " 77  5\n",
       " 78  4\n",
       " 79  2\n",
       " 80  5\n",
       " \n",
       " [81 rows x 1 columns]}"
      ]
     },
     "execution_count": 10,
     "metadata": {},
     "output_type": "execute_result"
    }
   ],
   "source": [
    "consecutive_lengths"
   ]
  },
  {
   "cell_type": "code",
   "execution_count": 11,
   "metadata": {},
   "outputs": [
    {
     "data": {
      "text/html": [
       "<div>\n",
       "<style scoped>\n",
       "    .dataframe tbody tr th:only-of-type {\n",
       "        vertical-align: middle;\n",
       "    }\n",
       "\n",
       "    .dataframe tbody tr th {\n",
       "        vertical-align: top;\n",
       "    }\n",
       "\n",
       "    .dataframe thead th {\n",
       "        text-align: right;\n",
       "    }\n",
       "</style>\n",
       "<table border=\"1\" class=\"dataframe\">\n",
       "  <thead>\n",
       "    <tr style=\"text-align: right;\">\n",
       "      <th></th>\n",
       "      <th>0</th>\n",
       "    </tr>\n",
       "  </thead>\n",
       "  <tbody>\n",
       "    <tr>\n",
       "      <th>count</th>\n",
       "      <td>115.000000</td>\n",
       "    </tr>\n",
       "    <tr>\n",
       "      <th>mean</th>\n",
       "      <td>4.208696</td>\n",
       "    </tr>\n",
       "    <tr>\n",
       "      <th>std</th>\n",
       "      <td>5.130739</td>\n",
       "    </tr>\n",
       "    <tr>\n",
       "      <th>min</th>\n",
       "      <td>1.000000</td>\n",
       "    </tr>\n",
       "    <tr>\n",
       "      <th>25%</th>\n",
       "      <td>1.000000</td>\n",
       "    </tr>\n",
       "    <tr>\n",
       "      <th>50%</th>\n",
       "      <td>2.000000</td>\n",
       "    </tr>\n",
       "    <tr>\n",
       "      <th>75%</th>\n",
       "      <td>4.000000</td>\n",
       "    </tr>\n",
       "    <tr>\n",
       "      <th>max</th>\n",
       "      <td>33.000000</td>\n",
       "    </tr>\n",
       "  </tbody>\n",
       "</table>\n",
       "</div>"
      ],
      "text/plain": [
       "                0\n",
       "count  115.000000\n",
       "mean     4.208696\n",
       "std      5.130739\n",
       "min      1.000000\n",
       "25%      1.000000\n",
       "50%      2.000000\n",
       "75%      4.000000\n",
       "max     33.000000"
      ]
     },
     "execution_count": 11,
     "metadata": {},
     "output_type": "execute_result"
    }
   ],
   "source": [
    "consecutive_lengths['minus_one_consecutive'].describe()\n"
   ]
  },
  {
   "cell_type": "code",
   "execution_count": 12,
   "metadata": {},
   "outputs": [
    {
     "data": {
      "text/html": [
       "<div>\n",
       "<style scoped>\n",
       "    .dataframe tbody tr th:only-of-type {\n",
       "        vertical-align: middle;\n",
       "    }\n",
       "\n",
       "    .dataframe tbody tr th {\n",
       "        vertical-align: top;\n",
       "    }\n",
       "\n",
       "    .dataframe thead th {\n",
       "        text-align: right;\n",
       "    }\n",
       "</style>\n",
       "<table border=\"1\" class=\"dataframe\">\n",
       "  <thead>\n",
       "    <tr style=\"text-align: right;\">\n",
       "      <th></th>\n",
       "      <th>0</th>\n",
       "    </tr>\n",
       "  </thead>\n",
       "  <tbody>\n",
       "    <tr>\n",
       "      <th>count</th>\n",
       "      <td>81.000000</td>\n",
       "    </tr>\n",
       "    <tr>\n",
       "      <th>mean</th>\n",
       "      <td>4.506173</td>\n",
       "    </tr>\n",
       "    <tr>\n",
       "      <th>std</th>\n",
       "      <td>5.657127</td>\n",
       "    </tr>\n",
       "    <tr>\n",
       "      <th>min</th>\n",
       "      <td>1.000000</td>\n",
       "    </tr>\n",
       "    <tr>\n",
       "      <th>25%</th>\n",
       "      <td>1.000000</td>\n",
       "    </tr>\n",
       "    <tr>\n",
       "      <th>50%</th>\n",
       "      <td>2.000000</td>\n",
       "    </tr>\n",
       "    <tr>\n",
       "      <th>75%</th>\n",
       "      <td>5.000000</td>\n",
       "    </tr>\n",
       "    <tr>\n",
       "      <th>max</th>\n",
       "      <td>27.000000</td>\n",
       "    </tr>\n",
       "  </tbody>\n",
       "</table>\n",
       "</div>"
      ],
      "text/plain": [
       "               0\n",
       "count  81.000000\n",
       "mean    4.506173\n",
       "std     5.657127\n",
       "min     1.000000\n",
       "25%     1.000000\n",
       "50%     2.000000\n",
       "75%     5.000000\n",
       "max    27.000000"
      ]
     },
     "execution_count": 12,
     "metadata": {},
     "output_type": "execute_result"
    }
   ],
   "source": [
    "consecutive_lengths['plus_one_consecutive'].describe()\n"
   ]
  },
  {
   "cell_type": "code",
   "execution_count": 13,
   "metadata": {},
   "outputs": [
    {
     "data": {
      "text/plain": [
       "484"
      ]
     },
     "execution_count": 13,
     "metadata": {},
     "output_type": "execute_result"
    }
   ],
   "source": [
    "consecutive_lengths['minus_one_consecutive'].values.sum()"
   ]
  },
  {
   "cell_type": "code",
   "execution_count": 14,
   "metadata": {},
   "outputs": [
    {
     "data": {
      "text/plain": [
       "365"
      ]
     },
     "execution_count": 14,
     "metadata": {},
     "output_type": "execute_result"
    }
   ],
   "source": [
    "consecutive_lengths['plus_one_consecutive'].values.sum()"
   ]
  },
  {
   "cell_type": "code",
   "execution_count": 15,
   "metadata": {},
   "outputs": [
    {
     "data": {
      "text/plain": [
       "849"
      ]
     },
     "execution_count": 15,
     "metadata": {},
     "output_type": "execute_result"
    }
   ],
   "source": [
    "consecutive_lengths['minus_one_consecutive'].values.sum() + consecutive_lengths['plus_one_consecutive'].values.sum()"
   ]
  },
  {
   "cell_type": "markdown",
   "metadata": {},
   "source": [
    "taking position 1038 out of 2718 days of trading"
   ]
  },
  {
   "cell_type": "code",
   "execution_count": 16,
   "metadata": {},
   "outputs": [
    {
     "name": "stdout",
     "output_type": "stream",
     "text": [
      "\n",
      "Total number of position changes: 392\n"
     ]
    }
   ],
   "source": [
    "# Count changes in position values\n",
    "position_changes = (working_pair['position'] != working_pair['position'].shift(1)).sum()\n",
    "\n",
    "# Print result\n",
    "print(\"\\nTotal number of position changes:\", position_changes)\n"
   ]
  },
  {
   "cell_type": "code",
   "execution_count": 17,
   "metadata": {},
   "outputs": [
    {
     "data": {
      "text/plain": [
       "'over 10.4 years means 33.6 ave trades per year'"
      ]
     },
     "execution_count": 17,
     "metadata": {},
     "output_type": "execute_result"
    }
   ],
   "source": [
    "f\"over {2718/261:.1f} years means {350/(2718/261):.1f} ave trades per year\""
   ]
  },
  {
   "cell_type": "code",
   "execution_count": 18,
   "metadata": {},
   "outputs": [
    {
     "data": {
      "text/plain": [
       "spread                     0\n",
       "mid                        0\n",
       "1sd high                   0\n",
       "1sd low                    0\n",
       "2sd high                   0\n",
       "2sd low                    0\n",
       "position                   0\n",
       "1801 JP Equity position    0\n",
       "2670 JP Equity position    0\n",
       "dtype: int64"
      ]
     },
     "execution_count": 18,
     "metadata": {},
     "output_type": "execute_result"
    }
   ],
   "source": [
    "working_pair.isna().sum()"
   ]
  },
  {
   "cell_type": "markdown",
   "metadata": {},
   "source": [
    "```   \n",
    "df.loc[(df['spread'] > df['1sd high']) & (df['spread'] < df['2sd high']), 'position'] = -1 \n",
    "df.loc[(df['spread']< df['1sd low']) & (df['spread'] > df['2sd low']), 'position'] = 1\n",
    "```\n",
    "### Level 1\n",
    "\n",
    "above is the line where we assign some weightage to the position size. \n",
    "\n",
    "1. If we can assign a challenge to the Q learner to let it decide how much to make this number for 10 pairs.\n",
    "2. Then we measure the total cum pnl \n",
    "3. Use that data to give a reward function\n",
    "\n",
    "### Level 2\n",
    "1. Only get learner to size when entering a trade. only give the Q learner state on the trade date\n",
    "\n",
    "### Level 3\n",
    "1. Daily sizing of trade"
   ]
  },
  {
   "cell_type": "code",
   "execution_count": 19,
   "metadata": {},
   "outputs": [
    {
     "data": {
      "text/html": [
       "<div>\n",
       "<style scoped>\n",
       "    .dataframe tbody tr th:only-of-type {\n",
       "        vertical-align: middle;\n",
       "    }\n",
       "\n",
       "    .dataframe tbody tr th {\n",
       "        vertical-align: top;\n",
       "    }\n",
       "\n",
       "    .dataframe thead th {\n",
       "        text-align: right;\n",
       "    }\n",
       "</style>\n",
       "<table border=\"1\" class=\"dataframe\">\n",
       "  <thead>\n",
       "    <tr style=\"text-align: right;\">\n",
       "      <th></th>\n",
       "      <th>spread</th>\n",
       "      <th>mid</th>\n",
       "      <th>1sd high</th>\n",
       "      <th>1sd low</th>\n",
       "      <th>2sd high</th>\n",
       "      <th>2sd low</th>\n",
       "      <th>position</th>\n",
       "      <th>1801 JP Equity position</th>\n",
       "      <th>2670 JP Equity position</th>\n",
       "    </tr>\n",
       "    <tr>\n",
       "      <th>Date</th>\n",
       "      <th></th>\n",
       "      <th></th>\n",
       "      <th></th>\n",
       "      <th></th>\n",
       "      <th></th>\n",
       "      <th></th>\n",
       "      <th></th>\n",
       "      <th></th>\n",
       "      <th></th>\n",
       "    </tr>\n",
       "  </thead>\n",
       "  <tbody>\n",
       "    <tr>\n",
       "      <th>1/1/2014</th>\n",
       "      <td>-447.679644</td>\n",
       "      <td>-609.316380</td>\n",
       "      <td>-482.301096</td>\n",
       "      <td>-736.331665</td>\n",
       "      <td>-355.285811</td>\n",
       "      <td>-863.346949</td>\n",
       "      <td>-1</td>\n",
       "      <td>-1</td>\n",
       "      <td>1</td>\n",
       "    </tr>\n",
       "    <tr>\n",
       "      <th>2/1/2014</th>\n",
       "      <td>-447.679644</td>\n",
       "      <td>-607.859204</td>\n",
       "      <td>-481.189674</td>\n",
       "      <td>-734.528735</td>\n",
       "      <td>-354.520143</td>\n",
       "      <td>-861.198265</td>\n",
       "      <td>-1</td>\n",
       "      <td>-1</td>\n",
       "      <td>1</td>\n",
       "    </tr>\n",
       "    <tr>\n",
       "      <th>3/1/2014</th>\n",
       "      <td>-447.679644</td>\n",
       "      <td>-606.402028</td>\n",
       "      <td>-480.096073</td>\n",
       "      <td>-732.707984</td>\n",
       "      <td>-353.790117</td>\n",
       "      <td>-859.013940</td>\n",
       "      <td>-1</td>\n",
       "      <td>-1</td>\n",
       "      <td>1</td>\n",
       "    </tr>\n",
       "    <tr>\n",
       "      <th>6/1/2014</th>\n",
       "      <td>-498.128143</td>\n",
       "      <td>-605.137404</td>\n",
       "      <td>-479.415988</td>\n",
       "      <td>-730.858820</td>\n",
       "      <td>-353.694572</td>\n",
       "      <td>-856.580237</td>\n",
       "      <td>0</td>\n",
       "      <td>0</td>\n",
       "      <td>0</td>\n",
       "    </tr>\n",
       "    <tr>\n",
       "      <th>7/1/2014</th>\n",
       "      <td>-499.575654</td>\n",
       "      <td>-604.036501</td>\n",
       "      <td>-478.660197</td>\n",
       "      <td>-729.412805</td>\n",
       "      <td>-353.283893</td>\n",
       "      <td>-854.789110</td>\n",
       "      <td>0</td>\n",
       "      <td>0</td>\n",
       "      <td>0</td>\n",
       "    </tr>\n",
       "    <tr>\n",
       "      <th>...</th>\n",
       "      <td>...</td>\n",
       "      <td>...</td>\n",
       "      <td>...</td>\n",
       "      <td>...</td>\n",
       "      <td>...</td>\n",
       "      <td>...</td>\n",
       "      <td>...</td>\n",
       "      <td>...</td>\n",
       "      <td>...</td>\n",
       "    </tr>\n",
       "    <tr>\n",
       "      <th>27/5/2024</th>\n",
       "      <td>-39.304773</td>\n",
       "      <td>-46.289714</td>\n",
       "      <td>319.903354</td>\n",
       "      <td>-412.482783</td>\n",
       "      <td>686.096423</td>\n",
       "      <td>-778.675852</td>\n",
       "      <td>0</td>\n",
       "      <td>0</td>\n",
       "      <td>0</td>\n",
       "    </tr>\n",
       "    <tr>\n",
       "      <th>28/5/2024</th>\n",
       "      <td>204.731719</td>\n",
       "      <td>-44.231112</td>\n",
       "      <td>321.850855</td>\n",
       "      <td>-410.313080</td>\n",
       "      <td>687.932823</td>\n",
       "      <td>-776.395048</td>\n",
       "      <td>0</td>\n",
       "      <td>0</td>\n",
       "      <td>0</td>\n",
       "    </tr>\n",
       "    <tr>\n",
       "      <th>29/5/2024</th>\n",
       "      <td>345.042254</td>\n",
       "      <td>-41.541554</td>\n",
       "      <td>324.802844</td>\n",
       "      <td>-407.885953</td>\n",
       "      <td>691.147243</td>\n",
       "      <td>-774.230351</td>\n",
       "      <td>-1</td>\n",
       "      <td>-1</td>\n",
       "      <td>1</td>\n",
       "    </tr>\n",
       "    <tr>\n",
       "      <th>30/5/2024</th>\n",
       "      <td>178.588811</td>\n",
       "      <td>-39.334254</td>\n",
       "      <td>326.585734</td>\n",
       "      <td>-405.254242</td>\n",
       "      <td>692.505722</td>\n",
       "      <td>-771.174230</td>\n",
       "      <td>0</td>\n",
       "      <td>0</td>\n",
       "      <td>0</td>\n",
       "    </tr>\n",
       "    <tr>\n",
       "      <th>31/5/2024</th>\n",
       "      <td>15.040724</td>\n",
       "      <td>-37.437415</td>\n",
       "      <td>327.466148</td>\n",
       "      <td>-402.340979</td>\n",
       "      <td>692.369711</td>\n",
       "      <td>-767.244542</td>\n",
       "      <td>0</td>\n",
       "      <td>0</td>\n",
       "      <td>0</td>\n",
       "    </tr>\n",
       "  </tbody>\n",
       "</table>\n",
       "<p>2718 rows × 9 columns</p>\n",
       "</div>"
      ],
      "text/plain": [
       "               spread         mid    1sd high     1sd low    2sd high  \\\n",
       "Date                                                                    \n",
       "1/1/2014  -447.679644 -609.316380 -482.301096 -736.331665 -355.285811   \n",
       "2/1/2014  -447.679644 -607.859204 -481.189674 -734.528735 -354.520143   \n",
       "3/1/2014  -447.679644 -606.402028 -480.096073 -732.707984 -353.790117   \n",
       "6/1/2014  -498.128143 -605.137404 -479.415988 -730.858820 -353.694572   \n",
       "7/1/2014  -499.575654 -604.036501 -478.660197 -729.412805 -353.283893   \n",
       "...               ...         ...         ...         ...         ...   \n",
       "27/5/2024  -39.304773  -46.289714  319.903354 -412.482783  686.096423   \n",
       "28/5/2024  204.731719  -44.231112  321.850855 -410.313080  687.932823   \n",
       "29/5/2024  345.042254  -41.541554  324.802844 -407.885953  691.147243   \n",
       "30/5/2024  178.588811  -39.334254  326.585734 -405.254242  692.505722   \n",
       "31/5/2024   15.040724  -37.437415  327.466148 -402.340979  692.369711   \n",
       "\n",
       "              2sd low  position  1801 JP Equity position  \\\n",
       "Date                                                       \n",
       "1/1/2014  -863.346949        -1                       -1   \n",
       "2/1/2014  -861.198265        -1                       -1   \n",
       "3/1/2014  -859.013940        -1                       -1   \n",
       "6/1/2014  -856.580237         0                        0   \n",
       "7/1/2014  -854.789110         0                        0   \n",
       "...               ...       ...                      ...   \n",
       "27/5/2024 -778.675852         0                        0   \n",
       "28/5/2024 -776.395048         0                        0   \n",
       "29/5/2024 -774.230351        -1                       -1   \n",
       "30/5/2024 -771.174230         0                        0   \n",
       "31/5/2024 -767.244542         0                        0   \n",
       "\n",
       "           2670 JP Equity position  \n",
       "Date                                \n",
       "1/1/2014                         1  \n",
       "2/1/2014                         1  \n",
       "3/1/2014                         1  \n",
       "6/1/2014                         0  \n",
       "7/1/2014                         0  \n",
       "...                            ...  \n",
       "27/5/2024                        0  \n",
       "28/5/2024                        0  \n",
       "29/5/2024                        1  \n",
       "30/5/2024                        0  \n",
       "31/5/2024                        0  \n",
       "\n",
       "[2718 rows x 9 columns]"
      ]
     },
     "execution_count": 19,
     "metadata": {},
     "output_type": "execute_result"
    }
   ],
   "source": [
    "working_pair"
   ]
  },
  {
   "cell_type": "code",
   "execution_count": null,
   "metadata": {},
   "outputs": [],
   "source": []
  }
 ],
 "metadata": {
  "kernelspec": {
   "display_name": "Python 3",
   "language": "python",
   "name": "python3"
  },
  "language_info": {
   "codemirror_mode": {
    "name": "ipython",
    "version": 3
   },
   "file_extension": ".py",
   "mimetype": "text/x-python",
   "name": "python",
   "nbconvert_exporter": "python",
   "pygments_lexer": "ipython3",
   "version": "3.12.0"
  }
 },
 "nbformat": 4,
 "nbformat_minor": 2
}
