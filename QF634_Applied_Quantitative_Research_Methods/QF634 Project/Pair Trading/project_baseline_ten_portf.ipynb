{
 "cells": [
  {
   "cell_type": "code",
   "execution_count": 1,
   "metadata": {},
   "outputs": [],
   "source": [
    "## anaconda3 (Python 3.9.13) Kernel\n",
    "\n",
    "import torch\n",
    "import torch.nn as nn\n",
    "import torch.optim as optim\n",
    "import numpy as np\n",
    "\n",
    "# pair trade packages\n",
    "import pandas as pd\n",
    "import numpy as np\n",
    "import matplotlib.pyplot as plt\n",
    "import pickle\n",
    "from datetime import datetime"
   ]
  },
  {
   "cell_type": "markdown",
   "metadata": {},
   "source": [
    "# Load Pairs Data\n"
   ]
  },
  {
   "cell_type": "code",
   "execution_count": 2,
   "metadata": {},
   "outputs": [
    {
     "name": "stdout",
     "output_type": "stream",
     "text": [
      "Dictionary loaded from pairsOutcome.pkl\n"
     ]
    }
   ],
   "source": [
    "def custom_date_parser(date_str):\n",
    "    return datetime.strptime(date_str, '%d/%m/%Y')\n",
    "\n",
    "# Load the dictionary from the pickle file\n",
    "with open('pairsOutcome.pkl', 'rb') as file:\n",
    "    pairsOutcome = pickle.load(file)\n",
    "\n",
    "print(\"Dictionary loaded from pairsOutcome.pkl\")\n",
    "\n",
    "\n",
    "# Load stock data and get return \n",
    "tpxData = pd.read_csv('TPX_prices.csv', index_col=0, parse_dates=True, date_parser=custom_date_parser)\n",
    "tpxData = tpxData.dropna(axis='columns')\n",
    "return_df = (tpxData / tpxData.shift(1)) - 1"
   ]
  },
  {
   "cell_type": "code",
   "execution_count": 3,
   "metadata": {},
   "outputs": [
    {
     "data": {
      "text/plain": [
       "508"
      ]
     },
     "execution_count": 3,
     "metadata": {},
     "output_type": "execute_result"
    }
   ],
   "source": [
    "len(pairsOutcome)"
   ]
  },
  {
   "cell_type": "markdown",
   "metadata": {},
   "source": [
    "# Get Pair Trade Portfolio\n",
    "`pairsOutcome` already have TOPIX stocks with highest liquidity and are tested for stationarity over a 1 year window\n",
    "\n",
    "Choose top 10 known pair trades by returns in the total dataset"
   ]
  },
  {
   "cell_type": "code",
   "execution_count": 4,
   "metadata": {},
   "outputs": [
    {
     "name": "stdout",
     "output_type": "stream",
     "text": [
      "Top 10 performing trades:\n",
      "1. Key: 1801 JP Equity 2670 JP Equity, Value: 2.5797887367591246\n",
      "2. Key: 3778 JP Equity 6701 JP Equity, Value: 2.537242032391529\n",
      "3. Key: 2760 JP Equity 6254 JP Equity, Value: 2.3688208386917404\n",
      "4. Key: 5706 JP Equity 6954 JP Equity, Value: 2.2676474298290237\n",
      "5. Key: 7951 JP Equity 9684 JP Equity, Value: 2.0657325467200596\n",
      "6. Key: 1808 JP Equity 6481 JP Equity, Value: 1.9929348941248262\n",
      "7. Key: 3099 JP Equity 5831 JP Equity, Value: 1.939742664925484\n",
      "8. Key: 1808 JP Equity 6971 JP Equity, Value: 1.9132602773493155\n",
      "9. Key: 4021 JP Equity 9843 JP Equity, Value: 1.8675031161000868\n",
      "10. Key: 5929 JP Equity 6504 JP Equity, Value: 1.811533049967201\n"
     ]
    }
   ],
   "source": [
    "# Sort the keys by their cumpnl[-2] values in descending order\n",
    "top_keys = sorted(\n",
    "    pairsOutcome,\n",
    "    key=lambda k: pairsOutcome[k].cumpnl.iloc[-2],  # Access cumpnl[-2] safely\n",
    "    reverse=True\n",
    ")[:10]  # Get the top 10 keys\n",
    "\n",
    "# Print the top 10 performing trades\n",
    "print(\"Top 10 performing trades:\")\n",
    "for i, key in enumerate(top_keys, 1):\n",
    "    print(f\"{i}. Key: {key}, Value: {pairsOutcome[key].cumpnl.iloc[-2]}\")"
   ]
  },
  {
   "cell_type": "markdown",
   "metadata": {},
   "source": [
    "## Calculate baseline Pair Trade Portfolio Returns\n",
    "\n",
    "Assume that each pair  and there is no diversification of returns. Each Pair Trade is self-funded and only has risk of 10% of initial investment (1 unit).\n",
    "\n",
    "2013 is used as warm up year to consolidate rolling window aggregate mid and Std dev data. Investment only starts from 2014."
   ]
  },
  {
   "cell_type": "code",
   "execution_count": 5,
   "metadata": {},
   "outputs": [
    {
     "data": {
      "text/html": [
       "<div>\n",
       "<style scoped>\n",
       "    .dataframe tbody tr th:only-of-type {\n",
       "        vertical-align: middle;\n",
       "    }\n",
       "\n",
       "    .dataframe tbody tr th {\n",
       "        vertical-align: top;\n",
       "    }\n",
       "\n",
       "    .dataframe thead th {\n",
       "        text-align: right;\n",
       "    }\n",
       "</style>\n",
       "<table border=\"1\" class=\"dataframe\">\n",
       "  <thead>\n",
       "    <tr style=\"text-align: right;\">\n",
       "      <th></th>\n",
       "      <th>dailypnl</th>\n",
       "      <th>dailypnl</th>\n",
       "      <th>dailypnl</th>\n",
       "      <th>dailypnl</th>\n",
       "      <th>dailypnl</th>\n",
       "      <th>dailypnl</th>\n",
       "      <th>dailypnl</th>\n",
       "      <th>dailypnl</th>\n",
       "      <th>dailypnl</th>\n",
       "      <th>dailypnl</th>\n",
       "    </tr>\n",
       "    <tr>\n",
       "      <th>Date</th>\n",
       "      <th></th>\n",
       "      <th></th>\n",
       "      <th></th>\n",
       "      <th></th>\n",
       "      <th></th>\n",
       "      <th></th>\n",
       "      <th></th>\n",
       "      <th></th>\n",
       "      <th></th>\n",
       "      <th></th>\n",
       "    </tr>\n",
       "  </thead>\n",
       "  <tbody>\n",
       "    <tr>\n",
       "      <th>1/1/2013</th>\n",
       "      <td>0.000000</td>\n",
       "      <td>0.000000</td>\n",
       "      <td>0.000000</td>\n",
       "      <td>0.000000</td>\n",
       "      <td>0.000000</td>\n",
       "      <td>0.000000</td>\n",
       "      <td>0.000000</td>\n",
       "      <td>0.000000</td>\n",
       "      <td>0.000000</td>\n",
       "      <td>0.000000</td>\n",
       "    </tr>\n",
       "    <tr>\n",
       "      <th>2/1/2013</th>\n",
       "      <td>0.000000</td>\n",
       "      <td>0.000000</td>\n",
       "      <td>0.000000</td>\n",
       "      <td>0.000000</td>\n",
       "      <td>0.000000</td>\n",
       "      <td>0.000000</td>\n",
       "      <td>0.000000</td>\n",
       "      <td>0.000000</td>\n",
       "      <td>0.000000</td>\n",
       "      <td>0.000000</td>\n",
       "    </tr>\n",
       "    <tr>\n",
       "      <th>3/1/2013</th>\n",
       "      <td>0.000000</td>\n",
       "      <td>0.000000</td>\n",
       "      <td>0.000000</td>\n",
       "      <td>0.000000</td>\n",
       "      <td>0.000000</td>\n",
       "      <td>0.000000</td>\n",
       "      <td>0.000000</td>\n",
       "      <td>0.000000</td>\n",
       "      <td>0.000000</td>\n",
       "      <td>0.000000</td>\n",
       "    </tr>\n",
       "    <tr>\n",
       "      <th>4/1/2013</th>\n",
       "      <td>0.000000</td>\n",
       "      <td>0.000000</td>\n",
       "      <td>0.000000</td>\n",
       "      <td>0.000000</td>\n",
       "      <td>0.000000</td>\n",
       "      <td>0.000000</td>\n",
       "      <td>0.000000</td>\n",
       "      <td>0.000000</td>\n",
       "      <td>0.000000</td>\n",
       "      <td>0.000000</td>\n",
       "    </tr>\n",
       "    <tr>\n",
       "      <th>7/1/2013</th>\n",
       "      <td>0.000000</td>\n",
       "      <td>0.000000</td>\n",
       "      <td>0.000000</td>\n",
       "      <td>0.000000</td>\n",
       "      <td>0.000000</td>\n",
       "      <td>0.000000</td>\n",
       "      <td>0.000000</td>\n",
       "      <td>0.000000</td>\n",
       "      <td>0.000000</td>\n",
       "      <td>0.000000</td>\n",
       "    </tr>\n",
       "    <tr>\n",
       "      <th>...</th>\n",
       "      <td>...</td>\n",
       "      <td>...</td>\n",
       "      <td>...</td>\n",
       "      <td>...</td>\n",
       "      <td>...</td>\n",
       "      <td>...</td>\n",
       "      <td>...</td>\n",
       "      <td>...</td>\n",
       "      <td>...</td>\n",
       "      <td>...</td>\n",
       "    </tr>\n",
       "    <tr>\n",
       "      <th>27/5/2024</th>\n",
       "      <td>2.552379</td>\n",
       "      <td>2.537242</td>\n",
       "      <td>2.368821</td>\n",
       "      <td>2.286593</td>\n",
       "      <td>2.065733</td>\n",
       "      <td>1.992935</td>\n",
       "      <td>1.939743</td>\n",
       "      <td>1.925137</td>\n",
       "      <td>1.871367</td>\n",
       "      <td>1.815232</td>\n",
       "    </tr>\n",
       "    <tr>\n",
       "      <th>28/5/2024</th>\n",
       "      <td>2.552379</td>\n",
       "      <td>2.537242</td>\n",
       "      <td>2.368821</td>\n",
       "      <td>2.283212</td>\n",
       "      <td>2.065733</td>\n",
       "      <td>1.992935</td>\n",
       "      <td>1.939743</td>\n",
       "      <td>1.925137</td>\n",
       "      <td>1.913829</td>\n",
       "      <td>1.839758</td>\n",
       "    </tr>\n",
       "    <tr>\n",
       "      <th>29/5/2024</th>\n",
       "      <td>2.579789</td>\n",
       "      <td>2.537242</td>\n",
       "      <td>2.368821</td>\n",
       "      <td>2.279302</td>\n",
       "      <td>2.065733</td>\n",
       "      <td>1.992935</td>\n",
       "      <td>1.939743</td>\n",
       "      <td>1.915545</td>\n",
       "      <td>1.874071</td>\n",
       "      <td>1.828446</td>\n",
       "    </tr>\n",
       "    <tr>\n",
       "      <th>30/5/2024</th>\n",
       "      <td>2.579789</td>\n",
       "      <td>2.537242</td>\n",
       "      <td>2.368821</td>\n",
       "      <td>2.267647</td>\n",
       "      <td>2.065733</td>\n",
       "      <td>1.992935</td>\n",
       "      <td>1.939743</td>\n",
       "      <td>1.913260</td>\n",
       "      <td>1.867503</td>\n",
       "      <td>1.811533</td>\n",
       "    </tr>\n",
       "    <tr>\n",
       "      <th>31/5/2024</th>\n",
       "      <td>NaN</td>\n",
       "      <td>NaN</td>\n",
       "      <td>NaN</td>\n",
       "      <td>NaN</td>\n",
       "      <td>NaN</td>\n",
       "      <td>NaN</td>\n",
       "      <td>NaN</td>\n",
       "      <td>NaN</td>\n",
       "      <td>NaN</td>\n",
       "      <td>NaN</td>\n",
       "    </tr>\n",
       "  </tbody>\n",
       "</table>\n",
       "<p>2979 rows × 10 columns</p>\n",
       "</div>"
      ],
      "text/plain": [
       "           dailypnl  dailypnl  dailypnl  dailypnl  dailypnl  dailypnl  \\\n",
       "Date                                                                    \n",
       "1/1/2013   0.000000  0.000000  0.000000  0.000000  0.000000  0.000000   \n",
       "2/1/2013   0.000000  0.000000  0.000000  0.000000  0.000000  0.000000   \n",
       "3/1/2013   0.000000  0.000000  0.000000  0.000000  0.000000  0.000000   \n",
       "4/1/2013   0.000000  0.000000  0.000000  0.000000  0.000000  0.000000   \n",
       "7/1/2013   0.000000  0.000000  0.000000  0.000000  0.000000  0.000000   \n",
       "...             ...       ...       ...       ...       ...       ...   \n",
       "27/5/2024  2.552379  2.537242  2.368821  2.286593  2.065733  1.992935   \n",
       "28/5/2024  2.552379  2.537242  2.368821  2.283212  2.065733  1.992935   \n",
       "29/5/2024  2.579789  2.537242  2.368821  2.279302  2.065733  1.992935   \n",
       "30/5/2024  2.579789  2.537242  2.368821  2.267647  2.065733  1.992935   \n",
       "31/5/2024       NaN       NaN       NaN       NaN       NaN       NaN   \n",
       "\n",
       "           dailypnl  dailypnl  dailypnl  dailypnl  \n",
       "Date                                               \n",
       "1/1/2013   0.000000  0.000000  0.000000  0.000000  \n",
       "2/1/2013   0.000000  0.000000  0.000000  0.000000  \n",
       "3/1/2013   0.000000  0.000000  0.000000  0.000000  \n",
       "4/1/2013   0.000000  0.000000  0.000000  0.000000  \n",
       "7/1/2013   0.000000  0.000000  0.000000  0.000000  \n",
       "...             ...       ...       ...       ...  \n",
       "27/5/2024  1.939743  1.925137  1.871367  1.815232  \n",
       "28/5/2024  1.939743  1.925137  1.913829  1.839758  \n",
       "29/5/2024  1.939743  1.915545  1.874071  1.828446  \n",
       "30/5/2024  1.939743  1.913260  1.867503  1.811533  \n",
       "31/5/2024       NaN       NaN       NaN       NaN  \n",
       "\n",
       "[2979 rows x 10 columns]"
      ]
     },
     "execution_count": 5,
     "metadata": {},
     "output_type": "execute_result"
    }
   ],
   "source": [
    "dailypnl_data = [pairsOutcome[key]['dailypnl'] for key in top_keys]\n",
    "\n",
    "df_daily_returns =  pd.DataFrame(dailypnl_data).T # Transpose to align rows\n",
    "df_daily_returns.cumsum()"
   ]
  },
  {
   "cell_type": "code",
   "execution_count": 6,
   "metadata": {},
   "outputs": [
    {
     "data": {
      "text/plain": [
       "'From 1 Jan 2014 investing 1 unit resulted in 31 May 2024 return 8.77 unit'"
      ]
     },
     "execution_count": 6,
     "metadata": {},
     "output_type": "execute_result"
    }
   ],
   "source": [
    "ten_portf_return = np.exp(df_daily_returns.cumsum().iloc[-2]).sum()/10\n",
    "f\"From 1 Jan 2014 investing 1 unit resulted in 31 May 2024 return {ten_portf_return:.2f} unit\""
   ]
  },
  {
   "cell_type": "code",
   "execution_count": 7,
   "metadata": {},
   "outputs": [
    {
     "data": {
      "text/plain": [
       "'Baseline Annual return is 20.68%'"
      ]
     },
     "execution_count": 7,
     "metadata": {},
     "output_type": "execute_result"
    }
   ],
   "source": [
    "f\"Baseline Annual return is {(np.log(ten_portf_return))/10.5*100:.2f}%\""
   ]
  },
  {
   "cell_type": "markdown",
   "metadata": {},
   "source": [
    "## Baseline graph\n",
    "\n",
    "Investing starts from 2014 as a warm start for 1 year rolling window (from 2013) we plot the total returns."
   ]
  },
  {
   "cell_type": "code",
   "execution_count": 8,
   "metadata": {},
   "outputs": [
    {
     "data": {
      "text/plain": [
       "count    2979.000000\n",
       "mean        3.293014\n",
       "std         2.025303\n",
       "min         0.992520\n",
       "25%         1.471005\n",
       "50%         2.709412\n",
       "75%         5.106194\n",
       "max         8.515421\n",
       "dtype: float64"
      ]
     },
     "execution_count": 8,
     "metadata": {},
     "output_type": "execute_result"
    }
   ],
   "source": [
    "df_port_return = df_daily_returns.cumsum().sum(axis=1)/10\n",
    "np.exp(df_port_return).describe()"
   ]
  },
  {
   "cell_type": "code",
   "execution_count": 9,
   "metadata": {},
   "outputs": [
    {
     "data": {
      "text/plain": [
       "Text(0.5, 1.0, 'Baseline returns')"
      ]
     },
     "execution_count": 9,
     "metadata": {},
     "output_type": "execute_result"
    },
    {
     "data": {
      "image/png": "[encoded data removed]",
      "text/plain": [
       "<Figure size 640x480 with 1 Axes>"
      ]
     },
     "metadata": {},
     "output_type": "display_data"
    }
   ],
   "source": [
    "df_daily_returns.cumsum()[262:-1].plot()\n",
    "plt.title(\"Baseline returns\")"
   ]
  },
  {
   "cell_type": "code",
   "execution_count": 10,
   "metadata": {},
   "outputs": [
    {
     "data": {
      "text/plain": [
       "count    2979.000000\n",
       "mean        3.288352\n",
       "std         1.794075\n",
       "min         0.000000\n",
       "25%         2.000000\n",
       "50%         3.000000\n",
       "75%         4.000000\n",
       "max         9.000000\n",
       "dtype: float64"
      ]
     },
     "execution_count": 10,
     "metadata": {},
     "output_type": "execute_result"
    }
   ],
   "source": [
    "postion_data = [pairsOutcome[key]['position'] for key in top_keys]\n",
    "\n",
    "pd.DataFrame(postion_data).T.abs().sum(axis=1).describe()"
   ]
  },
  {
   "cell_type": "markdown",
   "metadata": {},
   "source": [
    "# Machine Learning Challenge\n",
    "\n",
    "## Background\n",
    "Initial evaluation of the baseline portfolio shows that draw downs are small. Originally team had the idea of using Machine Learning to optimise for sizing of these pair trades. However since there was no significant drawdowns the returns are linearly increasing with investment sizing i.e. greater nominal investment in the the pair trade the proportionate increase in returns without realising significant drawdown risk.\n",
    "\n",
    "Instead of optimising for sizing, we can explore Machine Learning in terms of strategy on this stationary dataset. Whereas our prescribed strategy is to enter at +/- 1 std dev, exit at 0 with +/- 2 std dev stop loss. These are only suggestions and arbitrary levels.\n",
    "\n",
    "With Machine Learning, we can discover if it will uncover the mean reverting nature and recommend another threshhold. We use Q Learner to understand state space with the same spread, mid, std dev parameters as the baseline.\n",
    "\n",
    "### Steps\n",
    "#### Environment:\n",
    "- State Space: A set of all possible states the agent can be in.  \n",
    "  - [spread, mid, 2 sd low, 1 sd low, 1 sd high, 2 sd high]\n",
    "- Action Space: A set of all possible actions the agent can take in each state.   \n",
    "  - [-1, # short\\\n",
    "      0, # uninvested\\\n",
    "      1  # long]   \n",
    "- Reward Function: A function that assigns a numerical reward to each state-action pair, indicating the immediate consequence of taking a particular action in a specific state.\n",
    "  - dailypnl\n",
    "- Transition Function: A function that determines the probability of transitioning from one state to another when a particular action is taken.\n",
    "  - deterministic based on historical performance\n",
    "#### Agent:\n",
    "\n",
    "- Q-Table: A matrix that stores the estimated Q-values for each state-action pair. Q-values represent the expected future reward for taking a specific action in a given state.   \n",
    "  - continuous Q table?\n",
    "- Learning Rate (α): A parameter that controls how much the Q-values are updated with each new experience.   \n",
    "- Discount Factor (γ): A parameter that determines the importance of future rewards. A higher discount factor gives more weight to future rewards.   \n",
    "- Exploration Rate (ε): A parameter that controls the balance between exploration (trying new actions) and exploitation (choosing the action with the highest Q-value).   \n",
    "- Q-Learning Algorithm:\n",
    "\n",
    "  - Initialization: Initialize the Q-table with random values or zeros.   \n",
    "  - Exploration and Exploitation: Use an exploration strategy (e.g., ε-greedy) to choose an action:\n",
    "    - With probability ε, choose a random action.   \n",
    "    - With probability 1-ε, choose the action with the highest Q-value for the current state.   \n",
    "  \n",
    "  - Take Action: Execute the chosen action in the environment.   \n",
    "  - Observe Reward and Next State: Observe the immediate reward and the next state resulting from the action.\n",
    "- Update Q-Value: Update the Q-value of the current state-action pair using the following formula:\n",
    "\n",
    "#### Training and Test set\n",
    "\n",
    "2013 is used for warm start\\\n",
    "2014 - 2023 train data since NN need a lot of training data\\\n",
    "2024 onwards (5 months) test data\n"
   ]
  },
  {
   "cell_type": "code",
   "execution_count": 11,
   "metadata": {},
   "outputs": [],
   "source": [
    "## Get pair stock data\n",
    "def custom_date_parser(date_str):\n",
    "    return datetime.strptime(date_str, '%d/%m/%Y')\n",
    "valid = pd.read_csv('validPairs4.csv', \n",
    "                    index_col=0, \n",
    "                    parse_dates=True, \n",
    "                    date_parser=custom_date_parser)\n",
    "## get list of pair stocks\n",
    "validPairsList = [\n",
    "    [item.strip() + ' Equity' for item in pair.split('Equity') if item.strip()]\n",
    "    for pair in top_keys\n",
    "]"
   ]
  },
  {
   "cell_type": "code",
   "execution_count": 12,
   "metadata": {},
   "outputs": [],
   "source": [
    "rollingWindow = 262\n",
    "cutLossSd = 2"
   ]
  },
  {
   "cell_type": "code",
   "execution_count": null,
   "metadata": {},
   "outputs": [],
   "source": [
    "for pair in validPairsList:\n",
    "    df = pd.DataFrame()\n",
    "\n",
    "    #Calculate Standard Deviations\n",
    "    df['spread'] = valid[f'spread_{pair[0]}_{pair[1]}']\n",
    "    df['mid'] =  df['spread'].rolling(rollingWindow).mean()\n",
    "    df['1sd high'] = df['spread'].rolling(rollingWindow).mean() + df['spread'].rolling(rollingWindow).std()\n",
    "    df['1sd low'] = df['spread'].rolling(rollingWindow).mean() - df['spread'].rolling(rollingWindow).std()\n",
    "    df['2sd high'] = df['spread'].rolling(rollingWindow).mean() + df['spread'].rolling(rollingWindow).std() * cutLossSd\n",
    "    df['2sd low'] = df['spread'].rolling(rollingWindow).mean() - df['spread'].rolling(rollingWindow).std() * cutLossSd\n",
    "    df['position'] = 0\n",
    "\n",
    "    df.loc[(df['spread'] > df['1sd high']) & (df['spread'] < df['2sd high']), 'position'] = -1\n",
    "    df.loc[(df['spread']< df['1sd low']) & (df['spread'] > df['2sd low']), 'position'] = 1\n",
    "\n",
    "    #Calculate PnL\n",
    "    df[f'{pair[0]} position'] = df['position']\n",
    "    df[f'{pair[1]} position'] = df['position'] * -1\n",
    "    df['dailypnl'] = df[f'{pair[1]} position']*return_df[f'{pair[1]}'].shift(-1) + df[f'{pair[0]} position']*return_df[f'{pair[0]}'].shift(-1)\n",
    "    df['cumpnl'] = df['dailypnl'].cumsum()\n",
    "\n",
    "    pairsOutcome[f'{pair[0]} {pair[1]}'] = df"
   ]
  },
  {
   "cell_type": "code",
   "execution_count": 23,
   "metadata": {},
   "outputs": [
    {
     "data": {
      "text/plain": [
       "0.004531039271575721"
      ]
     },
     "execution_count": 23,
     "metadata": {},
     "output_type": "execute_result"
    }
   ],
   "source": [
    "-1*return_df[f'{pair[0]}'].iloc[1000+1] + 1*return_df[f'{pair[1]}'].iloc[1000+1]"
   ]
  },
  {
   "cell_type": "code",
   "execution_count": 28,
   "metadata": {},
   "outputs": [
    {
     "data": {
      "text/plain": [
       "(-0.013994910941475869, -0.013994910941475869)"
      ]
     },
     "execution_count": 28,
     "metadata": {},
     "output_type": "execute_result"
    }
   ],
   "source": [
    "return_df[f'{pair[0]}'].iloc[1000+1], return_df[f'{pair[0]}'].shift(-1).iloc[1000]"
   ]
  },
  {
   "cell_type": "code",
   "execution_count": 25,
   "metadata": {},
   "outputs": [
    {
     "data": {
      "text/plain": [
       "Date\n",
       "2016-10-31    0.000000\n",
       "2016-11-01   -0.002538\n",
       "2016-11-02   -0.013995\n",
       "Name: 1801 JP Equity, dtype: float64"
      ]
     },
     "execution_count": 25,
     "metadata": {},
     "output_type": "execute_result"
    }
   ],
   "source": [
    "return_df[f'{pair[0]}'].iloc[999:1002]"
   ]
  },
  {
   "cell_type": "code",
   "execution_count": 14,
   "metadata": {},
   "outputs": [
    {
     "data": {
      "text/plain": [
       "[['1801 JP Equity', '2670 JP Equity'],\n",
       " ['3778 JP Equity', '6701 JP Equity'],\n",
       " ['2760 JP Equity', '6254 JP Equity'],\n",
       " ['5706 JP Equity', '6954 JP Equity'],\n",
       " ['7951 JP Equity', '9684 JP Equity'],\n",
       " ['1808 JP Equity', '6481 JP Equity'],\n",
       " ['3099 JP Equity', '5831 JP Equity'],\n",
       " ['1808 JP Equity', '6971 JP Equity'],\n",
       " ['4021 JP Equity', '9843 JP Equity'],\n",
       " ['5929 JP Equity', '6504 JP Equity']]"
      ]
     },
     "execution_count": 14,
     "metadata": {},
     "output_type": "execute_result"
    }
   ],
   "source": [
    "validPairsList"
   ]
  },
  {
   "cell_type": "code",
   "execution_count": 15,
   "metadata": {},
   "outputs": [
    {
     "data": {
      "text/html": [
       "<div>\n",
       "<style scoped>\n",
       "    .dataframe tbody tr th:only-of-type {\n",
       "        vertical-align: middle;\n",
       "    }\n",
       "\n",
       "    .dataframe tbody tr th {\n",
       "        vertical-align: top;\n",
       "    }\n",
       "\n",
       "    .dataframe thead th {\n",
       "        text-align: right;\n",
       "    }\n",
       "</style>\n",
       "<table border=\"1\" class=\"dataframe\">\n",
       "  <thead>\n",
       "    <tr style=\"text-align: right;\">\n",
       "      <th></th>\n",
       "      <th>dailypnl</th>\n",
       "      <th>dailypnl</th>\n",
       "      <th>dailypnl</th>\n",
       "      <th>dailypnl</th>\n",
       "      <th>dailypnl</th>\n",
       "      <th>dailypnl</th>\n",
       "      <th>dailypnl</th>\n",
       "      <th>dailypnl</th>\n",
       "      <th>dailypnl</th>\n",
       "      <th>dailypnl</th>\n",
       "    </tr>\n",
       "    <tr>\n",
       "      <th>Date</th>\n",
       "      <th></th>\n",
       "      <th></th>\n",
       "      <th></th>\n",
       "      <th></th>\n",
       "      <th></th>\n",
       "      <th></th>\n",
       "      <th></th>\n",
       "      <th></th>\n",
       "      <th></th>\n",
       "      <th></th>\n",
       "    </tr>\n",
       "  </thead>\n",
       "  <tbody>\n",
       "    <tr>\n",
       "      <th>2013-01-01</th>\n",
       "      <td>0.000000</td>\n",
       "      <td>0.000000</td>\n",
       "      <td>0.000000</td>\n",
       "      <td>0.000000</td>\n",
       "      <td>0.000000</td>\n",
       "      <td>0.000000</td>\n",
       "      <td>0.000000</td>\n",
       "      <td>0.000000</td>\n",
       "      <td>0.000000</td>\n",
       "      <td>0.000000</td>\n",
       "    </tr>\n",
       "    <tr>\n",
       "      <th>2013-01-02</th>\n",
       "      <td>0.000000</td>\n",
       "      <td>0.000000</td>\n",
       "      <td>0.000000</td>\n",
       "      <td>0.000000</td>\n",
       "      <td>0.000000</td>\n",
       "      <td>0.000000</td>\n",
       "      <td>0.000000</td>\n",
       "      <td>0.000000</td>\n",
       "      <td>0.000000</td>\n",
       "      <td>0.000000</td>\n",
       "    </tr>\n",
       "    <tr>\n",
       "      <th>2013-01-03</th>\n",
       "      <td>0.000000</td>\n",
       "      <td>0.000000</td>\n",
       "      <td>0.000000</td>\n",
       "      <td>0.000000</td>\n",
       "      <td>0.000000</td>\n",
       "      <td>0.000000</td>\n",
       "      <td>0.000000</td>\n",
       "      <td>0.000000</td>\n",
       "      <td>0.000000</td>\n",
       "      <td>0.000000</td>\n",
       "    </tr>\n",
       "    <tr>\n",
       "      <th>2013-01-04</th>\n",
       "      <td>0.000000</td>\n",
       "      <td>0.000000</td>\n",
       "      <td>0.000000</td>\n",
       "      <td>0.000000</td>\n",
       "      <td>0.000000</td>\n",
       "      <td>0.000000</td>\n",
       "      <td>0.000000</td>\n",
       "      <td>0.000000</td>\n",
       "      <td>0.000000</td>\n",
       "      <td>0.000000</td>\n",
       "    </tr>\n",
       "    <tr>\n",
       "      <th>2013-01-07</th>\n",
       "      <td>0.000000</td>\n",
       "      <td>0.000000</td>\n",
       "      <td>0.000000</td>\n",
       "      <td>0.000000</td>\n",
       "      <td>0.000000</td>\n",
       "      <td>0.000000</td>\n",
       "      <td>0.000000</td>\n",
       "      <td>0.000000</td>\n",
       "      <td>0.000000</td>\n",
       "      <td>0.000000</td>\n",
       "    </tr>\n",
       "    <tr>\n",
       "      <th>...</th>\n",
       "      <td>...</td>\n",
       "      <td>...</td>\n",
       "      <td>...</td>\n",
       "      <td>...</td>\n",
       "      <td>...</td>\n",
       "      <td>...</td>\n",
       "      <td>...</td>\n",
       "      <td>...</td>\n",
       "      <td>...</td>\n",
       "      <td>...</td>\n",
       "    </tr>\n",
       "    <tr>\n",
       "      <th>2024-05-27</th>\n",
       "      <td>2.552379</td>\n",
       "      <td>2.537242</td>\n",
       "      <td>2.368821</td>\n",
       "      <td>2.286593</td>\n",
       "      <td>2.065733</td>\n",
       "      <td>1.992935</td>\n",
       "      <td>1.939743</td>\n",
       "      <td>1.925137</td>\n",
       "      <td>1.871367</td>\n",
       "      <td>1.815232</td>\n",
       "    </tr>\n",
       "    <tr>\n",
       "      <th>2024-05-28</th>\n",
       "      <td>2.552379</td>\n",
       "      <td>2.537242</td>\n",
       "      <td>2.368821</td>\n",
       "      <td>2.283212</td>\n",
       "      <td>2.065733</td>\n",
       "      <td>1.992935</td>\n",
       "      <td>1.939743</td>\n",
       "      <td>1.925137</td>\n",
       "      <td>1.913829</td>\n",
       "      <td>1.839758</td>\n",
       "    </tr>\n",
       "    <tr>\n",
       "      <th>2024-05-29</th>\n",
       "      <td>2.579789</td>\n",
       "      <td>2.537242</td>\n",
       "      <td>2.368821</td>\n",
       "      <td>2.279302</td>\n",
       "      <td>2.065733</td>\n",
       "      <td>1.992935</td>\n",
       "      <td>1.939743</td>\n",
       "      <td>1.915545</td>\n",
       "      <td>1.874071</td>\n",
       "      <td>1.828446</td>\n",
       "    </tr>\n",
       "    <tr>\n",
       "      <th>2024-05-30</th>\n",
       "      <td>2.579789</td>\n",
       "      <td>2.537242</td>\n",
       "      <td>2.368821</td>\n",
       "      <td>2.267647</td>\n",
       "      <td>2.065733</td>\n",
       "      <td>1.992935</td>\n",
       "      <td>1.939743</td>\n",
       "      <td>1.913260</td>\n",
       "      <td>1.867503</td>\n",
       "      <td>1.811533</td>\n",
       "    </tr>\n",
       "    <tr>\n",
       "      <th>2024-05-31</th>\n",
       "      <td>NaN</td>\n",
       "      <td>NaN</td>\n",
       "      <td>NaN</td>\n",
       "      <td>NaN</td>\n",
       "      <td>NaN</td>\n",
       "      <td>NaN</td>\n",
       "      <td>NaN</td>\n",
       "      <td>NaN</td>\n",
       "      <td>NaN</td>\n",
       "      <td>NaN</td>\n",
       "    </tr>\n",
       "  </tbody>\n",
       "</table>\n",
       "<p>2979 rows × 10 columns</p>\n",
       "</div>"
      ],
      "text/plain": [
       "            dailypnl  dailypnl  dailypnl  dailypnl  dailypnl  dailypnl  \\\n",
       "Date                                                                     \n",
       "2013-01-01  0.000000  0.000000  0.000000  0.000000  0.000000  0.000000   \n",
       "2013-01-02  0.000000  0.000000  0.000000  0.000000  0.000000  0.000000   \n",
       "2013-01-03  0.000000  0.000000  0.000000  0.000000  0.000000  0.000000   \n",
       "2013-01-04  0.000000  0.000000  0.000000  0.000000  0.000000  0.000000   \n",
       "2013-01-07  0.000000  0.000000  0.000000  0.000000  0.000000  0.000000   \n",
       "...              ...       ...       ...       ...       ...       ...   \n",
       "2024-05-27  2.552379  2.537242  2.368821  2.286593  2.065733  1.992935   \n",
       "2024-05-28  2.552379  2.537242  2.368821  2.283212  2.065733  1.992935   \n",
       "2024-05-29  2.579789  2.537242  2.368821  2.279302  2.065733  1.992935   \n",
       "2024-05-30  2.579789  2.537242  2.368821  2.267647  2.065733  1.992935   \n",
       "2024-05-31       NaN       NaN       NaN       NaN       NaN       NaN   \n",
       "\n",
       "            dailypnl  dailypnl  dailypnl  dailypnl  \n",
       "Date                                                \n",
       "2013-01-01  0.000000  0.000000  0.000000  0.000000  \n",
       "2013-01-02  0.000000  0.000000  0.000000  0.000000  \n",
       "2013-01-03  0.000000  0.000000  0.000000  0.000000  \n",
       "2013-01-04  0.000000  0.000000  0.000000  0.000000  \n",
       "2013-01-07  0.000000  0.000000  0.000000  0.000000  \n",
       "...              ...       ...       ...       ...  \n",
       "2024-05-27  1.939743  1.925137  1.871367  1.815232  \n",
       "2024-05-28  1.939743  1.925137  1.913829  1.839758  \n",
       "2024-05-29  1.939743  1.915545  1.874071  1.828446  \n",
       "2024-05-30  1.939743  1.913260  1.867503  1.811533  \n",
       "2024-05-31       NaN       NaN       NaN       NaN  \n",
       "\n",
       "[2979 rows x 10 columns]"
      ]
     },
     "execution_count": 15,
     "metadata": {},
     "output_type": "execute_result"
    }
   ],
   "source": [
    "dailypnl_data = [pairsOutcome[key]['dailypnl'] for key in top_keys]\n",
    "\n",
    "df_daily_returns =  pd.DataFrame(dailypnl_data).T # Transpose to align rows\n",
    "df_daily_returns.cumsum()"
   ]
  },
  {
   "cell_type": "code",
   "execution_count": 16,
   "metadata": {},
   "outputs": [
    {
     "data": {
      "text/plain": [
       "DatetimeIndex(['2013-01-01', '2013-01-02', '2013-01-03', '2013-01-04',\n",
       "               '2013-01-07', '2013-01-08', '2013-01-09', '2013-01-10',\n",
       "               '2013-01-11', '2013-01-14',\n",
       "               ...\n",
       "               '2024-05-20', '2024-05-21', '2024-05-22', '2024-05-23',\n",
       "               '2024-05-24', '2024-05-27', '2024-05-28', '2024-05-29',\n",
       "               '2024-05-30', '2024-05-31'],\n",
       "              dtype='datetime64[ns]', name='Date', length=2979, freq=None)"
      ]
     },
     "execution_count": 16,
     "metadata": {},
     "output_type": "execute_result"
    }
   ],
   "source": [
    "pairsOutcome[top_keys[0]].index"
   ]
  },
  {
   "cell_type": "code",
   "execution_count": null,
   "metadata": {},
   "outputs": [],
   "source": []
  }
 ],
 "metadata": {
  "kernelspec": {
   "display_name": "Python 3",
   "language": "python",
   "name": "python3"
  },
  "language_info": {
   "codemirror_mode": {
    "name": "ipython",
    "version": 3
   },
   "file_extension": ".py",
   "mimetype": "text/x-python",
   "name": "python",
   "nbconvert_exporter": "python",
   "pygments_lexer": "ipython3",
   "version": "3.9.13"
  }
 },
 "nbformat": 4,
 "nbformat_minor": 2
}
