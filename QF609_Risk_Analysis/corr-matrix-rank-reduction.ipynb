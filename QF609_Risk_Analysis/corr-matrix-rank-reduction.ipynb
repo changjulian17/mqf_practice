{
 "cells": [
  {
   "cell_type": "code",
   "execution_count": 2,
   "id": "5a6c7466-740e-4b0c-bcd6-b6e739fea1d3",
   "metadata": {},
   "outputs": [],
   "source": [
    "import numpy as np\n",
    "import os\n",
    "import math\n",
    "import pandas as pd\n",
    "from datetime import date as pdate\n",
    "from sklearn import linear_model\n",
    "from sklearn.metrics import r2_score\n",
    "import matplotlib.pyplot as plt\n",
    "import statistics"
   ]
  },
  {
   "cell_type": "code",
   "execution_count": 3,
   "id": "278ef285-ad46-4fff-9dee-a621b08ec5b3",
   "metadata": {},
   "outputs": [
    {
     "data": {
      "text/plain": [
       "(23.24993421972503,\n",
       " array([-1.85015760e-01, -5.01612288e-01, -6.54240592e-01, -2.17516006e-01,\n",
       "         4.32883406e-01, -2.00905550e-01,  1.61403996e-02,  9.01732099e-02,\n",
       "         3.85052105e-02,  1.59034313e-02, -2.23328962e-02,  2.65428895e-03,\n",
       "        -2.03718221e-02,  2.50960065e-03,  2.12911553e-03,  5.36264180e-04,\n",
       "         1.13497929e-05,  4.92228838e-05,  3.73190377e-06,  3.63584925e-05,\n",
       "         3.63554845e-05,  4.11688081e-05,  1.57374189e-05, -3.01937152e-05]))"
      ]
     },
     "execution_count": 3,
     "metadata": {},
     "output_type": "execute_result"
    }
   ],
   "source": [
    "# demo of rank reduction of a correlation matrix\n",
    "\n",
    "filepath = \"./data/sofr_hist_curves2.csv\" \n",
    "\n",
    "df_data = pd.read_csv(filepath, index_col = [\"Tenor\"]).T \n",
    "corr_matrix = df_data.corr()\n",
    "\n",
    "egval, egvec = np.linalg.eig(corr_matrix)\n",
    "\n",
    "egval[0], egvec[0]"
   ]
  },
  {
   "cell_type": "code",
   "execution_count": 29,
   "id": "1a58c458",
   "metadata": {},
   "outputs": [],
   "source": [
    "# target rank m\n",
    "m=5\n",
    "df_eigenvec = pd.DataFrame(egvec[:][:,0:m])     # E \n",
    "df_eigenval_sqrt = pd.DataFrame(np.sqrt(np.diag(egval[0:m])).tolist())  # sqrt(lambda)\n",
    "factor_loadings = pd.DataFrame(np.dot(df_eigenvec, df_eigenval_sqrt).tolist()) # H hat matrix\n",
    "norms = pd.DataFrame(np.dot(factor_loadings, factor_loadings.T).tolist()) # A matrix\n"
   ]
  },
  {
   "cell_type": "code",
   "execution_count": null,
   "id": "da6914e9",
   "metadata": {},
   "outputs": [],
   "source": []
  },
  {
   "cell_type": "code",
   "execution_count": null,
   "id": "2980e9e7",
   "metadata": {},
   "outputs": [],
   "source": [
    "\n",
    "rescaling = np.diag(np.reciprocal(np.sqrt(np.diag(norms.to_numpy()))))  # C matrix for scaling\n",
    "factor_loadings_rescaled = pd.DataFrame(np.dot(rescaling, np.dot(df_eigenvec, df_eigenval_sqrt).tolist()))  # H hat scaled = sqrt(C) * E hat * sqrt(lambda hat)\n",
    "corr_matrix_approx = pd.DataFrame(np.dot(factor_loadings_rescaled, factor_loadings_rescaled.T).tolist())    # A hat - new rank reduced correlation\n",
    "#print(corr_matrix_approx)\n",
    "#print(corr_matrix)\n",
    "print(pd.DataFrame(corr_matrix_approx.to_numpy() - corr_matrix.to_numpy()))\n",
    "\n",
    "egval"
   ]
  },
  {
   "cell_type": "code",
   "execution_count": 17,
   "id": "525a4980",
   "metadata": {},
   "outputs": [
    {
     "data": {
      "text/plain": [
       "array([[1.00000864, 0.        , 0.        , 0.        , 0.        ,\n",
       "        0.        , 0.        , 0.        , 0.        , 0.        ,\n",
       "        0.        , 0.        , 0.        , 0.        , 0.        ,\n",
       "        0.        , 0.        , 0.        , 0.        , 0.        ,\n",
       "        0.        , 0.        , 0.        , 0.        ],\n",
       "       [0.        , 1.00007191, 0.        , 0.        , 0.        ,\n",
       "        0.        , 0.        , 0.        , 0.        , 0.        ,\n",
       "        0.        , 0.        , 0.        , 0.        , 0.        ,\n",
       "        0.        , 0.        , 0.        , 0.        , 0.        ,\n",
       "        0.        , 0.        , 0.        , 0.        ],\n",
       "       [0.        , 0.        , 1.00001806, 0.        , 0.        ,\n",
       "        0.        , 0.        , 0.        , 0.        , 0.        ,\n",
       "        0.        , 0.        , 0.        , 0.        , 0.        ,\n",
       "        0.        , 0.        , 0.        , 0.        , 0.        ,\n",
       "        0.        , 0.        , 0.        , 0.        ],\n",
       "       [0.        , 0.        , 0.        , 1.00002842, 0.        ,\n",
       "        0.        , 0.        , 0.        , 0.        , 0.        ,\n",
       "        0.        , 0.        , 0.        , 0.        , 0.        ,\n",
       "        0.        , 0.        , 0.        , 0.        , 0.        ,\n",
       "        0.        , 0.        , 0.        , 0.        ],\n",
       "       [0.        , 0.        , 0.        , 0.        , 1.00003214,\n",
       "        0.        , 0.        , 0.        , 0.        , 0.        ,\n",
       "        0.        , 0.        , 0.        , 0.        , 0.        ,\n",
       "        0.        , 0.        , 0.        , 0.        , 0.        ,\n",
       "        0.        , 0.        , 0.        , 0.        ],\n",
       "       [0.        , 0.        , 0.        , 0.        , 0.        ,\n",
       "        1.00001697, 0.        , 0.        , 0.        , 0.        ,\n",
       "        0.        , 0.        , 0.        , 0.        , 0.        ,\n",
       "        0.        , 0.        , 0.        , 0.        , 0.        ,\n",
       "        0.        , 0.        , 0.        , 0.        ],\n",
       "       [0.        , 0.        , 0.        , 0.        , 0.        ,\n",
       "        0.        , 1.00001305, 0.        , 0.        , 0.        ,\n",
       "        0.        , 0.        , 0.        , 0.        , 0.        ,\n",
       "        0.        , 0.        , 0.        , 0.        , 0.        ,\n",
       "        0.        , 0.        , 0.        , 0.        ],\n",
       "       [0.        , 0.        , 0.        , 0.        , 0.        ,\n",
       "        0.        , 0.        , 1.00001311, 0.        , 0.        ,\n",
       "        0.        , 0.        , 0.        , 0.        , 0.        ,\n",
       "        0.        , 0.        , 0.        , 0.        , 0.        ,\n",
       "        0.        , 0.        , 0.        , 0.        ],\n",
       "       [0.        , 0.        , 0.        , 0.        , 0.        ,\n",
       "        0.        , 0.        , 0.        , 1.00001387, 0.        ,\n",
       "        0.        , 0.        , 0.        , 0.        , 0.        ,\n",
       "        0.        , 0.        , 0.        , 0.        , 0.        ,\n",
       "        0.        , 0.        , 0.        , 0.        ],\n",
       "       [0.        , 0.        , 0.        , 0.        , 0.        ,\n",
       "        0.        , 0.        , 0.        , 0.        , 1.00001824,\n",
       "        0.        , 0.        , 0.        , 0.        , 0.        ,\n",
       "        0.        , 0.        , 0.        , 0.        , 0.        ,\n",
       "        0.        , 0.        , 0.        , 0.        ],\n",
       "       [0.        , 0.        , 0.        , 0.        , 0.        ,\n",
       "        0.        , 0.        , 0.        , 0.        , 0.        ,\n",
       "        1.00001685, 0.        , 0.        , 0.        , 0.        ,\n",
       "        0.        , 0.        , 0.        , 0.        , 0.        ,\n",
       "        0.        , 0.        , 0.        , 0.        ],\n",
       "       [0.        , 0.        , 0.        , 0.        , 0.        ,\n",
       "        0.        , 0.        , 0.        , 0.        , 0.        ,\n",
       "        0.        , 1.00001525, 0.        , 0.        , 0.        ,\n",
       "        0.        , 0.        , 0.        , 0.        , 0.        ,\n",
       "        0.        , 0.        , 0.        , 0.        ],\n",
       "       [0.        , 0.        , 0.        , 0.        , 0.        ,\n",
       "        0.        , 0.        , 0.        , 0.        , 0.        ,\n",
       "        0.        , 0.        , 1.00001198, 0.        , 0.        ,\n",
       "        0.        , 0.        , 0.        , 0.        , 0.        ,\n",
       "        0.        , 0.        , 0.        , 0.        ],\n",
       "       [0.        , 0.        , 0.        , 0.        , 0.        ,\n",
       "        0.        , 0.        , 0.        , 0.        , 0.        ,\n",
       "        0.        , 0.        , 0.        , 1.00000886, 0.        ,\n",
       "        0.        , 0.        , 0.        , 0.        , 0.        ,\n",
       "        0.        , 0.        , 0.        , 0.        ],\n",
       "       [0.        , 0.        , 0.        , 0.        , 0.        ,\n",
       "        0.        , 0.        , 0.        , 0.        , 0.        ,\n",
       "        0.        , 0.        , 0.        , 0.        , 1.00000753,\n",
       "        0.        , 0.        , 0.        , 0.        , 0.        ,\n",
       "        0.        , 0.        , 0.        , 0.        ],\n",
       "       [0.        , 0.        , 0.        , 0.        , 0.        ,\n",
       "        0.        , 0.        , 0.        , 0.        , 0.        ,\n",
       "        0.        , 0.        , 0.        , 0.        , 0.        ,\n",
       "        1.00000607, 0.        , 0.        , 0.        , 0.        ,\n",
       "        0.        , 0.        , 0.        , 0.        ],\n",
       "       [0.        , 0.        , 0.        , 0.        , 0.        ,\n",
       "        0.        , 0.        , 0.        , 0.        , 0.        ,\n",
       "        0.        , 0.        , 0.        , 0.        , 0.        ,\n",
       "        0.        , 1.00000582, 0.        , 0.        , 0.        ,\n",
       "        0.        , 0.        , 0.        , 0.        ],\n",
       "       [0.        , 0.        , 0.        , 0.        , 0.        ,\n",
       "        0.        , 0.        , 0.        , 0.        , 0.        ,\n",
       "        0.        , 0.        , 0.        , 0.        , 0.        ,\n",
       "        0.        , 0.        , 1.0000083 , 0.        , 0.        ,\n",
       "        0.        , 0.        , 0.        , 0.        ],\n",
       "       [0.        , 0.        , 0.        , 0.        , 0.        ,\n",
       "        0.        , 0.        , 0.        , 0.        , 0.        ,\n",
       "        0.        , 0.        , 0.        , 0.        , 0.        ,\n",
       "        0.        , 0.        , 0.        , 1.00001283, 0.        ,\n",
       "        0.        , 0.        , 0.        , 0.        ],\n",
       "       [0.        , 0.        , 0.        , 0.        , 0.        ,\n",
       "        0.        , 0.        , 0.        , 0.        , 0.        ,\n",
       "        0.        , 0.        , 0.        , 0.        , 0.        ,\n",
       "        0.        , 0.        , 0.        , 0.        , 1.00001727,\n",
       "        0.        , 0.        , 0.        , 0.        ],\n",
       "       [0.        , 0.        , 0.        , 0.        , 0.        ,\n",
       "        0.        , 0.        , 0.        , 0.        , 0.        ,\n",
       "        0.        , 0.        , 0.        , 0.        , 0.        ,\n",
       "        0.        , 0.        , 0.        , 0.        , 0.        ,\n",
       "        1.00004044, 0.        , 0.        , 0.        ],\n",
       "       [0.        , 0.        , 0.        , 0.        , 0.        ,\n",
       "        0.        , 0.        , 0.        , 0.        , 0.        ,\n",
       "        0.        , 0.        , 0.        , 0.        , 0.        ,\n",
       "        0.        , 0.        , 0.        , 0.        , 0.        ,\n",
       "        0.        , 1.00004302, 0.        , 0.        ],\n",
       "       [0.        , 0.        , 0.        , 0.        , 0.        ,\n",
       "        0.        , 0.        , 0.        , 0.        , 0.        ,\n",
       "        0.        , 0.        , 0.        , 0.        , 0.        ,\n",
       "        0.        , 0.        , 0.        , 0.        , 0.        ,\n",
       "        0.        , 0.        , 1.00000924, 0.        ],\n",
       "       [0.        , 0.        , 0.        , 0.        , 0.        ,\n",
       "        0.        , 0.        , 0.        , 0.        , 0.        ,\n",
       "        0.        , 0.        , 0.        , 0.        , 0.        ,\n",
       "        0.        , 0.        , 0.        , 0.        , 0.        ,\n",
       "        0.        , 0.        , 0.        , 1.00004392]])"
      ]
     },
     "execution_count": 17,
     "metadata": {},
     "output_type": "execute_result"
    }
   ],
   "source": [
    "rescaling"
   ]
  },
  {
   "cell_type": "code",
   "execution_count": 45,
   "id": "9920b3ca-d8a3-47e6-a5a6-148facf8c6ce",
   "metadata": {},
   "outputs": [
    {
     "data": {
      "text/plain": [
       "array([[2.8   , 0.    , 0.    ],\n",
       "       [0.    , 0.8889, 0.    ],\n",
       "       [0.    , 0.    , 0.3078]])"
      ]
     },
     "execution_count": 45,
     "metadata": {},
     "output_type": "execute_result"
    }
   ],
   "source": [
    "# eigen vectors in one matrix\n",
    "E_hat = np.array(\n",
    "    [[0.5703, 0.2977, -.1687],\n",
    "     [0.4716, 0.6229, 0.3192],\n",
    "     [0.512, -0.3821, -.6639],\n",
    "     [0.4361, -.6143, .6549]]\n",
    ")\n",
    "# eigen values in one matrix\n",
    "lambda_hat = np.diag(np.array([2.8, .8889, .3078]))\n",
    "lambda_hat"
   ]
  },
  {
   "cell_type": "code",
   "execution_count": 48,
   "id": "3791c557",
   "metadata": {},
   "outputs": [
    {
     "data": {
      "text/plain": [
       "array([[0.99821676, 0.90133025, 0.75094224, 0.49981622],\n",
       "       [0.90133025, 0.99899681, 0.39929058, 0.30006976],\n",
       "       [0.75094224, 0.39929058, 0.99944988, 0.70001137],\n",
       "       [0.49981622, 0.30006976, 0.70001137, 0.99996586]])"
      ]
     },
     "execution_count": 48,
     "metadata": {},
     "output_type": "execute_result"
    }
   ],
   "source": [
    "# compute the factor loadings or new H or Principal Components (PC)\n",
    "H_hat = E_hat @ np.sqrt(lambda_hat)\n",
    "H_hat @ H_hat.T     # display the resultant correlation matrix"
   ]
  },
  {
   "cell_type": "code",
   "execution_count": null,
   "id": "75bccdb4",
   "metadata": {},
   "outputs": [
    {
     "data": {
      "text/plain": [
       "array([[1.        , 0.90258782, 0.75181952, 0.500271  ],\n",
       "       [0.90258782, 1.        , 0.39960094, 0.30022551],\n",
       "       [0.75181952, 0.39960094, 1.        , 0.70021595],\n",
       "       [0.500271  , 0.30022551, 0.70021595, 1.        ]])"
      ]
     },
     "execution_count": 44,
     "metadata": {},
     "output_type": "execute_result"
    }
   ],
   "source": [
    "# Notice above does not have 1 for the variances whereas the data is standardised e.g. X_1 ~ N(0,1)\n",
    "# so it should be 1. Perform the following to normalise the corr matrix\n",
    "norms = H_hat @ H_hat.T\n",
    "# find scaling matrix\n",
    "rescaling = np.diag(np.reciprocal(np.sqrt(np.diag(norms))))\n",
    "# scale H_hat and finc correlation matrix again\n",
    "H_hat_scaled = rescaling @ H_hat\n",
    "H_hat_scaled @ H_hat_scaled.T"
   ]
  },
  {
   "cell_type": "code",
   "execution_count": null,
   "id": "caf45cb0",
   "metadata": {},
   "outputs": [],
   "source": []
  }
 ],
 "metadata": {
  "kernelspec": {
   "display_name": "Python 3",
   "language": "python",
   "name": "python3"
  },
  "language_info": {
   "codemirror_mode": {
    "name": "ipython",
    "version": 3
   },
   "file_extension": ".py",
   "mimetype": "text/x-python",
   "name": "python",
   "nbconvert_exporter": "python",
   "pygments_lexer": "ipython3",
   "version": "3.12.0"
  }
 },
 "nbformat": 4,
 "nbformat_minor": 5
}
