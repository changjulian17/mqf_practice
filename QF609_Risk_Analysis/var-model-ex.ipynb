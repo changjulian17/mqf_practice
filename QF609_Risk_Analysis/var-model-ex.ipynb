{
 "cells": [
  {
   "cell_type": "code",
   "execution_count": 1,
   "id": "0916fd52-43ba-4d15-b2d5-05084c7e6148",
   "metadata": {},
   "outputs": [],
   "source": [
    "# Python calculation for the example and exercise from Lecture 4 notes\n",
    "import numpy as np\n",
    "import os\n",
    "import math\n",
    "import pandas as pd\n",
    "import scipy.stats as stat\n",
    "import scipy.interpolate\n",
    "import statistics"
   ]
  },
  {
   "cell_type": "markdown",
   "id": "e38f84ea-240b-4c93-97f3-02c2828e4d62",
   "metadata": {},
   "source": [
    "<img src=\"attachment:cda85664-5f24-49cf-b6d6-af17b4e3c1ac.png\" width=\"500\">"
   ]
  },
  {
   "cell_type": "code",
   "execution_count": 3,
   "id": "a0de7b21-5470-4116-9e17-88e13b5a5eb9",
   "metadata": {},
   "outputs": [
    {
     "name": "stdout",
     "output_type": "stream",
     "text": [
      "The 10-day 99% VaR using the parametric VaR model is equal to: 197,746\n"
     ]
    }
   ],
   "source": [
    "mu = [0.000356, 0.000267, 0.000133, 0.000153]\n",
    "sigma = [[0.00007, 0.0001, -0.000045, 0.000068],\n",
    "         [0.0001, 0.0004, -0.00008, 0.000241],\n",
    "         [-0.000045, -0.00008, 0.000178, -0.000118],\n",
    "         [0.000068, 0.000241, -0.000118, 0.000324]\n",
    "        ]\n",
    "# State mean and cov matrix and weights\n",
    "mu10d = np.multiply(mu, 10)\n",
    "sigma10d = np.multiply(sigma, 10)\n",
    "w = np.array([1000000, 1000000, 1000000, 400000])\n",
    "\n",
    "\n",
    "meanL = np.inner(w, mu10d) + 2500 * (0.001 * 10) / 0.01 \n",
    "varianceL = np.dot(np.dot(w, sigma10d), np.transpose(w)) + 2500 * 2500 * 0.0005 * 0.0005 * 10\n",
    "\n",
    "var = np.abs(stat.norm.ppf(0.01, loc=meanL, scale=np.sqrt(varianceL)))\n",
    "print(f\"The 10-day 99% VaR using the parametric VaR model is equal to: {var:,.0f}\")"
   ]
  },
  {
   "cell_type": "markdown",
   "id": "30b8f05d-83ee-4eda-a26f-dceb306cfd15",
   "metadata": {},
   "source": [
    "<img src=\"attachment:88087327-b92c-4f3d-bdfe-bdcdfa6ebf04.png\" width=\"600\">"
   ]
  },
  {
   "cell_type": "code",
   "execution_count": 13,
   "id": "0c91367c",
   "metadata": {},
   "outputs": [
    {
     "data": {
      "text/plain": [
       "'/Users/ju/Projects/00_SMU/mqf_practice/QF609_Risk_Analysis'"
      ]
     },
     "execution_count": 13,
     "metadata": {},
     "output_type": "execute_result"
    }
   ],
   "source": [
    "os.getcwd()"
   ]
  },
  {
   "cell_type": "code",
   "execution_count": 41,
   "id": "def8bac5-ec51-4b26-b766-0a0e886926fc",
   "metadata": {},
   "outputs": [
    {
     "data": {
      "application/vnd.microsoft.datawrangler.viewer.v0+json": {
       "columns": [
        {
         "name": "index",
         "rawType": "object",
         "type": "string"
        },
        {
         "name": "appl",
         "rawType": "float64",
         "type": "float"
        },
        {
         "name": "dbs",
         "rawType": "float64",
         "type": "float"
        },
        {
         "name": "usdsgd",
         "rawType": "float64",
         "type": "float"
        }
       ],
       "conversionMethod": "pd.DataFrame",
       "ref": "deeb5034-a3e3-43be-8e86-fc6ff06b6a57",
       "rows": [
        [
         "appl",
         "1.0",
         "0.20324888966177265",
         "-0.15244514404622903"
        ],
        [
         "dbs",
         "0.20324888966177265",
         "1.0",
         "-0.06770290578708177"
        ],
        [
         "usdsgd",
         "-0.15244514404622903",
         "-0.06770290578708177",
         "1.0"
        ]
       ],
       "shape": {
        "columns": 3,
        "rows": 3
       }
      },
      "text/html": [
       "<div>\n",
       "<style scoped>\n",
       "    .dataframe tbody tr th:only-of-type {\n",
       "        vertical-align: middle;\n",
       "    }\n",
       "\n",
       "    .dataframe tbody tr th {\n",
       "        vertical-align: top;\n",
       "    }\n",
       "\n",
       "    .dataframe thead th {\n",
       "        text-align: right;\n",
       "    }\n",
       "</style>\n",
       "<table border=\"1\" class=\"dataframe\">\n",
       "  <thead>\n",
       "    <tr style=\"text-align: right;\">\n",
       "      <th></th>\n",
       "      <th>appl</th>\n",
       "      <th>dbs</th>\n",
       "      <th>usdsgd</th>\n",
       "    </tr>\n",
       "  </thead>\n",
       "  <tbody>\n",
       "    <tr>\n",
       "      <th>appl</th>\n",
       "      <td>1.000000</td>\n",
       "      <td>0.203249</td>\n",
       "      <td>-0.152445</td>\n",
       "    </tr>\n",
       "    <tr>\n",
       "      <th>dbs</th>\n",
       "      <td>0.203249</td>\n",
       "      <td>1.000000</td>\n",
       "      <td>-0.067703</td>\n",
       "    </tr>\n",
       "    <tr>\n",
       "      <th>usdsgd</th>\n",
       "      <td>-0.152445</td>\n",
       "      <td>-0.067703</td>\n",
       "      <td>1.000000</td>\n",
       "    </tr>\n",
       "  </tbody>\n",
       "</table>\n",
       "</div>"
      ],
      "text/plain": [
       "            appl       dbs    usdsgd\n",
       "appl    1.000000  0.203249 -0.152445\n",
       "dbs     0.203249  1.000000 -0.067703\n",
       "usdsgd -0.152445 -0.067703  1.000000"
      ]
     },
     "execution_count": 41,
     "metadata": {},
     "output_type": "execute_result"
    }
   ],
   "source": [
    "file_path = \"./data/\"\n",
    "offset = 693594\n",
    "\n",
    "df_appl = pd.read_csv(file_path + \"AAPL.csv\").set_index('Date')\n",
    "df_appl.index = pd.to_datetime(df_appl.index).date\n",
    "df_appl = df_appl.sort_index()\n",
    "\n",
    "df_dbs = pd.read_csv(file_path + \"DBS.csv\").set_index('Date')\n",
    "df_dbs.index = pd.to_datetime(df_dbs.index).date\n",
    "df_dbs = df_dbs.sort_index()\n",
    "\n",
    "df_usdsgd = pd.read_csv(file_path + \"USDSGD.csv\").set_index('Date')\n",
    "df_usdsgd.index = pd.to_datetime(df_usdsgd.index).date\n",
    "df_usdsgd = df_usdsgd.sort_index()\n",
    "\n",
    "\n",
    "d1 = [ d.toordinal()-693594  for d in df_appl.index.tolist()]\n",
    "p1 = df_appl['Close'].tolist()\n",
    "interp1 =  scipy.interpolate.interp1d(d1, p1)\n",
    "\n",
    "d2 = [ d.toordinal()-693594  for d in df_dbs.index.tolist()]\n",
    "p2 = df_dbs['Close'].tolist()\n",
    "interp2 =  scipy.interpolate.interp1d(d2, p2)\n",
    "\n",
    "d3 = [ d.toordinal()-693594  for d in df_usdsgd.index.tolist()]\n",
    "p3 = df_usdsgd['Close'].tolist()\n",
    "interp3 =  scipy.interpolate.interp1d(d3, p3)\n",
    "\n",
    "dlist = list(set(d1) | set(d2) | set(d3))\n",
    "\n",
    "numchg = len(dlist)-1\n",
    "appl = [ interp1(dlist[i+1]).flat[0] / interp1(dlist[i]).flat[0] - 1.0  for i in range(numchg) ]\n",
    "dbs = [ interp2(dlist[i+1]).flat[0] / interp2(dlist[i]).flat[0] - 1.0  for i in range(numchg) ]\n",
    "usdsgd = [ interp3(dlist[i+1]).flat[0] / interp3(dlist[i]).flat[0] - 1.0  for i in range(numchg) ]\n",
    "\n",
    "alldata = { 'appl' : appl,\n",
    "           'dbs' : dbs,\n",
    "           'usdsgd' : usdsgd }\n",
    "\n",
    "df_all = pd.DataFrame(alldata, columns=['appl', 'dbs', 'usdsgd'])\n",
    "\n",
    "corr_mat = df_all.corr()\n",
    "\n",
    "appl_mean = np.average(appl)\n",
    "appl_std = statistics.stdev(appl)\n",
    "dbs_mean = np.average(dbs)\n",
    "dbs_std = statistics.stdev(dbs)\n",
    "usdsgd_mean = np.average(usdsgd)\n",
    "usdsgd_std = statistics.stdev(usdsgd)\n",
    "\n",
    "corr_mat"
   ]
  },
  {
   "cell_type": "code",
   "execution_count": null,
   "id": "1d1df5d5",
   "metadata": {},
   "outputs": [
    {
     "name": "stdout",
     "output_type": "stream",
     "text": [
      "====== means =======\n"
     ]
    },
    {
     "data": {
      "text/plain": [
       "(0.0008041651892999006, 0.001640276168029794, 3.426939636855486e-05)"
      ]
     },
     "execution_count": 42,
     "metadata": {},
     "output_type": "execute_result"
    }
   ],
   "source": [
    "print(\"====== means =======\")\n",
    "(appl_mean, dbs_mean, usdsgd_mean)"
   ]
  },
  {
   "cell_type": "code",
   "execution_count": 43,
   "id": "33d859bc",
   "metadata": {},
   "outputs": [
    {
     "data": {
      "application/vnd.microsoft.datawrangler.viewer.v0+json": {
       "columns": [
        {
         "name": "index",
         "rawType": "object",
         "type": "string"
        },
        {
         "name": "appl",
         "rawType": "float64",
         "type": "float"
        },
        {
         "name": "dbs",
         "rawType": "float64",
         "type": "float"
        },
        {
         "name": "usdsgd",
         "rawType": "float64",
         "type": "float"
        }
       ],
       "conversionMethod": "pd.DataFrame",
       "ref": "086d4d85-4e76-4fd9-97f3-bbc465e312c6",
       "rows": [
        [
         "appl",
         "1.0",
         "0.20324888966177265",
         "-0.15244514404622903"
        ],
        [
         "dbs",
         "0.20324888966177265",
         "1.0",
         "-0.06770290578708177"
        ],
        [
         "usdsgd",
         "-0.15244514404622903",
         "-0.06770290578708177",
         "1.0"
        ]
       ],
       "shape": {
        "columns": 3,
        "rows": 3
       }
      },
      "text/html": [
       "<div>\n",
       "<style scoped>\n",
       "    .dataframe tbody tr th:only-of-type {\n",
       "        vertical-align: middle;\n",
       "    }\n",
       "\n",
       "    .dataframe tbody tr th {\n",
       "        vertical-align: top;\n",
       "    }\n",
       "\n",
       "    .dataframe thead th {\n",
       "        text-align: right;\n",
       "    }\n",
       "</style>\n",
       "<table border=\"1\" class=\"dataframe\">\n",
       "  <thead>\n",
       "    <tr style=\"text-align: right;\">\n",
       "      <th></th>\n",
       "      <th>appl</th>\n",
       "      <th>dbs</th>\n",
       "      <th>usdsgd</th>\n",
       "    </tr>\n",
       "  </thead>\n",
       "  <tbody>\n",
       "    <tr>\n",
       "      <th>appl</th>\n",
       "      <td>1.000000</td>\n",
       "      <td>0.203249</td>\n",
       "      <td>-0.152445</td>\n",
       "    </tr>\n",
       "    <tr>\n",
       "      <th>dbs</th>\n",
       "      <td>0.203249</td>\n",
       "      <td>1.000000</td>\n",
       "      <td>-0.067703</td>\n",
       "    </tr>\n",
       "    <tr>\n",
       "      <th>usdsgd</th>\n",
       "      <td>-0.152445</td>\n",
       "      <td>-0.067703</td>\n",
       "      <td>1.000000</td>\n",
       "    </tr>\n",
       "  </tbody>\n",
       "</table>\n",
       "</div>"
      ],
      "text/plain": [
       "            appl       dbs    usdsgd\n",
       "appl    1.000000  0.203249 -0.152445\n",
       "dbs     0.203249  1.000000 -0.067703\n",
       "usdsgd -0.152445 -0.067703  1.000000"
      ]
     },
     "execution_count": 43,
     "metadata": {},
     "output_type": "execute_result"
    }
   ],
   "source": [
    "corr_mat"
   ]
  },
  {
   "cell_type": "code",
   "execution_count": null,
   "id": "778597ca",
   "metadata": {},
   "outputs": [],
   "source": []
  }
 ],
 "metadata": {
  "kernelspec": {
   "display_name": "Python 3",
   "language": "python",
   "name": "python3"
  },
  "language_info": {
   "codemirror_mode": {
    "name": "ipython",
    "version": 3
   },
   "file_extension": ".py",
   "mimetype": "text/x-python",
   "name": "python",
   "nbconvert_exporter": "python",
   "pygments_lexer": "ipython3",
   "version": "3.12.0"
  }
 },
 "nbformat": 4,
 "nbformat_minor": 5
}
