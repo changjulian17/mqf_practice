{
 "cells": [
  {
   "cell_type": "code",
   "execution_count": 1,
   "metadata": {},
   "outputs": [],
   "source": [
    "import numpy as np\n",
    "from scipy.integrate import quad\n",
    "from scipy.stats import norm\n",
    "import pandas as pd\n"
   ]
  },
  {
   "cell_type": "code",
   "execution_count": 2,
   "metadata": {},
   "outputs": [],
   "source": [
    "# Black put\n",
    "def BlackPut(f, k, T, vol):\n",
    "    d_1 = (np.log(f/k) + (1/2) * (vol**2) * T) / (vol * np.sqrt(T))\n",
    "    d_2 = d_1 - vol * np.sqrt(T)\n",
    "    black_option = k * norm.cdf(-d_2) - f * norm.cdf(-d_1)\n",
    "    return black_option\n",
    "# Black call\n",
    "def BlackCall(f, k, T, vol):\n",
    "    d_1 = (np.log(f/k) + (1/2) * (vol**2) * T) / (vol * np.sqrt(T))\n",
    "    d_2 = d_1 - vol * np.sqrt(T)\n",
    "    black_option = f * norm.cdf(d_1) - k * norm.cdf(d_2)\n",
    "    return black_option\n",
    "# vol surface\n",
    "def sigma(k_input):\n",
    "    k = 3 if k_input > 3 else k_input\n",
    "    return 0.510 - 0.591 * k + 0.376 * k ** 2 - 0.105 * k ** 3 + 0.011 * k ** 4\n",
    "\n",
    "# numerical integration 1\n",
    "def numerical_integration_sq1(S0, r, q, T, vol, SD=5):\n",
    "    DF = np.exp(-r*T); DivF = np.exp(-q*T) # calc risk neutral drift and div yield\n",
    "    f = S0*DivF/DF # forward is less dividends and add rn drift\n",
    "    maxS = f * SD\n",
    "    forward_part = f ** .5\n",
    "    integrand_put = lambda k: (-0.25 * k ** -1.5) * BlackPut(f, k, T, vol(k))\n",
    "    put_part, _ = quad(integrand_put, 0, f)\n",
    "    integrand_call = lambda k: (-0.25 * k ** -1.5) * BlackCall(f, k, T, vol(k))\n",
    "    call_part, _ = quad(integrand_call, f, maxS)\n",
    "    return DF * forward_part + put_part + call_part\n",
    "\n",
    "# numerical integration 2\n",
    "def numerical_integration_sq2(S0, r, q, T, vol, SD=5):\n",
    "    DF = np.exp(-r*T); DivF = np.exp(-q*T) # calc risk neutral drift and div yield\n",
    "    f = S0*DivF/DF # forward is less dividends and add rn drift\n",
    "    maxS = f * SD\n",
    "    forward_part = f ** 3\n",
    "    integrand_put = lambda k: (6 * k) * BlackPut(f, k, T, vol(k))\n",
    "    put_part, _ = quad(integrand_put, 0, f)\n",
    "    integrand_call = lambda k: (6 * k) * BlackCall(f, k, T, vol(k))\n",
    "    call_part, _ = quad(integrand_call, f, maxS)\n",
    "    return DF * forward_part + put_part + call_part\n",
    "\n",
    "q = 0; r = 0; T = 4; S0 = 1\n",
    "kappas = np.logspace(0, 6, 6, base=2)"
   ]
  },
  {
   "cell_type": "markdown",
   "metadata": {},
   "source": [
    "# Payoff 1"
   ]
  },
  {
   "cell_type": "code",
   "execution_count": 3,
   "metadata": {},
   "outputs": [
    {
     "data": {
      "text/html": [
       "<div>\n",
       "<style scoped>\n",
       "    .dataframe tbody tr th:only-of-type {\n",
       "        vertical-align: middle;\n",
       "    }\n",
       "\n",
       "    .dataframe tbody tr th {\n",
       "        vertical-align: top;\n",
       "    }\n",
       "\n",
       "    .dataframe thead th {\n",
       "        text-align: right;\n",
       "    }\n",
       "</style>\n",
       "<table border=\"1\" class=\"dataframe\">\n",
       "  <thead>\n",
       "    <tr style=\"text-align: right;\">\n",
       "      <th></th>\n",
       "      <th>k</th>\n",
       "      <th>V_0</th>\n",
       "    </tr>\n",
       "  </thead>\n",
       "  <tbody>\n",
       "    <tr>\n",
       "      <th>0</th>\n",
       "      <td>1.000000</td>\n",
       "      <td>0.981881</td>\n",
       "    </tr>\n",
       "    <tr>\n",
       "      <th>1</th>\n",
       "      <td>2.297397</td>\n",
       "      <td>0.973786</td>\n",
       "    </tr>\n",
       "    <tr>\n",
       "      <th>2</th>\n",
       "      <td>5.278032</td>\n",
       "      <td>0.973762</td>\n",
       "    </tr>\n",
       "    <tr>\n",
       "      <th>3</th>\n",
       "      <td>12.125733</td>\n",
       "      <td>0.973762</td>\n",
       "    </tr>\n",
       "    <tr>\n",
       "      <th>4</th>\n",
       "      <td>27.857618</td>\n",
       "      <td>0.973762</td>\n",
       "    </tr>\n",
       "    <tr>\n",
       "      <th>5</th>\n",
       "      <td>64.000000</td>\n",
       "      <td>0.973762</td>\n",
       "    </tr>\n",
       "  </tbody>\n",
       "</table>\n",
       "</div>"
      ],
      "text/plain": [
       "           k       V_0\n",
       "0   1.000000  0.981881\n",
       "1   2.297397  0.973786\n",
       "2   5.278032  0.973762\n",
       "3  12.125733  0.973762\n",
       "4  27.857618  0.973762\n",
       "5  64.000000  0.973762"
      ]
     },
     "execution_count": 3,
     "metadata": {},
     "output_type": "execute_result"
    }
   ],
   "source": [
    "numIntResults = [numerical_integration_sq1(S0, r, q, T, sigma, sd) for sd in kappas]\n",
    "pd.DataFrame({\"k\": kappas,\n",
    "              \"V_0\": numIntResults})"
   ]
  },
  {
   "cell_type": "markdown",
   "metadata": {},
   "source": [
    "# Payoff 2"
   ]
  },
  {
   "cell_type": "code",
   "execution_count": 4,
   "metadata": {},
   "outputs": [
    {
     "data": {
      "text/html": [
       "<div>\n",
       "<style scoped>\n",
       "    .dataframe tbody tr th:only-of-type {\n",
       "        vertical-align: middle;\n",
       "    }\n",
       "\n",
       "    .dataframe tbody tr th {\n",
       "        vertical-align: top;\n",
       "    }\n",
       "\n",
       "    .dataframe thead th {\n",
       "        text-align: right;\n",
       "    }\n",
       "</style>\n",
       "<table border=\"1\" class=\"dataframe\">\n",
       "  <thead>\n",
       "    <tr style=\"text-align: right;\">\n",
       "      <th></th>\n",
       "      <th>k</th>\n",
       "      <th>V_0</th>\n",
       "    </tr>\n",
       "  </thead>\n",
       "  <tbody>\n",
       "    <tr>\n",
       "      <th>0</th>\n",
       "      <td>1.000000</td>\n",
       "      <td>1.195395</td>\n",
       "    </tr>\n",
       "    <tr>\n",
       "      <th>1</th>\n",
       "      <td>2.297397</td>\n",
       "      <td>1.516848</td>\n",
       "    </tr>\n",
       "    <tr>\n",
       "      <th>2</th>\n",
       "      <td>5.278032</td>\n",
       "      <td>1.523056</td>\n",
       "    </tr>\n",
       "    <tr>\n",
       "      <th>3</th>\n",
       "      <td>12.125733</td>\n",
       "      <td>1.523059</td>\n",
       "    </tr>\n",
       "    <tr>\n",
       "      <th>4</th>\n",
       "      <td>27.857618</td>\n",
       "      <td>1.523059</td>\n",
       "    </tr>\n",
       "    <tr>\n",
       "      <th>5</th>\n",
       "      <td>64.000000</td>\n",
       "      <td>1.523059</td>\n",
       "    </tr>\n",
       "  </tbody>\n",
       "</table>\n",
       "</div>"
      ],
      "text/plain": [
       "           k       V_0\n",
       "0   1.000000  1.195395\n",
       "1   2.297397  1.516848\n",
       "2   5.278032  1.523056\n",
       "3  12.125733  1.523059\n",
       "4  27.857618  1.523059\n",
       "5  64.000000  1.523059"
      ]
     },
     "execution_count": 4,
     "metadata": {},
     "output_type": "execute_result"
    }
   ],
   "source": [
    "numIntResults = [numerical_integration_sq2(S0, r, q, T, sigma, sd) for sd in kappas]\n",
    "pd.DataFrame({\"k\": kappas,\n",
    "              \"V_0\": numIntResults})"
   ]
  }
 ],
 "metadata": {
  "kernelspec": {
   "display_name": "Python 3",
   "language": "python",
   "name": "python3"
  },
  "language_info": {
   "codemirror_mode": {
    "name": "ipython",
    "version": 3
   },
   "file_extension": ".py",
   "mimetype": "text/x-python",
   "name": "python",
   "nbconvert_exporter": "python",
   "pygments_lexer": "ipython3",
   "version": "3.12.0"
  }
 },
 "nbformat": 4,
 "nbformat_minor": 2
}
