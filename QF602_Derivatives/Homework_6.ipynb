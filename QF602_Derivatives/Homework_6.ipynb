{
 "cells": [
  {
   "cell_type": "code",
   "execution_count": 41,
   "metadata": {},
   "outputs": [
    {
     "data": {
      "text/plain": [
       "(1491.4999293595743, 0.14450381478280044)"
      ]
     },
     "execution_count": 41,
     "metadata": {},
     "output_type": "execute_result"
    }
   ],
   "source": [
    "import scipy.stats as si\n",
    "import numpy as np\n",
    "\n",
    "# Given data\n",
    "S = 1.7022  # Spot FX (GBPSGD)\n",
    "K = 1.7030  # Strike FX\n",
    "F = 1.7001  # Forward FX\n",
    "T = 34 / 365  # Time to maturity in years\n",
    "sigma = 0.065  # Implied volatility\n",
    "r_f =  0.05  # Approximate SGD risk-free rate\n",
    "r_d = (np.log(F / S * np.exp(r_f*T) )) / T # GBP deposit rate (domestic rate)\n",
    "\n",
    "# Black-Scholes d1 and d2\n",
    "d1 = (np.log(S / K) + (r_d - r_f + 0.5 * sigma**2) * T) / (sigma * np.sqrt(T))\n",
    "d2 = d1 - sigma * np.sqrt(T)\n",
    "\n",
    "# Put option price (Garman-Kohlhagen model)\n",
    "put_price = np.exp(-r_d * T) * K * si.norm.cdf(-d2) - np.exp(-r_f * T) * S * si.norm.cdf(-d1)\n",
    "\n",
    "# Maximum yield = risk-free rate + option premium yield\n",
    "max_yield = r_f + (put_price/S) * np.exp(r_f * T) * (365 / 34) # Annualized\n",
    "\n",
    "1e5*put_price, max_yield\n"
   ]
  },
  {
   "cell_type": "code",
   "execution_count": 42,
   "metadata": {},
   "outputs": [
    {
     "data": {
      "text/plain": [
       "(-0.07599145589604259, -0.09582984403206857)"
      ]
     },
     "execution_count": 42,
     "metadata": {},
     "output_type": "execute_result"
    }
   ],
   "source": [
    "d1, d2"
   ]
  },
  {
   "cell_type": "code",
   "execution_count": null,
   "metadata": {},
   "outputs": [],
   "source": []
  },
  {
   "cell_type": "code",
   "execution_count": null,
   "metadata": {},
   "outputs": [],
   "source": []
  }
 ],
 "metadata": {
  "kernelspec": {
   "display_name": "Python 3",
   "language": "python",
   "name": "python3"
  },
  "language_info": {
   "codemirror_mode": {
    "name": "ipython",
    "version": 3
   },
   "file_extension": ".py",
   "mimetype": "text/x-python",
   "name": "python",
   "nbconvert_exporter": "python",
   "pygments_lexer": "ipython3",
   "version": "3.12.0"
  }
 },
 "nbformat": 4,
 "nbformat_minor": 2
}
