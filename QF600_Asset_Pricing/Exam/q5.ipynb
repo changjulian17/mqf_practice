{
 "cells": [
  {
   "cell_type": "code",
   "execution_count": 1,
   "metadata": {},
   "outputs": [],
   "source": [
    "import pandas as pd\n",
    "import warnings\n",
    "import numpy as np\n",
    "from sklearn.linear_model import LinearRegression\n",
    "import matplotlib.pyplot as plt"
   ]
  },
  {
   "cell_type": "code",
   "execution_count": 2,
   "metadata": {},
   "outputs": [],
   "source": [
    "df_industries = pd.read_excel('/Users/ju/Projects/00_SMU/mqf_practice/QF600_Asset_Pricing/Exam/data/Exam-Industry.xlsx', index_col='Date')\n",
    "df_market = pd.read_excel('/Users/ju/Projects/00_SMU/mqf_practice/QF600_Asset_Pricing/Exam/data/Exam–Market.xlsx', index_col='Date')\n",
    "df = pd.merge(df_industries, df_market, left_index=True, right_index=True)\n",
    "# df_risk_factors = pd.read_excel('./data/Risk_Factors.xlsx', index_col='Date')"
   ]
  },
  {
   "cell_type": "markdown",
   "metadata": {},
   "source": [
    "The data files that you received contain monthly excess returns for five industry portfolios and the market portfolio. Let the market return be the target return. Using monthly return deviations for the five industry portfolios:\n",
    "\n",
    "Calculate and report the expected return deviation and the tracking error, for the five industry portfolios and the global minimum-tracking-error portfolio.\n",
    "\n",
    "\n"
   ]
  },
  {
   "cell_type": "markdown",
   "metadata": {},
   "source": []
  },
  {
   "cell_type": "code",
   "execution_count": 3,
   "metadata": {},
   "outputs": [
    {
     "data": {
      "text/html": [
       "<div>\n",
       "<style scoped>\n",
       "    .dataframe tbody tr th:only-of-type {\n",
       "        vertical-align: middle;\n",
       "    }\n",
       "\n",
       "    .dataframe tbody tr th {\n",
       "        vertical-align: top;\n",
       "    }\n",
       "\n",
       "    .dataframe thead th {\n",
       "        text-align: right;\n",
       "    }\n",
       "</style>\n",
       "<table border=\"1\" class=\"dataframe\">\n",
       "  <thead>\n",
       "    <tr style=\"text-align: right;\">\n",
       "      <th></th>\n",
       "      <th>Mean Monthly Deviation %</th>\n",
       "      <th>tracking error</th>\n",
       "    </tr>\n",
       "  </thead>\n",
       "  <tbody>\n",
       "    <tr>\n",
       "      <th>Cnsmr</th>\n",
       "      <td>0.054028</td>\n",
       "      <td>0.054028</td>\n",
       "    </tr>\n",
       "    <tr>\n",
       "      <th>Manuf</th>\n",
       "      <td>-0.286250</td>\n",
       "      <td>-0.286250</td>\n",
       "    </tr>\n",
       "    <tr>\n",
       "      <th>HiTec</th>\n",
       "      <td>0.277222</td>\n",
       "      <td>0.277222</td>\n",
       "    </tr>\n",
       "    <tr>\n",
       "      <th>Hlth</th>\n",
       "      <td>0.056944</td>\n",
       "      <td>0.056944</td>\n",
       "    </tr>\n",
       "    <tr>\n",
       "      <th>Other</th>\n",
       "      <td>-0.028750</td>\n",
       "      <td>-0.028750</td>\n",
       "    </tr>\n",
       "  </tbody>\n",
       "</table>\n",
       "</div>"
      ],
      "text/plain": [
       "       Mean Monthly Deviation %  tracking error\n",
       "Cnsmr                  0.054028        0.054028\n",
       "Manuf                 -0.286250       -0.286250\n",
       "HiTec                  0.277222        0.277222\n",
       "Hlth                   0.056944        0.056944\n",
       "Other                 -0.028750       -0.028750"
      ]
     },
     "execution_count": 3,
     "metadata": {},
     "output_type": "execute_result"
    }
   ],
   "source": [
    "deviations = df_industries.values - df_market['Market'].values[:, np.newaxis]   # R_i - R_m, \n",
    "R = np.mean(deviations,   # and get mean deviation\n",
    "            axis=0)\n",
    "tracking_error = np.mean(deviations,   # and get mean deviation\n",
    "            axis=0)\n",
    "\n",
    "pd.DataFrame(\n",
    "            {'Mean Monthly Deviation %': R,\n",
    "             'tracking error': tracking_error},\n",
    "            index=df_industries.columns    \n",
    "            )"
   ]
  },
  {
   "cell_type": "code",
   "execution_count": 4,
   "metadata": {},
   "outputs": [
    {
     "data": {
      "text/html": [
       "<div>\n",
       "<style scoped>\n",
       "    .dataframe tbody tr th:only-of-type {\n",
       "        vertical-align: middle;\n",
       "    }\n",
       "\n",
       "    .dataframe tbody tr th {\n",
       "        vertical-align: top;\n",
       "    }\n",
       "\n",
       "    .dataframe thead th {\n",
       "        text-align: right;\n",
       "    }\n",
       "</style>\n",
       "<table border=\"1\" class=\"dataframe\">\n",
       "  <thead>\n",
       "    <tr style=\"text-align: right;\">\n",
       "      <th></th>\n",
       "      <th>Cnsmr</th>\n",
       "      <th>Manuf</th>\n",
       "      <th>HiTec</th>\n",
       "      <th>Hlth</th>\n",
       "      <th>Other</th>\n",
       "    </tr>\n",
       "  </thead>\n",
       "  <tbody>\n",
       "    <tr>\n",
       "      <th>Cnsmr</th>\n",
       "      <td>2.4750</td>\n",
       "      <td>-0.6669</td>\n",
       "      <td>-0.2908</td>\n",
       "      <td>0.7987</td>\n",
       "      <td>-1.2569</td>\n",
       "    </tr>\n",
       "    <tr>\n",
       "      <th>Manuf</th>\n",
       "      <td>-0.6669</td>\n",
       "      <td>2.5395</td>\n",
       "      <td>-0.9254</td>\n",
       "      <td>-1.3090</td>\n",
       "      <td>0.7702</td>\n",
       "    </tr>\n",
       "    <tr>\n",
       "      <th>HiTec</th>\n",
       "      <td>-0.2908</td>\n",
       "      <td>-0.9254</td>\n",
       "      <td>1.8830</td>\n",
       "      <td>-0.9201</td>\n",
       "      <td>-1.2729</td>\n",
       "    </tr>\n",
       "    <tr>\n",
       "      <th>Hlth</th>\n",
       "      <td>0.7987</td>\n",
       "      <td>-1.3090</td>\n",
       "      <td>-0.9201</td>\n",
       "      <td>6.6505</td>\n",
       "      <td>-1.4171</td>\n",
       "    </tr>\n",
       "    <tr>\n",
       "      <th>Other</th>\n",
       "      <td>-1.2569</td>\n",
       "      <td>0.7702</td>\n",
       "      <td>-1.2729</td>\n",
       "      <td>-1.4171</td>\n",
       "      <td>3.1909</td>\n",
       "    </tr>\n",
       "  </tbody>\n",
       "</table>\n",
       "</div>"
      ],
      "text/plain": [
       "        Cnsmr   Manuf   HiTec   Hlth    Other\n",
       "Cnsmr  2.4750 -0.6669 -0.2908  0.7987 -1.2569\n",
       "Manuf -0.6669  2.5395 -0.9254 -1.3090  0.7702\n",
       "HiTec -0.2908 -0.9254  1.8830 -0.9201 -1.2729\n",
       "Hlth   0.7987 -1.3090 -0.9201  6.6505 -1.4171\n",
       "Other -1.2569  0.7702 -1.2729 -1.4171  3.1909"
      ]
     },
     "execution_count": 4,
     "metadata": {},
     "output_type": "execute_result"
    }
   ],
   "source": [
    "V = np.cov(deviations,rowvar=False)     # get cov matrix\n",
    "\n",
    "pd.DataFrame(\n",
    "            V,\n",
    "            columns=df_industries.columns,    \n",
    "            index=df_industries.columns    \n",
    "            ).round(4)"
   ]
  },
  {
   "cell_type": "code",
   "execution_count": 5,
   "metadata": {},
   "outputs": [],
   "source": [
    "e = np.ones(len(df_industries.columns)).T\n",
    "alpha = R.T@np.linalg.inv(V)@e\n",
    "zeta  = R.T@np.linalg.inv(V)@R\n",
    "delta = e.T@np.linalg.inv(V)@e\n",
    "R_mv  = alpha/delta"
   ]
  },
  {
   "cell_type": "code",
   "execution_count": null,
   "metadata": {},
   "outputs": [],
   "source": []
  },
  {
   "cell_type": "markdown",
   "metadata": {},
   "source": [
    "Plot the minimum-tracking-error frontier generated by the five industry portfolios, with expected return deviation on the vertical axis and tracking error on the horizontal axis. This graph must cover the range from −0.06% to 0.1% per month, in increments of 0.005% (or less), on the vertical axis."
   ]
  },
  {
   "cell_type": "code",
   "execution_count": 6,
   "metadata": {},
   "outputs": [
    {
     "data": {
      "image/png": "[encoded data removed]",
      "text/plain": [
       "<Figure size 640x480 with 1 Axes>"
      ]
     },
     "metadata": {},
     "output_type": "display_data"
    }
   ],
   "source": [
    "R_deviation = np.arange(-.06,.101,.0001)\n",
    "sig_p = (1/delta + delta/(zeta*delta-alpha**2)*(R_deviation-R_mv)**2)**.5\n",
    "\n",
    "R_f = 0\n",
    "# sig_p_mvf = np.arange(0,.24,.001)\n",
    "# R_p_mvf = R_f + (zeta-2*alpha*R_f+delta*R_f**2)**.5*sig_p_mvf\n",
    "\n",
    "plt.plot(sig_p, R_deviation, label=\"Minimum-tracking-error Frontier\")\n",
    "# plt.plot(sig_p_mvf, R_p_mvf, label=\"Tangency Line\")\n",
    "# plt.xlabel(\"Tracking Error (%)\")  # X-axis label\n",
    "plt.ylabel(\"Expected Return Deviation (%)\")         # Y-axis label\n",
    "plt.title(\"Plot of Minimum-tracking-error Frontier\")  # Title of the plot\n",
    "plt.grid(True)\n",
    "plt.legend()\n",
    "plt.show()"
   ]
  },
  {
   "cell_type": "code",
   "execution_count": 7,
   "metadata": {},
   "outputs": [
    {
     "name": "stdout",
     "output_type": "stream",
     "text": [
      "for global minimum-tracking-error portfolio.\n",
      "expected return deviation 0.18469 and the tracking error 0.05215\n"
     ]
    }
   ],
   "source": [
    "# minimum variance portfolio sigma and return\n",
    "# left most portfolio\n",
    "\n",
    "print(f\"for global minimum-tracking-error portfolio.\")\n",
    "print(f\"expected return deviation {np.min(sig_p):.5f} and the tracking error {R_mv:.5f}\")\n"
   ]
  },
  {
   "cell_type": "markdown",
   "metadata": {},
   "source": [
    "\n",
    "\n",
    "Calculate and report the information ratio and portfolio weights for the \"tangency\" portfolio where the tangent line (from the origin) intersects with the frontier."
   ]
  },
  {
   "cell_type": "code",
   "execution_count": 8,
   "metadata": {},
   "outputs": [
    {
     "name": "stdout",
     "output_type": "stream",
     "text": [
      "Information Ratio:\t0.3672\n"
     ]
    }
   ],
   "source": [
    "R_tg = (alpha*R_f-zeta)/(delta*R_f-alpha)\n",
    "sig_tg = -(zeta-2*alpha*R_f+delta*R_f**2)**.5/(delta*(R_f-R_mv))\n",
    "info_ratio = (R_tg-R_f)/sig_tg\n",
    "\n",
    "print(f\"Information Ratio:\\t{info_ratio:.4f}\")"
   ]
  },
  {
   "cell_type": "code",
   "execution_count": 9,
   "metadata": {},
   "outputs": [
    {
     "name": "stdout",
     "output_type": "stream",
     "text": [
      "tangency portfolio weights\n"
     ]
    },
    {
     "data": {
      "text/html": [
       "<div>\n",
       "<style scoped>\n",
       "    .dataframe tbody tr th:only-of-type {\n",
       "        vertical-align: middle;\n",
       "    }\n",
       "\n",
       "    .dataframe tbody tr th {\n",
       "        vertical-align: top;\n",
       "    }\n",
       "\n",
       "    .dataframe thead th {\n",
       "        text-align: right;\n",
       "    }\n",
       "</style>\n",
       "<table border=\"1\" class=\"dataframe\">\n",
       "  <thead>\n",
       "    <tr style=\"text-align: right;\">\n",
       "      <th></th>\n",
       "      <th>Weights</th>\n",
       "    </tr>\n",
       "  </thead>\n",
       "  <tbody>\n",
       "    <tr>\n",
       "      <th>Cnsmr</th>\n",
       "      <td>0.1723</td>\n",
       "    </tr>\n",
       "    <tr>\n",
       "      <th>Manuf</th>\n",
       "      <td>0.0944</td>\n",
       "    </tr>\n",
       "    <tr>\n",
       "      <th>HiTec</th>\n",
       "      <td>0.3847</td>\n",
       "    </tr>\n",
       "    <tr>\n",
       "      <th>Hlth</th>\n",
       "      <td>0.1080</td>\n",
       "    </tr>\n",
       "    <tr>\n",
       "      <th>Other</th>\n",
       "      <td>0.2406</td>\n",
       "    </tr>\n",
       "  </tbody>\n",
       "</table>\n",
       "</div>"
      ],
      "text/plain": [
       "       Weights\n",
       "Cnsmr   0.1723\n",
       "Manuf   0.0944\n",
       "HiTec   0.3847\n",
       "Hlth    0.1080\n",
       "Other   0.2406"
      ]
     },
     "execution_count": 9,
     "metadata": {},
     "output_type": "execute_result"
    }
   ],
   "source": [
    "w_star = (delta*R_tg-alpha)/(zeta*delta-alpha**2)*np.linalg.inv(V)@R \\\n",
    "         +(zeta-alpha*R_tg)/(zeta*delta-alpha**2)*np.linalg.inv(V)@e\n",
    "print(f\"tangency portfolio weights\")\n",
    "pd.DataFrame(w_star, df_industries.columns,columns=['Weights']).round(4)"
   ]
  },
  {
   "cell_type": "markdown",
   "metadata": {},
   "source": [
    "Briefly explain (in words) the economic significance of this \"tangency\" portfolio\n",
    "\n",
    "---\n",
    "\n",
    "Answer:\n",
    "\n",
    "Tangency portfolio has the highest possible Sharpe ratio. Representing the highest return for risk portfolio"
   ]
  }
 ],
 "metadata": {
  "kernelspec": {
   "display_name": "Python 3",
   "language": "python",
   "name": "python3"
  },
  "language_info": {
   "codemirror_mode": {
    "name": "ipython",
    "version": 3
   },
   "file_extension": ".py",
   "mimetype": "text/x-python",
   "name": "python",
   "nbconvert_exporter": "python",
   "pygments_lexer": "ipython3",
   "version": "3.9.13"
  }
 },
 "nbformat": 4,
 "nbformat_minor": 2
}
