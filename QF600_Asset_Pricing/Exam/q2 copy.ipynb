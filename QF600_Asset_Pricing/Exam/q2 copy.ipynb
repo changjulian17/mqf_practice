{
 "cells": [
  {
   "cell_type": "code",
   "execution_count": 1,
   "metadata": {},
   "outputs": [],
   "source": [
    "import pandas as pd\n",
    "import warnings\n",
    "import numpy as np\n",
    "from sklearn.linear_model import LinearRegression\n",
    "import matplotlib.pyplot as plt"
   ]
  },
  {
   "cell_type": "code",
   "execution_count": 2,
   "metadata": {},
   "outputs": [
    {
     "data": {
      "text/html": [
       "<div>\n",
       "<style scoped>\n",
       "    .dataframe tbody tr th:only-of-type {\n",
       "        vertical-align: middle;\n",
       "    }\n",
       "\n",
       "    .dataframe tbody tr th {\n",
       "        vertical-align: top;\n",
       "    }\n",
       "\n",
       "    .dataframe thead th {\n",
       "        text-align: right;\n",
       "    }\n",
       "</style>\n",
       "<table border=\"1\" class=\"dataframe\">\n",
       "  <thead>\n",
       "    <tr style=\"text-align: right;\">\n",
       "      <th></th>\n",
       "      <th>Date</th>\n",
       "      <th>Cnsmr</th>\n",
       "      <th>Manuf</th>\n",
       "      <th>HiTec</th>\n",
       "      <th>Hlth</th>\n",
       "      <th>Other</th>\n",
       "    </tr>\n",
       "  </thead>\n",
       "  <tbody>\n",
       "    <tr>\n",
       "      <th>0</th>\n",
       "      <td>190101</td>\n",
       "      <td>-1.34</td>\n",
       "      <td>4.20</td>\n",
       "      <td>3.01</td>\n",
       "      <td>-0.71</td>\n",
       "      <td>1.92</td>\n",
       "    </tr>\n",
       "    <tr>\n",
       "      <th>1</th>\n",
       "      <td>190102</td>\n",
       "      <td>2.89</td>\n",
       "      <td>4.87</td>\n",
       "      <td>3.45</td>\n",
       "      <td>3.33</td>\n",
       "      <td>2.63</td>\n",
       "    </tr>\n",
       "    <tr>\n",
       "      <th>2</th>\n",
       "      <td>190103</td>\n",
       "      <td>1.89</td>\n",
       "      <td>1.81</td>\n",
       "      <td>-0.83</td>\n",
       "      <td>2.29</td>\n",
       "      <td>-0.86</td>\n",
       "    </tr>\n",
       "    <tr>\n",
       "      <th>3</th>\n",
       "      <td>190104</td>\n",
       "      <td>4.36</td>\n",
       "      <td>2.58</td>\n",
       "      <td>3.16</td>\n",
       "      <td>6.37</td>\n",
       "      <td>1.11</td>\n",
       "    </tr>\n",
       "    <tr>\n",
       "      <th>4</th>\n",
       "      <td>190105</td>\n",
       "      <td>0.92</td>\n",
       "      <td>-2.55</td>\n",
       "      <td>-1.13</td>\n",
       "      <td>1.96</td>\n",
       "      <td>-2.40</td>\n",
       "    </tr>\n",
       "    <tr>\n",
       "      <th>...</th>\n",
       "      <td>...</td>\n",
       "      <td>...</td>\n",
       "      <td>...</td>\n",
       "      <td>...</td>\n",
       "      <td>...</td>\n",
       "      <td>...</td>\n",
       "    </tr>\n",
       "    <tr>\n",
       "      <th>67</th>\n",
       "      <td>190608</td>\n",
       "      <td>1.71</td>\n",
       "      <td>0.80</td>\n",
       "      <td>4.36</td>\n",
       "      <td>2.85</td>\n",
       "      <td>2.59</td>\n",
       "    </tr>\n",
       "    <tr>\n",
       "      <th>68</th>\n",
       "      <td>190609</td>\n",
       "      <td>-3.28</td>\n",
       "      <td>-2.84</td>\n",
       "      <td>-6.16</td>\n",
       "      <td>-6.01</td>\n",
       "      <td>-2.26</td>\n",
       "    </tr>\n",
       "    <tr>\n",
       "      <th>69</th>\n",
       "      <td>190610</td>\n",
       "      <td>8.63</td>\n",
       "      <td>6.01</td>\n",
       "      <td>6.74</td>\n",
       "      <td>2.25</td>\n",
       "      <td>7.25</td>\n",
       "    </tr>\n",
       "    <tr>\n",
       "      <th>70</th>\n",
       "      <td>190611</td>\n",
       "      <td>0.51</td>\n",
       "      <td>-1.85</td>\n",
       "      <td>0.35</td>\n",
       "      <td>-4.29</td>\n",
       "      <td>-4.96</td>\n",
       "    </tr>\n",
       "    <tr>\n",
       "      <th>71</th>\n",
       "      <td>190612</td>\n",
       "      <td>1.53</td>\n",
       "      <td>5.85</td>\n",
       "      <td>1.93</td>\n",
       "      <td>6.61</td>\n",
       "      <td>4.87</td>\n",
       "    </tr>\n",
       "  </tbody>\n",
       "</table>\n",
       "<p>72 rows × 6 columns</p>\n",
       "</div>"
      ],
      "text/plain": [
       "      Date  Cnsmr  Manuf  HiTec  Hlth   Other\n",
       "0   190101  -1.34   4.20   3.01  -0.71   1.92\n",
       "1   190102   2.89   4.87   3.45   3.33   2.63\n",
       "2   190103   1.89   1.81  -0.83   2.29  -0.86\n",
       "3   190104   4.36   2.58   3.16   6.37   1.11\n",
       "4   190105   0.92  -2.55  -1.13   1.96  -2.40\n",
       "..     ...    ...    ...    ...    ...    ...\n",
       "67  190608   1.71   0.80   4.36   2.85   2.59\n",
       "68  190609  -3.28  -2.84  -6.16  -6.01  -2.26\n",
       "69  190610   8.63   6.01   6.74   2.25   7.25\n",
       "70  190611   0.51  -1.85   0.35  -4.29  -4.96\n",
       "71  190612   1.53   5.85   1.93   6.61   4.87\n",
       "\n",
       "[72 rows x 6 columns]"
      ]
     },
     "execution_count": 2,
     "metadata": {},
     "output_type": "execute_result"
    }
   ],
   "source": [
    "pd.read_excel(\"/Users/ju/Projects/00_SMU/mqf_practice/QF600_Asset_Pricing/Exam/data/Exam-Industry.xlsx\")"
   ]
  },
  {
   "cell_type": "code",
   "execution_count": 3,
   "metadata": {},
   "outputs": [],
   "source": [
    "df_industries = pd.read_excel('/Users/ju/Projects/00_SMU/mqf_practice/QF600_Asset_Pricing/Exam/data/Exam-Industry.xlsx', index_col='Date')\n",
    "df_market = pd.read_excel('/Users/ju/Projects/00_SMU/mqf_practice/QF600_Asset_Pricing/Exam/data/Exam–Market.xlsx', index_col='Date')\n",
    "# df_risk_factors = pd.read_excel('./data/Risk_Factors.xlsx', index_col='Date')"
   ]
  },
  {
   "cell_type": "markdown",
   "metadata": {},
   "source": [
    "# Question"
   ]
  },
  {
   "cell_type": "markdown",
   "metadata": {},
   "source": [
    "The data files that you received contain monthly excess returns for five industry portfolios and the market portfolio. Using monthly excess returns for the five industry portfolios:\n",
    "\n",
    "Calculate and report the risk premium and the standard deviation of (excess) return, for the five industry portfolios and the global minimum-variance portfolio.\n",
    "\n"
   ]
  },
  {
   "cell_type": "code",
   "execution_count": 4,
   "metadata": {},
   "outputs": [
    {
     "name": "stdout",
     "output_type": "stream",
     "text": [
      "\n",
      " risk premium and the standard deviation for five industries:\n"
     ]
    },
    {
     "data": {
      "text/html": [
       "<div>\n",
       "<style scoped>\n",
       "    .dataframe tbody tr th:only-of-type {\n",
       "        vertical-align: middle;\n",
       "    }\n",
       "\n",
       "    .dataframe tbody tr th {\n",
       "        vertical-align: top;\n",
       "    }\n",
       "\n",
       "    .dataframe thead th {\n",
       "        text-align: right;\n",
       "    }\n",
       "</style>\n",
       "<table border=\"1\" class=\"dataframe\">\n",
       "  <thead>\n",
       "    <tr style=\"text-align: right;\">\n",
       "      <th></th>\n",
       "      <th>Mean</th>\n",
       "      <th>Standard Deviation</th>\n",
       "    </tr>\n",
       "  </thead>\n",
       "  <tbody>\n",
       "    <tr>\n",
       "      <th>Cnsmr</th>\n",
       "      <td>1.449</td>\n",
       "      <td>3.115</td>\n",
       "    </tr>\n",
       "    <tr>\n",
       "      <th>Manuf</th>\n",
       "      <td>1.109</td>\n",
       "      <td>3.935</td>\n",
       "    </tr>\n",
       "    <tr>\n",
       "      <th>HiTec</th>\n",
       "      <td>1.672</td>\n",
       "      <td>3.788</td>\n",
       "    </tr>\n",
       "    <tr>\n",
       "      <th>Hlth</th>\n",
       "      <td>1.452</td>\n",
       "      <td>3.601</td>\n",
       "    </tr>\n",
       "    <tr>\n",
       "      <th>Other</th>\n",
       "      <td>1.366</td>\n",
       "      <td>4.314</td>\n",
       "    </tr>\n",
       "  </tbody>\n",
       "</table>\n",
       "</div>"
      ],
      "text/plain": [
       "        Mean  Standard Deviation\n",
       "Cnsmr  1.449               3.115\n",
       "Manuf  1.109               3.935\n",
       "HiTec  1.672               3.788\n",
       "Hlth   1.452               3.601\n",
       "Other  1.366               4.314"
      ]
     },
     "execution_count": 4,
     "metadata": {},
     "output_type": "execute_result"
    }
   ],
   "source": [
    "stats_df = pd.DataFrame({'Mean': df_industries.mean(), \n",
    "                         'Standard Deviation': df_industries.std()})\n",
    "print(\"\\n risk premium and the standard deviation for five industries:\")\n",
    "pd.DataFrame(stats_df.round(3))"
   ]
  },
  {
   "cell_type": "code",
   "execution_count": 5,
   "metadata": {},
   "outputs": [
    {
     "data": {
      "text/plain": [
       "(0.15784554983954383,\n",
       " 0.27783526430367983,\n",
       " 0.11184569276552822,\n",
       " 1.4112796473123832)"
      ]
     },
     "execution_count": 5,
     "metadata": {},
     "output_type": "execute_result"
    }
   ],
   "source": [
    "R = df_industries.mean().values\n",
    "V = df_industries.cov().values\n",
    "e = np.ones(len(df_industries.columns)).T\n",
    "\n",
    "alpha = R.T@np.linalg.inv(V)@e\n",
    "zeta  = R.T@np.linalg.inv(V)@R\n",
    "delta = e.T@np.linalg.inv(V)@e\n",
    "R_mv  = alpha/delta     # min variance portfolio\n",
    "alpha, zeta, delta, R_mv"
   ]
  },
  {
   "cell_type": "markdown",
   "metadata": {},
   "source": [
    "Plot the minimum-variance frontier (without riskless asset) generated by the five industry portfolios, with risk premium on the vertical axis and standard deviation of (excess) return on the horizontal axis. This graph must cover the range from 0% to 3% per month, in increments of 0.1% (or less), on the vertical axis."
   ]
  },
  {
   "cell_type": "code",
   "execution_count": 6,
   "metadata": {},
   "outputs": [
    {
     "data": {
      "image/png": "[encoded data removed]",
      "text/plain": [
       "<Figure size 640x480 with 1 Axes>"
      ]
     },
     "metadata": {},
     "output_type": "display_data"
    }
   ],
   "source": [
    "# efficient frontier without riskless asset\n",
    "R_p = np.arange(0,3,.001)\n",
    "sig_p = (1/delta + delta/(zeta*delta-alpha**2)*(R_p-R_mv)**2)**.5\n",
    "\n",
    "plt.plot(sig_p, R_p, label=\"R_p vs. sig_p\")\n",
    "plt.xlabel(\"Volatility (sig_p)\")  # X-axis label\n",
    "plt.xticks(np.arange(3, 8, 0.5))\n",
    "plt.ylabel(\"Expected excess Return (R_p)\")         # Y-axis label\n",
    "plt.title(\"Plot of R_p vs. sig_p\")  # Title of the plot\n",
    "plt.grid(True)\n",
    "plt.legend()\n",
    "plt.show()"
   ]
  },
  {
   "cell_type": "code",
   "execution_count": 7,
   "metadata": {},
   "outputs": [
    {
     "name": "stdout",
     "output_type": "stream",
     "text": [
      "global minimum-variance portfolio., sigma and expected return\n"
     ]
    },
    {
     "data": {
      "text/plain": [
       "(2.990132287750037, 1.411)"
      ]
     },
     "execution_count": 7,
     "metadata": {},
     "output_type": "execute_result"
    }
   ],
   "source": [
    "# minimum variance portfolio sigma and return\n",
    "# left most portfolio\n",
    "print(\"global minimum-variance portfolio., sigma and expected return\")\n",
    "np.min(sig_p), R_p[np.argmin(sig_p)]"
   ]
  },
  {
   "cell_type": "markdown",
   "metadata": {},
   "source": [
    "Using a suitable value for the y-intercept, plot the efficient frontier generated by the five industry portfolios with the riskless asset, on the same graph as the minimum-variance frontier."
   ]
  },
  {
   "cell_type": "code",
   "execution_count": 8,
   "metadata": {},
   "outputs": [
    {
     "data": {
      "image/png": "[encoded data removed]",
      "text/plain": [
       "<Figure size 640x480 with 1 Axes>"
      ]
     },
     "metadata": {},
     "output_type": "display_data"
    }
   ],
   "source": [
    "# efficient frontier without riskless asset\n",
    "R_p = np.arange(0,3,.001)\n",
    "sig_p = (1/delta + delta/(zeta*delta-alpha**2)*(R_p-R_mv)**2)**.5\n",
    "\n",
    "R_f = 0\n",
    "sig_p_mvf = np.arange(0,7,.001)\n",
    "R_p_mvf = R_f + (zeta-2*alpha*R_f+delta*R_f**2)**.5*sig_p_mvf\n",
    "\n",
    "plt.plot(sig_p, R_p, label=\"R_p vs. sig_p\")\n",
    "plt.plot(sig_p_mvf, R_p_mvf, label=\"Tangency Line\")\n",
    "plt.xlabel(\"Tracking Error (%)\")  # X-axis label\n",
    "plt.xlabel(\"Volatility (sig_p)\")  # X-axis label\n",
    "plt.xticks(np.arange(0, 8, 0.5))\n",
    "plt.ylabel(\"Expected excess Return (R_p)\")         # Y-axis label\n",
    "plt.title(\"Plot of R_p vs. sig_p\")  # Title of the plot\n",
    "plt.grid(True)\n",
    "plt.legend()\n",
    "plt.show()"
   ]
  },
  {
   "cell_type": "markdown",
   "metadata": {},
   "source": [
    "Calculate and report the Sharpe ratio and portfolio weights for the \"tangency\" portfolio where the two frontiers intersect."
   ]
  },
  {
   "cell_type": "code",
   "execution_count": 9,
   "metadata": {},
   "outputs": [
    {
     "name": "stdout",
     "output_type": "stream",
     "text": [
      "Sharpe Ratio:\t0.5271\n"
     ]
    }
   ],
   "source": [
    "R_tg = (alpha*R_f-zeta)/(delta*R_f-alpha)\n",
    "sig_tg = -(zeta-2*alpha*R_f+delta*R_f**2)**.5/(delta*(R_f-R_mv))\n",
    "sharpe_ratio = (R_tg-R_f)/sig_tg\n",
    "\n",
    "print(f\"Sharpe Ratio:\\t{sharpe_ratio:.4f}\")"
   ]
  },
  {
   "cell_type": "code",
   "execution_count": 10,
   "metadata": {},
   "outputs": [
    {
     "name": "stdout",
     "output_type": "stream",
     "text": [
      "tangency portfolio weights\n"
     ]
    },
    {
     "data": {
      "text/html": [
       "<div>\n",
       "<style scoped>\n",
       "    .dataframe tbody tr th:only-of-type {\n",
       "        vertical-align: middle;\n",
       "    }\n",
       "\n",
       "    .dataframe tbody tr th {\n",
       "        vertical-align: top;\n",
       "    }\n",
       "\n",
       "    .dataframe thead th {\n",
       "        text-align: right;\n",
       "    }\n",
       "</style>\n",
       "<table border=\"1\" class=\"dataframe\">\n",
       "  <thead>\n",
       "    <tr style=\"text-align: right;\">\n",
       "      <th></th>\n",
       "      <th>Weights</th>\n",
       "    </tr>\n",
       "  </thead>\n",
       "  <tbody>\n",
       "    <tr>\n",
       "      <th>Cnsmr</th>\n",
       "      <td>0.730240</td>\n",
       "    </tr>\n",
       "    <tr>\n",
       "      <th>Manuf</th>\n",
       "      <td>-0.565645</td>\n",
       "    </tr>\n",
       "    <tr>\n",
       "      <th>HiTec</th>\n",
       "      <td>0.533391</td>\n",
       "    </tr>\n",
       "    <tr>\n",
       "      <th>Hlth</th>\n",
       "      <td>0.285649</td>\n",
       "    </tr>\n",
       "    <tr>\n",
       "      <th>Other</th>\n",
       "      <td>0.016365</td>\n",
       "    </tr>\n",
       "  </tbody>\n",
       "</table>\n",
       "</div>"
      ],
      "text/plain": [
       "        Weights\n",
       "Cnsmr  0.730240\n",
       "Manuf -0.565645\n",
       "HiTec  0.533391\n",
       "Hlth   0.285649\n",
       "Other  0.016365"
      ]
     },
     "execution_count": 10,
     "metadata": {},
     "output_type": "execute_result"
    }
   ],
   "source": [
    "w_star = (delta*R_tg-alpha)/(zeta*delta-alpha**2)*np.linalg.inv(V)@R \\\n",
    "         +(zeta-alpha*R_tg)/(zeta*delta-alpha**2)*np.linalg.inv(V)@e\n",
    "print(f\"tangency portfolio weights\")\n",
    "pd.DataFrame(w_star, df_industries.columns,columns=['Weights'])"
   ]
  }
 ],
 "metadata": {
  "kernelspec": {
   "display_name": "Python 3",
   "language": "python",
   "name": "python3"
  },
  "language_info": {
   "codemirror_mode": {
    "name": "ipython",
    "version": 3
   },
   "file_extension": ".py",
   "mimetype": "text/x-python",
   "name": "python",
   "nbconvert_exporter": "python",
   "pygments_lexer": "ipython3",
   "version": "3.12.0"
  }
 },
 "nbformat": 4,
 "nbformat_minor": 2
}
