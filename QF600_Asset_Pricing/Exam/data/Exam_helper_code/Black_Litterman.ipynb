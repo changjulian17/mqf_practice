{
 "cells": [
  {
   "cell_type": "markdown",
   "metadata": {},
   "source": [
    "# QF600 - Black Litterman\n",
    "> Chapter 5  Efficient Frontier Revisited"
   ]
  },
  {
   "cell_type": "code",
   "execution_count": 1,
   "metadata": {},
   "outputs": [],
   "source": [
    "import pandas as pd\n",
    "import warnings\n",
    "import numpy as np\n",
    "from sklearn.linear_model import LinearRegression\n",
    "import matplotlib.pyplot as plt\n",
    "\n",
    "\n",
    "warnings.filterwarnings(\"ignore\", category=UserWarning, module=\"openpyxl\")\n",
    "df_industries = pd.read_excel('./Homework_2/data/Industry_Portfolios.xlsx', index_col='Date')\n",
    "df_market = pd.read_excel('./Homework_2/data/Market_Portfolio.xlsx', index_col='Date')\n",
    "df = pd.merge(df_industries, df_market, left_index=True, right_index=True)\n",
    "\n",
    "R_f = 0.13"
   ]
  },
  {
   "cell_type": "code",
   "execution_count": 8,
   "metadata": {},
   "outputs": [],
   "source": [
    "excess_industries_return = df_industries.values - R_f\n",
    "excess_market_return = df_market.values - R_f\n",
    "\n",
    "risk_premiums = excess_industries_return.mean(axis=0)\n"
   ]
  },
  {
   "cell_type": "markdown",
   "metadata": {},
   "source": [
    "- Here π is n × 1 vector of (observable) sample risk premiums, which provides noisy estimate of population risk premiums\n",
    "- For simplicity, assume that Σμ = τΣ, where τ is constant In practice, often set τ = 1/m, where m is number of data points used to estimate Σ\n",
    "- Reflects standard error of sample mean, when used as estimate of population mean\n",
    "- Hence joint normal distribution for excess returns, expressed in terms of (observable) sample risk premiums:"
   ]
  },
  {
   "cell_type": "code",
   "execution_count": 9,
   "metadata": {},
   "outputs": [
    {
     "data": {
      "text/plain": [
       "array([0.77283333, 0.60333333, 0.88283333, 1.10116667, 0.63625   ,\n",
       "       0.75141667, 0.78633333, 0.65383333, 0.77716667, 0.35908333])"
      ]
     },
     "execution_count": 9,
     "metadata": {},
     "output_type": "execute_result"
    }
   ],
   "source": [
    "risk_premiums"
   ]
  },
  {
   "cell_type": "code",
   "execution_count": 63,
   "metadata": {},
   "outputs": [],
   "source": [
    "# Let P be k × n matrix of asset weights corresponding to investor’s views, and \n",
    "P = np.array([[1, 0, 0], # view 1 on asset 1\n",
    "              [0,1,-1]]) # view 2 on asset 2v3\n",
    "# let Q be k × 1 vector of expected returns corresponding to investor’s views\n",
    "Q = np.array([0.05, 0.01]).T\n",
    "# Market equilibrium excess returns\n",
    "pi = np.array([0.05, 0.03, 0.04]).T\n",
    "# Covariance matrix of asset returns\n",
    "Sigma = np.array([[0.1, 0.05, 0.02],\n",
    "                  [0.05, 0.08, 0.03],\n",
    "                  [0.02, 0.03, 0.06]])\n",
    "# Investor's confidence level\n",
    "tau = 0.025\n",
    "# Uncertainty in the views\n",
    "Omega = np.diag([0.0001, 0.0001])\n"
   ]
  },
  {
   "cell_type": "code",
   "execution_count": 64,
   "metadata": {},
   "outputs": [
    {
     "data": {
      "text/plain": [
       "((2, 3), (2,))"
      ]
     },
     "execution_count": 64,
     "metadata": {},
     "output_type": "execute_result"
    }
   ],
   "source": [
    "P.shape, Q.shape"
   ]
  },
  {
   "cell_type": "code",
   "execution_count": 70,
   "metadata": {},
   "outputs": [],
   "source": [
    "pi_cap = pi + tau * Sigma @ P.T @ np.linalg.inv(tau * P @ Sigma @ P.T + Omega) @ (Q - P @ pi) \n",
    "M = np.linalg.inv(np.linalg.inv(tau * Sigma) + np.dot(np.dot(P.T, np.linalg.inv(Omega)), P))"
   ]
  },
  {
   "cell_type": "code",
   "execution_count": 71,
   "metadata": {},
   "outputs": [
    {
     "data": {
      "text/plain": [
       "(array([0.05030628, 0.03944359, 0.03050536]),\n",
       " array([[9.57120980e-05, 3.44563553e-05, 3.29249617e-05],\n",
       "        [3.44563553e-05, 9.79070955e-04, 9.31852986e-04],\n",
       "        [3.29249617e-05, 9.31852986e-04, 9.79326187e-04]]))"
      ]
     },
     "execution_count": 71,
     "metadata": {},
     "output_type": "execute_result"
    }
   ],
   "source": [
    "pi_cap, M"
   ]
  }
 ],
 "metadata": {
  "kernelspec": {
   "display_name": "Python 3",
   "language": "python",
   "name": "python3"
  },
  "language_info": {
   "codemirror_mode": {
    "name": "ipython",
    "version": 3
   },
   "file_extension": ".py",
   "mimetype": "text/x-python",
   "name": "python",
   "nbconvert_exporter": "python",
   "pygments_lexer": "ipython3",
   "version": "3.9.13"
  }
 },
 "nbformat": 4,
 "nbformat_minor": 2
}
