{
 "cells": [
  {
   "cell_type": "code",
   "execution_count": 1,
   "metadata": {},
   "outputs": [
    {
     "name": "stdout",
     "output_type": "stream",
     "text": [
      "\n",
      "Stock Price Tree:\n",
      "[[ 6.  5.]\n",
      " [ 0. 10.]]\n",
      "\n",
      "State Price Tree:\n",
      "[[1.         0.7047619 ]\n",
      " [0.         0.24761905]]\n",
      "\n",
      "Multi-period Option Prices (T=1):\n",
      "Call: 0.9905\n",
      "Put:  0.7048\n"
     ]
    }
   ],
   "source": [
    "import numpy as np\n",
    "\n",
    "# Constants\n",
    "S = 6        # Initial stock price\n",
    "u = 10 / S   # Upward movement factor\n",
    "d = 5 / S    # Downward movement factor\n",
    "K = 6        # Strike price\n",
    "Rf = 1.05    # One plus risk-free rate\n",
    "T = 1       # Number of time periods\n",
    "\n",
    "def calculate_stock_prices(S, u, d, T):\n",
    "    \"\"\"Calculate stock price tree.\"\"\"\n",
    "    # Initialize price tree array\n",
    "    prices = np.zeros((T+1, T+1))\n",
    "    prices[0,0] = S\n",
    "    \n",
    "    # Fill in stock price tree\n",
    "    for t in range(1, T+1):\n",
    "        for j in range(t+1):\n",
    "            up_moves = j\n",
    "            down_moves = t - j\n",
    "            prices[j,t] = S * (u**up_moves) * (d**down_moves)\n",
    "            \n",
    "    return prices\n",
    "\n",
    "def calculate_state_prices(S, u, d, Rf, T):\n",
    "    \"\"\"Calculate state prices for multi-period model.\"\"\"\n",
    "    # First calculate single period state prices\n",
    "    X = np.array([[u * S, 1], [d * S, 1]])\n",
    "    P = np.array([S, 1 / Rf])\n",
    "    X_inv = np.linalg.inv(X)\n",
    "    pu, pd = P @ X_inv\n",
    "    \n",
    "    # Initialize state price tree\n",
    "    state_prices = np.zeros((T+1, T+1))\n",
    "    state_prices[0,0] = 1\n",
    "    \n",
    "    # Fill in state price tree using multiplicative property\n",
    "    for t in range(1, T+1):\n",
    "        for j in range(t+1):\n",
    "            up_moves = j\n",
    "            down_moves = t - j\n",
    "            state_prices[j,t] = (pu**up_moves) * (pd**down_moves)\n",
    "            \n",
    "    return state_prices\n",
    "\n",
    "def price_multiperiod_option(option_type, S, K, u, d, Rf, T):\n",
    "    \"\"\"\n",
    "    Price a multi-period option.\n",
    "    \n",
    "    Parameters:\n",
    "    option_type: str, either 'call' or 'put'\n",
    "    \"\"\"\n",
    "    # Calculate stock price tree and state prices\n",
    "    stock_prices = calculate_stock_prices(S, u, d, T)\n",
    "    state_prices = calculate_state_prices(S, u, d, Rf, T)\n",
    "    \n",
    "    # Calculate terminal payoffs\n",
    "    payoffs = np.zeros(T+1)\n",
    "    for j in range(T+1):\n",
    "        if option_type.lower() == 'call':\n",
    "            payoffs[j] = max(stock_prices[j,T] - K, 0)\n",
    "        else:  # put option\n",
    "            payoffs[j] = max(K - stock_prices[j,T], 0)\n",
    "    \n",
    "    # Calculate option price using state prices\n",
    "    option_price = 0\n",
    "    for j in range(T+1):\n",
    "        option_price += state_prices[j,T] * payoffs[j]\n",
    "        \n",
    "    return option_price\n",
    "\n",
    "\n",
    "# Calculate and display stock price tree\n",
    "stock_prices = calculate_stock_prices(S, u, d, T)\n",
    "print(\"\\nStock Price Tree:\")\n",
    "print(stock_prices)\n",
    "\n",
    "# Calculate and display state price tree\n",
    "state_prices = calculate_state_prices(S, u, d, Rf, T)\n",
    "print(\"\\nState Price Tree:\")\n",
    "print(state_prices)\n",
    "\n",
    "# Price multi-period options\n",
    "call_price = price_multiperiod_option('call', S, K, u, d, Rf, T)\n",
    "put_price = price_multiperiod_option('put', S, K, u, d, Rf, T)\n",
    "\n",
    "print(f\"\\nMulti-period Option Prices (T={T}):\")\n",
    "print(f\"Call: {call_price:.4f}\")\n",
    "print(f\"Put:  {put_price:.4f}\")\n",
    "\n"
   ]
  },
  {
   "cell_type": "code",
   "execution_count": 2,
   "metadata": {},
   "outputs": [
    {
     "data": {
      "text/plain": [
       "array([[ 6.,  5.],\n",
       "       [ 0., 10.]])"
      ]
     },
     "execution_count": 2,
     "metadata": {},
     "output_type": "execute_result"
    }
   ],
   "source": [
    "stock_prices"
   ]
  },
  {
   "cell_type": "code",
   "execution_count": null,
   "metadata": {},
   "outputs": [],
   "source": []
  }
 ],
 "metadata": {
  "kernelspec": {
   "display_name": "Python 3",
   "language": "python",
   "name": "python3"
  },
  "language_info": {
   "codemirror_mode": {
    "name": "ipython",
    "version": 3
   },
   "file_extension": ".py",
   "mimetype": "text/x-python",
   "name": "python",
   "nbconvert_exporter": "python",
   "pygments_lexer": "ipython3",
   "version": "3.9.13"
  }
 },
 "nbformat": 4,
 "nbformat_minor": 2
}
