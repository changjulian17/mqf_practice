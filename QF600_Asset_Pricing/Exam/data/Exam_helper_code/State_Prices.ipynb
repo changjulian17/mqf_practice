{
 "cells": [
  {
   "cell_type": "markdown",
   "metadata": {},
   "source": [
    "# State Prices"
   ]
  },
  {
   "cell_type": "markdown",
   "metadata": {},
   "source": [
    "- state prices\n",
    "- call option pricing"
   ]
  },
  {
   "cell_type": "code",
   "execution_count": 14,
   "metadata": {},
   "outputs": [],
   "source": [
    "import pandas as pd\n",
    "import numpy as np\n",
    "\n",
    "# Create a DataFrame from the data\n",
    "df = pd.DataFrame({\n",
    "    \"State\":    [\"Good\", \"Normal\", \"Bad\"],\n",
    "    \"Phys Prob\":[0.3, 0.5, 0.2],\n",
    "    \"Stock A\":  [75, 55, 20],\n",
    "    \"Stock B\":  [60, 50, 40]\n",
    "})\n",
    "\n",
    "df_transposed = df.transpose()\n",
    "df_transposed.to_csv(\"State_Prices.csv\")"
   ]
  },
  {
   "cell_type": "code",
   "execution_count": 15,
   "metadata": {},
   "outputs": [
    {
     "data": {
      "text/html": [
       "<div>\n",
       "<style scoped>\n",
       "    .dataframe tbody tr th:only-of-type {\n",
       "        vertical-align: middle;\n",
       "    }\n",
       "\n",
       "    .dataframe tbody tr th {\n",
       "        vertical-align: top;\n",
       "    }\n",
       "\n",
       "    .dataframe thead th {\n",
       "        text-align: right;\n",
       "    }\n",
       "</style>\n",
       "<table border=\"1\" class=\"dataframe\">\n",
       "  <thead>\n",
       "    <tr style=\"text-align: right;\">\n",
       "      <th></th>\n",
       "      <th>State</th>\n",
       "      <th>Phys Prob</th>\n",
       "      <th>Stock A</th>\n",
       "      <th>Stock B</th>\n",
       "    </tr>\n",
       "  </thead>\n",
       "  <tbody>\n",
       "    <tr>\n",
       "      <th>0</th>\n",
       "      <td>Good</td>\n",
       "      <td>0.3</td>\n",
       "      <td>75</td>\n",
       "      <td>60</td>\n",
       "    </tr>\n",
       "    <tr>\n",
       "      <th>1</th>\n",
       "      <td>Normal</td>\n",
       "      <td>0.5</td>\n",
       "      <td>55</td>\n",
       "      <td>50</td>\n",
       "    </tr>\n",
       "    <tr>\n",
       "      <th>2</th>\n",
       "      <td>Bad</td>\n",
       "      <td>0.2</td>\n",
       "      <td>20</td>\n",
       "      <td>40</td>\n",
       "    </tr>\n",
       "  </tbody>\n",
       "</table>\n",
       "</div>"
      ],
      "text/plain": [
       "    State  Phys Prob  Stock A  Stock B\n",
       "0    Good        0.3       75       60\n",
       "1  Normal        0.5       55       50\n",
       "2     Bad        0.2       20       40"
      ]
     },
     "execution_count": 15,
     "metadata": {},
     "output_type": "execute_result"
    }
   ],
   "source": [
    "df"
   ]
  },
  {
   "cell_type": "code",
   "execution_count": 16,
   "metadata": {},
   "outputs": [],
   "source": [
    "df = pd.read_csv('State_Prices.csv', header=1)\n",
    "df.set_index('State', inplace=True)"
   ]
  },
  {
   "cell_type": "code",
   "execution_count": 17,
   "metadata": {},
   "outputs": [
    {
     "data": {
      "text/plain": [
       "array([[ 1., 75., 60.],\n",
       "       [ 1., 55., 50.],\n",
       "       [ 1., 20., 40.]])"
      ]
     },
     "execution_count": 17,
     "metadata": {},
     "output_type": "execute_result"
    }
   ],
   "source": [
    "# let X be k × n matrix that shows all possible outcomes of assets\n",
    "X = df.values.T[:,1:]       # remove probability row\n",
    "\n",
    "# Create a column of 1s with the same number of rows as the data array\n",
    "ones_column = np.ones((X.shape[0], 1))\n",
    "\n",
    "# Concatenate the column of 1s with the data array horizontally\n",
    "X = np.hstack((ones_column, X))\n",
    "\n",
    "X"
   ]
  },
  {
   "cell_type": "code",
   "execution_count": 18,
   "metadata": {},
   "outputs": [
    {
     "data": {
      "text/plain": [
       "array([ 0.90909091, 45.        , 45.        ])"
      ]
     },
     "execution_count": 18,
     "metadata": {},
     "output_type": "execute_result"
    }
   ],
   "source": [
    "# define initial prices\n",
    "R_f = 1.1\n",
    "Initial_px_A = 45\n",
    "Initial_px_B = 45\n",
    "\n",
    "\n",
    "P = np.array([1/R_f, Initial_px_A, Initial_px_B])\n",
    "P"
   ]
  },
  {
   "cell_type": "markdown",
   "metadata": {},
   "source": [
    "State prices $p_s = \\vec{P}' X^{-1}$"
   ]
  },
  {
   "cell_type": "code",
   "execution_count": 19,
   "metadata": {},
   "outputs": [
    {
     "data": {
      "text/plain": [
       "array([0.22727273, 0.40909091, 0.27272727])"
      ]
     },
     "execution_count": 19,
     "metadata": {},
     "output_type": "execute_result"
    }
   ],
   "source": [
    "# get vector of state prices\n",
    "vector_state_prices = P.T@np.linalg.inv(X)\n",
    "vector_state_prices"
   ]
  },
  {
   "cell_type": "markdown",
   "metadata": {},
   "source": [
    "$p_s$ is known as state price for state s, which represents initial value of receiving final payoff of one in state s.\n",
    "\n",
    "Risk Neutral porb is equal to risk-free by state prices\n",
    "$\\tilde{\\pi}_s = R_f \\times p_s$"
   ]
  },
  {
   "cell_type": "code",
   "execution_count": 20,
   "metadata": {},
   "outputs": [
    {
     "data": {
      "text/plain": [
       "array([0.25, 0.45, 0.3 ])"
      ]
     },
     "execution_count": 20,
     "metadata": {},
     "output_type": "execute_result"
    }
   ],
   "source": [
    "# get vector of risk-neutral probs\n",
    "risk_neutral_probs = vector_state_prices * R_f\n",
    "risk_neutral_probs"
   ]
  },
  {
   "cell_type": "code",
   "execution_count": 21,
   "metadata": {},
   "outputs": [
    {
     "data": {
      "text/plain": [
       "array([0.22727273, 0.40909091, 0.27272727])"
      ]
     },
     "execution_count": 21,
     "metadata": {},
     "output_type": "execute_result"
    }
   ],
   "source": [
    "P.T@np.linalg.inv(X)"
   ]
  },
  {
   "cell_type": "markdown",
   "metadata": {},
   "source": [
    "Instead of using state prices. also can use  the equation directly\n",
    "\n",
    "$P_Y = \\vec{P}' X^{-1} \\vec{Y}$ \n",
    "\n",
    "where $P_Y$ is initial prices, $\\vec{Y}$ is target final outcome\n",
    "\n",
    "---\n",
    "#### Option to buy one share of Stock A and one share of Stock B for 100"
   ]
  },
  {
   "cell_type": "code",
   "execution_count": 22,
   "metadata": {},
   "outputs": [
    {
     "data": {
      "text/plain": [
       "'\\n\\nfor asigning different stock quantities in the final pay off for the function\\n\\n'"
      ]
     },
     "execution_count": 22,
     "metadata": {},
     "output_type": "execute_result"
    }
   ],
   "source": [
    "\"\"\"\n",
    "\n",
    "for asigning different stock quantities in the final pay off for the function\n",
    "\n",
    "\"\"\"\n",
    "\n",
    "# Create a quantity array\n",
    "# quantities = np.array([1, 2, 0])\n",
    "\n",
    "# # Reshape the quantities array to match the number of columns in the main array\n",
    "# quantities = quantities.reshape(1, -1)\n",
    "\n",
    "# # Multiply each column of the array by the corresponding element in the quantities array\n",
    "# scaled_arr = X * quantities\n",
    "\n",
    "# print(scaled_arr)"
   ]
  },
  {
   "cell_type": "code",
   "execution_count": 23,
   "metadata": {},
   "outputs": [
    {
     "data": {
      "text/plain": [
       "array([135., 105.,  60.])"
      ]
     },
     "execution_count": 23,
     "metadata": {},
     "output_type": "execute_result"
    }
   ],
   "source": [
    "# Sum final price of 1 share of stock A and 1 share of stock B\n",
    "(X[:,1:].sum(axis=1))"
   ]
  },
  {
   "cell_type": "code",
   "execution_count": 24,
   "metadata": {},
   "outputs": [
    {
     "data": {
      "text/plain": [
       "array([35.,  5.,  0.])"
      ]
     },
     "execution_count": 24,
     "metadata": {},
     "output_type": "execute_result"
    }
   ],
   "source": [
    "# call option strike\n",
    "K =100\n",
    "call_payoff = np.clip(X[:, 1:].sum(axis=1) - K, 0, None)\n",
    "call_payoff"
   ]
  },
  {
   "cell_type": "code",
   "execution_count": 25,
   "metadata": {},
   "outputs": [
    {
     "name": "stdout",
     "output_type": "stream",
     "text": [
      "10.000000000000027\n",
      "10.000000000000025\n"
     ]
    }
   ],
   "source": [
    "# Method 1\n",
    "expected_final_payoff = (vector_state_prices * call_payoff).sum()  # first element times first element of both arrays, then sum\n",
    "initial_px_option = expected_final_payoff\n",
    "print(initial_px_option)\n",
    "\n",
    "# Method 2\n",
    "expected_final_payoff_2 = (risk_neutral_probs * call_payoff).sum()\n",
    "initial_px_option_2 = expected_final_payoff_2 / R_f\n",
    "print(initial_px_option_2)"
   ]
  },
  {
   "cell_type": "markdown",
   "metadata": {},
   "source": [
    "when getting risk neutral price.\n",
    "\n",
    "- use P measure then discount by pricing kernel\n",
    "- use Q measure then discount by risk-free rate"
   ]
  }
 ],
 "metadata": {
  "kernelspec": {
   "display_name": "Python 3",
   "language": "python",
   "name": "python3"
  },
  "language_info": {
   "codemirror_mode": {
    "name": "ipython",
    "version": 3
   },
   "file_extension": ".py",
   "mimetype": "text/x-python",
   "name": "python",
   "nbconvert_exporter": "python",
   "pygments_lexer": "ipython3",
   "version": "3.12.0"
  }
 },
 "nbformat": 4,
 "nbformat_minor": 2
}
