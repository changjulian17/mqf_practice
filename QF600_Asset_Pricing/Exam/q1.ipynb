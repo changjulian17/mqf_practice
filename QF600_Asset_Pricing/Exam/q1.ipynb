{
 "cells": [
  {
   "cell_type": "code",
   "execution_count": 1,
   "metadata": {},
   "outputs": [],
   "source": [
    "import pandas as pd\n",
    "import warnings\n",
    "import numpy as np\n",
    "from sklearn.linear_model import LinearRegression\n",
    "import matplotlib.pyplot as plt"
   ]
  },
  {
   "cell_type": "code",
   "execution_count": 2,
   "metadata": {},
   "outputs": [],
   "source": [
    "df_industries = pd.read_excel('./data/Exam-Industry.xlsx', index_col='Date')\n",
    "# df_market = pd.read_excel('./data/Market_Portfolio.xlsx', index_col='Date')\n",
    "# df = pd.merge(df_industries, df_market, left_index=True, right_index=True)"
   ]
  },
  {
   "cell_type": "markdown",
   "metadata": {},
   "source": [
    "Exam-Industry.xlsx contains six years of monthly excess returns for five industry portfolios.\n",
    "\n",
    "Exam–Market.xlsx contains six years of monthly excess returns for the market portfolio.\n",
    "\n",
    "You are not required to submit an answer for this question.\n",
    "\n",
    "You should download the data files immediately, since you won't be able to return here once you move to the next question."
   ]
  },
  {
   "cell_type": "markdown",
   "metadata": {},
   "source": []
  }
 ],
 "metadata": {
  "kernelspec": {
   "display_name": "Python 3",
   "language": "python",
   "name": "python3"
  },
  "language_info": {
   "codemirror_mode": {
    "name": "ipython",
    "version": 3
   },
   "file_extension": ".py",
   "mimetype": "text/x-python",
   "name": "python",
   "nbconvert_exporter": "python",
   "pygments_lexer": "ipython3",
   "version": "3.9.13"
  }
 },
 "nbformat": 4,
 "nbformat_minor": 2
}
