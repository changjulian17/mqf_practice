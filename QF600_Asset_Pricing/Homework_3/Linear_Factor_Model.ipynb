{
 "cells": [
  {
   "cell_type": "markdown",
   "metadata": {},
   "source": [
    "# QF600 - Homework 3\n",
    "*by Julian Chang*\n",
    "> ## Linear Factor Models\n",
    "> ### Performance Measurement\n",
    "> `Risk_Factors.xlsx` contains monthly observations of the risk-free rate and the three Fama–French risk factors (expressed as percentages), over the ten-year period from Jan 2004 through Dec 2013."
   ]
  },
  {
   "cell_type": "code",
   "execution_count": 1,
   "metadata": {},
   "outputs": [],
   "source": [
    "import pandas as pd\n",
    "import warnings\n",
    "import numpy as np\n",
    "from sklearn.linear_model import LinearRegression\n",
    "import matplotlib.pyplot as plt\n",
    "\n",
    "\n",
    "warnings.filterwarnings(\"ignore\", category=UserWarning, module=\"openpyxl\")\n",
    "df_industries = pd.read_excel('./data/Industry_Portfolios.xlsx', index_col='Date')\n",
    "# df_market = pd.read_excel('./data/Market_Portfolio.xlsx', index_col='Date')\n",
    "df_risk_factors = pd.read_excel('./data/Risk_Factors.xlsx', index_col='Date')"
   ]
  },
  {
   "cell_type": "markdown",
   "metadata": {},
   "source": [
    "> Regress the monthly excess returns for each industry portfolio on the three Fama–French risk factors:\n",
    "\n",
    "$$\n",
    "\\tilde{R_i} - R_f = \\alpha_i - \\beta_i\\left(\\tilde{R_m} - R_f\\right) \n",
    "                                + \\gamma_i\\left(\\tilde{R_s} - \\tilde{R_b}\\right)\n",
    "                                + \\delta_i\\left(\\tilde{R_h} - \\tilde{R_l}\\right)\n",
    "                                + \\tilde{\\epsilon}\n",
    "$$"
   ]
  },
  {
   "cell_type": "code",
   "execution_count": 2,
   "metadata": {},
   "outputs": [],
   "source": [
    "excess_returns = df_industries.values - df_risk_factors['Rf'].values[:, np.newaxis]\n"
   ]
  },
  {
   "cell_type": "code",
   "execution_count": 3,
   "metadata": {},
   "outputs": [],
   "source": [
    "risk_factors = df_risk_factors[['Rm-Rf','SMB','HML']].values"
   ]
  },
  {
   "cell_type": "code",
   "execution_count": 4,
   "metadata": {},
   "outputs": [
    {
     "data": {
      "text/plain": [
       "LinearRegression()"
      ]
     },
     "execution_count": 4,
     "metadata": {},
     "output_type": "execute_result"
    }
   ],
   "source": [
    "ff_model = LinearRegression()\n",
    "ff_model.fit(risk_factors, excess_returns)"
   ]
  },
  {
   "cell_type": "code",
   "execution_count": 5,
   "metadata": {},
   "outputs": [],
   "source": [
    "ff_coefficients = ff_model.coef_\n",
    "ff_intercept   = ff_model.intercept_"
   ]
  },
  {
   "cell_type": "code",
   "execution_count": 6,
   "metadata": {},
   "outputs": [],
   "source": [
    "lfm_df = pd.DataFrame({\n",
    "    'Intercept (Alpha_i)'  : ff_intercept,\n",
    "    'Market Risk (Beta_i)' : ff_coefficients[:,0],\n",
    "    'Size (SMB)'           : ff_coefficients[:,1],\n",
    "    'Value (HML)'          : ff_coefficients[:,2]\n",
    "    }, index=df_industries.columns)"
   ]
  },
  {
   "cell_type": "markdown",
   "metadata": {},
   "source": [
    "\n",
    "> Create a table showing the factor loadings on SMB and HML for the ten industry portfolios.\n"
   ]
  },
  {
   "cell_type": "code",
   "execution_count": 7,
   "metadata": {},
   "outputs": [
    {
     "name": "stdout",
     "output_type": "stream",
     "text": [
      "\n",
      "Computed Alpha and Betas for 10 Industries:\n"
     ]
    },
    {
     "data": {
      "text/html": [
       "<div>\n",
       "<style scoped>\n",
       "    .dataframe tbody tr th:only-of-type {\n",
       "        vertical-align: middle;\n",
       "    }\n",
       "\n",
       "    .dataframe tbody tr th {\n",
       "        vertical-align: top;\n",
       "    }\n",
       "\n",
       "    .dataframe thead th {\n",
       "        text-align: right;\n",
       "    }\n",
       "</style>\n",
       "<table border=\"1\" class=\"dataframe\">\n",
       "  <thead>\n",
       "    <tr style=\"text-align: right;\">\n",
       "      <th></th>\n",
       "      <th>Intercept (Alpha_i)</th>\n",
       "      <th>Market Risk (Beta_i)</th>\n",
       "      <th>Size (SMB)</th>\n",
       "      <th>Value (HML)</th>\n",
       "    </tr>\n",
       "  </thead>\n",
       "  <tbody>\n",
       "    <tr>\n",
       "      <th>NoDur</th>\n",
       "      <td>0.3867</td>\n",
       "      <td>0.7121</td>\n",
       "      <td>-0.2291</td>\n",
       "      <td>-0.0233</td>\n",
       "    </tr>\n",
       "    <tr>\n",
       "      <th>Durbl</th>\n",
       "      <td>-0.4743</td>\n",
       "      <td>1.4475</td>\n",
       "      <td>0.6709</td>\n",
       "      <td>0.2409</td>\n",
       "    </tr>\n",
       "    <tr>\n",
       "      <th>Manuf</th>\n",
       "      <td>0.1533</td>\n",
       "      <td>1.1423</td>\n",
       "      <td>0.0874</td>\n",
       "      <td>0.0277</td>\n",
       "    </tr>\n",
       "    <tr>\n",
       "      <th>Enrgy</th>\n",
       "      <td>0.5230</td>\n",
       "      <td>1.0284</td>\n",
       "      <td>-0.2594</td>\n",
       "      <td>-0.0082</td>\n",
       "    </tr>\n",
       "    <tr>\n",
       "      <th>HiTec</th>\n",
       "      <td>-0.0660</td>\n",
       "      <td>1.1528</td>\n",
       "      <td>0.3357</td>\n",
       "      <td>-0.5569</td>\n",
       "    </tr>\n",
       "    <tr>\n",
       "      <th>Telcm</th>\n",
       "      <td>0.2007</td>\n",
       "      <td>0.9241</td>\n",
       "      <td>-0.0803</td>\n",
       "      <td>-0.0191</td>\n",
       "    </tr>\n",
       "    <tr>\n",
       "      <th>Shops</th>\n",
       "      <td>0.2559</td>\n",
       "      <td>0.7702</td>\n",
       "      <td>0.2802</td>\n",
       "      <td>-0.0391</td>\n",
       "    </tr>\n",
       "    <tr>\n",
       "      <th>Hlth</th>\n",
       "      <td>0.2575</td>\n",
       "      <td>0.7520</td>\n",
       "      <td>-0.2127</td>\n",
       "      <td>-0.1438</td>\n",
       "    </tr>\n",
       "    <tr>\n",
       "      <th>Utils</th>\n",
       "      <td>0.4744</td>\n",
       "      <td>0.6318</td>\n",
       "      <td>-0.3880</td>\n",
       "      <td>-0.0169</td>\n",
       "    </tr>\n",
       "    <tr>\n",
       "      <th>Other</th>\n",
       "      <td>-0.4044</td>\n",
       "      <td>1.1235</td>\n",
       "      <td>-0.0617</td>\n",
       "      <td>0.5473</td>\n",
       "    </tr>\n",
       "  </tbody>\n",
       "</table>\n",
       "</div>"
      ],
      "text/plain": [
       "       Intercept (Alpha_i)  Market Risk (Beta_i)  Size (SMB)  Value (HML)\n",
       "NoDur               0.3867                0.7121     -0.2291      -0.0233\n",
       "Durbl              -0.4743                1.4475      0.6709       0.2409\n",
       "Manuf               0.1533                1.1423      0.0874       0.0277\n",
       "Enrgy               0.5230                1.0284     -0.2594      -0.0082\n",
       "HiTec              -0.0660                1.1528      0.3357      -0.5569\n",
       "Telcm               0.2007                0.9241     -0.0803      -0.0191\n",
       "Shops               0.2559                0.7702      0.2802      -0.0391\n",
       "Hlth                0.2575                0.7520     -0.2127      -0.1438\n",
       "Utils               0.4744                0.6318     -0.3880      -0.0169\n",
       "Other              -0.4044                1.1235     -0.0617       0.5473"
      ]
     },
     "execution_count": 7,
     "metadata": {},
     "output_type": "execute_result"
    }
   ],
   "source": [
    "print(\"\\nComputed Alpha and Betas for 10 Industries:\")\n",
    "lfm_df.round(4)"
   ]
  },
  {
   "cell_type": "markdown",
   "metadata": {},
   "source": [
    "> Using monthly excess returns for the ten industry portfolios, calculate the following performance metrics:\n",
    "> - Sharpe ratio\n",
    "$$\n",
    "S_i = \\frac{\\mathbb{E}\\left[\\tilde{R_i}-R_f\\right]}{\\sqrt{\\text{Var}\\left(\\tilde{R_i}-R_f\\right)}}\n",
    "$$\n",
    "> - Sortino ratio (using risk-free rate as target)\n",
    "$$\n",
    "S_{t_i} = \\frac{\\mathbb{E}\\left[\\tilde{R_i}-\\tilde{R_t}\\right]}{\\sqrt{\\text{Var}\\left(\\tilde{R_i}-\\tilde{R_t}\\right)}}\n",
    "$$\n",
    "$$ \n",
    "\\frac{1}{T} \\sum_{t=1}^{T} \\text{min} \\{R_{it}-R_{ft},0\\}^2\n",
    "$$\n",
    "> - Treynor ratio (using CAPM β)\n",
    "$$\n",
    "T_i = \\frac{\\mathbb{E}\\left[\\tilde{R_i}-R_f\\right]}{\\beta_i}\n",
    "$$\n",
    "> - Jensen's α\n",
    "> - Fama–French three-factor α\n",
    ">\n",
    "> The sample semi-variance can be estimated as:\n",
    "\n",
    "> where Ri is return on industry portfolio and Rf is risk-free rate.\n",
    "> Create a table showing the performance metrics for the ten industry portfolios.\n"
   ]
  },
  {
   "cell_type": "code",
   "execution_count": 8,
   "metadata": {},
   "outputs": [],
   "source": [
    "sharpe = np.mean(excess_returns,axis=0)/np.std(excess_returns,axis=0)"
   ]
  },
  {
   "cell_type": "code",
   "execution_count": 9,
   "metadata": {},
   "outputs": [],
   "source": [
    "below_target_semi_variance = np.sum(np.where(excess_returns<0,  # filter indices for negative values\n",
    "                          excess_returns,    # if false set to 0\n",
    "                          0\n",
    "                          )**2, \n",
    "                          axis=0)/df_industries.count() # divide by no. of data points\n",
    "\n",
    "sortino = np.mean(excess_returns,axis=0) / np.sqrt(below_target_semi_variance)"
   ]
  },
  {
   "cell_type": "code",
   "execution_count": 10,
   "metadata": {},
   "outputs": [
    {
     "data": {
      "text/plain": [
       "LinearRegression()"
      ]
     },
     "execution_count": 10,
     "metadata": {},
     "output_type": "execute_result"
    }
   ],
   "source": [
    "m_model = LinearRegression()\n",
    "m_model.fit(risk_factors[:,0].reshape(-1,1), excess_returns)"
   ]
  },
  {
   "cell_type": "code",
   "execution_count": 11,
   "metadata": {},
   "outputs": [],
   "source": [
    "m_coefficients = m_model.coef_.flatten()\n",
    "m_intercept = m_model.intercept_\n",
    "\n",
    "treynor = df_industries.mean()/m_coefficients\n",
    "jensens_alpha = m_intercept\n",
    "ff_alpha      = ff_intercept"
   ]
  },
  {
   "cell_type": "code",
   "execution_count": 20,
   "metadata": {},
   "outputs": [
    {
     "data": {
      "text/html": [
       "<div>\n",
       "<style scoped>\n",
       "    .dataframe tbody tr th:only-of-type {\n",
       "        vertical-align: middle;\n",
       "    }\n",
       "\n",
       "    .dataframe tbody tr th {\n",
       "        vertical-align: top;\n",
       "    }\n",
       "\n",
       "    .dataframe thead th {\n",
       "        text-align: right;\n",
       "    }\n",
       "</style>\n",
       "<table border=\"1\" class=\"dataframe\">\n",
       "  <thead>\n",
       "    <tr style=\"text-align: right;\">\n",
       "      <th></th>\n",
       "      <th>Sharpe Ratio</th>\n",
       "      <th>Sortino Ratio</th>\n",
       "      <th>Treynor Ratio</th>\n",
       "      <th>Jensen's Alpha</th>\n",
       "      <th>Fama-French Alpha</th>\n",
       "    </tr>\n",
       "  </thead>\n",
       "  <tbody>\n",
       "    <tr>\n",
       "      <th>NoDur</th>\n",
       "      <td>0.232068</td>\n",
       "      <td>0.350804</td>\n",
       "      <td>1.381020</td>\n",
       "      <td>0.369717</td>\n",
       "      <td>0.386704</td>\n",
       "    </tr>\n",
       "    <tr>\n",
       "      <th>Durbl</th>\n",
       "      <td>0.072659</td>\n",
       "      <td>0.111967</td>\n",
       "      <td>0.444613</td>\n",
       "      <td>-0.417903</td>\n",
       "      <td>-0.474342</td>\n",
       "    </tr>\n",
       "    <tr>\n",
       "      <th>Manuf</th>\n",
       "      <td>0.167315</td>\n",
       "      <td>0.241260</td>\n",
       "      <td>0.867205</td>\n",
       "      <td>0.160494</td>\n",
       "      <td>0.153285</td>\n",
       "    </tr>\n",
       "    <tr>\n",
       "      <th>Enrgy</th>\n",
       "      <td>0.182470</td>\n",
       "      <td>0.273612</td>\n",
       "      <td>1.275124</td>\n",
       "      <td>0.504485</td>\n",
       "      <td>0.523007</td>\n",
       "    </tr>\n",
       "    <tr>\n",
       "      <th>HiTec</th>\n",
       "      <td>0.119050</td>\n",
       "      <td>0.170620</td>\n",
       "      <td>0.676668</td>\n",
       "      <td>-0.064024</td>\n",
       "      <td>-0.065979</td>\n",
       "    </tr>\n",
       "    <tr>\n",
       "      <th>Telcm</th>\n",
       "      <td>0.169773</td>\n",
       "      <td>0.244940</td>\n",
       "      <td>0.977482</td>\n",
       "      <td>0.194348</td>\n",
       "      <td>0.200724</td>\n",
       "    </tr>\n",
       "    <tr>\n",
       "      <th>Shops</th>\n",
       "      <td>0.192557</td>\n",
       "      <td>0.293032</td>\n",
       "      <td>1.104661</td>\n",
       "      <td>0.274093</td>\n",
       "      <td>0.255941</td>\n",
       "    </tr>\n",
       "    <tr>\n",
       "      <th>Hlth</th>\n",
       "      <td>0.173253</td>\n",
       "      <td>0.270294</td>\n",
       "      <td>1.159705</td>\n",
       "      <td>0.236968</td>\n",
       "      <td>0.257472</td>\n",
       "    </tr>\n",
       "    <tr>\n",
       "      <th>Utils</th>\n",
       "      <td>0.211832</td>\n",
       "      <td>0.290044</td>\n",
       "      <td>1.689294</td>\n",
       "      <td>0.446523</td>\n",
       "      <td>0.474411</td>\n",
       "    </tr>\n",
       "    <tr>\n",
       "      <th>Other</th>\n",
       "      <td>0.064964</td>\n",
       "      <td>0.087351</td>\n",
       "      <td>0.405208</td>\n",
       "      <td>-0.387508</td>\n",
       "      <td>-0.404412</td>\n",
       "    </tr>\n",
       "  </tbody>\n",
       "</table>\n",
       "</div>"
      ],
      "text/plain": [
       "       Sharpe Ratio  Sortino Ratio  Treynor Ratio  Jensen's Alpha  \\\n",
       "NoDur      0.232068       0.350804       1.381020        0.369717   \n",
       "Durbl      0.072659       0.111967       0.444613       -0.417903   \n",
       "Manuf      0.167315       0.241260       0.867205        0.160494   \n",
       "Enrgy      0.182470       0.273612       1.275124        0.504485   \n",
       "HiTec      0.119050       0.170620       0.676668       -0.064024   \n",
       "Telcm      0.169773       0.244940       0.977482        0.194348   \n",
       "Shops      0.192557       0.293032       1.104661        0.274093   \n",
       "Hlth       0.173253       0.270294       1.159705        0.236968   \n",
       "Utils      0.211832       0.290044       1.689294        0.446523   \n",
       "Other      0.064964       0.087351       0.405208       -0.387508   \n",
       "\n",
       "       Fama-French Alpha  \n",
       "NoDur           0.386704  \n",
       "Durbl          -0.474342  \n",
       "Manuf           0.153285  \n",
       "Enrgy           0.523007  \n",
       "HiTec          -0.065979  \n",
       "Telcm           0.200724  \n",
       "Shops           0.255941  \n",
       "Hlth            0.257472  \n",
       "Utils           0.474411  \n",
       "Other          -0.404412  "
      ]
     },
     "execution_count": 20,
     "metadata": {},
     "output_type": "execute_result"
    }
   ],
   "source": [
    "performance_df = pd.DataFrame({\n",
    "    'Sharpe Ratio':       sharpe,\n",
    "    'Sortino Ratio' :     sortino,\n",
    "    'Treynor Ratio' :     treynor, \n",
    "    'Jensen\\'s Alpha' :   jensens_alpha, \n",
    "    'Fama-French Alpha' : ff_alpha\n",
    "    }, index=df_industries.columns)\n",
    "\n",
    "performance_df"
   ]
  },
  {
   "cell_type": "markdown",
   "metadata": {},
   "source": [
    "\n",
    "> Plot your results as a bar chart for each performance metric."
   ]
  },
  {
   "cell_type": "code",
   "execution_count": 35,
   "metadata": {},
   "outputs": [
    {
     "data": {
      "image/png": "[encoded data removed]",
      "text/plain": [
       "<Figure size 1000x1000 with 5 Axes>"
      ]
     },
     "metadata": {},
     "output_type": "display_data"
    }
   ],
   "source": [
    "# Define colors for the bars\n",
    "colors = ['skyblue', 'lightgreen', 'orange', 'pink', 'purple']\n",
    "\n",
    "# Generate subplots and iterate over columns (ratios)\n",
    "fig, axes = plt.subplots(3, 2, figsize=(10, 10))\n",
    "\n",
    "axes = axes.ravel()  # Flatten axes array into 1D\n",
    "\n",
    "for i, col in enumerate(performance_df.columns):\n",
    "    axes[i].bar(performance_df.index, performance_df[col], color=colors[i])\n",
    "    axes[i].set_title(col)\n",
    "    axes[i].set_xlabel('Industry')\n",
    "    axes[i].grid(axis='y')\n",
    "\n",
    "# Remove the empty subplot (the last one)\n",
    "fig.delaxes(axes[-1])\n",
    "\n",
    "# Tight layout to prevent overlapping labels\n",
    "plt.tight_layout()\n",
    "plt.show()"
   ]
  },
  {
   "cell_type": "markdown",
   "metadata": {},
   "source": [
    "> Briefly explain (in words, without mathematical equations or formulas) the economic significance and pricing implications of each of the three performance ratios (but not α's).\n",
    "Please submit your results (including relevant tables and graphs) as an Adobe PDF file to Homework 3.\n",
    "\n",
    "#### Sortino Ratio\n",
    "Focus: Measures risk-adjusted returns, focusing on downside risk (losses).\n",
    "Economic Significance: Better reflects investment strategies that aim to limit downside risk, such as those used in retirement planning or risk-averse portfolios.\n",
    "Pricing Implications: Investors might be willing to pay a premium for investments with a high Sortino ratio, indicating a better return for the level of downside risk taken.\n",
    "##### Sharpe Ratio\n",
    "Focus: Measures risk-adjusted returns, considering both upside and downside risk.\n",
    "Economic Significance: Widely used for comparing investments across different asset classes.\n",
    "Pricing Implications: A higher Sharpe ratio suggests a more efficient investment, potentially leading to a higher price or demand.\n",
    "##### Treynor Ratio\n",
    "Focus: Measures systematic risk-adjusted returns, focusing on market risk.\n",
    "Economic Significance: Useful for evaluating investments that are highly correlated with the overall market.\n",
    "Pricing Implications: A higher Treynor ratio suggests a better return for the level of market risk, which can influence pricing decisions."
   ]
  }
 ],
 "metadata": {
  "kernelspec": {
   "display_name": "Python 3",
   "language": "python",
   "name": "python3"
  },
  "language_info": {
   "codemirror_mode": {
    "name": "ipython",
    "version": 3
   },
   "file_extension": ".py",
   "mimetype": "text/x-python",
   "name": "python",
   "nbconvert_exporter": "python",
   "pygments_lexer": "ipython3",
   "version": "3.9.13"
  }
 },
 "nbformat": 4,
 "nbformat_minor": 2
}
