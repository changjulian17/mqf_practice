{
 "cells": [
  {
   "cell_type": "markdown",
   "metadata": {},
   "source": [
    "# QF600 - Homework 6\n",
    "*by Julian Chang*\n",
    "\n",
    "\n",
    "> ## Behavioural Finance\n",
    "> Assume Barberis, Huang, and Santos economy where investor receives utility from consumption as well as recent financial gain or loss. Use these parameters:\n",
    "> $$\n",
    "> \\delta = 0.99, \\quad \\gamma = 1, \\quad \\lambda = 2\n",
    "> $$\n",
    "\n",
    "> Consumption growth has lognormal distribution:\n",
    "> $$\n",
    "> \\log(\\tilde{g}) = 0.02 + 0.02 \\tilde{\\epsilon}\n",
    "> $$\n",
    "\n",
    "> where ε is standard normal random variable. Simulate probability distribution for consumption > growth with (at least) 10^4 random draws from standard normal distribution.\n"
   ]
  },
  {
   "cell_type": "code",
   "execution_count": 1,
   "metadata": {},
   "outputs": [],
   "source": [
    "import pandas as pd\n",
    "import warnings\n",
    "import numpy as np\n",
    "import matplotlib.pyplot as plt\n",
    "\n",
    "warnings.filterwarnings(\"ignore\", category=UserWarning, module=\"openpyxl\")\n",
    "warnings.filterwarnings(\"ignore\", category=UserWarning, module=\"matplotlib\")"
   ]
  },
  {
   "cell_type": "code",
   "execution_count": 10,
   "metadata": {},
   "outputs": [],
   "source": [
    "delta = 0.99\n",
    "gamma = 1\n",
    "lambd = 2\n",
    "\n",
    "size = 10**4\n",
    "\n",
    "# get estimate for g\n",
    "epsilon = np.random.standard_normal(size)\n",
    "ln_g = 0.02 + 0.02 * epsilon\n",
    "g = np.exp(ln_g)\n",
    "\n",
    "# get estimates for v(R) where R = x g~\n"
   ]
  },
  {
   "cell_type": "code",
   "execution_count": 15,
   "metadata": {},
   "outputs": [],
   "source": [
    "x = 1\n",
    "\n",
    "xg = x*g\n",
    "\n",
    "exp_xg = [2 * (R - 1.0303) if R < 1.0303 else (R - 1.0303) for R in xg]\n",
    "\n",
    "print(exp_xg)\n",
    "ls = []\n",
    "for d in xg:\n",
    "    if d < 1.0303:\n",
    "        ls.append(2 * (R - 1.0303))\n"
   ]
  },
  {
   "cell_type": "code",
   "execution_count": 8,
   "metadata": {},
   "outputs": [
    {
     "data": {
      "text/plain": [
       "array([0.0075475 , 0.01601328, 0.00732252, ..., 0.01966836, 0.01630304,\n",
       "       0.01060827])"
      ]
     },
     "execution_count": 8,
     "metadata": {},
     "output_type": "execute_result"
    }
   ],
   "source": [
    "def get_div_yield(x):\n",
    "    \"\"\"\n",
    "    function to get div yield from x\n",
    "    \"\"\"\n",
    "\n",
    "def e(x, b0, g):\n",
    "    \"\"\"\n",
    "    function to get e\n",
    "    \"\"\"\n",
    "    xg = x * g\n",
    "    est_v = \n",
    "\n",
    "    return 0.99 * b0  \n"
   ]
  },
  {
   "cell_type": "markdown",
   "metadata": {},
   "source": [
    "Under optimal consumption: \n",
    "$$\n",
    "R_f = e^{\\rho + \\gamma \\mu - \\frac{1}{2} \\gamma^2 \\sigma^2}\n",
    "$$"
   ]
  },
  {
   "cell_type": "markdown",
   "metadata": {},
   "source": [
    "\n",
    "> With these parameters, risk-free rate is around 3% per year:\n",
    "> $$\n",
    "> R_f = \\frac{e^{0.0198}}{0.99} = 1.0303\n",
    "> $$\n",
    " \n",
    "\n",
    ">  Define x as one plus dividend yield for market portfolio:\n",
    "> $$\n",
    "> x = (1+\\frac{P}{D}) \\frac{D}{P} = 1+\\frac{D}{P} \n",
    "> $$\n",
    " \n",
    "> and define error term:\n",
    "> $$\n",
    "> e(x) = 0.99 b_0 E[v(x \\tilde{g})] + 0.99x -1\n",
    "> $$\n",
    "\n",
    "> where utility from recent financial gain or loss is given by:\n",
    "> $$\n",
    "> v(R) = R - 1.0303 \\quad \\text{for} R >= 1.0303\n",
    "> $$\n",
    "> $$\n",
    "> v(R) = 2(R - 1.0303) \\quad \\text{for} R < 1.0303\n",
    "> $$\n",
    "\n",
    "> Solve for e(x) = 0 to find equilibrium value of x, using bisection search:\n",
    "\n",
    "> Set x– = 1 and x+ = 1.1, and use simulated distribution of consumption growth to confirm that e(x–) < 0 and e(x+) > 0 ⇒ solution must lie between x– and x+\n",
    "> Set x0 = 0.5*(x– + x+) and use simulated distribution of consumption growth to calculate e(x0)\n",
    "> If |e(x0)| < 10–5, then you have converged to solution\n",
    "> Otherwise if e(x0) < 0, then solution lies between x0 and x+ ⇒ repeat from step 2 with x– = x0\n",
    "> Otherwise if e(x0) > 0, then solution lies between x– and x0 ⇒ repeat from step 2 with x+ = x0\n",
    "> Repeat for b0 in range from 0 to 10, in increments of 0.1 (or less).\n",
    "\n",
    "\n",
    "> Calculate price-dividend ratio for market portfolio:\n",
    "> $$\n",
    "> E(\\tilde{R}_m) = E(x \\tilde{g}) = x e^{0.0202}\n",
    "> $$\n",
    " \n",
    "> Plot price-dividend ratio (on vertical axis) vs b0.\n",
    "\n",
    "> Calculate expected market return:\n",
    "> Plot equity premium (on vertical axis) vs b0.\n",
    "\n",
    "> Briefly describe (in words, without using mathematical equations or formulas) main characteristics of v(∙) as well as economic significance and implications of b0 and λ."
   ]
  },
  {
   "cell_type": "markdown",
   "metadata": {},
   "source": []
  }
 ],
 "metadata": {
  "kernelspec": {
   "display_name": "Python 3",
   "language": "python",
   "name": "python3"
  },
  "language_info": {
   "codemirror_mode": {
    "name": "ipython",
    "version": 3
   },
   "file_extension": ".py",
   "mimetype": "text/x-python",
   "name": "python",
   "nbconvert_exporter": "python",
   "pygments_lexer": "ipython3",
   "version": "3.9.13"
  }
 },
 "nbformat": 4,
 "nbformat_minor": 4
}
