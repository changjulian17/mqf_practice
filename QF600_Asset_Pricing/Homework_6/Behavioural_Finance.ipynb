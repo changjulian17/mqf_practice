{
 "cells": [
  {
   "cell_type": "markdown",
   "metadata": {},
   "source": [
    "# QF600 - Homework 6\n",
    "*by Julian Chang*\n",
    "\n",
    "\n",
    "> ## Behavioural Finance\n",
    "> Assume Barberis, Huang, and Santos economy where investor receives utility from consumption as well as recent financial gain or loss. Use these parameters:\n",
    "> $$\n",
    "> \\delta = 0.99, \\quad \\gamma = 1, \\quad \\lambda = 2\n",
    "> $$\n",
    "\n",
    "> Consumption growth has lognormal distribution:\n",
    "> $$\n",
    "> \\log(\\tilde{g}) = 0.02 + 0.02 \\tilde{\\epsilon}\n",
    "> $$\n",
    "\n",
    "> where ε is standard normal random variable. Simulate probability distribution for consumption > growth with (at least) 10^4 random draws from standard normal distribution.\n"
   ]
  },
  {
   "cell_type": "code",
   "execution_count": 1,
   "metadata": {},
   "outputs": [],
   "source": [
    "import pandas as pd\n",
    "import warnings\n",
    "import numpy as np\n",
    "import matplotlib.pyplot as plt\n",
    "\n",
    "warnings.filterwarnings(\"ignore\", category=UserWarning, module=\"matplotlib\")"
   ]
  },
  {
   "cell_type": "markdown",
   "metadata": {},
   "source": [
    "Under optimal consumption: \n",
    "$$\n",
    "R_f = e^{\\rho + \\gamma \\mu - \\frac{1}{2} \\gamma^2 \\sigma^2}\n",
    "$$"
   ]
  },
  {
   "cell_type": "code",
   "execution_count": 11,
   "metadata": {},
   "outputs": [],
   "source": [
    "# instantiate constants\n",
    "delta = 0.99\n",
    "gamma = 1\n",
    "lambd = 2\n",
    "R_f = 1.0303\n",
    "# get estimate for g\n",
    "samples = 10**5\n",
    "epsilon = np.random.standard_normal(samples)\n",
    "ln_g = 0.02 + 0.02 * epsilon\n",
    "g = np.exp(ln_g)\n"
   ]
  },
  {
   "cell_type": "markdown",
   "metadata": {},
   "source": [
    "\n",
    "> With these parameters, risk-free rate is around 3% per year:\n",
    "> $$\n",
    "> R_f = \\frac{e^{0.0198}}{0.99} = R_f\n",
    "> $$\n",
    " \n",
    "\n",
    ">  Define x as one plus dividend yield for market portfolio:\n",
    "> $$\n",
    "> x = (1+\\frac{P}{D}) \\frac{D}{P} = 1+\\frac{D}{P} \n",
    "> $$\n",
    " \n",
    "> and define error term:\n",
    "> $$\n",
    "> e(x) = 0.99 b_0 E[v(x \\tilde{g})] + 0.99x -1\n",
    "> $$\n",
    "\n",
    "> where utility from recent financial gain or loss is given by:\n",
    "> $$\n",
    "> v(R) = R - R_f \\quad \\text{for} R >= R_f\n",
    "> $$\n",
    "> $$\n",
    "> v(R) = 2(R - R_f) \\quad \\text{for} R < R_f\n",
    "> $$\n",
    "\n",
    "> Solve for e(x) = 0 to find equilibrium value of x, using bisection search:\n",
    "\n",
    "> Set x– = 1 and x+ = 1.1, and use simulated distribution of consumption growth to confirm that e(x–) < 0 and e(x+) > 0 ⇒ solution must lie between x– and x+\n",
    "> Set x0 = 0.5*(x– + x+) and use simulated distribution of consumption growth to calculate e(x0)\n",
    "> If |e(x0)| < 10–5, then you have converged to solution\n",
    "> Otherwise if e(x0) < 0, then solution lies between x0 and x+ ⇒ repeat from step 2 with x– = x0\n",
    "> Otherwise if e(x0) > 0, then solution lies between x– and x0 ⇒ repeat from step 2 with x+ = x0\n",
    "> Repeat for b0 in range from 0 to 10, in increments of 0.1 (or less).\n"
   ]
  },
  {
   "cell_type": "code",
   "execution_count": 3,
   "metadata": {},
   "outputs": [],
   "source": [
    "def exp_sample_v_xg(x, g, lambd):\n",
    "    \"\"\"\n",
    "    function to estimage v(xg) \n",
    "    inputs\n",
    "        g is a \n",
    "    return\n",
    "        estimate of  v_xg as numpy array\n",
    "    \"\"\"\n",
    "    xg = x * g\n",
    "\n",
    "    return np.array([lambd * (R - R_f) if R < R_f else (R - R_f) for R in xg]).mean()\n",
    "\n",
    "def e(x, g, lambd, b0):\n",
    "    \"\"\"\n",
    "    function to get e(x)  based on equilibrium condition for price-dividend ratio of market portfolio\n",
    "    \"\"\"\n",
    "    return 0.99 * b0 * exp_sample_v_xg(x, g, lambd) + 0.99 * x - 1\n",
    "\n",
    "def bisection_search(func, x_neg, x_pos, iter, tol):\n",
    "\n",
    "    for i in range(iter):\n",
    "        x_0 = 0.5 * (x_neg + x_pos)\n",
    "        e_0 = func(x_0)\n",
    "\n",
    "        if abs(e_0) < tol:\n",
    "            return x_0, i\n",
    "        elif e_0 < 0:\n",
    "            x_neg = x_0\n",
    "        else:\n",
    "            x_pos = x_0"
   ]
  },
  {
   "cell_type": "code",
   "execution_count": 5,
   "metadata": {},
   "outputs": [],
   "source": [
    "ls_b0 = []\n",
    "ls_x0 = []\n",
    "ls_iters = []\n",
    "\n",
    "# iterate through values of b0 to get x0 values and save results\n",
    "for b0_ in np.linspace(0,10,130):\n",
    "    x_neg = 1\n",
    "    x_pos = 1.2\n",
    "\n",
    "    x0, iterations = bisection_search(lambda x: e(x, g, lambd, b0_), x_neg, x_pos, iter=10**7, tol=10**-5)\n",
    "    ls_b0.append(b0_)\n",
    "    ls_x0.append(x0)\n",
    "    ls_iters.append(iterations)\n"
   ]
  },
  {
   "cell_type": "markdown",
   "metadata": {},
   "source": [
    "\n",
    "\n",
    "> Calculate price-dividend ratio for market portfolio:\n",
    "> $$\n",
    "> E(\\tilde{R}_m) = E(x \\tilde{g}) = x e^{0.0202}\n",
    "> $$\n",
    " \n",
    "> Plot price-dividend ratio (on vertical axis) vs b0.\n"
   ]
  },
  {
   "cell_type": "code",
   "execution_count": 6,
   "metadata": {},
   "outputs": [],
   "source": [
    "# get market portfolio returns\n",
    "# monte carlo approach\n",
    "market_exp = [(x0*g).mean() for x0 in np.array(ls_x0)]\n",
    "# analytical approach\n",
    "market_exp1 = [x0*np.exp(.0202) for x0 in np.array(ls_x0)]"
   ]
  },
  {
   "cell_type": "code",
   "execution_count": 7,
   "metadata": {},
   "outputs": [
    {
     "data": {
      "text/html": [
       "<div>\n",
       "<style scoped>\n",
       "    .dataframe tbody tr th:only-of-type {\n",
       "        vertical-align: middle;\n",
       "    }\n",
       "\n",
       "    .dataframe tbody tr th {\n",
       "        vertical-align: top;\n",
       "    }\n",
       "\n",
       "    .dataframe thead th {\n",
       "        text-align: right;\n",
       "    }\n",
       "</style>\n",
       "<table border=\"1\" class=\"dataframe\">\n",
       "  <thead>\n",
       "    <tr style=\"text-align: right;\">\n",
       "      <th></th>\n",
       "      <th>b0</th>\n",
       "      <th>x0</th>\n",
       "      <th>P/D</th>\n",
       "      <th>Expected Market Return</th>\n",
       "      <th>Expected Market Return_1</th>\n",
       "      <th>Equity Premium(%)</th>\n",
       "      <th>Equity Premium_1(%)</th>\n",
       "    </tr>\n",
       "  </thead>\n",
       "  <tbody>\n",
       "    <tr>\n",
       "      <th>0</th>\n",
       "      <td>0.000000</td>\n",
       "      <td>1.010107</td>\n",
       "      <td>98.937198</td>\n",
       "      <td>1.030644</td>\n",
       "      <td>1.030719</td>\n",
       "      <td>0.034413</td>\n",
       "      <td>0.041907</td>\n",
       "    </tr>\n",
       "    <tr>\n",
       "      <th>1</th>\n",
       "      <td>0.077519</td>\n",
       "      <td>1.010645</td>\n",
       "      <td>93.944954</td>\n",
       "      <td>1.031192</td>\n",
       "      <td>1.031267</td>\n",
       "      <td>0.089216</td>\n",
       "      <td>0.096714</td>\n",
       "    </tr>\n",
       "    <tr>\n",
       "      <th>2</th>\n",
       "      <td>0.155039</td>\n",
       "      <td>1.011072</td>\n",
       "      <td>90.319735</td>\n",
       "      <td>1.031628</td>\n",
       "      <td>1.031703</td>\n",
       "      <td>0.132809</td>\n",
       "      <td>0.140310</td>\n",
       "    </tr>\n",
       "    <tr>\n",
       "      <th>3</th>\n",
       "      <td>0.232558</td>\n",
       "      <td>1.011426</td>\n",
       "      <td>87.521368</td>\n",
       "      <td>1.031989</td>\n",
       "      <td>1.032064</td>\n",
       "      <td>0.168929</td>\n",
       "      <td>0.176433</td>\n",
       "    </tr>\n",
       "    <tr>\n",
       "      <th>4</th>\n",
       "      <td>0.310078</td>\n",
       "      <td>1.011731</td>\n",
       "      <td>85.244537</td>\n",
       "      <td>1.032301</td>\n",
       "      <td>1.032376</td>\n",
       "      <td>0.200067</td>\n",
       "      <td>0.207573</td>\n",
       "    </tr>\n",
       "    <tr>\n",
       "      <th>...</th>\n",
       "      <td>...</td>\n",
       "      <td>...</td>\n",
       "      <td>...</td>\n",
       "      <td>...</td>\n",
       "      <td>...</td>\n",
       "      <td>...</td>\n",
       "      <td>...</td>\n",
       "    </tr>\n",
       "    <tr>\n",
       "      <th>125</th>\n",
       "      <td>9.689922</td>\n",
       "      <td>1.015004</td>\n",
       "      <td>66.649039</td>\n",
       "      <td>1.035640</td>\n",
       "      <td>1.035716</td>\n",
       "      <td>0.534023</td>\n",
       "      <td>0.541553</td>\n",
       "    </tr>\n",
       "    <tr>\n",
       "      <th>126</th>\n",
       "      <td>9.767442</td>\n",
       "      <td>1.015007</td>\n",
       "      <td>66.635486</td>\n",
       "      <td>1.035643</td>\n",
       "      <td>1.035719</td>\n",
       "      <td>0.534334</td>\n",
       "      <td>0.541864</td>\n",
       "    </tr>\n",
       "    <tr>\n",
       "      <th>127</th>\n",
       "      <td>9.844961</td>\n",
       "      <td>1.015010</td>\n",
       "      <td>66.621938</td>\n",
       "      <td>1.035646</td>\n",
       "      <td>1.035722</td>\n",
       "      <td>0.534646</td>\n",
       "      <td>0.542176</td>\n",
       "    </tr>\n",
       "    <tr>\n",
       "      <th>128</th>\n",
       "      <td>9.922481</td>\n",
       "      <td>1.015012</td>\n",
       "      <td>66.615166</td>\n",
       "      <td>1.035648</td>\n",
       "      <td>1.035723</td>\n",
       "      <td>0.534801</td>\n",
       "      <td>0.542332</td>\n",
       "    </tr>\n",
       "    <tr>\n",
       "      <th>129</th>\n",
       "      <td>10.000000</td>\n",
       "      <td>1.015015</td>\n",
       "      <td>66.601626</td>\n",
       "      <td>1.035651</td>\n",
       "      <td>1.035726</td>\n",
       "      <td>0.535113</td>\n",
       "      <td>0.542643</td>\n",
       "    </tr>\n",
       "  </tbody>\n",
       "</table>\n",
       "<p>130 rows × 7 columns</p>\n",
       "</div>"
      ],
      "text/plain": [
       "            b0        x0        P/D  Expected Market Return  \\\n",
       "0     0.000000  1.010107  98.937198                1.030644   \n",
       "1     0.077519  1.010645  93.944954                1.031192   \n",
       "2     0.155039  1.011072  90.319735                1.031628   \n",
       "3     0.232558  1.011426  87.521368                1.031989   \n",
       "4     0.310078  1.011731  85.244537                1.032301   \n",
       "..         ...       ...        ...                     ...   \n",
       "125   9.689922  1.015004  66.649039                1.035640   \n",
       "126   9.767442  1.015007  66.635486                1.035643   \n",
       "127   9.844961  1.015010  66.621938                1.035646   \n",
       "128   9.922481  1.015012  66.615166                1.035648   \n",
       "129  10.000000  1.015015  66.601626                1.035651   \n",
       "\n",
       "     Expected Market Return_1  Equity Premium(%)  Equity Premium_1(%)  \n",
       "0                    1.030719           0.034413             0.041907  \n",
       "1                    1.031267           0.089216             0.096714  \n",
       "2                    1.031703           0.132809             0.140310  \n",
       "3                    1.032064           0.168929             0.176433  \n",
       "4                    1.032376           0.200067             0.207573  \n",
       "..                        ...                ...                  ...  \n",
       "125                  1.035716           0.534023             0.541553  \n",
       "126                  1.035719           0.534334             0.541864  \n",
       "127                  1.035722           0.534646             0.542176  \n",
       "128                  1.035723           0.534801             0.542332  \n",
       "129                  1.035726           0.535113             0.542643  \n",
       "\n",
       "[130 rows x 7 columns]"
      ]
     },
     "execution_count": 7,
     "metadata": {},
     "output_type": "execute_result"
    }
   ],
   "source": [
    "df = pd.DataFrame({\n",
    "                    'b0': ls_b0, \n",
    "                   'x0': ls_x0, \n",
    "                   'P/D': 1/ (np.array(ls_x0)-1),\n",
    "                   'Expected Market Return': market_exp,\n",
    "                   'Expected Market Return_1': market_exp1\n",
    "                   })\n",
    "df['Equity Premium(%)'] = (df['Expected Market Return'] - R_f) * 100\n",
    "df['Equity Premium_1(%)'] = (df['Expected Market Return_1'] - R_f) * 100\n",
    "\n",
    "df"
   ]
  },
  {
   "cell_type": "code",
   "execution_count": 8,
   "metadata": {},
   "outputs": [
    {
     "data": {
      "image/png": "[encoded data removed]",
      "text/plain": [
       "<Figure size 640x480 with 1 Axes>"
      ]
     },
     "metadata": {},
     "output_type": "display_data"
    }
   ],
   "source": [
    "plt.plot(df['b0'], df['P/D'])\n",
    "plt.xlabel('b0')\n",
    "plt.ylabel('P / D')\n",
    "plt.title('price-dividend ratio vs b0')\n",
    "plt.grid()\n",
    "plt.show()"
   ]
  },
  {
   "cell_type": "markdown",
   "metadata": {},
   "source": [
    "\n",
    "> Calculate expected market return:\n",
    "> Plot equity premium (on vertical axis) vs b0.\n"
   ]
  },
  {
   "cell_type": "code",
   "execution_count": 9,
   "metadata": {},
   "outputs": [
    {
     "data": {
      "image/png": "[encoded data removed]",
      "text/plain": [
       "<Figure size 640x480 with 1 Axes>"
      ]
     },
     "metadata": {},
     "output_type": "display_data"
    }
   ],
   "source": [
    "plt.plot(df['b0'], df['Equity Premium(%)'])\n",
    "plt.xlabel('b0')\n",
    "plt.ylabel('Equity Premium(%)')\n",
    "plt.title('equity premium vs b0')\n",
    "plt.grid()\n",
    "plt.show()"
   ]
  },
  {
   "cell_type": "markdown",
   "metadata": {},
   "source": [
    "\n",
    "> Briefly describe (in words, without using mathematical equations or formulas) main characteristics of v(∙) as well as economic significance and implications of b0 and λ."
   ]
  },
  {
   "cell_type": "markdown",
   "metadata": {},
   "source": [
    "*$v(0)$ is a piecewise-linear Utility Function*: Measures utility from recent gains and losses. Gains yield positive utility, while losses cause a larger, amplified negative by $\\lambda$ utility response due to loss aversion.\n",
    "\n",
    "​\n",
    "*$b_0$*: This scaling factor adjusts the relative importance of financial gain/loss utility compared to consumption utility. A higher $b_0$ means recent financial outcomes significantly influence overall satisfaction, amplifying the impact of market performance on an investor’s well-being. \n",
    "\n",
    "\n",
    "*$\\lambda$*: This parameter reflects loss aversion—the degree to which investors are more sensitive to losses than to equivalent gains. When $\\lambda$ is high, investors strongly avoid losses, impacting risk tolerance and increasing demand for safer assets. In turn, this loss aversion affects market dynamics, as a higher \n",
    "$\\lambda$ can lead to higher equity premiums.\n",
    "\n",
    "\n",
    "Together, $b_0$ and $\\lambda$ help explain why investors might demand compensation for bearing risks, even in markets where consumption is smooth."
   ]
  }
 ],
 "metadata": {
  "kernelspec": {
   "display_name": "Python 3",
   "language": "python",
   "name": "python3"
  },
  "language_info": {
   "codemirror_mode": {
    "name": "ipython",
    "version": 3
   },
   "file_extension": ".py",
   "mimetype": "text/x-python",
   "name": "python",
   "nbconvert_exporter": "python",
   "pygments_lexer": "ipython3",
   "version": "3.12.0"
  }
 },
 "nbformat": 4,
 "nbformat_minor": 4
}
