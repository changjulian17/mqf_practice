{
 "cells": [
  {
   "cell_type": "markdown",
   "metadata": {},
   "source": [
    "# QF600 - Homework 4\n",
    "*by Julian Chang*\n",
    "> ## Efficient Frontier Revisited"
   ]
  },
  {
   "cell_type": "code",
   "execution_count": 1,
   "metadata": {},
   "outputs": [],
   "source": [
    "import pandas as pd\n",
    "import warnings\n",
    "import numpy as np\n",
    "from sklearn.linear_model import LinearRegression\n",
    "import matplotlib.pyplot as plt\n",
    "\n",
    "# Extract Data\n",
    "warnings.filterwarnings(\"ignore\", category=UserWarning, module=\"openpyxl\")\n",
    "df_industries = pd.read_excel('./data/Industry_Portfolios.xlsx', index_col='Date')\n",
    "df_market = pd.read_excel('./data/Market_Portfolio.xlsx', index_col='Date')\n",
    "df_risk_factors = pd.read_excel('./data/Risk_Factors.xlsx', index_col='Date')"
   ]
  },
  {
   "cell_type": "markdown",
   "metadata": {},
   "source": [
    "> ### Part 1: Minimum-Tracking-Error Frontier\n",
    "> Let market return be the target return. Estimate expected deviation from market return, for the ten industry portfolios:\n",
    "$$\n",
    "R_i = \\mathbb{E}\\left[\\tilde{R_i}-\\tilde{R_m}\\right]\n",
    "$$\n"
   ]
  },
  {
   "cell_type": "code",
   "execution_count": 2,
   "metadata": {},
   "outputs": [
    {
     "data": {
      "text/html": [
       "<div>\n",
       "<style scoped>\n",
       "    .dataframe tbody tr th:only-of-type {\n",
       "        vertical-align: middle;\n",
       "    }\n",
       "\n",
       "    .dataframe tbody tr th {\n",
       "        vertical-align: top;\n",
       "    }\n",
       "\n",
       "    .dataframe thead th {\n",
       "        text-align: right;\n",
       "    }\n",
       "</style>\n",
       "<table border=\"1\" class=\"dataframe\">\n",
       "  <thead>\n",
       "    <tr style=\"text-align: right;\">\n",
       "      <th></th>\n",
       "      <th>Mean Monthly Deviation %</th>\n",
       "    </tr>\n",
       "  </thead>\n",
       "  <tbody>\n",
       "    <tr>\n",
       "      <th>NoDur</th>\n",
       "      <td>0.154750</td>\n",
       "    </tr>\n",
       "    <tr>\n",
       "      <th>Durbl</th>\n",
       "      <td>-0.014750</td>\n",
       "    </tr>\n",
       "    <tr>\n",
       "      <th>Manuf</th>\n",
       "      <td>0.264750</td>\n",
       "    </tr>\n",
       "    <tr>\n",
       "      <th>Enrgy</th>\n",
       "      <td>0.483083</td>\n",
       "    </tr>\n",
       "    <tr>\n",
       "      <th>HiTec</th>\n",
       "      <td>0.018167</td>\n",
       "    </tr>\n",
       "    <tr>\n",
       "      <th>Telcm</th>\n",
       "      <td>0.133333</td>\n",
       "    </tr>\n",
       "    <tr>\n",
       "      <th>Shops</th>\n",
       "      <td>0.168250</td>\n",
       "    </tr>\n",
       "    <tr>\n",
       "      <th>Hlth</th>\n",
       "      <td>0.035750</td>\n",
       "    </tr>\n",
       "    <tr>\n",
       "      <th>Utils</th>\n",
       "      <td>0.159083</td>\n",
       "    </tr>\n",
       "    <tr>\n",
       "      <th>Other</th>\n",
       "      <td>-0.259000</td>\n",
       "    </tr>\n",
       "  </tbody>\n",
       "</table>\n",
       "</div>"
      ],
      "text/plain": [
       "       Mean Monthly Deviation %\n",
       "NoDur                  0.154750\n",
       "Durbl                 -0.014750\n",
       "Manuf                  0.264750\n",
       "Enrgy                  0.483083\n",
       "HiTec                  0.018167\n",
       "Telcm                  0.133333\n",
       "Shops                  0.168250\n",
       "Hlth                   0.035750\n",
       "Utils                  0.159083\n",
       "Other                 -0.259000"
      ]
     },
     "execution_count": 2,
     "metadata": {},
     "output_type": "execute_result"
    }
   ],
   "source": [
    "deviations = df_industries.values - df_market['Market'].values[:, np.newaxis]   # R_i - R_m, \n",
    "R = np.mean(deviations,                                        # and get mean deviation\n",
    "            axis=0)\n",
    "df_mean_deviations = pd.DataFrame(\n",
    "                                {'Mean Monthly Deviation %': R},\n",
    "                                index=df_industries.columns    \n",
    "                                )\n",
    "df_mean_deviations"
   ]
  },
  {
   "cell_type": "markdown",
   "metadata": {},
   "source": [
    "> Also estimate covariance matrix of return deviations, for the ten industry portfolios:\n",
    "$$\n",
    "V_{ij} = \\text{Cov}\\left[ \\left( \\tilde{R_i} - \\tilde{R_m} \\right), \\left( \\tilde{R_j} - \\tilde{R_m} \\right) \\right]\n",
    "$$"
   ]
  },
  {
   "cell_type": "code",
   "execution_count": 3,
   "metadata": {},
   "outputs": [],
   "source": [
    "V = np.cov(deviations,rowvar=False)\n",
    "\n",
    "df_cov = pd.DataFrame(\n",
    "                                V,\n",
    "                                columns=df_industries.columns,    \n",
    "                                index=df_industries.columns    \n",
    "                                )\n",
    "\n"
   ]
  },
  {
   "cell_type": "code",
   "execution_count": 4,
   "metadata": {},
   "outputs": [
    {
     "data": {
      "text/html": [
       "<div>\n",
       "<style scoped>\n",
       "    .dataframe tbody tr th:only-of-type {\n",
       "        vertical-align: middle;\n",
       "    }\n",
       "\n",
       "    .dataframe tbody tr th {\n",
       "        vertical-align: top;\n",
       "    }\n",
       "\n",
       "    .dataframe thead th {\n",
       "        text-align: right;\n",
       "    }\n",
       "</style>\n",
       "<table border=\"1\" class=\"dataframe\">\n",
       "  <thead>\n",
       "    <tr style=\"text-align: right;\">\n",
       "      <th></th>\n",
       "      <th>NoDur</th>\n",
       "      <th>Durbl</th>\n",
       "      <th>Manuf</th>\n",
       "      <th>Enrgy</th>\n",
       "      <th>HiTec</th>\n",
       "      <th>Telcm</th>\n",
       "      <th>Shops</th>\n",
       "      <th>Hlth</th>\n",
       "      <th>Utils</th>\n",
       "      <th>Other</th>\n",
       "    </tr>\n",
       "  </thead>\n",
       "  <tbody>\n",
       "    <tr>\n",
       "      <th>NoDur</th>\n",
       "      <td>5.439696</td>\n",
       "      <td>-6.073035</td>\n",
       "      <td>-1.396192</td>\n",
       "      <td>-1.200533</td>\n",
       "      <td>-1.883151</td>\n",
       "      <td>1.538885</td>\n",
       "      <td>1.140741</td>\n",
       "      <td>3.815137</td>\n",
       "      <td>4.272002</td>\n",
       "      <td>-1.768738</td>\n",
       "    </tr>\n",
       "    <tr>\n",
       "      <th>Durbl</th>\n",
       "      <td>-6.073035</td>\n",
       "      <td>26.628901</td>\n",
       "      <td>4.908024</td>\n",
       "      <td>-3.481055</td>\n",
       "      <td>1.891577</td>\n",
       "      <td>-1.707625</td>\n",
       "      <td>-0.354335</td>\n",
       "      <td>-8.082946</td>\n",
       "      <td>-9.617490</td>\n",
       "      <td>4.385865</td>\n",
       "    </tr>\n",
       "    <tr>\n",
       "      <th>Manuf</th>\n",
       "      <td>-1.396192</td>\n",
       "      <td>4.908024</td>\n",
       "      <td>2.950499</td>\n",
       "      <td>1.666133</td>\n",
       "      <td>0.065267</td>\n",
       "      <td>-0.626416</td>\n",
       "      <td>-1.154597</td>\n",
       "      <td>-2.288900</td>\n",
       "      <td>-1.901412</td>\n",
       "      <td>0.358904</td>\n",
       "    </tr>\n",
       "    <tr>\n",
       "      <th>Enrgy</th>\n",
       "      <td>-1.200533</td>\n",
       "      <td>-3.481055</td>\n",
       "      <td>1.666133</td>\n",
       "      <td>19.274911</td>\n",
       "      <td>-1.516972</td>\n",
       "      <td>-1.040525</td>\n",
       "      <td>-3.710439</td>\n",
       "      <td>-2.485796</td>\n",
       "      <td>4.454368</td>\n",
       "      <td>-3.864826</td>\n",
       "    </tr>\n",
       "    <tr>\n",
       "      <th>HiTec</th>\n",
       "      <td>-1.883151</td>\n",
       "      <td>1.891577</td>\n",
       "      <td>0.065267</td>\n",
       "      <td>-1.516972</td>\n",
       "      <td>5.098746</td>\n",
       "      <td>-0.773294</td>\n",
       "      <td>-0.245350</td>\n",
       "      <td>-1.936284</td>\n",
       "      <td>-2.342839</td>\n",
       "      <td>-1.404050</td>\n",
       "    </tr>\n",
       "    <tr>\n",
       "      <th>Telcm</th>\n",
       "      <td>1.538885</td>\n",
       "      <td>-1.707625</td>\n",
       "      <td>-0.626416</td>\n",
       "      <td>-1.040525</td>\n",
       "      <td>-0.773294</td>\n",
       "      <td>4.682567</td>\n",
       "      <td>0.463797</td>\n",
       "      <td>0.693157</td>\n",
       "      <td>2.721477</td>\n",
       "      <td>-1.271778</td>\n",
       "    </tr>\n",
       "    <tr>\n",
       "      <th>Shops</th>\n",
       "      <td>1.140741</td>\n",
       "      <td>-0.354335</td>\n",
       "      <td>-1.154597</td>\n",
       "      <td>-3.710439</td>\n",
       "      <td>-0.245350</td>\n",
       "      <td>0.463797</td>\n",
       "      <td>4.452628</td>\n",
       "      <td>0.764510</td>\n",
       "      <td>-0.176666</td>\n",
       "      <td>-0.256987</td>\n",
       "    </tr>\n",
       "    <tr>\n",
       "      <th>Hlth</th>\n",
       "      <td>3.815137</td>\n",
       "      <td>-8.082946</td>\n",
       "      <td>-2.288900</td>\n",
       "      <td>-2.485796</td>\n",
       "      <td>-1.936284</td>\n",
       "      <td>0.693157</td>\n",
       "      <td>0.764510</td>\n",
       "      <td>7.820446</td>\n",
       "      <td>3.496136</td>\n",
       "      <td>-1.726842</td>\n",
       "    </tr>\n",
       "    <tr>\n",
       "      <th>Utils</th>\n",
       "      <td>4.272002</td>\n",
       "      <td>-9.617490</td>\n",
       "      <td>-1.901412</td>\n",
       "      <td>4.454368</td>\n",
       "      <td>-2.342839</td>\n",
       "      <td>2.721477</td>\n",
       "      <td>-0.176666</td>\n",
       "      <td>3.496136</td>\n",
       "      <td>12.267476</td>\n",
       "      <td>-4.055112</td>\n",
       "    </tr>\n",
       "    <tr>\n",
       "      <th>Other</th>\n",
       "      <td>-1.768738</td>\n",
       "      <td>4.385865</td>\n",
       "      <td>0.358904</td>\n",
       "      <td>-3.864826</td>\n",
       "      <td>-1.404050</td>\n",
       "      <td>-1.271778</td>\n",
       "      <td>-0.256987</td>\n",
       "      <td>-1.726842</td>\n",
       "      <td>-4.055112</td>\n",
       "      <td>4.503204</td>\n",
       "    </tr>\n",
       "  </tbody>\n",
       "</table>\n",
       "</div>"
      ],
      "text/plain": [
       "          NoDur      Durbl     Manuf      Enrgy     HiTec     Telcm     Shops  \\\n",
       "NoDur  5.439696  -6.073035 -1.396192  -1.200533 -1.883151  1.538885  1.140741   \n",
       "Durbl -6.073035  26.628901  4.908024  -3.481055  1.891577 -1.707625 -0.354335   \n",
       "Manuf -1.396192   4.908024  2.950499   1.666133  0.065267 -0.626416 -1.154597   \n",
       "Enrgy -1.200533  -3.481055  1.666133  19.274911 -1.516972 -1.040525 -3.710439   \n",
       "HiTec -1.883151   1.891577  0.065267  -1.516972  5.098746 -0.773294 -0.245350   \n",
       "Telcm  1.538885  -1.707625 -0.626416  -1.040525 -0.773294  4.682567  0.463797   \n",
       "Shops  1.140741  -0.354335 -1.154597  -3.710439 -0.245350  0.463797  4.452628   \n",
       "Hlth   3.815137  -8.082946 -2.288900  -2.485796 -1.936284  0.693157  0.764510   \n",
       "Utils  4.272002  -9.617490 -1.901412   4.454368 -2.342839  2.721477 -0.176666   \n",
       "Other -1.768738   4.385865  0.358904  -3.864826 -1.404050 -1.271778 -0.256987   \n",
       "\n",
       "           Hlth      Utils     Other  \n",
       "NoDur  3.815137   4.272002 -1.768738  \n",
       "Durbl -8.082946  -9.617490  4.385865  \n",
       "Manuf -2.288900  -1.901412  0.358904  \n",
       "Enrgy -2.485796   4.454368 -3.864826  \n",
       "HiTec -1.936284  -2.342839 -1.404050  \n",
       "Telcm  0.693157   2.721477 -1.271778  \n",
       "Shops  0.764510  -0.176666 -0.256987  \n",
       "Hlth   7.820446   3.496136 -1.726842  \n",
       "Utils  3.496136  12.267476 -4.055112  \n",
       "Other -1.726842  -4.055112  4.503204  "
      ]
     },
     "execution_count": 4,
     "metadata": {},
     "output_type": "execute_result"
    }
   ],
   "source": [
    "df_cov"
   ]
  },
  {
   "cell_type": "markdown",
   "metadata": {},
   "source": [
    "> Plot the minimum-tracking-error frontier generated by the ten industry portfolios: \n",
    "\n",
    "Using the formulas\n",
    "$$\n",
    "\\begin{align}\n",
    "\\alpha = \\mathbf{R'V^{-1}e}; \\quad \\zeta &= \\mathbf{R'V^{-1}R}; \\quad \\delta = \\mathbf{e'V^{-1}e} \\notag \\\\\n",
    "\\sigma_p^2 &= \\frac{1}{\\delta} + \\frac{\\delta}{\\zeta\\delta-\\alpha^2}(R_p-R_{mv})^2 \\notag \\\\\n",
    "\\end{align}\n",
    "$$\n",
    "\n",
    "where \\\n",
    "R is the mean deviation \\\n",
    "V is the covariance matrix \\\n",
    "e is 1 x n matrix \n"
   ]
  },
  {
   "cell_type": "markdown",
   "metadata": {},
   "source": []
  },
  {
   "cell_type": "code",
   "execution_count": 5,
   "metadata": {},
   "outputs": [
    {
     "data": {
      "text/plain": [
       "(array([ 0.15475   , -0.01475   ,  0.26475   ,  0.48308333,  0.01816667,\n",
       "         0.13333333,  0.16825   ,  0.03575   ,  0.15908333, -0.259     ]),\n",
       " array([[ 5.43969574, -6.07303523, -1.39619166, -1.20053326, -1.88315088,\n",
       "          1.53888487,  1.14074116,  3.81513716,  4.27200187, -1.7687384 ],\n",
       "        [-6.07303523, 26.62890078,  4.90802359, -3.48105498,  1.89157693,\n",
       "         -1.70762521, -0.35433527, -8.08294641, -9.61749011,  4.38586529],\n",
       "        [-1.39619166,  4.90802359,  2.9504991 ,  1.66613313,  0.06526676,\n",
       "         -0.62641597, -1.15459666, -2.28889981, -1.90141158,  0.35890361],\n",
       "        [-1.20053326, -3.48105498,  1.66613313, 19.27491058, -1.51697245,\n",
       "         -1.04052465, -3.7104391 , -2.48579603,  4.4543684 , -3.8648258 ],\n",
       "        [-1.88315088,  1.89157693,  0.06526676, -1.51697245,  5.09874619,\n",
       "         -0.77329384, -0.24535029, -1.93628433, -2.34283867, -1.40405025],\n",
       "        [ 1.53888487, -1.70762521, -0.62641597, -1.04052465, -0.77329384,\n",
       "          4.68256695,  0.46379748,  0.69315714,  2.72147703, -1.27177815],\n",
       "        [ 1.14074116, -0.35433527, -1.15459666, -3.7104391 , -0.24535029,\n",
       "          0.46379748,  4.452628  ,  0.76451015, -0.17666632, -0.25698731],\n",
       "        [ 3.81513716, -8.08294641, -2.28889981, -2.48579603, -1.93628433,\n",
       "          0.69315714,  0.76451015,  7.82044649,  3.49613641, -1.72684193],\n",
       "        [ 4.27200187, -9.61749011, -1.90141158,  4.4543684 , -2.34283867,\n",
       "          2.72147703, -0.17666632,  3.49613641, 12.26747562, -4.05511168],\n",
       "        [-1.7687384 ,  4.38586529,  0.35890361, -3.8648258 , -1.40405025,\n",
       "         -1.27177815, -0.25698731, -1.72684193, -4.05511168,  4.50320403]]))"
      ]
     },
     "execution_count": 5,
     "metadata": {},
     "output_type": "execute_result"
    }
   ],
   "source": [
    "R, V"
   ]
  },
  {
   "cell_type": "code",
   "execution_count": 6,
   "metadata": {},
   "outputs": [
    {
     "data": {
      "text/plain": [
       "(2.9321278826305965,\n",
       " 0.20474497351129936,\n",
       " 58.5502543763984,\n",
       " 0.05007882397540081)"
      ]
     },
     "execution_count": 6,
     "metadata": {},
     "output_type": "execute_result"
    }
   ],
   "source": [
    "e = np.ones(len(df_industries.columns)).T\n",
    "alpha = R.T@np.linalg.inv(V)@e\n",
    "zeta  = R.T@np.linalg.inv(V)@R\n",
    "delta = e.T@np.linalg.inv(V)@e\n",
    "R_mv  = alpha/delta\n",
    "alpha, zeta, delta, R_mv"
   ]
  },
  {
   "cell_type": "markdown",
   "metadata": {},
   "source": [
    "\n",
    "> - This graph must have expected (monthly) return deviation on the vertical axis vs (monthly) tracking error on the horizontal axis.\n",
    "> - This graph must cover the range from 0% to 0.1% on the vertical axis, in increments of 0.005% (or less).\n",
    ">\n",
    "> Also plot the line starting from the origin that is tangent to the upper half of the minimum-tracking-error frontier."
   ]
  },
  {
   "cell_type": "code",
   "execution_count": 7,
   "metadata": {},
   "outputs": [
    {
     "data": {
      "image/png": "[encoded data removed]",
      "text/plain": [
       "<Figure size 640x480 with 1 Axes>"
      ]
     },
     "metadata": {},
     "output_type": "display_data"
    }
   ],
   "source": [
    "R_deviation = np.arange(0,.101,.001)\n",
    "sig_p = (1/delta + delta/(zeta*delta-alpha**2)*(R_deviation-R_mv)**2)**.5\n",
    "\n",
    "R_f = 0\n",
    "sig_p_mvf = np.arange(0,.24,.001)\n",
    "R_p_mvf = R_f + (zeta-2*alpha*R_f+delta*R_f**2)**.5*sig_p_mvf\n",
    "\n",
    "plt.plot(sig_p, R_deviation, label=\"R_p vs. sig_p\")\n",
    "plt.plot(sig_p_mvf, R_p_mvf, label=\"Efficient Frontier\")\n",
    "plt.xlabel(\"Tracking Error\")  # X-axis label\n",
    "# plt.xticks(np.arange(2.5, 5, 0.25))\n",
    "plt.ylabel(\"Expected Return Deviation (R_p - R_m)\")         # Y-axis label\n",
    "plt.title(\"Plot of Monthly Return Deviation vs. Tracking Error (%)\")  # Title of the plot\n",
    "plt.grid(True)\n",
    "plt.legend()\n",
    "plt.show()"
   ]
  },
  {
   "cell_type": "markdown",
   "metadata": {},
   "source": [
    "\n",
    "> Calculate information ratio and portfolio weights for the \"tangency\" portfolio.\n",
    "\n",
    "\n",
    "$$ R_{tg} = \\frac{\\alpha R_f-\\zeta}{\\delta R_f-\\alpha}; \\quad \\sigma_{tg}=-\\frac{(\\zeta-2\\alpha R_f+\\delta R_f^2)^{1/2}}{\\delta(R_f-R_{mv})}; \\quad \\text{Information Ratio} = \\frac{R_{tg}-R_f}{\\sigma_{tg}}$$\n",
    "\n",
    "\n",
    "Using the formulas for efficient frontier and taking R_f values as 0"
   ]
  },
  {
   "cell_type": "code",
   "execution_count": 8,
   "metadata": {},
   "outputs": [
    {
     "name": "stdout",
     "output_type": "stream",
     "text": [
      "Information Ratio:\t0.45249\n"
     ]
    }
   ],
   "source": [
    "R_tg = (alpha*R_f-zeta)/(delta*R_f-alpha)\n",
    "sig_tg = -(zeta-2*alpha*R_f+delta*R_f**2)**.5/(delta*(R_f-R_mv))\n",
    "info_ratio = (R_tg-R_f)/sig_tg\n",
    "\n",
    "print(f\"Information Ratio:\\t{info_ratio:.5f}\")"
   ]
  },
  {
   "cell_type": "code",
   "execution_count": 9,
   "metadata": {},
   "outputs": [
    {
     "name": "stdout",
     "output_type": "stream",
     "text": [
      "tangency portfolio weights\n"
     ]
    },
    {
     "data": {
      "text/html": [
       "<div>\n",
       "<style scoped>\n",
       "    .dataframe tbody tr th:only-of-type {\n",
       "        vertical-align: middle;\n",
       "    }\n",
       "\n",
       "    .dataframe tbody tr th {\n",
       "        vertical-align: top;\n",
       "    }\n",
       "\n",
       "    .dataframe thead th {\n",
       "        text-align: right;\n",
       "    }\n",
       "</style>\n",
       "<table border=\"1\" class=\"dataframe\">\n",
       "  <thead>\n",
       "    <tr style=\"text-align: right;\">\n",
       "      <th></th>\n",
       "      <th>Weights</th>\n",
       "    </tr>\n",
       "  </thead>\n",
       "  <tbody>\n",
       "    <tr>\n",
       "      <th>NoDur</th>\n",
       "      <td>0.052634</td>\n",
       "    </tr>\n",
       "    <tr>\n",
       "      <th>Durbl</th>\n",
       "      <td>0.000153</td>\n",
       "    </tr>\n",
       "    <tr>\n",
       "      <th>Manuf</th>\n",
       "      <td>0.137627</td>\n",
       "    </tr>\n",
       "    <tr>\n",
       "      <th>Enrgy</th>\n",
       "      <td>0.087032</td>\n",
       "    </tr>\n",
       "    <tr>\n",
       "      <th>HiTec</th>\n",
       "      <td>0.179353</td>\n",
       "    </tr>\n",
       "    <tr>\n",
       "      <th>Telcm</th>\n",
       "      <td>0.071074</td>\n",
       "    </tr>\n",
       "    <tr>\n",
       "      <th>Shops</th>\n",
       "      <td>0.106884</td>\n",
       "    </tr>\n",
       "    <tr>\n",
       "      <th>Hlth</th>\n",
       "      <td>0.102776</td>\n",
       "    </tr>\n",
       "    <tr>\n",
       "      <th>Utils</th>\n",
       "      <td>0.040162</td>\n",
       "    </tr>\n",
       "    <tr>\n",
       "      <th>Other</th>\n",
       "      <td>0.222304</td>\n",
       "    </tr>\n",
       "  </tbody>\n",
       "</table>\n",
       "</div>"
      ],
      "text/plain": [
       "        Weights\n",
       "NoDur  0.052634\n",
       "Durbl  0.000153\n",
       "Manuf  0.137627\n",
       "Enrgy  0.087032\n",
       "HiTec  0.179353\n",
       "Telcm  0.071074\n",
       "Shops  0.106884\n",
       "Hlth   0.102776\n",
       "Utils  0.040162\n",
       "Other  0.222304"
      ]
     },
     "execution_count": 9,
     "metadata": {},
     "output_type": "execute_result"
    }
   ],
   "source": [
    "w_star = (delta*R_tg-alpha)/(zeta*delta-alpha**2)*np.linalg.inv(V)@R \\\n",
    "         +(zeta-alpha*R_tg)/(zeta*delta-alpha**2)*np.linalg.inv(V)@e\n",
    "print(f\"tangency portfolio weights\")\n",
    "pd.DataFrame(w_star, df_industries.columns,columns=['Weights'])"
   ]
  },
  {
   "cell_type": "markdown",
   "metadata": {},
   "source": [
    "> ### Part 2: Minimum-Variance Frontier w/o Short Sales\n",
    ">\n",
    "> Use Monte Carlo method to simulate the minimum-variance frontier without short sales, generated by the ten industry portfolios. Portfolio weights will be limited to the range [0, 1].\n",
    ">\n",
    "> Randomly draw each element of w, the 10 × 1 vector of portfolio weights, from the (standard) uniform distribution in the range [0, 1]. Divide w by the sum of portfolio weights, to ensure that the portfolio weights sum to one. This normalised w represents portfolio weights for one simulated portfolio, without short sales.\n",
    ">\n",
    "> Use the normalised w along with the vector of mean returns and the covariance matrix of returns (for the ten industry portfolios) to calculate the mean return and standard deviation of return for the simulated portfolio. Repeat this process until you have (at least) 10^5 data points.\n",
    ">\n",
    "> Plot the data points with mean return on the vertical axis vs standard deviation of return on the horizontal axis.\n"
   ]
  },
  {
   "cell_type": "code",
   "execution_count": 10,
   "metadata": {},
   "outputs": [],
   "source": [
    "a = np.random.rand(10)  # get vector of random no.\n",
    "w = a/a.sum()           # normalise\n",
    "w.sum()\n",
    "R_mvf = df_industries.mean().values\n",
    "V_mvf = df_industries.cov().values\n",
    "R_i = w@R_mvf.T\n",
    "sig_i = np.sqrt(w.T@V@w)"
   ]
  },
  {
   "cell_type": "code",
   "execution_count": 11,
   "metadata": {},
   "outputs": [],
   "source": [
    "# Assuming df_industries is defined and has the necessary data\n",
    "num_samples = 10**7\n",
    "\n",
    "# Generate random weights and normalize them\n",
    "random_weights = np.random.rand(num_samples, 10)  # 10 random weights for each sample\n",
    "w = random_weights / random_weights.sum(axis=1, keepdims=True)  # Normalize"
   ]
  },
  {
   "cell_type": "code",
   "execution_count": 12,
   "metadata": {},
   "outputs": [],
   "source": [
    "R_mvf = df_industries.mean().values\n",
    "V_mvf = df_industries.cov().values\n",
    "\n",
    "# Compute expected returns and standard deviations\n",
    "R_i = w @ R_mvf  # Expected returns\n",
    "sig_i = np.sqrt(np.sum(w @ V_mvf * w, axis=1))  # Standard deviations"
   ]
  },
  {
   "cell_type": "code",
   "execution_count": 13,
   "metadata": {},
   "outputs": [
    {
     "data": {
      "text/plain": [
       "(10000000,)"
      ]
     },
     "execution_count": 13,
     "metadata": {},
     "output_type": "execute_result"
    }
   ],
   "source": [
    "sig_i.shape"
   ]
  },
  {
   "cell_type": "code",
   "execution_count": 14,
   "metadata": {},
   "outputs": [
    {
     "name": "stdout",
     "output_type": "stream",
     "text": [
      "Expected return for the last sample: 0.836012659231092\n",
      "Standard deviation for the last sample: 3.9317391366901195\n"
     ]
    }
   ],
   "source": [
    "last_index = -1  # This refers to the last element\n",
    "\n",
    "# Expected return for the last element\n",
    "R_i_last = w[last_index] @ R_mvf\n",
    "\n",
    "# Standard deviation for the last element\n",
    "sig_i_last = np.sqrt(w[last_index] @ V_mvf @ w[last_index].T)\n",
    "\n",
    "# Output the results for the last element\n",
    "print(f\"Expected return for the last sample: {R_i_last}\")\n",
    "print(f\"Standard deviation for the last sample: {sig_i_last}\")\n"
   ]
  },
  {
   "cell_type": "code",
   "execution_count": 15,
   "metadata": {},
   "outputs": [
    {
     "data": {
      "text/plain": [
       "(0.836012659231092, 3.9317391366901195)"
      ]
     },
     "execution_count": 15,
     "metadata": {},
     "output_type": "execute_result"
    }
   ],
   "source": [
    "R_i[-1], sig_i[-1]"
   ]
  },
  {
   "cell_type": "code",
   "execution_count": 16,
   "metadata": {},
   "outputs": [
    {
     "data": {
      "text/plain": [
       "<matplotlib.collections.PathCollection at 0x7fd1f208fc10>"
      ]
     },
     "execution_count": 16,
     "metadata": {},
     "output_type": "execute_result"
    },
    {
     "data": {
      "image/png": "[encoded data removed]",
      "text/plain": [
       "<Figure size 640x480 with 1 Axes>"
      ]
     },
     "metadata": {},
     "output_type": "display_data"
    }
   ],
   "source": [
    "plt.scatter(sig_i,R_i);"
   ]
  },
  {
   "cell_type": "markdown",
   "metadata": {},
   "source": [
    "\n",
    "> Repeat this entire process by simulating 1/w using the standard uniform distribution ⇒ take the reciprocal of the random draw from the standard uniform distribution as the portfolio weight.\n",
    ">\n",
    "> Plot the new data points (on a separate graph) with mean return on the vertical axis vs standard deviation of return on the horizontal axis."
   ]
  },
  {
   "cell_type": "code",
   "execution_count": 17,
   "metadata": {},
   "outputs": [],
   "source": [
    "# Assuming df_industries is defined and has the necessary data\n",
    "num_samples = 10**7\n",
    "\n",
    "# Generate random weights and normalize them\n",
    "random_weights = 1/np.random.rand(num_samples, 10)  # 10 random weights for each sample\n",
    "w = random_weights / random_weights.sum(axis=1, keepdims=True)  # Normalize\n",
    "R_mvf = df_industries.mean().values\n",
    "V_mvf = df_industries.cov().values\n",
    "\n",
    "# Compute expected returns and standard deviations\n",
    "R_i = w @ R_mvf  # Expected returns\n",
    "sig_i = np.sqrt(np.sum(w @ V_mvf * w, axis=1))  # Standard deviations"
   ]
  },
  {
   "cell_type": "code",
   "execution_count": 18,
   "metadata": {},
   "outputs": [
    {
     "data": {
      "text/plain": [
       "<matplotlib.collections.PathCollection at 0x7fd1e02ed820>"
      ]
     },
     "execution_count": 18,
     "metadata": {},
     "output_type": "execute_result"
    },
    {
     "data": {
      "image/png": "[encoded data removed]",
      "text/plain": [
       "<Figure size 640x480 with 1 Axes>"
      ]
     },
     "metadata": {},
     "output_type": "display_data"
    }
   ],
   "source": [
    "plt.scatter(sig_i,R_i);"
   ]
  }
 ],
 "metadata": {
  "kernelspec": {
   "display_name": "Python 3 (ipykernel)",
   "language": "python",
   "name": "python3"
  },
  "language_info": {
   "codemirror_mode": {
    "name": "ipython",
    "version": 3
   },
   "file_extension": ".py",
   "mimetype": "text/x-python",
   "name": "python",
   "nbconvert_exporter": "python",
   "pygments_lexer": "ipython3",
   "version": "3.9.13"
  }
 },
 "nbformat": 4,
 "nbformat_minor": 4
}
