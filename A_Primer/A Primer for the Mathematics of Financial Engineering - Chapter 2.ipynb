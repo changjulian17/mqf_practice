{
 "cells": [
  {
   "cell_type": "markdown",
   "id": "42188b9c",
   "metadata": {},
   "source": [
    "# A Primer for the Mathematics of Financial Engineering - Chapter 2\n",
    "\n",
    "## Question 3"
   ]
  },
  {
   "cell_type": "code",
   "execution_count": 2,
   "id": "05854bf0",
   "metadata": {},
   "outputs": [],
   "source": [
    "import numpy as np\n",
    "\n",
    "# Example usage\n",
    "def fint(x):\n",
    "    return np.sqrt(x)*np.exp(-x)\n",
    "\n",
    "tol = 1e-7"
   ]
  },
  {
   "cell_type": "code",
   "execution_count": 3,
   "id": "781d9ac5",
   "metadata": {},
   "outputs": [],
   "source": [
    "def midpoint_rule(a, b, n, fint):\n",
    "    # Calculate the width of each interval\n",
    "    h = (b - a) / n\n",
    "    # Initialize the midpoint rule approximation sum\n",
    "    Lmidpoint = 0\n",
    "    # Loop over each interval\n",
    "    for i in range(1, n + 1):\n",
    "        # Calculate the midpoint of the current interval\n",
    "        midpoint = a + (i - 0.5) * h\n",
    "        # Evaluate the function at the midpoint and add to the sum\n",
    "        Lmidpoint += fint(midpoint)\n",
    "    # Multiply the sum by the interval width\n",
    "    Lmidpoint *= h\n",
    "    return Lmidpoint"
   ]
  },
  {
   "cell_type": "code",
   "execution_count": 4,
   "id": "351d0d8a",
   "metadata": {},
   "outputs": [],
   "source": [
    "def trapezoidal_rule(a, b, n, fint):\n",
    "    # Calculate the width of each interval\n",
    "    h = (b - a) / n\n",
    "    # Initialize the trapezoidal rule approximation sum\n",
    "    Ltrap = fint(a) / 2 + fint(b) / 2\n",
    "    # Loop over each interval\n",
    "    for i in range(1, n):\n",
    "        # Calculate the current x value\n",
    "        x = a + i * h\n",
    "        # Evaluate the function at x and add to the sum\n",
    "        Ltrap += fint(x)\n",
    "    # Multiply the sum by the interval width\n",
    "    Ltrap *= h\n",
    "    return Ltrap"
   ]
  },
  {
   "cell_type": "code",
   "execution_count": 5,
   "id": "7c140813",
   "metadata": {},
   "outputs": [],
   "source": [
    "def simpsons_rule(a, b, n, fint):\n",
    "    # Calculate the width of each interval\n",
    "    h = (b - a) / n\n",
    "    # Initialize the Simpson's rule approximation sum\n",
    "    Lsimpson = fint(a) / 6 + fint(b) / 6\n",
    "    \n",
    "    # Loop over each interval for the (i * h)/3 part\n",
    "    for i in range(1, n):\n",
    "        Lsimpson += fint(a + i * h) / 3\n",
    "    \n",
    "    # Loop over each interval for the (i - 1/2) * h)/3 part\n",
    "    for i in range(1, n + 1):\n",
    "        Lsimpson += 2 * fint(a + (i - 0.5) * h) / 3\n",
    "    \n",
    "    # Multiply the sum by the interval width\n",
    "    Lsimpson *= h\n",
    "    return Lsimpson"
   ]
  },
  {
   "cell_type": "code",
   "execution_count": 6,
   "id": "bf309119",
   "metadata": {},
   "outputs": [
    {
     "name": "stdout",
     "output_type": "stream",
     "text": [
      "Lmidpoint = 0.4071573108325478\n",
      "Ltrap = 0.4107574387896465\n",
      "Lsimpson = 0.40835735348491403\n"
     ]
    }
   ],
   "source": [
    "a = 1\n",
    "b = 3\n",
    "n = 4\n",
    "\n",
    "Lmidpoint = midpoint_rule(a, b, n, fint)\n",
    "print(f\"Lmidpoint = {Lmidpoint}\")\n",
    "\n",
    "Ltrap = trapezoidal_rule(a, b, n, fint)\n",
    "print(f\"Ltrap = {Ltrap}\")\n",
    "\n",
    "Lsimpson = simpsons_rule(a, b, n, fint)\n",
    "print(f\"Lsimpson = {Lsimpson}\")"
   ]
  },
  {
   "cell_type": "code",
   "execution_count": 7,
   "id": "2d236c01",
   "metadata": {},
   "outputs": [
    {
     "name": "stdout",
     "output_type": "stream",
     "text": [
      "0.40837024717699977\n"
     ]
    }
   ],
   "source": [
    "Lsimpson = simpsons_rule(a, b, 1000000, fint)\n",
    "Ltrue = Lsimpson\n",
    "print(Ltrue)"
   ]
  },
  {
   "cell_type": "code",
   "execution_count": 8,
   "id": "f9471751",
   "metadata": {},
   "outputs": [
    {
     "name": "stdout",
     "output_type": "stream",
     "text": [
      "approx = 0.40807541758232413, error = 0.0002948295946756385, n = 8\n",
      "approx = 0.40829709257349034, error = 7.315460350942882e-05, n = 16\n",
      "approx = 0.4083519935512967, error = 1.8253625703068543e-05, n = 32\n",
      "approx = 0.4083656859672929, error = 4.561209706877012e-06, n = 64\n",
      "approx = 0.40836910701198564, error = 1.1401650141240616e-06, n = 128\n",
      "approx = 0.408369962144334, error = 2.850326657477531e-07, n = 256\n",
      "approx = 0.40837017591936675, error = 7.12576330164083e-08, n = 512\n",
      "approx = 0.40837022936262185, error = 1.781437791725793e-08, n = 1024\n",
      "Lapprox = 0.40837022936262185, n = 1024\n"
     ]
    }
   ],
   "source": [
    "def adaptive_integration(tol, Lnumerical):\n",
    "    # Initial number of intervals\n",
    "    n = 4\n",
    "    # Compute the initial approximation\n",
    "    Lold = Lnumerical(n)\n",
    "    # Double the number of intervals\n",
    "    n *= 2\n",
    "    Lnew = Lnumerical(n)\n",
    "    print(f\"approx = {Lnew}, error = {Ltrue - Lnew}, n = {n}\")\n",
    "    \n",
    "    # Iterate until the difference between approximations is within the tolerance\n",
    "    while abs(Lnew - Lold) > tol:\n",
    "        Lold = Lnew\n",
    "        n *= 2\n",
    "        Lnew = Lnumerical(n)\n",
    "        print(f\"approx = {Lnew}, error = {Ltrue - Lnew}, n = {n}\")\n",
    "    \n",
    "    # Return the final approximation and the number of intervals\n",
    "    Lapprox = Lnew\n",
    "    return Lapprox, n\n",
    "\n",
    "# Example usage with the Trapezoidal rule\n",
    "def Lnumerical(n):\n",
    "    return midpoint_rule(a, b, n, fint)\n",
    "\n",
    "Lapprox, n = adaptive_integration(tol, Lnumerical)\n",
    "print(f\"Lapprox = {Lapprox}, n = {n}\")\n"
   ]
  },
  {
   "cell_type": "code",
   "execution_count": 9,
   "id": "17fbc7e2",
   "metadata": {},
   "outputs": [
    {
     "name": "stdout",
     "output_type": "stream",
     "text": [
      "approx = 0.40895737481109706, error = -0.0005871276340972953, n = 8\n",
      "approx = 0.4085163961967107, error = -0.0001461490197109394, n = 16\n",
      "approx = 0.4084067443851006, error = -3.649720810083856e-05, n = 32\n",
      "approx = 0.4083793689681988, error = -9.121791199051543e-06, n = 64\n",
      "approx = 0.408372527467746, error = -2.2802907462260436e-06, n = 128\n",
      "approx = 0.4083708172398655, error = -5.700628657456797e-07, n = 256\n",
      "approx = 0.4083703896920999, error = -1.4251510010998558e-07, n = 512\n",
      "approx = 0.40837028280573373, error = -3.562873396312227e-08, n = 1024\n",
      "approx = 0.40837025608417804, error = -8.907178272732352e-09, n = 2048\n",
      "Lapprox = 0.40837025608417804, n = 2048\n"
     ]
    }
   ],
   "source": [
    "# Example usage with the Trapezoidal rule\n",
    "def Lnumerical(n):\n",
    "    return trapezoidal_rule(a, b, n, fint)\n",
    "\n",
    "Lapprox, n = adaptive_integration(tol, Lnumerical)\n",
    "print(f\"Lapprox = {Lapprox}, n = {n}\")"
   ]
  },
  {
   "cell_type": "code",
   "execution_count": 10,
   "id": "925fa7c4",
   "metadata": {},
   "outputs": [
    {
     "name": "stdout",
     "output_type": "stream",
     "text": [
      "approx = 0.4083694033252484, error = 8.438517513642552e-07, n = 8\n",
      "approx = 0.40837019378123046, error = 5.3395769306074925e-08, n = 16\n",
      "approx = 0.40837024382923137, error = 3.347768395833839e-09, n = 32\n",
      "Lapprox = 0.40837024382923137, n = 32\n"
     ]
    }
   ],
   "source": [
    "# Example usage with the Trapezoidal rule\n",
    "def Lnumerical(n):\n",
    "    return simpsons_rule(a, b, n, fint)\n",
    "\n",
    "Lapprox, n = adaptive_integration(tol, Lnumerical)\n",
    "print(f\"Lapprox = {Lapprox}, n = {n}\")"
   ]
  },
  {
   "cell_type": "markdown",
   "id": "0478fbb5",
   "metadata": {},
   "source": [
    "## Question 4"
   ]
  },
  {
   "cell_type": "code",
   "execution_count": 19,
   "id": "319c4d06",
   "metadata": {},
   "outputs": [
    {
     "name": "stdout",
     "output_type": "stream",
     "text": [
      "a = 0, b = 1, n = 4\n",
      "approx = 0.17715736629938478, diff = nil, n = 4\n",
      "approx = 0.1786777401868616, error = 0.22969250699013816, n = 8\n",
      "approx = 0.17904865594444197, diff = -0.000370915757580359, n = 16\n",
      "approx = 0.17914061576263401, diff = -9.195981819204446e-05, n = 32\n",
      "approx = 0.17916353946126135, diff = -2.292369862733068e-05, n = 64\n",
      "approx = 0.1791692646189153, diff = -5.7251576539574245e-06, n = 128\n",
      "approx = 0.17917069540376263, diff = -1.4307848473227303e-06, n = 256\n",
      "approx = 0.1791710530556908, diff = -3.576519281844881e-07, n = 512\n",
      "Lapprox = 0.1791710530556908, n = 512\n"
     ]
    }
   ],
   "source": [
    "def fint1(x):\n",
    "    return (x**2.5/(1+x**2))\n",
    "\n",
    "def adaptive_integration(tol, Lnumerical):\n",
    "    # Initial number of intervals\n",
    "    n = 4\n",
    "    # Compute the initial approximation\n",
    "    Lold = Lnumerical(n)\n",
    "    print(f\"a = {a}, b = {b}, n = {n}\")\n",
    "    print(f\"approx = {Lold}, diff = nil, n = {n}\")\n",
    "    # Double the number of intervals\n",
    "    n *= 2\n",
    "    Lnew = Lnumerical(n)\n",
    "    print(f\"approx = {Lnew}, error = {Ltrue - Lnew}, n = {n}\")\n",
    "    \n",
    "    # Iterate until the difference between approximations is within the tolerance\n",
    "    while abs(Lnew - Lold) > tol:\n",
    "        Lold = Lnew\n",
    "        n *= 2\n",
    "        Lnew = Lnumerical(n)\n",
    "        print(f\"approx = {Lnew}, diff = {Lold - Lnew}, n = {n}\")\n",
    "    \n",
    "    # Return the final approximation and the number of intervals\n",
    "    Lapprox = Lnew\n",
    "    return Lapprox, n\n",
    "\n",
    "# Example usage with the Trapezoidal rule\n",
    "def Lnumerical(n):\n",
    "    return midpoint_rule(a, b, n, fint1)\n",
    "\n",
    "tol = 1e-6\n",
    "a = 0\n",
    "b = 1\n",
    "n = 4\n",
    "\n",
    "Lapprox, n = adaptive_integration(tol, Lnumerical)\n",
    "print(f\"Lapprox = {Lapprox}, n = {n}\")"
   ]
  },
  {
   "cell_type": "code",
   "execution_count": 23,
   "id": "6af06f72",
   "metadata": {},
   "outputs": [
    {
     "name": "stdout",
     "output_type": "stream",
     "text": [
      "a = 0, b = 1, n = 4\n",
      "approx = 0.17915509972505567, diff = nil, n = 4\n",
      "approx = 0.17916981560387144, error = -1.4715878815768635e-05, n = 8\n",
      "approx = 0.17917105506708675, diff = -1.23946321531343e-06, n = 16\n",
      "approx = 0.17917116205122574, diff = -1.069841389922388e-07, n = 32\n",
      "approx = 0.17917117137268146, diff = -9.321455718414029e-09, n = 64\n",
      "approx = 0.1791711721887407, diff = -8.160592479544704e-10, n = 128\n",
      "approx = 0.17917117226039284, diff = -7.165212867477067e-11, n = 256\n",
      "Lapprox = 0.17917117226039284, n = 256\n"
     ]
    }
   ],
   "source": [
    "def adaptive_integration1(tol, Lnumerical1):\n",
    "    # Initial number of intervals\n",
    "    n = 2**2\n",
    "    # Compute the initial approximation\n",
    "    Lold = Lnumerical1(n)\n",
    "    print(f\"a = {a}, b = {b}, n = {n}\")\n",
    "    print(f\"approx = {Lold}, diff = nil, n = {2**2}\")\n",
    "    Lnew = Lnumerical1(2**3)\n",
    "    print(f\"approx = {Lnew}, error = {Lold - Lnew}, n = {2**3}\")\n",
    "    \n",
    "    # Iterate until the difference between approximations is within the tolerance\n",
    "    for k in range(4,8+1):\n",
    "        Lold = Lnew\n",
    "        n = 2**k\n",
    "        Lnew = Lnumerical1(n)\n",
    "        print(f\"approx = {Lnew}, diff = {Lold - Lnew}, n = {n}\")   \n",
    "    \n",
    "    # Return the final approximation and the number of intervals\n",
    "    Lapprox = Lnew\n",
    "    return Lapprox, 2**k\n",
    "\n",
    "# Example usage with the Trapezoidal rule\n",
    "def Lnumerical1(n):\n",
    "    return simpsons_rule(a, b, n, fint1)\n",
    "\n",
    "a = 0\n",
    "b = 1\n",
    "n = 4\n",
    "\n",
    "Lapprox, n = adaptive_integration1(tol, Lnumerical1)\n",
    "print(f\"Lapprox = {Lapprox}, n = {n}\")"
   ]
  },
  {
   "cell_type": "code",
   "execution_count": 24,
   "id": "19458363",
   "metadata": {},
   "outputs": [
    {
     "data": {
      "text/plain": [
       "256"
      ]
     },
     "execution_count": 24,
     "metadata": {},
     "output_type": "execute_result"
    }
   ],
   "source": [
    "2**8"
   ]
  },
  {
   "cell_type": "markdown",
   "id": "edf92d11",
   "metadata": {},
   "source": [
    "## Question 7"
   ]
  },
  {
   "cell_type": "code",
   "execution_count": 81,
   "id": "e3083616",
   "metadata": {},
   "outputs": [],
   "source": [
    "def bond_price_calculator(n: int, t_cashflow: list, v_cashflow: list, r_zero: dict)-> float:\n",
    "    B = 0\n",
    "    disc = []\n",
    "\n",
    "    for i in range(n):\n",
    "        disc_ratio = np.exp(-t_cashflow[i]*r_zero[i])\n",
    "        disc.append(disc_ratio)\n",
    "        disc_cashflow = v_cashflow[i]*disc[i]\n",
    "        print(disc_ratio, disc_cashflow)\n",
    "        B += v_cashflow[i]*disc[i]\n",
    "                        \n",
    "    return B"
   ]
  },
  {
   "cell_type": "markdown",
   "id": "a12def34",
   "metadata": {},
   "source": [
    "## Question 9"
   ]
  },
  {
   "cell_type": "code",
   "execution_count": 84,
   "id": "2d03190d",
   "metadata": {},
   "outputs": [],
   "source": [
    "n = 4\n",
    "freq = 2\n",
    "c = 5/freq\n",
    "t = [x * 0.5 for x in range(1,n+1)]\n",
    "v = [c for x in range(n-1)]+[100+c]\n",
    "r_zero = [.05108, .05193, .05264, .05324]"
   ]
  },
  {
   "cell_type": "code",
   "execution_count": 85,
   "id": "f2d79ef1",
   "metadata": {},
   "outputs": [
    {
     "name": "stdout",
     "output_type": "stream",
     "text": [
      "0.97478338685043 2.436958467126075\n",
      "0.9493953221894785 2.373488305473696\n",
      "0.9240768867813064 2.310192216953266\n",
      "0.8989930278419909 92.14678535380406\n"
     ]
    },
    {
     "data": {
      "text/plain": [
       "99.2674243433571"
      ]
     },
     "execution_count": 85,
     "metadata": {},
     "output_type": "execute_result"
    }
   ],
   "source": [
    "bond_price_calculator(n, t,v,r_zero)"
   ]
  },
  {
   "cell_type": "code",
   "execution_count": null,
   "id": "631db14f",
   "metadata": {},
   "outputs": [],
   "source": []
  }
 ],
 "metadata": {
  "kernelspec": {
   "display_name": "Python 3 (ipykernel)",
   "language": "python",
   "name": "python3"
  },
  "language_info": {
   "codemirror_mode": {
    "name": "ipython",
    "version": 3
   },
   "file_extension": ".py",
   "mimetype": "text/x-python",
   "name": "python",
   "nbconvert_exporter": "python",
   "pygments_lexer": "ipython3",
   "version": "3.9.13"
  }
 },
 "nbformat": 4,
 "nbformat_minor": 5
}
