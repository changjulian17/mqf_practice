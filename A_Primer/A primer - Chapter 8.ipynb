{
 "cells": [
  {
   "cell_type": "markdown",
   "id": "be0b8cfc",
   "metadata": {},
   "source": [
    "# Question 3"
   ]
  },
  {
   "cell_type": "code",
   "execution_count": 147,
   "id": "86660ee7",
   "metadata": {},
   "outputs": [],
   "source": [
    "import numpy as np"
   ]
  },
  {
   "cell_type": "code",
   "execution_count": 148,
   "id": "faa21b6c",
   "metadata": {},
   "outputs": [],
   "source": [
    "B = 100 + 1/32\n",
    "n = 10\n",
    "c = 3.375\n",
    "x0 = .1\n",
    "tol = 1e-6\n",
    "\n",
    "t = [x*.5 for x in range(1,n+1)]\n",
    "v = [c/2 for x in range(n)]\n",
    "v[n-1] += 100"
   ]
  },
  {
   "cell_type": "code",
   "execution_count": 149,
   "id": "c5b9a5f9",
   "metadata": {},
   "outputs": [],
   "source": [
    "def newton(x, t, v, B):\n",
    "    num_sum = 0\n",
    "    den_sum = 0\n",
    "    \n",
    "    for a, b in zip(t,v):\n",
    "        # print(b, b*np.exp(-x*a))\n",
    "        num_sum += b*np.exp(-x*a)\n",
    "    num_sum -= B\n",
    "        \n",
    "    for c, d in zip(t,v):\n",
    "        # print(d, c*d*np.exp(-x*c))\n",
    "        den_sum += c*d*np.exp(-x*c)\n",
    "    \n",
    "    x_new = x + num_sum / den_sum\n",
    "    \n",
    "    \n",
    "    return x_new"
   ]
  },
  {
   "cell_type": "code",
   "execution_count": 150,
   "id": "e8794354",
   "metadata": {},
   "outputs": [
    {
     "name": "stdout",
     "output_type": "stream",
     "text": [
      "0.1 0.021397014741595874\n",
      "0.021397014741595874 0.033057328860338325\n",
      "0.033057328860338325 0.03340081140223473\n",
      "0.03340081140223473 0.03340109853803073\n"
     ]
    }
   ],
   "source": [
    "x_new = x0\n",
    "x_old = x0-1\n",
    "while np.abs(x_new-x_old) > tol:\n",
    "    x_old = x_new\n",
    "    x_new = newton(x_old, t, v, B)\n",
    "    print(x_old, x_new)"
   ]
  },
  {
   "cell_type": "code",
   "execution_count": 151,
   "id": "22a721d7",
   "metadata": {},
   "outputs": [
    {
     "name": "stdout",
     "output_type": "stream",
     "text": [
      "Yield: 3.340110%\n",
      "Duration: 4.642735048429879\n",
      "Convexity: 22.573118015872677\n"
     ]
    }
   ],
   "source": [
    "D = 0 \n",
    "C = 0\n",
    "\n",
    "for c, d in zip(t,v):\n",
    "    # print(d, c*d*np.exp(-x*c))\n",
    "    D += c*d*np.exp(-x_new*c)\n",
    "    C += c**2*d*np.exp(-x_new*c)\n",
    "    \n",
    "D /= B\n",
    "C /= B\n",
    "\n",
    "print(f\"Yield: {x_new*100:1f}%\")\n",
    "print(f\"Duration: {D}\")\n",
    "print(f\"Convexity: {C}\")"
   ]
  },
  {
   "cell_type": "markdown",
   "id": "9a8b7fdb",
   "metadata": {},
   "source": [
    "# Question 5"
   ]
  },
  {
   "cell_type": "code",
   "execution_count": 152,
   "id": "f42a7b05",
   "metadata": {},
   "outputs": [],
   "source": [
    "from scipy.stats import norm\n",
    "\n",
    "tol = 1e-7\n",
    "\n",
    "def fxn(x):\n",
    "    T = .25\n",
    "    K = 30\n",
    "    S = 30\n",
    "    q = .02\n",
    "    C = 2.5\n",
    "    r = .06\n",
    "    \n",
    "    d1 = (np.log(S/K)+(r-q+.5*x**2)*T)/(x*np.sqrt(T))\n",
    "    d2 = d1 - x*np.sqrt(T)\n",
    "    \n",
    "    C_approx = S*np.exp(-q*T)*norm.cdf(d1)-K*np.exp(-r*T)*norm.cdf(d2)\n",
    "    delta = C-C_approx\n",
    "    \n",
    "    return delta"
   ]
  },
  {
   "cell_type": "code",
   "execution_count": 153,
   "id": "aca5bd21",
   "metadata": {},
   "outputs": [],
   "source": [
    "# Bisection method\n",
    "a, b = .0001, 1\n",
    "tol_int = tol\n",
    "tol_approx = tol\n",
    "\n",
    "def bisect(a, b, tol_int, tol_approx):\n",
    "    x_l = a\n",
    "    x_r = b\n",
    "    i = 0 \n",
    "    \n",
    "    while max(abs(fxn(x_l)),abs(fxn(x_r))) > tol_approx or (x_r-x_l)>tol_int:\n",
    "        x_m = (x_l + x_r)/2\n",
    "        print(f\"{i} || \", x_l, x_r)\n",
    "        if fxn(x_l)*fxn(x_m) < 0:\n",
    "            x_r = x_m\n",
    "        else:\n",
    "            x_l = x_m\n",
    "        i += 1\n",
    "    \n",
    "    return x_m\n",
    "    \n"
   ]
  },
  {
   "cell_type": "code",
   "execution_count": 154,
   "id": "55b7b356",
   "metadata": {},
   "outputs": [
    {
     "name": "stdout",
     "output_type": "stream",
     "text": [
      "0 ||  0.0001 1\n",
      "1 ||  0.0001 0.50005\n",
      "2 ||  0.250075 0.50005\n",
      "3 ||  0.37506249999999997 0.50005\n",
      "4 ||  0.37506249999999997 0.43755625\n",
      "5 ||  0.37506249999999997 0.406309375\n",
      "6 ||  0.39068593749999997 0.406309375\n",
      "7 ||  0.39068593749999997 0.39849765625\n",
      "8 ||  0.394591796875 0.39849765625\n",
      "9 ||  0.3965447265625 0.39849765625\n",
      "10 ||  0.3965447265625 0.39752119140625\n",
      "11 ||  0.39703295898437496 0.39752119140625\n",
      "12 ||  0.39703295898437496 0.39727707519531247\n",
      "13 ||  0.39703295898437496 0.3971550170898437\n",
      "14 ||  0.39703295898437496 0.3970939880371093\n",
      "15 ||  0.39703295898437496 0.3970634735107421\n",
      "16 ||  0.39704821624755854 0.3970634735107421\n",
      "17 ||  0.39704821624755854 0.39705584487915035\n",
      "18 ||  0.39704821624755854 0.3970520305633545\n",
      "19 ||  0.39704821624755854 0.39705012340545653\n",
      "20 ||  0.39704821624755854 0.3970491698265075\n",
      "21 ||  0.39704821624755854 0.39704869303703305\n",
      "22 ||  0.39704845464229577 0.39704869303703305\n",
      "23 ||  0.3970485738396644 0.39704869303703305\n",
      "24 ||  0.3970485738396644 0.39704863343834873\n",
      "25 ||  0.39704860363900657 0.39704863343834873\n"
     ]
    },
    {
     "data": {
      "text/plain": [
       "0.3970486185386777"
      ]
     },
     "execution_count": 154,
     "metadata": {},
     "output_type": "execute_result"
    }
   ],
   "source": [
    "bisect(a, b, tol_int, tol_approx)"
   ]
  },
  {
   "cell_type": "code",
   "execution_count": 155,
   "id": "9e79d41b",
   "metadata": {},
   "outputs": [],
   "source": [
    "# Newton method\n",
    "x0 = .5\n",
    "tol_consec = tol\n",
    "\n",
    "def d_fxn(x):\n",
    "    T = .25\n",
    "    K = 30\n",
    "    S = 30\n",
    "    q = .02\n",
    "    C = 2.5\n",
    "    r = .06\n",
    "    \n",
    "    d1 = (np.log(S/K)+(r-q+.5*x**2)*T)/(x*np.sqrt(T))\n",
    "    \n",
    "    y = -S*np.exp(-q*T)*np.sqrt(T/2/np.pi)*np.exp(-.5*d1**2)\n",
    "    \n",
    "    return y\n",
    "\n",
    "def newton1(x0, tol_consec):\n",
    "    x_new = x0\n",
    "    x_old = 0\n",
    "    i = 0\n",
    "    \n",
    "    while abs(fxn(x_new)) > tol_approx or abs(x_new-x_old) > tol_consec:\n",
    "\n",
    "        x_old = x_new\n",
    "        x_new = x_old - (fxn(x_old) / d_fxn(x_old))\n",
    "        print(f\"{i} || \", x_old, x_new,fxn(x_old),d_fxn(x_old))\n",
    "\n",
    "        \n",
    "        i+=1\n",
    "        \n",
    "    return x_new\n"
   ]
  },
  {
   "cell_type": "code",
   "execution_count": 156,
   "id": "8d042556",
   "metadata": {},
   "outputs": [
    {
     "name": "stdout",
     "output_type": "stream",
     "text": [
      "0 ||  0.5 0.39691563052053713 -0.6054953855003937 -5.873784634449595\n",
      "1 ||  0.39691563052053713 0.39704862856860385 0.0007830945397895306 -5.888015284228571\n",
      "2 ||  0.39704862856860385 0.39704862873147384 9.58978674248101e-10 -5.888000861400251\n"
     ]
    },
    {
     "data": {
      "text/plain": [
       "0.39704862873147384"
      ]
     },
     "execution_count": 156,
     "metadata": {},
     "output_type": "execute_result"
    }
   ],
   "source": [
    "newton1(x0, tol_consec)"
   ]
  },
  {
   "cell_type": "code",
   "execution_count": 157,
   "id": "59b08b6f",
   "metadata": {
    "scrolled": true
   },
   "outputs": [],
   "source": [
    "# Secant Method\n",
    "x_1, x0 = .6, .5\n",
    "\n",
    "def secant(x0, x_1):\n",
    "    x_new = x0\n",
    "    x_old = x_1\n",
    "    i = 0\n",
    "    \n",
    "    while abs(fxn(x_new))>tol_approx or abs(x_new-x_old)>tol_consec:\n",
    "        x_oldest = x_old\n",
    "        x_old = x_new\n",
    "        x_new = x_old - fxn(x_old)*(x_old-x_oldest)/(fxn(x_old)-fxn(x_oldest))\n",
    "        print(f\"{i} || \", x_old, x_new)\n",
    "        \n",
    "        i += 1\n",
    "        \n",
    "    return x_new\n"
   ]
  },
  {
   "cell_type": "code",
   "execution_count": 158,
   "id": "c05b4610",
   "metadata": {},
   "outputs": [
    {
     "name": "stdout",
     "output_type": "stream",
     "text": [
      "0 ||  0.5 0.3967574905209847\n",
      "1 ||  0.3967574905209847 0.3970489566893094\n",
      "2 ||  0.3970489566893094 0.3970486287323524\n",
      "3 ||  0.3970486287323524 0.3970486287314739\n"
     ]
    },
    {
     "data": {
      "text/plain": [
       "0.3970486287314739"
      ]
     },
     "execution_count": 158,
     "metadata": {},
     "output_type": "execute_result"
    }
   ],
   "source": [
    "secant(x0, x_1)"
   ]
  },
  {
   "cell_type": "code",
   "execution_count": 159,
   "id": "83944fa1",
   "metadata": {},
   "outputs": [
    {
     "data": {
      "text/plain": [
       "-3.552713678800501e-15"
      ]
     },
     "execution_count": 159,
     "metadata": {},
     "output_type": "execute_result"
    }
   ],
   "source": [
    "fxn(0.3970486287314739)"
   ]
  },
  {
   "cell_type": "code",
   "execution_count": 160,
   "id": "babf07d3",
   "metadata": {},
   "outputs": [
    {
     "name": "stdout",
     "output_type": "stream",
     "text": [
      "0 ||  0.5 0.39691563052053713 -0.6054953855003937 -5.873784634449595\n",
      "1 ||  0.39691563052053713 0.39704862856860385 0.0007830945397895306 -5.888015284228571\n",
      "2 ||  0.39704862856860385 0.39704862873147384 9.58978674248101e-10 -5.888000861400251\n"
     ]
    }
   ],
   "source": [
    "# (ii) sig,approx\n",
    "T = .25\n",
    "K = 30\n",
    "S = 30\n",
    "q = .02\n",
    "C = 2.5\n",
    "r = .06\n",
    "sig_approx = np.sqrt(2*np.pi/T)/S*(C-(r-q)*T*S/2)/(1-(r+q)*T/2)\n",
    "sig_imp = newton1(x0, tol_consec)"
   ]
  },
  {
   "cell_type": "code",
   "execution_count": 161,
   "id": "7cad0d83",
   "metadata": {},
   "outputs": [
    {
     "data": {
      "text/plain": [
       "(0.39667181450389566, 0.39704862873147384, '0.094904% error')"
      ]
     },
     "execution_count": 161,
     "metadata": {},
     "output_type": "execute_result"
    }
   ],
   "source": [
    "rel_error = abs(sig_approx - sig_imp)/sig_imp\n",
    "sig_approx, sig_imp, f\"{rel_error*100:1f}% error\""
   ]
  },
  {
   "cell_type": "markdown",
   "id": "89b0012e",
   "metadata": {},
   "source": [
    "# Question 6"
   ]
  },
  {
   "cell_type": "code",
   "execution_count": 162,
   "id": "77f681d3",
   "metadata": {},
   "outputs": [
    {
     "data": {
      "text/plain": [
       "(array([ 17.,  68., -10.]), array([25., 46.,  0.]))"
      ]
     },
     "execution_count": 162,
     "metadata": {},
     "output_type": "execute_result"
    }
   ],
   "source": [
    "x01, x02 = np.array([1.0, 2.0, 3.0]), np.array([2.0, 2.0, 2.0])\n",
    "tol_approx = 1e-9\n",
    "tol_consec = 1e-6\n",
    "h = 1e-6\n",
    "\n",
    "def f (x):\n",
    "    x1, x2, x3 = x\n",
    "    \n",
    "    y1 = x1**3 + 2*x1*x2 + x3**2 - x2*x3 + 9\n",
    "    y2 = 2*x1**2 + 2*x1*x2**2 + (x2**3)*x3**2 - (x2**2)*x3 - 2\n",
    "    y3 = x1*x2*x3 + x1**3 - x3**2 - x1*x2**2 - 4\n",
    "    \n",
    "    return np.array([y1, y2, y3])\n",
    "\n",
    "f(x01), f(x02)"
   ]
  },
  {
   "cell_type": "code",
   "execution_count": 163,
   "id": "0908b120",
   "metadata": {},
   "outputs": [
    {
     "data": {
      "text/plain": [
       "array([1., 2., 3.])"
      ]
     },
     "execution_count": 163,
     "metadata": {},
     "output_type": "execute_result"
    }
   ],
   "source": [
    "x01"
   ]
  },
  {
   "cell_type": "code",
   "execution_count": 164,
   "id": "81ac705e",
   "metadata": {},
   "outputs": [
    {
     "data": {
      "text/plain": [
       "array([[  7.        ,  -1.        ,   4.        ],\n",
       "       [ 12.        , 104.00000001,  44.        ],\n",
       "       [  5.        ,  -1.        ,  -4.        ]])"
      ]
     },
     "execution_count": 164,
     "metadata": {},
     "output_type": "execute_result"
    }
   ],
   "source": [
    "def d_f(x,h):\n",
    "\n",
    "    a = []\n",
    "\n",
    "    for j in range(3):\n",
    "\n",
    "        x_addh = np.copy(x)\n",
    "        x_minh = np.copy(x)\n",
    "\n",
    "        x_addh[j] = x[j] + h\n",
    "        x_minh[j] = x[j] - h\n",
    "        diff = (f(x_addh)-f(x_minh))/h/2\n",
    "        a.append(diff)\n",
    "\n",
    "    D_f = np.array(a).T\n",
    "\n",
    "    return D_f\n",
    "\n",
    "d_f(x01,h)"
   ]
  },
  {
   "cell_type": "code",
   "execution_count": 165,
   "id": "f263c905",
   "metadata": {},
   "outputs": [
    {
     "name": "stdout",
     "output_type": "stream",
     "text": [
      "1  || [1. 2. 3.]\n",
      "2  || [ 0.5464  2.7784 -0.2616]\n",
      "3  || [-2.45415693  7.13392935 -0.4031109 ]\n",
      "4  || [-1.59789098  4.85550587 -0.37855094]\n",
      "5  || [-1.42550577  3.00500187 -0.45121636]\n",
      "6  || [-1.62369253  1.99376511 -0.67567152]\n",
      "7  || [-1.69598454  1.97436714 -0.90336961]\n",
      "8  || [-1.69054198  1.98302968 -0.88451335]\n",
      "9  || [-1.69055076  1.98310724 -0.88455808]\n"
     ]
    },
    {
     "data": {
      "text/plain": [
       "array([-1.69055076,  1.98310724, -0.88455808])"
      ]
     },
     "execution_count": 165,
     "metadata": {},
     "output_type": "execute_result"
    }
   ],
   "source": [
    "x_new = x01\n",
    "x_old = x01 - 1\n",
    "i = 1\n",
    "\n",
    "while np.linalg.norm(f(x_new))>tol_approx or np.linalg.norm(x_new-x_old)>tol_consec:\n",
    "    print(f\"{i}  ||\", x_new)\n",
    "    x_old = x_new\n",
    "    \n",
    "    # find linear equation\n",
    "    D_f = d_f(x_old, h)\n",
    "    F_old = f(x_old)\n",
    "    inverse_matrix = np.linalg.inv(D_f)\n",
    "    \n",
    "    x_new = x_old - np.dot(inverse_matrix, F_old)\n",
    "    \n",
    "    i+=1\n",
    "    \n",
    "x_new"
   ]
  },
  {
   "cell_type": "code",
   "execution_count": 166,
   "id": "70bfd040",
   "metadata": {},
   "outputs": [
    {
     "name": "stdout",
     "output_type": "stream",
     "text": [
      "1  || [2. 2. 2.]\n",
      "2  || [-0.4516129  -5.35483869 16.4677419 ]\n",
      "3  || [ 0.21571499 -5.66418295  6.75906942]\n",
      "4  || [ 0.28602268 -6.52533236  1.79625249]\n",
      "5  || [ -0.25842516 -12.48640205  -1.61432307]\n",
      "6  || [ -0.08943886 -11.02414739  -1.1070591 ]\n",
      "7  || [  0.72871716 -46.46471468   4.67295909]\n",
      "8  || [ -1.10342382 -88.17587469  -3.96511324]\n",
      "9  || [ -4.72168389  90.39758575 -14.02412521]\n",
      "10  || [ 60.64566635 781.02235277 153.71619479]\n",
      "11  || [ 42.27046645 536.00994183 149.19112111]\n",
      "12  || [ 30.58973864 370.12045352 143.85547183]\n",
      "13  || [ 22.5721881  260.76222826 135.68485421]\n",
      "14  || [ 16.41145569 189.53256107 123.43840836]\n",
      "15  || [ 11.38874428 141.72802823 108.42112642]\n",
      "16  || [  7.1708098  107.94280234  92.98004836]\n",
      "17  || [ 3.26698209 82.65719353 79.16268098]\n",
      "18  || [-3.57933022 60.38585924 71.57901487]\n",
      "19  || [-0.30292914 51.0528489  52.38729604]\n",
      "20  || [ 7.10091581 46.62257107 33.01456459]\n",
      "21  || [ 4.17451236 35.05882305 28.79374208]\n",
      "22  || [ 1.69067053 26.05095166 25.49984672]\n",
      "23  || [-9.08615732 11.01067174 34.85384514]\n",
      "24  || [-5.581418   10.45016553 20.121655  ]\n",
      "25  || [-3.25383025  9.43135133 13.03518067]\n",
      "26  || [-1.5794133   8.26490525  8.96559856]\n",
      "27  || [-0.2534343   7.33132291  6.02804067]\n",
      "28  || [1.35831351 7.90976374 2.30838848]\n",
      "29  || [0.39731613 6.17058648 1.95374029]\n",
      "30  || [-0.21288463  5.8280742   1.2047173 ]\n",
      "31  || [-0.64634457  1.70516106  1.95064186]\n",
      "32  || [-0.83374441  2.5287161   0.37533661]\n",
      "33  || [ 2.85156844 10.9240651   7.44428347]\n",
      "34  || [1.28723178 7.74346625 6.99443145]\n",
      "35  || [-3.60704688  0.33769007 13.64956151]\n",
      "36  || [-2.49712907  0.20644636  6.67125607]\n",
      "37  || [-1.43967753  0.65719819  2.8279296 ]\n",
      "38  || [0.64515472 4.07368357 1.53411349]\n",
      "39  || [-0.53137166  3.62404469  1.21961617]\n",
      "40  || [-0.99846291  2.85018645  1.26274588]\n",
      "41  || [-0.98928398  2.99600042  0.9945834 ]\n",
      "42  || [-1.00005334  2.99996033  1.00006135]\n",
      "43  || [-1.  3.  1.]\n"
     ]
    },
    {
     "data": {
      "text/plain": [
       "array([-1.,  3.,  1.])"
      ]
     },
     "execution_count": 166,
     "metadata": {},
     "output_type": "execute_result"
    }
   ],
   "source": [
    "x_new = x02\n",
    "x_old = x02 - 1\n",
    "i = 1\n",
    "\n",
    "while np.linalg.norm(f(x_new))>tol_approx or np.linalg.norm(x_new-x_old)>tol_consec:\n",
    "    print(f\"{i}  ||\", x_new)\n",
    "    x_old = x_new\n",
    "    \n",
    "    # find linear equation\n",
    "    D_f = d_f(x_old, h)\n",
    "    F_old = f(x_old)\n",
    "    inverse_matrix = np.linalg.inv(D_f)\n",
    "    \n",
    "    x_new = x_old - np.dot(inverse_matrix, F_old)\n",
    "    \n",
    "    i+=1\n",
    "    \n",
    "x_new"
   ]
  },
  {
   "cell_type": "code",
   "execution_count": 167,
   "id": "c1b74a45",
   "metadata": {},
   "outputs": [
    {
     "data": {
      "text/plain": [
       "(1e-09, 1e-06)"
      ]
     },
     "execution_count": 167,
     "metadata": {},
     "output_type": "execute_result"
    }
   ],
   "source": [
    "tol_approx, tol_consec"
   ]
  },
  {
   "cell_type": "code",
   "execution_count": 168,
   "id": "41844a63",
   "metadata": {},
   "outputs": [
    {
     "data": {
      "text/plain": [
       "array([[  7.        ,  -1.        ,   4.        ],\n",
       "       [ 12.        , 104.00000001,  44.        ],\n",
       "       [  5.        ,  -1.        ,  -4.        ]])"
      ]
     },
     "execution_count": 168,
     "metadata": {},
     "output_type": "execute_result"
    }
   ],
   "source": [
    "# forward differences\n",
    "def d_ff(x,h):\n",
    "\n",
    "    a = []\n",
    "\n",
    "    for j in range(3):\n",
    "\n",
    "        x_addh = np.copy(x)\n",
    "        x_minh = np.copy(x)\n",
    "\n",
    "        x_addh[j] = x[j] + h\n",
    "#         x_minh[j] = x[j]\n",
    "        diff = (f(x_addh)-f(x_minh))/h\n",
    "        a.append(diff)\n",
    "\n",
    "    D_f = np.array(a).T\n",
    "\n",
    "    return D_f\n",
    "\n",
    "d_f(x01,h)"
   ]
  },
  {
   "cell_type": "code",
   "execution_count": 169,
   "id": "dd2f5795",
   "metadata": {},
   "outputs": [
    {
     "name": "stdout",
     "output_type": "stream",
     "text": [
      "1  || [1. 2. 3.]\n",
      "2  || [ 0.54640022  2.77839956 -0.26159934]\n",
      "3  || [-2.45415806  7.13391919 -0.40311903]\n",
      "4  || [-1.59789352  4.85549656 -0.37855891]\n",
      "5  || [-1.42550899  3.00499549 -0.45122396]\n",
      "6  || [-1.62369388  1.99376557 -0.67567635]\n",
      "7  || [-1.6959843   1.97436748 -0.9033686 ]\n",
      "8  || [-1.69054197  1.98302969 -0.88451334]\n",
      "9  || [-1.69055076  1.98310724 -0.88455808]\n"
     ]
    },
    {
     "data": {
      "text/plain": [
       "array([-1.69055076,  1.98310724, -0.88455808])"
      ]
     },
     "execution_count": 169,
     "metadata": {},
     "output_type": "execute_result"
    }
   ],
   "source": [
    "x_new = x01\n",
    "x_old = x01 - 1\n",
    "i = 1\n",
    "\n",
    "while np.linalg.norm(f(x_new))>tol_approx or np.linalg.norm(x_new-x_old)>tol_consec:\n",
    "    print(f\"{i}  ||\", x_new)\n",
    "    x_old = x_new\n",
    "    \n",
    "    # find linear equation\n",
    "    D_f = d_ff(x_old, h)\n",
    "    F_old = f(x_old)\n",
    "    inverse_matrix = np.linalg.inv(D_f)\n",
    "    \n",
    "    x_new = x_old - np.dot(inverse_matrix, F_old)\n",
    "    \n",
    "    i+=1\n",
    "    \n",
    "x_new"
   ]
  },
  {
   "cell_type": "code",
   "execution_count": 170,
   "id": "57dfa476",
   "metadata": {},
   "outputs": [
    {
     "name": "stdout",
     "output_type": "stream",
     "text": [
      "1  || [2. 2. 2.]\n",
      "2  || [-0.45161433 -5.35484662 16.46776144]\n",
      "3  || [ 0.21571445 -5.66419144  6.75907765]\n",
      "4  || [ 0.2860225  -6.52534206  1.79625555]\n",
      "5  || [ -0.25842433 -12.48641114  -1.61432047]\n",
      "6  || [ -0.08943811 -11.02416489  -1.10705533]\n",
      "7  || [  0.72874705 -46.46650732   4.67319982]\n",
      "8  || [ -1.10344543 -88.17847799  -3.96519506]\n",
      "9  || [ -4.72184359  90.40288921 -14.02459357]\n",
      "10  || [ 60.66407356 781.25110444 153.76390782]\n",
      "11  || [ 42.28276327 536.17000862 149.23652196]\n",
      "12  || [ 30.59810458 370.23346689 143.89820944]\n",
      "13  || [ 22.57810429 260.84268389 135.72467677]\n",
      "14  || [ 16.41576382 189.59101136 123.47465875]\n",
      "15  || [ 11.3918917  141.77169124 108.45300991]\n",
      "16  || [  7.17310606 107.97622334  93.00719949]\n",
      "17  || [ 3.26880686 82.68335124 79.18506533]\n",
      "18  || [-3.57381441 60.40996032 71.59208263]\n",
      "19  || [-0.29652693 51.0730305  52.39720333]\n",
      "20  || [ 7.14370273 46.67010043 32.9760149 ]\n",
      "21  || [ 4.20640586 35.09350389 28.76123765]\n",
      "22  || [ 1.72601768 26.08645595 25.45907643]\n",
      "23  || [-8.00710958 11.99793273 33.37343591]\n",
      "24  || [-4.83155126 11.24876781 19.84146122]\n",
      "25  || [-2.68291438 10.06013792 13.09295659]\n",
      "26  || [-1.0751713   8.80501529  9.02184119]\n",
      "27  || [0.33848749 7.98054987 5.79760283]\n",
      "28  || [-3.83562288 -0.45181837 12.18646747]\n",
      "29  || [-2.80035426 -0.54069213  5.8792828 ]\n",
      "30  || [-2.19112765 -0.67947595  2.37664619]\n",
      "31  || [-1.87895577 -1.01286254 -0.39295671]\n",
      "32  || [-3.12429229 -1.94008921  6.7365811 ]\n",
      "33  || [-2.94654048 -1.92236765  3.27446678]\n",
      "34  || [-2.6201862  -2.08844288  0.85081998]\n",
      "35  || [-2.58746946 -3.65204821 -2.979661  ]\n",
      "36  || [-2.95006806 -3.80443418 -1.12780639]\n",
      "37  || [-3.05626393 -3.38213434 -0.33614056]\n",
      "38  || [-3.03705835 -2.6213778   1.09730904]\n",
      "39  || [-2.84906218 -3.22846206 -0.88779011]\n",
      "40  || [-3.0115721  -3.04743717  0.20449115]\n",
      "41  || [ -2.66616772  -8.03751523 -11.10075431]\n",
      "42  || [-2.59756462 -7.71608976 -6.220423  ]\n",
      "43  || [-5.21697632 -6.92469155 -4.004813  ]\n",
      "44  || [-4.01920464 -5.72887843 -2.99928022]\n",
      "45  || [-3.40299974 -4.83474703 -2.12958627]\n",
      "46  || [-3.16362378 -4.15622328 -1.37347121]\n",
      "47  || [-3.07803602 -3.61901894 -0.67058196]\n",
      "48  || [-3.03941928 -3.07747417  0.21315669]\n",
      "49  || [-2.71902127 -7.33508891 -9.49831827]\n",
      "50  || [-2.8321809  -7.07544137 -5.25032653]\n",
      "51  || [-3.90203649 -6.1967076  -3.55447934]\n",
      "52  || [-3.40690008 -5.22535059 -2.55891307]\n",
      "53  || [-3.20532989 -4.46425146 -1.73534723]\n",
      "54  || [-3.10879693 -3.8695765  -1.01509347]\n",
      "55  || [-3.05396558 -3.36318399 -0.27977836]\n",
      "56  || [-3.04190982 -2.5048005   1.34332285]\n",
      "57  || [-2.81813803 -3.04373036 -0.65113162]\n",
      "58  || [-3.00689322 -2.81367145  0.65755112]\n",
      "59  || [-2.87481353 -3.71564699 -1.73382755]\n",
      "60  || [-3.0362556  -3.55932289 -0.67582153]\n",
      "61  || [-3.0348061  -3.05350128  0.24164618]\n",
      "62  || [-2.77430056 -6.32724195 -7.29270047]\n",
      "63  || [-3.04375265 -6.12183364 -3.98186742]\n",
      "64  || [-3.39868041 -5.31591771 -2.71630363]\n",
      "65  || [-3.21535239 -4.5521213  -1.84831105]\n",
      "66  || [-3.11824955 -3.94319782 -1.11340621]\n",
      "67  || [-3.0594622  -3.43413152 -0.39331332]\n",
      "68  || [-3.03721889 -2.7339082   0.87492988]\n",
      "69  || [-2.87256788 -3.4279904  -1.18287551]\n",
      "70  || [-3.01975739 -3.26029109 -0.18078541]\n",
      "71  || [-3.05041463 -2.15961504  2.05829427]\n",
      "72  || [-2.70025821 -2.55834923 -0.17052137]\n",
      "73  || [-3.02295021 -1.6166148   3.26255515]\n",
      "74  || [-2.505004   -1.81970571  0.62390148]\n",
      "75  || [-2.30892271 -4.77596254 -7.05503625]\n",
      "76  || [-2.36593163 -4.83686601 -3.37939906]\n",
      "77  || [-3.81731591 -4.62243276 -1.76864278]\n",
      "78  || [-3.2488266  -3.95027958 -1.09697506]\n",
      "79  || [-3.06742939 -3.43168858 -0.38900843]\n",
      "80  || [-3.03691548 -2.72766819  0.88689163]\n",
      "81  || [-2.87143713 -3.41586645 -1.16361316]\n",
      "82  || [-3.01918256 -3.24794326 -0.15919668]\n",
      "83  || [-3.05436155 -2.06555196  2.25949346]\n",
      "84  || [-2.6667224  -2.4267408  -0.04376615]\n",
      "85  || [-3.06138071 -0.67947203  5.45907871]\n",
      "86  || [-2.32892348 -0.79895816  2.09959646]\n",
      "87  || [-1.92694449 -1.1716614  -0.8199746 ]\n",
      "88  || [-2.72245484 -2.13903229  3.47164833]\n",
      "89  || [-2.75402715 -2.20618676  1.2719043 ]\n",
      "90  || [-2.65897093 -3.02799633 -1.25494815]\n",
      "91  || [-3.00757076 -3.15548007  0.07005178]\n",
      "92  || [-3.38295403  3.26752064 13.99809639]\n",
      "93  || [-1.90281146  3.20418198  7.52019282]\n",
      "94  || [-0.96895921  3.11726711  4.18413641]\n",
      "95  || [-0.51286817  3.13869918  2.1825904 ]\n",
      "96  || [-0.73721422  3.34201066  1.10536673]\n",
      "97  || [-1.00211186  2.96422878  1.08024763]\n",
      "98  || [-0.99880138  3.00032638  1.00032638]\n",
      "99  || [-1.00000055  2.9999993   1.00000067]\n",
      "100  || [-1.  3.  1.]\n"
     ]
    },
    {
     "data": {
      "text/plain": [
       "array([-1.,  3.,  1.])"
      ]
     },
     "execution_count": 170,
     "metadata": {},
     "output_type": "execute_result"
    }
   ],
   "source": [
    "x_new = x02\n",
    "x_old = x02 - 1\n",
    "i = 1\n",
    "\n",
    "while np.linalg.norm(f(x_new))>tol_approx or np.linalg.norm(x_new-x_old)>tol_consec:\n",
    "    print(f\"{i}  ||\", x_new)\n",
    "    x_old = x_new\n",
    "    \n",
    "    # find linear equation\n",
    "    D_f = d_ff(x_old, h)\n",
    "    F_old = f(x_old)\n",
    "    inverse_matrix = np.linalg.inv(D_f)\n",
    "    \n",
    "    x_new = x_old - np.dot(inverse_matrix, F_old)\n",
    "    \n",
    "    i+=1\n",
    "    \n",
    "x_new"
   ]
  },
  {
   "cell_type": "code",
   "execution_count": 171,
   "id": "fa640c18",
   "metadata": {},
   "outputs": [
    {
     "data": {
      "text/plain": [
       "array([[  7.,  -1.,   4.],\n",
       "       [ 12., 104.,  44.],\n",
       "       [  5.,  -1.,  -4.]])"
      ]
     },
     "execution_count": 171,
     "metadata": {},
     "output_type": "execute_result"
    }
   ],
   "source": [
    "# Newton meathod\n",
    "\n",
    "def d_fn(x):\n",
    "    x1, x2, x3 = x\n",
    "    \n",
    "    y1 = [3*x1**2+2*x2, 2*x1-x3, 2*x3-x2]\n",
    "    y2 = [4*x1+2*x2**2, 4*x1*x2+3*(x2**2)*x3**2-2*x2*x3, 2*x2**3*x3-x2**2]\n",
    "    y3 = [x2*x3+3*x1**2-x2**2, x1*x3-2*x1*x2, x1*x2-2*x3]\n",
    "\n",
    "    D_f = np.array([y1,y2,y3])\n",
    "\n",
    "    return D_f\n",
    "\n",
    "d_fn(x01)"
   ]
  },
  {
   "cell_type": "code",
   "execution_count": 172,
   "id": "bca9fcec",
   "metadata": {},
   "outputs": [
    {
     "name": "stdout",
     "output_type": "stream",
     "text": [
      "1  || [1. 2. 3.]\n",
      "2  || [ 0.5464  2.7784 -0.2616]\n",
      "3  || [-2.45415693  7.13392934 -0.4031109 ]\n",
      "4  || [-1.59789098  4.85550587 -0.37855094]\n",
      "5  || [-1.42550577  3.00500187 -0.45121636]\n",
      "6  || [-1.62369253  1.99376511 -0.67567152]\n",
      "7  || [-1.69598454  1.97436714 -0.90336961]\n",
      "8  || [-1.69054198  1.98302968 -0.88451335]\n",
      "9  || [-1.69055076  1.98310724 -0.88455808]\n"
     ]
    },
    {
     "data": {
      "text/plain": [
       "array([-1.69055076,  1.98310724, -0.88455808])"
      ]
     },
     "execution_count": 172,
     "metadata": {},
     "output_type": "execute_result"
    }
   ],
   "source": [
    "x_new = x01\n",
    "x_old = x01 - 1\n",
    "i = 1\n",
    "\n",
    "while np.linalg.norm(f(x_new))>tol_approx or np.linalg.norm(x_new-x_old)>tol_consec:\n",
    "    print(f\"{i}  ||\", x_new)\n",
    "    x_old = x_new\n",
    "    \n",
    "    # find linear equation\n",
    "    D_f = d_fn(x_old)\n",
    "    F_old = f(x_old)\n",
    "    inverse_matrix = np.linalg.inv(D_f)\n",
    "    \n",
    "    x_new = x_old - np.dot(inverse_matrix, F_old)\n",
    "    \n",
    "    i+=1\n",
    "    \n",
    "x_new"
   ]
  },
  {
   "cell_type": "code",
   "execution_count": 173,
   "id": "41cfc17f",
   "metadata": {},
   "outputs": [
    {
     "name": "stdout",
     "output_type": "stream",
     "text": [
      "1  || [2. 2. 2.]\n",
      "2  || [-0.4516129  -5.35483871 16.46774194]\n",
      "3  || [ 0.21571498 -5.66418297  6.75906942]\n",
      "4  || [ 0.28602268 -6.52533239  1.79625249]\n",
      "5  || [ -0.25842516 -12.48640211  -1.61432307]\n",
      "6  || [ -0.08943887 -11.02414731  -1.10705913]\n",
      "7  || [  0.72871695 -46.46470158   4.67295733]\n",
      "8  || [ -1.10342368 -88.17585567  -3.96511265]\n",
      "9  || [ -4.72168271  90.39754455 -14.0241217 ]\n",
      "10  || [ 60.64551992 781.02052703 153.71581519]\n",
      "11  || [ 42.27036841 536.00866542 149.19075827]\n",
      "12  || [ 30.58967197 370.11954881 143.8551318 ]\n",
      "13  || [ 22.57214085 260.76158673 135.6845358 ]\n",
      "14  || [ 16.41142142 189.53209514 123.43811909]\n",
      "15  || [ 11.38871926 141.72768054 108.42087148]\n",
      "16  || [  7.1707915  107.9425363   92.97983131]\n",
      "17  || [ 3.26696773 82.65698532 79.16250206]\n",
      "18  || [-3.57937316 60.38566803 71.57890941]\n",
      "19  || [-0.30297906 51.05268886 52.3872161 ]\n",
      "20  || [ 7.10058343 46.62219944 33.01486144]\n",
      "21  || [ 4.17426437 35.05855146 28.79399272]\n",
      "22  || [ 1.69039443 26.05067296 25.50016358]\n",
      "23  || [-9.09549962 11.00212325 34.86666899]\n",
      "24  || [-5.58788457 10.44314063 20.12391341]\n",
      "25  || [-3.25868736  9.42580041 13.0344012 ]\n",
      "26  || [-1.58358485  8.26022687  8.96472135]\n",
      "27  || [-0.2579243   7.32630314  6.02892481]\n",
      "28  || [1.34263616 7.88572997 2.33197834]\n",
      "29  || [0.38981429 6.14796784 1.97510281]\n",
      "30  || [-0.21310622  5.7764723   1.23176447]\n",
      "31  || [-0.65185836  1.77295397  1.96808645]\n",
      "32  || [-0.8356759   2.5576716   0.42314061]\n",
      "33  || [0.52997353 6.20338655 3.60732981]\n",
      "34  || [-0.48006728  3.64378731  4.10458555]\n",
      "35  || [-0.14533691  3.72147887  2.01066779]\n",
      "36  || [-0.73483806  3.6443737   1.25104415]\n",
      "37  || [-0.94296019  3.09674147  1.15373209]\n",
      "38  || [-0.99036237  3.01968174  1.01921423]\n",
      "39  || [-0.99976985  3.00048156  1.00053908]\n",
      "40  || [-0.99999983  3.00000036  1.00000039]\n"
     ]
    },
    {
     "data": {
      "text/plain": [
       "array([-1.,  3.,  1.])"
      ]
     },
     "execution_count": 173,
     "metadata": {},
     "output_type": "execute_result"
    }
   ],
   "source": [
    "x_new = x02\n",
    "x_old = x02 - 1\n",
    "i = 1\n",
    "\n",
    "while np.linalg.norm(f(x_new))>tol_approx or np.linalg.norm(x_new-x_old)>tol_consec:\n",
    "    print(f\"{i}  ||\", x_new)\n",
    "    x_old = x_new\n",
    "    \n",
    "    # find linear equation\n",
    "    D_f = d_fn(x_old)\n",
    "    F_old = f(x_old)\n",
    "    inverse_matrix = np.linalg.inv(D_f)\n",
    "    \n",
    "    x_new = x_old - np.dot(inverse_matrix, F_old)\n",
    "    \n",
    "    i+=1\n",
    "    \n",
    "x_new"
   ]
  },
  {
   "cell_type": "code",
   "execution_count": 174,
   "id": "b68fd4be",
   "metadata": {},
   "outputs": [],
   "source": [
    "# def d_f(x,h):\n",
    "#     a = []\n",
    "#     for j in range(3):\n",
    "#         x_addh = np.copy(x)\n",
    "#         x_minh = np.copy(x)\n",
    "#         x_addh[j] = x[j]+h\n",
    "# #         print(x_addh[j])\n",
    "#         x_minh[j] = x[j]-h\n",
    "# #         print(x_minh[j])\n",
    "# #         print(x_addh, x_minh, (f(x_addh)-f(x_minh))/2/h)\n",
    "#         a.append((f(x_addh)-f(x_minh))/2/h)\n",
    "    \n",
    "#     res = np.array(a)\n",
    "    \n",
    "#     return res\n",
    "\n",
    "    \n",
    "\n",
    "    \n",
    "# F_old = np.array(f(x01))\n",
    "    \n",
    "# inverse_matrix = np.linalg.inv(res_array)\n",
    "\n",
    "# x_new = f(x01) - np.dot(inverse_matrix, F_old)"
   ]
  },
  {
   "cell_type": "markdown",
   "id": "0f3a4290",
   "metadata": {},
   "source": [
    "# Question 7"
   ]
  },
  {
   "cell_type": "code",
   "execution_count": 175,
   "id": "514c5f72",
   "metadata": {},
   "outputs": [
    {
     "name": "stdout",
     "output_type": "stream",
     "text": [
      "0.047289178936440954 0.047\n",
      "0.04728926180791532 0.047289178936440954\n"
     ]
    }
   ],
   "source": [
    "# using newtons method to bootstrap 0 rates\n",
    "# at .5 to 2 year\n",
    "r_5 = np.log(100/97.5)/.5\n",
    "\n",
    "def f2(x):\n",
    "    y = -100-5/32+2.4375*np.exp(-.5*r_5)+2.4375*np.exp(-(r_5+.5*x)/1.5)+2.4375*np.exp(-1.5*(.5*r_5+x)/1.5)+102.4375*np.exp(-2*x)\n",
    "    return y\n",
    "\n",
    "def d_f2(x):\n",
    "    d_y = 2.4375*-.5/1.5*np.exp(-(r_5+.5*x)/1.5)+2.4375*(-1.5/1.5)*np.exp(-1.5*(.5*r_5+x)/1.5)+102.4375*-2*np.exp(-2*x)\n",
    "    return d_y\n",
    "\n",
    "x0 = .047\n",
    "tol_approx = 1e-9\n",
    "tol_consec = 1e-6\n",
    "\n",
    "x_new = x0\n",
    "x_old = x0-1\n",
    "\n",
    "while abs(f2(x_new))>tol_approx or abs(x_new-x_old)>tol_consec:\n",
    "    x_old = x_new\n",
    "    x_new = x_old - f2(x_old)/d_f2(x_old)\n",
    "\n",
    "    print(x_new, x_old)\n",
    "\n",
    "r2 = x_new\n",
    "r1_5 = (.5*r_5+r2)/1.5\n",
    "r1 = (r_5+.5*r2)/1.5\n"
   ]
  },
  {
   "cell_type": "code",
   "execution_count": 176,
   "id": "31f2c0cc",
   "metadata": {},
   "outputs": [
    {
     "name": "stdout",
     "output_type": "stream",
     "text": [
      "0.047581370852375224 0.047\n",
      "0.047581875451800544 0.047581370852375224\n"
     ]
    }
   ],
   "source": [
    "# using newtons method to bootstrap 0 rates\n",
    "# at 2 to 3 year\n",
    "\n",
    "def f3(x):\n",
    "    y = -100-5/32+2.4375*np.exp(-.5*r_5)+2.4375*np.exp(-1*r1)+2.4375*np.exp(-1.5*r1_5)+2.4375*np.exp(-2*r2)+2.4375*np.exp(-2.5*.5*(x+r2))+102.4375*np.exp(-3*x)\n",
    "    \n",
    "    return y\n",
    "\n",
    "def d_f3(x):\n",
    "    d_y = 2.4375*-2.5*.5*np.exp(-2.5*.5*(r2+x))+102.4375*-3*np.exp(-3*x)\n",
    "    return d_y\n",
    "\n",
    "x0 = .047\n",
    "tol_approx = 1e-9\n",
    "tol_consec = 1e-6\n",
    "\n",
    "x_new = x0\n",
    "x_old = x0-1\n",
    "\n",
    "while abs(f3(x_new))>tol_approx or abs(x_new-x_old)>tol_consec:\n",
    "    x_old = x_new\n",
    "    x_new = x_old - f3(x_old)/d_f3(x_old)\n",
    "\n",
    "    print(x_new, x_old)\n",
    "    \n",
    "r3 = x_new\n",
    "r2_5 = .5*r3 + .5*r2"
   ]
  },
  {
   "cell_type": "code",
   "execution_count": 177,
   "id": "e8e370ac",
   "metadata": {},
   "outputs": [],
   "source": [
    "# at 3 to 5 year\n",
    "def f5(x):\n",
    "    r3_5 = (.5*x+1.5*r3)/2\n",
    "    r4 = (x+r3)/2\n",
    "    r4_5 = (1.5*x+.5*r3)/2\n",
    "    r5 = x\n",
    "    \n",
    "    y = -99.6875+2.3125*np.exp(-.5*r_5)+2.3125*np.exp(-1*r1)+2.3125*np.exp(-1.5*r1_5)+2.3125*np.exp(-2*r2)+2.3125*np.exp(-2.5*r2_5)+2.3125*np.exp(-3*r3)+2.3125*np.exp(-3.5*r3_5)+2.3125*np.exp(-4*r4)+2.3125*np.exp(-4.5*r4_5)+102.3125*np.exp(-5*r5)\n",
    "    \n",
    "    return y\n",
    "\n",
    "def d_f5(x):\n",
    "    d_y = 2.3125*-.875*np.exp(-3.5*(.5*x+1.5*r3)/2)+2.3125*-2*np.exp(-2*(x+r3)/2)+2.3125*-3.375*np.exp(-4.5*(1.5*x+0.5*r3)/2)+102.3125*-5*np.exp(-5*x)\n",
    "    return d_y\n"
   ]
  },
  {
   "cell_type": "code",
   "execution_count": 178,
   "id": "035471c9",
   "metadata": {},
   "outputs": [
    {
     "name": "stdout",
     "output_type": "stream",
     "text": [
      "0.04630049937344657 0.047581875451800544\n",
      "0.04630335677958187 0.04630049937344657\n",
      "0.046303359378376534 0.04630335677958187\n"
     ]
    }
   ],
   "source": [
    "x0 = r3\n",
    "tol_approx = 1e-9\n",
    "tol_consec = 1e-6\n",
    "\n",
    "x_new = x0\n",
    "x_old = x0-1\n",
    "\n",
    "while abs(f5(x_new))>tol_approx or abs(x_new-x_old)>tol_consec:\n",
    "    x_old = x_new\n",
    "    x_new = x_old - f5(x_old)/d_f5(x_old)\n",
    "\n",
    "    print(x_new, x_old)\n",
    "    \n",
    "r5 = x_new\n",
    "r4_5 = (1.5*x_new + .5*r3)/2\n",
    "r4 = (x_new + r3)/2\n",
    "r3_5 = (.5*x_new + 1.5*r3)/2"
   ]
  },
  {
   "cell_type": "code",
   "execution_count": 179,
   "id": "2fb25233",
   "metadata": {},
   "outputs": [
    {
     "data": {
      "text/plain": [
       "(0.046303359378376534,\n",
       " 0.04662298839673253,\n",
       " 0.04694261741508854,\n",
       " 0.047262246433444545)"
      ]
     },
     "execution_count": 179,
     "metadata": {},
     "output_type": "execute_result"
    }
   ],
   "source": [
    "r5, r4_5, r4, r3_5"
   ]
  },
  {
   "cell_type": "code",
   "execution_count": 180,
   "id": "ec864404",
   "metadata": {},
   "outputs": [],
   "source": [
    "# at 5 to 10 year\n",
    "def f10(x):\n",
    "    r5_5 = .1*x + .9*r5\n",
    "    r6   = .2*x + .8*r5\n",
    "    r6_5 = .3*x + .7*r5\n",
    "    r7   = .4*x + .6*r5\n",
    "    r7_5 = .5*x + .5*r5\n",
    "    r8   = .6*x + .4*r5\n",
    "    r8_5 = .7*x + .3*r5\n",
    "    r9   = .8*x + .2*r5\n",
    "    r9_5 = .9*x + .1*r5\n",
    "    r10  =    x\n",
    "    \n",
    "    \n",
    "    y = -101.125+2.4375*np.exp(-.5*r_5)+2.4375*np.exp(-1*r1)+2.4375*np.exp(-1.5*r1_5)+2.4375*np.exp(-2*r2)+2.4375*np.exp(-2.5*r2_5)+2.4375*np.exp(-3*r3)+2.4375*np.exp(-3.5*r3_5)+2.4375*np.exp(-4*r4)+2.4375*np.exp(-4.5*r4_5)+2.4375*np.exp(-5*r5)+2.4375*np.exp(-5.5*r5_5)+2.4375*np.exp(-6*r6)+2.4375*np.exp(-6.5*r6_5)+2.4375*np.exp(-7*r7)+2.4375*np.exp(-7.5*r7_5)+2.4375*np.exp(-8*r8)+2.4375*np.exp(-8.5*r8_5)+2.4375*np.exp(-9*r9)+2.4375*np.exp(-9.5*r9_5)+102.4375*np.exp(-10*r10)\n",
    "    \n",
    "    return y\n",
    "\n",
    "def d_f10(x):\n",
    "    r5_5 = .1*x + .9*r5\n",
    "    r6   = .2*x + .8*r5\n",
    "    r6_5 = .3*x + .7*r5\n",
    "    r7   = .4*x + .6*r5\n",
    "    r7_5 = .5*x + .5*r5\n",
    "    r8   = .6*x + .4*r5\n",
    "    r8_5 = .7*x + .3*r5\n",
    "    r9   = .8*x + .2*r5\n",
    "    r9_5 = .9*x + .1*r5\n",
    "    r10  =    x\n",
    "    \n",
    "    d_y = 2.4375*-5.5*.1*np.exp(-5.5*r5_5)+2.4375*-6*.2*np.exp(-6*r6)+2.4375*-6.5*.3*np.exp(-6.5*r6_5)+2.4375*-7*.4*np.exp(-7*r7)+2.4375*-7.5*.5*np.exp(-7.5*r7_5)+2.4375*-8*.6*np.exp(-8*r8)+2.4375*-8.5*.7*np.exp(-8.5*r8_5)+2.4375*-9*.8*np.exp(-9*r9)+2.4375*-9.5*.9*np.exp(-9.5*r9_5)+102.4375*-10*np.exp(-10*r10)\n",
    "    \n",
    "    return d_y"
   ]
  },
  {
   "cell_type": "code",
   "execution_count": 181,
   "id": "76a16679",
   "metadata": {},
   "outputs": [
    {
     "name": "stdout",
     "output_type": "stream",
     "text": [
      "0.04677101007728406 0.046303359378376534\n",
      "0.04677206531614356 0.04677101007728406\n",
      "0.046772065321500064 0.04677206531614356\n"
     ]
    }
   ],
   "source": [
    "x0 = r5\n",
    "tol_approx = 1e-9\n",
    "tol_consec = 1e-6\n",
    "\n",
    "x_new = x0\n",
    "x_old = x0-1\n",
    "\n",
    "while abs(f10(x_new))>tol_approx or abs(x_new-x_old)>tol_consec:\n",
    "    x_old = x_new\n",
    "    x_new = x_old - f10(x_old)/d_f10(x_old)\n",
    "\n",
    "    print(x_new, x_old)\n",
    "    \n",
    "r5_5 = .1*x_new + .9*r5\n",
    "r6   = .2*x_new + .8*r5\n",
    "r6_5 = .3*x_new + .7*r5\n",
    "r7   = .4*x_new + .6*r5\n",
    "r7_5 = .5*x_new + .5*r5\n",
    "r8   = .6*x_new + .4*r5\n",
    "r8_5 = .7*x_new + .3*r5\n",
    "r9   = .8*x_new + .2*r5\n",
    "r9_5 = .9*x_new + .1*r5\n",
    "r10  =    x_new"
   ]
  },
  {
   "cell_type": "code",
   "execution_count": 182,
   "id": "a331cb98",
   "metadata": {},
   "outputs": [
    {
     "data": {
      "text/plain": [
       "(0.05063561596857957,\n",
       " 0.04728926180791532,\n",
       " 0.047581875451800544,\n",
       " 0.046303359378376534,\n",
       " 0.046772065321500064)"
      ]
     },
     "execution_count": 182,
     "metadata": {},
     "output_type": "execute_result"
    }
   ],
   "source": [
    "r_5, r2, r3, r5, r10"
   ]
  },
  {
   "cell_type": "markdown",
   "id": "6a3c6c93-1ff6-473b-be49-ee5ac8e0766c",
   "metadata": {},
   "source": [
    "# Question 8"
   ]
  },
  {
   "cell_type": "code",
   "execution_count": 491,
   "id": "edd51be3-3d7c-482c-b4ff-390aabe9e7ee",
   "metadata": {},
   "outputs": [],
   "source": [
    "# make dictioary for rates, bond prices and cashflows\n",
    "r, B, cf = {}, {}, {}\n",
    "for month in [2+m*6 for m in range(9)]:\n",
    "    r[month], B[month], cf[month] = 'null', 'null', 'null'\n",
    "for month in [m*6 for m in range (11)]:\n",
    "    r[month], B[month], cf[month] = 'null', 'null', 'null'\n",
    "for month in [4+m*6 for m in range(8)]:\n",
    "    r[month], B[month], cf[month] = 'null', 'null', 'null'\n",
    "\n",
    "\n",
    "r = dict(sorted(r.items()))\n",
    "B = dict(sorted(B.items()))\n",
    "cf = dict(sorted(cf.items()))\n",
    "\n",
    "# instantiate known values\n",
    "r[0] = .05\n",
    "B[6], B[12], B[20], B[40], B[60] = 97.5, 100, 103, 102, 103\n",
    "cf[6], cf[12], cf[20], cf[40], cf[60] = 0, 2.5, 3, 2.5, 2"
   ]
  },
  {
   "cell_type": "code",
   "execution_count": 492,
   "id": "dc09020b-9802-4ad9-b358-1a9f91f680ba",
   "metadata": {},
   "outputs": [],
   "source": [
    "# finding 6 month r0 \n",
    "r[6] = np.log(100/B[6])/(6/12)"
   ]
  },
  {
   "cell_type": "code",
   "execution_count": 493,
   "id": "297d8167-31df-49a6-b88c-1ed2403cf4c5",
   "metadata": {},
   "outputs": [],
   "source": [
    "# in using newton method, need to get coef of x and constants\n",
    "# create functions to get coefficient of x and constant\n",
    "\n",
    "def interpolate(tlo, thi, t)-> float:\n",
    "    \"\"\"\n",
    "    Generic function \n",
    "    used to interpolate linear rates for linear \n",
    "    tlo: tenure of lower rate\n",
    "    thi: tenure of higher rate\n",
    "    t  : tenure intermediate rate that is being \n",
    "    \"\"\"\n",
    "\n",
    "    rlo, tlo, thi = r[tlo], tlo, thi\n",
    "    coef_r_hi = (t-tlo)/(thi-tlo)\n",
    "    const  = (1-(t-tlo)/(thi-tlo))*rlo\n",
    "    return coef_r_hi, const\n",
    "\n",
    "def r_eval(tlo, thi, rhi, t)->float:\n",
    "    rlo, tlo, rhi, thi = r[tlo], tlo , rhi, thi\n",
    "    coef_r_hi, const = interpolate(tlo, thi, t)\n",
    "    return coef_r_hi*rhi + const\n",
    "\n",
    "def B_px(t)-> float:\n",
    "    \n",
    "    first = 1\n",
    "    sum = 0\n",
    "    \n",
    "    for i in range(t,0,-6):\n",
    "        if first:\n",
    "            # print(t, i)\n",
    "            sum += (100 + cf[t])*np.exp(-r[i]*i/12)\n",
    "            first = 0\n",
    "        else:\n",
    "            sum += cf[t]*np.exp(-r[i]*i/12)\n",
    "        # print(i)\n",
    "    return sum\n",
    "    "
   ]
  },
  {
   "cell_type": "code",
   "execution_count": 494,
   "id": "e6510530-ee18-4f28-9ee6-257d64962d9a",
   "metadata": {},
   "outputs": [],
   "source": [
    "# assume linear rates btw 0 to 6 mths\n",
    "# find 2 month zero rate\n",
    "r[2] = r_eval(0, 6, r[6], 2)\n",
    "r[4] = r_eval(0, 6, r[6], 4)"
   ]
  },
  {
   "cell_type": "code",
   "execution_count": 495,
   "id": "8bc6d3bd-e6ed-4701-bc9c-eec06052d994",
   "metadata": {},
   "outputs": [
    {
     "data": {
      "text/plain": [
       "True"
      ]
     },
     "execution_count": 495,
     "metadata": {},
     "output_type": "execute_result"
    }
   ],
   "source": [
    "# get r12 by discounted cashflows from price\n",
    "# B[12] = cf12*exp(-r6*.5) + (cf12+100)*exp(-r12*1, solve for r12\n",
    "r[12] = np.log((100+2.5)/(100-2.5*np.exp(-r[6]*.5)))\n",
    "# double check working \n",
    "B_px(12) == 100"
   ]
  },
  {
   "cell_type": "code",
   "execution_count": 496,
   "id": "90038e94-89f9-4ff2-99d0-a0ecbea617d2",
   "metadata": {},
   "outputs": [],
   "source": [
    "# assume linear rates btw 6 to 12 mths\n",
    "# find 8 month zero rate\n",
    "r[8] = r_eval(6, 12, r[12], 8)\n",
    "r[10] = r_eval(6, 12, r[12], 10)"
   ]
  },
  {
   "cell_type": "code",
   "execution_count": 497,
   "id": "af972df6-f9ed-4fd2-b670-743eecd99929",
   "metadata": {},
   "outputs": [],
   "source": [
    "# compute f(x) where f is value of a bond at time t\n",
    "def f(x,t):\n",
    "    first = True\n",
    "    y = -B[t]\n",
    "    tlo = max((key for key, value in r.items() if isinstance(value, float)), default=None)\n",
    "    # print(tlo)\n",
    "    \n",
    "    for i in range(t,0,-6):\n",
    "        if first:\n",
    "            # print(t, i)\n",
    "            if r[i] == \"null\":\n",
    "                # compute guessed r interpolated\n",
    "                r_temp = x\n",
    "                y += (100 + cf[t])*np.exp(-r_temp*i/12)\n",
    "            else: # else compute with existing r values in list\n",
    "                y += (100 + cf[t])*np.exp(-r[i]*i/12)\n",
    "            first = False\n",
    "        else:\n",
    "            if r[i] == \"null\":\n",
    "                r_temp = r_eval(tlo, t, x, i)\n",
    "                y += cf[t]*np.exp(-r_temp*i/12)\n",
    "            else:\n",
    "                y += cf[t]*np.exp(-r[i]*i/12)\n",
    "        # print(i, y, first)\n",
    "        \n",
    "    return y\n",
    "\n",
    "\n",
    "def d_f(x,t):\n",
    "    first = True\n",
    "    y = 0\n",
    "    tlo = max((key for key, value in r.items() if isinstance(value, float)), default=None)\n",
    "    \n",
    "    for i in range(t,0,-6):\n",
    "        if r[i] == \"null\":\n",
    "            if first:\n",
    "                # print(t, i)\n",
    "                # compute guessed r interpolated\n",
    "                r_temp = x\n",
    "                y += (100 + cf[t])*(-i/12)*np.exp(-r_temp*i/12)\n",
    "                first = False\n",
    "            else:\n",
    "                r_coef, _ = interpolate(tlo, t, i)\n",
    "                r_temp = r_eval(tlo, t, x, i)\n",
    "                y += cf[t]*(-r_coef*i/12)*np.exp(-r_temp*i/12)\n",
    "        # skip values when they are present\n",
    "        # print(i, y, first)\n",
    "        \n",
    "    return y\n",
    "\n",
    "# B[20] = cf20*exp(-r2*2/12) \n",
    "    # +(cf20)*exp(-r8*8/12)\n",
    "    # +(cf20)*exp(-r14*14/12)\n",
    "    # +(cf20+100)*exp(-r20*20/12)\n",
    "# use a for loop to compute known alues for f(x), t =2, 8 and also compute for other interpolated rates\n",
    "\n",
    "def zero_curve(x_approx, t_approx, tol_approx=1e-9, tol_consec = 1e-6)->float:\n",
    "    x0 = x_approx\n",
    "    \n",
    "    t_new = t_approx\n",
    "    x_new = x0\n",
    "    x_old = x0-1\n",
    "    \n",
    "    while abs(f(x_new, t_new))>tol_approx or abs(x_new-x_old)>tol_consec:\n",
    "        x_old = x_new\n",
    "        x_new = x_old - f(x_new, t_new)/d_f(x_new, t_new)\n",
    "    \n",
    "        print(x_new, x_old)\n",
    "\n",
    "    return x_new"
   ]
  },
  {
   "cell_type": "code",
   "execution_count": 498,
   "id": "66e90b43-7839-4701-8b8d-e4f8dd4e909f",
   "metadata": {},
   "outputs": [
    {
     "name": "stdout",
     "output_type": "stream",
     "text": [
      "0.05297184363493467 0.04936960030281203\n",
      "0.05298265366301247 0.05297184363493467\n",
      "0.052982653759974574 0.05298265366301247\n"
     ]
    }
   ],
   "source": [
    "r[20] = zero_curve(r[12],20)\n",
    "r[14] = r_eval(12,20,r[20],14)\n",
    "r[16] = r_eval(12,20,r[20],16)\n",
    "r[18] = r_eval(12,20,r[20],18)"
   ]
  },
  {
   "cell_type": "code",
   "execution_count": 499,
   "id": "494d3562-838c-418b-a43b-845924e8bb25",
   "metadata": {},
   "outputs": [
    {
     "data": {
      "text/plain": [
       "True"
      ]
     },
     "execution_count": 499,
     "metadata": {},
     "output_type": "execute_result"
    }
   ],
   "source": [
    "# Check my answer\n",
    "B_px(20) == B[20]"
   ]
  },
  {
   "cell_type": "code",
   "execution_count": 500,
   "id": "125ccbb1-ea12-47b6-b86e-775c692c2e2d",
   "metadata": {},
   "outputs": [
    {
     "data": {
      "text/plain": [
       "[38, 36, 34, 32, 30, 28, 26, 24, 22]"
      ]
     },
     "execution_count": 500,
     "metadata": {},
     "output_type": "execute_result"
    }
   ],
   "source": [
    "[x for x in range(40-2,20,-2)]"
   ]
  },
  {
   "cell_type": "code",
   "execution_count": 501,
   "id": "6c9667ba-ba98-43f1-bb77-23c2b0092bf4",
   "metadata": {
    "scrolled": true
   },
   "outputs": [
    {
     "name": "stdout",
     "output_type": "stream",
     "text": [
      "0.045228347234849996 0.052982653759974574\n",
      "0.045325667009868766 0.045228347234849996\n",
      "0.04532568260711439 0.045325667009868766\n"
     ]
    },
    {
     "data": {
      "text/plain": [
       "True"
      ]
     },
     "execution_count": 501,
     "metadata": {},
     "output_type": "execute_result"
    }
   ],
   "source": [
    "r[40] = zero_curve(r[20],40)\n",
    "for m in range(40-2,20,-2):\n",
    "    r[m] = r_eval(20,40,r[40],m)\n",
    "B_px(40) - B[40] < 1e-10"
   ]
  },
  {
   "cell_type": "code",
   "execution_count": 502,
   "id": "21ad120b-c877-4aef-975a-592dda12a49a",
   "metadata": {},
   "outputs": [
    {
     "name": "stdout",
     "output_type": "stream",
     "text": [
      "0.03167780004393844 0.04532568260711439\n",
      "0.032118488293693424 0.03167780004393844\n",
      "0.03211896969755868 0.032118488293693424\n"
     ]
    },
    {
     "data": {
      "text/plain": [
       "True"
      ]
     },
     "execution_count": 502,
     "metadata": {},
     "output_type": "execute_result"
    }
   ],
   "source": [
    "r[60] = zero_curve(r[40],60)\n",
    "for m in range(60-2,40,-2):\n",
    "    r[m] = r_eval(40,60,r[60],m)\n",
    "B_px(60)-B[60] < 1e-9"
   ]
  },
  {
   "cell_type": "code",
   "execution_count": 503,
   "id": "2b54a763-830d-4833-99b9-93adae4c89f8",
   "metadata": {},
   "outputs": [
    {
     "data": {
      "text/plain": [
       "103.00000000025413"
      ]
     },
     "execution_count": 503,
     "metadata": {},
     "output_type": "execute_result"
    }
   ],
   "source": [
    "B_px(60)"
   ]
  },
  {
   "cell_type": "code",
   "execution_count": 504,
   "id": "e96c2a65-7212-4e43-8cca-16e5f8b4487b",
   "metadata": {},
   "outputs": [
    {
     "data": {
      "text/plain": [
       "(0.05,\n",
       " 0.05021187198952653,\n",
       " 0.05021361074665706,\n",
       " 0.052982653759974574,\n",
       " 0.04532568260711439,\n",
       " 0.03211896969755868)"
      ]
     },
     "execution_count": 504,
     "metadata": {},
     "output_type": "execute_result"
    }
   ],
   "source": [
    "r[0], r[2], r[8], r[20], r[40], r[60]"
   ]
  },
  {
   "cell_type": "markdown",
   "id": "5b5671ad-e162-4154-8528-9fe7135106df",
   "metadata": {},
   "source": [
    "# Appendix:\n",
    "## Helper functions"
   ]
  },
  {
   "cell_type": "code",
   "execution_count": 247,
   "id": "5be35cb6-68f7-4f27-a993-820435ab20e6",
   "metadata": {},
   "outputs": [
    {
     "data": {
      "text/plain": [
       "12"
      ]
     },
     "execution_count": 247,
     "metadata": {},
     "output_type": "execute_result"
    }
   ],
   "source": [
    "max_key = None\n",
    "max_value = float('-inf')\n",
    "\n",
    "# for key, value in r.items():\n",
    "#     if isinstance(value, float) and (max_key is None or key > max_key):\n",
    "#         max_key = key\n",
    "#         max_value = value\n",
    "\n",
    "max_key = max((key for key, value in r.items() if isinstance(value, float)), default=None)\n",
    "\n",
    "max_key"
   ]
  }
 ],
 "metadata": {
  "kernelspec": {
   "display_name": "Python 3 (ipykernel)",
   "language": "python",
   "name": "python3"
  },
  "language_info": {
   "codemirror_mode": {
    "name": "ipython",
    "version": 3
   },
   "file_extension": ".py",
   "mimetype": "text/x-python",
   "name": "python",
   "nbconvert_exporter": "python",
   "pygments_lexer": "ipython3",
   "version": "3.11.7"
  }
 },
 "nbformat": 4,
 "nbformat_minor": 5
}
