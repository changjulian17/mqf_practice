{
 "cells": [
  {
   "cell_type": "markdown",
   "metadata": {},
   "source": [
    "# set constants"
   ]
  },
  {
   "cell_type": "code",
   "execution_count": 1,
   "metadata": {},
   "outputs": [],
   "source": [
    "import numpy as np\n",
    "from scipy.optimize import fsolve\n",
    "\n",
    "# Given OIS rates (annualized percentage, converted to decimal)\n",
    "ois_rates = {\n",
    "    .5: 0.0025, 1: 0.0030, 2: 0.00325, 3: 0.00335,\n",
    "    4: 0.0035, 5: 0.0036, 7: 0.0040, 10: 0.0045,\n",
    "    15: 0.0050, 20: 0.00525, 30: 0.0055\n",
    "}\n",
    "\n",
    "# instantiate dictionary for DF and f\n",
    "dict_D = {}\n",
    "dict_f = {}\n",
    "\n",
    "def D_1(f):\n",
    "    \"\"\"\n",
    "    function to return Discount factor for 0.5 year only, f is zero rate for that 1 year\n",
    "    \"\"\"\n",
    "    return 1/(1+f/360)**180\n",
    "\n",
    "def D_n(f):\n",
    "    \"\"\"\n",
    "    function to return Discount factor for 1 year only,  f is zero rate for that 1 year\n",
    "    \"\"\"\n",
    "    return 1/(1+f/360)**360"
   ]
  },
  {
   "cell_type": "markdown",
   "metadata": {},
   "source": [
    "# Get the 0.5 and 1 year DF and f rates"
   ]
  },
  {
   "cell_type": "code",
   "execution_count": 2,
   "metadata": {},
   "outputs": [],
   "source": [
    "f_0 = 360*((.5*ois_rates[.5]+1)**(1/180)-1)\n",
    "D_0 = D_1(f_0)"
   ]
  },
  {
   "cell_type": "markdown",
   "metadata": {},
   "source": [
    "Solve for 1 year f and D(0, 1y) by using a fsolver.\n",
    "1. make function creator for PV fixed\n",
    "2. make function creator for PV flt\n",
    "3. put two together in another function\n",
    "4. use combined function in fsolver"
   ]
  },
  {
   "cell_type": "code",
   "execution_count": 3,
   "metadata": {},
   "outputs": [
    {
     "data": {
      "text/plain": [
       "(0.0034925961006445987, -1.6675896774565047e-14)"
      ]
     },
     "execution_count": 3,
     "metadata": {},
     "output_type": "execute_result"
    }
   ],
   "source": [
    "tenor = 1\n",
    "\n",
    "# state fxns for PV_flt, PV_fix\n",
    "fn_fixed_1y = lambda f_1: ois_rates[tenor]/((1+f_0/360)**(180)*(1+f_1/360)**(180))\n",
    "fn_float_1y = lambda  f_1: 1 - 1/((1 + f_0 / 360)**(180) * (1 + f_1 / 360)**(180))\n",
    "eqn = lambda f_1: fn_fixed_1y(f_1) - fn_float_1y(f_1)\n",
    "\n",
    "# use solver for PV_flt-PV_fix=0\n",
    "res = fsolve(eqn, 1e-5)[0]\n",
    "res, fn_fixed_1y(res)-fn_float_1y(res)"
   ]
  },
  {
   "cell_type": "code",
   "execution_count": 4,
   "metadata": {},
   "outputs": [],
   "source": [
    "# Save results to dictionaries\n",
    "dict_f[tenor] = res\n",
    "dict_D[tenor] = D_0*D_1(res)"
   ]
  },
  {
   "cell_type": "code",
   "execution_count": 5,
   "metadata": {},
   "outputs": [
    {
     "data": {
      "text/plain": [
       "({1: 0.0034925961006445987}, {1: 0.9970089730807411})"
      ]
     },
     "execution_count": 5,
     "metadata": {},
     "output_type": "execute_result"
    }
   ],
   "source": [
    "dict_f, dict_D"
   ]
  },
  {
   "cell_type": "markdown",
   "metadata": {},
   "source": [
    "# Now compute for 2 year\n",
    "\n",
    "$$\n",
    "PV_{fix}^{2y OIS} = [D_0(0,1y) + D_0(0,2y)] \\times R_{2y OIS}\n",
    "$$\n",
    "\n",
    "we can consider the first term as the sum of all known discount factors and the unknown discount factor"
   ]
  },
  {
   "cell_type": "code",
   "execution_count": 6,
   "metadata": {},
   "outputs": [],
   "source": [
    "def fn_pv_fix(f_n, tenor):\n",
    "    \"\"\"\n",
    "    Return function for PV of flt leg parameterised by zero rate of the last year. \n",
    "    only works from year 2 onwards. Dictionaries are taken as workbook constants\n",
    "    \"\"\"\n",
    "    sum_df = sum(dict_D.values())\n",
    "    return (sum_df + dict_D[tenor-1]*D_n(f_n)) * ois_rates[tenor]"
   ]
  },
  {
   "cell_type": "markdown",
   "metadata": {},
   "source": [
    "$$\n",
    "PV_{flt}^{2y OIS} = \n",
    "D_o(0,1y) \\times \\left[ \\left( 1 + \\frac{f_0}{360} \\right)^{180} \\left( 1 + \\frac{f_1}{360} \\right)^{180} - 1 \\right] + D_o(0,2y) \\times \\left[ \\left( 1 + \\frac{f_2}{360} \\right)^{360} - 1 \\right]\n",
    "\n",
    "$$"
   ]
  },
  {
   "cell_type": "code",
   "execution_count": 7,
   "metadata": {},
   "outputs": [],
   "source": [
    "def fn_pv_flt(f_n,tenor):\n",
    "    \"\"\"\n",
    "    Return function for PV of flt leg parameterised by zero rate of the last year. \n",
    "    only works from year 2 onwards. Dictionaries are taken as workbook constants\n",
    "    \"\"\"\n",
    "    return 1-dict_D[tenor-1]*D_n(f_n)"
   ]
  },
  {
   "cell_type": "code",
   "execution_count": 8,
   "metadata": {},
   "outputs": [
    {
     "data": {
      "text/plain": [
       "({1: 0.9970089730807411,\n",
       "  2: 0.9935307459132384,\n",
       "  3: 0.9900151412182555,\n",
       "  4: 0.9861166497152494,\n",
       "  5: 0.9821841197332517},\n",
       " {1: 0.0034925961006445987,\n",
       "  2: 0.0034947783831644763,\n",
       "  3: 0.003544788862661668,\n",
       "  4: 0.00394560518903897,\n",
       "  5: 0.003995890364441599})"
      ]
     },
     "execution_count": 8,
     "metadata": {},
     "output_type": "execute_result"
    }
   ],
   "source": [
    "def eqn(f_n, t):\n",
    "    # print(\"tenor\",tenor)\n",
    "    return fn_pv_fix(f_n,t) - fn_pv_flt(f_n,t)\n",
    "\n",
    "for tenor in range(2,6):\n",
    "    f = fsolve(eqn,.003, tenor)[0]\n",
    "\n",
    "    dict_f[tenor] = f\n",
    "    dict_D[tenor] = dict_D[tenor-1]*D_n(f)\n",
    "\n",
    "dict_D, dict_f"
   ]
  },
  {
   "cell_type": "code",
   "execution_count": null,
   "metadata": {},
   "outputs": [],
   "source": [
    "def eqn3(df, rate, tenor):\n",
    "    sum1 = sum(dict_D.values())\n",
    "    sum2 = (7-5+1) * (dict_D[tenor-1]*D_n(f_n)+dict_D[tenor-1])/2 - dict_D[tenor-1]\n",
    "    return rate*(sum1+sum2) - (1-dict_D[tenor-1]*D_n(f_n))"
   ]
  },
  {
   "cell_type": "code",
   "execution_count": 19,
   "metadata": {},
   "outputs": [
    {
     "data": {
      "text/plain": [
       "array([0.01000574])"
      ]
     },
     "execution_count": 19,
     "metadata": {},
     "output_type": "execute_result"
    }
   ],
   "source": [
    "f = fsolve(eqn3, .003, args=(ois_rates[7],6))\n",
    "f"
   ]
  },
  {
   "cell_type": "code",
   "execution_count": 17,
   "metadata": {},
   "outputs": [
    {
     "data": {
      "text/plain": [
       "array([0.97629915])"
      ]
     },
     "execution_count": 17,
     "metadata": {},
     "output_type": "execute_result"
    }
   ],
   "source": [
    "dict_D[tenor-1]*D_n(f)"
   ]
  },
  {
   "cell_type": "code",
   "execution_count": 23,
   "metadata": {},
   "outputs": [
    {
     "data": {
      "text/plain": [
       "1.0309278350515465"
      ]
     },
     "execution_count": 23,
     "metadata": {},
     "output_type": "execute_result"
    }
   ],
   "source": [
    "d1 = .95\n",
    "d3 = .99\n",
    "d2 = (d1+d3)/2\n",
    "\n",
    "1/d2"
   ]
  },
  {
   "cell_type": "code",
   "execution_count": 26,
   "metadata": {},
   "outputs": [
    {
     "data": {
      "text/plain": [
       "(0.05263157894736836, 0.015346165133619083, 0.003355729847985822)"
      ]
     },
     "execution_count": 26,
     "metadata": {},
     "output_type": "execute_result"
    }
   ],
   "source": [
    "r1 = 1/d1-1\n",
    "r2 = (1/d2)**.5-1\n",
    "r3 = (1/d3)**(1/3)-1\n",
    "\n",
    "r1, r2, r3"
   ]
  },
  {
   "cell_type": "code",
   "execution_count": 27,
   "metadata": {},
   "outputs": [
    {
     "data": {
      "text/plain": [
       "0.027993654397677092"
      ]
     },
     "execution_count": 27,
     "metadata": {},
     "output_type": "execute_result"
    }
   ],
   "source": [
    "(r1+r3)/2"
   ]
  },
  {
   "cell_type": "markdown",
   "metadata": {},
   "source": [
    "# cannot interpolate zero rates even if we can interpolate discount factors"
   ]
  },
  {
   "cell_type": "code",
   "execution_count": null,
   "metadata": {},
   "outputs": [],
   "source": []
  }
 ],
 "metadata": {
  "kernelspec": {
   "display_name": "Python 3",
   "language": "python",
   "name": "python3"
  },
  "language_info": {
   "codemirror_mode": {
    "name": "ipython",
    "version": 3
   },
   "file_extension": ".py",
   "mimetype": "text/x-python",
   "name": "python",
   "nbconvert_exporter": "python",
   "pygments_lexer": "ipython3",
   "version": "3.12.0"
  }
 },
 "nbformat": 4,
 "nbformat_minor": 2
}
