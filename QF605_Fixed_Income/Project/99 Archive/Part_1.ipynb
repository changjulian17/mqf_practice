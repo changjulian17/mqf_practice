{
 "cells": [
  {
   "cell_type": "code",
   "execution_count": 1,
   "metadata": {},
   "outputs": [],
   "source": [
    "import numpy as np\n",
    "from scipy.optimize import fsolve\n",
    "\n",
    "# Given OIS rates (annualized percentage, converted to decimal)\n",
    "ois_rates = {\n",
    "    .5: 0.0025, 1: 0.0030, 2: 0.00325, 3: 0.00335,\n",
    "    4: 0.0035, 5: 0.0036, 7: 0.0040, 10: 0.0045,\n",
    "    15: 0.0050, 20: 0.00525, 30: 0.0055\n",
    "}\n"
   ]
  },
  {
   "cell_type": "code",
   "execution_count": 2,
   "metadata": {},
   "outputs": [],
   "source": [
    "def D_0(f):\n",
    "    return 1/(1+f/360)**180\n",
    "\n",
    "def D_n(f):\n",
    "    return 1/(1+f/360)**360"
   ]
  },
  {
   "cell_type": "code",
   "execution_count": 3,
   "metadata": {},
   "outputs": [],
   "source": [
    "dict_D = {}\n",
    "dict_f = {}\n",
    "\n",
    "f_0 = 360*((.5*ois_rates[.5]+1)**(1/180)-1)\n",
    "dict_f[0.5] = f_0\n",
    "dict_D[0.5] = D_0(f_0)"
   ]
  },
  {
   "cell_type": "markdown",
   "metadata": {},
   "source": [
    "Solve for 1 year f and D(0, 1y) by using a fsolver.\n",
    "1. make function creator for PV fixed\n",
    "2. make function creator for PV flt\n",
    "3. put two together in another function\n",
    "4. use combined function in fsolver"
   ]
  },
  {
   "cell_type": "code",
   "execution_count": 4,
   "metadata": {},
   "outputs": [
    {
     "data": {
      "text/plain": [
       "0.0029910326172491834"
      ]
     },
     "execution_count": 4,
     "metadata": {},
     "output_type": "execute_result"
    }
   ],
   "source": [
    "def fn_pv_fix(D, tenor, ois_rate):\n",
    "    \"\"\"\n",
    "    return function of PV fixed interms of f_tenor\n",
    "    \"\"\"\n",
    "    # delta_T = 0\n",
    "    # if tenor > 1:\n",
    "    #     delta_T\n",
    "    # for tenor, DF in D.items():\n",
    "        # # iterate through all DF in D list and return expression\n",
    "        # print(tenor, DF)\n",
    "        # y\n",
    "    # L = (1+f_0/360)^(tenor*360)\n",
    "    fn_D = lambda f_1: ois_rate/((1+f_0/360)**(tenor*360)*(1+f_1/360)**(tenor*360))\n",
    "\n",
    "    return fn_D\n",
    "\n",
    "fn_1 = fn_pv_fix(dict_D, .5, ois_rates[1])\n",
    "fn_1(.003488786)"
   ]
  },
  {
   "cell_type": "code",
   "execution_count": 5,
   "metadata": {},
   "outputs": [
    {
     "data": {
      "text/plain": [
       "0.0029891270851050145"
      ]
     },
     "execution_count": 5,
     "metadata": {},
     "output_type": "execute_result"
    }
   ],
   "source": [
    "def fn_pv_flt(dict_D, tenor, ois_rate,f_0):\n",
    "    \"\"\"\n",
    "    Return function of PV float in terms of f_tenor\n",
    "    \"\"\"\n",
    "    fn_D = lambda  f_1: 1 - 1/((1 + f_0 / 360)**(180) * (1 + f_1 / 360)**(180))\n",
    "    return fn_D\n",
    "\n",
    "# Example usage (assuming ois_rates[\"6m\"] and D are defined)\n",
    "fn_2 = fn_pv_flt(dict_D, 0.5, ois_rates[1], f_0)\n",
    "fn_2(0.003488785)\n"
   ]
  },
  {
   "cell_type": "code",
   "execution_count": 6,
   "metadata": {},
   "outputs": [],
   "source": [
    "eqn = lambda f_1: fn_1(f_1) - fn_2(f_1)\n",
    "\n",
    "res = fsolve(eqn, 1e-5)[0]\n",
    "res, fn_1(res)-fn_2(res)\n",
    "\n",
    "# save result to f and Dict D\n",
    "\n",
    "dict_f[1] = res\n",
    "dict_D[1] = dict_D[0.5]*D_0(res)"
   ]
  },
  {
   "cell_type": "code",
   "execution_count": 7,
   "metadata": {},
   "outputs": [
    {
     "data": {
      "text/plain": [
       "{0.5: 0.0024984474705913584, 1: 0.0034925961006445987}"
      ]
     },
     "execution_count": 7,
     "metadata": {},
     "output_type": "execute_result"
    }
   ],
   "source": [
    "dict_f"
   ]
  },
  {
   "cell_type": "code",
   "execution_count": 8,
   "metadata": {},
   "outputs": [
    {
     "data": {
      "text/plain": [
       "{0.5: 0.9987515605493182, 1: 0.9970089730807411}"
      ]
     },
     "execution_count": 8,
     "metadata": {},
     "output_type": "execute_result"
    }
   ],
   "source": [
    "\n",
    "dict_D"
   ]
  },
  {
   "cell_type": "code",
   "execution_count": 9,
   "metadata": {},
   "outputs": [
    {
     "data": {
      "text/plain": [
       "0.0065016374605347165"
      ]
     },
     "execution_count": 9,
     "metadata": {},
     "output_type": "execute_result"
    }
   ],
   "source": [
    "def fn_pv_fix(dict_D, tenor, ois_rate):\n",
    "    \"\"\"\n",
    "    return function of PV fixed interms of f_tenor\n",
    "    \"\"\"\n",
    "    # delta_T = 0\n",
    "    # if tenor > 1:\n",
    "    #     delta_T\n",
    "    # for tenor, DF in D.items():\n",
    "        # # iterate through all DF in D list and return expression\n",
    "        # print(tenor, DF)\n",
    "        # y\n",
    "    # L = (1+f_0/360)^(tenor*360)\n",
    "    if tenor <2 :\n",
    "        fn_fix = lambda f_n: ois_rate/((1+f_0/360)**(.5*360)*(1+f_n/360)**(.5*360))\n",
    "    else:\n",
    "        sum_df = sum(dict_D.values()) - dict_D[0.5]\n",
    "        fn_fix = lambda f_n: (sum_df + (1 + f_n / 360)**(360)) * ois_rate\n",
    "    return fn_fix\n",
    "fn_fix = fn_pv_fix(dict_D, 2, ois_rates[2])\n",
    "fn_fix(0.003488785)"
   ]
  },
  {
   "cell_type": "code",
   "execution_count": 10,
   "metadata": {},
   "outputs": [
    {
     "data": {
      "text/plain": [
       "0.006463299516241901"
      ]
     },
     "execution_count": 10,
     "metadata": {},
     "output_type": "execute_result"
    }
   ],
   "source": [
    "def fn_pv_flt(D, tenor, ois_rate,dict_f):\n",
    "    \"\"\"\n",
    "    Return function of PV float in terms of f_tenor\n",
    "    \"\"\"\n",
    "    sum=0\n",
    "    product = 1\n",
    "\n",
    "    if tenor <2 :\n",
    "        fn_flt = lambda  f_1: 1 - 1/((1 + dict_f[0.5] / 360)**(180) * (1 + f_1 / 360)**(180))\n",
    "    else:\n",
    "        fn_flt = lambda f_n: dict_D[1]*((1+dict_f[0.5]/360)**180*(1+dict_f[1]/360)**180-1) \\\n",
    "                            + (dict_D[1] / (1+f_n/360)**360)*((1+f_n/360)**360-1)\n",
    "            \n",
    "    return fn_flt\n",
    "\n",
    "# Example usage (assuming ois_rates[\"6m\"] and D are defined)\n",
    "fn_flt = fn_pv_flt(dict_D, 2, ois_rates[2], dict_f)\n",
    "fn_flt(0.003488785)\n"
   ]
  },
  {
   "cell_type": "code",
   "execution_count": 11,
   "metadata": {},
   "outputs": [
    {
     "data": {
      "text/plain": [
       "(0.00352750056054202, -1.864133847284677e-14)"
      ]
     },
     "execution_count": 11,
     "metadata": {},
     "output_type": "execute_result"
    }
   ],
   "source": [
    "res = fsolve(lambda f_n: fn_fix(f_n) - fn_flt(f_n), 1e-5)[0]\n",
    "res, fn_fix(res)-fn_flt(res)"
   ]
  },
  {
   "cell_type": "code",
   "execution_count": 12,
   "metadata": {},
   "outputs": [],
   "source": [
    "dict_f[2] = res\n",
    "dict_D[2] = dict_D[1] * D_n(res)"
   ]
  },
  {
   "cell_type": "code",
   "execution_count": 13,
   "metadata": {},
   "outputs": [
    {
     "data": {
      "text/plain": [
       "({0.5: 0.9987515605493182, 1: 0.9970089730807411, 2: 0.9934982362729184},\n",
       " {0.5: 0.0024984474705913584,\n",
       "  1: 0.0034925961006445987,\n",
       "  2: 0.00352750056054202})"
      ]
     },
     "execution_count": 13,
     "metadata": {},
     "output_type": "execute_result"
    }
   ],
   "source": [
    "dict_D, dict_f"
   ]
  },
  {
   "cell_type": "markdown",
   "metadata": {},
   "source": [
    "# try for 3 year"
   ]
  },
  {
   "cell_type": "code",
   "execution_count": 14,
   "metadata": {},
   "outputs": [
    {
     "data": {
      "text/plain": [
       "0.01002675418106832"
      ]
     },
     "execution_count": 14,
     "metadata": {},
     "output_type": "execute_result"
    }
   ],
   "source": [
    "def fn_pv_fix(dict_D, tenor, ois_rate):\n",
    "    \"\"\"\n",
    "    return function of PV fixed interms of f_tenor\n",
    "    \"\"\"\n",
    "    # delta_T = 0\n",
    "    # if tenor > 1:\n",
    "    #     delta_T\n",
    "    # for tenor, DF in D.items():\n",
    "        # # iterate through all DF in D list and return expression\n",
    "        # print(tenor, DF)\n",
    "        # y\n",
    "    # L = (1+f_0/360)^(tenor*360)\n",
    "    if tenor <2 :\n",
    "        fn_fix = lambda f_n: ois_rate/((1+f_0/360)**(.5*360)*(1+f_n/360)**(.5*360))\n",
    "    else:\n",
    "        sum_df = sum(dict_D.values()) - dict_D[0.5]\n",
    "        fn_fix = lambda f_n: (sum_df + (1 + f_n / 360)**(360)) * ois_rate\n",
    "    return fn_fix\n",
    "fn_fix = fn_pv_fix(dict_D, 3, ois_rates[3])\n",
    "fn_fix(0.002550494)"
   ]
  },
  {
   "cell_type": "code",
   "execution_count": 15,
   "metadata": {},
   "outputs": [
    {
     "data": {
      "text/plain": [
       "0.006510768039108744"
      ]
     },
     "execution_count": 15,
     "metadata": {},
     "output_type": "execute_result"
    }
   ],
   "source": [
    "def fn_pv_flt(D, tenor, ois_rate,dict_f):\n",
    "    \"\"\"\n",
    "    Return function of PV float in terms of f_tenor\n",
    "    \"\"\"\n",
    "    sum=0\n",
    "    product = 1\n",
    "\n",
    "    if tenor <2 :\n",
    "        fn_flt = lambda  f_1: 1 - 1/((1 + dict_f[0.5] / 360)**(180) * (1 + f_1 / 360)**(180))\n",
    "    else:\n",
    "        fn_flt = lambda f_n: dict_D[1]*((1+dict_f[0.5]/360)**180*(1+dict_f[1]/360)**180-1) \\\n",
    "                            + dict_D[2]*((1+dict_f[2]/360)**360-1)\\\n",
    "                            + (dict_D[1]*dict_f[2] * (1+f_n/360)**360)*((1+f_n/360)**360-1)\n",
    "            \n",
    "    return fn_flt\n",
    "\n",
    "# Example usage (assuming ois_rates[\"6m\"] and D are defined)\n",
    "fn_flt = fn_pv_flt(dict_D, 3, ois_rates[3], dict_f)\n",
    "fn_flt(0.002550494)\n"
   ]
  },
  {
   "cell_type": "code",
   "execution_count": 16,
   "metadata": {},
   "outputs": [
    {
     "data": {
      "text/plain": [
       "(0.6819593215700435, 5.134781488891349e-16)"
      ]
     },
     "execution_count": 16,
     "metadata": {},
     "output_type": "execute_result"
    }
   ],
   "source": [
    "res = fsolve(lambda f_n: fn_fix(f_n) - fn_flt(f_n), 1e-5)[0]\n",
    "res, fn_fix(res)-fn_flt(res)"
   ]
  }
 ],
 "metadata": {
  "kernelspec": {
   "display_name": "Python 3",
   "language": "python",
   "name": "python3"
  },
  "language_info": {
   "codemirror_mode": {
    "name": "ipython",
    "version": 3
   },
   "file_extension": ".py",
   "mimetype": "text/x-python",
   "name": "python",
   "nbconvert_exporter": "python",
   "pygments_lexer": "ipython3",
   "version": "3.12.0"
  }
 },
 "nbformat": 4,
 "nbformat_minor": 2
}
