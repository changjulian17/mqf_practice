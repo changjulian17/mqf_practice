{
 "cells": [
  {
   "cell_type": "markdown",
   "metadata": {},
   "source": [
    "# Question 1\n",
    "\n",
    "from static replication of CMS in part 3. Update $g(K)$\n",
    "\n",
    "$$\n",
    "g(K) = K^{\\frac{1}{p}} - 0.04^{\\frac{1}{q}} \\quad \\quad \n",
    "g'(K) = \\frac{1}{p} K^{\\frac{1}{p} - 1} \\quad \\quad \n",
    "g''(K) = \\left( \\frac{1}{p} - 1 \\right) \\left( \\frac{1}{p} \\right) K^{\\frac{1}{p}-2}\n",
    "$$\n",
    "\n",
    "## Imports and data wrangling\n",
    "\n",
    "OIS is in semiannual df. need to also include for quarterly period"
   ]
  },
  {
   "cell_type": "code",
   "execution_count": 58,
   "metadata": {},
   "outputs": [],
   "source": [
    "import numpy as np\n",
    "import pandas as pd\n",
    "import matplotlib.pyplot as plt\n",
    "from scipy.optimize import fsolve\n",
    "from scipy.optimize import brentq\n",
    "from scipy.integrate import quad\n",
    "from scipy.stats import norm\n",
    "from scipy.interpolate import interp1d\n",
    "\n",
    "ois = pd.read_csv('./data/ois.csv')     # load discounting curve\n",
    "fsr = pd.read_csv('./data/sabr_params.csv')     # load discounting curve\n",
    "irs = pd.read_csv('./data/irs.csv')             # load par swap rates\n",
    "# get df for quarterly payments using zero rates\n",
    "new_expiry = np.arange(0.25, ois[\"years\"].max() + 0.25, 0.25)\n",
    "ois = ois.set_index(\"years\").reindex(new_expiry)\n",
    "ois[\"f\"] = ois[\"f\"].bfill() \n",
    "ois = ois.ffill()\n",
    "ois.reset_index(inplace=True)\n",
    "ois.rename(columns={\"index\": \"years\"}, inplace=True)\n",
    "ois[\"df\"] = ois.apply(lambda row: 1 / ((1 + row['f'] / 360) ** (90)), axis=1)\n",
    "ois[\"df_cumprod\"] = ois[\"df\"].cumprod()"
   ]
  },
  {
   "cell_type": "code",
   "execution_count": 59,
   "metadata": {},
   "outputs": [],
   "source": [
    "## IRR funcions\n",
    "def IRR_0(K, m, N):\n",
    "    # implementation of IRR(K) function\n",
    "    value = 1/K * ( 1.0 - 1/(1 + K/m)**(N*m) )\n",
    "    return value\n",
    "\n",
    "def IRR_1(K, m, N):\n",
    "    # implementation of IRR'(K) function (1st derivative)\n",
    "    firstDerivative = -1/K*IRR_0(K, m, N) + 1/(K*m)*N*m/(1+K/m)**(N*m+1)\n",
    "    return firstDerivative\n",
    "\n",
    "def IRR_2(K, m, N):\n",
    "    # implementation of IRR''(K) function (2nd derivative)\n",
    "    secondDerivative = -2/K*IRR_1(K, m, N) - 1/(K*m*m)*(N*m)*(N*m+1)/(1+K/m)**(N*m+2)\n",
    "    return secondDerivative\n",
    "# Payoff functions\n",
    "def g_0(K, p, q):\n",
    "    return K ** (1/p) - 0.04 ** (1/q)\n",
    "\n",
    "def g_1(K, p):\n",
    "    return 1/p * K ** (1/p - 1)\n",
    "\n",
    "def g_2(K, p):\n",
    "    return (1/p - 1) * 1 / p * K ** (1/p - 2)\n",
    "\n",
    "def h_0(K, m, N, p, q):\n",
    "    # implementation of h(K)\n",
    "    value = g_0(K, p, q) / IRR_0(K, m, N)\n",
    "    return value\n",
    "\n",
    "def h_1(K, m, N, p, q):\n",
    "    # implementation of h'(K) (1st derivative)\n",
    "    firstDerivative = (IRR_0(K, m, N)*g_1(K, p) - g_0(K, p, q)*IRR_1(K, m, N)) / IRR_0(K, m, N)**2\n",
    "    return firstDerivative\n",
    "\n",
    "def h_2(K, m, N, p, q):\n",
    "    # implementation of h''(K) (2nd derivative)\n",
    "    secondDerivative = ((IRR_0(K, m, N)*g_2(K, p) - IRR_2(K, m, N)*g_0(K, p, q) - 2.0*IRR_1(K, m, N)*g_1(K, p))/IRR_0(K, m, N)**2 \n",
    "                        + 2.0*IRR_1(K, m, N)**2*g_0(K, p, q)/IRR_0(K, m, N)**3)\n",
    "    return secondDerivative\n",
    "    \n",
    "def black76_pay(F, K, expiry, tenor, sigma):\n",
    "    \"\"\"\n",
    "    Return value of payer swaption via Black Normal model only\n",
    "    parameters\n",
    "        F: forward par swap rate given by forward IRS\n",
    "        K: strike of swaption\n",
    "        expiry: time to swaption expiry in years\n",
    "        tenor: tenor of underlying swap in years\n",
    "        sigma: annual vol\n",
    "    \"\"\"\n",
    "    t = expiry\n",
    "    d_1 = (np.log(F/K) + (1/2) * (sigma**2) * t) / (sigma * np.sqrt(t))\n",
    "    d_2 = d_1 - sigma * np.sqrt(t)\n",
    "    black_option = F * norm.cdf(d_1) - K * norm.cdf(d_2)\n",
    "    return black_option\n",
    "    \n",
    "def black76_rec(F, K, expiry, tenor, sigma):\n",
    "    \"\"\"\n",
    "    Return value of receiver swaption via Black Normal model Only\n",
    "    parameters\n",
    "        F: Forward par swap rate given by forward IRS\n",
    "        K: strike of swaption\n",
    "        expiry: time to swaption expiry in years\n",
    "        tenor: tenor of underlying swap in years\n",
    "        sigma: annual vol\n",
    "    \"\"\"\n",
    "    t = expiry\n",
    "    d_1 = (np.log(F/K) + (1/2) * (sigma**2) * t) / (sigma * np.sqrt(t))\n",
    "    d_2 = d_1 - sigma * np.sqrt(t)\n",
    "    black_option = K * norm.cdf(-d_2) - F * norm.cdf(-d_1)\n",
    "    return black_option\n",
    "\n",
    "def SABR(F, K, T, alpha, rho, nu, beta=0.9):\n",
    "    \"\"\"\n",
    "    Use SABR model to return sigma, set beta to be 0.9\n",
    "    \"\"\"\n",
    "    X = K\n",
    "    # if K is at-the-money-forward\n",
    "    if abs(F - K) < 1e-12:\n",
    "        numer1 = (((1 - beta)**2)/24)*alpha*alpha/(F**(2 - 2*beta))\n",
    "        numer2 = 0.25*rho*beta*nu*alpha/(F**(1 - beta))\n",
    "        numer3 = ((2 - 3*rho*rho)/24)*nu*nu\n",
    "        VolAtm = alpha*(1 + (numer1 + numer2 + numer3)*T)/(F**(1-beta))\n",
    "        sabrsigma = VolAtm\n",
    "    else:\n",
    "        z = (nu/alpha)*((F*X)**(0.5*(1-beta)))*np.log(F/X)\n",
    "        zhi = np.log((((1 - 2*rho*z + z*z)**0.5) + z - rho)/(1 - rho))\n",
    "        numer1 = (((1 - beta)**2)/24)*((alpha*alpha)/((F*X)**(1 - beta)))\n",
    "        numer2 = 0.25*rho*beta*nu*alpha/((F*X)**((1 - beta)/2))\n",
    "        numer3 = ((2 - 3*rho*rho)/24)*nu*nu\n",
    "        numer = alpha*(1 + (numer1 + numer2 + numer3)*T)*z\n",
    "        denom1 = ((1 - beta)**2/24)*(np.log(F/X))**2\n",
    "        denom2 = (((1 - beta)**4)/1920)*((np.log(F/X))**4)\n",
    "        denom = ((F*X)**((1 - beta)/2))*(1 + denom1 + denom2)*zhi\n",
    "        sabrsigma = numer/denom\n",
    "\n",
    "    return sabrsigma\n",
    "\n",
    "# Carr-Madan Breeden-Litzenberger model free functions\n",
    "def rec_integrand(F, K, expiry, tenor, alpha, rho, nu, m, p, q):\n",
    "    \"\"\"\n",
    "    Return value of receiver integrand per CMS rate payoff. \n",
    "    formula: 2nd derivative h * V_rec(per SABR valuation) \n",
    "    parameters:\n",
    "        m: payment freq per year, e.g. 2 is semi-annual\n",
    "        F: par swap rate\n",
    "        K: strike of CMS\n",
    "        expiry: years to expiry of swaption\n",
    "        tenor: tenor of underlying swap\n",
    "        alpha: SABR param\n",
    "        rho: SABR param\n",
    "        nu: SABR param\n",
    "    \"\"\"\n",
    "    sigma_sabr = SABR(F, K, expiry, alpha, rho, nu, beta=0.9)\n",
    "    sabr_pricing = black76_rec(F, K, expiry, tenor, sigma_sabr)\n",
    "    return h_2(K, m, tenor, p, q) * sabr_pricing\n",
    "\n",
    "def pay_integrand(F, K, expiry, tenor, alpha, rho, nu, m, p, q):\n",
    "    \"\"\"\n",
    "    Return value of receiver integrand per CMS rate payoff. \n",
    "    formula: 2nd derivative h * V_rec(per SABR valuation) \n",
    "    parameters:\n",
    "        m: payment freq per year, e.g. 2 is semi-annual\n",
    "        F: par swap rate\n",
    "        K: strike of CMS\n",
    "        expiry: years to expiry\n",
    "        tenor: tenor of underlying swap\n",
    "        alpha: SABR param\n",
    "        rho: SABR param\n",
    "        nu: SABR param\n",
    "    \"\"\"\n",
    "    sigma_sabr = SABR(F, K, expiry, alpha, rho, nu, beta=0.9)\n",
    "    sabr_pricing = black76_pay(F, K, expiry, tenor, sigma_sabr)\n",
    "    return h_2(K, m, tenor, p, q) * sabr_pricing\n",
    "\n",
    "def v_0_exotic(F, expiry, tenor, alpha, rho, nu, m, p, q):\n",
    "    \"\"\"\n",
    "    Return forward CMS single coupon payoff based of static replication discounted to today's price. Uses SABR model\n",
    "    for exotic payoff g(K) = K^{\\frac{1}{p}} - 0.04^{\\frac{1}{q}}\n",
    "    parameters:\n",
    "        F: par swap rate for given tenor\n",
    "        expiry: swaption time to expiry\n",
    "        tenor: underlying swap tenor\n",
    "        alpha, rho, nu: SABR pricing model params\n",
    "        m: underlying swap payment frequency per year\n",
    "    \"\"\"\n",
    "    df_expiry = ois.loc[ois.years == expiry]['df'].values[0]\n",
    "    int_1 = IRR_0(F, m, tenor) * quad(lambda x: rec_integrand(F, x, expiry, tenor, alpha, rho, nu, m, p, q), 0.0, F)[0]\n",
    "    int_2 = IRR_0(F, m, tenor) * quad(lambda x: pay_integrand(F, x, expiry, tenor, alpha, rho, nu, m, p, q), F, 100_000_000)[0]\n",
    "\n",
    "    return df_expiry * F + int_1 + int_2\n",
    "\n",
    "def v_0_exotic_caplet(F, expiry, tenor, alpha, rho, nu, m, p, q):\n",
    "    \"\"\"\n",
    "    Return forward CMS single coupon payoff based of static replication discounted to today's price. Uses SABR model\n",
    "    for exotic payoff g(K) = K^{\\frac{1}{p}} - 0.04^{\\frac{1}{q}}\n",
    "    parameters:\n",
    "        F: par swap rate for given tenor\n",
    "        expiry: swaption time to expiry\n",
    "        tenor: underlying swap tenor\n",
    "        alpha, rho, nu: SABR pricing model params\n",
    "        m: underlying swap payment frequency per year\n",
    "    \"\"\"\n",
    "    df_expiry = ois.loc[ois.years == expiry]['df'].values[0]\n",
    "\n",
    "    if F > 0.04**(1/q):\n",
    "        int_1 = IRR_0(F, m, tenor) * quad(lambda x: rec_integrand(F, x, expiry, tenor, alpha, rho, nu, m, p, q), 0.04**(1/q), F)[0]\n",
    "        int_2 = IRR_0(F, m, tenor) * quad(lambda x: pay_integrand(F, x, expiry, tenor, alpha, rho, nu, m, p, q), F, 100_000_000)[0]\n",
    "    else:\n",
    "        int_1 = 0\n",
    "        int_2 = IRR_0(F, m, tenor) * quad(lambda x: pay_integrand(F, x, expiry, tenor, alpha, rho, nu, m, p, q), 0.04**(1/q), 100_000_000)[0]\n",
    "\n",
    "    return df_expiry * F + int_1 + int_2\n",
    "\n"
   ]
  },
  {
   "cell_type": "markdown",
   "metadata": {},
   "source": [
    "### CMS10y for 5 year exotic payoff"
   ]
  },
  {
   "cell_type": "code",
   "execution_count": 60,
   "metadata": {},
   "outputs": [
    {
     "name": "stderr",
     "output_type": "stream",
     "text": [
      "/var/folders/h2/r7qn2m9n1zb6y_0q191gdqth0000gn/T/ipykernel_69775/1618695267.py:149: IntegrationWarning: The maximum number of subdivisions (50) has been achieved.\n",
      "  If increasing the limit yields no improvement it is advised to analyze \n",
      "  the integrand in order to determine the difficulties.  If the position of a \n",
      "  local difficulty can be determined (singularity, discontinuity) one will \n",
      "  probably gain from splitting up the interval and calling the integrator \n",
      "  on the subranges.  Perhaps a special-purpose integrator should be used.\n",
      "  int_1 = IRR_0(F, m, tenor) * quad(lambda x: rec_integrand(F, x, expiry, tenor, alpha, rho, nu, m, p, q), 0.0, F)[0]\n"
     ]
    },
    {
     "data": {
      "text/plain": [
       "0.02422933074070596"
      ]
     },
     "execution_count": 60,
     "metadata": {},
     "output_type": "execute_result"
    }
   ],
   "source": [
    "expiry = 5\n",
    "maturity = 10\n",
    "p, q = 4, 2\n",
    "\n",
    "F = fsr.loc[(fsr.Expiry==expiry) & (fsr.Tenor==maturity)]['f_irs'].values[0]\n",
    "alpha = fsr.loc[(fsr.Expiry==expiry) & (fsr.Tenor==maturity)]['alpha'].values[0]\n",
    "rho = fsr.loc[(fsr.Expiry==expiry) & (fsr.Tenor==maturity)]['rho'].values[0]\n",
    "nu = fsr.loc[(fsr.Expiry==expiry) & (fsr.Tenor==maturity)]['nu'].values[0]\n",
    "m = 2       # forward libor is in semi-annual payments, assume the same for CMS\n",
    "\n",
    "v_0_exotic(F, expiry, maturity, alpha, rho, nu, m, p, q)"
   ]
  },
  {
   "cell_type": "markdown",
   "metadata": {},
   "source": [
    "### CMS10y for 5 year exotic caplet payoff"
   ]
  },
  {
   "cell_type": "code",
   "execution_count": 61,
   "metadata": {},
   "outputs": [
    {
     "data": {
      "text/plain": [
       "0.04885131348275907"
      ]
     },
     "execution_count": 61,
     "metadata": {},
     "output_type": "execute_result"
    }
   ],
   "source": [
    "v_0_exotic_caplet(F, expiry, maturity, alpha, rho, nu, m, p, q)"
   ]
  },
  {
   "cell_type": "markdown",
   "metadata": {},
   "source": [
    "payoff function is not well behaved. as seen by second derivative of payoff function,\n",
    "$$\n",
    "g''(K) = \\left( \\frac{1}{p} - 1 \\right) \\left( \\frac{1}{p} \\right) K^{\\frac{1}{p}-2}\n",
    "$$\n",
    "\n",
    "the payoff function is strictly increasing so when it cannot be integrate to a definite value"
   ]
  },
  {
   "cell_type": "code",
   "execution_count": 62,
   "metadata": {},
   "outputs": [
    {
     "data": {
      "image/png": "[encoded data removed]",
      "text/plain": [
       "<Figure size 600x400 with 1 Axes>"
      ]
     },
     "metadata": {},
     "output_type": "display_data"
    }
   ],
   "source": [
    "def f(x):\n",
    "    return x**(1/4) - 0.04**(1/2)\n",
    "\n",
    "x_vals = np.linspace(0, 0.3, 100)\n",
    "y_vals = f(x_vals)\n",
    "x_point = fsr.loc[(fsr.Expiry==expiry) & (fsr.Tenor==maturity)]['f_irs'].values[0]\n",
    "y_point = f(x_point)\n",
    "\n",
    "# Plot\n",
    "plt.figure(figsize=(6, 4))\n",
    "plt.plot(x_vals, y_vals, label=r\"$f(S) = S^{1/4} - 0.04^{1/2}$\", color=\"b\")\n",
    "plt.scatter(x_point, y_point, color=\"r\", label=f\"5x10 par swap rate\")\n",
    "plt.axhline(0, color=\"black\", linewidth=1.5)\n",
    "plt.axvline(0, color=\"black\", linewidth=1.5) \n",
    "plt.axvline(x_point, color=\"gray\", linestyle=\"--\", linewidth=0.8)\n",
    "\n",
    "# Labels\n",
    "plt.xlabel(\"K\")\n",
    "plt.ylabel(\"g(K)\")\n",
    "plt.title(\"Plot of $f(S) = S^{1/4} - 0.04^{1/2}$\")\n",
    "plt.legend()\n",
    "plt.grid()\n",
    "plt.show()"
   ]
  }
 ],
 "metadata": {
  "kernelspec": {
   "display_name": "Python 3",
   "language": "python",
   "name": "python3"
  },
  "language_info": {
   "codemirror_mode": {
    "name": "ipython",
    "version": 3
   },
   "file_extension": ".py",
   "mimetype": "text/x-python",
   "name": "python",
   "nbconvert_exporter": "python",
   "pygments_lexer": "ipython3",
   "version": "3.12.0"
  }
 },
 "nbformat": 4,
 "nbformat_minor": 2
}
