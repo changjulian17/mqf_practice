{
 "cells": [
  {
   "cell_type": "markdown",
   "metadata": {},
   "source": [
    "# Bootstrapping Swap Curves"
   ]
  },
  {
   "cell_type": "markdown",
   "metadata": {},
   "source": [
    "# 👉 <a id = \"top\">Table of Contents</a> 👈 "
   ]
  },
  {
   "cell_type": "markdown",
   "metadata": {},
   "source": [
    "# [1. Functions](#p1)\n",
    "\n",
    "# [2. Bootstrap the OIS discount factor](#p2)\n",
    "\n",
    "# [3. Bootstrap the LIBOR discount factor](#p3)\n",
    "\n",
    "# [4. Forward swap rates](#p4)"
   ]
  },
  {
   "cell_type": "code",
   "execution_count": 13,
   "metadata": {},
   "outputs": [],
   "source": [
    "import math\n",
    "import numpy as np\n",
    "\n",
    "import scipy.stats as si\n",
    "from scipy.stats import norm\n",
    "\n",
    "from scipy.optimize import fsolve\n",
    "from scipy.optimize import brentq\n",
    "\n",
    "from matplotlib import pyplot as plt\n",
    "from matplotlib.widgets import Slider, Button, RadioButtons\n",
    "import plotly.graph_objects as go\n",
    "import pandas as pd\n",
    "import datetime as dt\n",
    "\n",
    "import warnings\n",
    "\n",
    "# Settings the warnings to be ignored \n",
    "warnings.filterwarnings('ignore') "
   ]
  },
  {
   "cell_type": "code",
   "execution_count": 14,
   "metadata": {},
   "outputs": [],
   "source": [
    "OIS_fixed_leg_frequency = 360\n",
    "IRS_fixed_leg_frequency = 180\n",
    "IRS_floating_leg_frequency = 180"
   ]
  },
  {
   "cell_type": "markdown",
   "metadata": {},
   "source": [
    "# <a id = \"p1\">1.</a>  <font color = \"green\"> Functions </font>  [back to table of contents](#top)"
   ]
  },
  {
   "cell_type": "code",
   "execution_count": 15,
   "metadata": {},
   "outputs": [],
   "source": [
    "# Get number of days from the months and years\n",
    "\n",
    "def get_days_years(data: pd.DataFrame):\n",
    "    if \"Tenor\" not in data.columns:\n",
    "        raise KeyError(\"Column 'Tenor' is missing from the DataFrame.\")\n",
    "    \n",
    "    data[\"Days\"] = np.nan\n",
    "    data[\"Years\"] = np.nan\n",
    "    for row in range(len(data)):\n",
    "        text = data.iloc[row,data.columns.get_loc(\"Tenor\")]\n",
    "        number = int(text[0:-1])\n",
    "        unit = text[-1]\n",
    "        if unit == \"m\":\n",
    "            Day = number * 30\n",
    "        elif unit == \"y\":\n",
    "            Day = number * 360\n",
    "        else:\n",
    "            print (f\"Row {row} has an error, Tenor should be in months or years.\")\n",
    "        data.iloc[row,data.columns.get_loc(\"Days\")] = Day\n",
    "        data.iloc[row,data.columns.get_loc(\"Years\")] = Day/360\n",
    "    return data "
   ]
  },
  {
   "cell_type": "code",
   "execution_count": null,
   "metadata": {},
   "outputs": [],
   "source": [
    "def plot_discount_curve(df: pd.DataFrame,\n",
    "                        discount_curve: str,\n",
    "                        title: str):\n",
    "    \"\"\"This function plots the bootstrapped discount curve of the IRS data using Plotly\"\"\"\n",
    "    \n",
    "    fig = go.Figure()\n",
    "\n",
    "    # Line plot\n",
    "    fig.add_trace(go.Scatter(\n",
    "        x=df.index, \n",
    "        y=df[discount_curve], \n",
    "        mode='lines+markers',  # Both line and markers\n",
    "        name=\"Discount Curve\",\n",
    "        line=dict(width=2), \n",
    "        marker=dict(size=6)\n",
    "    ))\n",
    "\n",
    "    # Layout customization\n",
    "    fig.update_layout(\n",
    "        title=title,\n",
    "        xaxis_title=\"Tenor (years)\",\n",
    "        yaxis_title=\"Discount Factor\",\n",
    "        template=\"plotly_white\",\n",
    "        xaxis=dict(showgrid=True),\n",
    "        yaxis=dict(showgrid=True)\n",
    "    )\n",
    "\n",
    "    # Show figure\n",
    "    fig.show()"
   ]
  },
  {
   "cell_type": "code",
   "execution_count": null,
   "metadata": {},
   "outputs": [],
   "source": [
    "def compute_forward_libor(delta_tenor: float,\n",
    "                          previous_discount_factor: float,\n",
    "                          current_discount_factor: float):\n",
    "    \n",
    "    return (1 / delta_tenor * (previous_discount_factor / current_discount_factor - 1))"
   ]
  },
  {
   "cell_type": "markdown",
   "metadata": {},
   "source": [
    "# <a id = \"p2\">2.</a>  <font color = \"green\"> Bootstrap the OIS discount factor </font>  [back to table of contents](#top)"
   ]
  },
  {
   "cell_type": "code",
   "execution_count": null,
   "metadata": {},
   "outputs": [
    {
     "data": {
      "text/html": [
       "<div>\n",
       "<style scoped>\n",
       "    .dataframe tbody tr th:only-of-type {\n",
       "        vertical-align: middle;\n",
       "    }\n",
       "\n",
       "    .dataframe tbody tr th {\n",
       "        vertical-align: top;\n",
       "    }\n",
       "\n",
       "    .dataframe thead th {\n",
       "        text-align: right;\n",
       "    }\n",
       "</style>\n",
       "<table border=\"1\" class=\"dataframe\">\n",
       "  <thead>\n",
       "    <tr style=\"text-align: right;\">\n",
       "      <th></th>\n",
       "      <th>Tenor</th>\n",
       "      <th>Product</th>\n",
       "      <th>Rate</th>\n",
       "    </tr>\n",
       "  </thead>\n",
       "  <tbody>\n",
       "    <tr>\n",
       "      <th>0</th>\n",
       "      <td>6m</td>\n",
       "      <td>OIS</td>\n",
       "      <td>0.00250</td>\n",
       "    </tr>\n",
       "    <tr>\n",
       "      <th>1</th>\n",
       "      <td>1y</td>\n",
       "      <td>OIS</td>\n",
       "      <td>0.00300</td>\n",
       "    </tr>\n",
       "    <tr>\n",
       "      <th>2</th>\n",
       "      <td>2y</td>\n",
       "      <td>OIS</td>\n",
       "      <td>0.00325</td>\n",
       "    </tr>\n",
       "    <tr>\n",
       "      <th>3</th>\n",
       "      <td>3y</td>\n",
       "      <td>OIS</td>\n",
       "      <td>0.00335</td>\n",
       "    </tr>\n",
       "    <tr>\n",
       "      <th>4</th>\n",
       "      <td>4y</td>\n",
       "      <td>OIS</td>\n",
       "      <td>0.00350</td>\n",
       "    </tr>\n",
       "    <tr>\n",
       "      <th>5</th>\n",
       "      <td>5y</td>\n",
       "      <td>OIS</td>\n",
       "      <td>0.00360</td>\n",
       "    </tr>\n",
       "    <tr>\n",
       "      <th>6</th>\n",
       "      <td>7y</td>\n",
       "      <td>OIS</td>\n",
       "      <td>0.00400</td>\n",
       "    </tr>\n",
       "    <tr>\n",
       "      <th>7</th>\n",
       "      <td>10y</td>\n",
       "      <td>OIS</td>\n",
       "      <td>0.00450</td>\n",
       "    </tr>\n",
       "    <tr>\n",
       "      <th>8</th>\n",
       "      <td>15y</td>\n",
       "      <td>OIS</td>\n",
       "      <td>0.00500</td>\n",
       "    </tr>\n",
       "    <tr>\n",
       "      <th>9</th>\n",
       "      <td>20y</td>\n",
       "      <td>OIS</td>\n",
       "      <td>0.00525</td>\n",
       "    </tr>\n",
       "    <tr>\n",
       "      <th>10</th>\n",
       "      <td>30y</td>\n",
       "      <td>OIS</td>\n",
       "      <td>0.00550</td>\n",
       "    </tr>\n",
       "  </tbody>\n",
       "</table>\n",
       "</div>"
      ],
      "text/plain": [
       "   Tenor Product     Rate\n",
       "0     6m     OIS  0.00250\n",
       "1     1y     OIS  0.00300\n",
       "2     2y     OIS  0.00325\n",
       "3     3y     OIS  0.00335\n",
       "4     4y     OIS  0.00350\n",
       "5     5y     OIS  0.00360\n",
       "6     7y     OIS  0.00400\n",
       "7    10y     OIS  0.00450\n",
       "8    15y     OIS  0.00500\n",
       "9    20y     OIS  0.00525\n",
       "10   30y     OIS  0.00550"
      ]
     },
     "execution_count": 6,
     "metadata": {},
     "output_type": "execute_result"
    }
   ],
   "source": [
    "OIS_data = pd.read_excel(\"IR Data.xlsx\",\n",
    "                         sheet_name=\"OIS\",\n",
    "                         usecols=\"A:C\")\n",
    "OIS_data"
   ]
  },
  {
   "cell_type": "code",
   "execution_count": null,
   "metadata": {},
   "outputs": [
    {
     "data": {
      "text/html": [
       "<div>\n",
       "<style scoped>\n",
       "    .dataframe tbody tr th:only-of-type {\n",
       "        vertical-align: middle;\n",
       "    }\n",
       "\n",
       "    .dataframe tbody tr th {\n",
       "        vertical-align: top;\n",
       "    }\n",
       "\n",
       "    .dataframe thead th {\n",
       "        text-align: right;\n",
       "    }\n",
       "</style>\n",
       "<table border=\"1\" class=\"dataframe\">\n",
       "  <thead>\n",
       "    <tr style=\"text-align: right;\">\n",
       "      <th></th>\n",
       "      <th>Tenor</th>\n",
       "      <th>Product</th>\n",
       "      <th>Rate</th>\n",
       "      <th>Days</th>\n",
       "      <th>Years</th>\n",
       "    </tr>\n",
       "  </thead>\n",
       "  <tbody>\n",
       "    <tr>\n",
       "      <th>0</th>\n",
       "      <td>6m</td>\n",
       "      <td>OIS</td>\n",
       "      <td>0.00250</td>\n",
       "      <td>180.0</td>\n",
       "      <td>0.5</td>\n",
       "    </tr>\n",
       "    <tr>\n",
       "      <th>1</th>\n",
       "      <td>1y</td>\n",
       "      <td>OIS</td>\n",
       "      <td>0.00300</td>\n",
       "      <td>360.0</td>\n",
       "      <td>1.0</td>\n",
       "    </tr>\n",
       "    <tr>\n",
       "      <th>2</th>\n",
       "      <td>2y</td>\n",
       "      <td>OIS</td>\n",
       "      <td>0.00325</td>\n",
       "      <td>720.0</td>\n",
       "      <td>2.0</td>\n",
       "    </tr>\n",
       "    <tr>\n",
       "      <th>3</th>\n",
       "      <td>3y</td>\n",
       "      <td>OIS</td>\n",
       "      <td>0.00335</td>\n",
       "      <td>1080.0</td>\n",
       "      <td>3.0</td>\n",
       "    </tr>\n",
       "    <tr>\n",
       "      <th>4</th>\n",
       "      <td>4y</td>\n",
       "      <td>OIS</td>\n",
       "      <td>0.00350</td>\n",
       "      <td>1440.0</td>\n",
       "      <td>4.0</td>\n",
       "    </tr>\n",
       "    <tr>\n",
       "      <th>5</th>\n",
       "      <td>5y</td>\n",
       "      <td>OIS</td>\n",
       "      <td>0.00360</td>\n",
       "      <td>1800.0</td>\n",
       "      <td>5.0</td>\n",
       "    </tr>\n",
       "    <tr>\n",
       "      <th>6</th>\n",
       "      <td>7y</td>\n",
       "      <td>OIS</td>\n",
       "      <td>0.00400</td>\n",
       "      <td>2520.0</td>\n",
       "      <td>7.0</td>\n",
       "    </tr>\n",
       "    <tr>\n",
       "      <th>7</th>\n",
       "      <td>10y</td>\n",
       "      <td>OIS</td>\n",
       "      <td>0.00450</td>\n",
       "      <td>3600.0</td>\n",
       "      <td>10.0</td>\n",
       "    </tr>\n",
       "    <tr>\n",
       "      <th>8</th>\n",
       "      <td>15y</td>\n",
       "      <td>OIS</td>\n",
       "      <td>0.00500</td>\n",
       "      <td>5400.0</td>\n",
       "      <td>15.0</td>\n",
       "    </tr>\n",
       "    <tr>\n",
       "      <th>9</th>\n",
       "      <td>20y</td>\n",
       "      <td>OIS</td>\n",
       "      <td>0.00525</td>\n",
       "      <td>7200.0</td>\n",
       "      <td>20.0</td>\n",
       "    </tr>\n",
       "    <tr>\n",
       "      <th>10</th>\n",
       "      <td>30y</td>\n",
       "      <td>OIS</td>\n",
       "      <td>0.00550</td>\n",
       "      <td>10800.0</td>\n",
       "      <td>30.0</td>\n",
       "    </tr>\n",
       "  </tbody>\n",
       "</table>\n",
       "</div>"
      ],
      "text/plain": [
       "   Tenor Product     Rate     Days  Years\n",
       "0     6m     OIS  0.00250    180.0    0.5\n",
       "1     1y     OIS  0.00300    360.0    1.0\n",
       "2     2y     OIS  0.00325    720.0    2.0\n",
       "3     3y     OIS  0.00335   1080.0    3.0\n",
       "4     4y     OIS  0.00350   1440.0    4.0\n",
       "5     5y     OIS  0.00360   1800.0    5.0\n",
       "6     7y     OIS  0.00400   2520.0    7.0\n",
       "7    10y     OIS  0.00450   3600.0   10.0\n",
       "8    15y     OIS  0.00500   5400.0   15.0\n",
       "9    20y     OIS  0.00525   7200.0   20.0\n",
       "10   30y     OIS  0.00550  10800.0   30.0"
      ]
     },
     "execution_count": 7,
     "metadata": {},
     "output_type": "execute_result"
    }
   ],
   "source": [
    "get_days_years(OIS_data)"
   ]
  },
  {
   "cell_type": "markdown",
   "metadata": {},
   "source": [
    "$$\n",
    "D(0,T_n) = \\frac{1 - r \\cdot \\sum_{i=1}^{n-1} D(0,T_i) \\cdot \\Delta_i}{1 + r \\cdot \\Delta_n}\n",
    "$$"
   ]
  },
  {
   "cell_type": "code",
   "execution_count": null,
   "metadata": {},
   "outputs": [
    {
     "data": {
      "text/html": [
       "<div>\n",
       "<style scoped>\n",
       "    .dataframe tbody tr th:only-of-type {\n",
       "        vertical-align: middle;\n",
       "    }\n",
       "\n",
       "    .dataframe tbody tr th {\n",
       "        vertical-align: top;\n",
       "    }\n",
       "\n",
       "    .dataframe thead th {\n",
       "        text-align: right;\n",
       "    }\n",
       "</style>\n",
       "<table border=\"1\" class=\"dataframe\">\n",
       "  <thead>\n",
       "    <tr style=\"text-align: right;\">\n",
       "      <th></th>\n",
       "      <th>Tenor</th>\n",
       "      <th>Product</th>\n",
       "      <th>Rate</th>\n",
       "      <th>Days</th>\n",
       "      <th>Years</th>\n",
       "      <th>OIS_Discount_Factor</th>\n",
       "      <th>Sum_Discount_Factor</th>\n",
       "    </tr>\n",
       "  </thead>\n",
       "  <tbody>\n",
       "    <tr>\n",
       "      <th>0</th>\n",
       "      <td>6m</td>\n",
       "      <td>OIS</td>\n",
       "      <td>0.00250</td>\n",
       "      <td>180.0</td>\n",
       "      <td>0.5</td>\n",
       "      <td>0.998752</td>\n",
       "      <td>NaN</td>\n",
       "    </tr>\n",
       "    <tr>\n",
       "      <th>1</th>\n",
       "      <td>1y</td>\n",
       "      <td>OIS</td>\n",
       "      <td>0.00300</td>\n",
       "      <td>360.0</td>\n",
       "      <td>1.0</td>\n",
       "      <td>0.997009</td>\n",
       "      <td>0.997009</td>\n",
       "    </tr>\n",
       "    <tr>\n",
       "      <th>2</th>\n",
       "      <td>2y</td>\n",
       "      <td>OIS</td>\n",
       "      <td>0.00325</td>\n",
       "      <td>720.0</td>\n",
       "      <td>2.0</td>\n",
       "      <td>0.993531</td>\n",
       "      <td>1.990540</td>\n",
       "    </tr>\n",
       "    <tr>\n",
       "      <th>3</th>\n",
       "      <td>3y</td>\n",
       "      <td>OIS</td>\n",
       "      <td>0.00335</td>\n",
       "      <td>1080.0</td>\n",
       "      <td>3.0</td>\n",
       "      <td>0.990015</td>\n",
       "      <td>2.980555</td>\n",
       "    </tr>\n",
       "    <tr>\n",
       "      <th>4</th>\n",
       "      <td>4y</td>\n",
       "      <td>OIS</td>\n",
       "      <td>0.00350</td>\n",
       "      <td>1440.0</td>\n",
       "      <td>4.0</td>\n",
       "      <td>0.986117</td>\n",
       "      <td>3.966672</td>\n",
       "    </tr>\n",
       "    <tr>\n",
       "      <th>5</th>\n",
       "      <td>5y</td>\n",
       "      <td>OIS</td>\n",
       "      <td>0.00360</td>\n",
       "      <td>1800.0</td>\n",
       "      <td>5.0</td>\n",
       "      <td>0.982184</td>\n",
       "      <td>4.948856</td>\n",
       "    </tr>\n",
       "    <tr>\n",
       "      <th>6</th>\n",
       "      <td>7y</td>\n",
       "      <td>OIS</td>\n",
       "      <td>0.00400</td>\n",
       "      <td>2520.0</td>\n",
       "      <td>7.0</td>\n",
       "      <td>0.972406</td>\n",
       "      <td>6.898556</td>\n",
       "    </tr>\n",
       "    <tr>\n",
       "      <th>7</th>\n",
       "      <td>10y</td>\n",
       "      <td>OIS</td>\n",
       "      <td>0.00450</td>\n",
       "      <td>3600.0</td>\n",
       "      <td>10.0</td>\n",
       "      <td>0.955977</td>\n",
       "      <td>9.782916</td>\n",
       "    </tr>\n",
       "    <tr>\n",
       "      <th>8</th>\n",
       "      <td>15y</td>\n",
       "      <td>OIS</td>\n",
       "      <td>0.00500</td>\n",
       "      <td>5400.0</td>\n",
       "      <td>15.0</td>\n",
       "      <td>0.927611</td>\n",
       "      <td>14.477704</td>\n",
       "    </tr>\n",
       "    <tr>\n",
       "      <th>9</th>\n",
       "      <td>20y</td>\n",
       "      <td>OIS</td>\n",
       "      <td>0.00525</td>\n",
       "      <td>7200.0</td>\n",
       "      <td>20.0</td>\n",
       "      <td>0.900076</td>\n",
       "      <td>19.033155</td>\n",
       "    </tr>\n",
       "    <tr>\n",
       "      <th>10</th>\n",
       "      <td>30y</td>\n",
       "      <td>OIS</td>\n",
       "      <td>0.00550</td>\n",
       "      <td>10800.0</td>\n",
       "      <td>30.0</td>\n",
       "      <td>0.847407</td>\n",
       "      <td>27.744234</td>\n",
       "    </tr>\n",
       "  </tbody>\n",
       "</table>\n",
       "</div>"
      ],
      "text/plain": [
       "   Tenor Product     Rate     Days  Years  OIS_Discount_Factor  \\\n",
       "0     6m     OIS  0.00250    180.0    0.5             0.998752   \n",
       "1     1y     OIS  0.00300    360.0    1.0             0.997009   \n",
       "2     2y     OIS  0.00325    720.0    2.0             0.993531   \n",
       "3     3y     OIS  0.00335   1080.0    3.0             0.990015   \n",
       "4     4y     OIS  0.00350   1440.0    4.0             0.986117   \n",
       "5     5y     OIS  0.00360   1800.0    5.0             0.982184   \n",
       "6     7y     OIS  0.00400   2520.0    7.0             0.972406   \n",
       "7    10y     OIS  0.00450   3600.0   10.0             0.955977   \n",
       "8    15y     OIS  0.00500   5400.0   15.0             0.927611   \n",
       "9    20y     OIS  0.00525   7200.0   20.0             0.900076   \n",
       "10   30y     OIS  0.00550  10800.0   30.0             0.847407   \n",
       "\n",
       "    Sum_Discount_Factor  \n",
       "0                   NaN  \n",
       "1              0.997009  \n",
       "2              1.990540  \n",
       "3              2.980555  \n",
       "4              3.966672  \n",
       "5              4.948856  \n",
       "6              6.898556  \n",
       "7              9.782916  \n",
       "8             14.477704  \n",
       "9             19.033155  \n",
       "10            27.744234  "
      ]
     },
     "execution_count": 8,
     "metadata": {},
     "output_type": "execute_result"
    }
   ],
   "source": [
    "OIS_data[\"OIS_Discount_Factor\"] = np.nan\n",
    "OIS_data[\"Sum_Discount_Factor\"] = np.nan\n",
    "\n",
    "'''\n",
    "Core OIS discount factor bootstrapping loop\n",
    "For each tenor:\n",
    "If it's short-term (e.g. ≤ 1 year), treat it like a deposit or short OIS.\n",
    "If it's longer, treat it like a par swap and use prior bootstrapped values to solve for the next discount factor.\n",
    "'''\n",
    "\n",
    "for row in range(len(OIS_data)):\n",
    "    days = OIS_data.iloc[row,OIS_data.columns.get_loc(\"Days\")]\n",
    "    years = OIS_data.iloc[row,OIS_data.columns.get_loc(\"Years\")]\n",
    "    rate = OIS_data.iloc[row,OIS_data.columns.get_loc(\"Rate\")]\n",
    "    # If tenor is less than or equal to fixed leg frequency\n",
    "    if days <= OIS_fixed_leg_frequency:         # Use simple interest formula\n",
    "        OIS_data.iloc[row,OIS_data.columns.get_loc(\"OIS_Discount_Factor\")] = \\\n",
    "        (\n",
    "            1/(1+days/360\n",
    "            *\n",
    "            rate)\n",
    "        )\n",
    "        \n",
    "        if years >= OIS_fixed_leg_frequency/360:\n",
    "            OIS_data.iloc[row,OIS_data.columns.get_loc(\"Sum_Discount_Factor\")] = \\\n",
    "                (\n",
    "                    OIS_data.iloc[row,OIS_data.columns.get_loc(\"OIS_Discount_Factor\")]\n",
    "                )\n",
    "    \n",
    "    # If tenor is more than fixed leg frequency\n",
    "    else:\n",
    "        OIS_data.iloc[row,OIS_data.columns.get_loc(\"OIS_Discount_Factor\")] = \\\n",
    "            (\n",
    "                (\n",
    "                    1  \n",
    "                    -\n",
    "                    rate\n",
    "                    * \n",
    "                    (OIS_data.iloc[row-1,OIS_data.columns.get_loc(\"Sum_Discount_Factor\")])\n",
    "                    -\n",
    "                    ((years-OIS_data.iloc[row-1,OIS_data.columns.get_loc(\"Years\")]-1)*0.5)\n",
    "                    *\n",
    "                    rate\n",
    "                    *\n",
    "                    (OIS_data.iloc[row-1,OIS_data.columns.get_loc(\"OIS_Discount_Factor\")])\n",
    "                ) \n",
    "                / \n",
    "                (\n",
    "                    1 + (1+(years-OIS_data.iloc[row-1,OIS_data.columns.get_loc(\"Years\")]-1)*0.5)*rate\n",
    "                )\n",
    "            )\n",
    "        \n",
    "        if years - OIS_data.iloc[row-1,OIS_data.columns.get_loc(\"Years\")] == 1:\n",
    "            OIS_data.iloc[row,OIS_data.columns.get_loc(\"Sum_Discount_Factor\")] = \\\n",
    "                (\n",
    "                    (\n",
    "                        years \n",
    "                        - \n",
    "                        OIS_data.iloc[row-1,OIS_data.columns.get_loc(\"Years\")]\n",
    "                    )\n",
    "                    *\n",
    "                    OIS_data.iloc[row,OIS_data.columns.get_loc(\"OIS_Discount_Factor\")] \n",
    "                    + \n",
    "                    OIS_data.iloc[row-1,OIS_data.columns.get_loc(\"Sum_Discount_Factor\")]\n",
    "                )\n",
    "        else:\n",
    "            OIS_data.iloc[row,OIS_data.columns.get_loc(\"Sum_Discount_Factor\")] = \\\n",
    "                (\n",
    "                    (\n",
    "                        years \n",
    "                        - \n",
    "                        OIS_data.iloc[row-1,OIS_data.columns.get_loc(\"Years\")]+1\n",
    "                    )\n",
    "                    *\n",
    "                    (\n",
    "                        OIS_data.iloc[row,OIS_data.columns.get_loc(\"OIS_Discount_Factor\")] \n",
    "                        +\n",
    "                        OIS_data.iloc[row-1,OIS_data.columns.get_loc(\"OIS_Discount_Factor\")]\n",
    "                    )/2 \n",
    "                    - OIS_data.iloc[row-1,OIS_data.columns.get_loc(\"OIS_Discount_Factor\")]\n",
    "                    + \n",
    "                    OIS_data.iloc[row-1,OIS_data.columns.get_loc(\"Sum_Discount_Factor\")]\n",
    "                )\n",
    "OIS_data"
   ]
  },
  {
   "cell_type": "code",
   "execution_count": null,
   "metadata": {},
   "outputs": [],
   "source": [
    "OIS_Interpolated_Data = OIS_data[[\"Years\", 'Rate', 'OIS_Discount_Factor']].copy()\n",
    "\n",
    "# Generate the full sequence of 0.5 year steps\n",
    "full_sequence = np.arange(0.5, 30.5, 0.5)\n",
    "\n",
    "# Convert 'years' column of your DataFrame to a list\n",
    "existing_years = OIS_Interpolated_Data['Years'].tolist()\n",
    "\n",
    "# Remove the existing years from the full sequence\n",
    "new_years = [year for year in full_sequence if year not in existing_years]\n",
    "\n",
    "# Add new rows for interpolation\n",
    "additional_years = pd.DataFrame({\n",
    "    'Years': new_years,\n",
    "    'Rate': [np.nan]*len(new_years),\n",
    "    'OIS_Discount_Factor': [np.nan]*len(new_years)\n",
    "})\n",
    "\n",
    "# Concat the new_years dataframe with the existing dataframe with rates data\n",
    "OIS_Interpolated_Data = pd.concat([additional_years, OIS_Interpolated_Data])\n",
    "\n",
    "# Sort by ascending years\n",
    "OIS_Interpolated_Data = OIS_Interpolated_Data.sort_values(by='Years')\n",
    "\n",
    "# Linear interpolation for both the rates and OIS discount factors\n",
    "OIS_Interpolated_Data = OIS_Interpolated_Data.interpolate(method='linear')\n",
    "\n",
    "# Set index for plotting\n",
    "OIS_Interpolated_Data.set_index(\"Years\",inplace=True)"
   ]
  },
  {
   "cell_type": "code",
   "execution_count": null,
   "metadata": {},
   "outputs": [
    {
     "data": {
      "text/html": [
       "<div>\n",
       "<style scoped>\n",
       "    .dataframe tbody tr th:only-of-type {\n",
       "        vertical-align: middle;\n",
       "    }\n",
       "\n",
       "    .dataframe tbody tr th {\n",
       "        vertical-align: top;\n",
       "    }\n",
       "\n",
       "    .dataframe thead th {\n",
       "        text-align: right;\n",
       "    }\n",
       "</style>\n",
       "<table border=\"1\" class=\"dataframe\">\n",
       "  <thead>\n",
       "    <tr style=\"text-align: right;\">\n",
       "      <th></th>\n",
       "      <th>Rate</th>\n",
       "      <th>OIS_Discount_Factor</th>\n",
       "    </tr>\n",
       "    <tr>\n",
       "      <th>Years</th>\n",
       "      <th></th>\n",
       "      <th></th>\n",
       "    </tr>\n",
       "  </thead>\n",
       "  <tbody>\n",
       "    <tr>\n",
       "      <th>0.5</th>\n",
       "      <td>0.002500</td>\n",
       "      <td>0.998752</td>\n",
       "    </tr>\n",
       "    <tr>\n",
       "      <th>1.0</th>\n",
       "      <td>0.003000</td>\n",
       "      <td>0.997009</td>\n",
       "    </tr>\n",
       "    <tr>\n",
       "      <th>1.5</th>\n",
       "      <td>0.003125</td>\n",
       "      <td>0.995270</td>\n",
       "    </tr>\n",
       "    <tr>\n",
       "      <th>2.0</th>\n",
       "      <td>0.003250</td>\n",
       "      <td>0.993531</td>\n",
       "    </tr>\n",
       "    <tr>\n",
       "      <th>2.5</th>\n",
       "      <td>0.003300</td>\n",
       "      <td>0.991773</td>\n",
       "    </tr>\n",
       "    <tr>\n",
       "      <th>3.0</th>\n",
       "      <td>0.003350</td>\n",
       "      <td>0.990015</td>\n",
       "    </tr>\n",
       "    <tr>\n",
       "      <th>3.5</th>\n",
       "      <td>0.003425</td>\n",
       "      <td>0.988066</td>\n",
       "    </tr>\n",
       "    <tr>\n",
       "      <th>4.0</th>\n",
       "      <td>0.003500</td>\n",
       "      <td>0.986117</td>\n",
       "    </tr>\n",
       "    <tr>\n",
       "      <th>4.5</th>\n",
       "      <td>0.003550</td>\n",
       "      <td>0.984150</td>\n",
       "    </tr>\n",
       "    <tr>\n",
       "      <th>5.0</th>\n",
       "      <td>0.003600</td>\n",
       "      <td>0.982184</td>\n",
       "    </tr>\n",
       "    <tr>\n",
       "      <th>5.5</th>\n",
       "      <td>0.003700</td>\n",
       "      <td>0.979740</td>\n",
       "    </tr>\n",
       "    <tr>\n",
       "      <th>6.0</th>\n",
       "      <td>0.003800</td>\n",
       "      <td>0.977295</td>\n",
       "    </tr>\n",
       "    <tr>\n",
       "      <th>6.5</th>\n",
       "      <td>0.003900</td>\n",
       "      <td>0.974850</td>\n",
       "    </tr>\n",
       "    <tr>\n",
       "      <th>7.0</th>\n",
       "      <td>0.004000</td>\n",
       "      <td>0.972406</td>\n",
       "    </tr>\n",
       "    <tr>\n",
       "      <th>7.5</th>\n",
       "      <td>0.004083</td>\n",
       "      <td>0.969668</td>\n",
       "    </tr>\n",
       "    <tr>\n",
       "      <th>8.0</th>\n",
       "      <td>0.004167</td>\n",
       "      <td>0.966929</td>\n",
       "    </tr>\n",
       "    <tr>\n",
       "      <th>8.5</th>\n",
       "      <td>0.004250</td>\n",
       "      <td>0.964191</td>\n",
       "    </tr>\n",
       "    <tr>\n",
       "      <th>9.0</th>\n",
       "      <td>0.004333</td>\n",
       "      <td>0.961453</td>\n",
       "    </tr>\n",
       "    <tr>\n",
       "      <th>9.5</th>\n",
       "      <td>0.004417</td>\n",
       "      <td>0.958715</td>\n",
       "    </tr>\n",
       "    <tr>\n",
       "      <th>10.0</th>\n",
       "      <td>0.004500</td>\n",
       "      <td>0.955977</td>\n",
       "    </tr>\n",
       "    <tr>\n",
       "      <th>10.5</th>\n",
       "      <td>0.004550</td>\n",
       "      <td>0.953140</td>\n",
       "    </tr>\n",
       "    <tr>\n",
       "      <th>11.0</th>\n",
       "      <td>0.004600</td>\n",
       "      <td>0.950304</td>\n",
       "    </tr>\n",
       "    <tr>\n",
       "      <th>11.5</th>\n",
       "      <td>0.004650</td>\n",
       "      <td>0.947467</td>\n",
       "    </tr>\n",
       "    <tr>\n",
       "      <th>12.0</th>\n",
       "      <td>0.004700</td>\n",
       "      <td>0.944631</td>\n",
       "    </tr>\n",
       "    <tr>\n",
       "      <th>12.5</th>\n",
       "      <td>0.004750</td>\n",
       "      <td>0.941794</td>\n",
       "    </tr>\n",
       "    <tr>\n",
       "      <th>13.0</th>\n",
       "      <td>0.004800</td>\n",
       "      <td>0.938958</td>\n",
       "    </tr>\n",
       "    <tr>\n",
       "      <th>13.5</th>\n",
       "      <td>0.004850</td>\n",
       "      <td>0.936121</td>\n",
       "    </tr>\n",
       "    <tr>\n",
       "      <th>14.0</th>\n",
       "      <td>0.004900</td>\n",
       "      <td>0.933285</td>\n",
       "    </tr>\n",
       "    <tr>\n",
       "      <th>14.5</th>\n",
       "      <td>0.004950</td>\n",
       "      <td>0.930448</td>\n",
       "    </tr>\n",
       "    <tr>\n",
       "      <th>15.0</th>\n",
       "      <td>0.005000</td>\n",
       "      <td>0.927611</td>\n",
       "    </tr>\n",
       "    <tr>\n",
       "      <th>15.5</th>\n",
       "      <td>0.005025</td>\n",
       "      <td>0.924858</td>\n",
       "    </tr>\n",
       "    <tr>\n",
       "      <th>16.0</th>\n",
       "      <td>0.005050</td>\n",
       "      <td>0.922104</td>\n",
       "    </tr>\n",
       "    <tr>\n",
       "      <th>16.5</th>\n",
       "      <td>0.005075</td>\n",
       "      <td>0.919351</td>\n",
       "    </tr>\n",
       "    <tr>\n",
       "      <th>17.0</th>\n",
       "      <td>0.005100</td>\n",
       "      <td>0.916597</td>\n",
       "    </tr>\n",
       "    <tr>\n",
       "      <th>17.5</th>\n",
       "      <td>0.005125</td>\n",
       "      <td>0.913844</td>\n",
       "    </tr>\n",
       "    <tr>\n",
       "      <th>18.0</th>\n",
       "      <td>0.005150</td>\n",
       "      <td>0.911090</td>\n",
       "    </tr>\n",
       "    <tr>\n",
       "      <th>18.5</th>\n",
       "      <td>0.005175</td>\n",
       "      <td>0.908337</td>\n",
       "    </tr>\n",
       "    <tr>\n",
       "      <th>19.0</th>\n",
       "      <td>0.005200</td>\n",
       "      <td>0.905583</td>\n",
       "    </tr>\n",
       "    <tr>\n",
       "      <th>19.5</th>\n",
       "      <td>0.005225</td>\n",
       "      <td>0.902829</td>\n",
       "    </tr>\n",
       "    <tr>\n",
       "      <th>20.0</th>\n",
       "      <td>0.005250</td>\n",
       "      <td>0.900076</td>\n",
       "    </tr>\n",
       "    <tr>\n",
       "      <th>20.5</th>\n",
       "      <td>0.005263</td>\n",
       "      <td>0.897442</td>\n",
       "    </tr>\n",
       "    <tr>\n",
       "      <th>21.0</th>\n",
       "      <td>0.005275</td>\n",
       "      <td>0.894809</td>\n",
       "    </tr>\n",
       "    <tr>\n",
       "      <th>21.5</th>\n",
       "      <td>0.005288</td>\n",
       "      <td>0.892176</td>\n",
       "    </tr>\n",
       "    <tr>\n",
       "      <th>22.0</th>\n",
       "      <td>0.005300</td>\n",
       "      <td>0.889542</td>\n",
       "    </tr>\n",
       "    <tr>\n",
       "      <th>22.5</th>\n",
       "      <td>0.005313</td>\n",
       "      <td>0.886909</td>\n",
       "    </tr>\n",
       "    <tr>\n",
       "      <th>23.0</th>\n",
       "      <td>0.005325</td>\n",
       "      <td>0.884275</td>\n",
       "    </tr>\n",
       "    <tr>\n",
       "      <th>23.5</th>\n",
       "      <td>0.005338</td>\n",
       "      <td>0.881642</td>\n",
       "    </tr>\n",
       "    <tr>\n",
       "      <th>24.0</th>\n",
       "      <td>0.005350</td>\n",
       "      <td>0.879008</td>\n",
       "    </tr>\n",
       "    <tr>\n",
       "      <th>24.5</th>\n",
       "      <td>0.005363</td>\n",
       "      <td>0.876375</td>\n",
       "    </tr>\n",
       "    <tr>\n",
       "      <th>25.0</th>\n",
       "      <td>0.005375</td>\n",
       "      <td>0.873741</td>\n",
       "    </tr>\n",
       "    <tr>\n",
       "      <th>25.5</th>\n",
       "      <td>0.005387</td>\n",
       "      <td>0.871108</td>\n",
       "    </tr>\n",
       "    <tr>\n",
       "      <th>26.0</th>\n",
       "      <td>0.005400</td>\n",
       "      <td>0.868474</td>\n",
       "    </tr>\n",
       "    <tr>\n",
       "      <th>26.5</th>\n",
       "      <td>0.005412</td>\n",
       "      <td>0.865841</td>\n",
       "    </tr>\n",
       "    <tr>\n",
       "      <th>27.0</th>\n",
       "      <td>0.005425</td>\n",
       "      <td>0.863207</td>\n",
       "    </tr>\n",
       "    <tr>\n",
       "      <th>27.5</th>\n",
       "      <td>0.005437</td>\n",
       "      <td>0.860574</td>\n",
       "    </tr>\n",
       "    <tr>\n",
       "      <th>28.0</th>\n",
       "      <td>0.005450</td>\n",
       "      <td>0.857941</td>\n",
       "    </tr>\n",
       "    <tr>\n",
       "      <th>28.5</th>\n",
       "      <td>0.005462</td>\n",
       "      <td>0.855307</td>\n",
       "    </tr>\n",
       "    <tr>\n",
       "      <th>29.0</th>\n",
       "      <td>0.005475</td>\n",
       "      <td>0.852674</td>\n",
       "    </tr>\n",
       "    <tr>\n",
       "      <th>29.5</th>\n",
       "      <td>0.005487</td>\n",
       "      <td>0.850040</td>\n",
       "    </tr>\n",
       "    <tr>\n",
       "      <th>30.0</th>\n",
       "      <td>0.005500</td>\n",
       "      <td>0.847407</td>\n",
       "    </tr>\n",
       "  </tbody>\n",
       "</table>\n",
       "</div>"
      ],
      "text/plain": [
       "           Rate  OIS_Discount_Factor\n",
       "Years                               \n",
       "0.5    0.002500             0.998752\n",
       "1.0    0.003000             0.997009\n",
       "1.5    0.003125             0.995270\n",
       "2.0    0.003250             0.993531\n",
       "2.5    0.003300             0.991773\n",
       "3.0    0.003350             0.990015\n",
       "3.5    0.003425             0.988066\n",
       "4.0    0.003500             0.986117\n",
       "4.5    0.003550             0.984150\n",
       "5.0    0.003600             0.982184\n",
       "5.5    0.003700             0.979740\n",
       "6.0    0.003800             0.977295\n",
       "6.5    0.003900             0.974850\n",
       "7.0    0.004000             0.972406\n",
       "7.5    0.004083             0.969668\n",
       "8.0    0.004167             0.966929\n",
       "8.5    0.004250             0.964191\n",
       "9.0    0.004333             0.961453\n",
       "9.5    0.004417             0.958715\n",
       "10.0   0.004500             0.955977\n",
       "10.5   0.004550             0.953140\n",
       "11.0   0.004600             0.950304\n",
       "11.5   0.004650             0.947467\n",
       "12.0   0.004700             0.944631\n",
       "12.5   0.004750             0.941794\n",
       "13.0   0.004800             0.938958\n",
       "13.5   0.004850             0.936121\n",
       "14.0   0.004900             0.933285\n",
       "14.5   0.004950             0.930448\n",
       "15.0   0.005000             0.927611\n",
       "15.5   0.005025             0.924858\n",
       "16.0   0.005050             0.922104\n",
       "16.5   0.005075             0.919351\n",
       "17.0   0.005100             0.916597\n",
       "17.5   0.005125             0.913844\n",
       "18.0   0.005150             0.911090\n",
       "18.5   0.005175             0.908337\n",
       "19.0   0.005200             0.905583\n",
       "19.5   0.005225             0.902829\n",
       "20.0   0.005250             0.900076\n",
       "20.5   0.005263             0.897442\n",
       "21.0   0.005275             0.894809\n",
       "21.5   0.005288             0.892176\n",
       "22.0   0.005300             0.889542\n",
       "22.5   0.005313             0.886909\n",
       "23.0   0.005325             0.884275\n",
       "23.5   0.005338             0.881642\n",
       "24.0   0.005350             0.879008\n",
       "24.5   0.005363             0.876375\n",
       "25.0   0.005375             0.873741\n",
       "25.5   0.005387             0.871108\n",
       "26.0   0.005400             0.868474\n",
       "26.5   0.005412             0.865841\n",
       "27.0   0.005425             0.863207\n",
       "27.5   0.005437             0.860574\n",
       "28.0   0.005450             0.857941\n",
       "28.5   0.005462             0.855307\n",
       "29.0   0.005475             0.852674\n",
       "29.5   0.005487             0.850040\n",
       "30.0   0.005500             0.847407"
      ]
     },
     "execution_count": 10,
     "metadata": {},
     "output_type": "execute_result"
    }
   ],
   "source": [
    "OIS_Interpolated_Data"
   ]
  },
  {
   "cell_type": "code",
   "execution_count": null,
   "metadata": {},
   "outputs": [
    {
     "data": {
      "application/vnd.plotly.v1+json": {
       "config": {
        "plotlyServerURL": "https://plot.ly"
       },
       "data": [
        {
         "line": {
          "width": 2
         },
         "marker": {
          "size": 6
         },
         "mode": "lines+markers",
         "name": "Discount Curve",
         "type": "scatter",
         "x": [
          0.5,
          1,
          1.5,
          2,
          2.5,
          3,
          3.5,
          4,
          4.5,
          5,
          5.5,
          6,
          6.5,
          7,
          7.5,
          8,
          8.5,
          9,
          9.5,
          10,
          10.5,
          11,
          11.5,
          12,
          12.5,
          13,
          13.5,
          14,
          14.5,
          15,
          15.5,
          16,
          16.5,
          17,
          17.5,
          18,
          18.5,
          19,
          19.5,
          20,
          20.5,
          21,
          21.5,
          22,
          22.5,
          23,
          23.5,
          24,
          24.5,
          25,
          25.5,
          26,
          26.5,
          27,
          27.5,
          28,
          28.5,
          29,
          29.5,
          30
         ],
         "y": [
          0.9987515605493134,
          0.9970089730807579,
          0.9952698594970136,
          0.9935307459132694,
          0.9917729435657792,
          0.9900151412182888,
          0.9880658954667711,
          0.9861166497152534,
          0.9841503847242372,
          0.9821841197332211,
          0.9797395334484968,
          0.9772949471637727,
          0.9748503608790486,
          0.9724057745943244,
          0.9696676252496378,
          0.9669294759049513,
          0.9641913265602646,
          0.961453177215578,
          0.9587150278708915,
          0.9559768785262048,
          0.9531403386341173,
          0.9503037987420299,
          0.9474672588499424,
          0.9446307189578549,
          0.9417941790657673,
          0.9389576391736799,
          0.9361210992815925,
          0.9332845593895049,
          0.9304480194974174,
          0.92761147960533,
          0.9248579253489309,
          0.9221043710925318,
          0.9193508168361328,
          0.9165972625797337,
          0.9138437083233346,
          0.9110901540669356,
          0.9083365998105366,
          0.9055830455541375,
          0.9028294912977384,
          0.9000759370413394,
          0.8974424759760838,
          0.8948090149108282,
          0.8921755538455727,
          0.8895420927803172,
          0.8869086317150615,
          0.884275170649806,
          0.8816417095845505,
          0.8790082485192948,
          0.8763747874540393,
          0.8737413263887837,
          0.8711078653235281,
          0.8684744042582726,
          0.865840943193017,
          0.8632074821277614,
          0.8605740210625059,
          0.8579405599972503,
          0.8553070989319947,
          0.8526736378667392,
          0.8500401768014836,
          0.8474067157362281
         ]
        }
       ],
       "layout": {
        "template": {
         "data": {
          "bar": [
           {
            "error_x": {
             "color": "#2a3f5f"
            },
            "error_y": {
             "color": "#2a3f5f"
            },
            "marker": {
             "line": {
              "color": "white",
              "width": 0.5
             },
             "pattern": {
              "fillmode": "overlay",
              "size": 10,
              "solidity": 0.2
             }
            },
            "type": "bar"
           }
          ],
          "barpolar": [
           {
            "marker": {
             "line": {
              "color": "white",
              "width": 0.5
             },
             "pattern": {
              "fillmode": "overlay",
              "size": 10,
              "solidity": 0.2
             }
            },
            "type": "barpolar"
           }
          ],
          "carpet": [
           {
            "aaxis": {
             "endlinecolor": "#2a3f5f",
             "gridcolor": "#C8D4E3",
             "linecolor": "#C8D4E3",
             "minorgridcolor": "#C8D4E3",
             "startlinecolor": "#2a3f5f"
            },
            "baxis": {
             "endlinecolor": "#2a3f5f",
             "gridcolor": "#C8D4E3",
             "linecolor": "#C8D4E3",
             "minorgridcolor": "#C8D4E3",
             "startlinecolor": "#2a3f5f"
            },
            "type": "carpet"
           }
          ],
          "choropleth": [
           {
            "colorbar": {
             "outlinewidth": 0,
             "ticks": ""
            },
            "type": "choropleth"
           }
          ],
          "contour": [
           {
            "colorbar": {
             "outlinewidth": 0,
             "ticks": ""
            },
            "colorscale": [
             [
              0,
              "#0d0887"
             ],
             [
              0.1111111111111111,
              "#46039f"
             ],
             [
              0.2222222222222222,
              "#7201a8"
             ],
             [
              0.3333333333333333,
              "#9c179e"
             ],
             [
              0.4444444444444444,
              "#bd3786"
             ],
             [
              0.5555555555555556,
              "#d8576b"
             ],
             [
              0.6666666666666666,
              "#ed7953"
             ],
             [
              0.7777777777777778,
              "#fb9f3a"
             ],
             [
              0.8888888888888888,
              "#fdca26"
             ],
             [
              1,
              "#f0f921"
             ]
            ],
            "type": "contour"
           }
          ],
          "contourcarpet": [
           {
            "colorbar": {
             "outlinewidth": 0,
             "ticks": ""
            },
            "type": "contourcarpet"
           }
          ],
          "heatmap": [
           {
            "colorbar": {
             "outlinewidth": 0,
             "ticks": ""
            },
            "colorscale": [
             [
              0,
              "#0d0887"
             ],
             [
              0.1111111111111111,
              "#46039f"
             ],
             [
              0.2222222222222222,
              "#7201a8"
             ],
             [
              0.3333333333333333,
              "#9c179e"
             ],
             [
              0.4444444444444444,
              "#bd3786"
             ],
             [
              0.5555555555555556,
              "#d8576b"
             ],
             [
              0.6666666666666666,
              "#ed7953"
             ],
             [
              0.7777777777777778,
              "#fb9f3a"
             ],
             [
              0.8888888888888888,
              "#fdca26"
             ],
             [
              1,
              "#f0f921"
             ]
            ],
            "type": "heatmap"
           }
          ],
          "heatmapgl": [
           {
            "colorbar": {
             "outlinewidth": 0,
             "ticks": ""
            },
            "colorscale": [
             [
              0,
              "#0d0887"
             ],
             [
              0.1111111111111111,
              "#46039f"
             ],
             [
              0.2222222222222222,
              "#7201a8"
             ],
             [
              0.3333333333333333,
              "#9c179e"
             ],
             [
              0.4444444444444444,
              "#bd3786"
             ],
             [
              0.5555555555555556,
              "#d8576b"
             ],
             [
              0.6666666666666666,
              "#ed7953"
             ],
             [
              0.7777777777777778,
              "#fb9f3a"
             ],
             [
              0.8888888888888888,
              "#fdca26"
             ],
             [
              1,
              "#f0f921"
             ]
            ],
            "type": "heatmapgl"
           }
          ],
          "histogram": [
           {
            "marker": {
             "pattern": {
              "fillmode": "overlay",
              "size": 10,
              "solidity": 0.2
             }
            },
            "type": "histogram"
           }
          ],
          "histogram2d": [
           {
            "colorbar": {
             "outlinewidth": 0,
             "ticks": ""
            },
            "colorscale": [
             [
              0,
              "#0d0887"
             ],
             [
              0.1111111111111111,
              "#46039f"
             ],
             [
              0.2222222222222222,
              "#7201a8"
             ],
             [
              0.3333333333333333,
              "#9c179e"
             ],
             [
              0.4444444444444444,
              "#bd3786"
             ],
             [
              0.5555555555555556,
              "#d8576b"
             ],
             [
              0.6666666666666666,
              "#ed7953"
             ],
             [
              0.7777777777777778,
              "#fb9f3a"
             ],
             [
              0.8888888888888888,
              "#fdca26"
             ],
             [
              1,
              "#f0f921"
             ]
            ],
            "type": "histogram2d"
           }
          ],
          "histogram2dcontour": [
           {
            "colorbar": {
             "outlinewidth": 0,
             "ticks": ""
            },
            "colorscale": [
             [
              0,
              "#0d0887"
             ],
             [
              0.1111111111111111,
              "#46039f"
             ],
             [
              0.2222222222222222,
              "#7201a8"
             ],
             [
              0.3333333333333333,
              "#9c179e"
             ],
             [
              0.4444444444444444,
              "#bd3786"
             ],
             [
              0.5555555555555556,
              "#d8576b"
             ],
             [
              0.6666666666666666,
              "#ed7953"
             ],
             [
              0.7777777777777778,
              "#fb9f3a"
             ],
             [
              0.8888888888888888,
              "#fdca26"
             ],
             [
              1,
              "#f0f921"
             ]
            ],
            "type": "histogram2dcontour"
           }
          ],
          "mesh3d": [
           {
            "colorbar": {
             "outlinewidth": 0,
             "ticks": ""
            },
            "type": "mesh3d"
           }
          ],
          "parcoords": [
           {
            "line": {
             "colorbar": {
              "outlinewidth": 0,
              "ticks": ""
             }
            },
            "type": "parcoords"
           }
          ],
          "pie": [
           {
            "automargin": true,
            "type": "pie"
           }
          ],
          "scatter": [
           {
            "fillpattern": {
             "fillmode": "overlay",
             "size": 10,
             "solidity": 0.2
            },
            "type": "scatter"
           }
          ],
          "scatter3d": [
           {
            "line": {
             "colorbar": {
              "outlinewidth": 0,
              "ticks": ""
             }
            },
            "marker": {
             "colorbar": {
              "outlinewidth": 0,
              "ticks": ""
             }
            },
            "type": "scatter3d"
           }
          ],
          "scattercarpet": [
           {
            "marker": {
             "colorbar": {
              "outlinewidth": 0,
              "ticks": ""
             }
            },
            "type": "scattercarpet"
           }
          ],
          "scattergeo": [
           {
            "marker": {
             "colorbar": {
              "outlinewidth": 0,
              "ticks": ""
             }
            },
            "type": "scattergeo"
           }
          ],
          "scattergl": [
           {
            "marker": {
             "colorbar": {
              "outlinewidth": 0,
              "ticks": ""
             }
            },
            "type": "scattergl"
           }
          ],
          "scattermapbox": [
           {
            "marker": {
             "colorbar": {
              "outlinewidth": 0,
              "ticks": ""
             }
            },
            "type": "scattermapbox"
           }
          ],
          "scatterpolar": [
           {
            "marker": {
             "colorbar": {
              "outlinewidth": 0,
              "ticks": ""
             }
            },
            "type": "scatterpolar"
           }
          ],
          "scatterpolargl": [
           {
            "marker": {
             "colorbar": {
              "outlinewidth": 0,
              "ticks": ""
             }
            },
            "type": "scatterpolargl"
           }
          ],
          "scatterternary": [
           {
            "marker": {
             "colorbar": {
              "outlinewidth": 0,
              "ticks": ""
             }
            },
            "type": "scatterternary"
           }
          ],
          "surface": [
           {
            "colorbar": {
             "outlinewidth": 0,
             "ticks": ""
            },
            "colorscale": [
             [
              0,
              "#0d0887"
             ],
             [
              0.1111111111111111,
              "#46039f"
             ],
             [
              0.2222222222222222,
              "#7201a8"
             ],
             [
              0.3333333333333333,
              "#9c179e"
             ],
             [
              0.4444444444444444,
              "#bd3786"
             ],
             [
              0.5555555555555556,
              "#d8576b"
             ],
             [
              0.6666666666666666,
              "#ed7953"
             ],
             [
              0.7777777777777778,
              "#fb9f3a"
             ],
             [
              0.8888888888888888,
              "#fdca26"
             ],
             [
              1,
              "#f0f921"
             ]
            ],
            "type": "surface"
           }
          ],
          "table": [
           {
            "cells": {
             "fill": {
              "color": "#EBF0F8"
             },
             "line": {
              "color": "white"
             }
            },
            "header": {
             "fill": {
              "color": "#C8D4E3"
             },
             "line": {
              "color": "white"
             }
            },
            "type": "table"
           }
          ]
         },
         "layout": {
          "annotationdefaults": {
           "arrowcolor": "#2a3f5f",
           "arrowhead": 0,
           "arrowwidth": 1
          },
          "autotypenumbers": "strict",
          "coloraxis": {
           "colorbar": {
            "outlinewidth": 0,
            "ticks": ""
           }
          },
          "colorscale": {
           "diverging": [
            [
             0,
             "#8e0152"
            ],
            [
             0.1,
             "#c51b7d"
            ],
            [
             0.2,
             "#de77ae"
            ],
            [
             0.3,
             "#f1b6da"
            ],
            [
             0.4,
             "#fde0ef"
            ],
            [
             0.5,
             "#f7f7f7"
            ],
            [
             0.6,
             "#e6f5d0"
            ],
            [
             0.7,
             "#b8e186"
            ],
            [
             0.8,
             "#7fbc41"
            ],
            [
             0.9,
             "#4d9221"
            ],
            [
             1,
             "#276419"
            ]
           ],
           "sequential": [
            [
             0,
             "#0d0887"
            ],
            [
             0.1111111111111111,
             "#46039f"
            ],
            [
             0.2222222222222222,
             "#7201a8"
            ],
            [
             0.3333333333333333,
             "#9c179e"
            ],
            [
             0.4444444444444444,
             "#bd3786"
            ],
            [
             0.5555555555555556,
             "#d8576b"
            ],
            [
             0.6666666666666666,
             "#ed7953"
            ],
            [
             0.7777777777777778,
             "#fb9f3a"
            ],
            [
             0.8888888888888888,
             "#fdca26"
            ],
            [
             1,
             "#f0f921"
            ]
           ],
           "sequentialminus": [
            [
             0,
             "#0d0887"
            ],
            [
             0.1111111111111111,
             "#46039f"
            ],
            [
             0.2222222222222222,
             "#7201a8"
            ],
            [
             0.3333333333333333,
             "#9c179e"
            ],
            [
             0.4444444444444444,
             "#bd3786"
            ],
            [
             0.5555555555555556,
             "#d8576b"
            ],
            [
             0.6666666666666666,
             "#ed7953"
            ],
            [
             0.7777777777777778,
             "#fb9f3a"
            ],
            [
             0.8888888888888888,
             "#fdca26"
            ],
            [
             1,
             "#f0f921"
            ]
           ]
          },
          "colorway": [
           "#636efa",
           "#EF553B",
           "#00cc96",
           "#ab63fa",
           "#FFA15A",
           "#19d3f3",
           "#FF6692",
           "#B6E880",
           "#FF97FF",
           "#FECB52"
          ],
          "font": {
           "color": "#2a3f5f"
          },
          "geo": {
           "bgcolor": "white",
           "lakecolor": "white",
           "landcolor": "white",
           "showlakes": true,
           "showland": true,
           "subunitcolor": "#C8D4E3"
          },
          "hoverlabel": {
           "align": "left"
          },
          "hovermode": "closest",
          "mapbox": {
           "style": "light"
          },
          "paper_bgcolor": "white",
          "plot_bgcolor": "white",
          "polar": {
           "angularaxis": {
            "gridcolor": "#EBF0F8",
            "linecolor": "#EBF0F8",
            "ticks": ""
           },
           "bgcolor": "white",
           "radialaxis": {
            "gridcolor": "#EBF0F8",
            "linecolor": "#EBF0F8",
            "ticks": ""
           }
          },
          "scene": {
           "xaxis": {
            "backgroundcolor": "white",
            "gridcolor": "#DFE8F3",
            "gridwidth": 2,
            "linecolor": "#EBF0F8",
            "showbackground": true,
            "ticks": "",
            "zerolinecolor": "#EBF0F8"
           },
           "yaxis": {
            "backgroundcolor": "white",
            "gridcolor": "#DFE8F3",
            "gridwidth": 2,
            "linecolor": "#EBF0F8",
            "showbackground": true,
            "ticks": "",
            "zerolinecolor": "#EBF0F8"
           },
           "zaxis": {
            "backgroundcolor": "white",
            "gridcolor": "#DFE8F3",
            "gridwidth": 2,
            "linecolor": "#EBF0F8",
            "showbackground": true,
            "ticks": "",
            "zerolinecolor": "#EBF0F8"
           }
          },
          "shapedefaults": {
           "line": {
            "color": "#2a3f5f"
           }
          },
          "ternary": {
           "aaxis": {
            "gridcolor": "#DFE8F3",
            "linecolor": "#A2B1C6",
            "ticks": ""
           },
           "baxis": {
            "gridcolor": "#DFE8F3",
            "linecolor": "#A2B1C6",
            "ticks": ""
           },
           "bgcolor": "white",
           "caxis": {
            "gridcolor": "#DFE8F3",
            "linecolor": "#A2B1C6",
            "ticks": ""
           }
          },
          "title": {
           "x": 0.05
          },
          "xaxis": {
           "automargin": true,
           "gridcolor": "#EBF0F8",
           "linecolor": "#EBF0F8",
           "ticks": "",
           "title": {
            "standoff": 15
           },
           "zerolinecolor": "#EBF0F8",
           "zerolinewidth": 2
          },
          "yaxis": {
           "automargin": true,
           "gridcolor": "#EBF0F8",
           "linecolor": "#EBF0F8",
           "ticks": "",
           "title": {
            "standoff": 15
           },
           "zerolinecolor": "#EBF0F8",
           "zerolinewidth": 2
          }
         }
        },
        "title": {
         "text": "OIS Discount Curve"
        },
        "xaxis": {
         "showgrid": true,
         "title": {
          "text": "Tenor (years)"
         }
        },
        "yaxis": {
         "showgrid": true,
         "title": {
          "text": "Discount Factor"
         }
        }
       }
      }
     },
     "metadata": {},
     "output_type": "display_data"
    }
   ],
   "source": [
    "plot_discount_curve(df=OIS_Interpolated_Data,\n",
    "                    discount_curve=\"OIS_Discount_Factor\",\n",
    "                    title=\"OIS Discount Curve\")"
   ]
  },
  {
   "cell_type": "markdown",
   "metadata": {},
   "source": [
    "# <a id = \"p3\">3.</a>  <font color = \"green\"> Bootstrap the LIBOR discount factor </font>  [back to table of contents](#top)"
   ]
  },
  {
   "cell_type": "code",
   "execution_count": null,
   "metadata": {},
   "outputs": [
    {
     "data": {
      "text/html": [
       "<div>\n",
       "<style scoped>\n",
       "    .dataframe tbody tr th:only-of-type {\n",
       "        vertical-align: middle;\n",
       "    }\n",
       "\n",
       "    .dataframe tbody tr th {\n",
       "        vertical-align: top;\n",
       "    }\n",
       "\n",
       "    .dataframe thead th {\n",
       "        text-align: right;\n",
       "    }\n",
       "</style>\n",
       "<table border=\"1\" class=\"dataframe\">\n",
       "  <thead>\n",
       "    <tr style=\"text-align: right;\">\n",
       "      <th></th>\n",
       "      <th>Tenor</th>\n",
       "      <th>Product</th>\n",
       "      <th>Rate</th>\n",
       "    </tr>\n",
       "  </thead>\n",
       "  <tbody>\n",
       "    <tr>\n",
       "      <th>0</th>\n",
       "      <td>6m</td>\n",
       "      <td>LIBOR</td>\n",
       "      <td>0.0250</td>\n",
       "    </tr>\n",
       "    <tr>\n",
       "      <th>1</th>\n",
       "      <td>1y</td>\n",
       "      <td>IRS</td>\n",
       "      <td>0.0280</td>\n",
       "    </tr>\n",
       "    <tr>\n",
       "      <th>2</th>\n",
       "      <td>2y</td>\n",
       "      <td>IRS</td>\n",
       "      <td>0.0300</td>\n",
       "    </tr>\n",
       "    <tr>\n",
       "      <th>3</th>\n",
       "      <td>3y</td>\n",
       "      <td>IRS</td>\n",
       "      <td>0.0315</td>\n",
       "    </tr>\n",
       "    <tr>\n",
       "      <th>4</th>\n",
       "      <td>4y</td>\n",
       "      <td>IRS</td>\n",
       "      <td>0.0325</td>\n",
       "    </tr>\n",
       "    <tr>\n",
       "      <th>5</th>\n",
       "      <td>5y</td>\n",
       "      <td>IRS</td>\n",
       "      <td>0.0330</td>\n",
       "    </tr>\n",
       "    <tr>\n",
       "      <th>6</th>\n",
       "      <td>7y</td>\n",
       "      <td>IRS</td>\n",
       "      <td>0.0350</td>\n",
       "    </tr>\n",
       "    <tr>\n",
       "      <th>7</th>\n",
       "      <td>10y</td>\n",
       "      <td>IRS</td>\n",
       "      <td>0.0370</td>\n",
       "    </tr>\n",
       "    <tr>\n",
       "      <th>8</th>\n",
       "      <td>15y</td>\n",
       "      <td>IRS</td>\n",
       "      <td>0.0400</td>\n",
       "    </tr>\n",
       "    <tr>\n",
       "      <th>9</th>\n",
       "      <td>20y</td>\n",
       "      <td>IRS</td>\n",
       "      <td>0.0450</td>\n",
       "    </tr>\n",
       "    <tr>\n",
       "      <th>10</th>\n",
       "      <td>30y</td>\n",
       "      <td>IRS</td>\n",
       "      <td>0.0500</td>\n",
       "    </tr>\n",
       "  </tbody>\n",
       "</table>\n",
       "</div>"
      ],
      "text/plain": [
       "   Tenor Product    Rate\n",
       "0     6m   LIBOR  0.0250\n",
       "1     1y     IRS  0.0280\n",
       "2     2y     IRS  0.0300\n",
       "3     3y     IRS  0.0315\n",
       "4     4y     IRS  0.0325\n",
       "5     5y     IRS  0.0330\n",
       "6     7y     IRS  0.0350\n",
       "7    10y     IRS  0.0370\n",
       "8    15y     IRS  0.0400\n",
       "9    20y     IRS  0.0450\n",
       "10   30y     IRS  0.0500"
      ]
     },
     "execution_count": 12,
     "metadata": {},
     "output_type": "execute_result"
    }
   ],
   "source": [
    "IRS_data = pd.read_excel(\"IR Data.xlsx\",\n",
    "                        sheet_name=\"IRS\",\n",
    "                        usecols=\"A:C\")\n",
    "IRS_data"
   ]
  },
  {
   "cell_type": "code",
   "execution_count": null,
   "metadata": {},
   "outputs": [
    {
     "data": {
      "text/html": [
       "<div>\n",
       "<style scoped>\n",
       "    .dataframe tbody tr th:only-of-type {\n",
       "        vertical-align: middle;\n",
       "    }\n",
       "\n",
       "    .dataframe tbody tr th {\n",
       "        vertical-align: top;\n",
       "    }\n",
       "\n",
       "    .dataframe thead th {\n",
       "        text-align: right;\n",
       "    }\n",
       "</style>\n",
       "<table border=\"1\" class=\"dataframe\">\n",
       "  <thead>\n",
       "    <tr style=\"text-align: right;\">\n",
       "      <th></th>\n",
       "      <th>Tenor</th>\n",
       "      <th>Product</th>\n",
       "      <th>Rate</th>\n",
       "      <th>Days</th>\n",
       "      <th>Years</th>\n",
       "    </tr>\n",
       "  </thead>\n",
       "  <tbody>\n",
       "    <tr>\n",
       "      <th>0</th>\n",
       "      <td>6m</td>\n",
       "      <td>LIBOR</td>\n",
       "      <td>0.0250</td>\n",
       "      <td>180.0</td>\n",
       "      <td>0.5</td>\n",
       "    </tr>\n",
       "    <tr>\n",
       "      <th>1</th>\n",
       "      <td>1y</td>\n",
       "      <td>IRS</td>\n",
       "      <td>0.0280</td>\n",
       "      <td>360.0</td>\n",
       "      <td>1.0</td>\n",
       "    </tr>\n",
       "    <tr>\n",
       "      <th>2</th>\n",
       "      <td>2y</td>\n",
       "      <td>IRS</td>\n",
       "      <td>0.0300</td>\n",
       "      <td>720.0</td>\n",
       "      <td>2.0</td>\n",
       "    </tr>\n",
       "    <tr>\n",
       "      <th>3</th>\n",
       "      <td>3y</td>\n",
       "      <td>IRS</td>\n",
       "      <td>0.0315</td>\n",
       "      <td>1080.0</td>\n",
       "      <td>3.0</td>\n",
       "    </tr>\n",
       "    <tr>\n",
       "      <th>4</th>\n",
       "      <td>4y</td>\n",
       "      <td>IRS</td>\n",
       "      <td>0.0325</td>\n",
       "      <td>1440.0</td>\n",
       "      <td>4.0</td>\n",
       "    </tr>\n",
       "    <tr>\n",
       "      <th>5</th>\n",
       "      <td>5y</td>\n",
       "      <td>IRS</td>\n",
       "      <td>0.0330</td>\n",
       "      <td>1800.0</td>\n",
       "      <td>5.0</td>\n",
       "    </tr>\n",
       "    <tr>\n",
       "      <th>6</th>\n",
       "      <td>7y</td>\n",
       "      <td>IRS</td>\n",
       "      <td>0.0350</td>\n",
       "      <td>2520.0</td>\n",
       "      <td>7.0</td>\n",
       "    </tr>\n",
       "    <tr>\n",
       "      <th>7</th>\n",
       "      <td>10y</td>\n",
       "      <td>IRS</td>\n",
       "      <td>0.0370</td>\n",
       "      <td>3600.0</td>\n",
       "      <td>10.0</td>\n",
       "    </tr>\n",
       "    <tr>\n",
       "      <th>8</th>\n",
       "      <td>15y</td>\n",
       "      <td>IRS</td>\n",
       "      <td>0.0400</td>\n",
       "      <td>5400.0</td>\n",
       "      <td>15.0</td>\n",
       "    </tr>\n",
       "    <tr>\n",
       "      <th>9</th>\n",
       "      <td>20y</td>\n",
       "      <td>IRS</td>\n",
       "      <td>0.0450</td>\n",
       "      <td>7200.0</td>\n",
       "      <td>20.0</td>\n",
       "    </tr>\n",
       "    <tr>\n",
       "      <th>10</th>\n",
       "      <td>30y</td>\n",
       "      <td>IRS</td>\n",
       "      <td>0.0500</td>\n",
       "      <td>10800.0</td>\n",
       "      <td>30.0</td>\n",
       "    </tr>\n",
       "  </tbody>\n",
       "</table>\n",
       "</div>"
      ],
      "text/plain": [
       "   Tenor Product    Rate     Days  Years\n",
       "0     6m   LIBOR  0.0250    180.0    0.5\n",
       "1     1y     IRS  0.0280    360.0    1.0\n",
       "2     2y     IRS  0.0300    720.0    2.0\n",
       "3     3y     IRS  0.0315   1080.0    3.0\n",
       "4     4y     IRS  0.0325   1440.0    4.0\n",
       "5     5y     IRS  0.0330   1800.0    5.0\n",
       "6     7y     IRS  0.0350   2520.0    7.0\n",
       "7    10y     IRS  0.0370   3600.0   10.0\n",
       "8    15y     IRS  0.0400   5400.0   15.0\n",
       "9    20y     IRS  0.0450   7200.0   20.0\n",
       "10   30y     IRS  0.0500  10800.0   30.0"
      ]
     },
     "execution_count": 13,
     "metadata": {},
     "output_type": "execute_result"
    }
   ],
   "source": [
    "get_days_years(IRS_data)"
   ]
  },
  {
   "cell_type": "code",
   "execution_count": null,
   "metadata": {},
   "outputs": [],
   "source": [
    "IRS_Interpolated_Data = IRS_data[['Years', 'Rate']].copy()\n",
    "\n",
    "# Generate the full sequence\n",
    "full_sequence = np.arange(0.5, 30.5, 0.5)\n",
    "\n",
    "# Convert 'years' column of your DataFrame to a list\n",
    "existing_years = IRS_Interpolated_Data['Years'].tolist()\n",
    "\n",
    "# Remove the existing years from the full sequence\n",
    "new_years = [years for years in full_sequence if years not in existing_years]\n",
    "\n",
    "# Create a dummy dataframe of the new_years along with nan for their rates\n",
    "new_years = pd.DataFrame({\n",
    "    'Years': new_years,\n",
    "    'Rate': [np.nan]*len(new_years),\n",
    "})\n",
    "\n",
    "# Concat the new_years dataframe with the existing dataframe with rates data\n",
    "IRS_Interpolated_Data = pd.concat([new_years, IRS_Interpolated_Data])\n",
    "\n",
    "# Sort by ascending years\n",
    "IRS_Interpolated_Data = IRS_Interpolated_Data.sort_values(by='Years')\n",
    "\n",
    "# Set index for plotting\n",
    "IRS_Interpolated_Data.set_index(\"Years\",inplace=True)"
   ]
  },
  {
   "cell_type": "code",
   "execution_count": null,
   "metadata": {},
   "outputs": [
    {
     "data": {
      "text/html": [
       "<div>\n",
       "<style scoped>\n",
       "    .dataframe tbody tr th:only-of-type {\n",
       "        vertical-align: middle;\n",
       "    }\n",
       "\n",
       "    .dataframe tbody tr th {\n",
       "        vertical-align: top;\n",
       "    }\n",
       "\n",
       "    .dataframe thead th {\n",
       "        text-align: right;\n",
       "    }\n",
       "</style>\n",
       "<table border=\"1\" class=\"dataframe\">\n",
       "  <thead>\n",
       "    <tr style=\"text-align: right;\">\n",
       "      <th></th>\n",
       "      <th>Years</th>\n",
       "      <th>Rate</th>\n",
       "      <th>OIS_Discount_Factor</th>\n",
       "      <th>IRS_Discount_Factor</th>\n",
       "    </tr>\n",
       "  </thead>\n",
       "  <tbody>\n",
       "    <tr>\n",
       "      <th>0</th>\n",
       "      <td>0.5</td>\n",
       "      <td>0.0250</td>\n",
       "      <td>0.998752</td>\n",
       "      <td>NaN</td>\n",
       "    </tr>\n",
       "    <tr>\n",
       "      <th>1</th>\n",
       "      <td>1.0</td>\n",
       "      <td>0.0280</td>\n",
       "      <td>0.997009</td>\n",
       "      <td>NaN</td>\n",
       "    </tr>\n",
       "    <tr>\n",
       "      <th>2</th>\n",
       "      <td>1.5</td>\n",
       "      <td>NaN</td>\n",
       "      <td>0.995270</td>\n",
       "      <td>NaN</td>\n",
       "    </tr>\n",
       "    <tr>\n",
       "      <th>3</th>\n",
       "      <td>2.0</td>\n",
       "      <td>0.0300</td>\n",
       "      <td>0.993531</td>\n",
       "      <td>NaN</td>\n",
       "    </tr>\n",
       "    <tr>\n",
       "      <th>4</th>\n",
       "      <td>2.5</td>\n",
       "      <td>NaN</td>\n",
       "      <td>0.991773</td>\n",
       "      <td>NaN</td>\n",
       "    </tr>\n",
       "    <tr>\n",
       "      <th>5</th>\n",
       "      <td>3.0</td>\n",
       "      <td>0.0315</td>\n",
       "      <td>0.990015</td>\n",
       "      <td>NaN</td>\n",
       "    </tr>\n",
       "    <tr>\n",
       "      <th>6</th>\n",
       "      <td>3.5</td>\n",
       "      <td>NaN</td>\n",
       "      <td>0.988066</td>\n",
       "      <td>NaN</td>\n",
       "    </tr>\n",
       "    <tr>\n",
       "      <th>7</th>\n",
       "      <td>4.0</td>\n",
       "      <td>0.0325</td>\n",
       "      <td>0.986117</td>\n",
       "      <td>NaN</td>\n",
       "    </tr>\n",
       "    <tr>\n",
       "      <th>8</th>\n",
       "      <td>4.5</td>\n",
       "      <td>NaN</td>\n",
       "      <td>0.984150</td>\n",
       "      <td>NaN</td>\n",
       "    </tr>\n",
       "    <tr>\n",
       "      <th>9</th>\n",
       "      <td>5.0</td>\n",
       "      <td>0.0330</td>\n",
       "      <td>0.982184</td>\n",
       "      <td>NaN</td>\n",
       "    </tr>\n",
       "    <tr>\n",
       "      <th>10</th>\n",
       "      <td>5.5</td>\n",
       "      <td>NaN</td>\n",
       "      <td>0.979740</td>\n",
       "      <td>NaN</td>\n",
       "    </tr>\n",
       "    <tr>\n",
       "      <th>11</th>\n",
       "      <td>6.0</td>\n",
       "      <td>NaN</td>\n",
       "      <td>0.977295</td>\n",
       "      <td>NaN</td>\n",
       "    </tr>\n",
       "    <tr>\n",
       "      <th>12</th>\n",
       "      <td>6.5</td>\n",
       "      <td>NaN</td>\n",
       "      <td>0.974850</td>\n",
       "      <td>NaN</td>\n",
       "    </tr>\n",
       "    <tr>\n",
       "      <th>13</th>\n",
       "      <td>7.0</td>\n",
       "      <td>0.0350</td>\n",
       "      <td>0.972406</td>\n",
       "      <td>NaN</td>\n",
       "    </tr>\n",
       "    <tr>\n",
       "      <th>14</th>\n",
       "      <td>7.5</td>\n",
       "      <td>NaN</td>\n",
       "      <td>0.969668</td>\n",
       "      <td>NaN</td>\n",
       "    </tr>\n",
       "    <tr>\n",
       "      <th>15</th>\n",
       "      <td>8.0</td>\n",
       "      <td>NaN</td>\n",
       "      <td>0.966929</td>\n",
       "      <td>NaN</td>\n",
       "    </tr>\n",
       "    <tr>\n",
       "      <th>16</th>\n",
       "      <td>8.5</td>\n",
       "      <td>NaN</td>\n",
       "      <td>0.964191</td>\n",
       "      <td>NaN</td>\n",
       "    </tr>\n",
       "    <tr>\n",
       "      <th>17</th>\n",
       "      <td>9.0</td>\n",
       "      <td>NaN</td>\n",
       "      <td>0.961453</td>\n",
       "      <td>NaN</td>\n",
       "    </tr>\n",
       "    <tr>\n",
       "      <th>18</th>\n",
       "      <td>9.5</td>\n",
       "      <td>NaN</td>\n",
       "      <td>0.958715</td>\n",
       "      <td>NaN</td>\n",
       "    </tr>\n",
       "    <tr>\n",
       "      <th>19</th>\n",
       "      <td>10.0</td>\n",
       "      <td>0.0370</td>\n",
       "      <td>0.955977</td>\n",
       "      <td>NaN</td>\n",
       "    </tr>\n",
       "    <tr>\n",
       "      <th>20</th>\n",
       "      <td>10.5</td>\n",
       "      <td>NaN</td>\n",
       "      <td>0.953140</td>\n",
       "      <td>NaN</td>\n",
       "    </tr>\n",
       "    <tr>\n",
       "      <th>21</th>\n",
       "      <td>11.0</td>\n",
       "      <td>NaN</td>\n",
       "      <td>0.950304</td>\n",
       "      <td>NaN</td>\n",
       "    </tr>\n",
       "    <tr>\n",
       "      <th>22</th>\n",
       "      <td>11.5</td>\n",
       "      <td>NaN</td>\n",
       "      <td>0.947467</td>\n",
       "      <td>NaN</td>\n",
       "    </tr>\n",
       "    <tr>\n",
       "      <th>23</th>\n",
       "      <td>12.0</td>\n",
       "      <td>NaN</td>\n",
       "      <td>0.944631</td>\n",
       "      <td>NaN</td>\n",
       "    </tr>\n",
       "    <tr>\n",
       "      <th>24</th>\n",
       "      <td>12.5</td>\n",
       "      <td>NaN</td>\n",
       "      <td>0.941794</td>\n",
       "      <td>NaN</td>\n",
       "    </tr>\n",
       "    <tr>\n",
       "      <th>25</th>\n",
       "      <td>13.0</td>\n",
       "      <td>NaN</td>\n",
       "      <td>0.938958</td>\n",
       "      <td>NaN</td>\n",
       "    </tr>\n",
       "    <tr>\n",
       "      <th>26</th>\n",
       "      <td>13.5</td>\n",
       "      <td>NaN</td>\n",
       "      <td>0.936121</td>\n",
       "      <td>NaN</td>\n",
       "    </tr>\n",
       "    <tr>\n",
       "      <th>27</th>\n",
       "      <td>14.0</td>\n",
       "      <td>NaN</td>\n",
       "      <td>0.933285</td>\n",
       "      <td>NaN</td>\n",
       "    </tr>\n",
       "    <tr>\n",
       "      <th>28</th>\n",
       "      <td>14.5</td>\n",
       "      <td>NaN</td>\n",
       "      <td>0.930448</td>\n",
       "      <td>NaN</td>\n",
       "    </tr>\n",
       "    <tr>\n",
       "      <th>29</th>\n",
       "      <td>15.0</td>\n",
       "      <td>0.0400</td>\n",
       "      <td>0.927611</td>\n",
       "      <td>NaN</td>\n",
       "    </tr>\n",
       "    <tr>\n",
       "      <th>30</th>\n",
       "      <td>15.5</td>\n",
       "      <td>NaN</td>\n",
       "      <td>0.924858</td>\n",
       "      <td>NaN</td>\n",
       "    </tr>\n",
       "    <tr>\n",
       "      <th>31</th>\n",
       "      <td>16.0</td>\n",
       "      <td>NaN</td>\n",
       "      <td>0.922104</td>\n",
       "      <td>NaN</td>\n",
       "    </tr>\n",
       "    <tr>\n",
       "      <th>32</th>\n",
       "      <td>16.5</td>\n",
       "      <td>NaN</td>\n",
       "      <td>0.919351</td>\n",
       "      <td>NaN</td>\n",
       "    </tr>\n",
       "    <tr>\n",
       "      <th>33</th>\n",
       "      <td>17.0</td>\n",
       "      <td>NaN</td>\n",
       "      <td>0.916597</td>\n",
       "      <td>NaN</td>\n",
       "    </tr>\n",
       "    <tr>\n",
       "      <th>34</th>\n",
       "      <td>17.5</td>\n",
       "      <td>NaN</td>\n",
       "      <td>0.913844</td>\n",
       "      <td>NaN</td>\n",
       "    </tr>\n",
       "    <tr>\n",
       "      <th>35</th>\n",
       "      <td>18.0</td>\n",
       "      <td>NaN</td>\n",
       "      <td>0.911090</td>\n",
       "      <td>NaN</td>\n",
       "    </tr>\n",
       "    <tr>\n",
       "      <th>36</th>\n",
       "      <td>18.5</td>\n",
       "      <td>NaN</td>\n",
       "      <td>0.908337</td>\n",
       "      <td>NaN</td>\n",
       "    </tr>\n",
       "    <tr>\n",
       "      <th>37</th>\n",
       "      <td>19.0</td>\n",
       "      <td>NaN</td>\n",
       "      <td>0.905583</td>\n",
       "      <td>NaN</td>\n",
       "    </tr>\n",
       "    <tr>\n",
       "      <th>38</th>\n",
       "      <td>19.5</td>\n",
       "      <td>NaN</td>\n",
       "      <td>0.902829</td>\n",
       "      <td>NaN</td>\n",
       "    </tr>\n",
       "    <tr>\n",
       "      <th>39</th>\n",
       "      <td>20.0</td>\n",
       "      <td>0.0450</td>\n",
       "      <td>0.900076</td>\n",
       "      <td>NaN</td>\n",
       "    </tr>\n",
       "    <tr>\n",
       "      <th>40</th>\n",
       "      <td>20.5</td>\n",
       "      <td>NaN</td>\n",
       "      <td>0.897442</td>\n",
       "      <td>NaN</td>\n",
       "    </tr>\n",
       "    <tr>\n",
       "      <th>41</th>\n",
       "      <td>21.0</td>\n",
       "      <td>NaN</td>\n",
       "      <td>0.894809</td>\n",
       "      <td>NaN</td>\n",
       "    </tr>\n",
       "    <tr>\n",
       "      <th>42</th>\n",
       "      <td>21.5</td>\n",
       "      <td>NaN</td>\n",
       "      <td>0.892176</td>\n",
       "      <td>NaN</td>\n",
       "    </tr>\n",
       "    <tr>\n",
       "      <th>43</th>\n",
       "      <td>22.0</td>\n",
       "      <td>NaN</td>\n",
       "      <td>0.889542</td>\n",
       "      <td>NaN</td>\n",
       "    </tr>\n",
       "    <tr>\n",
       "      <th>44</th>\n",
       "      <td>22.5</td>\n",
       "      <td>NaN</td>\n",
       "      <td>0.886909</td>\n",
       "      <td>NaN</td>\n",
       "    </tr>\n",
       "    <tr>\n",
       "      <th>45</th>\n",
       "      <td>23.0</td>\n",
       "      <td>NaN</td>\n",
       "      <td>0.884275</td>\n",
       "      <td>NaN</td>\n",
       "    </tr>\n",
       "    <tr>\n",
       "      <th>46</th>\n",
       "      <td>23.5</td>\n",
       "      <td>NaN</td>\n",
       "      <td>0.881642</td>\n",
       "      <td>NaN</td>\n",
       "    </tr>\n",
       "    <tr>\n",
       "      <th>47</th>\n",
       "      <td>24.0</td>\n",
       "      <td>NaN</td>\n",
       "      <td>0.879008</td>\n",
       "      <td>NaN</td>\n",
       "    </tr>\n",
       "    <tr>\n",
       "      <th>48</th>\n",
       "      <td>24.5</td>\n",
       "      <td>NaN</td>\n",
       "      <td>0.876375</td>\n",
       "      <td>NaN</td>\n",
       "    </tr>\n",
       "    <tr>\n",
       "      <th>49</th>\n",
       "      <td>25.0</td>\n",
       "      <td>NaN</td>\n",
       "      <td>0.873741</td>\n",
       "      <td>NaN</td>\n",
       "    </tr>\n",
       "    <tr>\n",
       "      <th>50</th>\n",
       "      <td>25.5</td>\n",
       "      <td>NaN</td>\n",
       "      <td>0.871108</td>\n",
       "      <td>NaN</td>\n",
       "    </tr>\n",
       "    <tr>\n",
       "      <th>51</th>\n",
       "      <td>26.0</td>\n",
       "      <td>NaN</td>\n",
       "      <td>0.868474</td>\n",
       "      <td>NaN</td>\n",
       "    </tr>\n",
       "    <tr>\n",
       "      <th>52</th>\n",
       "      <td>26.5</td>\n",
       "      <td>NaN</td>\n",
       "      <td>0.865841</td>\n",
       "      <td>NaN</td>\n",
       "    </tr>\n",
       "    <tr>\n",
       "      <th>53</th>\n",
       "      <td>27.0</td>\n",
       "      <td>NaN</td>\n",
       "      <td>0.863207</td>\n",
       "      <td>NaN</td>\n",
       "    </tr>\n",
       "    <tr>\n",
       "      <th>54</th>\n",
       "      <td>27.5</td>\n",
       "      <td>NaN</td>\n",
       "      <td>0.860574</td>\n",
       "      <td>NaN</td>\n",
       "    </tr>\n",
       "    <tr>\n",
       "      <th>55</th>\n",
       "      <td>28.0</td>\n",
       "      <td>NaN</td>\n",
       "      <td>0.857941</td>\n",
       "      <td>NaN</td>\n",
       "    </tr>\n",
       "    <tr>\n",
       "      <th>56</th>\n",
       "      <td>28.5</td>\n",
       "      <td>NaN</td>\n",
       "      <td>0.855307</td>\n",
       "      <td>NaN</td>\n",
       "    </tr>\n",
       "    <tr>\n",
       "      <th>57</th>\n",
       "      <td>29.0</td>\n",
       "      <td>NaN</td>\n",
       "      <td>0.852674</td>\n",
       "      <td>NaN</td>\n",
       "    </tr>\n",
       "    <tr>\n",
       "      <th>58</th>\n",
       "      <td>29.5</td>\n",
       "      <td>NaN</td>\n",
       "      <td>0.850040</td>\n",
       "      <td>NaN</td>\n",
       "    </tr>\n",
       "    <tr>\n",
       "      <th>59</th>\n",
       "      <td>30.0</td>\n",
       "      <td>0.0500</td>\n",
       "      <td>0.847407</td>\n",
       "      <td>NaN</td>\n",
       "    </tr>\n",
       "  </tbody>\n",
       "</table>\n",
       "</div>"
      ],
      "text/plain": [
       "    Years    Rate  OIS_Discount_Factor  IRS_Discount_Factor\n",
       "0     0.5  0.0250             0.998752                  NaN\n",
       "1     1.0  0.0280             0.997009                  NaN\n",
       "2     1.5     NaN             0.995270                  NaN\n",
       "3     2.0  0.0300             0.993531                  NaN\n",
       "4     2.5     NaN             0.991773                  NaN\n",
       "5     3.0  0.0315             0.990015                  NaN\n",
       "6     3.5     NaN             0.988066                  NaN\n",
       "7     4.0  0.0325             0.986117                  NaN\n",
       "8     4.5     NaN             0.984150                  NaN\n",
       "9     5.0  0.0330             0.982184                  NaN\n",
       "10    5.5     NaN             0.979740                  NaN\n",
       "11    6.0     NaN             0.977295                  NaN\n",
       "12    6.5     NaN             0.974850                  NaN\n",
       "13    7.0  0.0350             0.972406                  NaN\n",
       "14    7.5     NaN             0.969668                  NaN\n",
       "15    8.0     NaN             0.966929                  NaN\n",
       "16    8.5     NaN             0.964191                  NaN\n",
       "17    9.0     NaN             0.961453                  NaN\n",
       "18    9.5     NaN             0.958715                  NaN\n",
       "19   10.0  0.0370             0.955977                  NaN\n",
       "20   10.5     NaN             0.953140                  NaN\n",
       "21   11.0     NaN             0.950304                  NaN\n",
       "22   11.5     NaN             0.947467                  NaN\n",
       "23   12.0     NaN             0.944631                  NaN\n",
       "24   12.5     NaN             0.941794                  NaN\n",
       "25   13.0     NaN             0.938958                  NaN\n",
       "26   13.5     NaN             0.936121                  NaN\n",
       "27   14.0     NaN             0.933285                  NaN\n",
       "28   14.5     NaN             0.930448                  NaN\n",
       "29   15.0  0.0400             0.927611                  NaN\n",
       "30   15.5     NaN             0.924858                  NaN\n",
       "31   16.0     NaN             0.922104                  NaN\n",
       "32   16.5     NaN             0.919351                  NaN\n",
       "33   17.0     NaN             0.916597                  NaN\n",
       "34   17.5     NaN             0.913844                  NaN\n",
       "35   18.0     NaN             0.911090                  NaN\n",
       "36   18.5     NaN             0.908337                  NaN\n",
       "37   19.0     NaN             0.905583                  NaN\n",
       "38   19.5     NaN             0.902829                  NaN\n",
       "39   20.0  0.0450             0.900076                  NaN\n",
       "40   20.5     NaN             0.897442                  NaN\n",
       "41   21.0     NaN             0.894809                  NaN\n",
       "42   21.5     NaN             0.892176                  NaN\n",
       "43   22.0     NaN             0.889542                  NaN\n",
       "44   22.5     NaN             0.886909                  NaN\n",
       "45   23.0     NaN             0.884275                  NaN\n",
       "46   23.5     NaN             0.881642                  NaN\n",
       "47   24.0     NaN             0.879008                  NaN\n",
       "48   24.5     NaN             0.876375                  NaN\n",
       "49   25.0     NaN             0.873741                  NaN\n",
       "50   25.5     NaN             0.871108                  NaN\n",
       "51   26.0     NaN             0.868474                  NaN\n",
       "52   26.5     NaN             0.865841                  NaN\n",
       "53   27.0     NaN             0.863207                  NaN\n",
       "54   27.5     NaN             0.860574                  NaN\n",
       "55   28.0     NaN             0.857941                  NaN\n",
       "56   28.5     NaN             0.855307                  NaN\n",
       "57   29.0     NaN             0.852674                  NaN\n",
       "58   29.5     NaN             0.850040                  NaN\n",
       "59   30.0  0.0500             0.847407                  NaN"
      ]
     },
     "execution_count": 15,
     "metadata": {},
     "output_type": "execute_result"
    }
   ],
   "source": [
    "# Copy the OIS discount factors into the IRS data, as it is collateralized in cash and overnight interest is paid on collateral\n",
    "IRS_Interpolated_Data['OIS_Discount_Factor'] = OIS_Interpolated_Data['OIS_Discount_Factor']\n",
    "IRS_Interpolated_Data['IRS_Discount_Factor'] = np.nan\n",
    "IRS_Interpolated_Data = IRS_Interpolated_Data.reset_index(names=\"Years\")\n",
    "IRS_Interpolated_Data"
   ]
  },
  {
   "cell_type": "code",
   "execution_count": null,
   "metadata": {},
   "outputs": [
    {
     "data": {
      "text/plain": [
       "Index([0, 1, 3, 5, 7, 9, 13, 19, 29, 39, 59], dtype='int64')"
      ]
     },
     "execution_count": 16,
     "metadata": {},
     "output_type": "execute_result"
    }
   ],
   "source": [
    "# Get the index of the rows that have valid swap rates\n",
    "index = IRS_Interpolated_Data[pd.notna(IRS_Interpolated_Data['Rate'])].index\n",
    "index"
   ]
  },
  {
   "cell_type": "code",
   "execution_count": null,
   "metadata": {},
   "outputs": [
    {
     "data": {
      "text/html": [
       "<div>\n",
       "<style scoped>\n",
       "    .dataframe tbody tr th:only-of-type {\n",
       "        vertical-align: middle;\n",
       "    }\n",
       "\n",
       "    .dataframe tbody tr th {\n",
       "        vertical-align: top;\n",
       "    }\n",
       "\n",
       "    .dataframe thead th {\n",
       "        text-align: right;\n",
       "    }\n",
       "</style>\n",
       "<table border=\"1\" class=\"dataframe\">\n",
       "  <thead>\n",
       "    <tr style=\"text-align: right;\">\n",
       "      <th></th>\n",
       "      <th>Rate</th>\n",
       "      <th>OIS_Discount_Factor</th>\n",
       "      <th>IRS_Discount_Factor</th>\n",
       "    </tr>\n",
       "    <tr>\n",
       "      <th>Years</th>\n",
       "      <th></th>\n",
       "      <th></th>\n",
       "      <th></th>\n",
       "    </tr>\n",
       "  </thead>\n",
       "  <tbody>\n",
       "    <tr>\n",
       "      <th>0.5</th>\n",
       "      <td>0.025000</td>\n",
       "      <td>0.998752</td>\n",
       "      <td>0.987654</td>\n",
       "    </tr>\n",
       "    <tr>\n",
       "      <th>1.0</th>\n",
       "      <td>0.028000</td>\n",
       "      <td>0.997009</td>\n",
       "      <td>0.972577</td>\n",
       "    </tr>\n",
       "    <tr>\n",
       "      <th>1.5</th>\n",
       "      <td>0.029000</td>\n",
       "      <td>0.995270</td>\n",
       "      <td>0.957378</td>\n",
       "    </tr>\n",
       "    <tr>\n",
       "      <th>2.0</th>\n",
       "      <td>0.030000</td>\n",
       "      <td>0.993531</td>\n",
       "      <td>0.942179</td>\n",
       "    </tr>\n",
       "    <tr>\n",
       "      <th>2.5</th>\n",
       "      <td>0.030750</td>\n",
       "      <td>0.991773</td>\n",
       "      <td>0.926330</td>\n",
       "    </tr>\n",
       "    <tr>\n",
       "      <th>3.0</th>\n",
       "      <td>0.031500</td>\n",
       "      <td>0.990015</td>\n",
       "      <td>0.910482</td>\n",
       "    </tr>\n",
       "    <tr>\n",
       "      <th>3.5</th>\n",
       "      <td>0.032000</td>\n",
       "      <td>0.988066</td>\n",
       "      <td>0.894731</td>\n",
       "    </tr>\n",
       "    <tr>\n",
       "      <th>4.0</th>\n",
       "      <td>0.032500</td>\n",
       "      <td>0.986117</td>\n",
       "      <td>0.878981</td>\n",
       "    </tr>\n",
       "    <tr>\n",
       "      <th>4.5</th>\n",
       "      <td>0.032750</td>\n",
       "      <td>0.984150</td>\n",
       "      <td>0.863985</td>\n",
       "    </tr>\n",
       "    <tr>\n",
       "      <th>5.0</th>\n",
       "      <td>0.033000</td>\n",
       "      <td>0.982184</td>\n",
       "      <td>0.848989</td>\n",
       "    </tr>\n",
       "    <tr>\n",
       "      <th>5.5</th>\n",
       "      <td>0.033500</td>\n",
       "      <td>0.979740</td>\n",
       "      <td>0.832796</td>\n",
       "    </tr>\n",
       "    <tr>\n",
       "      <th>6.0</th>\n",
       "      <td>0.034000</td>\n",
       "      <td>0.977295</td>\n",
       "      <td>0.816603</td>\n",
       "    </tr>\n",
       "    <tr>\n",
       "      <th>6.5</th>\n",
       "      <td>0.034500</td>\n",
       "      <td>0.974850</td>\n",
       "      <td>0.800409</td>\n",
       "    </tr>\n",
       "    <tr>\n",
       "      <th>7.0</th>\n",
       "      <td>0.035000</td>\n",
       "      <td>0.972406</td>\n",
       "      <td>0.784216</td>\n",
       "    </tr>\n",
       "    <tr>\n",
       "      <th>7.5</th>\n",
       "      <td>0.035333</td>\n",
       "      <td>0.969668</td>\n",
       "      <td>0.768965</td>\n",
       "    </tr>\n",
       "    <tr>\n",
       "      <th>8.0</th>\n",
       "      <td>0.035667</td>\n",
       "      <td>0.966929</td>\n",
       "      <td>0.753714</td>\n",
       "    </tr>\n",
       "    <tr>\n",
       "      <th>8.5</th>\n",
       "      <td>0.036000</td>\n",
       "      <td>0.964191</td>\n",
       "      <td>0.738463</td>\n",
       "    </tr>\n",
       "    <tr>\n",
       "      <th>9.0</th>\n",
       "      <td>0.036333</td>\n",
       "      <td>0.961453</td>\n",
       "      <td>0.723212</td>\n",
       "    </tr>\n",
       "    <tr>\n",
       "      <th>9.5</th>\n",
       "      <td>0.036667</td>\n",
       "      <td>0.958715</td>\n",
       "      <td>0.707961</td>\n",
       "    </tr>\n",
       "    <tr>\n",
       "      <th>10.0</th>\n",
       "      <td>0.037000</td>\n",
       "      <td>0.955977</td>\n",
       "      <td>0.692710</td>\n",
       "    </tr>\n",
       "    <tr>\n",
       "      <th>10.5</th>\n",
       "      <td>0.037300</td>\n",
       "      <td>0.953140</td>\n",
       "      <td>0.678547</td>\n",
       "    </tr>\n",
       "    <tr>\n",
       "      <th>11.0</th>\n",
       "      <td>0.037600</td>\n",
       "      <td>0.950304</td>\n",
       "      <td>0.664384</td>\n",
       "    </tr>\n",
       "    <tr>\n",
       "      <th>11.5</th>\n",
       "      <td>0.037900</td>\n",
       "      <td>0.947467</td>\n",
       "      <td>0.650221</td>\n",
       "    </tr>\n",
       "    <tr>\n",
       "      <th>12.0</th>\n",
       "      <td>0.038200</td>\n",
       "      <td>0.944631</td>\n",
       "      <td>0.636058</td>\n",
       "    </tr>\n",
       "    <tr>\n",
       "      <th>12.5</th>\n",
       "      <td>0.038500</td>\n",
       "      <td>0.941794</td>\n",
       "      <td>0.621896</td>\n",
       "    </tr>\n",
       "    <tr>\n",
       "      <th>13.0</th>\n",
       "      <td>0.038800</td>\n",
       "      <td>0.938958</td>\n",
       "      <td>0.607733</td>\n",
       "    </tr>\n",
       "    <tr>\n",
       "      <th>13.5</th>\n",
       "      <td>0.039100</td>\n",
       "      <td>0.936121</td>\n",
       "      <td>0.593570</td>\n",
       "    </tr>\n",
       "    <tr>\n",
       "      <th>14.0</th>\n",
       "      <td>0.039400</td>\n",
       "      <td>0.933285</td>\n",
       "      <td>0.579407</td>\n",
       "    </tr>\n",
       "    <tr>\n",
       "      <th>14.5</th>\n",
       "      <td>0.039700</td>\n",
       "      <td>0.930448</td>\n",
       "      <td>0.565244</td>\n",
       "    </tr>\n",
       "    <tr>\n",
       "      <th>15.0</th>\n",
       "      <td>0.040000</td>\n",
       "      <td>0.927611</td>\n",
       "      <td>0.551081</td>\n",
       "    </tr>\n",
       "    <tr>\n",
       "      <th>15.5</th>\n",
       "      <td>0.040500</td>\n",
       "      <td>0.924858</td>\n",
       "      <td>0.536794</td>\n",
       "    </tr>\n",
       "    <tr>\n",
       "      <th>16.0</th>\n",
       "      <td>0.041000</td>\n",
       "      <td>0.922104</td>\n",
       "      <td>0.522508</td>\n",
       "    </tr>\n",
       "    <tr>\n",
       "      <th>16.5</th>\n",
       "      <td>0.041500</td>\n",
       "      <td>0.919351</td>\n",
       "      <td>0.508222</td>\n",
       "    </tr>\n",
       "    <tr>\n",
       "      <th>17.0</th>\n",
       "      <td>0.042000</td>\n",
       "      <td>0.916597</td>\n",
       "      <td>0.493935</td>\n",
       "    </tr>\n",
       "    <tr>\n",
       "      <th>17.5</th>\n",
       "      <td>0.042500</td>\n",
       "      <td>0.913844</td>\n",
       "      <td>0.479649</td>\n",
       "    </tr>\n",
       "    <tr>\n",
       "      <th>18.0</th>\n",
       "      <td>0.043000</td>\n",
       "      <td>0.911090</td>\n",
       "      <td>0.465363</td>\n",
       "    </tr>\n",
       "    <tr>\n",
       "      <th>18.5</th>\n",
       "      <td>0.043500</td>\n",
       "      <td>0.908337</td>\n",
       "      <td>0.451077</td>\n",
       "    </tr>\n",
       "    <tr>\n",
       "      <th>19.0</th>\n",
       "      <td>0.044000</td>\n",
       "      <td>0.905583</td>\n",
       "      <td>0.436790</td>\n",
       "    </tr>\n",
       "    <tr>\n",
       "      <th>19.5</th>\n",
       "      <td>0.044500</td>\n",
       "      <td>0.902829</td>\n",
       "      <td>0.422504</td>\n",
       "    </tr>\n",
       "    <tr>\n",
       "      <th>20.0</th>\n",
       "      <td>0.045000</td>\n",
       "      <td>0.900076</td>\n",
       "      <td>0.408218</td>\n",
       "    </tr>\n",
       "    <tr>\n",
       "      <th>20.5</th>\n",
       "      <td>0.045250</td>\n",
       "      <td>0.897442</td>\n",
       "      <td>0.398990</td>\n",
       "    </tr>\n",
       "    <tr>\n",
       "      <th>21.0</th>\n",
       "      <td>0.045500</td>\n",
       "      <td>0.894809</td>\n",
       "      <td>0.389762</td>\n",
       "    </tr>\n",
       "    <tr>\n",
       "      <th>21.5</th>\n",
       "      <td>0.045750</td>\n",
       "      <td>0.892176</td>\n",
       "      <td>0.380534</td>\n",
       "    </tr>\n",
       "    <tr>\n",
       "      <th>22.0</th>\n",
       "      <td>0.046000</td>\n",
       "      <td>0.889542</td>\n",
       "      <td>0.371307</td>\n",
       "    </tr>\n",
       "    <tr>\n",
       "      <th>22.5</th>\n",
       "      <td>0.046250</td>\n",
       "      <td>0.886909</td>\n",
       "      <td>0.362079</td>\n",
       "    </tr>\n",
       "    <tr>\n",
       "      <th>23.0</th>\n",
       "      <td>0.046500</td>\n",
       "      <td>0.884275</td>\n",
       "      <td>0.352851</td>\n",
       "    </tr>\n",
       "    <tr>\n",
       "      <th>23.5</th>\n",
       "      <td>0.046750</td>\n",
       "      <td>0.881642</td>\n",
       "      <td>0.343623</td>\n",
       "    </tr>\n",
       "    <tr>\n",
       "      <th>24.0</th>\n",
       "      <td>0.047000</td>\n",
       "      <td>0.879008</td>\n",
       "      <td>0.334396</td>\n",
       "    </tr>\n",
       "    <tr>\n",
       "      <th>24.5</th>\n",
       "      <td>0.047250</td>\n",
       "      <td>0.876375</td>\n",
       "      <td>0.325168</td>\n",
       "    </tr>\n",
       "    <tr>\n",
       "      <th>25.0</th>\n",
       "      <td>0.047500</td>\n",
       "      <td>0.873741</td>\n",
       "      <td>0.315940</td>\n",
       "    </tr>\n",
       "    <tr>\n",
       "      <th>25.5</th>\n",
       "      <td>0.047750</td>\n",
       "      <td>0.871108</td>\n",
       "      <td>0.306712</td>\n",
       "    </tr>\n",
       "    <tr>\n",
       "      <th>26.0</th>\n",
       "      <td>0.048000</td>\n",
       "      <td>0.868474</td>\n",
       "      <td>0.297484</td>\n",
       "    </tr>\n",
       "    <tr>\n",
       "      <th>26.5</th>\n",
       "      <td>0.048250</td>\n",
       "      <td>0.865841</td>\n",
       "      <td>0.288257</td>\n",
       "    </tr>\n",
       "    <tr>\n",
       "      <th>27.0</th>\n",
       "      <td>0.048500</td>\n",
       "      <td>0.863207</td>\n",
       "      <td>0.279029</td>\n",
       "    </tr>\n",
       "    <tr>\n",
       "      <th>27.5</th>\n",
       "      <td>0.048750</td>\n",
       "      <td>0.860574</td>\n",
       "      <td>0.269801</td>\n",
       "    </tr>\n",
       "    <tr>\n",
       "      <th>28.0</th>\n",
       "      <td>0.049000</td>\n",
       "      <td>0.857941</td>\n",
       "      <td>0.260573</td>\n",
       "    </tr>\n",
       "    <tr>\n",
       "      <th>28.5</th>\n",
       "      <td>0.049250</td>\n",
       "      <td>0.855307</td>\n",
       "      <td>0.251346</td>\n",
       "    </tr>\n",
       "    <tr>\n",
       "      <th>29.0</th>\n",
       "      <td>0.049500</td>\n",
       "      <td>0.852674</td>\n",
       "      <td>0.242118</td>\n",
       "    </tr>\n",
       "    <tr>\n",
       "      <th>29.5</th>\n",
       "      <td>0.049750</td>\n",
       "      <td>0.850040</td>\n",
       "      <td>0.232890</td>\n",
       "    </tr>\n",
       "    <tr>\n",
       "      <th>30.0</th>\n",
       "      <td>0.050000</td>\n",
       "      <td>0.847407</td>\n",
       "      <td>0.223662</td>\n",
       "    </tr>\n",
       "  </tbody>\n",
       "</table>\n",
       "</div>"
      ],
      "text/plain": [
       "           Rate  OIS_Discount_Factor  IRS_Discount_Factor\n",
       "Years                                                    \n",
       "0.5    0.025000             0.998752             0.987654\n",
       "1.0    0.028000             0.997009             0.972577\n",
       "1.5    0.029000             0.995270             0.957378\n",
       "2.0    0.030000             0.993531             0.942179\n",
       "2.5    0.030750             0.991773             0.926330\n",
       "3.0    0.031500             0.990015             0.910482\n",
       "3.5    0.032000             0.988066             0.894731\n",
       "4.0    0.032500             0.986117             0.878981\n",
       "4.5    0.032750             0.984150             0.863985\n",
       "5.0    0.033000             0.982184             0.848989\n",
       "5.5    0.033500             0.979740             0.832796\n",
       "6.0    0.034000             0.977295             0.816603\n",
       "6.5    0.034500             0.974850             0.800409\n",
       "7.0    0.035000             0.972406             0.784216\n",
       "7.5    0.035333             0.969668             0.768965\n",
       "8.0    0.035667             0.966929             0.753714\n",
       "8.5    0.036000             0.964191             0.738463\n",
       "9.0    0.036333             0.961453             0.723212\n",
       "9.5    0.036667             0.958715             0.707961\n",
       "10.0   0.037000             0.955977             0.692710\n",
       "10.5   0.037300             0.953140             0.678547\n",
       "11.0   0.037600             0.950304             0.664384\n",
       "11.5   0.037900             0.947467             0.650221\n",
       "12.0   0.038200             0.944631             0.636058\n",
       "12.5   0.038500             0.941794             0.621896\n",
       "13.0   0.038800             0.938958             0.607733\n",
       "13.5   0.039100             0.936121             0.593570\n",
       "14.0   0.039400             0.933285             0.579407\n",
       "14.5   0.039700             0.930448             0.565244\n",
       "15.0   0.040000             0.927611             0.551081\n",
       "15.5   0.040500             0.924858             0.536794\n",
       "16.0   0.041000             0.922104             0.522508\n",
       "16.5   0.041500             0.919351             0.508222\n",
       "17.0   0.042000             0.916597             0.493935\n",
       "17.5   0.042500             0.913844             0.479649\n",
       "18.0   0.043000             0.911090             0.465363\n",
       "18.5   0.043500             0.908337             0.451077\n",
       "19.0   0.044000             0.905583             0.436790\n",
       "19.5   0.044500             0.902829             0.422504\n",
       "20.0   0.045000             0.900076             0.408218\n",
       "20.5   0.045250             0.897442             0.398990\n",
       "21.0   0.045500             0.894809             0.389762\n",
       "21.5   0.045750             0.892176             0.380534\n",
       "22.0   0.046000             0.889542             0.371307\n",
       "22.5   0.046250             0.886909             0.362079\n",
       "23.0   0.046500             0.884275             0.352851\n",
       "23.5   0.046750             0.881642             0.343623\n",
       "24.0   0.047000             0.879008             0.334396\n",
       "24.5   0.047250             0.876375             0.325168\n",
       "25.0   0.047500             0.873741             0.315940\n",
       "25.5   0.047750             0.871108             0.306712\n",
       "26.0   0.048000             0.868474             0.297484\n",
       "26.5   0.048250             0.865841             0.288257\n",
       "27.0   0.048500             0.863207             0.279029\n",
       "27.5   0.048750             0.860574             0.269801\n",
       "28.0   0.049000             0.857941             0.260573\n",
       "28.5   0.049250             0.855307             0.251346\n",
       "29.0   0.049500             0.852674             0.242118\n",
       "29.5   0.049750             0.850040             0.232890\n",
       "30.0   0.050000             0.847407             0.223662"
      ]
     },
     "execution_count": 17,
     "metadata": {},
     "output_type": "execute_result"
    }
   ],
   "source": [
    "# For each row with a valid IRS rate\n",
    "for i in index:\n",
    "    def equation1(df, i = i):\n",
    "        # Copy the DataFrame up to that point\n",
    "        irs = IRS_Interpolated_Data.iloc[0:i+1].copy()    \n",
    "        \n",
    "        # Set the IRS_Discount_Factor for the current row to df (which will be solved using brentq\n",
    "        irs['IRS_Discount_Factor'].iloc[-1] = df\n",
    "        \n",
    "        # Interpolate the missing IRS discount factors linearly         \n",
    "        irs[['Years', 'IRS_Discount_Factor']] = irs[['Years', 'IRS_Discount_Factor']].interpolate(method='linear')  \n",
    "        \n",
    "        # Compute the present value of the fixed leg payments for each swap by using the OIS discount factor and IRS discount factors.\n",
    "        sum = 0\n",
    "        for i in range(len(irs)):\n",
    "            if i == 0:\n",
    "                sum += irs[\"OIS_Discount_Factor\"].iloc[i]/irs['IRS_Discount_Factor'].iloc[i]*2\n",
    "            else:\n",
    "                sum += irs[\"OIS_Discount_Factor\"].iloc[i]*irs['IRS_Discount_Factor'].iloc[i-1]/irs['IRS_Discount_Factor'].iloc[i]*2\n",
    "    \n",
    "        # Minimize the difference between the present value of the fixed leg and the known swap rate. \n",
    "        return sum - (irs['Rate'].iloc[-1] + 2)*np.sum(irs['OIS_Discount_Factor'])\n",
    "\n",
    "    IRS_Interpolated_Data.at[i, 'IRS_Discount_Factor'] = brentq(equation1, 0.001, 1)\n",
    "\n",
    "IRS_Interpolated_Data = IRS_Interpolated_Data.interpolate(method='linear')\n",
    "IRS_Interpolated_Data.set_index(\"Years\",inplace=True)\n",
    "IRS_Interpolated_Data"
   ]
  },
  {
   "cell_type": "markdown",
   "metadata": {},
   "source": [
    "$$\n",
    "\\text{Forward LIBOR}_n = \\left( \\frac{\\left( 1 + \\frac{\\text{Rate}_n}{2} \\right)^{2T_n}}{\\left( 1 + \\frac{\\text{Rate}_{n-1}}{2} \\right)^{2T_{n-1}}} \\right)^2 - 1\n",
    "$$\n",
    "\n",
    "Where:\n",
    "- \\(\\text{Rate}_n\\) is the **swap rate** for the current period.\n",
    "- \\(\\text{Rate}_{n-1}\\) is the **swap rate** for the previous period.\n",
    "- \\(T_n\\) is the **tenor** for the current period in years.\n",
    "- The rates are divided by 2 to account for semi-annual payments."
   ]
  },
  {
   "cell_type": "code",
   "execution_count": null,
   "metadata": {},
   "outputs": [],
   "source": [
    "# Calculation of the forward LIBOR rates \n",
    "\n",
    "# Initialization of Forward LIBOR Column\n",
    "IRS_Interpolated_Data[\"Forward_LIBOR\"]=np.nan\n",
    "\n",
    "# Setting the first forward LIBOR rate equal to the swap rate for the first period. \n",
    "IRS_Interpolated_Data.iloc[0,IRS_Interpolated_Data.columns.get_loc(\"Forward_LIBOR\")] = \\\n",
    "    (\n",
    "        IRS_Interpolated_Data.iloc[0,IRS_Interpolated_Data.columns.get_loc(\"Rate\")]\n",
    "    )\n",
    "\n",
    "# Iterating Over the Remaining Rows\n",
    "for row in range(1,len(IRS_Interpolated_Data)):\n",
    "    IRS_Interpolated_Data.iloc[row,IRS_Interpolated_Data.columns.get_loc(\"Forward_LIBOR\")]=\\\n",
    "        (\n",
    "            (\n",
    "                (1+IRS_Interpolated_Data.iloc[row,IRS_Interpolated_Data.columns.get_loc(\"Rate\")]/2)\n",
    "                **\n",
    "                (IRS_Interpolated_Data.index[row]*2)\n",
    "                /\n",
    "                (1+IRS_Interpolated_Data.iloc[row-1,IRS_Interpolated_Data.columns.get_loc(\"Rate\")]/2)\n",
    "                **\n",
    "                (IRS_Interpolated_Data.index[row-1]*2)\n",
    "            )**2\n",
    "        )-1"
   ]
  },
  {
   "cell_type": "code",
   "execution_count": null,
   "metadata": {},
   "outputs": [
    {
     "data": {
      "text/html": [
       "<div>\n",
       "<style scoped>\n",
       "    .dataframe tbody tr th:only-of-type {\n",
       "        vertical-align: middle;\n",
       "    }\n",
       "\n",
       "    .dataframe tbody tr th {\n",
       "        vertical-align: top;\n",
       "    }\n",
       "\n",
       "    .dataframe thead th {\n",
       "        text-align: right;\n",
       "    }\n",
       "</style>\n",
       "<table border=\"1\" class=\"dataframe\">\n",
       "  <thead>\n",
       "    <tr style=\"text-align: right;\">\n",
       "      <th></th>\n",
       "      <th>Rate</th>\n",
       "      <th>OIS_Discount_Factor</th>\n",
       "      <th>IRS_Discount_Factor</th>\n",
       "      <th>Forward_LIBOR</th>\n",
       "    </tr>\n",
       "    <tr>\n",
       "      <th>Years</th>\n",
       "      <th></th>\n",
       "      <th></th>\n",
       "      <th></th>\n",
       "      <th></th>\n",
       "    </tr>\n",
       "  </thead>\n",
       "  <tbody>\n",
       "    <tr>\n",
       "      <th>0.5</th>\n",
       "      <td>0.025000</td>\n",
       "      <td>0.998752</td>\n",
       "      <td>0.987654</td>\n",
       "      <td>0.025000</td>\n",
       "    </tr>\n",
       "    <tr>\n",
       "      <th>1.0</th>\n",
       "      <td>0.028000</td>\n",
       "      <td>0.997009</td>\n",
       "      <td>0.972577</td>\n",
       "      <td>0.031245</td>\n",
       "    </tr>\n",
       "    <tr>\n",
       "      <th>1.5</th>\n",
       "      <td>0.029000</td>\n",
       "      <td>0.995270</td>\n",
       "      <td>0.957378</td>\n",
       "      <td>0.031242</td>\n",
       "    </tr>\n",
       "    <tr>\n",
       "      <th>2.0</th>\n",
       "      <td>0.030000</td>\n",
       "      <td>0.993531</td>\n",
       "      <td>0.942179</td>\n",
       "      <td>0.033275</td>\n",
       "    </tr>\n",
       "    <tr>\n",
       "      <th>2.5</th>\n",
       "      <td>0.030750</td>\n",
       "      <td>0.991773</td>\n",
       "      <td>0.926330</td>\n",
       "      <td>0.034038</td>\n",
       "    </tr>\n",
       "    <tr>\n",
       "      <th>3.0</th>\n",
       "      <td>0.031500</td>\n",
       "      <td>0.990015</td>\n",
       "      <td>0.910482</td>\n",
       "      <td>0.035565</td>\n",
       "    </tr>\n",
       "    <tr>\n",
       "      <th>3.5</th>\n",
       "      <td>0.032000</td>\n",
       "      <td>0.988066</td>\n",
       "      <td>0.894731</td>\n",
       "      <td>0.035309</td>\n",
       "    </tr>\n",
       "    <tr>\n",
       "      <th>4.0</th>\n",
       "      <td>0.032500</td>\n",
       "      <td>0.986117</td>\n",
       "      <td>0.878981</td>\n",
       "      <td>0.036328</td>\n",
       "    </tr>\n",
       "    <tr>\n",
       "      <th>4.5</th>\n",
       "      <td>0.032750</td>\n",
       "      <td>0.984150</td>\n",
       "      <td>0.863985</td>\n",
       "      <td>0.035053</td>\n",
       "    </tr>\n",
       "    <tr>\n",
       "      <th>5.0</th>\n",
       "      <td>0.033000</td>\n",
       "      <td>0.982184</td>\n",
       "      <td>0.848989</td>\n",
       "      <td>0.035562</td>\n",
       "    </tr>\n",
       "    <tr>\n",
       "      <th>5.5</th>\n",
       "      <td>0.033500</td>\n",
       "      <td>0.979740</td>\n",
       "      <td>0.832796</td>\n",
       "      <td>0.038877</td>\n",
       "    </tr>\n",
       "    <tr>\n",
       "      <th>6.0</th>\n",
       "      <td>0.034000</td>\n",
       "      <td>0.977295</td>\n",
       "      <td>0.816603</td>\n",
       "      <td>0.039898</td>\n",
       "    </tr>\n",
       "    <tr>\n",
       "      <th>6.5</th>\n",
       "      <td>0.034500</td>\n",
       "      <td>0.974850</td>\n",
       "      <td>0.800409</td>\n",
       "      <td>0.040920</td>\n",
       "    </tr>\n",
       "    <tr>\n",
       "      <th>7.0</th>\n",
       "      <td>0.035000</td>\n",
       "      <td>0.972406</td>\n",
       "      <td>0.784216</td>\n",
       "      <td>0.041942</td>\n",
       "    </tr>\n",
       "    <tr>\n",
       "      <th>7.5</th>\n",
       "      <td>0.035333</td>\n",
       "      <td>0.969668</td>\n",
       "      <td>0.768965</td>\n",
       "      <td>0.040406</td>\n",
       "    </tr>\n",
       "    <tr>\n",
       "      <th>8.0</th>\n",
       "      <td>0.035667</td>\n",
       "      <td>0.966929</td>\n",
       "      <td>0.753714</td>\n",
       "      <td>0.041087</td>\n",
       "    </tr>\n",
       "    <tr>\n",
       "      <th>8.5</th>\n",
       "      <td>0.036000</td>\n",
       "      <td>0.964191</td>\n",
       "      <td>0.738463</td>\n",
       "      <td>0.041768</td>\n",
       "    </tr>\n",
       "    <tr>\n",
       "      <th>9.0</th>\n",
       "      <td>0.036333</td>\n",
       "      <td>0.961453</td>\n",
       "      <td>0.723212</td>\n",
       "      <td>0.042450</td>\n",
       "    </tr>\n",
       "    <tr>\n",
       "      <th>9.5</th>\n",
       "      <td>0.036667</td>\n",
       "      <td>0.958715</td>\n",
       "      <td>0.707961</td>\n",
       "      <td>0.043131</td>\n",
       "    </tr>\n",
       "    <tr>\n",
       "      <th>10.0</th>\n",
       "      <td>0.037000</td>\n",
       "      <td>0.955977</td>\n",
       "      <td>0.692710</td>\n",
       "      <td>0.043813</td>\n",
       "    </tr>\n",
       "    <tr>\n",
       "      <th>10.5</th>\n",
       "      <td>0.037300</td>\n",
       "      <td>0.953140</td>\n",
       "      <td>0.678547</td>\n",
       "      <td>0.043778</td>\n",
       "    </tr>\n",
       "    <tr>\n",
       "      <th>11.0</th>\n",
       "      <td>0.037600</td>\n",
       "      <td>0.950304</td>\n",
       "      <td>0.664384</td>\n",
       "      <td>0.044392</td>\n",
       "    </tr>\n",
       "    <tr>\n",
       "      <th>11.5</th>\n",
       "      <td>0.037900</td>\n",
       "      <td>0.947467</td>\n",
       "      <td>0.650221</td>\n",
       "      <td>0.045006</td>\n",
       "    </tr>\n",
       "    <tr>\n",
       "      <th>12.0</th>\n",
       "      <td>0.038200</td>\n",
       "      <td>0.944631</td>\n",
       "      <td>0.636058</td>\n",
       "      <td>0.045621</td>\n",
       "    </tr>\n",
       "    <tr>\n",
       "      <th>12.5</th>\n",
       "      <td>0.038500</td>\n",
       "      <td>0.941794</td>\n",
       "      <td>0.621896</td>\n",
       "      <td>0.046236</td>\n",
       "    </tr>\n",
       "    <tr>\n",
       "      <th>13.0</th>\n",
       "      <td>0.038800</td>\n",
       "      <td>0.938958</td>\n",
       "      <td>0.607733</td>\n",
       "      <td>0.046851</td>\n",
       "    </tr>\n",
       "    <tr>\n",
       "      <th>13.5</th>\n",
       "      <td>0.039100</td>\n",
       "      <td>0.936121</td>\n",
       "      <td>0.593570</td>\n",
       "      <td>0.047466</td>\n",
       "    </tr>\n",
       "    <tr>\n",
       "      <th>14.0</th>\n",
       "      <td>0.039400</td>\n",
       "      <td>0.933285</td>\n",
       "      <td>0.579407</td>\n",
       "      <td>0.048081</td>\n",
       "    </tr>\n",
       "    <tr>\n",
       "      <th>14.5</th>\n",
       "      <td>0.039700</td>\n",
       "      <td>0.930448</td>\n",
       "      <td>0.565244</td>\n",
       "      <td>0.048697</td>\n",
       "    </tr>\n",
       "    <tr>\n",
       "      <th>15.0</th>\n",
       "      <td>0.040000</td>\n",
       "      <td>0.927611</td>\n",
       "      <td>0.551081</td>\n",
       "      <td>0.049313</td>\n",
       "    </tr>\n",
       "    <tr>\n",
       "      <th>15.5</th>\n",
       "      <td>0.040500</td>\n",
       "      <td>0.924858</td>\n",
       "      <td>0.536794</td>\n",
       "      <td>0.056329</td>\n",
       "    </tr>\n",
       "    <tr>\n",
       "      <th>16.0</th>\n",
       "      <td>0.041000</td>\n",
       "      <td>0.922104</td>\n",
       "      <td>0.522508</td>\n",
       "      <td>0.057361</td>\n",
       "    </tr>\n",
       "    <tr>\n",
       "      <th>16.5</th>\n",
       "      <td>0.041500</td>\n",
       "      <td>0.919351</td>\n",
       "      <td>0.508222</td>\n",
       "      <td>0.058393</td>\n",
       "    </tr>\n",
       "    <tr>\n",
       "      <th>17.0</th>\n",
       "      <td>0.042000</td>\n",
       "      <td>0.916597</td>\n",
       "      <td>0.493935</td>\n",
       "      <td>0.059426</td>\n",
       "    </tr>\n",
       "    <tr>\n",
       "      <th>17.5</th>\n",
       "      <td>0.042500</td>\n",
       "      <td>0.913844</td>\n",
       "      <td>0.479649</td>\n",
       "      <td>0.060460</td>\n",
       "    </tr>\n",
       "    <tr>\n",
       "      <th>18.0</th>\n",
       "      <td>0.043000</td>\n",
       "      <td>0.911090</td>\n",
       "      <td>0.465363</td>\n",
       "      <td>0.061495</td>\n",
       "    </tr>\n",
       "    <tr>\n",
       "      <th>18.5</th>\n",
       "      <td>0.043500</td>\n",
       "      <td>0.908337</td>\n",
       "      <td>0.451077</td>\n",
       "      <td>0.062530</td>\n",
       "    </tr>\n",
       "    <tr>\n",
       "      <th>19.0</th>\n",
       "      <td>0.044000</td>\n",
       "      <td>0.905583</td>\n",
       "      <td>0.436790</td>\n",
       "      <td>0.063566</td>\n",
       "    </tr>\n",
       "    <tr>\n",
       "      <th>19.5</th>\n",
       "      <td>0.044500</td>\n",
       "      <td>0.902829</td>\n",
       "      <td>0.422504</td>\n",
       "      <td>0.064602</td>\n",
       "    </tr>\n",
       "    <tr>\n",
       "      <th>20.0</th>\n",
       "      <td>0.045000</td>\n",
       "      <td>0.900076</td>\n",
       "      <td>0.408218</td>\n",
       "      <td>0.065639</td>\n",
       "    </tr>\n",
       "    <tr>\n",
       "      <th>20.5</th>\n",
       "      <td>0.045250</td>\n",
       "      <td>0.897442</td>\n",
       "      <td>0.398990</td>\n",
       "      <td>0.056039</td>\n",
       "    </tr>\n",
       "    <tr>\n",
       "      <th>21.0</th>\n",
       "      <td>0.045500</td>\n",
       "      <td>0.894809</td>\n",
       "      <td>0.389762</td>\n",
       "      <td>0.056554</td>\n",
       "    </tr>\n",
       "    <tr>\n",
       "      <th>21.5</th>\n",
       "      <td>0.045750</td>\n",
       "      <td>0.892176</td>\n",
       "      <td>0.380534</td>\n",
       "      <td>0.057069</td>\n",
       "    </tr>\n",
       "    <tr>\n",
       "      <th>22.0</th>\n",
       "      <td>0.046000</td>\n",
       "      <td>0.889542</td>\n",
       "      <td>0.371307</td>\n",
       "      <td>0.057585</td>\n",
       "    </tr>\n",
       "    <tr>\n",
       "      <th>22.5</th>\n",
       "      <td>0.046250</td>\n",
       "      <td>0.886909</td>\n",
       "      <td>0.362079</td>\n",
       "      <td>0.058101</td>\n",
       "    </tr>\n",
       "    <tr>\n",
       "      <th>23.0</th>\n",
       "      <td>0.046500</td>\n",
       "      <td>0.884275</td>\n",
       "      <td>0.352851</td>\n",
       "      <td>0.058616</td>\n",
       "    </tr>\n",
       "    <tr>\n",
       "      <th>23.5</th>\n",
       "      <td>0.046750</td>\n",
       "      <td>0.881642</td>\n",
       "      <td>0.343623</td>\n",
       "      <td>0.059132</td>\n",
       "    </tr>\n",
       "    <tr>\n",
       "      <th>24.0</th>\n",
       "      <td>0.047000</td>\n",
       "      <td>0.879008</td>\n",
       "      <td>0.334396</td>\n",
       "      <td>0.059648</td>\n",
       "    </tr>\n",
       "    <tr>\n",
       "      <th>24.5</th>\n",
       "      <td>0.047250</td>\n",
       "      <td>0.876375</td>\n",
       "      <td>0.325168</td>\n",
       "      <td>0.060165</td>\n",
       "    </tr>\n",
       "    <tr>\n",
       "      <th>25.0</th>\n",
       "      <td>0.047500</td>\n",
       "      <td>0.873741</td>\n",
       "      <td>0.315940</td>\n",
       "      <td>0.060681</td>\n",
       "    </tr>\n",
       "    <tr>\n",
       "      <th>25.5</th>\n",
       "      <td>0.047750</td>\n",
       "      <td>0.871108</td>\n",
       "      <td>0.306712</td>\n",
       "      <td>0.061198</td>\n",
       "    </tr>\n",
       "    <tr>\n",
       "      <th>26.0</th>\n",
       "      <td>0.048000</td>\n",
       "      <td>0.868474</td>\n",
       "      <td>0.297484</td>\n",
       "      <td>0.061714</td>\n",
       "    </tr>\n",
       "    <tr>\n",
       "      <th>26.5</th>\n",
       "      <td>0.048250</td>\n",
       "      <td>0.865841</td>\n",
       "      <td>0.288257</td>\n",
       "      <td>0.062231</td>\n",
       "    </tr>\n",
       "    <tr>\n",
       "      <th>27.0</th>\n",
       "      <td>0.048500</td>\n",
       "      <td>0.863207</td>\n",
       "      <td>0.279029</td>\n",
       "      <td>0.062748</td>\n",
       "    </tr>\n",
       "    <tr>\n",
       "      <th>27.5</th>\n",
       "      <td>0.048750</td>\n",
       "      <td>0.860574</td>\n",
       "      <td>0.269801</td>\n",
       "      <td>0.063266</td>\n",
       "    </tr>\n",
       "    <tr>\n",
       "      <th>28.0</th>\n",
       "      <td>0.049000</td>\n",
       "      <td>0.857941</td>\n",
       "      <td>0.260573</td>\n",
       "      <td>0.063783</td>\n",
       "    </tr>\n",
       "    <tr>\n",
       "      <th>28.5</th>\n",
       "      <td>0.049250</td>\n",
       "      <td>0.855307</td>\n",
       "      <td>0.251346</td>\n",
       "      <td>0.064300</td>\n",
       "    </tr>\n",
       "    <tr>\n",
       "      <th>29.0</th>\n",
       "      <td>0.049500</td>\n",
       "      <td>0.852674</td>\n",
       "      <td>0.242118</td>\n",
       "      <td>0.064818</td>\n",
       "    </tr>\n",
       "    <tr>\n",
       "      <th>29.5</th>\n",
       "      <td>0.049750</td>\n",
       "      <td>0.850040</td>\n",
       "      <td>0.232890</td>\n",
       "      <td>0.065336</td>\n",
       "    </tr>\n",
       "    <tr>\n",
       "      <th>30.0</th>\n",
       "      <td>0.050000</td>\n",
       "      <td>0.847407</td>\n",
       "      <td>0.223662</td>\n",
       "      <td>0.065854</td>\n",
       "    </tr>\n",
       "  </tbody>\n",
       "</table>\n",
       "</div>"
      ],
      "text/plain": [
       "           Rate  OIS_Discount_Factor  IRS_Discount_Factor  Forward_LIBOR\n",
       "Years                                                                   \n",
       "0.5    0.025000             0.998752             0.987654       0.025000\n",
       "1.0    0.028000             0.997009             0.972577       0.031245\n",
       "1.5    0.029000             0.995270             0.957378       0.031242\n",
       "2.0    0.030000             0.993531             0.942179       0.033275\n",
       "2.5    0.030750             0.991773             0.926330       0.034038\n",
       "3.0    0.031500             0.990015             0.910482       0.035565\n",
       "3.5    0.032000             0.988066             0.894731       0.035309\n",
       "4.0    0.032500             0.986117             0.878981       0.036328\n",
       "4.5    0.032750             0.984150             0.863985       0.035053\n",
       "5.0    0.033000             0.982184             0.848989       0.035562\n",
       "5.5    0.033500             0.979740             0.832796       0.038877\n",
       "6.0    0.034000             0.977295             0.816603       0.039898\n",
       "6.5    0.034500             0.974850             0.800409       0.040920\n",
       "7.0    0.035000             0.972406             0.784216       0.041942\n",
       "7.5    0.035333             0.969668             0.768965       0.040406\n",
       "8.0    0.035667             0.966929             0.753714       0.041087\n",
       "8.5    0.036000             0.964191             0.738463       0.041768\n",
       "9.0    0.036333             0.961453             0.723212       0.042450\n",
       "9.5    0.036667             0.958715             0.707961       0.043131\n",
       "10.0   0.037000             0.955977             0.692710       0.043813\n",
       "10.5   0.037300             0.953140             0.678547       0.043778\n",
       "11.0   0.037600             0.950304             0.664384       0.044392\n",
       "11.5   0.037900             0.947467             0.650221       0.045006\n",
       "12.0   0.038200             0.944631             0.636058       0.045621\n",
       "12.5   0.038500             0.941794             0.621896       0.046236\n",
       "13.0   0.038800             0.938958             0.607733       0.046851\n",
       "13.5   0.039100             0.936121             0.593570       0.047466\n",
       "14.0   0.039400             0.933285             0.579407       0.048081\n",
       "14.5   0.039700             0.930448             0.565244       0.048697\n",
       "15.0   0.040000             0.927611             0.551081       0.049313\n",
       "15.5   0.040500             0.924858             0.536794       0.056329\n",
       "16.0   0.041000             0.922104             0.522508       0.057361\n",
       "16.5   0.041500             0.919351             0.508222       0.058393\n",
       "17.0   0.042000             0.916597             0.493935       0.059426\n",
       "17.5   0.042500             0.913844             0.479649       0.060460\n",
       "18.0   0.043000             0.911090             0.465363       0.061495\n",
       "18.5   0.043500             0.908337             0.451077       0.062530\n",
       "19.0   0.044000             0.905583             0.436790       0.063566\n",
       "19.5   0.044500             0.902829             0.422504       0.064602\n",
       "20.0   0.045000             0.900076             0.408218       0.065639\n",
       "20.5   0.045250             0.897442             0.398990       0.056039\n",
       "21.0   0.045500             0.894809             0.389762       0.056554\n",
       "21.5   0.045750             0.892176             0.380534       0.057069\n",
       "22.0   0.046000             0.889542             0.371307       0.057585\n",
       "22.5   0.046250             0.886909             0.362079       0.058101\n",
       "23.0   0.046500             0.884275             0.352851       0.058616\n",
       "23.5   0.046750             0.881642             0.343623       0.059132\n",
       "24.0   0.047000             0.879008             0.334396       0.059648\n",
       "24.5   0.047250             0.876375             0.325168       0.060165\n",
       "25.0   0.047500             0.873741             0.315940       0.060681\n",
       "25.5   0.047750             0.871108             0.306712       0.061198\n",
       "26.0   0.048000             0.868474             0.297484       0.061714\n",
       "26.5   0.048250             0.865841             0.288257       0.062231\n",
       "27.0   0.048500             0.863207             0.279029       0.062748\n",
       "27.5   0.048750             0.860574             0.269801       0.063266\n",
       "28.0   0.049000             0.857941             0.260573       0.063783\n",
       "28.5   0.049250             0.855307             0.251346       0.064300\n",
       "29.0   0.049500             0.852674             0.242118       0.064818\n",
       "29.5   0.049750             0.850040             0.232890       0.065336\n",
       "30.0   0.050000             0.847407             0.223662       0.065854"
      ]
     },
     "execution_count": 19,
     "metadata": {},
     "output_type": "execute_result"
    }
   ],
   "source": [
    "IRS_Interpolated_Data"
   ]
  },
  {
   "cell_type": "code",
   "execution_count": null,
   "metadata": {},
   "outputs": [
    {
     "data": {
      "application/vnd.plotly.v1+json": {
       "config": {
        "plotlyServerURL": "https://plot.ly"
       },
       "data": [
        {
         "line": {
          "width": 2
         },
         "marker": {
          "size": 6
         },
         "mode": "lines+markers",
         "name": "Discount Curve",
         "type": "scatter",
         "x": [
          0.5,
          1,
          1.5,
          2,
          2.5,
          3,
          3.5,
          4,
          4.5,
          5,
          5.5,
          6,
          6.5,
          7,
          7.5,
          8,
          8.5,
          9,
          9.5,
          10,
          10.5,
          11,
          11.5,
          12,
          12.5,
          13,
          13.5,
          14,
          14.5,
          15,
          15.5,
          16,
          16.5,
          17,
          17.5,
          18,
          18.5,
          19,
          19.5,
          20,
          20.5,
          21,
          21.5,
          22,
          22.5,
          23,
          23.5,
          24,
          24.5,
          25,
          25.5,
          26,
          26.5,
          27,
          27.5,
          28,
          28.5,
          29,
          29.5,
          30
         ],
         "y": [
          0.9876543209876543,
          0.9725768302912442,
          0.9573779178550962,
          0.9421790054189482,
          0.9263302686640769,
          0.9104815319092056,
          0.8947311053593977,
          0.8789806788095899,
          0.8639849837996794,
          0.8489892887897689,
          0.8327960142444648,
          0.8166027396991606,
          0.8004094651538566,
          0.7842161906085525,
          0.7689652147332684,
          0.7537142388579842,
          0.7384632629826999,
          0.7232122871074158,
          0.7079613112321317,
          0.6927103353568475,
          0.6785473713677784,
          0.6643844073787095,
          0.6502214433896405,
          0.6360584794005715,
          0.6218955154115025,
          0.6077325514224335,
          0.5935695874333645,
          0.5794066234442955,
          0.5652436594552266,
          0.5510806954661576,
          0.536794384322567,
          0.5225080731789763,
          0.5082217620353857,
          0.4939354508917951,
          0.47964913974820444,
          0.46536282860461387,
          0.45107651746102323,
          0.4367902063174326,
          0.422503895173842,
          0.4082175840302514,
          0.39898982626161333,
          0.38976206849297523,
          0.3805343107243372,
          0.3713065529556991,
          0.36207879518706104,
          0.35285103741842294,
          0.3436232796497849,
          0.33439552188114685,
          0.32516776411250875,
          0.31594000634387065,
          0.3067122485752326,
          0.29748449080659456,
          0.28825673303795646,
          0.2790289752693184,
          0.2698012175006803,
          0.26057345973204227,
          0.2513457019634042,
          0.24211794419476612,
          0.23289018642612805,
          0.22366242865749
         ]
        }
       ],
       "layout": {
        "template": {
         "data": {
          "bar": [
           {
            "error_x": {
             "color": "#2a3f5f"
            },
            "error_y": {
             "color": "#2a3f5f"
            },
            "marker": {
             "line": {
              "color": "white",
              "width": 0.5
             },
             "pattern": {
              "fillmode": "overlay",
              "size": 10,
              "solidity": 0.2
             }
            },
            "type": "bar"
           }
          ],
          "barpolar": [
           {
            "marker": {
             "line": {
              "color": "white",
              "width": 0.5
             },
             "pattern": {
              "fillmode": "overlay",
              "size": 10,
              "solidity": 0.2
             }
            },
            "type": "barpolar"
           }
          ],
          "carpet": [
           {
            "aaxis": {
             "endlinecolor": "#2a3f5f",
             "gridcolor": "#C8D4E3",
             "linecolor": "#C8D4E3",
             "minorgridcolor": "#C8D4E3",
             "startlinecolor": "#2a3f5f"
            },
            "baxis": {
             "endlinecolor": "#2a3f5f",
             "gridcolor": "#C8D4E3",
             "linecolor": "#C8D4E3",
             "minorgridcolor": "#C8D4E3",
             "startlinecolor": "#2a3f5f"
            },
            "type": "carpet"
           }
          ],
          "choropleth": [
           {
            "colorbar": {
             "outlinewidth": 0,
             "ticks": ""
            },
            "type": "choropleth"
           }
          ],
          "contour": [
           {
            "colorbar": {
             "outlinewidth": 0,
             "ticks": ""
            },
            "colorscale": [
             [
              0,
              "#0d0887"
             ],
             [
              0.1111111111111111,
              "#46039f"
             ],
             [
              0.2222222222222222,
              "#7201a8"
             ],
             [
              0.3333333333333333,
              "#9c179e"
             ],
             [
              0.4444444444444444,
              "#bd3786"
             ],
             [
              0.5555555555555556,
              "#d8576b"
             ],
             [
              0.6666666666666666,
              "#ed7953"
             ],
             [
              0.7777777777777778,
              "#fb9f3a"
             ],
             [
              0.8888888888888888,
              "#fdca26"
             ],
             [
              1,
              "#f0f921"
             ]
            ],
            "type": "contour"
           }
          ],
          "contourcarpet": [
           {
            "colorbar": {
             "outlinewidth": 0,
             "ticks": ""
            },
            "type": "contourcarpet"
           }
          ],
          "heatmap": [
           {
            "colorbar": {
             "outlinewidth": 0,
             "ticks": ""
            },
            "colorscale": [
             [
              0,
              "#0d0887"
             ],
             [
              0.1111111111111111,
              "#46039f"
             ],
             [
              0.2222222222222222,
              "#7201a8"
             ],
             [
              0.3333333333333333,
              "#9c179e"
             ],
             [
              0.4444444444444444,
              "#bd3786"
             ],
             [
              0.5555555555555556,
              "#d8576b"
             ],
             [
              0.6666666666666666,
              "#ed7953"
             ],
             [
              0.7777777777777778,
              "#fb9f3a"
             ],
             [
              0.8888888888888888,
              "#fdca26"
             ],
             [
              1,
              "#f0f921"
             ]
            ],
            "type": "heatmap"
           }
          ],
          "heatmapgl": [
           {
            "colorbar": {
             "outlinewidth": 0,
             "ticks": ""
            },
            "colorscale": [
             [
              0,
              "#0d0887"
             ],
             [
              0.1111111111111111,
              "#46039f"
             ],
             [
              0.2222222222222222,
              "#7201a8"
             ],
             [
              0.3333333333333333,
              "#9c179e"
             ],
             [
              0.4444444444444444,
              "#bd3786"
             ],
             [
              0.5555555555555556,
              "#d8576b"
             ],
             [
              0.6666666666666666,
              "#ed7953"
             ],
             [
              0.7777777777777778,
              "#fb9f3a"
             ],
             [
              0.8888888888888888,
              "#fdca26"
             ],
             [
              1,
              "#f0f921"
             ]
            ],
            "type": "heatmapgl"
           }
          ],
          "histogram": [
           {
            "marker": {
             "pattern": {
              "fillmode": "overlay",
              "size": 10,
              "solidity": 0.2
             }
            },
            "type": "histogram"
           }
          ],
          "histogram2d": [
           {
            "colorbar": {
             "outlinewidth": 0,
             "ticks": ""
            },
            "colorscale": [
             [
              0,
              "#0d0887"
             ],
             [
              0.1111111111111111,
              "#46039f"
             ],
             [
              0.2222222222222222,
              "#7201a8"
             ],
             [
              0.3333333333333333,
              "#9c179e"
             ],
             [
              0.4444444444444444,
              "#bd3786"
             ],
             [
              0.5555555555555556,
              "#d8576b"
             ],
             [
              0.6666666666666666,
              "#ed7953"
             ],
             [
              0.7777777777777778,
              "#fb9f3a"
             ],
             [
              0.8888888888888888,
              "#fdca26"
             ],
             [
              1,
              "#f0f921"
             ]
            ],
            "type": "histogram2d"
           }
          ],
          "histogram2dcontour": [
           {
            "colorbar": {
             "outlinewidth": 0,
             "ticks": ""
            },
            "colorscale": [
             [
              0,
              "#0d0887"
             ],
             [
              0.1111111111111111,
              "#46039f"
             ],
             [
              0.2222222222222222,
              "#7201a8"
             ],
             [
              0.3333333333333333,
              "#9c179e"
             ],
             [
              0.4444444444444444,
              "#bd3786"
             ],
             [
              0.5555555555555556,
              "#d8576b"
             ],
             [
              0.6666666666666666,
              "#ed7953"
             ],
             [
              0.7777777777777778,
              "#fb9f3a"
             ],
             [
              0.8888888888888888,
              "#fdca26"
             ],
             [
              1,
              "#f0f921"
             ]
            ],
            "type": "histogram2dcontour"
           }
          ],
          "mesh3d": [
           {
            "colorbar": {
             "outlinewidth": 0,
             "ticks": ""
            },
            "type": "mesh3d"
           }
          ],
          "parcoords": [
           {
            "line": {
             "colorbar": {
              "outlinewidth": 0,
              "ticks": ""
             }
            },
            "type": "parcoords"
           }
          ],
          "pie": [
           {
            "automargin": true,
            "type": "pie"
           }
          ],
          "scatter": [
           {
            "fillpattern": {
             "fillmode": "overlay",
             "size": 10,
             "solidity": 0.2
            },
            "type": "scatter"
           }
          ],
          "scatter3d": [
           {
            "line": {
             "colorbar": {
              "outlinewidth": 0,
              "ticks": ""
             }
            },
            "marker": {
             "colorbar": {
              "outlinewidth": 0,
              "ticks": ""
             }
            },
            "type": "scatter3d"
           }
          ],
          "scattercarpet": [
           {
            "marker": {
             "colorbar": {
              "outlinewidth": 0,
              "ticks": ""
             }
            },
            "type": "scattercarpet"
           }
          ],
          "scattergeo": [
           {
            "marker": {
             "colorbar": {
              "outlinewidth": 0,
              "ticks": ""
             }
            },
            "type": "scattergeo"
           }
          ],
          "scattergl": [
           {
            "marker": {
             "colorbar": {
              "outlinewidth": 0,
              "ticks": ""
             }
            },
            "type": "scattergl"
           }
          ],
          "scattermapbox": [
           {
            "marker": {
             "colorbar": {
              "outlinewidth": 0,
              "ticks": ""
             }
            },
            "type": "scattermapbox"
           }
          ],
          "scatterpolar": [
           {
            "marker": {
             "colorbar": {
              "outlinewidth": 0,
              "ticks": ""
             }
            },
            "type": "scatterpolar"
           }
          ],
          "scatterpolargl": [
           {
            "marker": {
             "colorbar": {
              "outlinewidth": 0,
              "ticks": ""
             }
            },
            "type": "scatterpolargl"
           }
          ],
          "scatterternary": [
           {
            "marker": {
             "colorbar": {
              "outlinewidth": 0,
              "ticks": ""
             }
            },
            "type": "scatterternary"
           }
          ],
          "surface": [
           {
            "colorbar": {
             "outlinewidth": 0,
             "ticks": ""
            },
            "colorscale": [
             [
              0,
              "#0d0887"
             ],
             [
              0.1111111111111111,
              "#46039f"
             ],
             [
              0.2222222222222222,
              "#7201a8"
             ],
             [
              0.3333333333333333,
              "#9c179e"
             ],
             [
              0.4444444444444444,
              "#bd3786"
             ],
             [
              0.5555555555555556,
              "#d8576b"
             ],
             [
              0.6666666666666666,
              "#ed7953"
             ],
             [
              0.7777777777777778,
              "#fb9f3a"
             ],
             [
              0.8888888888888888,
              "#fdca26"
             ],
             [
              1,
              "#f0f921"
             ]
            ],
            "type": "surface"
           }
          ],
          "table": [
           {
            "cells": {
             "fill": {
              "color": "#EBF0F8"
             },
             "line": {
              "color": "white"
             }
            },
            "header": {
             "fill": {
              "color": "#C8D4E3"
             },
             "line": {
              "color": "white"
             }
            },
            "type": "table"
           }
          ]
         },
         "layout": {
          "annotationdefaults": {
           "arrowcolor": "#2a3f5f",
           "arrowhead": 0,
           "arrowwidth": 1
          },
          "autotypenumbers": "strict",
          "coloraxis": {
           "colorbar": {
            "outlinewidth": 0,
            "ticks": ""
           }
          },
          "colorscale": {
           "diverging": [
            [
             0,
             "#8e0152"
            ],
            [
             0.1,
             "#c51b7d"
            ],
            [
             0.2,
             "#de77ae"
            ],
            [
             0.3,
             "#f1b6da"
            ],
            [
             0.4,
             "#fde0ef"
            ],
            [
             0.5,
             "#f7f7f7"
            ],
            [
             0.6,
             "#e6f5d0"
            ],
            [
             0.7,
             "#b8e186"
            ],
            [
             0.8,
             "#7fbc41"
            ],
            [
             0.9,
             "#4d9221"
            ],
            [
             1,
             "#276419"
            ]
           ],
           "sequential": [
            [
             0,
             "#0d0887"
            ],
            [
             0.1111111111111111,
             "#46039f"
            ],
            [
             0.2222222222222222,
             "#7201a8"
            ],
            [
             0.3333333333333333,
             "#9c179e"
            ],
            [
             0.4444444444444444,
             "#bd3786"
            ],
            [
             0.5555555555555556,
             "#d8576b"
            ],
            [
             0.6666666666666666,
             "#ed7953"
            ],
            [
             0.7777777777777778,
             "#fb9f3a"
            ],
            [
             0.8888888888888888,
             "#fdca26"
            ],
            [
             1,
             "#f0f921"
            ]
           ],
           "sequentialminus": [
            [
             0,
             "#0d0887"
            ],
            [
             0.1111111111111111,
             "#46039f"
            ],
            [
             0.2222222222222222,
             "#7201a8"
            ],
            [
             0.3333333333333333,
             "#9c179e"
            ],
            [
             0.4444444444444444,
             "#bd3786"
            ],
            [
             0.5555555555555556,
             "#d8576b"
            ],
            [
             0.6666666666666666,
             "#ed7953"
            ],
            [
             0.7777777777777778,
             "#fb9f3a"
            ],
            [
             0.8888888888888888,
             "#fdca26"
            ],
            [
             1,
             "#f0f921"
            ]
           ]
          },
          "colorway": [
           "#636efa",
           "#EF553B",
           "#00cc96",
           "#ab63fa",
           "#FFA15A",
           "#19d3f3",
           "#FF6692",
           "#B6E880",
           "#FF97FF",
           "#FECB52"
          ],
          "font": {
           "color": "#2a3f5f"
          },
          "geo": {
           "bgcolor": "white",
           "lakecolor": "white",
           "landcolor": "white",
           "showlakes": true,
           "showland": true,
           "subunitcolor": "#C8D4E3"
          },
          "hoverlabel": {
           "align": "left"
          },
          "hovermode": "closest",
          "mapbox": {
           "style": "light"
          },
          "paper_bgcolor": "white",
          "plot_bgcolor": "white",
          "polar": {
           "angularaxis": {
            "gridcolor": "#EBF0F8",
            "linecolor": "#EBF0F8",
            "ticks": ""
           },
           "bgcolor": "white",
           "radialaxis": {
            "gridcolor": "#EBF0F8",
            "linecolor": "#EBF0F8",
            "ticks": ""
           }
          },
          "scene": {
           "xaxis": {
            "backgroundcolor": "white",
            "gridcolor": "#DFE8F3",
            "gridwidth": 2,
            "linecolor": "#EBF0F8",
            "showbackground": true,
            "ticks": "",
            "zerolinecolor": "#EBF0F8"
           },
           "yaxis": {
            "backgroundcolor": "white",
            "gridcolor": "#DFE8F3",
            "gridwidth": 2,
            "linecolor": "#EBF0F8",
            "showbackground": true,
            "ticks": "",
            "zerolinecolor": "#EBF0F8"
           },
           "zaxis": {
            "backgroundcolor": "white",
            "gridcolor": "#DFE8F3",
            "gridwidth": 2,
            "linecolor": "#EBF0F8",
            "showbackground": true,
            "ticks": "",
            "zerolinecolor": "#EBF0F8"
           }
          },
          "shapedefaults": {
           "line": {
            "color": "#2a3f5f"
           }
          },
          "ternary": {
           "aaxis": {
            "gridcolor": "#DFE8F3",
            "linecolor": "#A2B1C6",
            "ticks": ""
           },
           "baxis": {
            "gridcolor": "#DFE8F3",
            "linecolor": "#A2B1C6",
            "ticks": ""
           },
           "bgcolor": "white",
           "caxis": {
            "gridcolor": "#DFE8F3",
            "linecolor": "#A2B1C6",
            "ticks": ""
           }
          },
          "title": {
           "x": 0.05
          },
          "xaxis": {
           "automargin": true,
           "gridcolor": "#EBF0F8",
           "linecolor": "#EBF0F8",
           "ticks": "",
           "title": {
            "standoff": 15
           },
           "zerolinecolor": "#EBF0F8",
           "zerolinewidth": 2
          },
          "yaxis": {
           "automargin": true,
           "gridcolor": "#EBF0F8",
           "linecolor": "#EBF0F8",
           "ticks": "",
           "title": {
            "standoff": 15
           },
           "zerolinecolor": "#EBF0F8",
           "zerolinewidth": 2
          }
         }
        },
        "title": {
         "text": "IRS Discount Curve"
        },
        "xaxis": {
         "showgrid": true,
         "title": {
          "text": "Tenor (years)"
         }
        },
        "yaxis": {
         "showgrid": true,
         "title": {
          "text": "Discount Factor"
         }
        }
       }
      }
     },
     "metadata": {},
     "output_type": "display_data"
    }
   ],
   "source": [
    "plot_discount_curve(df=IRS_Interpolated_Data,\n",
    "                    discount_curve=\"IRS_Discount_Factor\",\n",
    "                    title=\"IRS Discount Curve\")"
   ]
  },
  {
   "cell_type": "markdown",
   "metadata": {},
   "source": [
    "# <a id = \"p4\">4.</a>  <font color = \"green\"> Forward swap rates </font>  [back to table of contents](#top)"
   ]
  },
  {
   "cell_type": "code",
   "execution_count": null,
   "metadata": {},
   "outputs": [
    {
     "data": {
      "text/html": [
       "<div>\n",
       "<style scoped>\n",
       "    .dataframe tbody tr th:only-of-type {\n",
       "        vertical-align: middle;\n",
       "    }\n",
       "\n",
       "    .dataframe tbody tr th {\n",
       "        vertical-align: top;\n",
       "    }\n",
       "\n",
       "    .dataframe thead th {\n",
       "        text-align: right;\n",
       "    }\n",
       "</style>\n",
       "<table border=\"1\" class=\"dataframe\">\n",
       "  <thead>\n",
       "    <tr style=\"text-align: right;\">\n",
       "      <th></th>\n",
       "      <th>Years</th>\n",
       "      <th>Rate</th>\n",
       "      <th>OIS_Discount_Factor</th>\n",
       "      <th>IRS_Discount_Factor</th>\n",
       "      <th>Forward_LIBOR</th>\n",
       "    </tr>\n",
       "  </thead>\n",
       "  <tbody>\n",
       "    <tr>\n",
       "      <th>0</th>\n",
       "      <td>0.5</td>\n",
       "      <td>0.025000</td>\n",
       "      <td>0.998752</td>\n",
       "      <td>0.987654</td>\n",
       "      <td>0.025000</td>\n",
       "    </tr>\n",
       "    <tr>\n",
       "      <th>1</th>\n",
       "      <td>1.0</td>\n",
       "      <td>0.028000</td>\n",
       "      <td>0.997009</td>\n",
       "      <td>0.972577</td>\n",
       "      <td>0.031245</td>\n",
       "    </tr>\n",
       "    <tr>\n",
       "      <th>2</th>\n",
       "      <td>1.5</td>\n",
       "      <td>0.029000</td>\n",
       "      <td>0.995270</td>\n",
       "      <td>0.957378</td>\n",
       "      <td>0.031242</td>\n",
       "    </tr>\n",
       "    <tr>\n",
       "      <th>3</th>\n",
       "      <td>2.0</td>\n",
       "      <td>0.030000</td>\n",
       "      <td>0.993531</td>\n",
       "      <td>0.942179</td>\n",
       "      <td>0.033275</td>\n",
       "    </tr>\n",
       "    <tr>\n",
       "      <th>4</th>\n",
       "      <td>2.5</td>\n",
       "      <td>0.030750</td>\n",
       "      <td>0.991773</td>\n",
       "      <td>0.926330</td>\n",
       "      <td>0.034038</td>\n",
       "    </tr>\n",
       "    <tr>\n",
       "      <th>5</th>\n",
       "      <td>3.0</td>\n",
       "      <td>0.031500</td>\n",
       "      <td>0.990015</td>\n",
       "      <td>0.910482</td>\n",
       "      <td>0.035565</td>\n",
       "    </tr>\n",
       "    <tr>\n",
       "      <th>6</th>\n",
       "      <td>3.5</td>\n",
       "      <td>0.032000</td>\n",
       "      <td>0.988066</td>\n",
       "      <td>0.894731</td>\n",
       "      <td>0.035309</td>\n",
       "    </tr>\n",
       "    <tr>\n",
       "      <th>7</th>\n",
       "      <td>4.0</td>\n",
       "      <td>0.032500</td>\n",
       "      <td>0.986117</td>\n",
       "      <td>0.878981</td>\n",
       "      <td>0.036328</td>\n",
       "    </tr>\n",
       "    <tr>\n",
       "      <th>8</th>\n",
       "      <td>4.5</td>\n",
       "      <td>0.032750</td>\n",
       "      <td>0.984150</td>\n",
       "      <td>0.863985</td>\n",
       "      <td>0.035053</td>\n",
       "    </tr>\n",
       "    <tr>\n",
       "      <th>9</th>\n",
       "      <td>5.0</td>\n",
       "      <td>0.033000</td>\n",
       "      <td>0.982184</td>\n",
       "      <td>0.848989</td>\n",
       "      <td>0.035562</td>\n",
       "    </tr>\n",
       "    <tr>\n",
       "      <th>10</th>\n",
       "      <td>5.5</td>\n",
       "      <td>0.033500</td>\n",
       "      <td>0.979740</td>\n",
       "      <td>0.832796</td>\n",
       "      <td>0.038877</td>\n",
       "    </tr>\n",
       "    <tr>\n",
       "      <th>11</th>\n",
       "      <td>6.0</td>\n",
       "      <td>0.034000</td>\n",
       "      <td>0.977295</td>\n",
       "      <td>0.816603</td>\n",
       "      <td>0.039898</td>\n",
       "    </tr>\n",
       "    <tr>\n",
       "      <th>12</th>\n",
       "      <td>6.5</td>\n",
       "      <td>0.034500</td>\n",
       "      <td>0.974850</td>\n",
       "      <td>0.800409</td>\n",
       "      <td>0.040920</td>\n",
       "    </tr>\n",
       "    <tr>\n",
       "      <th>13</th>\n",
       "      <td>7.0</td>\n",
       "      <td>0.035000</td>\n",
       "      <td>0.972406</td>\n",
       "      <td>0.784216</td>\n",
       "      <td>0.041942</td>\n",
       "    </tr>\n",
       "    <tr>\n",
       "      <th>14</th>\n",
       "      <td>7.5</td>\n",
       "      <td>0.035333</td>\n",
       "      <td>0.969668</td>\n",
       "      <td>0.768965</td>\n",
       "      <td>0.040406</td>\n",
       "    </tr>\n",
       "    <tr>\n",
       "      <th>15</th>\n",
       "      <td>8.0</td>\n",
       "      <td>0.035667</td>\n",
       "      <td>0.966929</td>\n",
       "      <td>0.753714</td>\n",
       "      <td>0.041087</td>\n",
       "    </tr>\n",
       "    <tr>\n",
       "      <th>16</th>\n",
       "      <td>8.5</td>\n",
       "      <td>0.036000</td>\n",
       "      <td>0.964191</td>\n",
       "      <td>0.738463</td>\n",
       "      <td>0.041768</td>\n",
       "    </tr>\n",
       "    <tr>\n",
       "      <th>17</th>\n",
       "      <td>9.0</td>\n",
       "      <td>0.036333</td>\n",
       "      <td>0.961453</td>\n",
       "      <td>0.723212</td>\n",
       "      <td>0.042450</td>\n",
       "    </tr>\n",
       "    <tr>\n",
       "      <th>18</th>\n",
       "      <td>9.5</td>\n",
       "      <td>0.036667</td>\n",
       "      <td>0.958715</td>\n",
       "      <td>0.707961</td>\n",
       "      <td>0.043131</td>\n",
       "    </tr>\n",
       "    <tr>\n",
       "      <th>19</th>\n",
       "      <td>10.0</td>\n",
       "      <td>0.037000</td>\n",
       "      <td>0.955977</td>\n",
       "      <td>0.692710</td>\n",
       "      <td>0.043813</td>\n",
       "    </tr>\n",
       "    <tr>\n",
       "      <th>20</th>\n",
       "      <td>10.5</td>\n",
       "      <td>0.037300</td>\n",
       "      <td>0.953140</td>\n",
       "      <td>0.678547</td>\n",
       "      <td>0.043778</td>\n",
       "    </tr>\n",
       "    <tr>\n",
       "      <th>21</th>\n",
       "      <td>11.0</td>\n",
       "      <td>0.037600</td>\n",
       "      <td>0.950304</td>\n",
       "      <td>0.664384</td>\n",
       "      <td>0.044392</td>\n",
       "    </tr>\n",
       "    <tr>\n",
       "      <th>22</th>\n",
       "      <td>11.5</td>\n",
       "      <td>0.037900</td>\n",
       "      <td>0.947467</td>\n",
       "      <td>0.650221</td>\n",
       "      <td>0.045006</td>\n",
       "    </tr>\n",
       "    <tr>\n",
       "      <th>23</th>\n",
       "      <td>12.0</td>\n",
       "      <td>0.038200</td>\n",
       "      <td>0.944631</td>\n",
       "      <td>0.636058</td>\n",
       "      <td>0.045621</td>\n",
       "    </tr>\n",
       "    <tr>\n",
       "      <th>24</th>\n",
       "      <td>12.5</td>\n",
       "      <td>0.038500</td>\n",
       "      <td>0.941794</td>\n",
       "      <td>0.621896</td>\n",
       "      <td>0.046236</td>\n",
       "    </tr>\n",
       "    <tr>\n",
       "      <th>25</th>\n",
       "      <td>13.0</td>\n",
       "      <td>0.038800</td>\n",
       "      <td>0.938958</td>\n",
       "      <td>0.607733</td>\n",
       "      <td>0.046851</td>\n",
       "    </tr>\n",
       "    <tr>\n",
       "      <th>26</th>\n",
       "      <td>13.5</td>\n",
       "      <td>0.039100</td>\n",
       "      <td>0.936121</td>\n",
       "      <td>0.593570</td>\n",
       "      <td>0.047466</td>\n",
       "    </tr>\n",
       "    <tr>\n",
       "      <th>27</th>\n",
       "      <td>14.0</td>\n",
       "      <td>0.039400</td>\n",
       "      <td>0.933285</td>\n",
       "      <td>0.579407</td>\n",
       "      <td>0.048081</td>\n",
       "    </tr>\n",
       "    <tr>\n",
       "      <th>28</th>\n",
       "      <td>14.5</td>\n",
       "      <td>0.039700</td>\n",
       "      <td>0.930448</td>\n",
       "      <td>0.565244</td>\n",
       "      <td>0.048697</td>\n",
       "    </tr>\n",
       "    <tr>\n",
       "      <th>29</th>\n",
       "      <td>15.0</td>\n",
       "      <td>0.040000</td>\n",
       "      <td>0.927611</td>\n",
       "      <td>0.551081</td>\n",
       "      <td>0.049313</td>\n",
       "    </tr>\n",
       "    <tr>\n",
       "      <th>30</th>\n",
       "      <td>15.5</td>\n",
       "      <td>0.040500</td>\n",
       "      <td>0.924858</td>\n",
       "      <td>0.536794</td>\n",
       "      <td>0.056329</td>\n",
       "    </tr>\n",
       "    <tr>\n",
       "      <th>31</th>\n",
       "      <td>16.0</td>\n",
       "      <td>0.041000</td>\n",
       "      <td>0.922104</td>\n",
       "      <td>0.522508</td>\n",
       "      <td>0.057361</td>\n",
       "    </tr>\n",
       "    <tr>\n",
       "      <th>32</th>\n",
       "      <td>16.5</td>\n",
       "      <td>0.041500</td>\n",
       "      <td>0.919351</td>\n",
       "      <td>0.508222</td>\n",
       "      <td>0.058393</td>\n",
       "    </tr>\n",
       "    <tr>\n",
       "      <th>33</th>\n",
       "      <td>17.0</td>\n",
       "      <td>0.042000</td>\n",
       "      <td>0.916597</td>\n",
       "      <td>0.493935</td>\n",
       "      <td>0.059426</td>\n",
       "    </tr>\n",
       "    <tr>\n",
       "      <th>34</th>\n",
       "      <td>17.5</td>\n",
       "      <td>0.042500</td>\n",
       "      <td>0.913844</td>\n",
       "      <td>0.479649</td>\n",
       "      <td>0.060460</td>\n",
       "    </tr>\n",
       "    <tr>\n",
       "      <th>35</th>\n",
       "      <td>18.0</td>\n",
       "      <td>0.043000</td>\n",
       "      <td>0.911090</td>\n",
       "      <td>0.465363</td>\n",
       "      <td>0.061495</td>\n",
       "    </tr>\n",
       "    <tr>\n",
       "      <th>36</th>\n",
       "      <td>18.5</td>\n",
       "      <td>0.043500</td>\n",
       "      <td>0.908337</td>\n",
       "      <td>0.451077</td>\n",
       "      <td>0.062530</td>\n",
       "    </tr>\n",
       "    <tr>\n",
       "      <th>37</th>\n",
       "      <td>19.0</td>\n",
       "      <td>0.044000</td>\n",
       "      <td>0.905583</td>\n",
       "      <td>0.436790</td>\n",
       "      <td>0.063566</td>\n",
       "    </tr>\n",
       "    <tr>\n",
       "      <th>38</th>\n",
       "      <td>19.5</td>\n",
       "      <td>0.044500</td>\n",
       "      <td>0.902829</td>\n",
       "      <td>0.422504</td>\n",
       "      <td>0.064602</td>\n",
       "    </tr>\n",
       "    <tr>\n",
       "      <th>39</th>\n",
       "      <td>20.0</td>\n",
       "      <td>0.045000</td>\n",
       "      <td>0.900076</td>\n",
       "      <td>0.408218</td>\n",
       "      <td>0.065639</td>\n",
       "    </tr>\n",
       "    <tr>\n",
       "      <th>40</th>\n",
       "      <td>20.5</td>\n",
       "      <td>0.045250</td>\n",
       "      <td>0.897442</td>\n",
       "      <td>0.398990</td>\n",
       "      <td>0.056039</td>\n",
       "    </tr>\n",
       "    <tr>\n",
       "      <th>41</th>\n",
       "      <td>21.0</td>\n",
       "      <td>0.045500</td>\n",
       "      <td>0.894809</td>\n",
       "      <td>0.389762</td>\n",
       "      <td>0.056554</td>\n",
       "    </tr>\n",
       "    <tr>\n",
       "      <th>42</th>\n",
       "      <td>21.5</td>\n",
       "      <td>0.045750</td>\n",
       "      <td>0.892176</td>\n",
       "      <td>0.380534</td>\n",
       "      <td>0.057069</td>\n",
       "    </tr>\n",
       "    <tr>\n",
       "      <th>43</th>\n",
       "      <td>22.0</td>\n",
       "      <td>0.046000</td>\n",
       "      <td>0.889542</td>\n",
       "      <td>0.371307</td>\n",
       "      <td>0.057585</td>\n",
       "    </tr>\n",
       "    <tr>\n",
       "      <th>44</th>\n",
       "      <td>22.5</td>\n",
       "      <td>0.046250</td>\n",
       "      <td>0.886909</td>\n",
       "      <td>0.362079</td>\n",
       "      <td>0.058101</td>\n",
       "    </tr>\n",
       "    <tr>\n",
       "      <th>45</th>\n",
       "      <td>23.0</td>\n",
       "      <td>0.046500</td>\n",
       "      <td>0.884275</td>\n",
       "      <td>0.352851</td>\n",
       "      <td>0.058616</td>\n",
       "    </tr>\n",
       "    <tr>\n",
       "      <th>46</th>\n",
       "      <td>23.5</td>\n",
       "      <td>0.046750</td>\n",
       "      <td>0.881642</td>\n",
       "      <td>0.343623</td>\n",
       "      <td>0.059132</td>\n",
       "    </tr>\n",
       "    <tr>\n",
       "      <th>47</th>\n",
       "      <td>24.0</td>\n",
       "      <td>0.047000</td>\n",
       "      <td>0.879008</td>\n",
       "      <td>0.334396</td>\n",
       "      <td>0.059648</td>\n",
       "    </tr>\n",
       "    <tr>\n",
       "      <th>48</th>\n",
       "      <td>24.5</td>\n",
       "      <td>0.047250</td>\n",
       "      <td>0.876375</td>\n",
       "      <td>0.325168</td>\n",
       "      <td>0.060165</td>\n",
       "    </tr>\n",
       "    <tr>\n",
       "      <th>49</th>\n",
       "      <td>25.0</td>\n",
       "      <td>0.047500</td>\n",
       "      <td>0.873741</td>\n",
       "      <td>0.315940</td>\n",
       "      <td>0.060681</td>\n",
       "    </tr>\n",
       "    <tr>\n",
       "      <th>50</th>\n",
       "      <td>25.5</td>\n",
       "      <td>0.047750</td>\n",
       "      <td>0.871108</td>\n",
       "      <td>0.306712</td>\n",
       "      <td>0.061198</td>\n",
       "    </tr>\n",
       "    <tr>\n",
       "      <th>51</th>\n",
       "      <td>26.0</td>\n",
       "      <td>0.048000</td>\n",
       "      <td>0.868474</td>\n",
       "      <td>0.297484</td>\n",
       "      <td>0.061714</td>\n",
       "    </tr>\n",
       "    <tr>\n",
       "      <th>52</th>\n",
       "      <td>26.5</td>\n",
       "      <td>0.048250</td>\n",
       "      <td>0.865841</td>\n",
       "      <td>0.288257</td>\n",
       "      <td>0.062231</td>\n",
       "    </tr>\n",
       "    <tr>\n",
       "      <th>53</th>\n",
       "      <td>27.0</td>\n",
       "      <td>0.048500</td>\n",
       "      <td>0.863207</td>\n",
       "      <td>0.279029</td>\n",
       "      <td>0.062748</td>\n",
       "    </tr>\n",
       "    <tr>\n",
       "      <th>54</th>\n",
       "      <td>27.5</td>\n",
       "      <td>0.048750</td>\n",
       "      <td>0.860574</td>\n",
       "      <td>0.269801</td>\n",
       "      <td>0.063266</td>\n",
       "    </tr>\n",
       "    <tr>\n",
       "      <th>55</th>\n",
       "      <td>28.0</td>\n",
       "      <td>0.049000</td>\n",
       "      <td>0.857941</td>\n",
       "      <td>0.260573</td>\n",
       "      <td>0.063783</td>\n",
       "    </tr>\n",
       "    <tr>\n",
       "      <th>56</th>\n",
       "      <td>28.5</td>\n",
       "      <td>0.049250</td>\n",
       "      <td>0.855307</td>\n",
       "      <td>0.251346</td>\n",
       "      <td>0.064300</td>\n",
       "    </tr>\n",
       "    <tr>\n",
       "      <th>57</th>\n",
       "      <td>29.0</td>\n",
       "      <td>0.049500</td>\n",
       "      <td>0.852674</td>\n",
       "      <td>0.242118</td>\n",
       "      <td>0.064818</td>\n",
       "    </tr>\n",
       "    <tr>\n",
       "      <th>58</th>\n",
       "      <td>29.5</td>\n",
       "      <td>0.049750</td>\n",
       "      <td>0.850040</td>\n",
       "      <td>0.232890</td>\n",
       "      <td>0.065336</td>\n",
       "    </tr>\n",
       "    <tr>\n",
       "      <th>59</th>\n",
       "      <td>30.0</td>\n",
       "      <td>0.050000</td>\n",
       "      <td>0.847407</td>\n",
       "      <td>0.223662</td>\n",
       "      <td>0.065854</td>\n",
       "    </tr>\n",
       "  </tbody>\n",
       "</table>\n",
       "</div>"
      ],
      "text/plain": [
       "    Years      Rate  OIS_Discount_Factor  IRS_Discount_Factor  Forward_LIBOR\n",
       "0     0.5  0.025000             0.998752             0.987654       0.025000\n",
       "1     1.0  0.028000             0.997009             0.972577       0.031245\n",
       "2     1.5  0.029000             0.995270             0.957378       0.031242\n",
       "3     2.0  0.030000             0.993531             0.942179       0.033275\n",
       "4     2.5  0.030750             0.991773             0.926330       0.034038\n",
       "5     3.0  0.031500             0.990015             0.910482       0.035565\n",
       "6     3.5  0.032000             0.988066             0.894731       0.035309\n",
       "7     4.0  0.032500             0.986117             0.878981       0.036328\n",
       "8     4.5  0.032750             0.984150             0.863985       0.035053\n",
       "9     5.0  0.033000             0.982184             0.848989       0.035562\n",
       "10    5.5  0.033500             0.979740             0.832796       0.038877\n",
       "11    6.0  0.034000             0.977295             0.816603       0.039898\n",
       "12    6.5  0.034500             0.974850             0.800409       0.040920\n",
       "13    7.0  0.035000             0.972406             0.784216       0.041942\n",
       "14    7.5  0.035333             0.969668             0.768965       0.040406\n",
       "15    8.0  0.035667             0.966929             0.753714       0.041087\n",
       "16    8.5  0.036000             0.964191             0.738463       0.041768\n",
       "17    9.0  0.036333             0.961453             0.723212       0.042450\n",
       "18    9.5  0.036667             0.958715             0.707961       0.043131\n",
       "19   10.0  0.037000             0.955977             0.692710       0.043813\n",
       "20   10.5  0.037300             0.953140             0.678547       0.043778\n",
       "21   11.0  0.037600             0.950304             0.664384       0.044392\n",
       "22   11.5  0.037900             0.947467             0.650221       0.045006\n",
       "23   12.0  0.038200             0.944631             0.636058       0.045621\n",
       "24   12.5  0.038500             0.941794             0.621896       0.046236\n",
       "25   13.0  0.038800             0.938958             0.607733       0.046851\n",
       "26   13.5  0.039100             0.936121             0.593570       0.047466\n",
       "27   14.0  0.039400             0.933285             0.579407       0.048081\n",
       "28   14.5  0.039700             0.930448             0.565244       0.048697\n",
       "29   15.0  0.040000             0.927611             0.551081       0.049313\n",
       "30   15.5  0.040500             0.924858             0.536794       0.056329\n",
       "31   16.0  0.041000             0.922104             0.522508       0.057361\n",
       "32   16.5  0.041500             0.919351             0.508222       0.058393\n",
       "33   17.0  0.042000             0.916597             0.493935       0.059426\n",
       "34   17.5  0.042500             0.913844             0.479649       0.060460\n",
       "35   18.0  0.043000             0.911090             0.465363       0.061495\n",
       "36   18.5  0.043500             0.908337             0.451077       0.062530\n",
       "37   19.0  0.044000             0.905583             0.436790       0.063566\n",
       "38   19.5  0.044500             0.902829             0.422504       0.064602\n",
       "39   20.0  0.045000             0.900076             0.408218       0.065639\n",
       "40   20.5  0.045250             0.897442             0.398990       0.056039\n",
       "41   21.0  0.045500             0.894809             0.389762       0.056554\n",
       "42   21.5  0.045750             0.892176             0.380534       0.057069\n",
       "43   22.0  0.046000             0.889542             0.371307       0.057585\n",
       "44   22.5  0.046250             0.886909             0.362079       0.058101\n",
       "45   23.0  0.046500             0.884275             0.352851       0.058616\n",
       "46   23.5  0.046750             0.881642             0.343623       0.059132\n",
       "47   24.0  0.047000             0.879008             0.334396       0.059648\n",
       "48   24.5  0.047250             0.876375             0.325168       0.060165\n",
       "49   25.0  0.047500             0.873741             0.315940       0.060681\n",
       "50   25.5  0.047750             0.871108             0.306712       0.061198\n",
       "51   26.0  0.048000             0.868474             0.297484       0.061714\n",
       "52   26.5  0.048250             0.865841             0.288257       0.062231\n",
       "53   27.0  0.048500             0.863207             0.279029       0.062748\n",
       "54   27.5  0.048750             0.860574             0.269801       0.063266\n",
       "55   28.0  0.049000             0.857941             0.260573       0.063783\n",
       "56   28.5  0.049250             0.855307             0.251346       0.064300\n",
       "57   29.0  0.049500             0.852674             0.242118       0.064818\n",
       "58   29.5  0.049750             0.850040             0.232890       0.065336\n",
       "59   30.0  0.050000             0.847407             0.223662       0.065854"
      ]
     },
     "execution_count": 21,
     "metadata": {},
     "output_type": "execute_result"
    }
   ],
   "source": [
    "IRS_Interpolated_Data.reset_index(names=\"Years\",inplace=True)\n",
    "IRS_Interpolated_Data"
   ]
  },
  {
   "cell_type": "code",
   "execution_count": null,
   "metadata": {},
   "outputs": [],
   "source": [
    "Forward_swap_rates_df = pd.DataFrame({'Start' : [1]*5 + [5]*5 + [10]*5,\n",
    "                                    'Tenor' : [1,2,3,5,10]*3, \n",
    "                                    'Forward_Swap_Rates': [np.nan]*15})\n",
    "\n",
    "for i in Forward_swap_rates_df.index:\n",
    "    def equation(S, \n",
    "                 start = Forward_swap_rates_df.at[i, 'Start'], \n",
    "                 tenor = Forward_swap_rates_df.at[i, 'Tenor'], \n",
    "                 irs = IRS_Interpolated_Data):\n",
    "        \n",
    "        # Create a subset irs1 that only contains the rows from IRS_Interpolated_Data where the Years column falls within the start and start + tenor period.\n",
    "        irs1 = irs[(irs['Years'] > start)&(irs['Years'] <= start+tenor)].copy()\n",
    "\n",
    "        # Calculating the Fixed Leg Sum\n",
    "        sum1 = 0\n",
    "        for i in irs1.index:\n",
    "                sum1 += \\\n",
    "                    (\n",
    "                        irs.at[i, 'OIS_Discount_Factor']\n",
    "                        *\n",
    "                        irs.at[i-1, 'IRS_Discount_Factor']\n",
    "                        /\n",
    "                        irs.at[i, 'IRS_Discount_Factor']\n",
    "                        *\n",
    "                        2\n",
    "                    )\n",
    "        \n",
    "        # Calculating the Floating Leg Sum\n",
    "        sum2 = (S+2)*np.sum(irs1['OIS_Discount_Factor'])\n",
    "        \n",
    "        # Return the Difference for Root-Finding\n",
    "        return sum1-sum2\n",
    "\n",
    "    Forward_swap_rates_df.iloc[i, Forward_swap_rates_df.columns.get_loc(\"Forward_Swap_Rates\")] = brentq(equation, 0.0001, 0.5)"
   ]
  },
  {
   "cell_type": "code",
   "execution_count": null,
   "metadata": {},
   "outputs": [
    {
     "data": {
      "text/html": [
       "<div>\n",
       "<style scoped>\n",
       "    .dataframe tbody tr th:only-of-type {\n",
       "        vertical-align: middle;\n",
       "    }\n",
       "\n",
       "    .dataframe tbody tr th {\n",
       "        vertical-align: top;\n",
       "    }\n",
       "\n",
       "    .dataframe thead th {\n",
       "        text-align: right;\n",
       "    }\n",
       "</style>\n",
       "<table border=\"1\" class=\"dataframe\">\n",
       "  <thead>\n",
       "    <tr style=\"text-align: right;\">\n",
       "      <th></th>\n",
       "      <th>Start</th>\n",
       "      <th>Tenor</th>\n",
       "      <th>Forward_Swap_Rates</th>\n",
       "    </tr>\n",
       "  </thead>\n",
       "  <tbody>\n",
       "    <tr>\n",
       "      <th>0</th>\n",
       "      <td>1</td>\n",
       "      <td>1</td>\n",
       "      <td>0.032007</td>\n",
       "    </tr>\n",
       "    <tr>\n",
       "      <th>1</th>\n",
       "      <td>1</td>\n",
       "      <td>2</td>\n",
       "      <td>0.033259</td>\n",
       "    </tr>\n",
       "    <tr>\n",
       "      <th>2</th>\n",
       "      <td>1</td>\n",
       "      <td>3</td>\n",
       "      <td>0.034011</td>\n",
       "    </tr>\n",
       "    <tr>\n",
       "      <th>3</th>\n",
       "      <td>1</td>\n",
       "      <td>5</td>\n",
       "      <td>0.035255</td>\n",
       "    </tr>\n",
       "    <tr>\n",
       "      <th>4</th>\n",
       "      <td>1</td>\n",
       "      <td>10</td>\n",
       "      <td>0.038428</td>\n",
       "    </tr>\n",
       "    <tr>\n",
       "      <th>5</th>\n",
       "      <td>5</td>\n",
       "      <td>1</td>\n",
       "      <td>0.039274</td>\n",
       "    </tr>\n",
       "    <tr>\n",
       "      <th>6</th>\n",
       "      <td>5</td>\n",
       "      <td>2</td>\n",
       "      <td>0.040075</td>\n",
       "    </tr>\n",
       "    <tr>\n",
       "      <th>7</th>\n",
       "      <td>5</td>\n",
       "      <td>3</td>\n",
       "      <td>0.040072</td>\n",
       "    </tr>\n",
       "    <tr>\n",
       "      <th>8</th>\n",
       "      <td>5</td>\n",
       "      <td>5</td>\n",
       "      <td>0.041093</td>\n",
       "    </tr>\n",
       "    <tr>\n",
       "      <th>9</th>\n",
       "      <td>5</td>\n",
       "      <td>10</td>\n",
       "      <td>0.043634</td>\n",
       "    </tr>\n",
       "    <tr>\n",
       "      <th>10</th>\n",
       "      <td>10</td>\n",
       "      <td>1</td>\n",
       "      <td>0.042189</td>\n",
       "    </tr>\n",
       "    <tr>\n",
       "      <th>11</th>\n",
       "      <td>10</td>\n",
       "      <td>2</td>\n",
       "      <td>0.043116</td>\n",
       "    </tr>\n",
       "    <tr>\n",
       "      <th>12</th>\n",
       "      <td>10</td>\n",
       "      <td>3</td>\n",
       "      <td>0.044097</td>\n",
       "    </tr>\n",
       "    <tr>\n",
       "      <th>13</th>\n",
       "      <td>10</td>\n",
       "      <td>5</td>\n",
       "      <td>0.046249</td>\n",
       "    </tr>\n",
       "    <tr>\n",
       "      <th>14</th>\n",
       "      <td>10</td>\n",
       "      <td>10</td>\n",
       "      <td>0.053458</td>\n",
       "    </tr>\n",
       "  </tbody>\n",
       "</table>\n",
       "</div>"
      ],
      "text/plain": [
       "    Start  Tenor  Forward_Swap_Rates\n",
       "0       1      1            0.032007\n",
       "1       1      2            0.033259\n",
       "2       1      3            0.034011\n",
       "3       1      5            0.035255\n",
       "4       1     10            0.038428\n",
       "5       5      1            0.039274\n",
       "6       5      2            0.040075\n",
       "7       5      3            0.040072\n",
       "8       5      5            0.041093\n",
       "9       5     10            0.043634\n",
       "10     10      1            0.042189\n",
       "11     10      2            0.043116\n",
       "12     10      3            0.044097\n",
       "13     10      5            0.046249\n",
       "14     10     10            0.053458"
      ]
     },
     "execution_count": 23,
     "metadata": {},
     "output_type": "execute_result"
    }
   ],
   "source": [
    "Forward_swap_rates_df"
   ]
  },
  {
   "cell_type": "code",
   "execution_count": null,
   "metadata": {},
   "outputs": [],
   "source": [
    "Forward_swap_rates_df.to_csv(\"Forward_swap_rates_df.csv\",index=False)"
   ]
  },
  {
   "cell_type": "code",
   "execution_count": null,
   "metadata": {},
   "outputs": [],
   "source": [
    "IRS_Interpolated_Data.to_csv(\"Discount_Factors.csv\",index=False)"
   ]
  }
 ],
 "metadata": {
  "kernelspec": {
   "display_name": "Python 3",
   "language": "python",
   "name": "python3"
  },
  "language_info": {
   "codemirror_mode": {
    "name": "ipython",
    "version": 3
   },
   "file_extension": ".py",
   "mimetype": "text/x-python",
   "name": "python",
   "nbconvert_exporter": "python",
   "pygments_lexer": "ipython3",
   "version": "3.12.0"
  }
 },
 "nbformat": 4,
 "nbformat_minor": 2
}
