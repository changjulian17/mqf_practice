{
 "cells": [
  {
   "cell_type": "markdown",
   "metadata": {},
   "source": [
    "# Bootstrapping Swap Curves"
   ]
  },
  {
   "cell_type": "markdown",
   "metadata": {},
   "source": [
    "# 👉 <a id = \"top\">Table of Contents</a> 👈 "
   ]
  },
  {
   "cell_type": "markdown",
   "metadata": {},
   "source": [
    "# [1. Helper Functions](#p1)\n",
    "\n",
    "# [2. Bootstrap the OIS Discount Factor](#p2)\n",
    "## [- BootStrapped OIS Discount Factors](#p2a)\n",
    "## [- BootStrapped OIS Discount Curve](#p2b)\n",
    "\n",
    "# [3. Bootstrap the LIBOR Discount Factor](#p3)\n",
    "## [- BootStrapped LIBOR Discount Factors](#p3a)\n",
    "## [- BootStrapped LIBOR Discount Curve](#p3b)\n",
    "\n",
    "# [4. Forward swap rates](#p4)\n",
    "\n",
    "# [5. Appendix](#p5)"
   ]
  },
  {
   "cell_type": "code",
   "execution_count": 4126,
   "metadata": {},
   "outputs": [],
   "source": [
    "import math\n",
    "import numpy as np\n",
    "\n",
    "import scipy.stats as si\n",
    "from scipy.stats import norm\n",
    "\n",
    "from scipy.optimize import fsolve\n",
    "from scipy.optimize import brentq\n",
    "\n",
    "from matplotlib import pyplot as plt\n",
    "from matplotlib.widgets import Slider, Button, RadioButtons\n",
    "import plotly.graph_objects as go\n",
    "import pandas as pd\n",
    "import datetime as dt\n",
    "\n",
    "import warnings\n",
    "warnings.filterwarnings('ignore') "
   ]
  },
  {
   "cell_type": "code",
   "execution_count": 4127,
   "metadata": {},
   "outputs": [],
   "source": [
    "OIS_fixed_leg_frequency = 360"
   ]
  },
  {
   "cell_type": "markdown",
   "metadata": {},
   "source": [
    "# <a id = \"p1\">1.</a>  <font color = \"green\"> Helper Functions </font>  [back to table of contents](#top)"
   ]
  },
  {
   "cell_type": "code",
   "execution_count": 4129,
   "metadata": {},
   "outputs": [],
   "source": [
    "def tenor_to_days_and_years_OIS(data: pd.DataFrame) -> pd.DataFrame:\n",
    "    if \"Tenor\" not in data.columns:\n",
    "        raise KeyError(\"Column 'Tenor' is missing from the DataFrame.\")\n",
    "\n",
    "    data[\"Tenor_Number\"] = data[\"Tenor\"].str[:-1].astype(int)\n",
    "    data[\"Tenor_Unit\"] = data[\"Tenor\"].str[-1]\n",
    "\n",
    "    data[\"Days\"] = np.where(\n",
    "        data[\"Tenor_Unit\"] == \"m\", \n",
    "        data[\"Tenor_Number\"] * 30,\n",
    "        np.where(data[\"Tenor_Unit\"] == \"y\", \n",
    "                 data[\"Tenor_Number\"] * 360, \n",
    "                 np.nan)\n",
    "    )\n",
    "\n",
    "    data[\"Years\"] = data[\"Days\"] / 360\n",
    "\n",
    "    data.drop(columns=[\"Tenor_Number\", \"Tenor_Unit\"], inplace=True)\n",
    "\n",
    "    years = [i for i in np.arange(1.0,30)]\n",
    "    data[['f', 'OIS_Discount_Factor']] = np.nan\n",
    "    data = data.merge(pd.DataFrame({\"Years\": years}),\n",
    "                   how='outer')\n",
    "    return data"
   ]
  },
  {
   "cell_type": "markdown",
   "metadata": {},
   "source": [
    "# <a id = \"p2\">2.</a>  <font color = \"green\"> Bootstrap the OIS discount factor </font>  [back to table of contents](#top)"
   ]
  },
  {
   "cell_type": "code",
   "execution_count": 4131,
   "metadata": {},
   "outputs": [],
   "source": [
    "OIS_data = pd.read_excel(\"IR Data.xlsx\",\n",
    "                         sheet_name=\"OIS\",\n",
    "                         usecols=\"A:C\")\n",
    "\n",
    "tenors = OIS_data[\"Tenor\"]\n",
    "\n",
    "def tenor_to_years(tenor):\n",
    "    if 'm' in tenor:\n",
    "        return int(tenor.replace('m', '')) / 12\n",
    "    elif 'y' in tenor:\n",
    "        return int(tenor.replace('y', ''))\n",
    "    else:\n",
    "        return None"
   ]
  },
  {
   "cell_type": "code",
   "execution_count": 4132,
   "metadata": {},
   "outputs": [],
   "source": [
    "OIS_data = tenor_to_days_and_years_OIS(OIS_data)"
   ]
  },
  {
   "cell_type": "markdown",
   "metadata": {},
   "source": [
    "### Setting Initial Short Rate \\( f_0 \\)\n",
    "\n",
    "This code computes the **short-term instantaneous forward rate** \\( f_0 \\) for the given 6-month zero rate of 0.25%.\n",
    "\n",
    "#### Formula:\n",
    "$$\n",
    "f_0 = 360 \\left[ \\left(1 + 0.5 \\cdot r\\right)^{\\frac{1}{180}} - 1 \\right]\n",
    "$$\n",
    "\n",
    "Where:\n",
    "- \\( r = 0.0025 \\): 6-month zero rate (0.25%)\n",
    "- \\( 180 \\): number of days in 6 months\n",
    "- \\( f_0 \\): annualized short forward rate for the first day\n",
    "\n",
    "This formula estimates the **instantaneous forward rate** implied by the compounded 6-month return, annualized on a 360-day basis.\n"
   ]
  },
  {
   "cell_type": "code",
   "execution_count": 4134,
   "metadata": {},
   "outputs": [],
   "source": [
    "f_0 = 360 * ((0.5*.0025+1)**(1/180)-1)\n",
    "OIS_data.at[0,'f'] = f_0"
   ]
  },
  {
   "cell_type": "markdown",
   "metadata": {},
   "source": [
    "### Calculating the First-Year Zero Rate and OIS Discount Factor\n",
    "\n",
    "This snippet solves for the implied zero rate from 0.5 to 1 year by equating the present value (PV) of the fixed and floating legs of a 1-year payer OIS swap.\n",
    "\n",
    "#### Explanation\n",
    "\n",
    "- **Goal**: Solve for the implied zero rate \\( f_1 \\) for the period \\( [0.5, 1] \\) such that the PV of the fixed leg equals the PV of the floating leg.\n",
    "- The function `payer_ois_swap_1y` defines the equation to be solved:\n",
    "  $$\n",
    "  \\text{Fixed Leg} - \\text{Floating Leg} = 0\n",
    "  $$\n",
    "- The floating leg value is computed from a known initial discount factor and swap conventions.\n",
    "- The final line updates the OIS discount factor using the solved forward rate.\n",
    "\n",
    "#### Formula\n",
    "\n",
    "The full 1-year discount factor is calculated as:\n",
    "\n",
    "$$\n",
    "D(1) = \\frac{1}{(1 + f_0/360)^{180} \\cdot (1 + f_1/360)^{180}}\n",
    "$$\n"
   ]
  },
  {
   "cell_type": "code",
   "execution_count": 4136,
   "metadata": {},
   "outputs": [],
   "source": [
    "def payer_ois_swap_1y(f_1, f_0, ois_1y):\n",
    "    D_1 = 1/((1+f_0/360)**180 * (1+f_1/360)**180)\n",
    "\n",
    "    fix_leg = D_1 * ois_1y\n",
    "    flt_leg = D_1 * (1/D_1 - 1)\n",
    "\n",
    "    return fix_leg - flt_leg\n",
    "    \n",
    "guess = 0.99\n",
    "\n",
    "f_1 = fsolve(payer_ois_swap_1y, \n",
    "                         guess, \n",
    "                         args=(OIS_data.at[0, 'f'],\n",
    "                               OIS_data.at[1, 'Rate']))[0]\n",
    "OIS_data.at[1, 'f'] = f_1\n",
    "OIS_data.at[1, 'OIS_Discount_Factor'] = 1/((1+f_0/360)**180 * (1+f_1/360)**180)"
   ]
  },
  {
   "cell_type": "markdown",
   "metadata": {},
   "source": [
    "### Multi-Year OIS Discount Factor Calculation\n",
    "\n",
    "This function computes the OIS discount factor \\( D(t) \\) for maturities beyond the first year, given a set of annual zero rates.\n",
    "\n",
    "#### Explanation\n",
    "\n",
    "- The total discount factor \\( D(t) \\) is constructed by chaining together annual discount factors for each year up to \\( t \\).\n",
    "- The calculation starts with the first year's discount factor using:\n",
    "\n",
    "  $$\n",
    "  D_1 = \\frac{1}{(1 + f_0/360)^{180} \\cdot (1 + f_1/360)^{180}}\n",
    "  $$\n",
    "\n",
    "- For subsequent years \\( i = 2, 3, $\\dots$, t \\), it multiplies the previous discount factor by the next year's annual discount factor:\n",
    "\n",
    "  $$\n",
    "  D_i = \\frac{1}{(1 + f_i/360)^{360}}\n",
    "  $$\n",
    "\n",
    "- If the forward rate \\( f_i \\) is missing from the table, it defaults to the latest available forward rate \\( f_t \\).\n",
    "\n",
    "#### Assumptions\n",
    "\n",
    "- Day count convention is 360 days.\n",
    "- Rates are compounded annually for years beyond 1.\n",
    "- Forward rates are expressed in annual terms.\n"
   ]
  },
  {
   "cell_type": "code",
   "execution_count": 4138,
   "metadata": {},
   "outputs": [],
   "source": [
    "def D(t,df_ois, f_t):\n",
    "    D = 1\n",
    "    D *= 1/((1+df_ois.at[0,'f'] /360)**180 * (1+df_ois.at[1,'f']/360)**180)\n",
    "\n",
    "    for i in range(2,int(t+1)):\n",
    "        f_i = OIS_data.set_index('Years')['f'].get(i, f_t)\n",
    "        if pd.isna(f_i):\n",
    "            f_i = f_t\n",
    "        D *= 1/((1+f_i/360)**360)\n",
    "        \n",
    "    return D"
   ]
  },
  {
   "cell_type": "markdown",
   "metadata": {},
   "source": [
    "### Payer Swap PV (Year 2 Onward)\n",
    "\n",
    "This function computes the present value (PV) of a payer interest rate swap **from year 2 onward**, using OIS discount factors and forward zero rates.\n",
    "\n",
    "#### Explanation\n",
    "\n",
    "- The function skips swaps with maturities less than 2 years.\n",
    "- It calculates the PV of both the **fixed leg** and the **floating leg** and returns the difference.\n",
    "\n",
    "#### Floating Leg (from Year 1 onward)\n",
    "\n",
    "- The first year’s contribution is:\n",
    "\n",
    "  $$\n",
    "  D_1 = \\frac{1}{(1 + f_0/360)^{180} \\cdot (1 + f_1/360)^{180}}\n",
    "  $$\n",
    "\n",
    "- For each year \\( i = 2 \\) to \\( T \\):\n",
    "\n",
    "  - The discount factor is:\n",
    "\n",
    "    $$\n",
    "    D_i = \\prod_{j=2}^{i} \\frac{1}{(1 + f_j / 360)^{360}}\n",
    "    $$\n",
    "\n",
    "  - The floating leg adds the term:\n",
    "\n",
    "    $$\n",
    "    D_i \\cdot \\left((1 + f_i / 360)^{360} - 1\\right)\n",
    "    $$\n",
    "\n",
    "#### Fixed Leg\n",
    "\n",
    "- The fixed leg is the product of:\n",
    "  - The sum of all OIS discount factors up to year \\( T \\)\n",
    "  - The annual fixed rate from the market\n",
    "\n",
    "#### Return Value\n",
    "\n",
    "- The final return is:\n",
    "\n",
    "  $$\n",
    "  \\text{Swap PV} = \\text{Float Leg} - \\text{Fixed Leg}\n",
    "  $$\n",
    "\n",
    "#### Notes\n",
    "\n",
    "- The function linearly interpolates missing forward rates.\n",
    "- If a forward rate is not available, it defaults to the most recent one.\n"
   ]
  },
  {
   "cell_type": "code",
   "execution_count": 4140,
   "metadata": {},
   "outputs": [],
   "source": [
    "def payer_ois_swap_2y(f_n, df_ois, T):\n",
    "    if T <2:\n",
    "        return \"only for 2 year onwards\"\n",
    "    fix_leg = 0\n",
    "    flt_leg = 0\n",
    "    cumsum_df = 0\n",
    "    D1 = 1/((1+df_ois.at[0,'f'] /360)**180 * (1+df_ois.at[1,'f']/360)**180)\n",
    "    flt_leg += D1 * (1/D1-1)\n",
    "    cumsum_df += D1\n",
    "\n",
    "    for i in range(2,int(T+1)):\n",
    "        f_i = OIS_data.set_index('Years')['f'].get(i, f_n)\n",
    "        if pd.isna(f_i):\n",
    "            f_i = f_n\n",
    "        Di = D(i,OIS_data,f_i)\n",
    "        flt_leg +=  Di * ((1+f_i/360)**360-1)\n",
    "        cumsum_df += Di\n",
    "    \n",
    "    fix_leg = cumsum_df * df_ois.loc[df_ois['Years']==i,'Rate'].values[0] \n",
    "\n",
    "    return flt_leg-fix_leg"
   ]
  },
  {
   "cell_type": "markdown",
   "metadata": {},
   "source": [
    "### Bootstrapping OIS Zero Rates (Year 2 Onward)\n",
    "\n",
    "This block performs iterative bootstrapping to derive forward zero rates from the second year onward using the `payer_ois_swap_2y` function.\n",
    "\n",
    "#### Process Overview\n",
    "\n",
    "1. **Initial Guess**:\n",
    "   - A small initial guess for the forward rate is made:\n",
    "     ```python\n",
    "     guess = 0.0035\n",
    "     ```\n",
    "\n",
    "2. **Get Indices**:\n",
    "   - `iter_idx` stores the indices of rows in `OIS_data` where the tenor exists (i.e., not missing), starting from the 3rd row onward:\n",
    "     ```python\n",
    "     iter_idx = OIS_data.loc[~OIS_data.Tenor.isna()].index[2:].values\n",
    "     ```\n",
    "\n",
    "3. **Iterative Solving**:\n",
    "   - For each maturity:\n",
    "     - Extract the maturity year \\( T \\)\n",
    "     - Use `fsolve()` to find the forward rate \\( f_i \\) such that the PV of the swap (fixed leg - float leg) is zero:\n",
    "       ```python\n",
    "       f_i = fsolve(payer_ois_swap_2y, guess, args=(OIS_data, T))[0]\n",
    "       ```\n",
    "\n",
    "4. **Updating Data**:\n",
    "   - The solved rate is updated into the dataframe:\n",
    "     ```python\n",
    "     OIS_data.at[i, 'f'] = f_i\n",
    "     ```\n",
    "   - Backfill is applied to fill in any missing forward rates for in-between tenors:\n",
    "     ```python\n",
    "     OIS_data['f'] = OIS_data['f'].bfill()\n",
    "     ```\n",
    "\n",
    "5. **Guess Update**:\n",
    "   - The last solved forward rate is used as the guess for the next iteration.\n",
    "\n",
    "6. **Special Handling**:\n",
    "   - The discount factor for the 0.5 year point is filled manually:\n",
    "     ```python\n",
    "     OIS_data.at[0, 'OIS_Discount_Factor'] = 1 / (1 + f_0 / 360) ** 180\n",
    "     ```\n",
    "\n",
    "This completes the full bootstrapping process of the OIS zero curve from a list of par swap rates and their associated maturities.\n"
   ]
  },
  {
   "cell_type": "code",
   "execution_count": 4142,
   "metadata": {},
   "outputs": [],
   "source": [
    "guess = 0.0035\n",
    "iter_idx = OIS_data.loc[~OIS_data.Tenor.isna()].index[2:].values\n",
    "\n",
    "for i in iter_idx:\n",
    "    T = OIS_data.loc[i,'Years']\n",
    "    f_i = fsolve(payer_ois_swap_2y, \n",
    "                            guess, \n",
    "                            args=(OIS_data,\n",
    "                                    T))[0]\n",
    "    OIS_data.at[i, 'f'] = f_i\n",
    "    OIS_data['f'] = OIS_data['f'].bfill()\n",
    "\n",
    "    guess = f_i\n",
    "\n",
    "OIS_data.at[0,'OIS_Discount_Factor'] = 1/(1+f_0/360)**180"
   ]
  },
  {
   "cell_type": "markdown",
   "metadata": {},
   "source": [
    "# <a id = \"p2a\"></a>  <font color = \"green\">- BootStrapped OIS Discount Factors </font>  [back to table of contents](#top)"
   ]
  },
  {
   "cell_type": "markdown",
   "metadata": {},
   "source": [
    "### Interpolating OIS Discount Factor Curve\n",
    "\n",
    "This block computes and interpolates the OIS discount factor (`OIS_Discount_Factor`) curve on a semi-annual basis (every 0.5 years), even though the fixed leg of the OIS pays **annually**.\n",
    "\n",
    "- Per-period discount factors are calculated using the zero rate (`f`) for both the 0.5-year and 1-year intervals.\n",
    "- These are compounded cumulatively to obtain the full discount factor (`df`) at each tenor.\n",
    "- The curve is extended onto a uniform 0.5-year grid from 0.5 to 30.5 years.\n",
    "- Missing values between annual points are filled using **linear interpolation**.\n",
    "\n",
    "Although fixed leg payments are annual, calculating the curve at 0.5-year intervals provides a **smoother curve** and facilitates more **detailed analysis** such as interpolation, plotting, and pricing instruments with non-standard maturities.\n"
   ]
  },
  {
   "cell_type": "code",
   "execution_count": 4145,
   "metadata": {},
   "outputs": [
    {
     "data": {
      "text/html": [
       "<div>\n",
       "<style scoped>\n",
       "    .dataframe tbody tr th:only-of-type {\n",
       "        vertical-align: middle;\n",
       "    }\n",
       "\n",
       "    .dataframe tbody tr th {\n",
       "        vertical-align: top;\n",
       "    }\n",
       "\n",
       "    .dataframe thead th {\n",
       "        text-align: right;\n",
       "    }\n",
       "</style>\n",
       "<table border=\"1\" class=\"dataframe\">\n",
       "  <thead>\n",
       "    <tr style=\"text-align: right;\">\n",
       "      <th></th>\n",
       "      <th>Rate</th>\n",
       "      <th>OIS_Discount_Factor</th>\n",
       "    </tr>\n",
       "    <tr>\n",
       "      <th>Years</th>\n",
       "      <th></th>\n",
       "      <th></th>\n",
       "    </tr>\n",
       "  </thead>\n",
       "  <tbody>\n",
       "    <tr>\n",
       "      <th>0.5</th>\n",
       "      <td>0.002500</td>\n",
       "      <td>0.998752</td>\n",
       "    </tr>\n",
       "    <tr>\n",
       "      <th>1.0</th>\n",
       "      <td>0.003000</td>\n",
       "      <td>0.997009</td>\n",
       "    </tr>\n",
       "    <tr>\n",
       "      <th>1.5</th>\n",
       "      <td>0.003125</td>\n",
       "      <td>0.995270</td>\n",
       "    </tr>\n",
       "    <tr>\n",
       "      <th>2.0</th>\n",
       "      <td>0.003250</td>\n",
       "      <td>0.993531</td>\n",
       "    </tr>\n",
       "    <tr>\n",
       "      <th>2.5</th>\n",
       "      <td>0.003300</td>\n",
       "      <td>0.991773</td>\n",
       "    </tr>\n",
       "    <tr>\n",
       "      <th>3.0</th>\n",
       "      <td>0.003350</td>\n",
       "      <td>0.990015</td>\n",
       "    </tr>\n",
       "    <tr>\n",
       "      <th>3.5</th>\n",
       "      <td>0.003425</td>\n",
       "      <td>0.988066</td>\n",
       "    </tr>\n",
       "    <tr>\n",
       "      <th>4.0</th>\n",
       "      <td>0.003500</td>\n",
       "      <td>0.986117</td>\n",
       "    </tr>\n",
       "    <tr>\n",
       "      <th>4.5</th>\n",
       "      <td>0.003550</td>\n",
       "      <td>0.984150</td>\n",
       "    </tr>\n",
       "    <tr>\n",
       "      <th>5.0</th>\n",
       "      <td>0.003600</td>\n",
       "      <td>0.982184</td>\n",
       "    </tr>\n",
       "    <tr>\n",
       "      <th>5.5</th>\n",
       "      <td>0.003700</td>\n",
       "      <td>0.979733</td>\n",
       "    </tr>\n",
       "    <tr>\n",
       "      <th>6.0</th>\n",
       "      <td>0.003800</td>\n",
       "      <td>0.977283</td>\n",
       "    </tr>\n",
       "    <tr>\n",
       "      <th>6.5</th>\n",
       "      <td>0.003900</td>\n",
       "      <td>0.974844</td>\n",
       "    </tr>\n",
       "    <tr>\n",
       "      <th>7.0</th>\n",
       "      <td>0.004000</td>\n",
       "      <td>0.972406</td>\n",
       "    </tr>\n",
       "    <tr>\n",
       "      <th>7.5</th>\n",
       "      <td>0.004083</td>\n",
       "      <td>0.969652</td>\n",
       "    </tr>\n",
       "    <tr>\n",
       "      <th>8.0</th>\n",
       "      <td>0.004167</td>\n",
       "      <td>0.966898</td>\n",
       "    </tr>\n",
       "    <tr>\n",
       "      <th>8.5</th>\n",
       "      <td>0.004250</td>\n",
       "      <td>0.964160</td>\n",
       "    </tr>\n",
       "    <tr>\n",
       "      <th>9.0</th>\n",
       "      <td>0.004333</td>\n",
       "      <td>0.961422</td>\n",
       "    </tr>\n",
       "    <tr>\n",
       "      <th>9.5</th>\n",
       "      <td>0.004417</td>\n",
       "      <td>0.958700</td>\n",
       "    </tr>\n",
       "    <tr>\n",
       "      <th>10.0</th>\n",
       "      <td>0.004500</td>\n",
       "      <td>0.955977</td>\n",
       "    </tr>\n",
       "    <tr>\n",
       "      <th>10.5</th>\n",
       "      <td>0.004550</td>\n",
       "      <td>0.953107</td>\n",
       "    </tr>\n",
       "    <tr>\n",
       "      <th>11.0</th>\n",
       "      <td>0.004600</td>\n",
       "      <td>0.950236</td>\n",
       "    </tr>\n",
       "    <tr>\n",
       "      <th>11.5</th>\n",
       "      <td>0.004650</td>\n",
       "      <td>0.947383</td>\n",
       "    </tr>\n",
       "    <tr>\n",
       "      <th>12.0</th>\n",
       "      <td>0.004700</td>\n",
       "      <td>0.944529</td>\n",
       "    </tr>\n",
       "    <tr>\n",
       "      <th>12.5</th>\n",
       "      <td>0.004750</td>\n",
       "      <td>0.941693</td>\n",
       "    </tr>\n",
       "    <tr>\n",
       "      <th>13.0</th>\n",
       "      <td>0.004800</td>\n",
       "      <td>0.938857</td>\n",
       "    </tr>\n",
       "    <tr>\n",
       "      <th>13.5</th>\n",
       "      <td>0.004850</td>\n",
       "      <td>0.936037</td>\n",
       "    </tr>\n",
       "    <tr>\n",
       "      <th>14.0</th>\n",
       "      <td>0.004900</td>\n",
       "      <td>0.933218</td>\n",
       "    </tr>\n",
       "    <tr>\n",
       "      <th>14.5</th>\n",
       "      <td>0.004950</td>\n",
       "      <td>0.930416</td>\n",
       "    </tr>\n",
       "    <tr>\n",
       "      <th>15.0</th>\n",
       "      <td>0.005000</td>\n",
       "      <td>0.927614</td>\n",
       "    </tr>\n",
       "    <tr>\n",
       "      <th>15.5</th>\n",
       "      <td>0.005025</td>\n",
       "      <td>0.924827</td>\n",
       "    </tr>\n",
       "    <tr>\n",
       "      <th>16.0</th>\n",
       "      <td>0.005050</td>\n",
       "      <td>0.922040</td>\n",
       "    </tr>\n",
       "    <tr>\n",
       "      <th>16.5</th>\n",
       "      <td>0.005075</td>\n",
       "      <td>0.919270</td>\n",
       "    </tr>\n",
       "    <tr>\n",
       "      <th>17.0</th>\n",
       "      <td>0.005100</td>\n",
       "      <td>0.916500</td>\n",
       "    </tr>\n",
       "    <tr>\n",
       "      <th>17.5</th>\n",
       "      <td>0.005125</td>\n",
       "      <td>0.913747</td>\n",
       "    </tr>\n",
       "    <tr>\n",
       "      <th>18.0</th>\n",
       "      <td>0.005150</td>\n",
       "      <td>0.910994</td>\n",
       "    </tr>\n",
       "    <tr>\n",
       "      <th>18.5</th>\n",
       "      <td>0.005175</td>\n",
       "      <td>0.908257</td>\n",
       "    </tr>\n",
       "    <tr>\n",
       "      <th>19.0</th>\n",
       "      <td>0.005200</td>\n",
       "      <td>0.905520</td>\n",
       "    </tr>\n",
       "    <tr>\n",
       "      <th>19.5</th>\n",
       "      <td>0.005225</td>\n",
       "      <td>0.902800</td>\n",
       "    </tr>\n",
       "    <tr>\n",
       "      <th>20.0</th>\n",
       "      <td>0.005250</td>\n",
       "      <td>0.900080</td>\n",
       "    </tr>\n",
       "    <tr>\n",
       "      <th>20.5</th>\n",
       "      <td>0.005263</td>\n",
       "      <td>0.897375</td>\n",
       "    </tr>\n",
       "    <tr>\n",
       "      <th>21.0</th>\n",
       "      <td>0.005275</td>\n",
       "      <td>0.894670</td>\n",
       "    </tr>\n",
       "    <tr>\n",
       "      <th>21.5</th>\n",
       "      <td>0.005288</td>\n",
       "      <td>0.891982</td>\n",
       "    </tr>\n",
       "    <tr>\n",
       "      <th>22.0</th>\n",
       "      <td>0.005300</td>\n",
       "      <td>0.889293</td>\n",
       "    </tr>\n",
       "    <tr>\n",
       "      <th>22.5</th>\n",
       "      <td>0.005313</td>\n",
       "      <td>0.886621</td>\n",
       "    </tr>\n",
       "    <tr>\n",
       "      <th>23.0</th>\n",
       "      <td>0.005325</td>\n",
       "      <td>0.883949</td>\n",
       "    </tr>\n",
       "    <tr>\n",
       "      <th>23.5</th>\n",
       "      <td>0.005338</td>\n",
       "      <td>0.881292</td>\n",
       "    </tr>\n",
       "    <tr>\n",
       "      <th>24.0</th>\n",
       "      <td>0.005350</td>\n",
       "      <td>0.878636</td>\n",
       "    </tr>\n",
       "    <tr>\n",
       "      <th>24.5</th>\n",
       "      <td>0.005363</td>\n",
       "      <td>0.875996</td>\n",
       "    </tr>\n",
       "    <tr>\n",
       "      <th>25.0</th>\n",
       "      <td>0.005375</td>\n",
       "      <td>0.873355</td>\n",
       "    </tr>\n",
       "    <tr>\n",
       "      <th>25.5</th>\n",
       "      <td>0.005387</td>\n",
       "      <td>0.870731</td>\n",
       "    </tr>\n",
       "    <tr>\n",
       "      <th>26.0</th>\n",
       "      <td>0.005400</td>\n",
       "      <td>0.868106</td>\n",
       "    </tr>\n",
       "    <tr>\n",
       "      <th>26.5</th>\n",
       "      <td>0.005412</td>\n",
       "      <td>0.865498</td>\n",
       "    </tr>\n",
       "    <tr>\n",
       "      <th>27.0</th>\n",
       "      <td>0.005425</td>\n",
       "      <td>0.862889</td>\n",
       "    </tr>\n",
       "    <tr>\n",
       "      <th>27.5</th>\n",
       "      <td>0.005437</td>\n",
       "      <td>0.860296</td>\n",
       "    </tr>\n",
       "    <tr>\n",
       "      <th>28.0</th>\n",
       "      <td>0.005450</td>\n",
       "      <td>0.857703</td>\n",
       "    </tr>\n",
       "    <tr>\n",
       "      <th>28.5</th>\n",
       "      <td>0.005462</td>\n",
       "      <td>0.855126</td>\n",
       "    </tr>\n",
       "    <tr>\n",
       "      <th>29.0</th>\n",
       "      <td>0.005475</td>\n",
       "      <td>0.852548</td>\n",
       "    </tr>\n",
       "    <tr>\n",
       "      <th>29.5</th>\n",
       "      <td>0.005487</td>\n",
       "      <td>0.849986</td>\n",
       "    </tr>\n",
       "    <tr>\n",
       "      <th>30.0</th>\n",
       "      <td>0.005500</td>\n",
       "      <td>0.847424</td>\n",
       "    </tr>\n",
       "  </tbody>\n",
       "</table>\n",
       "</div>"
      ],
      "text/plain": [
       "           Rate  OIS_Discount_Factor\n",
       "Years                               \n",
       "0.5    0.002500             0.998752\n",
       "1.0    0.003000             0.997009\n",
       "1.5    0.003125             0.995270\n",
       "2.0    0.003250             0.993531\n",
       "2.5    0.003300             0.991773\n",
       "3.0    0.003350             0.990015\n",
       "3.5    0.003425             0.988066\n",
       "4.0    0.003500             0.986117\n",
       "4.5    0.003550             0.984150\n",
       "5.0    0.003600             0.982184\n",
       "5.5    0.003700             0.979733\n",
       "6.0    0.003800             0.977283\n",
       "6.5    0.003900             0.974844\n",
       "7.0    0.004000             0.972406\n",
       "7.5    0.004083             0.969652\n",
       "8.0    0.004167             0.966898\n",
       "8.5    0.004250             0.964160\n",
       "9.0    0.004333             0.961422\n",
       "9.5    0.004417             0.958700\n",
       "10.0   0.004500             0.955977\n",
       "10.5   0.004550             0.953107\n",
       "11.0   0.004600             0.950236\n",
       "11.5   0.004650             0.947383\n",
       "12.0   0.004700             0.944529\n",
       "12.5   0.004750             0.941693\n",
       "13.0   0.004800             0.938857\n",
       "13.5   0.004850             0.936037\n",
       "14.0   0.004900             0.933218\n",
       "14.5   0.004950             0.930416\n",
       "15.0   0.005000             0.927614\n",
       "15.5   0.005025             0.924827\n",
       "16.0   0.005050             0.922040\n",
       "16.5   0.005075             0.919270\n",
       "17.0   0.005100             0.916500\n",
       "17.5   0.005125             0.913747\n",
       "18.0   0.005150             0.910994\n",
       "18.5   0.005175             0.908257\n",
       "19.0   0.005200             0.905520\n",
       "19.5   0.005225             0.902800\n",
       "20.0   0.005250             0.900080\n",
       "20.5   0.005263             0.897375\n",
       "21.0   0.005275             0.894670\n",
       "21.5   0.005288             0.891982\n",
       "22.0   0.005300             0.889293\n",
       "22.5   0.005313             0.886621\n",
       "23.0   0.005325             0.883949\n",
       "23.5   0.005338             0.881292\n",
       "24.0   0.005350             0.878636\n",
       "24.5   0.005363             0.875996\n",
       "25.0   0.005375             0.873355\n",
       "25.5   0.005387             0.870731\n",
       "26.0   0.005400             0.868106\n",
       "26.5   0.005412             0.865498\n",
       "27.0   0.005425             0.862889\n",
       "27.5   0.005437             0.860296\n",
       "28.0   0.005450             0.857703\n",
       "28.5   0.005462             0.855126\n",
       "29.0   0.005475             0.852548\n",
       "29.5   0.005487             0.849986\n",
       "30.0   0.005500             0.847424"
      ]
     },
     "execution_count": 4145,
     "metadata": {},
     "output_type": "execute_result"
    }
   ],
   "source": [
    "OIS_data.loc[:1, 'period_df'] = OIS_data[:2].apply(lambda row: 1 / ((1 + row['f'] / 360) ** (180)), axis=1)\n",
    "OIS_data.loc[2:, 'period_df'] = OIS_data[2:].apply(lambda row: 1 / ((1 + row['f'] / 360) ** (360)), axis=1)\n",
    "OIS_data['OIS_Discount_Factor'] =OIS_data['period_df'].cumprod()\n",
    "OIS_data.drop(columns=['period_df'], inplace=True)\n",
    "\n",
    "columns = [\"Years\", \"Rate\", \"OIS_Discount_Factor\"]\n",
    "OIS_Interpolated_Data = OIS_data[columns].copy()\n",
    "\n",
    "full_years = np.arange(0.5, 30.5, 0.5)\n",
    "\n",
    "existing_years = set(OIS_Interpolated_Data[\"Years\"])\n",
    "missing_years = [year for year in full_years if year not in existing_years]\n",
    "\n",
    "missing_df = pd.DataFrame({\n",
    "    \"Years\": missing_years,\n",
    "    \"Rate\": np.nan,\n",
    "    \"OIS_Discount_Factor\": np.nan\n",
    "})\n",
    "\n",
    "OIS_Interpolated_Data = (\n",
    "    pd.concat([OIS_Interpolated_Data, missing_df])\n",
    "    .sort_values(\"Years\")\n",
    "    .interpolate(method=\"linear\")\n",
    "    .set_index(\"Years\")\n",
    ")\n",
    "\n",
    "OIS_Interpolated_Data"
   ]
  },
  {
   "cell_type": "markdown",
   "metadata": {},
   "source": [
    "# <a id = \"p2b\"></a>  <font color = \"green\">- BootStrapped OIS Discount Curve </font>  [back to table of contents](#top)"
   ]
  },
  {
   "cell_type": "code",
   "execution_count": 4147,
   "metadata": {},
   "outputs": [
    {
     "data": {
      "image/png": "[encoded data removed]",
      "text/plain": [
       "<Figure size 640x480 with 1 Axes>"
      ]
     },
     "metadata": {},
     "output_type": "display_data"
    }
   ],
   "source": [
    "OIS_Interpolated_Data.reset_index(inplace=True)\n",
    "OIS_Interpolated_Data.plot(x='Years',y='OIS_Discount_Factor')\n",
    "plt.title(\"OIS Discount Factor curve\")\n",
    "plt.grid(True)\n",
    "plt.show()"
   ]
  },
  {
   "cell_type": "markdown",
   "metadata": {},
   "source": [
    "# <a id = \"p3\">3.</a>  <font color = \"green\"> Bootstrap the LIBOR discount factor </font>  [back to table of contents](#top)"
   ]
  },
  {
   "cell_type": "code",
   "execution_count": 4149,
   "metadata": {},
   "outputs": [],
   "source": [
    "IRS_data = pd.read_excel(\"IR Data.xlsx\",\n",
    "                        sheet_name=\"IRS\",\n",
    "                        usecols=\"A:C\")"
   ]
  },
  {
   "cell_type": "code",
   "execution_count": 4150,
   "metadata": {},
   "outputs": [],
   "source": [
    "IRS_data[\"Years\"] = [tenor_to_years(tenor) for tenor in tenors]\n",
    "IRS_data = IRS_data.merge(OIS_data[['Years','f']],on='Years',how='outer')\n",
    "IRS_data.rename(columns={\"df\": \"ois_df\"}, inplace=True)\n",
    "years = [i for i in np.arange(1,30,.5)]\n",
    "IRS_data = IRS_data.merge(pd.DataFrame({\"Years\": years}), how='outer')\n",
    "\n",
    "IRS_data[\"f\"] = IRS_data.f.bfill()\n",
    "IRS_data['period_df'] = 1/(1+IRS_data['f']/360)**180\n",
    "IRS_data['ois_df'] = IRS_data['period_df'].cumprod()\n",
    "IRS_data.drop(columns=['period_df'],inplace=True)\n",
    "IRS_data[\"libor_df\"] = np.nan"
   ]
  },
  {
   "cell_type": "markdown",
   "metadata": {},
   "source": [
    "### Payer IRS Swap Valuation Formula\n",
    "\n",
    "The function computes the present value (PV) of a **payer interest rate swap**, which pays fixed and receives floating. The formula used is:\n",
    "\n",
    "$$\n",
    "\\text{Swap PV} = \\text{Floating Leg} - \\text{Fixed Leg}\n",
    "$$\n",
    "\n",
    "---\n",
    "\n",
    "#### **Fixed Leg Calculation**\n",
    "\n",
    "Assumes fixed coupons are paid **semi-annually**, so the present value of the fixed leg is:\n",
    "\n",
    "$$\n",
    "\\text{Fixed Leg} = 0.5 \\cdot \\text{Rate} \\cdot \\sum_{j=1}^{i} D_{\\text{OIS}}(t_j)\n",
    "$$\n",
    "\n",
    "where:\n",
    "- \\( D_OIS(t_j) \\) is the OIS discount factor at time \\( t_j \\)\n",
    "\n",
    "---\n",
    "\n",
    "#### **Floating Leg Calculation**\n",
    "\n",
    "The floating leg uses the forward-looking formula:\n",
    "\n",
    "$$\n",
    "\\text{Floating Leg} = D_0 \\cdot \\left( \\frac{1 - D_1^{\\text{LIBOR}}}{D_1^{\\text{LIBOR}}} \\right)\n",
    "+ \\sum_{j=2}^{i} D_j^{\\text{OIS}} \\cdot \\left( \\frac{D_{j-1}^{\\text{LIBOR}} - D_j^{\\text{LIBOR}}}{D_j^{\\text{LIBOR}}} \\right)\n",
    "$$\n",
    "\n",
    "This captures the present value of each expected floating payment under the assumption of **par swaps**.\n",
    "\n",
    "---\n",
    "\n",
    "#### **Interpolation & Gap Handling**\n",
    "\n",
    "- Linear interpolation is used to fill in missing LIBOR discount factors for intermediate points (e.g., 1.5y, 2.5y, etc.).\n",
    "- Including 0.5-year points ensures **smoothness in the discount curve** and more accurate **analytical sensitivity** or **risk management**.\n",
    "\n"
   ]
  },
  {
   "cell_type": "code",
   "execution_count": 4152,
   "metadata": {},
   "outputs": [],
   "source": [
    "def payer_irs_swap(df, i, irs):\n",
    "    irs1 = irs.copy()\n",
    "    irs1.at[i,'libor_df'] = df\n",
    "    irs1[['Years','libor_df']] = irs1[['Years','libor_df']].interpolate(method='linear')\n",
    "\n",
    "    cumsum_ois_df = irs1['ois_df'].iloc[:i+1].sum()\n",
    "    irs_rate = irs1.at[i,'Rate']\n",
    "    fix_leg = cumsum_ois_df * 0.5 * irs_rate\n",
    "\n",
    "    float_leg = irs1.at[0,'ois_df'] * (1-irs1.at[0,'libor_df']) / irs1.at[0,'libor_df']\n",
    "    for j in range(1,i+1):\n",
    "        float_leg += irs1.at[j,'ois_df'] * (irs1.at[j-1,'libor_df']-irs1.at[j,'libor_df']) \\\n",
    "                                            / irs1.at[j,'libor_df']\n",
    "\n",
    "    return float_leg - fix_leg"
   ]
  },
  {
   "cell_type": "markdown",
   "metadata": {},
   "source": [
    "### Iterative Bootstrapping of the IRS Discount Curve\n",
    "\n",
    "This section bootstraps the LIBOR (IRS) discount factors using the previously defined `payer_irs_swap` valuation function.\n",
    "\n",
    "#### Iterative Solver\n",
    "\n",
    "- Begins with the first LIBOR discount factor, computed directly as:\n",
    "\n",
    "  $$\n",
    "  D(0.5) = \\frac{1}{1 + \\frac{\\text{Rate}}{2}}\n",
    "  $$\n",
    "\n",
    "- Then iteratively solves for each subsequent year's discount factor \\( D(t) \\), ensuring the present value of the fixed leg equals the present value of the floating leg:\n",
    "\n",
    "  $$\n",
    "  \\text{PV}_{\\text{float}}(t) = \\text{PV}_{\\text{fixed}}(t)\n",
    "  $$\n",
    "\n",
    "- The unknown discount factor is solved using `fsolve`, and the previous solution is reused as the initial guess to improve convergence. This is especially important due to the presence of multiple roots.\n"
   ]
  },
  {
   "cell_type": "code",
   "execution_count": 4154,
   "metadata": {},
   "outputs": [],
   "source": [
    "IRS_data.at[0,'libor_df'] = 1/(1+IRS_data.at[0,'Rate']/2)\n",
    "idx_irs = IRS_data[IRS_data['Product'] == \"IRS\"].index[1:]\n",
    "guess = .99\n",
    "\n",
    "for i in idx_irs:\n",
    "        x = fsolve(payer_irs_swap,\n",
    "                    guess,\n",
    "                    args=(i,IRS_data))[0]\n",
    "        IRS_data.at[i, 'libor_df'] = x\n",
    "        guess = x\n",
    "IRS_data['libor_df'] = IRS_data['libor_df'].interpolate(method='linear')"
   ]
  },
  {
   "cell_type": "code",
   "execution_count": 4155,
   "metadata": {},
   "outputs": [],
   "source": [
    "clean_columns = ['Years', 'Rate', 'ois_df', 'libor_df']\n",
    "IRS_cleaned = IRS_data[clean_columns].copy()\n",
    "\n",
    "IRS_cleaned.rename(columns={\n",
    "    'ois_df': 'OIS_Discount_Factor',\n",
    "    'libor_df': 'IRS_Discount_Factor'\n",
    "}, inplace=True)\n",
    "\n",
    "IRS_cleaned = IRS_cleaned.set_index('Years')\n",
    "IRS_cleaned = IRS_cleaned.sort_index()\n",
    "IRS_cleaned = IRS_cleaned.interpolate(method='linear')"
   ]
  },
  {
   "attachments": {},
   "cell_type": "markdown",
   "metadata": {},
   "source": [
    "# <a id = \"p3a\"></a>  <font color = \"green\">- BootStrapped LIBOR Discount Factors </font>  [back to table of contents](#top)"
   ]
  },
  {
   "cell_type": "code",
   "execution_count": 4157,
   "metadata": {},
   "outputs": [
    {
     "data": {
      "text/html": [
       "<div>\n",
       "<style scoped>\n",
       "    .dataframe tbody tr th:only-of-type {\n",
       "        vertical-align: middle;\n",
       "    }\n",
       "\n",
       "    .dataframe tbody tr th {\n",
       "        vertical-align: top;\n",
       "    }\n",
       "\n",
       "    .dataframe thead th {\n",
       "        text-align: right;\n",
       "    }\n",
       "</style>\n",
       "<table border=\"1\" class=\"dataframe\">\n",
       "  <thead>\n",
       "    <tr style=\"text-align: right;\">\n",
       "      <th></th>\n",
       "      <th>Rate</th>\n",
       "      <th>OIS_Discount_Factor</th>\n",
       "      <th>IRS_Discount_Factor</th>\n",
       "      <th>Forward_LIBOR</th>\n",
       "    </tr>\n",
       "    <tr>\n",
       "      <th>Years</th>\n",
       "      <th></th>\n",
       "      <th></th>\n",
       "      <th></th>\n",
       "      <th></th>\n",
       "    </tr>\n",
       "  </thead>\n",
       "  <tbody>\n",
       "    <tr>\n",
       "      <th>0.5</th>\n",
       "      <td>0.025000</td>\n",
       "      <td>0.998752</td>\n",
       "      <td>0.987654</td>\n",
       "      <td>0.025000</td>\n",
       "    </tr>\n",
       "    <tr>\n",
       "      <th>1.0</th>\n",
       "      <td>0.028000</td>\n",
       "      <td>0.997009</td>\n",
       "      <td>0.972496</td>\n",
       "      <td>0.031245</td>\n",
       "    </tr>\n",
       "    <tr>\n",
       "      <th>1.5</th>\n",
       "      <td>0.029000</td>\n",
       "      <td>0.995268</td>\n",
       "      <td>0.957338</td>\n",
       "      <td>0.031242</td>\n",
       "    </tr>\n",
       "    <tr>\n",
       "      <th>2.0</th>\n",
       "      <td>0.030000</td>\n",
       "      <td>0.993531</td>\n",
       "      <td>0.942179</td>\n",
       "      <td>0.033275</td>\n",
       "    </tr>\n",
       "    <tr>\n",
       "      <th>2.5</th>\n",
       "      <td>0.030750</td>\n",
       "      <td>0.991771</td>\n",
       "      <td>0.926330</td>\n",
       "      <td>0.034038</td>\n",
       "    </tr>\n",
       "    <tr>\n",
       "      <th>3.0</th>\n",
       "      <td>0.031500</td>\n",
       "      <td>0.990015</td>\n",
       "      <td>0.910482</td>\n",
       "      <td>0.035565</td>\n",
       "    </tr>\n",
       "    <tr>\n",
       "      <th>3.5</th>\n",
       "      <td>0.032000</td>\n",
       "      <td>0.988064</td>\n",
       "      <td>0.894731</td>\n",
       "      <td>0.035309</td>\n",
       "    </tr>\n",
       "    <tr>\n",
       "      <th>4.0</th>\n",
       "      <td>0.032500</td>\n",
       "      <td>0.986117</td>\n",
       "      <td>0.878981</td>\n",
       "      <td>0.036328</td>\n",
       "    </tr>\n",
       "    <tr>\n",
       "      <th>4.5</th>\n",
       "      <td>0.032750</td>\n",
       "      <td>0.984148</td>\n",
       "      <td>0.863985</td>\n",
       "      <td>0.035053</td>\n",
       "    </tr>\n",
       "    <tr>\n",
       "      <th>5.0</th>\n",
       "      <td>0.033000</td>\n",
       "      <td>0.982184</td>\n",
       "      <td>0.848989</td>\n",
       "      <td>0.035562</td>\n",
       "    </tr>\n",
       "    <tr>\n",
       "      <th>5.5</th>\n",
       "      <td>0.033500</td>\n",
       "      <td>0.979730</td>\n",
       "      <td>0.832796</td>\n",
       "      <td>0.038877</td>\n",
       "    </tr>\n",
       "    <tr>\n",
       "      <th>6.0</th>\n",
       "      <td>0.034000</td>\n",
       "      <td>0.977283</td>\n",
       "      <td>0.816603</td>\n",
       "      <td>0.039898</td>\n",
       "    </tr>\n",
       "    <tr>\n",
       "      <th>6.5</th>\n",
       "      <td>0.034500</td>\n",
       "      <td>0.974841</td>\n",
       "      <td>0.800410</td>\n",
       "      <td>0.040920</td>\n",
       "    </tr>\n",
       "    <tr>\n",
       "      <th>7.0</th>\n",
       "      <td>0.035000</td>\n",
       "      <td>0.972406</td>\n",
       "      <td>0.784216</td>\n",
       "      <td>0.041942</td>\n",
       "    </tr>\n",
       "    <tr>\n",
       "      <th>7.5</th>\n",
       "      <td>0.035333</td>\n",
       "      <td>0.969648</td>\n",
       "      <td>0.768965</td>\n",
       "      <td>0.040406</td>\n",
       "    </tr>\n",
       "    <tr>\n",
       "      <th>8.0</th>\n",
       "      <td>0.035667</td>\n",
       "      <td>0.966898</td>\n",
       "      <td>0.753714</td>\n",
       "      <td>0.041087</td>\n",
       "    </tr>\n",
       "    <tr>\n",
       "      <th>8.5</th>\n",
       "      <td>0.036000</td>\n",
       "      <td>0.964157</td>\n",
       "      <td>0.738463</td>\n",
       "      <td>0.041768</td>\n",
       "    </tr>\n",
       "    <tr>\n",
       "      <th>9.0</th>\n",
       "      <td>0.036333</td>\n",
       "      <td>0.961422</td>\n",
       "      <td>0.723212</td>\n",
       "      <td>0.042450</td>\n",
       "    </tr>\n",
       "    <tr>\n",
       "      <th>9.5</th>\n",
       "      <td>0.036667</td>\n",
       "      <td>0.958696</td>\n",
       "      <td>0.707961</td>\n",
       "      <td>0.043131</td>\n",
       "    </tr>\n",
       "    <tr>\n",
       "      <th>10.0</th>\n",
       "      <td>0.037000</td>\n",
       "      <td>0.955977</td>\n",
       "      <td>0.692710</td>\n",
       "      <td>0.043813</td>\n",
       "    </tr>\n",
       "    <tr>\n",
       "      <th>10.5</th>\n",
       "      <td>0.037300</td>\n",
       "      <td>0.953102</td>\n",
       "      <td>0.678547</td>\n",
       "      <td>0.043778</td>\n",
       "    </tr>\n",
       "    <tr>\n",
       "      <th>11.0</th>\n",
       "      <td>0.037600</td>\n",
       "      <td>0.950236</td>\n",
       "      <td>0.664384</td>\n",
       "      <td>0.044392</td>\n",
       "    </tr>\n",
       "    <tr>\n",
       "      <th>11.5</th>\n",
       "      <td>0.037900</td>\n",
       "      <td>0.947378</td>\n",
       "      <td>0.650221</td>\n",
       "      <td>0.045006</td>\n",
       "    </tr>\n",
       "    <tr>\n",
       "      <th>12.0</th>\n",
       "      <td>0.038200</td>\n",
       "      <td>0.944529</td>\n",
       "      <td>0.636058</td>\n",
       "      <td>0.045621</td>\n",
       "    </tr>\n",
       "    <tr>\n",
       "      <th>12.5</th>\n",
       "      <td>0.038500</td>\n",
       "      <td>0.941689</td>\n",
       "      <td>0.621895</td>\n",
       "      <td>0.046236</td>\n",
       "    </tr>\n",
       "    <tr>\n",
       "      <th>13.0</th>\n",
       "      <td>0.038800</td>\n",
       "      <td>0.938857</td>\n",
       "      <td>0.607732</td>\n",
       "      <td>0.046851</td>\n",
       "    </tr>\n",
       "    <tr>\n",
       "      <th>13.5</th>\n",
       "      <td>0.039100</td>\n",
       "      <td>0.936033</td>\n",
       "      <td>0.593569</td>\n",
       "      <td>0.047466</td>\n",
       "    </tr>\n",
       "    <tr>\n",
       "      <th>14.0</th>\n",
       "      <td>0.039400</td>\n",
       "      <td>0.933218</td>\n",
       "      <td>0.579406</td>\n",
       "      <td>0.048081</td>\n",
       "    </tr>\n",
       "    <tr>\n",
       "      <th>14.5</th>\n",
       "      <td>0.039700</td>\n",
       "      <td>0.930412</td>\n",
       "      <td>0.565243</td>\n",
       "      <td>0.048697</td>\n",
       "    </tr>\n",
       "    <tr>\n",
       "      <th>15.0</th>\n",
       "      <td>0.040000</td>\n",
       "      <td>0.927614</td>\n",
       "      <td>0.551080</td>\n",
       "      <td>0.049313</td>\n",
       "    </tr>\n",
       "    <tr>\n",
       "      <th>15.5</th>\n",
       "      <td>0.040500</td>\n",
       "      <td>0.924823</td>\n",
       "      <td>0.536793</td>\n",
       "      <td>0.056329</td>\n",
       "    </tr>\n",
       "    <tr>\n",
       "      <th>16.0</th>\n",
       "      <td>0.041000</td>\n",
       "      <td>0.922040</td>\n",
       "      <td>0.522507</td>\n",
       "      <td>0.057361</td>\n",
       "    </tr>\n",
       "    <tr>\n",
       "      <th>16.5</th>\n",
       "      <td>0.041500</td>\n",
       "      <td>0.919266</td>\n",
       "      <td>0.508220</td>\n",
       "      <td>0.058393</td>\n",
       "    </tr>\n",
       "    <tr>\n",
       "      <th>17.0</th>\n",
       "      <td>0.042000</td>\n",
       "      <td>0.916500</td>\n",
       "      <td>0.493934</td>\n",
       "      <td>0.059426</td>\n",
       "    </tr>\n",
       "    <tr>\n",
       "      <th>17.5</th>\n",
       "      <td>0.042500</td>\n",
       "      <td>0.913743</td>\n",
       "      <td>0.479648</td>\n",
       "      <td>0.060460</td>\n",
       "    </tr>\n",
       "    <tr>\n",
       "      <th>18.0</th>\n",
       "      <td>0.043000</td>\n",
       "      <td>0.910994</td>\n",
       "      <td>0.465361</td>\n",
       "      <td>0.061495</td>\n",
       "    </tr>\n",
       "    <tr>\n",
       "      <th>18.5</th>\n",
       "      <td>0.043500</td>\n",
       "      <td>0.908253</td>\n",
       "      <td>0.451075</td>\n",
       "      <td>0.062530</td>\n",
       "    </tr>\n",
       "    <tr>\n",
       "      <th>19.0</th>\n",
       "      <td>0.044000</td>\n",
       "      <td>0.905520</td>\n",
       "      <td>0.436788</td>\n",
       "      <td>0.063566</td>\n",
       "    </tr>\n",
       "    <tr>\n",
       "      <th>19.5</th>\n",
       "      <td>0.044500</td>\n",
       "      <td>0.902796</td>\n",
       "      <td>0.422502</td>\n",
       "      <td>0.064602</td>\n",
       "    </tr>\n",
       "    <tr>\n",
       "      <th>20.0</th>\n",
       "      <td>0.045000</td>\n",
       "      <td>0.900080</td>\n",
       "      <td>0.408216</td>\n",
       "      <td>0.065639</td>\n",
       "    </tr>\n",
       "    <tr>\n",
       "      <th>20.5</th>\n",
       "      <td>0.045250</td>\n",
       "      <td>0.897371</td>\n",
       "      <td>0.398988</td>\n",
       "      <td>0.056039</td>\n",
       "    </tr>\n",
       "    <tr>\n",
       "      <th>21.0</th>\n",
       "      <td>0.045500</td>\n",
       "      <td>0.894670</td>\n",
       "      <td>0.389760</td>\n",
       "      <td>0.056554</td>\n",
       "    </tr>\n",
       "    <tr>\n",
       "      <th>21.5</th>\n",
       "      <td>0.045750</td>\n",
       "      <td>0.891978</td>\n",
       "      <td>0.380532</td>\n",
       "      <td>0.057069</td>\n",
       "    </tr>\n",
       "    <tr>\n",
       "      <th>22.0</th>\n",
       "      <td>0.046000</td>\n",
       "      <td>0.889293</td>\n",
       "      <td>0.371304</td>\n",
       "      <td>0.057585</td>\n",
       "    </tr>\n",
       "    <tr>\n",
       "      <th>22.5</th>\n",
       "      <td>0.046250</td>\n",
       "      <td>0.886617</td>\n",
       "      <td>0.362076</td>\n",
       "      <td>0.058101</td>\n",
       "    </tr>\n",
       "    <tr>\n",
       "      <th>23.0</th>\n",
       "      <td>0.046500</td>\n",
       "      <td>0.883949</td>\n",
       "      <td>0.352848</td>\n",
       "      <td>0.058616</td>\n",
       "    </tr>\n",
       "    <tr>\n",
       "      <th>23.5</th>\n",
       "      <td>0.046750</td>\n",
       "      <td>0.881288</td>\n",
       "      <td>0.343620</td>\n",
       "      <td>0.059132</td>\n",
       "    </tr>\n",
       "    <tr>\n",
       "      <th>24.0</th>\n",
       "      <td>0.047000</td>\n",
       "      <td>0.878636</td>\n",
       "      <td>0.334392</td>\n",
       "      <td>0.059648</td>\n",
       "    </tr>\n",
       "    <tr>\n",
       "      <th>24.5</th>\n",
       "      <td>0.047250</td>\n",
       "      <td>0.875992</td>\n",
       "      <td>0.325164</td>\n",
       "      <td>0.060165</td>\n",
       "    </tr>\n",
       "    <tr>\n",
       "      <th>25.0</th>\n",
       "      <td>0.047500</td>\n",
       "      <td>0.873355</td>\n",
       "      <td>0.315936</td>\n",
       "      <td>0.060681</td>\n",
       "    </tr>\n",
       "    <tr>\n",
       "      <th>25.5</th>\n",
       "      <td>0.047750</td>\n",
       "      <td>0.870727</td>\n",
       "      <td>0.306708</td>\n",
       "      <td>0.061198</td>\n",
       "    </tr>\n",
       "    <tr>\n",
       "      <th>26.0</th>\n",
       "      <td>0.048000</td>\n",
       "      <td>0.868106</td>\n",
       "      <td>0.297480</td>\n",
       "      <td>0.061714</td>\n",
       "    </tr>\n",
       "    <tr>\n",
       "      <th>26.5</th>\n",
       "      <td>0.048250</td>\n",
       "      <td>0.865494</td>\n",
       "      <td>0.288252</td>\n",
       "      <td>0.062231</td>\n",
       "    </tr>\n",
       "    <tr>\n",
       "      <th>27.0</th>\n",
       "      <td>0.048500</td>\n",
       "      <td>0.862889</td>\n",
       "      <td>0.279024</td>\n",
       "      <td>0.062748</td>\n",
       "    </tr>\n",
       "    <tr>\n",
       "      <th>27.5</th>\n",
       "      <td>0.048750</td>\n",
       "      <td>0.860292</td>\n",
       "      <td>0.269796</td>\n",
       "      <td>0.063266</td>\n",
       "    </tr>\n",
       "    <tr>\n",
       "      <th>28.0</th>\n",
       "      <td>0.049000</td>\n",
       "      <td>0.857703</td>\n",
       "      <td>0.260568</td>\n",
       "      <td>0.063783</td>\n",
       "    </tr>\n",
       "    <tr>\n",
       "      <th>28.5</th>\n",
       "      <td>0.049250</td>\n",
       "      <td>0.855122</td>\n",
       "      <td>0.251340</td>\n",
       "      <td>0.064300</td>\n",
       "    </tr>\n",
       "    <tr>\n",
       "      <th>29.0</th>\n",
       "      <td>0.049500</td>\n",
       "      <td>0.852548</td>\n",
       "      <td>0.242112</td>\n",
       "      <td>0.064818</td>\n",
       "    </tr>\n",
       "    <tr>\n",
       "      <th>29.5</th>\n",
       "      <td>0.049750</td>\n",
       "      <td>0.849983</td>\n",
       "      <td>0.232884</td>\n",
       "      <td>0.065336</td>\n",
       "    </tr>\n",
       "    <tr>\n",
       "      <th>30.0</th>\n",
       "      <td>0.050000</td>\n",
       "      <td>0.847424</td>\n",
       "      <td>0.223657</td>\n",
       "      <td>0.065854</td>\n",
       "    </tr>\n",
       "  </tbody>\n",
       "</table>\n",
       "</div>"
      ],
      "text/plain": [
       "           Rate  OIS_Discount_Factor  IRS_Discount_Factor  Forward_LIBOR\n",
       "Years                                                                   \n",
       "0.5    0.025000             0.998752             0.987654       0.025000\n",
       "1.0    0.028000             0.997009             0.972496       0.031245\n",
       "1.5    0.029000             0.995268             0.957338       0.031242\n",
       "2.0    0.030000             0.993531             0.942179       0.033275\n",
       "2.5    0.030750             0.991771             0.926330       0.034038\n",
       "3.0    0.031500             0.990015             0.910482       0.035565\n",
       "3.5    0.032000             0.988064             0.894731       0.035309\n",
       "4.0    0.032500             0.986117             0.878981       0.036328\n",
       "4.5    0.032750             0.984148             0.863985       0.035053\n",
       "5.0    0.033000             0.982184             0.848989       0.035562\n",
       "5.5    0.033500             0.979730             0.832796       0.038877\n",
       "6.0    0.034000             0.977283             0.816603       0.039898\n",
       "6.5    0.034500             0.974841             0.800410       0.040920\n",
       "7.0    0.035000             0.972406             0.784216       0.041942\n",
       "7.5    0.035333             0.969648             0.768965       0.040406\n",
       "8.0    0.035667             0.966898             0.753714       0.041087\n",
       "8.5    0.036000             0.964157             0.738463       0.041768\n",
       "9.0    0.036333             0.961422             0.723212       0.042450\n",
       "9.5    0.036667             0.958696             0.707961       0.043131\n",
       "10.0   0.037000             0.955977             0.692710       0.043813\n",
       "10.5   0.037300             0.953102             0.678547       0.043778\n",
       "11.0   0.037600             0.950236             0.664384       0.044392\n",
       "11.5   0.037900             0.947378             0.650221       0.045006\n",
       "12.0   0.038200             0.944529             0.636058       0.045621\n",
       "12.5   0.038500             0.941689             0.621895       0.046236\n",
       "13.0   0.038800             0.938857             0.607732       0.046851\n",
       "13.5   0.039100             0.936033             0.593569       0.047466\n",
       "14.0   0.039400             0.933218             0.579406       0.048081\n",
       "14.5   0.039700             0.930412             0.565243       0.048697\n",
       "15.0   0.040000             0.927614             0.551080       0.049313\n",
       "15.5   0.040500             0.924823             0.536793       0.056329\n",
       "16.0   0.041000             0.922040             0.522507       0.057361\n",
       "16.5   0.041500             0.919266             0.508220       0.058393\n",
       "17.0   0.042000             0.916500             0.493934       0.059426\n",
       "17.5   0.042500             0.913743             0.479648       0.060460\n",
       "18.0   0.043000             0.910994             0.465361       0.061495\n",
       "18.5   0.043500             0.908253             0.451075       0.062530\n",
       "19.0   0.044000             0.905520             0.436788       0.063566\n",
       "19.5   0.044500             0.902796             0.422502       0.064602\n",
       "20.0   0.045000             0.900080             0.408216       0.065639\n",
       "20.5   0.045250             0.897371             0.398988       0.056039\n",
       "21.0   0.045500             0.894670             0.389760       0.056554\n",
       "21.5   0.045750             0.891978             0.380532       0.057069\n",
       "22.0   0.046000             0.889293             0.371304       0.057585\n",
       "22.5   0.046250             0.886617             0.362076       0.058101\n",
       "23.0   0.046500             0.883949             0.352848       0.058616\n",
       "23.5   0.046750             0.881288             0.343620       0.059132\n",
       "24.0   0.047000             0.878636             0.334392       0.059648\n",
       "24.5   0.047250             0.875992             0.325164       0.060165\n",
       "25.0   0.047500             0.873355             0.315936       0.060681\n",
       "25.5   0.047750             0.870727             0.306708       0.061198\n",
       "26.0   0.048000             0.868106             0.297480       0.061714\n",
       "26.5   0.048250             0.865494             0.288252       0.062231\n",
       "27.0   0.048500             0.862889             0.279024       0.062748\n",
       "27.5   0.048750             0.860292             0.269796       0.063266\n",
       "28.0   0.049000             0.857703             0.260568       0.063783\n",
       "28.5   0.049250             0.855122             0.251340       0.064300\n",
       "29.0   0.049500             0.852548             0.242112       0.064818\n",
       "29.5   0.049750             0.849983             0.232884       0.065336\n",
       "30.0   0.050000             0.847424             0.223657       0.065854"
      ]
     },
     "execution_count": 4157,
     "metadata": {},
     "output_type": "execute_result"
    }
   ],
   "source": [
    "IRS_cleaned[\"Forward_LIBOR\"] = np.nan\n",
    "\n",
    "IRS_cleaned.at[IRS_cleaned.index[0], \"Forward_LIBOR\"] = IRS_cleaned.at[IRS_cleaned.index[0], \"Rate\"]\n",
    "\n",
    "for row in range(1, len(IRS_cleaned)):\n",
    "    rate_now = IRS_cleaned.at[IRS_cleaned.index[row], \"Rate\"]\n",
    "    rate_prev = IRS_cleaned.at[IRS_cleaned.index[row - 1], \"Rate\"]\n",
    "    \n",
    "    t_now = IRS_cleaned.index[row]\n",
    "    t_prev = IRS_cleaned.index[row - 1]\n",
    "    \n",
    "    forward_rate = (\n",
    "        (1 + rate_now / 2) ** (2 * t_now) /\n",
    "        (1 + rate_prev / 2) ** (2 * t_prev)\n",
    "    ) ** 2 - 1\n",
    "    \n",
    "    IRS_cleaned.at[IRS_cleaned.index[row], \"Forward_LIBOR\"] = forward_rate\n",
    "IRS_cleaned"
   ]
  },
  {
   "cell_type": "markdown",
   "metadata": {},
   "source": [
    "# <a id = \"p3b\"></a>  <font color = \"green\">- BootStrapped LIBOR Discount Curve </font>  [back to table of contents](#top)"
   ]
  },
  {
   "cell_type": "code",
   "execution_count": 4159,
   "metadata": {},
   "outputs": [
    {
     "data": {
      "image/png": "[encoded data removed]",
      "text/plain": [
       "<Figure size 640x480 with 1 Axes>"
      ]
     },
     "metadata": {},
     "output_type": "display_data"
    }
   ],
   "source": [
    "IRS_cleaned.reset_index(inplace=True)\n",
    "IRS_cleaned.plot(x='Years',y='IRS_Discount_Factor')\n",
    "plt.title(\"LIBOR Discount Factor\")\n",
    "plt.grid(True)\n",
    "plt.show()"
   ]
  },
  {
   "cell_type": "markdown",
   "metadata": {},
   "source": [
    "# <a id = \"p4\">4.</a>  <font color = \"green\"> Forward swap rates </font>  [back to table of contents](#top)"
   ]
  },
  {
   "cell_type": "markdown",
   "metadata": {},
   "source": [
    "### Valuation of Forward Payer IRS Swap\n",
    "\n",
    "This forward swap valuation function computes the value of a payer interest rate swap starting in the future, specifically at time \\( t = \\text{start} \\), with a tenor of \\( \\text{tenor} \\) years.\n",
    "\n",
    "---\n",
    "\n",
    "#### Fixed Leg Calculation\n",
    "\n",
    "The present value of the fixed leg is calculated using:\n",
    "\n",
    "$$\n",
    "\\text{PV}_{\\text{fixed}} = \\left( \\sum_{t = \\text{start}}^{\\text{start} + \\text{tenor}} D(0, t) \\right) \\cdot 0.5 \\cdot \\text{Forward Swap Rate}\n",
    "$$\n",
    "\n",
    "The summation term includes the OIS discount factors for each payment date, with the payments assumed to be made semi-annually (hence the factor \\( 0.5 \\)).\n",
    "\n",
    "To correctly value a forward-starting swap, the fixed leg’s value is calculated by taking the sum of all discount factors from \\( \\text{start} \\) to \\( \\text{start} + \\text{tenor} \\), and **subtracting** the sum of discount factors up to \\( \\text{start} \\), so that only the forward period is considered.\n",
    "\n",
    "---\n",
    "\n",
    "#### Floating Leg Calculation\n",
    "\n",
    "The floating leg replicates a sequence of forward rate payments and is valued as:\n",
    "\n",
    "$$\n",
    "\\text{PV}_{\\text{float}} = \\sum_{j=1}^{N} D(0, t_j) \\cdot \\frac{D(0, t_{j-1}) - D(0, t_j)}{D(0, t_j)}\n",
    "$$\n",
    "\n",
    "This expression reflects the value of the forward floating cash flows between each coupon date \\( t_{j-1} \\) and \\( t_j \\), using the IRS discount factors.\n",
    "\n",
    "The floating leg is also computed only for the forward-starting interval.\n",
    "\n",
    "---\n",
    "\n",
    "#### Valuation Output\n",
    "\n",
    "The net value of the forward payer swap is:\n",
    "\n",
    "$$\n",
    "\\text{Value} = \\text{PV}_{\\text{fixed}} - \\text{PV}_{\\text{float}}\n",
    "$$\n",
    "\n",
    "This can be used for pricing, trading, or identifying arbitrage in forward IRS contracts.\n"
   ]
  },
  {
   "cell_type": "code",
   "execution_count": 4162,
   "metadata": {},
   "outputs": [],
   "source": [
    "def payer_irs_fwd_swap(fwd_swap_rate, start=1, tenor=1, irs=IRS_cleaned):\n",
    "    cumsum_ois_df = irs.loc[irs['Years'] <= start+tenor, 'OIS_Discount_Factor'].sum() \\\n",
    "                        - irs.loc[irs['Years'] <= start, 'OIS_Discount_Factor'].sum()\n",
    "    fix_leg = cumsum_ois_df * 0.5 * fwd_swap_rate\n",
    "\n",
    "    float_leg = 0\n",
    "    for j in range(int(start*2),int((start+tenor)*2)):\n",
    "        float_leg += irs.at[j,'OIS_Discount_Factor'] * (irs.at[j-1,'IRS_Discount_Factor']-irs.at[j,'IRS_Discount_Factor']) \\\n",
    "                                            / irs.at[j,'IRS_Discount_Factor']\n",
    "\n",
    "    return fix_leg - float_leg"
   ]
  },
  {
   "cell_type": "markdown",
   "metadata": {},
   "source": [
    "### Forward Swap Rate Table Construction and Solver\n",
    "\n",
    "A DataFrame `fsr` is constructed to represent a grid of forward-starting interest rate swaps, each defined by a pair of:\n",
    "\n",
    "- **Start time** \\( s \\)\n",
    "- **Tenor** \\( T \\)\n",
    "\n",
    "This defines a swap contract that begins at time \\( s \\) and ends at \\( s + T \\).\n",
    "\n",
    "For each forward-starting period, we solve for the forward swap rate \\( $R^{\\text{fwd}}$ \\) using the condition that the present value of the payer swap must be zero:\n",
    "\n",
    "$$\n",
    "\\text{PV}_{\\text{fixed}}(R^{\\text{fwd}}) = \\text{PV}_{\\text{floating}}\n",
    "$$\n",
    "\n",
    "That is, we solve:\n",
    "\n",
    "$$\n",
    "\\left( \\sum_{t=s+1}^{s+T} D(0, t) \\right) \\cdot 0.5 \\cdot R^{\\text{fwd}} = \\sum_{j=1}^{N} D(0, t_j) \\cdot \\frac{D(0, t_{j-1}) - D(0, t_j)}{D(0, t_j)}\n",
    "$$\n",
    "\n",
    "Here:\n",
    "- \\( D(0, t) \\) represents the OIS discount factor.\n",
    "- The fixed leg uses semi-annual payments (hence the 0.5 factor).\n",
    "- The floating leg mimics the value of a series of forward Libor payments.\n",
    "\n",
    "The `fsolve` function is used to numerically compute the forward rate \\( $R^{\\text{fwd}}$ \\) that equates the fixed and floating legs of the forward-starting swap.\n"
   ]
  },
  {
   "cell_type": "code",
   "execution_count": 4164,
   "metadata": {},
   "outputs": [
    {
     "data": {
      "text/html": [
       "<div>\n",
       "<style scoped>\n",
       "    .dataframe tbody tr th:only-of-type {\n",
       "        vertical-align: middle;\n",
       "    }\n",
       "\n",
       "    .dataframe tbody tr th {\n",
       "        vertical-align: top;\n",
       "    }\n",
       "\n",
       "    .dataframe thead th {\n",
       "        text-align: right;\n",
       "    }\n",
       "</style>\n",
       "<table border=\"1\" class=\"dataframe\">\n",
       "  <thead>\n",
       "    <tr style=\"text-align: right;\">\n",
       "      <th></th>\n",
       "      <th>start</th>\n",
       "      <th>tenor</th>\n",
       "      <th>Forward_Swap_Rates</th>\n",
       "    </tr>\n",
       "  </thead>\n",
       "  <tbody>\n",
       "    <tr>\n",
       "      <th>0</th>\n",
       "      <td>1</td>\n",
       "      <td>1</td>\n",
       "      <td>0.031922</td>\n",
       "    </tr>\n",
       "    <tr>\n",
       "      <th>1</th>\n",
       "      <td>1</td>\n",
       "      <td>2</td>\n",
       "      <td>0.033217</td>\n",
       "    </tr>\n",
       "    <tr>\n",
       "      <th>2</th>\n",
       "      <td>1</td>\n",
       "      <td>3</td>\n",
       "      <td>0.033982</td>\n",
       "    </tr>\n",
       "    <tr>\n",
       "      <th>3</th>\n",
       "      <td>1</td>\n",
       "      <td>5</td>\n",
       "      <td>0.035238</td>\n",
       "    </tr>\n",
       "    <tr>\n",
       "      <th>4</th>\n",
       "      <td>1</td>\n",
       "      <td>10</td>\n",
       "      <td>0.038419</td>\n",
       "    </tr>\n",
       "    <tr>\n",
       "      <th>5</th>\n",
       "      <td>5</td>\n",
       "      <td>1</td>\n",
       "      <td>0.039274</td>\n",
       "    </tr>\n",
       "    <tr>\n",
       "      <th>6</th>\n",
       "      <td>5</td>\n",
       "      <td>2</td>\n",
       "      <td>0.040075</td>\n",
       "    </tr>\n",
       "    <tr>\n",
       "      <th>7</th>\n",
       "      <td>5</td>\n",
       "      <td>3</td>\n",
       "      <td>0.040072</td>\n",
       "    </tr>\n",
       "    <tr>\n",
       "      <th>8</th>\n",
       "      <td>5</td>\n",
       "      <td>5</td>\n",
       "      <td>0.041093</td>\n",
       "    </tr>\n",
       "    <tr>\n",
       "      <th>9</th>\n",
       "      <td>5</td>\n",
       "      <td>10</td>\n",
       "      <td>0.043634</td>\n",
       "    </tr>\n",
       "    <tr>\n",
       "      <th>10</th>\n",
       "      <td>10</td>\n",
       "      <td>1</td>\n",
       "      <td>0.042190</td>\n",
       "    </tr>\n",
       "    <tr>\n",
       "      <th>11</th>\n",
       "      <td>10</td>\n",
       "      <td>2</td>\n",
       "      <td>0.043116</td>\n",
       "    </tr>\n",
       "    <tr>\n",
       "      <th>12</th>\n",
       "      <td>10</td>\n",
       "      <td>3</td>\n",
       "      <td>0.044097</td>\n",
       "    </tr>\n",
       "    <tr>\n",
       "      <th>13</th>\n",
       "      <td>10</td>\n",
       "      <td>5</td>\n",
       "      <td>0.046249</td>\n",
       "    </tr>\n",
       "    <tr>\n",
       "      <th>14</th>\n",
       "      <td>10</td>\n",
       "      <td>10</td>\n",
       "      <td>0.053458</td>\n",
       "    </tr>\n",
       "  </tbody>\n",
       "</table>\n",
       "</div>"
      ],
      "text/plain": [
       "    start  tenor  Forward_Swap_Rates\n",
       "0       1      1            0.031922\n",
       "1       1      2            0.033217\n",
       "2       1      3            0.033982\n",
       "3       1      5            0.035238\n",
       "4       1     10            0.038419\n",
       "5       5      1            0.039274\n",
       "6       5      2            0.040075\n",
       "7       5      3            0.040072\n",
       "8       5      5            0.041093\n",
       "9       5     10            0.043634\n",
       "10     10      1            0.042190\n",
       "11     10      2            0.043116\n",
       "12     10      3            0.044097\n",
       "13     10      5            0.046249\n",
       "14     10     10            0.053458"
      ]
     },
     "execution_count": 4164,
     "metadata": {},
     "output_type": "execute_result"
    }
   ],
   "source": [
    "fsr = pd.DataFrame({'start' : [1]*5 + [5]*5 + [10]*5,\n",
    "                          'tenor' : [1,2,3,5,10]*3, \n",
    "                          'Forward_Swap_Rates': [np.nan]*15\n",
    "                   })\n",
    "                    # 'f_ois': [np.nan]*15})\n",
    "\n",
    "for idx, row in fsr.iterrows():\n",
    "    start = row['start']\n",
    "    tenor = row['tenor']\n",
    "    ois_day_frac = 1\n",
    "    L = 1\n",
    "\n",
    "    fsr.at[idx, 'Forward_Swap_Rates'] = fsolve(payer_irs_fwd_swap,\n",
    "                                      guess,\n",
    "                                      args=(start,\n",
    "                                            tenor,\n",
    "                                            IRS_cleaned))\n",
    "    \n",
    "    # compute forward OIS\n",
    "    # num = OIS_data.loc[OIS_data.Years==start]['OIS_Discount_Factor'].values[0] - OIS_data.loc[OIS_data.Years==start+tenor]['OIS_Discount_Factor'].values[0]\n",
    "    # den = ois_day_frac * (OIS_data.loc[OIS_data.Years<=start+tenor]['OIS_Discount_Factor'].sum() - OIS_data.loc[OIS_data.Years<=start]['OIS_Discount_Factor'].sum())\n",
    "    # fsr.at[idx, 'f_ois'] = num/den\n",
    "\n",
    "fsr"
   ]
  },
  {
   "cell_type": "code",
   "execution_count": 4165,
   "metadata": {},
   "outputs": [],
   "source": [
    "fsr.to_csv(\"Forward_swap_rates_df.csv\",index=False)"
   ]
  },
  {
   "cell_type": "code",
   "execution_count": 4166,
   "metadata": {},
   "outputs": [],
   "source": [
    "IRS_cleaned.to_csv(\"Discount_Factors.csv\",index=False)"
   ]
  },
  {
   "cell_type": "markdown",
   "metadata": {
    "jp-MarkdownHeadingCollapsed": true
   },
   "source": [
    "# <a id = \"p5\">5.</a>  <font color = \"green\"> Appendix </font>  [back to table of contents](#top)"
   ]
  },
  {
   "cell_type": "markdown",
   "metadata": {},
   "source": [
    "This section demonstrates that the problem can be approached using an alternative method, yielding results that are very close to those obtained through the approach outlined in the project notes."
   ]
  },
  {
   "cell_type": "markdown",
   "metadata": {},
   "source": [
    "## Helper Functions"
   ]
  },
  {
   "cell_type": "code",
   "execution_count": 4170,
   "metadata": {},
   "outputs": [],
   "source": [
    "def plot_discount_curve(df: pd.DataFrame,\n",
    "                        discount_curve: str,\n",
    "                        title: str):\n",
    "    \n",
    "    fig = go.Figure()\n",
    "\n",
    "    fig.add_trace(go.Scatter(\n",
    "        x=df.index, \n",
    "        y=df[discount_curve], \n",
    "        mode='lines+markers',\n",
    "        name=\"Discount Curve\",\n",
    "        line=dict(width=2), \n",
    "        marker=dict(size=6)\n",
    "    ))\n",
    "\n",
    "    fig.update_layout(\n",
    "        title=title,\n",
    "        xaxis_title=\"Tenor (years)\",\n",
    "        yaxis_title=\"Discount Factor\",\n",
    "        template=\"plotly_white\",\n",
    "        xaxis=dict(showgrid=True),\n",
    "        yaxis=dict(showgrid=True)\n",
    "    )\n",
    "\n",
    "    fig.show()"
   ]
  },
  {
   "cell_type": "code",
   "execution_count": 4171,
   "metadata": {},
   "outputs": [],
   "source": [
    "def tenor_to_days_and_years(data: pd.DataFrame) -> pd.DataFrame:\n",
    "    if \"Tenor\" not in data.columns:\n",
    "        raise KeyError(\"Column 'Tenor' is missing from the DataFrame.\")\n",
    "\n",
    "    data[\"Tenor_Number\"] = data[\"Tenor\"].str[:-1].astype(int)\n",
    "    data[\"Tenor_Unit\"] = data[\"Tenor\"].str[-1]\n",
    "\n",
    "    data[\"Days\"] = np.where(\n",
    "        data[\"Tenor_Unit\"] == \"m\", \n",
    "        data[\"Tenor_Number\"] * 30,\n",
    "        np.where(data[\"Tenor_Unit\"] == \"y\", \n",
    "                 data[\"Tenor_Number\"] * 360, \n",
    "                 np.nan)\n",
    "    )\n",
    "\n",
    "    data[\"Years\"] = data[\"Days\"] / 360\n",
    "\n",
    "    data.drop(columns=[\"Tenor_Number\", \"Tenor_Unit\"], inplace=True)\n",
    "    return data"
   ]
  },
  {
   "cell_type": "code",
   "execution_count": 4172,
   "metadata": {},
   "outputs": [],
   "source": [
    "def plot_discount_curve(df: pd.DataFrame,\n",
    "                        discount_curve: str,\n",
    "                        title: str):\n",
    "    \n",
    "    fig = go.Figure()\n",
    "\n",
    "    fig.add_trace(go.Scatter(\n",
    "        x=df.index, \n",
    "        y=df[discount_curve], \n",
    "        mode='lines+markers',\n",
    "        name=\"Discount Curve\",\n",
    "        line=dict(width=2), \n",
    "        marker=dict(size=6)\n",
    "    ))\n",
    "\n",
    "    fig.update_layout(\n",
    "        title=title,\n",
    "        xaxis_title=\"Tenor (years)\",\n",
    "        yaxis_title=\"Discount Factor\",\n",
    "        template=\"plotly_white\",\n",
    "        xaxis=dict(showgrid=True),\n",
    "        yaxis=dict(showgrid=True)\n",
    "    )\n",
    "\n",
    "    fig.show()"
   ]
  },
  {
   "cell_type": "markdown",
   "metadata": {},
   "source": [
    "## Bootstrap the OIS Discount Factor"
   ]
  },
  {
   "cell_type": "code",
   "execution_count": 4174,
   "metadata": {},
   "outputs": [],
   "source": [
    "OIS_data_appendix = pd.read_excel(\"IR Data.xlsx\",\n",
    "                         sheet_name=\"OIS\",\n",
    "                         usecols=\"A:C\")"
   ]
  },
  {
   "cell_type": "code",
   "execution_count": 4175,
   "metadata": {},
   "outputs": [
    {
     "data": {
      "text/html": [
       "<div>\n",
       "<style scoped>\n",
       "    .dataframe tbody tr th:only-of-type {\n",
       "        vertical-align: middle;\n",
       "    }\n",
       "\n",
       "    .dataframe tbody tr th {\n",
       "        vertical-align: top;\n",
       "    }\n",
       "\n",
       "    .dataframe thead th {\n",
       "        text-align: right;\n",
       "    }\n",
       "</style>\n",
       "<table border=\"1\" class=\"dataframe\">\n",
       "  <thead>\n",
       "    <tr style=\"text-align: right;\">\n",
       "      <th></th>\n",
       "      <th>Tenor</th>\n",
       "      <th>Product</th>\n",
       "      <th>Rate</th>\n",
       "      <th>Days</th>\n",
       "      <th>Years</th>\n",
       "    </tr>\n",
       "  </thead>\n",
       "  <tbody>\n",
       "    <tr>\n",
       "      <th>0</th>\n",
       "      <td>6m</td>\n",
       "      <td>OIS</td>\n",
       "      <td>0.00250</td>\n",
       "      <td>180.0</td>\n",
       "      <td>0.5</td>\n",
       "    </tr>\n",
       "    <tr>\n",
       "      <th>1</th>\n",
       "      <td>1y</td>\n",
       "      <td>OIS</td>\n",
       "      <td>0.00300</td>\n",
       "      <td>360.0</td>\n",
       "      <td>1.0</td>\n",
       "    </tr>\n",
       "    <tr>\n",
       "      <th>2</th>\n",
       "      <td>2y</td>\n",
       "      <td>OIS</td>\n",
       "      <td>0.00325</td>\n",
       "      <td>720.0</td>\n",
       "      <td>2.0</td>\n",
       "    </tr>\n",
       "    <tr>\n",
       "      <th>3</th>\n",
       "      <td>3y</td>\n",
       "      <td>OIS</td>\n",
       "      <td>0.00335</td>\n",
       "      <td>1080.0</td>\n",
       "      <td>3.0</td>\n",
       "    </tr>\n",
       "    <tr>\n",
       "      <th>4</th>\n",
       "      <td>4y</td>\n",
       "      <td>OIS</td>\n",
       "      <td>0.00350</td>\n",
       "      <td>1440.0</td>\n",
       "      <td>4.0</td>\n",
       "    </tr>\n",
       "    <tr>\n",
       "      <th>5</th>\n",
       "      <td>5y</td>\n",
       "      <td>OIS</td>\n",
       "      <td>0.00360</td>\n",
       "      <td>1800.0</td>\n",
       "      <td>5.0</td>\n",
       "    </tr>\n",
       "    <tr>\n",
       "      <th>6</th>\n",
       "      <td>7y</td>\n",
       "      <td>OIS</td>\n",
       "      <td>0.00400</td>\n",
       "      <td>2520.0</td>\n",
       "      <td>7.0</td>\n",
       "    </tr>\n",
       "    <tr>\n",
       "      <th>7</th>\n",
       "      <td>10y</td>\n",
       "      <td>OIS</td>\n",
       "      <td>0.00450</td>\n",
       "      <td>3600.0</td>\n",
       "      <td>10.0</td>\n",
       "    </tr>\n",
       "    <tr>\n",
       "      <th>8</th>\n",
       "      <td>15y</td>\n",
       "      <td>OIS</td>\n",
       "      <td>0.00500</td>\n",
       "      <td>5400.0</td>\n",
       "      <td>15.0</td>\n",
       "    </tr>\n",
       "    <tr>\n",
       "      <th>9</th>\n",
       "      <td>20y</td>\n",
       "      <td>OIS</td>\n",
       "      <td>0.00525</td>\n",
       "      <td>7200.0</td>\n",
       "      <td>20.0</td>\n",
       "    </tr>\n",
       "    <tr>\n",
       "      <th>10</th>\n",
       "      <td>30y</td>\n",
       "      <td>OIS</td>\n",
       "      <td>0.00550</td>\n",
       "      <td>10800.0</td>\n",
       "      <td>30.0</td>\n",
       "    </tr>\n",
       "  </tbody>\n",
       "</table>\n",
       "</div>"
      ],
      "text/plain": [
       "   Tenor Product     Rate     Days  Years\n",
       "0     6m     OIS  0.00250    180.0    0.5\n",
       "1     1y     OIS  0.00300    360.0    1.0\n",
       "2     2y     OIS  0.00325    720.0    2.0\n",
       "3     3y     OIS  0.00335   1080.0    3.0\n",
       "4     4y     OIS  0.00350   1440.0    4.0\n",
       "5     5y     OIS  0.00360   1800.0    5.0\n",
       "6     7y     OIS  0.00400   2520.0    7.0\n",
       "7    10y     OIS  0.00450   3600.0   10.0\n",
       "8    15y     OIS  0.00500   5400.0   15.0\n",
       "9    20y     OIS  0.00525   7200.0   20.0\n",
       "10   30y     OIS  0.00550  10800.0   30.0"
      ]
     },
     "execution_count": 4175,
     "metadata": {},
     "output_type": "execute_result"
    }
   ],
   "source": [
    "tenor_to_days_and_years(OIS_data_appendix)"
   ]
  },
  {
   "cell_type": "markdown",
   "metadata": {},
   "source": [
    "### Short Tenor OIS Discount Factor\n",
    "\n",
    "For short maturities ≤ 1Y, the discount factor is calculated using the 30/360 day count convention:\n",
    "\n",
    "$$\n",
    "DF = \\frac{1}{1 + \\left( \\frac{\\text{days}}{360} \\right) \\cdot r}\n",
    "$$\n",
    "\n",
    "Where:\n",
    "- \\(days\\): Tenor in days.\n",
    "- \\(r\\): OIS annualized rate (in decimals, e.g. 0.003 for 0.3%).\n"
   ]
  },
  {
   "cell_type": "code",
   "execution_count": 4177,
   "metadata": {},
   "outputs": [],
   "source": [
    "def handle_short_tenor(row, data, OIS_fixed_leg_frequency):\n",
    "    days = data.at[row, \"Days\"]\n",
    "    years = data.at[row, \"Years\"]\n",
    "    rate = data.at[row, \"Rate\"]\n",
    "\n",
    "    df = 1 / (1 + (days / 360) * rate)\n",
    "    data.at[row, \"OIS_Discount_Factor\"] = df\n",
    "\n",
    "    if years >= OIS_fixed_leg_frequency / 360:\n",
    "        data.at[row, \"Sum_Discount_Factor\"] = df\n",
    "\n",
    "    return data"
   ]
  },
  {
   "cell_type": "markdown",
   "metadata": {},
   "source": [
    "###  Long Tenor OIS Discount Factor\n",
    "\n",
    "For tenors longer than one fixed leg period, the OIS discount factor is computed by solving the swap pricing condition:\n",
    "\n",
    "$$\n",
    "DF_n = \\frac{1 - r \\cdot \\text{SumDF}_{n-1} - \\text{gap} \\cdot 0.5 \\cdot r \\cdot DF_{n-1}}{1 + (1 + \\text{gap} \\cdot 0.5) \\cdot r}\n",
    "$$\n",
    "\n",
    "Where:\n",
    "- \\( DF_n \\): Current discount factor.\n",
    "- \\( DF_n-1 \\): Previous discount factor.\n",
    "- \\( SumDF_n-1\\): Cumulative sum of discount factors before year \\( n \\).\n",
    "- \\(r\\): Annualized OIS rate (in decimals).\n",
    "- \\( gap = t_n - t_n-1 - 1 \\): Years between the previous and current tenor, minus the first year already handled separately.\n",
    "\n",
    "This formula ensures that the present value of fixed and floating legs remains equal when bootstrapping over long maturities."
   ]
  },
  {
   "cell_type": "code",
   "execution_count": 4179,
   "metadata": {},
   "outputs": [],
   "source": [
    "def calculate_long_discount_factor(rate, prev_sum_df, prev_years, current_years, prev_df):\n",
    "    gap = current_years - prev_years - 1\n",
    "    numerator = 1 - rate * prev_sum_df - gap * 0.5 * rate * prev_df\n",
    "    denominator = 1 + (1 + gap * 0.5) * rate\n",
    "    return numerator / denominator"
   ]
  },
  {
   "cell_type": "markdown",
   "metadata": {},
   "source": [
    "### First Year Sum of Discount Factors\n",
    "\n",
    "This function updates the cumulative sum of discount factors when the current tenor is **exactly one year beyond** the previous tenor.\n",
    "\n",
    "$$\n",
    "\\text{SumDF}_n = (t_n - t_{n-1}) \\cdot DF_n + \\text{SumDF}_{n-1}\n",
    "$$\n",
    "\n",
    "Where:\n",
    "- \\( SumDF_n \\): New cumulative sum of discount factors.\n",
    "- \\( DF_n \\): Current discount factor.\n",
    "- \\( SumDF_n-1 \\): Previous cumulative sum.\n",
    "- \\( t_n - t_n-1 \\): Time interval in years (typically 1 here).\n",
    "\n",
    "Used during OIS bootstrapping when there is no need to interpolate between discount factors (i.e. simple year-on-year accumulation)."
   ]
  },
  {
   "cell_type": "code",
   "execution_count": 4181,
   "metadata": {},
   "outputs": [],
   "source": [
    "def sum_df_first_year(years, prev_years, current_df, prev_sum_df):\n",
    "    return (years - prev_years) * current_df + prev_sum_df"
   ]
  },
  {
   "cell_type": "markdown",
   "metadata": {},
   "source": [
    "### Trapezoidal Sum of Discount Factors\n",
    "\n",
    "This function updates the cumulative sum of discount factors when the time interval between two tenors is **greater than one year**, requiring interpolation using the trapezoidal rule.\n",
    "\n",
    "$$\n",
    "\\text{SumDF}_n = (t_n - t_{n-1} - 1) \\cdot \\frac{DF_{n-1} + DF_n}{2} + DF_{n-1} + \\text{SumDF}_{n-1}\n",
    "$$\n",
    "\n",
    "Where:\n",
    "- \\( SumDF_n \\): New cumulative sum of discount factors.\n",
    "- \\( DF_n-1 \\), \\( DF_n \\): Previous and current discount factors.\n",
    "- \\( t_n - t_n-1 \\): Time difference in years between current and previous tenors.\n",
    "- The `− 1` accounts for the first year already included in a prior term.\n",
    "\n",
    "Used during OIS bootstrapping when interpolating between annual fixed leg payments over multi-year tenors."
   ]
  },
  {
   "cell_type": "code",
   "execution_count": 4183,
   "metadata": {},
   "outputs": [],
   "source": [
    "def sum_df_trapezoidal(years, prev_years, prev_df, current_df, prev_sum_df):\n",
    "    delta_years = years - prev_years + 1\n",
    "    average_df = (prev_df + current_df) / 2\n",
    "    return delta_years * average_df - prev_df + prev_sum_df"
   ]
  },
  {
   "cell_type": "markdown",
   "metadata": {},
   "source": [
    "### Long Tenor Handler for OIS Bootstrapping\n",
    "\n",
    "This function computes the discount factor and cumulative sum of discount factors for OIS instruments with tenors **greater than 1 year**.\n",
    "\n",
    "---\n",
    "\n",
    "#### Step 1: Compute the Discount Factor\n",
    "\n",
    "The long-tenor discount factor is derived from the swap pricing condition:\n",
    "\n",
    "$$\n",
    "DF_n = \\frac{1 - r \\cdot \\text{SumDF}_{n-1} - \\text{gap} \\cdot 0.5 \\cdot r \\cdot DF_{n-1}}{1 + (1 + \\text{gap} \\cdot 0.5) \\cdot r}\n",
    "$$\n",
    "\n",
    "Where:\n",
    "- \\( DF_n \\): Current discount factor.\n",
    "- \\( DF_{n-1} \\): Previous discount factor.\n",
    "- \\( SumDF_n-1 \\): Previous cumulative sum.\n",
    "- \\( r \\): OIS rate.\n",
    "- \\( gap = t_n - t_n-1 - 1 \\): Number of years beyond the first.\n",
    "\n",
    "---\n",
    "\n",
    "#### Step 2: Compute the Sum of Discount Factors\n",
    "\n",
    "- If \\( t_n - t_n-1 = 1 \\): Use direct accumulation:\n",
    "\n",
    "$$\n",
    "\\text{SumDF}_n = (t_n - t_{n-1}) \\cdot DF_n + \\text{SumDF}_{n-1}\n",
    "$$\n",
    "\n",
    "- Else (tenor spans multiple years): Use trapezoidal integration:\n",
    "\n",
    "$$\n",
    "\\text{SumDF}_n = (t_n - t_{n-1} - 1) \\cdot \\frac{DF_n + DF_{n-1}}{2} + DF_{n-1} + \\text{SumDF}_{n-1}\n",
    "$$\n",
    "\n",
    "---\n",
    "\n",
    "This modular design allows for accurate and flexible OIS curve construction using a mix of exact and interpolated values."
   ]
  },
  {
   "cell_type": "code",
   "execution_count": 4185,
   "metadata": {},
   "outputs": [],
   "source": [
    "def handle_long_tenor(row, data):\n",
    "    years = data.at[row, \"Years\"]\n",
    "    prev_years = data.at[row - 1, \"Years\"]\n",
    "    rate = data.at[row, \"Rate\"]\n",
    "    prev_df = data.at[row - 1, \"OIS_Discount_Factor\"]\n",
    "    prev_sum_df = data.at[row - 1, \"Sum_Discount_Factor\"]\n",
    "\n",
    "    df = calculate_long_discount_factor(rate, prev_sum_df, prev_years, years, prev_df)\n",
    "    data.at[row, \"OIS_Discount_Factor\"] = df\n",
    "\n",
    "    if (years - prev_years) == 1:\n",
    "        sum_df = sum_df_first_year(years, prev_years, df, prev_sum_df)\n",
    "    else:\n",
    "        sum_df = sum_df_trapezoidal(years, prev_years, prev_df, df, prev_sum_df)\n",
    "\n",
    "    data.at[row, \"Sum_Discount_Factor\"] = sum_df\n",
    "\n",
    "    return data"
   ]
  },
  {
   "cell_type": "markdown",
   "metadata": {},
   "source": [
    "### OIS Bootstrapping Loop\n",
    "\n",
    "This loop constructs the OIS discount curve by iterating over each tenor in the data:\n",
    "\n",
    "1. **Short-tenor logic** (first row or ≤ 1 fixed-leg period):\n",
    "   - Uses the short tenor formula:\n",
    "\n",
    "    $$\n",
    "   DF = \\frac{1}{1 + \\left( \\frac{\\text{days}}{360} \\right) \\cdot r}\n",
    "   $$\n",
    "   - Applied via `handle_short_tenor`.\n",
    "\n",
    "4. **Long-tenor logic** (tenor > 1Y):\n",
    "   - Bootstraps the OIS discount factor using swap pricing logic and prior terms.\n",
    "   - Applied via `handle_long_tenor`.\n",
    "\n",
    "Both discount factors and their cumulative sums are computed and stored:\n",
    "\n",
    "- `\"OIS_Discount_Factor\"`: Present value at the given maturity.\n",
    "- `\"Sum_Discount_Factor\"`: Aggregated value used for pricing longer swaps."
   ]
  },
  {
   "cell_type": "code",
   "execution_count": 4187,
   "metadata": {},
   "outputs": [
    {
     "data": {
      "text/html": [
       "<div>\n",
       "<style scoped>\n",
       "    .dataframe tbody tr th:only-of-type {\n",
       "        vertical-align: middle;\n",
       "    }\n",
       "\n",
       "    .dataframe tbody tr th {\n",
       "        vertical-align: top;\n",
       "    }\n",
       "\n",
       "    .dataframe thead th {\n",
       "        text-align: right;\n",
       "    }\n",
       "</style>\n",
       "<table border=\"1\" class=\"dataframe\">\n",
       "  <thead>\n",
       "    <tr style=\"text-align: right;\">\n",
       "      <th></th>\n",
       "      <th>Tenor</th>\n",
       "      <th>Product</th>\n",
       "      <th>Rate</th>\n",
       "      <th>Days</th>\n",
       "      <th>Years</th>\n",
       "      <th>OIS_Discount_Factor</th>\n",
       "      <th>Sum_Discount_Factor</th>\n",
       "    </tr>\n",
       "  </thead>\n",
       "  <tbody>\n",
       "    <tr>\n",
       "      <th>0</th>\n",
       "      <td>6m</td>\n",
       "      <td>OIS</td>\n",
       "      <td>0.00250</td>\n",
       "      <td>180.0</td>\n",
       "      <td>0.5</td>\n",
       "      <td>0.998752</td>\n",
       "      <td>NaN</td>\n",
       "    </tr>\n",
       "    <tr>\n",
       "      <th>1</th>\n",
       "      <td>1y</td>\n",
       "      <td>OIS</td>\n",
       "      <td>0.00300</td>\n",
       "      <td>360.0</td>\n",
       "      <td>1.0</td>\n",
       "      <td>0.997009</td>\n",
       "      <td>0.997009</td>\n",
       "    </tr>\n",
       "    <tr>\n",
       "      <th>2</th>\n",
       "      <td>2y</td>\n",
       "      <td>OIS</td>\n",
       "      <td>0.00325</td>\n",
       "      <td>720.0</td>\n",
       "      <td>2.0</td>\n",
       "      <td>0.993531</td>\n",
       "      <td>1.990540</td>\n",
       "    </tr>\n",
       "    <tr>\n",
       "      <th>3</th>\n",
       "      <td>3y</td>\n",
       "      <td>OIS</td>\n",
       "      <td>0.00335</td>\n",
       "      <td>1080.0</td>\n",
       "      <td>3.0</td>\n",
       "      <td>0.990015</td>\n",
       "      <td>2.980555</td>\n",
       "    </tr>\n",
       "    <tr>\n",
       "      <th>4</th>\n",
       "      <td>4y</td>\n",
       "      <td>OIS</td>\n",
       "      <td>0.00350</td>\n",
       "      <td>1440.0</td>\n",
       "      <td>4.0</td>\n",
       "      <td>0.986117</td>\n",
       "      <td>3.966672</td>\n",
       "    </tr>\n",
       "    <tr>\n",
       "      <th>5</th>\n",
       "      <td>5y</td>\n",
       "      <td>OIS</td>\n",
       "      <td>0.00360</td>\n",
       "      <td>1800.0</td>\n",
       "      <td>5.0</td>\n",
       "      <td>0.982184</td>\n",
       "      <td>4.948856</td>\n",
       "    </tr>\n",
       "    <tr>\n",
       "      <th>6</th>\n",
       "      <td>7y</td>\n",
       "      <td>OIS</td>\n",
       "      <td>0.00400</td>\n",
       "      <td>2520.0</td>\n",
       "      <td>7.0</td>\n",
       "      <td>0.972406</td>\n",
       "      <td>6.898556</td>\n",
       "    </tr>\n",
       "    <tr>\n",
       "      <th>7</th>\n",
       "      <td>10y</td>\n",
       "      <td>OIS</td>\n",
       "      <td>0.00450</td>\n",
       "      <td>3600.0</td>\n",
       "      <td>10.0</td>\n",
       "      <td>0.955977</td>\n",
       "      <td>9.782916</td>\n",
       "    </tr>\n",
       "    <tr>\n",
       "      <th>8</th>\n",
       "      <td>15y</td>\n",
       "      <td>OIS</td>\n",
       "      <td>0.00500</td>\n",
       "      <td>5400.0</td>\n",
       "      <td>15.0</td>\n",
       "      <td>0.927611</td>\n",
       "      <td>14.477704</td>\n",
       "    </tr>\n",
       "    <tr>\n",
       "      <th>9</th>\n",
       "      <td>20y</td>\n",
       "      <td>OIS</td>\n",
       "      <td>0.00525</td>\n",
       "      <td>7200.0</td>\n",
       "      <td>20.0</td>\n",
       "      <td>0.900076</td>\n",
       "      <td>19.033155</td>\n",
       "    </tr>\n",
       "    <tr>\n",
       "      <th>10</th>\n",
       "      <td>30y</td>\n",
       "      <td>OIS</td>\n",
       "      <td>0.00550</td>\n",
       "      <td>10800.0</td>\n",
       "      <td>30.0</td>\n",
       "      <td>0.847407</td>\n",
       "      <td>27.744234</td>\n",
       "    </tr>\n",
       "  </tbody>\n",
       "</table>\n",
       "</div>"
      ],
      "text/plain": [
       "   Tenor Product     Rate     Days  Years  OIS_Discount_Factor  \\\n",
       "0     6m     OIS  0.00250    180.0    0.5             0.998752   \n",
       "1     1y     OIS  0.00300    360.0    1.0             0.997009   \n",
       "2     2y     OIS  0.00325    720.0    2.0             0.993531   \n",
       "3     3y     OIS  0.00335   1080.0    3.0             0.990015   \n",
       "4     4y     OIS  0.00350   1440.0    4.0             0.986117   \n",
       "5     5y     OIS  0.00360   1800.0    5.0             0.982184   \n",
       "6     7y     OIS  0.00400   2520.0    7.0             0.972406   \n",
       "7    10y     OIS  0.00450   3600.0   10.0             0.955977   \n",
       "8    15y     OIS  0.00500   5400.0   15.0             0.927611   \n",
       "9    20y     OIS  0.00525   7200.0   20.0             0.900076   \n",
       "10   30y     OIS  0.00550  10800.0   30.0             0.847407   \n",
       "\n",
       "    Sum_Discount_Factor  \n",
       "0                   NaN  \n",
       "1              0.997009  \n",
       "2              1.990540  \n",
       "3              2.980555  \n",
       "4              3.966672  \n",
       "5              4.948856  \n",
       "6              6.898556  \n",
       "7              9.782916  \n",
       "8             14.477704  \n",
       "9             19.033155  \n",
       "10            27.744234  "
      ]
     },
     "execution_count": 4187,
     "metadata": {},
     "output_type": "execute_result"
    }
   ],
   "source": [
    "OIS_data_appendix[\"OIS_Discount_Factor\"] = np.nan\n",
    "OIS_data_appendix[\"Sum_Discount_Factor\"] = np.nan\n",
    "\n",
    "for row in range(len(OIS_data_appendix)):\n",
    "    days = OIS_data_appendix.at[row, \"Days\"]\n",
    "    if row == 0 or days <= OIS_fixed_leg_frequency:\n",
    "        OIS_data_appendix = handle_short_tenor(row, OIS_data_appendix, OIS_fixed_leg_frequency)\n",
    "    else:\n",
    "        OIS_data_appendix = handle_long_tenor(row, OIS_data_appendix)\n",
    "OIS_data_appendix"
   ]
  },
  {
   "cell_type": "markdown",
   "metadata": {},
   "source": [
    "### OIS Discount Factor Interpolation\n",
    "\n",
    "This section fills in missing discount factors on a **0.5-year grid** by linearly interpolating between known maturities.\n",
    "\n",
    "---\n",
    "\n",
    "#### Steps:\n",
    "\n",
    "1. **Subset Columns**: Keep only `\"Years\"`, `\"Rate\"`, and `\"OIS_Discount_Factor\"` for interpolation.\n",
    "\n",
    "2. **Define Grid**: Create a regularly spaced sequence:\n",
    "   $$\n",
    "   \\text{full\\_years} = [0.5, 1.0, 1.5, \\dots, 30.0]\n",
    "   $$\n",
    "\n",
    "3. **Identify Gaps**: Compare existing maturities with the full grid to find missing time points.\n",
    "\n",
    "4. **Create Dummy Rows**: Add NaN-filled rows for the missing maturities.\n",
    "\n",
    "5. **Combine and Interpolate**:\n",
    "   - Concatenate real and dummy data.\n",
    "   - Sort by `\"Years\"`.\n",
    "   - Interpolate linearly over the missing values:\n",
    "     $$\n",
    "     DF(t) = DF(t_1) + \\frac{t - t_1}{t_2 - t_1} \\cdot (DF(t_2) - DF(t_1))\n",
    "     $$\n",
    "\n",
    "---\n"
   ]
  },
  {
   "cell_type": "code",
   "execution_count": 4189,
   "metadata": {},
   "outputs": [],
   "source": [
    "columns = [\"Years\", \"Rate\", \"OIS_Discount_Factor\"]\n",
    "OIS_Interpolated_Data = OIS_data_appendix[columns].copy()\n",
    "full_years = np.arange(0.5, 30.5, 0.5)\n",
    "\n",
    "existing_years = set(OIS_Interpolated_Data[\"Years\"])\n",
    "missing_years = [year for year in full_years if year not in existing_years]\n",
    "\n",
    "missing_df = pd.DataFrame({\n",
    "    \"Years\": missing_years,\n",
    "    \"Rate\": np.nan,\n",
    "    \"OIS_Discount_Factor\": np.nan\n",
    "})\n",
    "\n",
    "OIS_Interpolated_Data = (\n",
    "    pd.concat([OIS_Interpolated_Data, missing_df])\n",
    "    .sort_values(\"Years\")\n",
    "    .interpolate(method=\"linear\")\n",
    "    .set_index(\"Years\")\n",
    ")"
   ]
  },
  {
   "cell_type": "code",
   "execution_count": 4190,
   "metadata": {},
   "outputs": [
    {
     "data": {
      "text/html": [
       "<div>\n",
       "<style scoped>\n",
       "    .dataframe tbody tr th:only-of-type {\n",
       "        vertical-align: middle;\n",
       "    }\n",
       "\n",
       "    .dataframe tbody tr th {\n",
       "        vertical-align: top;\n",
       "    }\n",
       "\n",
       "    .dataframe thead th {\n",
       "        text-align: right;\n",
       "    }\n",
       "</style>\n",
       "<table border=\"1\" class=\"dataframe\">\n",
       "  <thead>\n",
       "    <tr style=\"text-align: right;\">\n",
       "      <th></th>\n",
       "      <th>Rate</th>\n",
       "      <th>OIS_Discount_Factor</th>\n",
       "    </tr>\n",
       "    <tr>\n",
       "      <th>Years</th>\n",
       "      <th></th>\n",
       "      <th></th>\n",
       "    </tr>\n",
       "  </thead>\n",
       "  <tbody>\n",
       "    <tr>\n",
       "      <th>0.5</th>\n",
       "      <td>0.002500</td>\n",
       "      <td>0.998752</td>\n",
       "    </tr>\n",
       "    <tr>\n",
       "      <th>1.0</th>\n",
       "      <td>0.003000</td>\n",
       "      <td>0.997009</td>\n",
       "    </tr>\n",
       "    <tr>\n",
       "      <th>1.5</th>\n",
       "      <td>0.003125</td>\n",
       "      <td>0.995270</td>\n",
       "    </tr>\n",
       "    <tr>\n",
       "      <th>2.0</th>\n",
       "      <td>0.003250</td>\n",
       "      <td>0.993531</td>\n",
       "    </tr>\n",
       "    <tr>\n",
       "      <th>2.5</th>\n",
       "      <td>0.003300</td>\n",
       "      <td>0.991773</td>\n",
       "    </tr>\n",
       "    <tr>\n",
       "      <th>3.0</th>\n",
       "      <td>0.003350</td>\n",
       "      <td>0.990015</td>\n",
       "    </tr>\n",
       "    <tr>\n",
       "      <th>3.5</th>\n",
       "      <td>0.003425</td>\n",
       "      <td>0.988066</td>\n",
       "    </tr>\n",
       "    <tr>\n",
       "      <th>4.0</th>\n",
       "      <td>0.003500</td>\n",
       "      <td>0.986117</td>\n",
       "    </tr>\n",
       "    <tr>\n",
       "      <th>4.5</th>\n",
       "      <td>0.003550</td>\n",
       "      <td>0.984150</td>\n",
       "    </tr>\n",
       "    <tr>\n",
       "      <th>5.0</th>\n",
       "      <td>0.003600</td>\n",
       "      <td>0.982184</td>\n",
       "    </tr>\n",
       "    <tr>\n",
       "      <th>5.5</th>\n",
       "      <td>0.003700</td>\n",
       "      <td>0.979740</td>\n",
       "    </tr>\n",
       "    <tr>\n",
       "      <th>6.0</th>\n",
       "      <td>0.003800</td>\n",
       "      <td>0.977295</td>\n",
       "    </tr>\n",
       "    <tr>\n",
       "      <th>6.5</th>\n",
       "      <td>0.003900</td>\n",
       "      <td>0.974850</td>\n",
       "    </tr>\n",
       "    <tr>\n",
       "      <th>7.0</th>\n",
       "      <td>0.004000</td>\n",
       "      <td>0.972406</td>\n",
       "    </tr>\n",
       "    <tr>\n",
       "      <th>7.5</th>\n",
       "      <td>0.004083</td>\n",
       "      <td>0.969668</td>\n",
       "    </tr>\n",
       "    <tr>\n",
       "      <th>8.0</th>\n",
       "      <td>0.004167</td>\n",
       "      <td>0.966929</td>\n",
       "    </tr>\n",
       "    <tr>\n",
       "      <th>8.5</th>\n",
       "      <td>0.004250</td>\n",
       "      <td>0.964191</td>\n",
       "    </tr>\n",
       "    <tr>\n",
       "      <th>9.0</th>\n",
       "      <td>0.004333</td>\n",
       "      <td>0.961453</td>\n",
       "    </tr>\n",
       "    <tr>\n",
       "      <th>9.5</th>\n",
       "      <td>0.004417</td>\n",
       "      <td>0.958715</td>\n",
       "    </tr>\n",
       "    <tr>\n",
       "      <th>10.0</th>\n",
       "      <td>0.004500</td>\n",
       "      <td>0.955977</td>\n",
       "    </tr>\n",
       "    <tr>\n",
       "      <th>10.5</th>\n",
       "      <td>0.004550</td>\n",
       "      <td>0.953140</td>\n",
       "    </tr>\n",
       "    <tr>\n",
       "      <th>11.0</th>\n",
       "      <td>0.004600</td>\n",
       "      <td>0.950304</td>\n",
       "    </tr>\n",
       "    <tr>\n",
       "      <th>11.5</th>\n",
       "      <td>0.004650</td>\n",
       "      <td>0.947467</td>\n",
       "    </tr>\n",
       "    <tr>\n",
       "      <th>12.0</th>\n",
       "      <td>0.004700</td>\n",
       "      <td>0.944631</td>\n",
       "    </tr>\n",
       "    <tr>\n",
       "      <th>12.5</th>\n",
       "      <td>0.004750</td>\n",
       "      <td>0.941794</td>\n",
       "    </tr>\n",
       "    <tr>\n",
       "      <th>13.0</th>\n",
       "      <td>0.004800</td>\n",
       "      <td>0.938958</td>\n",
       "    </tr>\n",
       "    <tr>\n",
       "      <th>13.5</th>\n",
       "      <td>0.004850</td>\n",
       "      <td>0.936121</td>\n",
       "    </tr>\n",
       "    <tr>\n",
       "      <th>14.0</th>\n",
       "      <td>0.004900</td>\n",
       "      <td>0.933285</td>\n",
       "    </tr>\n",
       "    <tr>\n",
       "      <th>14.5</th>\n",
       "      <td>0.004950</td>\n",
       "      <td>0.930448</td>\n",
       "    </tr>\n",
       "    <tr>\n",
       "      <th>15.0</th>\n",
       "      <td>0.005000</td>\n",
       "      <td>0.927611</td>\n",
       "    </tr>\n",
       "    <tr>\n",
       "      <th>15.5</th>\n",
       "      <td>0.005025</td>\n",
       "      <td>0.924858</td>\n",
       "    </tr>\n",
       "    <tr>\n",
       "      <th>16.0</th>\n",
       "      <td>0.005050</td>\n",
       "      <td>0.922104</td>\n",
       "    </tr>\n",
       "    <tr>\n",
       "      <th>16.5</th>\n",
       "      <td>0.005075</td>\n",
       "      <td>0.919351</td>\n",
       "    </tr>\n",
       "    <tr>\n",
       "      <th>17.0</th>\n",
       "      <td>0.005100</td>\n",
       "      <td>0.916597</td>\n",
       "    </tr>\n",
       "    <tr>\n",
       "      <th>17.5</th>\n",
       "      <td>0.005125</td>\n",
       "      <td>0.913844</td>\n",
       "    </tr>\n",
       "    <tr>\n",
       "      <th>18.0</th>\n",
       "      <td>0.005150</td>\n",
       "      <td>0.911090</td>\n",
       "    </tr>\n",
       "    <tr>\n",
       "      <th>18.5</th>\n",
       "      <td>0.005175</td>\n",
       "      <td>0.908337</td>\n",
       "    </tr>\n",
       "    <tr>\n",
       "      <th>19.0</th>\n",
       "      <td>0.005200</td>\n",
       "      <td>0.905583</td>\n",
       "    </tr>\n",
       "    <tr>\n",
       "      <th>19.5</th>\n",
       "      <td>0.005225</td>\n",
       "      <td>0.902829</td>\n",
       "    </tr>\n",
       "    <tr>\n",
       "      <th>20.0</th>\n",
       "      <td>0.005250</td>\n",
       "      <td>0.900076</td>\n",
       "    </tr>\n",
       "    <tr>\n",
       "      <th>20.5</th>\n",
       "      <td>0.005263</td>\n",
       "      <td>0.897442</td>\n",
       "    </tr>\n",
       "    <tr>\n",
       "      <th>21.0</th>\n",
       "      <td>0.005275</td>\n",
       "      <td>0.894809</td>\n",
       "    </tr>\n",
       "    <tr>\n",
       "      <th>21.5</th>\n",
       "      <td>0.005288</td>\n",
       "      <td>0.892176</td>\n",
       "    </tr>\n",
       "    <tr>\n",
       "      <th>22.0</th>\n",
       "      <td>0.005300</td>\n",
       "      <td>0.889542</td>\n",
       "    </tr>\n",
       "    <tr>\n",
       "      <th>22.5</th>\n",
       "      <td>0.005313</td>\n",
       "      <td>0.886909</td>\n",
       "    </tr>\n",
       "    <tr>\n",
       "      <th>23.0</th>\n",
       "      <td>0.005325</td>\n",
       "      <td>0.884275</td>\n",
       "    </tr>\n",
       "    <tr>\n",
       "      <th>23.5</th>\n",
       "      <td>0.005338</td>\n",
       "      <td>0.881642</td>\n",
       "    </tr>\n",
       "    <tr>\n",
       "      <th>24.0</th>\n",
       "      <td>0.005350</td>\n",
       "      <td>0.879008</td>\n",
       "    </tr>\n",
       "    <tr>\n",
       "      <th>24.5</th>\n",
       "      <td>0.005363</td>\n",
       "      <td>0.876375</td>\n",
       "    </tr>\n",
       "    <tr>\n",
       "      <th>25.0</th>\n",
       "      <td>0.005375</td>\n",
       "      <td>0.873741</td>\n",
       "    </tr>\n",
       "    <tr>\n",
       "      <th>25.5</th>\n",
       "      <td>0.005387</td>\n",
       "      <td>0.871108</td>\n",
       "    </tr>\n",
       "    <tr>\n",
       "      <th>26.0</th>\n",
       "      <td>0.005400</td>\n",
       "      <td>0.868474</td>\n",
       "    </tr>\n",
       "    <tr>\n",
       "      <th>26.5</th>\n",
       "      <td>0.005412</td>\n",
       "      <td>0.865841</td>\n",
       "    </tr>\n",
       "    <tr>\n",
       "      <th>27.0</th>\n",
       "      <td>0.005425</td>\n",
       "      <td>0.863207</td>\n",
       "    </tr>\n",
       "    <tr>\n",
       "      <th>27.5</th>\n",
       "      <td>0.005437</td>\n",
       "      <td>0.860574</td>\n",
       "    </tr>\n",
       "    <tr>\n",
       "      <th>28.0</th>\n",
       "      <td>0.005450</td>\n",
       "      <td>0.857941</td>\n",
       "    </tr>\n",
       "    <tr>\n",
       "      <th>28.5</th>\n",
       "      <td>0.005462</td>\n",
       "      <td>0.855307</td>\n",
       "    </tr>\n",
       "    <tr>\n",
       "      <th>29.0</th>\n",
       "      <td>0.005475</td>\n",
       "      <td>0.852674</td>\n",
       "    </tr>\n",
       "    <tr>\n",
       "      <th>29.5</th>\n",
       "      <td>0.005487</td>\n",
       "      <td>0.850040</td>\n",
       "    </tr>\n",
       "    <tr>\n",
       "      <th>30.0</th>\n",
       "      <td>0.005500</td>\n",
       "      <td>0.847407</td>\n",
       "    </tr>\n",
       "  </tbody>\n",
       "</table>\n",
       "</div>"
      ],
      "text/plain": [
       "           Rate  OIS_Discount_Factor\n",
       "Years                               \n",
       "0.5    0.002500             0.998752\n",
       "1.0    0.003000             0.997009\n",
       "1.5    0.003125             0.995270\n",
       "2.0    0.003250             0.993531\n",
       "2.5    0.003300             0.991773\n",
       "3.0    0.003350             0.990015\n",
       "3.5    0.003425             0.988066\n",
       "4.0    0.003500             0.986117\n",
       "4.5    0.003550             0.984150\n",
       "5.0    0.003600             0.982184\n",
       "5.5    0.003700             0.979740\n",
       "6.0    0.003800             0.977295\n",
       "6.5    0.003900             0.974850\n",
       "7.0    0.004000             0.972406\n",
       "7.5    0.004083             0.969668\n",
       "8.0    0.004167             0.966929\n",
       "8.5    0.004250             0.964191\n",
       "9.0    0.004333             0.961453\n",
       "9.5    0.004417             0.958715\n",
       "10.0   0.004500             0.955977\n",
       "10.5   0.004550             0.953140\n",
       "11.0   0.004600             0.950304\n",
       "11.5   0.004650             0.947467\n",
       "12.0   0.004700             0.944631\n",
       "12.5   0.004750             0.941794\n",
       "13.0   0.004800             0.938958\n",
       "13.5   0.004850             0.936121\n",
       "14.0   0.004900             0.933285\n",
       "14.5   0.004950             0.930448\n",
       "15.0   0.005000             0.927611\n",
       "15.5   0.005025             0.924858\n",
       "16.0   0.005050             0.922104\n",
       "16.5   0.005075             0.919351\n",
       "17.0   0.005100             0.916597\n",
       "17.5   0.005125             0.913844\n",
       "18.0   0.005150             0.911090\n",
       "18.5   0.005175             0.908337\n",
       "19.0   0.005200             0.905583\n",
       "19.5   0.005225             0.902829\n",
       "20.0   0.005250             0.900076\n",
       "20.5   0.005263             0.897442\n",
       "21.0   0.005275             0.894809\n",
       "21.5   0.005288             0.892176\n",
       "22.0   0.005300             0.889542\n",
       "22.5   0.005313             0.886909\n",
       "23.0   0.005325             0.884275\n",
       "23.5   0.005338             0.881642\n",
       "24.0   0.005350             0.879008\n",
       "24.5   0.005363             0.876375\n",
       "25.0   0.005375             0.873741\n",
       "25.5   0.005387             0.871108\n",
       "26.0   0.005400             0.868474\n",
       "26.5   0.005412             0.865841\n",
       "27.0   0.005425             0.863207\n",
       "27.5   0.005437             0.860574\n",
       "28.0   0.005450             0.857941\n",
       "28.5   0.005462             0.855307\n",
       "29.0   0.005475             0.852674\n",
       "29.5   0.005487             0.850040\n",
       "30.0   0.005500             0.847407"
      ]
     },
     "execution_count": 4190,
     "metadata": {},
     "output_type": "execute_result"
    }
   ],
   "source": [
    "OIS_Interpolated_Data"
   ]
  },
  {
   "cell_type": "code",
   "execution_count": 4191,
   "metadata": {},
   "outputs": [
    {
     "data": {
      "application/vnd.plotly.v1+json": {
       "config": {
        "plotlyServerURL": "https://plot.ly"
       },
       "data": [
        {
         "line": {
          "width": 2
         },
         "marker": {
          "size": 6
         },
         "mode": "lines+markers",
         "name": "Discount Curve",
         "type": "scatter",
         "x": [
          0.5,
          1,
          1.5,
          2,
          2.5,
          3,
          3.5,
          4,
          4.5,
          5,
          5.5,
          6,
          6.5,
          7,
          7.5,
          8,
          8.5,
          9,
          9.5,
          10,
          10.5,
          11,
          11.5,
          12,
          12.5,
          13,
          13.5,
          14,
          14.5,
          15,
          15.5,
          16,
          16.5,
          17,
          17.5,
          18,
          18.5,
          19,
          19.5,
          20,
          20.5,
          21,
          21.5,
          22,
          22.5,
          23,
          23.5,
          24,
          24.5,
          25,
          25.5,
          26,
          26.5,
          27,
          27.5,
          28,
          28.5,
          29,
          29.5,
          30
         ],
         "y": [
          0.9987515605493134,
          0.9970089730807579,
          0.9952698594970136,
          0.9935307459132694,
          0.9917729435657792,
          0.9900151412182888,
          0.9880658954667711,
          0.9861166497152534,
          0.9841503847242372,
          0.9821841197332211,
          0.9797395334484968,
          0.9772949471637727,
          0.9748503608790486,
          0.9724057745943244,
          0.9696676252496378,
          0.9669294759049513,
          0.9641913265602646,
          0.961453177215578,
          0.9587150278708915,
          0.9559768785262048,
          0.9531403386341173,
          0.9503037987420299,
          0.9474672588499424,
          0.9446307189578549,
          0.9417941790657673,
          0.9389576391736799,
          0.9361210992815925,
          0.9332845593895049,
          0.9304480194974174,
          0.92761147960533,
          0.9248579253489309,
          0.9221043710925318,
          0.9193508168361328,
          0.9165972625797337,
          0.9138437083233346,
          0.9110901540669356,
          0.9083365998105366,
          0.9055830455541375,
          0.9028294912977384,
          0.9000759370413394,
          0.8974424759760838,
          0.8948090149108282,
          0.8921755538455727,
          0.8895420927803172,
          0.8869086317150615,
          0.884275170649806,
          0.8816417095845505,
          0.8790082485192948,
          0.8763747874540393,
          0.8737413263887837,
          0.8711078653235281,
          0.8684744042582726,
          0.865840943193017,
          0.8632074821277614,
          0.8605740210625059,
          0.8579405599972503,
          0.8553070989319947,
          0.8526736378667392,
          0.8500401768014836,
          0.8474067157362281
         ]
        }
       ],
       "layout": {
        "autosize": true,
        "template": {
         "data": {
          "bar": [
           {
            "error_x": {
             "color": "#2a3f5f"
            },
            "error_y": {
             "color": "#2a3f5f"
            },
            "marker": {
             "line": {
              "color": "white",
              "width": 0.5
             },
             "pattern": {
              "fillmode": "overlay",
              "size": 10,
              "solidity": 0.2
             }
            },
            "type": "bar"
           }
          ],
          "barpolar": [
           {
            "marker": {
             "line": {
              "color": "white",
              "width": 0.5
             },
             "pattern": {
              "fillmode": "overlay",
              "size": 10,
              "solidity": 0.2
             }
            },
            "type": "barpolar"
           }
          ],
          "carpet": [
           {
            "aaxis": {
             "endlinecolor": "#2a3f5f",
             "gridcolor": "#C8D4E3",
             "linecolor": "#C8D4E3",
             "minorgridcolor": "#C8D4E3",
             "startlinecolor": "#2a3f5f"
            },
            "baxis": {
             "endlinecolor": "#2a3f5f",
             "gridcolor": "#C8D4E3",
             "linecolor": "#C8D4E3",
             "minorgridcolor": "#C8D4E3",
             "startlinecolor": "#2a3f5f"
            },
            "type": "carpet"
           }
          ],
          "choropleth": [
           {
            "colorbar": {
             "outlinewidth": 0,
             "ticks": ""
            },
            "type": "choropleth"
           }
          ],
          "contour": [
           {
            "colorbar": {
             "outlinewidth": 0,
             "ticks": ""
            },
            "colorscale": [
             [
              0,
              "#0d0887"
             ],
             [
              0.1111111111111111,
              "#46039f"
             ],
             [
              0.2222222222222222,
              "#7201a8"
             ],
             [
              0.3333333333333333,
              "#9c179e"
             ],
             [
              0.4444444444444444,
              "#bd3786"
             ],
             [
              0.5555555555555556,
              "#d8576b"
             ],
             [
              0.6666666666666666,
              "#ed7953"
             ],
             [
              0.7777777777777778,
              "#fb9f3a"
             ],
             [
              0.8888888888888888,
              "#fdca26"
             ],
             [
              1,
              "#f0f921"
             ]
            ],
            "type": "contour"
           }
          ],
          "contourcarpet": [
           {
            "colorbar": {
             "outlinewidth": 0,
             "ticks": ""
            },
            "type": "contourcarpet"
           }
          ],
          "heatmap": [
           {
            "colorbar": {
             "outlinewidth": 0,
             "ticks": ""
            },
            "colorscale": [
             [
              0,
              "#0d0887"
             ],
             [
              0.1111111111111111,
              "#46039f"
             ],
             [
              0.2222222222222222,
              "#7201a8"
             ],
             [
              0.3333333333333333,
              "#9c179e"
             ],
             [
              0.4444444444444444,
              "#bd3786"
             ],
             [
              0.5555555555555556,
              "#d8576b"
             ],
             [
              0.6666666666666666,
              "#ed7953"
             ],
             [
              0.7777777777777778,
              "#fb9f3a"
             ],
             [
              0.8888888888888888,
              "#fdca26"
             ],
             [
              1,
              "#f0f921"
             ]
            ],
            "type": "heatmap"
           }
          ],
          "heatmapgl": [
           {
            "colorbar": {
             "outlinewidth": 0,
             "ticks": ""
            },
            "colorscale": [
             [
              0,
              "#0d0887"
             ],
             [
              0.1111111111111111,
              "#46039f"
             ],
             [
              0.2222222222222222,
              "#7201a8"
             ],
             [
              0.3333333333333333,
              "#9c179e"
             ],
             [
              0.4444444444444444,
              "#bd3786"
             ],
             [
              0.5555555555555556,
              "#d8576b"
             ],
             [
              0.6666666666666666,
              "#ed7953"
             ],
             [
              0.7777777777777778,
              "#fb9f3a"
             ],
             [
              0.8888888888888888,
              "#fdca26"
             ],
             [
              1,
              "#f0f921"
             ]
            ],
            "type": "heatmapgl"
           }
          ],
          "histogram": [
           {
            "marker": {
             "pattern": {
              "fillmode": "overlay",
              "size": 10,
              "solidity": 0.2
             }
            },
            "type": "histogram"
           }
          ],
          "histogram2d": [
           {
            "colorbar": {
             "outlinewidth": 0,
             "ticks": ""
            },
            "colorscale": [
             [
              0,
              "#0d0887"
             ],
             [
              0.1111111111111111,
              "#46039f"
             ],
             [
              0.2222222222222222,
              "#7201a8"
             ],
             [
              0.3333333333333333,
              "#9c179e"
             ],
             [
              0.4444444444444444,
              "#bd3786"
             ],
             [
              0.5555555555555556,
              "#d8576b"
             ],
             [
              0.6666666666666666,
              "#ed7953"
             ],
             [
              0.7777777777777778,
              "#fb9f3a"
             ],
             [
              0.8888888888888888,
              "#fdca26"
             ],
             [
              1,
              "#f0f921"
             ]
            ],
            "type": "histogram2d"
           }
          ],
          "histogram2dcontour": [
           {
            "colorbar": {
             "outlinewidth": 0,
             "ticks": ""
            },
            "colorscale": [
             [
              0,
              "#0d0887"
             ],
             [
              0.1111111111111111,
              "#46039f"
             ],
             [
              0.2222222222222222,
              "#7201a8"
             ],
             [
              0.3333333333333333,
              "#9c179e"
             ],
             [
              0.4444444444444444,
              "#bd3786"
             ],
             [
              0.5555555555555556,
              "#d8576b"
             ],
             [
              0.6666666666666666,
              "#ed7953"
             ],
             [
              0.7777777777777778,
              "#fb9f3a"
             ],
             [
              0.8888888888888888,
              "#fdca26"
             ],
             [
              1,
              "#f0f921"
             ]
            ],
            "type": "histogram2dcontour"
           }
          ],
          "mesh3d": [
           {
            "colorbar": {
             "outlinewidth": 0,
             "ticks": ""
            },
            "type": "mesh3d"
           }
          ],
          "parcoords": [
           {
            "line": {
             "colorbar": {
              "outlinewidth": 0,
              "ticks": ""
             }
            },
            "type": "parcoords"
           }
          ],
          "pie": [
           {
            "automargin": true,
            "type": "pie"
           }
          ],
          "scatter": [
           {
            "fillpattern": {
             "fillmode": "overlay",
             "size": 10,
             "solidity": 0.2
            },
            "type": "scatter"
           }
          ],
          "scatter3d": [
           {
            "line": {
             "colorbar": {
              "outlinewidth": 0,
              "ticks": ""
             }
            },
            "marker": {
             "colorbar": {
              "outlinewidth": 0,
              "ticks": ""
             }
            },
            "type": "scatter3d"
           }
          ],
          "scattercarpet": [
           {
            "marker": {
             "colorbar": {
              "outlinewidth": 0,
              "ticks": ""
             }
            },
            "type": "scattercarpet"
           }
          ],
          "scattergeo": [
           {
            "marker": {
             "colorbar": {
              "outlinewidth": 0,
              "ticks": ""
             }
            },
            "type": "scattergeo"
           }
          ],
          "scattergl": [
           {
            "marker": {
             "colorbar": {
              "outlinewidth": 0,
              "ticks": ""
             }
            },
            "type": "scattergl"
           }
          ],
          "scattermapbox": [
           {
            "marker": {
             "colorbar": {
              "outlinewidth": 0,
              "ticks": ""
             }
            },
            "type": "scattermapbox"
           }
          ],
          "scatterpolar": [
           {
            "marker": {
             "colorbar": {
              "outlinewidth": 0,
              "ticks": ""
             }
            },
            "type": "scatterpolar"
           }
          ],
          "scatterpolargl": [
           {
            "marker": {
             "colorbar": {
              "outlinewidth": 0,
              "ticks": ""
             }
            },
            "type": "scatterpolargl"
           }
          ],
          "scatterternary": [
           {
            "marker": {
             "colorbar": {
              "outlinewidth": 0,
              "ticks": ""
             }
            },
            "type": "scatterternary"
           }
          ],
          "surface": [
           {
            "colorbar": {
             "outlinewidth": 0,
             "ticks": ""
            },
            "colorscale": [
             [
              0,
              "#0d0887"
             ],
             [
              0.1111111111111111,
              "#46039f"
             ],
             [
              0.2222222222222222,
              "#7201a8"
             ],
             [
              0.3333333333333333,
              "#9c179e"
             ],
             [
              0.4444444444444444,
              "#bd3786"
             ],
             [
              0.5555555555555556,
              "#d8576b"
             ],
             [
              0.6666666666666666,
              "#ed7953"
             ],
             [
              0.7777777777777778,
              "#fb9f3a"
             ],
             [
              0.8888888888888888,
              "#fdca26"
             ],
             [
              1,
              "#f0f921"
             ]
            ],
            "type": "surface"
           }
          ],
          "table": [
           {
            "cells": {
             "fill": {
              "color": "#EBF0F8"
             },
             "line": {
              "color": "white"
             }
            },
            "header": {
             "fill": {
              "color": "#C8D4E3"
             },
             "line": {
              "color": "white"
             }
            },
            "type": "table"
           }
          ]
         },
         "layout": {
          "annotationdefaults": {
           "arrowcolor": "#2a3f5f",
           "arrowhead": 0,
           "arrowwidth": 1
          },
          "autotypenumbers": "strict",
          "coloraxis": {
           "colorbar": {
            "outlinewidth": 0,
            "ticks": ""
           }
          },
          "colorscale": {
           "diverging": [
            [
             0,
             "#8e0152"
            ],
            [
             0.1,
             "#c51b7d"
            ],
            [
             0.2,
             "#de77ae"
            ],
            [
             0.3,
             "#f1b6da"
            ],
            [
             0.4,
             "#fde0ef"
            ],
            [
             0.5,
             "#f7f7f7"
            ],
            [
             0.6,
             "#e6f5d0"
            ],
            [
             0.7,
             "#b8e186"
            ],
            [
             0.8,
             "#7fbc41"
            ],
            [
             0.9,
             "#4d9221"
            ],
            [
             1,
             "#276419"
            ]
           ],
           "sequential": [
            [
             0,
             "#0d0887"
            ],
            [
             0.1111111111111111,
             "#46039f"
            ],
            [
             0.2222222222222222,
             "#7201a8"
            ],
            [
             0.3333333333333333,
             "#9c179e"
            ],
            [
             0.4444444444444444,
             "#bd3786"
            ],
            [
             0.5555555555555556,
             "#d8576b"
            ],
            [
             0.6666666666666666,
             "#ed7953"
            ],
            [
             0.7777777777777778,
             "#fb9f3a"
            ],
            [
             0.8888888888888888,
             "#fdca26"
            ],
            [
             1,
             "#f0f921"
            ]
           ],
           "sequentialminus": [
            [
             0,
             "#0d0887"
            ],
            [
             0.1111111111111111,
             "#46039f"
            ],
            [
             0.2222222222222222,
             "#7201a8"
            ],
            [
             0.3333333333333333,
             "#9c179e"
            ],
            [
             0.4444444444444444,
             "#bd3786"
            ],
            [
             0.5555555555555556,
             "#d8576b"
            ],
            [
             0.6666666666666666,
             "#ed7953"
            ],
            [
             0.7777777777777778,
             "#fb9f3a"
            ],
            [
             0.8888888888888888,
             "#fdca26"
            ],
            [
             1,
             "#f0f921"
            ]
           ]
          },
          "colorway": [
           "#636efa",
           "#EF553B",
           "#00cc96",
           "#ab63fa",
           "#FFA15A",
           "#19d3f3",
           "#FF6692",
           "#B6E880",
           "#FF97FF",
           "#FECB52"
          ],
          "font": {
           "color": "#2a3f5f"
          },
          "geo": {
           "bgcolor": "white",
           "lakecolor": "white",
           "landcolor": "white",
           "showlakes": true,
           "showland": true,
           "subunitcolor": "#C8D4E3"
          },
          "hoverlabel": {
           "align": "left"
          },
          "hovermode": "closest",
          "mapbox": {
           "style": "light"
          },
          "paper_bgcolor": "white",
          "plot_bgcolor": "white",
          "polar": {
           "angularaxis": {
            "gridcolor": "#EBF0F8",
            "linecolor": "#EBF0F8",
            "ticks": ""
           },
           "bgcolor": "white",
           "radialaxis": {
            "gridcolor": "#EBF0F8",
            "linecolor": "#EBF0F8",
            "ticks": ""
           }
          },
          "scene": {
           "xaxis": {
            "backgroundcolor": "white",
            "gridcolor": "#DFE8F3",
            "gridwidth": 2,
            "linecolor": "#EBF0F8",
            "showbackground": true,
            "ticks": "",
            "zerolinecolor": "#EBF0F8"
           },
           "yaxis": {
            "backgroundcolor": "white",
            "gridcolor": "#DFE8F3",
            "gridwidth": 2,
            "linecolor": "#EBF0F8",
            "showbackground": true,
            "ticks": "",
            "zerolinecolor": "#EBF0F8"
           },
           "zaxis": {
            "backgroundcolor": "white",
            "gridcolor": "#DFE8F3",
            "gridwidth": 2,
            "linecolor": "#EBF0F8",
            "showbackground": true,
            "ticks": "",
            "zerolinecolor": "#EBF0F8"
           }
          },
          "shapedefaults": {
           "line": {
            "color": "#2a3f5f"
           }
          },
          "ternary": {
           "aaxis": {
            "gridcolor": "#DFE8F3",
            "linecolor": "#A2B1C6",
            "ticks": ""
           },
           "baxis": {
            "gridcolor": "#DFE8F3",
            "linecolor": "#A2B1C6",
            "ticks": ""
           },
           "bgcolor": "white",
           "caxis": {
            "gridcolor": "#DFE8F3",
            "linecolor": "#A2B1C6",
            "ticks": ""
           }
          },
          "title": {
           "x": 0.05
          },
          "xaxis": {
           "automargin": true,
           "gridcolor": "#EBF0F8",
           "linecolor": "#EBF0F8",
           "ticks": "",
           "title": {
            "standoff": 15
           },
           "zerolinecolor": "#EBF0F8",
           "zerolinewidth": 2
          },
          "yaxis": {
           "automargin": true,
           "gridcolor": "#EBF0F8",
           "linecolor": "#EBF0F8",
           "ticks": "",
           "title": {
            "standoff": 15
           },
           "zerolinecolor": "#EBF0F8",
           "zerolinewidth": 2
          }
         }
        },
        "title": {
         "text": "OIS Discount Curve"
        },
        "xaxis": {
         "autorange": true,
         "range": [
          -1.2856375358166192,
          31.78563753581662
         ],
         "showgrid": true,
         "title": {
          "text": "Tenor (years)"
         },
         "type": "linear"
        },
        "yaxis": {
         "autorange": true,
         "range": [
          0.8349170926205851,
          1.0112411836649564
         ],
         "showgrid": true,
         "title": {
          "text": "Discount Factor"
         },
         "type": "linear"
        }
       }
      },
      "image/png": "[encoded data removed]",
      "text/html": [
       "<div>                            <div id=\"f17f4b32-4a0c-4bc3-9568-34850a1c98e7\" class=\"plotly-graph-div\" style=\"height:525px; width:100%;\"></div>            <script type=\"text/javascript\">                require([\"plotly\"], function(Plotly) {                    window.PLOTLYENV=window.PLOTLYENV || {};                                    if (document.getElementById(\"f17f4b32-4a0c-4bc3-9568-34850a1c98e7\")) {                    Plotly.newPlot(                        \"f17f4b32-4a0c-4bc3-9568-34850a1c98e7\",                        [{\"line\":{\"width\":2},\"marker\":{\"size\":6},\"mode\":\"lines+markers\",\"name\":\"Discount Curve\",\"x\":[0.5,1.0,1.5,2.0,2.5,3.0,3.5,4.0,4.5,5.0,5.5,6.0,6.5,7.0,7.5,8.0,8.5,9.0,9.5,10.0,10.5,11.0,11.5,12.0,12.5,13.0,13.5,14.0,14.5,15.0,15.5,16.0,16.5,17.0,17.5,18.0,18.5,19.0,19.5,20.0,20.5,21.0,21.5,22.0,22.5,23.0,23.5,24.0,24.5,25.0,25.5,26.0,26.5,27.0,27.5,28.0,28.5,29.0,29.5,30.0],\"y\":[0.9987515605493134,0.9970089730807579,0.9952698594970136,0.9935307459132694,0.9917729435657792,0.9900151412182888,0.9880658954667711,0.9861166497152534,0.9841503847242372,0.9821841197332211,0.9797395334484968,0.9772949471637727,0.9748503608790486,0.9724057745943244,0.9696676252496378,0.9669294759049513,0.9641913265602646,0.961453177215578,0.9587150278708915,0.9559768785262048,0.9531403386341173,0.9503037987420299,0.9474672588499424,0.9446307189578549,0.9417941790657673,0.9389576391736799,0.9361210992815925,0.9332845593895049,0.9304480194974174,0.92761147960533,0.9248579253489309,0.9221043710925318,0.9193508168361328,0.9165972625797337,0.9138437083233346,0.9110901540669356,0.9083365998105366,0.9055830455541375,0.9028294912977384,0.9000759370413394,0.8974424759760838,0.8948090149108282,0.8921755538455727,0.8895420927803172,0.8869086317150615,0.884275170649806,0.8816417095845505,0.8790082485192948,0.8763747874540393,0.8737413263887837,0.8711078653235281,0.8684744042582726,0.865840943193017,0.8632074821277614,0.8605740210625059,0.8579405599972503,0.8553070989319947,0.8526736378667392,0.8500401768014836,0.8474067157362281],\"type\":\"scatter\"}],                        {\"template\":{\"data\":{\"barpolar\":[{\"marker\":{\"line\":{\"color\":\"white\",\"width\":0.5},\"pattern\":{\"fillmode\":\"overlay\",\"size\":10,\"solidity\":0.2}},\"type\":\"barpolar\"}],\"bar\":[{\"error_x\":{\"color\":\"#2a3f5f\"},\"error_y\":{\"color\":\"#2a3f5f\"},\"marker\":{\"line\":{\"color\":\"white\",\"width\":0.5},\"pattern\":{\"fillmode\":\"overlay\",\"size\":10,\"solidity\":0.2}},\"type\":\"bar\"}],\"carpet\":[{\"aaxis\":{\"endlinecolor\":\"#2a3f5f\",\"gridcolor\":\"#C8D4E3\",\"linecolor\":\"#C8D4E3\",\"minorgridcolor\":\"#C8D4E3\",\"startlinecolor\":\"#2a3f5f\"},\"baxis\":{\"endlinecolor\":\"#2a3f5f\",\"gridcolor\":\"#C8D4E3\",\"linecolor\":\"#C8D4E3\",\"minorgridcolor\":\"#C8D4E3\",\"startlinecolor\":\"#2a3f5f\"},\"type\":\"carpet\"}],\"choropleth\":[{\"colorbar\":{\"outlinewidth\":0,\"ticks\":\"\"},\"type\":\"choropleth\"}],\"contourcarpet\":[{\"colorbar\":{\"outlinewidth\":0,\"ticks\":\"\"},\"type\":\"contourcarpet\"}],\"contour\":[{\"colorbar\":{\"outlinewidth\":0,\"ticks\":\"\"},\"colorscale\":[[0.0,\"#0d0887\"],[0.1111111111111111,\"#46039f\"],[0.2222222222222222,\"#7201a8\"],[0.3333333333333333,\"#9c179e\"],[0.4444444444444444,\"#bd3786\"],[0.5555555555555556,\"#d8576b\"],[0.6666666666666666,\"#ed7953\"],[0.7777777777777778,\"#fb9f3a\"],[0.8888888888888888,\"#fdca26\"],[1.0,\"#f0f921\"]],\"type\":\"contour\"}],\"heatmapgl\":[{\"colorbar\":{\"outlinewidth\":0,\"ticks\":\"\"},\"colorscale\":[[0.0,\"#0d0887\"],[0.1111111111111111,\"#46039f\"],[0.2222222222222222,\"#7201a8\"],[0.3333333333333333,\"#9c179e\"],[0.4444444444444444,\"#bd3786\"],[0.5555555555555556,\"#d8576b\"],[0.6666666666666666,\"#ed7953\"],[0.7777777777777778,\"#fb9f3a\"],[0.8888888888888888,\"#fdca26\"],[1.0,\"#f0f921\"]],\"type\":\"heatmapgl\"}],\"heatmap\":[{\"colorbar\":{\"outlinewidth\":0,\"ticks\":\"\"},\"colorscale\":[[0.0,\"#0d0887\"],[0.1111111111111111,\"#46039f\"],[0.2222222222222222,\"#7201a8\"],[0.3333333333333333,\"#9c179e\"],[0.4444444444444444,\"#bd3786\"],[0.5555555555555556,\"#d8576b\"],[0.6666666666666666,\"#ed7953\"],[0.7777777777777778,\"#fb9f3a\"],[0.8888888888888888,\"#fdca26\"],[1.0,\"#f0f921\"]],\"type\":\"heatmap\"}],\"histogram2dcontour\":[{\"colorbar\":{\"outlinewidth\":0,\"ticks\":\"\"},\"colorscale\":[[0.0,\"#0d0887\"],[0.1111111111111111,\"#46039f\"],[0.2222222222222222,\"#7201a8\"],[0.3333333333333333,\"#9c179e\"],[0.4444444444444444,\"#bd3786\"],[0.5555555555555556,\"#d8576b\"],[0.6666666666666666,\"#ed7953\"],[0.7777777777777778,\"#fb9f3a\"],[0.8888888888888888,\"#fdca26\"],[1.0,\"#f0f921\"]],\"type\":\"histogram2dcontour\"}],\"histogram2d\":[{\"colorbar\":{\"outlinewidth\":0,\"ticks\":\"\"},\"colorscale\":[[0.0,\"#0d0887\"],[0.1111111111111111,\"#46039f\"],[0.2222222222222222,\"#7201a8\"],[0.3333333333333333,\"#9c179e\"],[0.4444444444444444,\"#bd3786\"],[0.5555555555555556,\"#d8576b\"],[0.6666666666666666,\"#ed7953\"],[0.7777777777777778,\"#fb9f3a\"],[0.8888888888888888,\"#fdca26\"],[1.0,\"#f0f921\"]],\"type\":\"histogram2d\"}],\"histogram\":[{\"marker\":{\"pattern\":{\"fillmode\":\"overlay\",\"size\":10,\"solidity\":0.2}},\"type\":\"histogram\"}],\"mesh3d\":[{\"colorbar\":{\"outlinewidth\":0,\"ticks\":\"\"},\"type\":\"mesh3d\"}],\"parcoords\":[{\"line\":{\"colorbar\":{\"outlinewidth\":0,\"ticks\":\"\"}},\"type\":\"parcoords\"}],\"pie\":[{\"automargin\":true,\"type\":\"pie\"}],\"scatter3d\":[{\"line\":{\"colorbar\":{\"outlinewidth\":0,\"ticks\":\"\"}},\"marker\":{\"colorbar\":{\"outlinewidth\":0,\"ticks\":\"\"}},\"type\":\"scatter3d\"}],\"scattercarpet\":[{\"marker\":{\"colorbar\":{\"outlinewidth\":0,\"ticks\":\"\"}},\"type\":\"scattercarpet\"}],\"scattergeo\":[{\"marker\":{\"colorbar\":{\"outlinewidth\":0,\"ticks\":\"\"}},\"type\":\"scattergeo\"}],\"scattergl\":[{\"marker\":{\"colorbar\":{\"outlinewidth\":0,\"ticks\":\"\"}},\"type\":\"scattergl\"}],\"scattermapbox\":[{\"marker\":{\"colorbar\":{\"outlinewidth\":0,\"ticks\":\"\"}},\"type\":\"scattermapbox\"}],\"scatterpolargl\":[{\"marker\":{\"colorbar\":{\"outlinewidth\":0,\"ticks\":\"\"}},\"type\":\"scatterpolargl\"}],\"scatterpolar\":[{\"marker\":{\"colorbar\":{\"outlinewidth\":0,\"ticks\":\"\"}},\"type\":\"scatterpolar\"}],\"scatter\":[{\"fillpattern\":{\"fillmode\":\"overlay\",\"size\":10,\"solidity\":0.2},\"type\":\"scatter\"}],\"scatterternary\":[{\"marker\":{\"colorbar\":{\"outlinewidth\":0,\"ticks\":\"\"}},\"type\":\"scatterternary\"}],\"surface\":[{\"colorbar\":{\"outlinewidth\":0,\"ticks\":\"\"},\"colorscale\":[[0.0,\"#0d0887\"],[0.1111111111111111,\"#46039f\"],[0.2222222222222222,\"#7201a8\"],[0.3333333333333333,\"#9c179e\"],[0.4444444444444444,\"#bd3786\"],[0.5555555555555556,\"#d8576b\"],[0.6666666666666666,\"#ed7953\"],[0.7777777777777778,\"#fb9f3a\"],[0.8888888888888888,\"#fdca26\"],[1.0,\"#f0f921\"]],\"type\":\"surface\"}],\"table\":[{\"cells\":{\"fill\":{\"color\":\"#EBF0F8\"},\"line\":{\"color\":\"white\"}},\"header\":{\"fill\":{\"color\":\"#C8D4E3\"},\"line\":{\"color\":\"white\"}},\"type\":\"table\"}]},\"layout\":{\"annotationdefaults\":{\"arrowcolor\":\"#2a3f5f\",\"arrowhead\":0,\"arrowwidth\":1},\"autotypenumbers\":\"strict\",\"coloraxis\":{\"colorbar\":{\"outlinewidth\":0,\"ticks\":\"\"}},\"colorscale\":{\"diverging\":[[0,\"#8e0152\"],[0.1,\"#c51b7d\"],[0.2,\"#de77ae\"],[0.3,\"#f1b6da\"],[0.4,\"#fde0ef\"],[0.5,\"#f7f7f7\"],[0.6,\"#e6f5d0\"],[0.7,\"#b8e186\"],[0.8,\"#7fbc41\"],[0.9,\"#4d9221\"],[1,\"#276419\"]],\"sequential\":[[0.0,\"#0d0887\"],[0.1111111111111111,\"#46039f\"],[0.2222222222222222,\"#7201a8\"],[0.3333333333333333,\"#9c179e\"],[0.4444444444444444,\"#bd3786\"],[0.5555555555555556,\"#d8576b\"],[0.6666666666666666,\"#ed7953\"],[0.7777777777777778,\"#fb9f3a\"],[0.8888888888888888,\"#fdca26\"],[1.0,\"#f0f921\"]],\"sequentialminus\":[[0.0,\"#0d0887\"],[0.1111111111111111,\"#46039f\"],[0.2222222222222222,\"#7201a8\"],[0.3333333333333333,\"#9c179e\"],[0.4444444444444444,\"#bd3786\"],[0.5555555555555556,\"#d8576b\"],[0.6666666666666666,\"#ed7953\"],[0.7777777777777778,\"#fb9f3a\"],[0.8888888888888888,\"#fdca26\"],[1.0,\"#f0f921\"]]},\"colorway\":[\"#636efa\",\"#EF553B\",\"#00cc96\",\"#ab63fa\",\"#FFA15A\",\"#19d3f3\",\"#FF6692\",\"#B6E880\",\"#FF97FF\",\"#FECB52\"],\"font\":{\"color\":\"#2a3f5f\"},\"geo\":{\"bgcolor\":\"white\",\"lakecolor\":\"white\",\"landcolor\":\"white\",\"showlakes\":true,\"showland\":true,\"subunitcolor\":\"#C8D4E3\"},\"hoverlabel\":{\"align\":\"left\"},\"hovermode\":\"closest\",\"mapbox\":{\"style\":\"light\"},\"paper_bgcolor\":\"white\",\"plot_bgcolor\":\"white\",\"polar\":{\"angularaxis\":{\"gridcolor\":\"#EBF0F8\",\"linecolor\":\"#EBF0F8\",\"ticks\":\"\"},\"bgcolor\":\"white\",\"radialaxis\":{\"gridcolor\":\"#EBF0F8\",\"linecolor\":\"#EBF0F8\",\"ticks\":\"\"}},\"scene\":{\"xaxis\":{\"backgroundcolor\":\"white\",\"gridcolor\":\"#DFE8F3\",\"gridwidth\":2,\"linecolor\":\"#EBF0F8\",\"showbackground\":true,\"ticks\":\"\",\"zerolinecolor\":\"#EBF0F8\"},\"yaxis\":{\"backgroundcolor\":\"white\",\"gridcolor\":\"#DFE8F3\",\"gridwidth\":2,\"linecolor\":\"#EBF0F8\",\"showbackground\":true,\"ticks\":\"\",\"zerolinecolor\":\"#EBF0F8\"},\"zaxis\":{\"backgroundcolor\":\"white\",\"gridcolor\":\"#DFE8F3\",\"gridwidth\":2,\"linecolor\":\"#EBF0F8\",\"showbackground\":true,\"ticks\":\"\",\"zerolinecolor\":\"#EBF0F8\"}},\"shapedefaults\":{\"line\":{\"color\":\"#2a3f5f\"}},\"ternary\":{\"aaxis\":{\"gridcolor\":\"#DFE8F3\",\"linecolor\":\"#A2B1C6\",\"ticks\":\"\"},\"baxis\":{\"gridcolor\":\"#DFE8F3\",\"linecolor\":\"#A2B1C6\",\"ticks\":\"\"},\"bgcolor\":\"white\",\"caxis\":{\"gridcolor\":\"#DFE8F3\",\"linecolor\":\"#A2B1C6\",\"ticks\":\"\"}},\"title\":{\"x\":0.05},\"xaxis\":{\"automargin\":true,\"gridcolor\":\"#EBF0F8\",\"linecolor\":\"#EBF0F8\",\"ticks\":\"\",\"title\":{\"standoff\":15},\"zerolinecolor\":\"#EBF0F8\",\"zerolinewidth\":2},\"yaxis\":{\"automargin\":true,\"gridcolor\":\"#EBF0F8\",\"linecolor\":\"#EBF0F8\",\"ticks\":\"\",\"title\":{\"standoff\":15},\"zerolinecolor\":\"#EBF0F8\",\"zerolinewidth\":2}}},\"xaxis\":{\"title\":{\"text\":\"Tenor (years)\"},\"showgrid\":true},\"yaxis\":{\"title\":{\"text\":\"Discount Factor\"},\"showgrid\":true},\"title\":{\"text\":\"OIS Discount Curve\"}},                        {\"responsive\": true}                    ).then(function(){\n",
       "                            \n",
       "var gd = document.getElementById('f17f4b32-4a0c-4bc3-9568-34850a1c98e7');\n",
       "var x = new MutationObserver(function (mutations, observer) {{\n",
       "        var display = window.getComputedStyle(gd).display;\n",
       "        if (!display || display === 'none') {{\n",
       "            console.log([gd, 'removed!']);\n",
       "            Plotly.purge(gd);\n",
       "            observer.disconnect();\n",
       "        }}\n",
       "}});\n",
       "\n",
       "// Listen for the removal of the full notebook cells\n",
       "var notebookContainer = gd.closest('#notebook-container');\n",
       "if (notebookContainer) {{\n",
       "    x.observe(notebookContainer, {childList: true});\n",
       "}}\n",
       "\n",
       "// Listen for the clearing of the current output cell\n",
       "var outputEl = gd.closest('.output');\n",
       "if (outputEl) {{\n",
       "    x.observe(outputEl, {childList: true});\n",
       "}}\n",
       "\n",
       "                        })                };                });            </script>        </div>"
      ]
     },
     "metadata": {},
     "output_type": "display_data"
    }
   ],
   "source": [
    "plot_discount_curve(df=OIS_Interpolated_Data,\n",
    "                    discount_curve=\"OIS_Discount_Factor\",\n",
    "                    title=\"OIS Discount Curve\")"
   ]
  },
  {
   "cell_type": "markdown",
   "metadata": {},
   "source": [
    "## Bootstrap the LIBOR Discount Factor"
   ]
  },
  {
   "cell_type": "code",
   "execution_count": 4193,
   "metadata": {},
   "outputs": [],
   "source": [
    "IRS_data_appendix = pd.read_excel(\"IR Data.xlsx\",\n",
    "                        sheet_name=\"IRS\",\n",
    "                        usecols=\"A:C\")"
   ]
  },
  {
   "cell_type": "code",
   "execution_count": 4194,
   "metadata": {},
   "outputs": [],
   "source": [
    "convert_tenor = tenor_to_days_and_years(IRS_data_appendix)"
   ]
  },
  {
   "cell_type": "markdown",
   "metadata": {},
   "source": [
    "### IRS Data Preparation for Bootstrapping\n",
    "\n",
    "This block prepares the IRS curve for bootstrapping by ensuring a uniform 0.5-year tenor spacing and integrating OIS discount factors.\n",
    "\n",
    "---\n",
    "\n",
    "#### Steps:\n",
    "\n",
    "1. **Extract Required Columns**  \n",
    "   Only `\"Years\"` and `\"Rate\"` are retained from the IRS dataset for interpolation.\n",
    "\n",
    "2. **Build 0.5-Year Grid**  \n",
    "   Create the full sequence:\n",
    "   $$\n",
    "   \\text{full\\_years} = [0.5, 1.0, 1.5, \\dots, 30.0]\n",
    "   $$\n",
    "\n",
    "3. **Identify Missing Tenors**  \n",
    "   Compare the full timeline with existing maturities to find gaps.\n",
    "\n",
    "4. **Add Missing Tenors**  \n",
    "   Fill missing time points with rows containing:\n",
    "   - `\"Years\"` = missing year\n",
    "   - `\"Rate\"` = `NaN` (to be interpolated)\n",
    "\n",
    "5. **Combine and Interpolate**  \n",
    "   Merge existing and dummy rows, then sort and reindex:\n",
    "   $$\n",
    "   \\text{IRS\\_Interpolated\\_Data} = \\text{IRS\\_Data} \\cup \\text{Missing Rows}\n",
    "   $$\n",
    "\n",
    "6. **Inject OIS Discount Factors**  \n",
    "   Copy OIS discount factors into this frame for later forward LIBOR and IRS bootstrapping.\n",
    "\n",
    "7. **Initialize IRS Discount Factor Column**  \n",
    "   Set up an empty `\"IRS_Discount_Factor\"` column with `NaN` values to be computed next.\n",
    "\n",
    "---\n",
    "\n",
    "This process prepares a clean IRS structure for curve building, aligning it with OIS data and enabling seamless forward and spot rate derivation.\n"
   ]
  },
  {
   "cell_type": "code",
   "execution_count": 4196,
   "metadata": {},
   "outputs": [],
   "source": [
    "IRS_Interpolated_Data = IRS_data_appendix[[\"Years\", \"Rate\"]].copy()\n",
    "\n",
    "full_years = np.arange(0.5, 30.5, 0.5)\n",
    "existing_years = set(IRS_Interpolated_Data[\"Years\"])\n",
    "missing_years = [year for year in full_years if year not in existing_years]\n",
    "\n",
    "missing_df = pd.DataFrame({\n",
    "    \"Years\": missing_years,\n",
    "    \"Rate\": [np.nan] * len(missing_years)\n",
    "})\n",
    "\n",
    "IRS_Interpolated_Data = pd.concat([IRS_Interpolated_Data, missing_df])\n",
    "IRS_Interpolated_Data = IRS_Interpolated_Data.sort_values(\"Years\").set_index(\"Years\")\n",
    "\n",
    "IRS_Interpolated_Data[\"OIS_Discount_Factor\"] = OIS_Interpolated_Data[\"OIS_Discount_Factor\"]\n",
    "\n",
    "IRS_Interpolated_Data[\"IRS_Discount_Factor\"] = np.nan\n",
    "\n",
    "IRS_Interpolated_Data = IRS_Interpolated_Data.reset_index(names=\"Years\")"
   ]
  },
  {
   "cell_type": "markdown",
   "metadata": {},
   "source": [
    "## IRS Bootstrapping using Brent's Method\n",
    "\n",
    "Bootstrap the **IRS (Interest Rate Swap) discount factor curve** using the OIS discount curve as input, solving for the fixed leg present value such that it equals the floating leg present value.\n",
    "\n",
    "---\n",
    "\n",
    "### Core Logic\n",
    "\n",
    "For each swap maturity:\n",
    "\n",
    "1. **Define Equation**  \n",
    "   The present value of the fixed leg:\n",
    "\n",
    "   $$\n",
    "   PV_{\\text{fixed}} = \\sum_{j=1}^{n} \\frac{\\text{OIS\\_DF}_j}{\\text{IRS\\_DF}_j} \\cdot 2\n",
    "   $$\n",
    "\n",
    "   is equated to the floating leg approximation:\n",
    "\n",
    "   $$\n",
    "   PV_{\\text{float}} = \\text{Rate}_n + 2 \\cdot \\sum_{j=1}^{n} \\text{OIS\\_DF}_j\n",
    "   $$\n",
    "\n",
    "2. **Solve for Discount Factor**  \n",
    "   We solve the equation:\n",
    "\n",
    "   $$\n",
    "   f(\\text{DF}) = PV_{\\text{fixed}} - PV_{\\text{float}} = 0\n",
    "   $$\n",
    "\n",
    "   using Brent’s root-finding method (`scipy.optimize.brentq`).\n",
    "\n",
    "3. **Update IRS Discount Factor**  \n",
    "   The solved value is stored in the `\"IRS_Discount_Factor\"` column.\n",
    "\n",
    "---\n",
    "\n",
    "### Why Brent’s Method?\n",
    "\n",
    "Brent’s method is used for solving nonlinear equations with a guaranteed root in a given interval. It’s suitable here because the discount factor must lie between 0 and 1.\n",
    "\n",
    "---\n"
   ]
  },
  {
   "cell_type": "code",
   "execution_count": 4198,
   "metadata": {},
   "outputs": [],
   "source": [
    "index = IRS_Interpolated_Data[pd.notna(IRS_Interpolated_Data['Rate'])].index\n",
    "\n",
    "for i in index:\n",
    "    def equation1(df, i = i):\n",
    "        irs = IRS_Interpolated_Data.iloc[0:i+1].copy()\n",
    "        irs['IRS_Discount_Factor'].iloc[-1] = df\n",
    "        irs[['Years', 'IRS_Discount_Factor']] = irs[['Years', 'IRS_Discount_Factor']].interpolate(method='linear')\n",
    "        sum = 0\n",
    "        for i in range(len(irs)):\n",
    "            if i == 0:\n",
    "                sum += irs[\"OIS_Discount_Factor\"].iloc[i]/irs['IRS_Discount_Factor'].iloc[i]*2\n",
    "            else:\n",
    "                sum += irs[\"OIS_Discount_Factor\"].iloc[i]*irs['IRS_Discount_Factor'].iloc[i-1]/irs['IRS_Discount_Factor'].iloc[i]*2\n",
    "    \n",
    "        return sum - (irs['Rate'].iloc[-1] + 2)*np.sum(irs['OIS_Discount_Factor'])\n",
    "\n",
    "    IRS_Interpolated_Data.at[i, 'IRS_Discount_Factor'] = brentq(equation1, 0.001, 1)\n",
    "\n",
    "IRS_Interpolated_Data = IRS_Interpolated_Data.interpolate(method='linear')\n",
    "IRS_Interpolated_Data.set_index(\"Years\",inplace=True)"
   ]
  },
  {
   "cell_type": "markdown",
   "metadata": {},
   "source": [
    "## Calculating Forward LIBOR from Spot Rates\n",
    "\n",
    "This section calculates the **Forward LIBOR** from the spot rates using the following relationship:\n",
    "\n",
    "For tenor \\( T_n \\), the forward rate between \\( T_{n-1} \\) and \\( T_n \\) is computed as:\n",
    "\n",
    "$$\n",
    "\\text{Forward}_{n} = \\left( \\frac{(1 + r_n / 2)^{2 T_n}}{(1 + r_{n-1} / 2)^{2 T_{n-1}}} \\right)^2 - 1\n",
    "$$\n",
    "\n",
    "Where:\n",
    "- \\( r_n \\): Spot rate at year \\( T_n \\)\n",
    "- \\( r_{n-1} \\): Spot rate at year \\( T_{n-1} \\)\n",
    "\n",
    "\n",
    "---\n"
   ]
  },
  {
   "cell_type": "code",
   "execution_count": 4200,
   "metadata": {},
   "outputs": [],
   "source": [
    "IRS_Interpolated_Data[\"Forward_LIBOR\"] = np.nan\n",
    "\n",
    "IRS_Interpolated_Data.at[IRS_Interpolated_Data.index[0], \"Forward_LIBOR\"] = IRS_Interpolated_Data.at[IRS_Interpolated_Data.index[0], \"Rate\"]\n",
    "\n",
    "for row in range(1, len(IRS_Interpolated_Data)):\n",
    "    rate_now = IRS_Interpolated_Data.at[IRS_Interpolated_Data.index[row], \"Rate\"]\n",
    "    rate_prev = IRS_Interpolated_Data.at[IRS_Interpolated_Data.index[row - 1], \"Rate\"]\n",
    "    \n",
    "    t_now = IRS_Interpolated_Data.index[row]\n",
    "    t_prev = IRS_Interpolated_Data.index[row - 1]\n",
    "    \n",
    "    forward_rate = (\n",
    "        (1 + rate_now / 2) ** (2 * t_now) /\n",
    "        (1 + rate_prev / 2) ** (2 * t_prev)\n",
    "    ) ** 2 - 1\n",
    "    \n",
    "    IRS_Interpolated_Data.at[IRS_Interpolated_Data.index[row], \"Forward_LIBOR\"] = forward_rate\n"
   ]
  },
  {
   "cell_type": "code",
   "execution_count": 4201,
   "metadata": {},
   "outputs": [
    {
     "data": {
      "text/html": [
       "<div>\n",
       "<style scoped>\n",
       "    .dataframe tbody tr th:only-of-type {\n",
       "        vertical-align: middle;\n",
       "    }\n",
       "\n",
       "    .dataframe tbody tr th {\n",
       "        vertical-align: top;\n",
       "    }\n",
       "\n",
       "    .dataframe thead th {\n",
       "        text-align: right;\n",
       "    }\n",
       "</style>\n",
       "<table border=\"1\" class=\"dataframe\">\n",
       "  <thead>\n",
       "    <tr style=\"text-align: right;\">\n",
       "      <th></th>\n",
       "      <th>Rate</th>\n",
       "      <th>OIS_Discount_Factor</th>\n",
       "      <th>IRS_Discount_Factor</th>\n",
       "      <th>Forward_LIBOR</th>\n",
       "    </tr>\n",
       "    <tr>\n",
       "      <th>Years</th>\n",
       "      <th></th>\n",
       "      <th></th>\n",
       "      <th></th>\n",
       "      <th></th>\n",
       "    </tr>\n",
       "  </thead>\n",
       "  <tbody>\n",
       "    <tr>\n",
       "      <th>0.5</th>\n",
       "      <td>0.025000</td>\n",
       "      <td>0.998752</td>\n",
       "      <td>0.987654</td>\n",
       "      <td>0.025000</td>\n",
       "    </tr>\n",
       "    <tr>\n",
       "      <th>1.0</th>\n",
       "      <td>0.028000</td>\n",
       "      <td>0.997009</td>\n",
       "      <td>0.972577</td>\n",
       "      <td>0.031245</td>\n",
       "    </tr>\n",
       "    <tr>\n",
       "      <th>1.5</th>\n",
       "      <td>0.029000</td>\n",
       "      <td>0.995270</td>\n",
       "      <td>0.957378</td>\n",
       "      <td>0.031242</td>\n",
       "    </tr>\n",
       "    <tr>\n",
       "      <th>2.0</th>\n",
       "      <td>0.030000</td>\n",
       "      <td>0.993531</td>\n",
       "      <td>0.942179</td>\n",
       "      <td>0.033275</td>\n",
       "    </tr>\n",
       "    <tr>\n",
       "      <th>2.5</th>\n",
       "      <td>0.030750</td>\n",
       "      <td>0.991773</td>\n",
       "      <td>0.926330</td>\n",
       "      <td>0.034038</td>\n",
       "    </tr>\n",
       "    <tr>\n",
       "      <th>3.0</th>\n",
       "      <td>0.031500</td>\n",
       "      <td>0.990015</td>\n",
       "      <td>0.910482</td>\n",
       "      <td>0.035565</td>\n",
       "    </tr>\n",
       "    <tr>\n",
       "      <th>3.5</th>\n",
       "      <td>0.032000</td>\n",
       "      <td>0.988066</td>\n",
       "      <td>0.894731</td>\n",
       "      <td>0.035309</td>\n",
       "    </tr>\n",
       "    <tr>\n",
       "      <th>4.0</th>\n",
       "      <td>0.032500</td>\n",
       "      <td>0.986117</td>\n",
       "      <td>0.878981</td>\n",
       "      <td>0.036328</td>\n",
       "    </tr>\n",
       "    <tr>\n",
       "      <th>4.5</th>\n",
       "      <td>0.032750</td>\n",
       "      <td>0.984150</td>\n",
       "      <td>0.863985</td>\n",
       "      <td>0.035053</td>\n",
       "    </tr>\n",
       "    <tr>\n",
       "      <th>5.0</th>\n",
       "      <td>0.033000</td>\n",
       "      <td>0.982184</td>\n",
       "      <td>0.848989</td>\n",
       "      <td>0.035562</td>\n",
       "    </tr>\n",
       "    <tr>\n",
       "      <th>5.5</th>\n",
       "      <td>0.033500</td>\n",
       "      <td>0.979740</td>\n",
       "      <td>0.832796</td>\n",
       "      <td>0.038877</td>\n",
       "    </tr>\n",
       "    <tr>\n",
       "      <th>6.0</th>\n",
       "      <td>0.034000</td>\n",
       "      <td>0.977295</td>\n",
       "      <td>0.816603</td>\n",
       "      <td>0.039898</td>\n",
       "    </tr>\n",
       "    <tr>\n",
       "      <th>6.5</th>\n",
       "      <td>0.034500</td>\n",
       "      <td>0.974850</td>\n",
       "      <td>0.800409</td>\n",
       "      <td>0.040920</td>\n",
       "    </tr>\n",
       "    <tr>\n",
       "      <th>7.0</th>\n",
       "      <td>0.035000</td>\n",
       "      <td>0.972406</td>\n",
       "      <td>0.784216</td>\n",
       "      <td>0.041942</td>\n",
       "    </tr>\n",
       "    <tr>\n",
       "      <th>7.5</th>\n",
       "      <td>0.035333</td>\n",
       "      <td>0.969668</td>\n",
       "      <td>0.768965</td>\n",
       "      <td>0.040406</td>\n",
       "    </tr>\n",
       "    <tr>\n",
       "      <th>8.0</th>\n",
       "      <td>0.035667</td>\n",
       "      <td>0.966929</td>\n",
       "      <td>0.753714</td>\n",
       "      <td>0.041087</td>\n",
       "    </tr>\n",
       "    <tr>\n",
       "      <th>8.5</th>\n",
       "      <td>0.036000</td>\n",
       "      <td>0.964191</td>\n",
       "      <td>0.738463</td>\n",
       "      <td>0.041768</td>\n",
       "    </tr>\n",
       "    <tr>\n",
       "      <th>9.0</th>\n",
       "      <td>0.036333</td>\n",
       "      <td>0.961453</td>\n",
       "      <td>0.723212</td>\n",
       "      <td>0.042450</td>\n",
       "    </tr>\n",
       "    <tr>\n",
       "      <th>9.5</th>\n",
       "      <td>0.036667</td>\n",
       "      <td>0.958715</td>\n",
       "      <td>0.707961</td>\n",
       "      <td>0.043131</td>\n",
       "    </tr>\n",
       "    <tr>\n",
       "      <th>10.0</th>\n",
       "      <td>0.037000</td>\n",
       "      <td>0.955977</td>\n",
       "      <td>0.692710</td>\n",
       "      <td>0.043813</td>\n",
       "    </tr>\n",
       "    <tr>\n",
       "      <th>10.5</th>\n",
       "      <td>0.037300</td>\n",
       "      <td>0.953140</td>\n",
       "      <td>0.678547</td>\n",
       "      <td>0.043778</td>\n",
       "    </tr>\n",
       "    <tr>\n",
       "      <th>11.0</th>\n",
       "      <td>0.037600</td>\n",
       "      <td>0.950304</td>\n",
       "      <td>0.664384</td>\n",
       "      <td>0.044392</td>\n",
       "    </tr>\n",
       "    <tr>\n",
       "      <th>11.5</th>\n",
       "      <td>0.037900</td>\n",
       "      <td>0.947467</td>\n",
       "      <td>0.650221</td>\n",
       "      <td>0.045006</td>\n",
       "    </tr>\n",
       "    <tr>\n",
       "      <th>12.0</th>\n",
       "      <td>0.038200</td>\n",
       "      <td>0.944631</td>\n",
       "      <td>0.636058</td>\n",
       "      <td>0.045621</td>\n",
       "    </tr>\n",
       "    <tr>\n",
       "      <th>12.5</th>\n",
       "      <td>0.038500</td>\n",
       "      <td>0.941794</td>\n",
       "      <td>0.621896</td>\n",
       "      <td>0.046236</td>\n",
       "    </tr>\n",
       "    <tr>\n",
       "      <th>13.0</th>\n",
       "      <td>0.038800</td>\n",
       "      <td>0.938958</td>\n",
       "      <td>0.607733</td>\n",
       "      <td>0.046851</td>\n",
       "    </tr>\n",
       "    <tr>\n",
       "      <th>13.5</th>\n",
       "      <td>0.039100</td>\n",
       "      <td>0.936121</td>\n",
       "      <td>0.593570</td>\n",
       "      <td>0.047466</td>\n",
       "    </tr>\n",
       "    <tr>\n",
       "      <th>14.0</th>\n",
       "      <td>0.039400</td>\n",
       "      <td>0.933285</td>\n",
       "      <td>0.579407</td>\n",
       "      <td>0.048081</td>\n",
       "    </tr>\n",
       "    <tr>\n",
       "      <th>14.5</th>\n",
       "      <td>0.039700</td>\n",
       "      <td>0.930448</td>\n",
       "      <td>0.565244</td>\n",
       "      <td>0.048697</td>\n",
       "    </tr>\n",
       "    <tr>\n",
       "      <th>15.0</th>\n",
       "      <td>0.040000</td>\n",
       "      <td>0.927611</td>\n",
       "      <td>0.551081</td>\n",
       "      <td>0.049313</td>\n",
       "    </tr>\n",
       "    <tr>\n",
       "      <th>15.5</th>\n",
       "      <td>0.040500</td>\n",
       "      <td>0.924858</td>\n",
       "      <td>0.536794</td>\n",
       "      <td>0.056329</td>\n",
       "    </tr>\n",
       "    <tr>\n",
       "      <th>16.0</th>\n",
       "      <td>0.041000</td>\n",
       "      <td>0.922104</td>\n",
       "      <td>0.522508</td>\n",
       "      <td>0.057361</td>\n",
       "    </tr>\n",
       "    <tr>\n",
       "      <th>16.5</th>\n",
       "      <td>0.041500</td>\n",
       "      <td>0.919351</td>\n",
       "      <td>0.508222</td>\n",
       "      <td>0.058393</td>\n",
       "    </tr>\n",
       "    <tr>\n",
       "      <th>17.0</th>\n",
       "      <td>0.042000</td>\n",
       "      <td>0.916597</td>\n",
       "      <td>0.493935</td>\n",
       "      <td>0.059426</td>\n",
       "    </tr>\n",
       "    <tr>\n",
       "      <th>17.5</th>\n",
       "      <td>0.042500</td>\n",
       "      <td>0.913844</td>\n",
       "      <td>0.479649</td>\n",
       "      <td>0.060460</td>\n",
       "    </tr>\n",
       "    <tr>\n",
       "      <th>18.0</th>\n",
       "      <td>0.043000</td>\n",
       "      <td>0.911090</td>\n",
       "      <td>0.465363</td>\n",
       "      <td>0.061495</td>\n",
       "    </tr>\n",
       "    <tr>\n",
       "      <th>18.5</th>\n",
       "      <td>0.043500</td>\n",
       "      <td>0.908337</td>\n",
       "      <td>0.451077</td>\n",
       "      <td>0.062530</td>\n",
       "    </tr>\n",
       "    <tr>\n",
       "      <th>19.0</th>\n",
       "      <td>0.044000</td>\n",
       "      <td>0.905583</td>\n",
       "      <td>0.436790</td>\n",
       "      <td>0.063566</td>\n",
       "    </tr>\n",
       "    <tr>\n",
       "      <th>19.5</th>\n",
       "      <td>0.044500</td>\n",
       "      <td>0.902829</td>\n",
       "      <td>0.422504</td>\n",
       "      <td>0.064602</td>\n",
       "    </tr>\n",
       "    <tr>\n",
       "      <th>20.0</th>\n",
       "      <td>0.045000</td>\n",
       "      <td>0.900076</td>\n",
       "      <td>0.408218</td>\n",
       "      <td>0.065639</td>\n",
       "    </tr>\n",
       "    <tr>\n",
       "      <th>20.5</th>\n",
       "      <td>0.045250</td>\n",
       "      <td>0.897442</td>\n",
       "      <td>0.398990</td>\n",
       "      <td>0.056039</td>\n",
       "    </tr>\n",
       "    <tr>\n",
       "      <th>21.0</th>\n",
       "      <td>0.045500</td>\n",
       "      <td>0.894809</td>\n",
       "      <td>0.389762</td>\n",
       "      <td>0.056554</td>\n",
       "    </tr>\n",
       "    <tr>\n",
       "      <th>21.5</th>\n",
       "      <td>0.045750</td>\n",
       "      <td>0.892176</td>\n",
       "      <td>0.380534</td>\n",
       "      <td>0.057069</td>\n",
       "    </tr>\n",
       "    <tr>\n",
       "      <th>22.0</th>\n",
       "      <td>0.046000</td>\n",
       "      <td>0.889542</td>\n",
       "      <td>0.371307</td>\n",
       "      <td>0.057585</td>\n",
       "    </tr>\n",
       "    <tr>\n",
       "      <th>22.5</th>\n",
       "      <td>0.046250</td>\n",
       "      <td>0.886909</td>\n",
       "      <td>0.362079</td>\n",
       "      <td>0.058101</td>\n",
       "    </tr>\n",
       "    <tr>\n",
       "      <th>23.0</th>\n",
       "      <td>0.046500</td>\n",
       "      <td>0.884275</td>\n",
       "      <td>0.352851</td>\n",
       "      <td>0.058616</td>\n",
       "    </tr>\n",
       "    <tr>\n",
       "      <th>23.5</th>\n",
       "      <td>0.046750</td>\n",
       "      <td>0.881642</td>\n",
       "      <td>0.343623</td>\n",
       "      <td>0.059132</td>\n",
       "    </tr>\n",
       "    <tr>\n",
       "      <th>24.0</th>\n",
       "      <td>0.047000</td>\n",
       "      <td>0.879008</td>\n",
       "      <td>0.334396</td>\n",
       "      <td>0.059648</td>\n",
       "    </tr>\n",
       "    <tr>\n",
       "      <th>24.5</th>\n",
       "      <td>0.047250</td>\n",
       "      <td>0.876375</td>\n",
       "      <td>0.325168</td>\n",
       "      <td>0.060165</td>\n",
       "    </tr>\n",
       "    <tr>\n",
       "      <th>25.0</th>\n",
       "      <td>0.047500</td>\n",
       "      <td>0.873741</td>\n",
       "      <td>0.315940</td>\n",
       "      <td>0.060681</td>\n",
       "    </tr>\n",
       "    <tr>\n",
       "      <th>25.5</th>\n",
       "      <td>0.047750</td>\n",
       "      <td>0.871108</td>\n",
       "      <td>0.306712</td>\n",
       "      <td>0.061198</td>\n",
       "    </tr>\n",
       "    <tr>\n",
       "      <th>26.0</th>\n",
       "      <td>0.048000</td>\n",
       "      <td>0.868474</td>\n",
       "      <td>0.297484</td>\n",
       "      <td>0.061714</td>\n",
       "    </tr>\n",
       "    <tr>\n",
       "      <th>26.5</th>\n",
       "      <td>0.048250</td>\n",
       "      <td>0.865841</td>\n",
       "      <td>0.288257</td>\n",
       "      <td>0.062231</td>\n",
       "    </tr>\n",
       "    <tr>\n",
       "      <th>27.0</th>\n",
       "      <td>0.048500</td>\n",
       "      <td>0.863207</td>\n",
       "      <td>0.279029</td>\n",
       "      <td>0.062748</td>\n",
       "    </tr>\n",
       "    <tr>\n",
       "      <th>27.5</th>\n",
       "      <td>0.048750</td>\n",
       "      <td>0.860574</td>\n",
       "      <td>0.269801</td>\n",
       "      <td>0.063266</td>\n",
       "    </tr>\n",
       "    <tr>\n",
       "      <th>28.0</th>\n",
       "      <td>0.049000</td>\n",
       "      <td>0.857941</td>\n",
       "      <td>0.260573</td>\n",
       "      <td>0.063783</td>\n",
       "    </tr>\n",
       "    <tr>\n",
       "      <th>28.5</th>\n",
       "      <td>0.049250</td>\n",
       "      <td>0.855307</td>\n",
       "      <td>0.251346</td>\n",
       "      <td>0.064300</td>\n",
       "    </tr>\n",
       "    <tr>\n",
       "      <th>29.0</th>\n",
       "      <td>0.049500</td>\n",
       "      <td>0.852674</td>\n",
       "      <td>0.242118</td>\n",
       "      <td>0.064818</td>\n",
       "    </tr>\n",
       "    <tr>\n",
       "      <th>29.5</th>\n",
       "      <td>0.049750</td>\n",
       "      <td>0.850040</td>\n",
       "      <td>0.232890</td>\n",
       "      <td>0.065336</td>\n",
       "    </tr>\n",
       "    <tr>\n",
       "      <th>30.0</th>\n",
       "      <td>0.050000</td>\n",
       "      <td>0.847407</td>\n",
       "      <td>0.223662</td>\n",
       "      <td>0.065854</td>\n",
       "    </tr>\n",
       "  </tbody>\n",
       "</table>\n",
       "</div>"
      ],
      "text/plain": [
       "           Rate  OIS_Discount_Factor  IRS_Discount_Factor  Forward_LIBOR\n",
       "Years                                                                   \n",
       "0.5    0.025000             0.998752             0.987654       0.025000\n",
       "1.0    0.028000             0.997009             0.972577       0.031245\n",
       "1.5    0.029000             0.995270             0.957378       0.031242\n",
       "2.0    0.030000             0.993531             0.942179       0.033275\n",
       "2.5    0.030750             0.991773             0.926330       0.034038\n",
       "3.0    0.031500             0.990015             0.910482       0.035565\n",
       "3.5    0.032000             0.988066             0.894731       0.035309\n",
       "4.0    0.032500             0.986117             0.878981       0.036328\n",
       "4.5    0.032750             0.984150             0.863985       0.035053\n",
       "5.0    0.033000             0.982184             0.848989       0.035562\n",
       "5.5    0.033500             0.979740             0.832796       0.038877\n",
       "6.0    0.034000             0.977295             0.816603       0.039898\n",
       "6.5    0.034500             0.974850             0.800409       0.040920\n",
       "7.0    0.035000             0.972406             0.784216       0.041942\n",
       "7.5    0.035333             0.969668             0.768965       0.040406\n",
       "8.0    0.035667             0.966929             0.753714       0.041087\n",
       "8.5    0.036000             0.964191             0.738463       0.041768\n",
       "9.0    0.036333             0.961453             0.723212       0.042450\n",
       "9.5    0.036667             0.958715             0.707961       0.043131\n",
       "10.0   0.037000             0.955977             0.692710       0.043813\n",
       "10.5   0.037300             0.953140             0.678547       0.043778\n",
       "11.0   0.037600             0.950304             0.664384       0.044392\n",
       "11.5   0.037900             0.947467             0.650221       0.045006\n",
       "12.0   0.038200             0.944631             0.636058       0.045621\n",
       "12.5   0.038500             0.941794             0.621896       0.046236\n",
       "13.0   0.038800             0.938958             0.607733       0.046851\n",
       "13.5   0.039100             0.936121             0.593570       0.047466\n",
       "14.0   0.039400             0.933285             0.579407       0.048081\n",
       "14.5   0.039700             0.930448             0.565244       0.048697\n",
       "15.0   0.040000             0.927611             0.551081       0.049313\n",
       "15.5   0.040500             0.924858             0.536794       0.056329\n",
       "16.0   0.041000             0.922104             0.522508       0.057361\n",
       "16.5   0.041500             0.919351             0.508222       0.058393\n",
       "17.0   0.042000             0.916597             0.493935       0.059426\n",
       "17.5   0.042500             0.913844             0.479649       0.060460\n",
       "18.0   0.043000             0.911090             0.465363       0.061495\n",
       "18.5   0.043500             0.908337             0.451077       0.062530\n",
       "19.0   0.044000             0.905583             0.436790       0.063566\n",
       "19.5   0.044500             0.902829             0.422504       0.064602\n",
       "20.0   0.045000             0.900076             0.408218       0.065639\n",
       "20.5   0.045250             0.897442             0.398990       0.056039\n",
       "21.0   0.045500             0.894809             0.389762       0.056554\n",
       "21.5   0.045750             0.892176             0.380534       0.057069\n",
       "22.0   0.046000             0.889542             0.371307       0.057585\n",
       "22.5   0.046250             0.886909             0.362079       0.058101\n",
       "23.0   0.046500             0.884275             0.352851       0.058616\n",
       "23.5   0.046750             0.881642             0.343623       0.059132\n",
       "24.0   0.047000             0.879008             0.334396       0.059648\n",
       "24.5   0.047250             0.876375             0.325168       0.060165\n",
       "25.0   0.047500             0.873741             0.315940       0.060681\n",
       "25.5   0.047750             0.871108             0.306712       0.061198\n",
       "26.0   0.048000             0.868474             0.297484       0.061714\n",
       "26.5   0.048250             0.865841             0.288257       0.062231\n",
       "27.0   0.048500             0.863207             0.279029       0.062748\n",
       "27.5   0.048750             0.860574             0.269801       0.063266\n",
       "28.0   0.049000             0.857941             0.260573       0.063783\n",
       "28.5   0.049250             0.855307             0.251346       0.064300\n",
       "29.0   0.049500             0.852674             0.242118       0.064818\n",
       "29.5   0.049750             0.850040             0.232890       0.065336\n",
       "30.0   0.050000             0.847407             0.223662       0.065854"
      ]
     },
     "execution_count": 4201,
     "metadata": {},
     "output_type": "execute_result"
    }
   ],
   "source": [
    "IRS_Interpolated_Data"
   ]
  },
  {
   "cell_type": "code",
   "execution_count": 4202,
   "metadata": {},
   "outputs": [
    {
     "data": {
      "application/vnd.plotly.v1+json": {
       "config": {
        "plotlyServerURL": "https://plot.ly"
       },
       "data": [
        {
         "line": {
          "width": 2
         },
         "marker": {
          "size": 6
         },
         "mode": "lines+markers",
         "name": "Discount Curve",
         "type": "scatter",
         "x": [
          0.5,
          1,
          1.5,
          2,
          2.5,
          3,
          3.5,
          4,
          4.5,
          5,
          5.5,
          6,
          6.5,
          7,
          7.5,
          8,
          8.5,
          9,
          9.5,
          10,
          10.5,
          11,
          11.5,
          12,
          12.5,
          13,
          13.5,
          14,
          14.5,
          15,
          15.5,
          16,
          16.5,
          17,
          17.5,
          18,
          18.5,
          19,
          19.5,
          20,
          20.5,
          21,
          21.5,
          22,
          22.5,
          23,
          23.5,
          24,
          24.5,
          25,
          25.5,
          26,
          26.5,
          27,
          27.5,
          28,
          28.5,
          29,
          29.5,
          30
         ],
         "y": [
          0.9876543209876543,
          0.9725768302912442,
          0.9573779178550962,
          0.9421790054189482,
          0.9263302686640769,
          0.9104815319092056,
          0.8947311053593977,
          0.8789806788095899,
          0.8639849837996794,
          0.8489892887897689,
          0.8327960142444648,
          0.8166027396991606,
          0.8004094651538566,
          0.7842161906085525,
          0.7689652147332683,
          0.7537142388579842,
          0.7384632629826999,
          0.7232122871074157,
          0.7079613112321316,
          0.6927103353568473,
          0.6785473713677783,
          0.6643844073787094,
          0.6502214433896404,
          0.6360584794005715,
          0.6218955154115025,
          0.6077325514224334,
          0.5935695874333645,
          0.5794066234442955,
          0.5652436594552266,
          0.5510806954661576,
          0.536794384322567,
          0.5225080731789763,
          0.5082217620353857,
          0.4939354508917951,
          0.4796491397482045,
          0.46536282860461387,
          0.45107651746102323,
          0.4367902063174326,
          0.422503895173842,
          0.4082175840302514,
          0.39898982626161333,
          0.38976206849297523,
          0.3805343107243372,
          0.3713065529556991,
          0.36207879518706104,
          0.35285103741842294,
          0.3436232796497849,
          0.33439552188114685,
          0.32516776411250875,
          0.3159400063438707,
          0.3067122485752326,
          0.29748449080659456,
          0.28825673303795646,
          0.2790289752693184,
          0.2698012175006803,
          0.26057345973204227,
          0.2513457019634042,
          0.24211794419476612,
          0.23289018642612805,
          0.22366242865749
         ]
        }
       ],
       "layout": {
        "autosize": true,
        "template": {
         "data": {
          "bar": [
           {
            "error_x": {
             "color": "#2a3f5f"
            },
            "error_y": {
             "color": "#2a3f5f"
            },
            "marker": {
             "line": {
              "color": "white",
              "width": 0.5
             },
             "pattern": {
              "fillmode": "overlay",
              "size": 10,
              "solidity": 0.2
             }
            },
            "type": "bar"
           }
          ],
          "barpolar": [
           {
            "marker": {
             "line": {
              "color": "white",
              "width": 0.5
             },
             "pattern": {
              "fillmode": "overlay",
              "size": 10,
              "solidity": 0.2
             }
            },
            "type": "barpolar"
           }
          ],
          "carpet": [
           {
            "aaxis": {
             "endlinecolor": "#2a3f5f",
             "gridcolor": "#C8D4E3",
             "linecolor": "#C8D4E3",
             "minorgridcolor": "#C8D4E3",
             "startlinecolor": "#2a3f5f"
            },
            "baxis": {
             "endlinecolor": "#2a3f5f",
             "gridcolor": "#C8D4E3",
             "linecolor": "#C8D4E3",
             "minorgridcolor": "#C8D4E3",
             "startlinecolor": "#2a3f5f"
            },
            "type": "carpet"
           }
          ],
          "choropleth": [
           {
            "colorbar": {
             "outlinewidth": 0,
             "ticks": ""
            },
            "type": "choropleth"
           }
          ],
          "contour": [
           {
            "colorbar": {
             "outlinewidth": 0,
             "ticks": ""
            },
            "colorscale": [
             [
              0,
              "#0d0887"
             ],
             [
              0.1111111111111111,
              "#46039f"
             ],
             [
              0.2222222222222222,
              "#7201a8"
             ],
             [
              0.3333333333333333,
              "#9c179e"
             ],
             [
              0.4444444444444444,
              "#bd3786"
             ],
             [
              0.5555555555555556,
              "#d8576b"
             ],
             [
              0.6666666666666666,
              "#ed7953"
             ],
             [
              0.7777777777777778,
              "#fb9f3a"
             ],
             [
              0.8888888888888888,
              "#fdca26"
             ],
             [
              1,
              "#f0f921"
             ]
            ],
            "type": "contour"
           }
          ],
          "contourcarpet": [
           {
            "colorbar": {
             "outlinewidth": 0,
             "ticks": ""
            },
            "type": "contourcarpet"
           }
          ],
          "heatmap": [
           {
            "colorbar": {
             "outlinewidth": 0,
             "ticks": ""
            },
            "colorscale": [
             [
              0,
              "#0d0887"
             ],
             [
              0.1111111111111111,
              "#46039f"
             ],
             [
              0.2222222222222222,
              "#7201a8"
             ],
             [
              0.3333333333333333,
              "#9c179e"
             ],
             [
              0.4444444444444444,
              "#bd3786"
             ],
             [
              0.5555555555555556,
              "#d8576b"
             ],
             [
              0.6666666666666666,
              "#ed7953"
             ],
             [
              0.7777777777777778,
              "#fb9f3a"
             ],
             [
              0.8888888888888888,
              "#fdca26"
             ],
             [
              1,
              "#f0f921"
             ]
            ],
            "type": "heatmap"
           }
          ],
          "heatmapgl": [
           {
            "colorbar": {
             "outlinewidth": 0,
             "ticks": ""
            },
            "colorscale": [
             [
              0,
              "#0d0887"
             ],
             [
              0.1111111111111111,
              "#46039f"
             ],
             [
              0.2222222222222222,
              "#7201a8"
             ],
             [
              0.3333333333333333,
              "#9c179e"
             ],
             [
              0.4444444444444444,
              "#bd3786"
             ],
             [
              0.5555555555555556,
              "#d8576b"
             ],
             [
              0.6666666666666666,
              "#ed7953"
             ],
             [
              0.7777777777777778,
              "#fb9f3a"
             ],
             [
              0.8888888888888888,
              "#fdca26"
             ],
             [
              1,
              "#f0f921"
             ]
            ],
            "type": "heatmapgl"
           }
          ],
          "histogram": [
           {
            "marker": {
             "pattern": {
              "fillmode": "overlay",
              "size": 10,
              "solidity": 0.2
             }
            },
            "type": "histogram"
           }
          ],
          "histogram2d": [
           {
            "colorbar": {
             "outlinewidth": 0,
             "ticks": ""
            },
            "colorscale": [
             [
              0,
              "#0d0887"
             ],
             [
              0.1111111111111111,
              "#46039f"
             ],
             [
              0.2222222222222222,
              "#7201a8"
             ],
             [
              0.3333333333333333,
              "#9c179e"
             ],
             [
              0.4444444444444444,
              "#bd3786"
             ],
             [
              0.5555555555555556,
              "#d8576b"
             ],
             [
              0.6666666666666666,
              "#ed7953"
             ],
             [
              0.7777777777777778,
              "#fb9f3a"
             ],
             [
              0.8888888888888888,
              "#fdca26"
             ],
             [
              1,
              "#f0f921"
             ]
            ],
            "type": "histogram2d"
           }
          ],
          "histogram2dcontour": [
           {
            "colorbar": {
             "outlinewidth": 0,
             "ticks": ""
            },
            "colorscale": [
             [
              0,
              "#0d0887"
             ],
             [
              0.1111111111111111,
              "#46039f"
             ],
             [
              0.2222222222222222,
              "#7201a8"
             ],
             [
              0.3333333333333333,
              "#9c179e"
             ],
             [
              0.4444444444444444,
              "#bd3786"
             ],
             [
              0.5555555555555556,
              "#d8576b"
             ],
             [
              0.6666666666666666,
              "#ed7953"
             ],
             [
              0.7777777777777778,
              "#fb9f3a"
             ],
             [
              0.8888888888888888,
              "#fdca26"
             ],
             [
              1,
              "#f0f921"
             ]
            ],
            "type": "histogram2dcontour"
           }
          ],
          "mesh3d": [
           {
            "colorbar": {
             "outlinewidth": 0,
             "ticks": ""
            },
            "type": "mesh3d"
           }
          ],
          "parcoords": [
           {
            "line": {
             "colorbar": {
              "outlinewidth": 0,
              "ticks": ""
             }
            },
            "type": "parcoords"
           }
          ],
          "pie": [
           {
            "automargin": true,
            "type": "pie"
           }
          ],
          "scatter": [
           {
            "fillpattern": {
             "fillmode": "overlay",
             "size": 10,
             "solidity": 0.2
            },
            "type": "scatter"
           }
          ],
          "scatter3d": [
           {
            "line": {
             "colorbar": {
              "outlinewidth": 0,
              "ticks": ""
             }
            },
            "marker": {
             "colorbar": {
              "outlinewidth": 0,
              "ticks": ""
             }
            },
            "type": "scatter3d"
           }
          ],
          "scattercarpet": [
           {
            "marker": {
             "colorbar": {
              "outlinewidth": 0,
              "ticks": ""
             }
            },
            "type": "scattercarpet"
           }
          ],
          "scattergeo": [
           {
            "marker": {
             "colorbar": {
              "outlinewidth": 0,
              "ticks": ""
             }
            },
            "type": "scattergeo"
           }
          ],
          "scattergl": [
           {
            "marker": {
             "colorbar": {
              "outlinewidth": 0,
              "ticks": ""
             }
            },
            "type": "scattergl"
           }
          ],
          "scattermapbox": [
           {
            "marker": {
             "colorbar": {
              "outlinewidth": 0,
              "ticks": ""
             }
            },
            "type": "scattermapbox"
           }
          ],
          "scatterpolar": [
           {
            "marker": {
             "colorbar": {
              "outlinewidth": 0,
              "ticks": ""
             }
            },
            "type": "scatterpolar"
           }
          ],
          "scatterpolargl": [
           {
            "marker": {
             "colorbar": {
              "outlinewidth": 0,
              "ticks": ""
             }
            },
            "type": "scatterpolargl"
           }
          ],
          "scatterternary": [
           {
            "marker": {
             "colorbar": {
              "outlinewidth": 0,
              "ticks": ""
             }
            },
            "type": "scatterternary"
           }
          ],
          "surface": [
           {
            "colorbar": {
             "outlinewidth": 0,
             "ticks": ""
            },
            "colorscale": [
             [
              0,
              "#0d0887"
             ],
             [
              0.1111111111111111,
              "#46039f"
             ],
             [
              0.2222222222222222,
              "#7201a8"
             ],
             [
              0.3333333333333333,
              "#9c179e"
             ],
             [
              0.4444444444444444,
              "#bd3786"
             ],
             [
              0.5555555555555556,
              "#d8576b"
             ],
             [
              0.6666666666666666,
              "#ed7953"
             ],
             [
              0.7777777777777778,
              "#fb9f3a"
             ],
             [
              0.8888888888888888,
              "#fdca26"
             ],
             [
              1,
              "#f0f921"
             ]
            ],
            "type": "surface"
           }
          ],
          "table": [
           {
            "cells": {
             "fill": {
              "color": "#EBF0F8"
             },
             "line": {
              "color": "white"
             }
            },
            "header": {
             "fill": {
              "color": "#C8D4E3"
             },
             "line": {
              "color": "white"
             }
            },
            "type": "table"
           }
          ]
         },
         "layout": {
          "annotationdefaults": {
           "arrowcolor": "#2a3f5f",
           "arrowhead": 0,
           "arrowwidth": 1
          },
          "autotypenumbers": "strict",
          "coloraxis": {
           "colorbar": {
            "outlinewidth": 0,
            "ticks": ""
           }
          },
          "colorscale": {
           "diverging": [
            [
             0,
             "#8e0152"
            ],
            [
             0.1,
             "#c51b7d"
            ],
            [
             0.2,
             "#de77ae"
            ],
            [
             0.3,
             "#f1b6da"
            ],
            [
             0.4,
             "#fde0ef"
            ],
            [
             0.5,
             "#f7f7f7"
            ],
            [
             0.6,
             "#e6f5d0"
            ],
            [
             0.7,
             "#b8e186"
            ],
            [
             0.8,
             "#7fbc41"
            ],
            [
             0.9,
             "#4d9221"
            ],
            [
             1,
             "#276419"
            ]
           ],
           "sequential": [
            [
             0,
             "#0d0887"
            ],
            [
             0.1111111111111111,
             "#46039f"
            ],
            [
             0.2222222222222222,
             "#7201a8"
            ],
            [
             0.3333333333333333,
             "#9c179e"
            ],
            [
             0.4444444444444444,
             "#bd3786"
            ],
            [
             0.5555555555555556,
             "#d8576b"
            ],
            [
             0.6666666666666666,
             "#ed7953"
            ],
            [
             0.7777777777777778,
             "#fb9f3a"
            ],
            [
             0.8888888888888888,
             "#fdca26"
            ],
            [
             1,
             "#f0f921"
            ]
           ],
           "sequentialminus": [
            [
             0,
             "#0d0887"
            ],
            [
             0.1111111111111111,
             "#46039f"
            ],
            [
             0.2222222222222222,
             "#7201a8"
            ],
            [
             0.3333333333333333,
             "#9c179e"
            ],
            [
             0.4444444444444444,
             "#bd3786"
            ],
            [
             0.5555555555555556,
             "#d8576b"
            ],
            [
             0.6666666666666666,
             "#ed7953"
            ],
            [
             0.7777777777777778,
             "#fb9f3a"
            ],
            [
             0.8888888888888888,
             "#fdca26"
            ],
            [
             1,
             "#f0f921"
            ]
           ]
          },
          "colorway": [
           "#636efa",
           "#EF553B",
           "#00cc96",
           "#ab63fa",
           "#FFA15A",
           "#19d3f3",
           "#FF6692",
           "#B6E880",
           "#FF97FF",
           "#FECB52"
          ],
          "font": {
           "color": "#2a3f5f"
          },
          "geo": {
           "bgcolor": "white",
           "lakecolor": "white",
           "landcolor": "white",
           "showlakes": true,
           "showland": true,
           "subunitcolor": "#C8D4E3"
          },
          "hoverlabel": {
           "align": "left"
          },
          "hovermode": "closest",
          "mapbox": {
           "style": "light"
          },
          "paper_bgcolor": "white",
          "plot_bgcolor": "white",
          "polar": {
           "angularaxis": {
            "gridcolor": "#EBF0F8",
            "linecolor": "#EBF0F8",
            "ticks": ""
           },
           "bgcolor": "white",
           "radialaxis": {
            "gridcolor": "#EBF0F8",
            "linecolor": "#EBF0F8",
            "ticks": ""
           }
          },
          "scene": {
           "xaxis": {
            "backgroundcolor": "white",
            "gridcolor": "#DFE8F3",
            "gridwidth": 2,
            "linecolor": "#EBF0F8",
            "showbackground": true,
            "ticks": "",
            "zerolinecolor": "#EBF0F8"
           },
           "yaxis": {
            "backgroundcolor": "white",
            "gridcolor": "#DFE8F3",
            "gridwidth": 2,
            "linecolor": "#EBF0F8",
            "showbackground": true,
            "ticks": "",
            "zerolinecolor": "#EBF0F8"
           },
           "zaxis": {
            "backgroundcolor": "white",
            "gridcolor": "#DFE8F3",
            "gridwidth": 2,
            "linecolor": "#EBF0F8",
            "showbackground": true,
            "ticks": "",
            "zerolinecolor": "#EBF0F8"
           }
          },
          "shapedefaults": {
           "line": {
            "color": "#2a3f5f"
           }
          },
          "ternary": {
           "aaxis": {
            "gridcolor": "#DFE8F3",
            "linecolor": "#A2B1C6",
            "ticks": ""
           },
           "baxis": {
            "gridcolor": "#DFE8F3",
            "linecolor": "#A2B1C6",
            "ticks": ""
           },
           "bgcolor": "white",
           "caxis": {
            "gridcolor": "#DFE8F3",
            "linecolor": "#A2B1C6",
            "ticks": ""
           }
          },
          "title": {
           "x": 0.05
          },
          "xaxis": {
           "automargin": true,
           "gridcolor": "#EBF0F8",
           "linecolor": "#EBF0F8",
           "ticks": "",
           "title": {
            "standoff": 15
           },
           "zerolinecolor": "#EBF0F8",
           "zerolinewidth": 2
          },
          "yaxis": {
           "automargin": true,
           "gridcolor": "#EBF0F8",
           "linecolor": "#EBF0F8",
           "ticks": "",
           "title": {
            "standoff": 15
           },
           "zerolinecolor": "#EBF0F8",
           "zerolinewidth": 2
          }
         }
        },
        "title": {
         "text": "IRS Discount Curve"
        },
        "xaxis": {
         "autorange": true,
         "range": [
          -1.2856375358166192,
          31.78563753581662
         ],
         "showgrid": true,
         "title": {
          "text": "Tenor (years)"
         },
         "type": "linear"
        },
        "yaxis": {
         "autorange": true,
         "range": [
          0.16061455404771915,
          1.0507021955974252
         ],
         "showgrid": true,
         "title": {
          "text": "Discount Factor"
         },
         "type": "linear"
        }
       }
      },
      "image/png": "[encoded data removed]",
      "text/html": [
       "<div>                            <div id=\"b553d74b-d770-4302-857b-69c690bce512\" class=\"plotly-graph-div\" style=\"height:525px; width:100%;\"></div>            <script type=\"text/javascript\">                require([\"plotly\"], function(Plotly) {                    window.PLOTLYENV=window.PLOTLYENV || {};                                    if (document.getElementById(\"b553d74b-d770-4302-857b-69c690bce512\")) {                    Plotly.newPlot(                        \"b553d74b-d770-4302-857b-69c690bce512\",                        [{\"line\":{\"width\":2},\"marker\":{\"size\":6},\"mode\":\"lines+markers\",\"name\":\"Discount Curve\",\"x\":[0.5,1.0,1.5,2.0,2.5,3.0,3.5,4.0,4.5,5.0,5.5,6.0,6.5,7.0,7.5,8.0,8.5,9.0,9.5,10.0,10.5,11.0,11.5,12.0,12.5,13.0,13.5,14.0,14.5,15.0,15.5,16.0,16.5,17.0,17.5,18.0,18.5,19.0,19.5,20.0,20.5,21.0,21.5,22.0,22.5,23.0,23.5,24.0,24.5,25.0,25.5,26.0,26.5,27.0,27.5,28.0,28.5,29.0,29.5,30.0],\"y\":[0.9876543209876543,0.9725768302912442,0.9573779178550962,0.9421790054189482,0.9263302686640769,0.9104815319092056,0.8947311053593977,0.8789806788095899,0.8639849837996794,0.8489892887897689,0.8327960142444648,0.8166027396991606,0.8004094651538566,0.7842161906085525,0.7689652147332683,0.7537142388579842,0.7384632629826999,0.7232122871074157,0.7079613112321316,0.6927103353568473,0.6785473713677783,0.6643844073787094,0.6502214433896404,0.6360584794005715,0.6218955154115025,0.6077325514224334,0.5935695874333645,0.5794066234442955,0.5652436594552266,0.5510806954661576,0.536794384322567,0.5225080731789763,0.5082217620353857,0.4939354508917951,0.4796491397482045,0.46536282860461387,0.45107651746102323,0.4367902063174326,0.422503895173842,0.4082175840302514,0.39898982626161333,0.38976206849297523,0.3805343107243372,0.3713065529556991,0.36207879518706104,0.35285103741842294,0.3436232796497849,0.33439552188114685,0.32516776411250875,0.3159400063438707,0.3067122485752326,0.29748449080659456,0.28825673303795646,0.2790289752693184,0.2698012175006803,0.26057345973204227,0.2513457019634042,0.24211794419476612,0.23289018642612805,0.22366242865749],\"type\":\"scatter\"}],                        {\"template\":{\"data\":{\"barpolar\":[{\"marker\":{\"line\":{\"color\":\"white\",\"width\":0.5},\"pattern\":{\"fillmode\":\"overlay\",\"size\":10,\"solidity\":0.2}},\"type\":\"barpolar\"}],\"bar\":[{\"error_x\":{\"color\":\"#2a3f5f\"},\"error_y\":{\"color\":\"#2a3f5f\"},\"marker\":{\"line\":{\"color\":\"white\",\"width\":0.5},\"pattern\":{\"fillmode\":\"overlay\",\"size\":10,\"solidity\":0.2}},\"type\":\"bar\"}],\"carpet\":[{\"aaxis\":{\"endlinecolor\":\"#2a3f5f\",\"gridcolor\":\"#C8D4E3\",\"linecolor\":\"#C8D4E3\",\"minorgridcolor\":\"#C8D4E3\",\"startlinecolor\":\"#2a3f5f\"},\"baxis\":{\"endlinecolor\":\"#2a3f5f\",\"gridcolor\":\"#C8D4E3\",\"linecolor\":\"#C8D4E3\",\"minorgridcolor\":\"#C8D4E3\",\"startlinecolor\":\"#2a3f5f\"},\"type\":\"carpet\"}],\"choropleth\":[{\"colorbar\":{\"outlinewidth\":0,\"ticks\":\"\"},\"type\":\"choropleth\"}],\"contourcarpet\":[{\"colorbar\":{\"outlinewidth\":0,\"ticks\":\"\"},\"type\":\"contourcarpet\"}],\"contour\":[{\"colorbar\":{\"outlinewidth\":0,\"ticks\":\"\"},\"colorscale\":[[0.0,\"#0d0887\"],[0.1111111111111111,\"#46039f\"],[0.2222222222222222,\"#7201a8\"],[0.3333333333333333,\"#9c179e\"],[0.4444444444444444,\"#bd3786\"],[0.5555555555555556,\"#d8576b\"],[0.6666666666666666,\"#ed7953\"],[0.7777777777777778,\"#fb9f3a\"],[0.8888888888888888,\"#fdca26\"],[1.0,\"#f0f921\"]],\"type\":\"contour\"}],\"heatmapgl\":[{\"colorbar\":{\"outlinewidth\":0,\"ticks\":\"\"},\"colorscale\":[[0.0,\"#0d0887\"],[0.1111111111111111,\"#46039f\"],[0.2222222222222222,\"#7201a8\"],[0.3333333333333333,\"#9c179e\"],[0.4444444444444444,\"#bd3786\"],[0.5555555555555556,\"#d8576b\"],[0.6666666666666666,\"#ed7953\"],[0.7777777777777778,\"#fb9f3a\"],[0.8888888888888888,\"#fdca26\"],[1.0,\"#f0f921\"]],\"type\":\"heatmapgl\"}],\"heatmap\":[{\"colorbar\":{\"outlinewidth\":0,\"ticks\":\"\"},\"colorscale\":[[0.0,\"#0d0887\"],[0.1111111111111111,\"#46039f\"],[0.2222222222222222,\"#7201a8\"],[0.3333333333333333,\"#9c179e\"],[0.4444444444444444,\"#bd3786\"],[0.5555555555555556,\"#d8576b\"],[0.6666666666666666,\"#ed7953\"],[0.7777777777777778,\"#fb9f3a\"],[0.8888888888888888,\"#fdca26\"],[1.0,\"#f0f921\"]],\"type\":\"heatmap\"}],\"histogram2dcontour\":[{\"colorbar\":{\"outlinewidth\":0,\"ticks\":\"\"},\"colorscale\":[[0.0,\"#0d0887\"],[0.1111111111111111,\"#46039f\"],[0.2222222222222222,\"#7201a8\"],[0.3333333333333333,\"#9c179e\"],[0.4444444444444444,\"#bd3786\"],[0.5555555555555556,\"#d8576b\"],[0.6666666666666666,\"#ed7953\"],[0.7777777777777778,\"#fb9f3a\"],[0.8888888888888888,\"#fdca26\"],[1.0,\"#f0f921\"]],\"type\":\"histogram2dcontour\"}],\"histogram2d\":[{\"colorbar\":{\"outlinewidth\":0,\"ticks\":\"\"},\"colorscale\":[[0.0,\"#0d0887\"],[0.1111111111111111,\"#46039f\"],[0.2222222222222222,\"#7201a8\"],[0.3333333333333333,\"#9c179e\"],[0.4444444444444444,\"#bd3786\"],[0.5555555555555556,\"#d8576b\"],[0.6666666666666666,\"#ed7953\"],[0.7777777777777778,\"#fb9f3a\"],[0.8888888888888888,\"#fdca26\"],[1.0,\"#f0f921\"]],\"type\":\"histogram2d\"}],\"histogram\":[{\"marker\":{\"pattern\":{\"fillmode\":\"overlay\",\"size\":10,\"solidity\":0.2}},\"type\":\"histogram\"}],\"mesh3d\":[{\"colorbar\":{\"outlinewidth\":0,\"ticks\":\"\"},\"type\":\"mesh3d\"}],\"parcoords\":[{\"line\":{\"colorbar\":{\"outlinewidth\":0,\"ticks\":\"\"}},\"type\":\"parcoords\"}],\"pie\":[{\"automargin\":true,\"type\":\"pie\"}],\"scatter3d\":[{\"line\":{\"colorbar\":{\"outlinewidth\":0,\"ticks\":\"\"}},\"marker\":{\"colorbar\":{\"outlinewidth\":0,\"ticks\":\"\"}},\"type\":\"scatter3d\"}],\"scattercarpet\":[{\"marker\":{\"colorbar\":{\"outlinewidth\":0,\"ticks\":\"\"}},\"type\":\"scattercarpet\"}],\"scattergeo\":[{\"marker\":{\"colorbar\":{\"outlinewidth\":0,\"ticks\":\"\"}},\"type\":\"scattergeo\"}],\"scattergl\":[{\"marker\":{\"colorbar\":{\"outlinewidth\":0,\"ticks\":\"\"}},\"type\":\"scattergl\"}],\"scattermapbox\":[{\"marker\":{\"colorbar\":{\"outlinewidth\":0,\"ticks\":\"\"}},\"type\":\"scattermapbox\"}],\"scatterpolargl\":[{\"marker\":{\"colorbar\":{\"outlinewidth\":0,\"ticks\":\"\"}},\"type\":\"scatterpolargl\"}],\"scatterpolar\":[{\"marker\":{\"colorbar\":{\"outlinewidth\":0,\"ticks\":\"\"}},\"type\":\"scatterpolar\"}],\"scatter\":[{\"fillpattern\":{\"fillmode\":\"overlay\",\"size\":10,\"solidity\":0.2},\"type\":\"scatter\"}],\"scatterternary\":[{\"marker\":{\"colorbar\":{\"outlinewidth\":0,\"ticks\":\"\"}},\"type\":\"scatterternary\"}],\"surface\":[{\"colorbar\":{\"outlinewidth\":0,\"ticks\":\"\"},\"colorscale\":[[0.0,\"#0d0887\"],[0.1111111111111111,\"#46039f\"],[0.2222222222222222,\"#7201a8\"],[0.3333333333333333,\"#9c179e\"],[0.4444444444444444,\"#bd3786\"],[0.5555555555555556,\"#d8576b\"],[0.6666666666666666,\"#ed7953\"],[0.7777777777777778,\"#fb9f3a\"],[0.8888888888888888,\"#fdca26\"],[1.0,\"#f0f921\"]],\"type\":\"surface\"}],\"table\":[{\"cells\":{\"fill\":{\"color\":\"#EBF0F8\"},\"line\":{\"color\":\"white\"}},\"header\":{\"fill\":{\"color\":\"#C8D4E3\"},\"line\":{\"color\":\"white\"}},\"type\":\"table\"}]},\"layout\":{\"annotationdefaults\":{\"arrowcolor\":\"#2a3f5f\",\"arrowhead\":0,\"arrowwidth\":1},\"autotypenumbers\":\"strict\",\"coloraxis\":{\"colorbar\":{\"outlinewidth\":0,\"ticks\":\"\"}},\"colorscale\":{\"diverging\":[[0,\"#8e0152\"],[0.1,\"#c51b7d\"],[0.2,\"#de77ae\"],[0.3,\"#f1b6da\"],[0.4,\"#fde0ef\"],[0.5,\"#f7f7f7\"],[0.6,\"#e6f5d0\"],[0.7,\"#b8e186\"],[0.8,\"#7fbc41\"],[0.9,\"#4d9221\"],[1,\"#276419\"]],\"sequential\":[[0.0,\"#0d0887\"],[0.1111111111111111,\"#46039f\"],[0.2222222222222222,\"#7201a8\"],[0.3333333333333333,\"#9c179e\"],[0.4444444444444444,\"#bd3786\"],[0.5555555555555556,\"#d8576b\"],[0.6666666666666666,\"#ed7953\"],[0.7777777777777778,\"#fb9f3a\"],[0.8888888888888888,\"#fdca26\"],[1.0,\"#f0f921\"]],\"sequentialminus\":[[0.0,\"#0d0887\"],[0.1111111111111111,\"#46039f\"],[0.2222222222222222,\"#7201a8\"],[0.3333333333333333,\"#9c179e\"],[0.4444444444444444,\"#bd3786\"],[0.5555555555555556,\"#d8576b\"],[0.6666666666666666,\"#ed7953\"],[0.7777777777777778,\"#fb9f3a\"],[0.8888888888888888,\"#fdca26\"],[1.0,\"#f0f921\"]]},\"colorway\":[\"#636efa\",\"#EF553B\",\"#00cc96\",\"#ab63fa\",\"#FFA15A\",\"#19d3f3\",\"#FF6692\",\"#B6E880\",\"#FF97FF\",\"#FECB52\"],\"font\":{\"color\":\"#2a3f5f\"},\"geo\":{\"bgcolor\":\"white\",\"lakecolor\":\"white\",\"landcolor\":\"white\",\"showlakes\":true,\"showland\":true,\"subunitcolor\":\"#C8D4E3\"},\"hoverlabel\":{\"align\":\"left\"},\"hovermode\":\"closest\",\"mapbox\":{\"style\":\"light\"},\"paper_bgcolor\":\"white\",\"plot_bgcolor\":\"white\",\"polar\":{\"angularaxis\":{\"gridcolor\":\"#EBF0F8\",\"linecolor\":\"#EBF0F8\",\"ticks\":\"\"},\"bgcolor\":\"white\",\"radialaxis\":{\"gridcolor\":\"#EBF0F8\",\"linecolor\":\"#EBF0F8\",\"ticks\":\"\"}},\"scene\":{\"xaxis\":{\"backgroundcolor\":\"white\",\"gridcolor\":\"#DFE8F3\",\"gridwidth\":2,\"linecolor\":\"#EBF0F8\",\"showbackground\":true,\"ticks\":\"\",\"zerolinecolor\":\"#EBF0F8\"},\"yaxis\":{\"backgroundcolor\":\"white\",\"gridcolor\":\"#DFE8F3\",\"gridwidth\":2,\"linecolor\":\"#EBF0F8\",\"showbackground\":true,\"ticks\":\"\",\"zerolinecolor\":\"#EBF0F8\"},\"zaxis\":{\"backgroundcolor\":\"white\",\"gridcolor\":\"#DFE8F3\",\"gridwidth\":2,\"linecolor\":\"#EBF0F8\",\"showbackground\":true,\"ticks\":\"\",\"zerolinecolor\":\"#EBF0F8\"}},\"shapedefaults\":{\"line\":{\"color\":\"#2a3f5f\"}},\"ternary\":{\"aaxis\":{\"gridcolor\":\"#DFE8F3\",\"linecolor\":\"#A2B1C6\",\"ticks\":\"\"},\"baxis\":{\"gridcolor\":\"#DFE8F3\",\"linecolor\":\"#A2B1C6\",\"ticks\":\"\"},\"bgcolor\":\"white\",\"caxis\":{\"gridcolor\":\"#DFE8F3\",\"linecolor\":\"#A2B1C6\",\"ticks\":\"\"}},\"title\":{\"x\":0.05},\"xaxis\":{\"automargin\":true,\"gridcolor\":\"#EBF0F8\",\"linecolor\":\"#EBF0F8\",\"ticks\":\"\",\"title\":{\"standoff\":15},\"zerolinecolor\":\"#EBF0F8\",\"zerolinewidth\":2},\"yaxis\":{\"automargin\":true,\"gridcolor\":\"#EBF0F8\",\"linecolor\":\"#EBF0F8\",\"ticks\":\"\",\"title\":{\"standoff\":15},\"zerolinecolor\":\"#EBF0F8\",\"zerolinewidth\":2}}},\"xaxis\":{\"title\":{\"text\":\"Tenor (years)\"},\"showgrid\":true},\"yaxis\":{\"title\":{\"text\":\"Discount Factor\"},\"showgrid\":true},\"title\":{\"text\":\"IRS Discount Curve\"}},                        {\"responsive\": true}                    ).then(function(){\n",
       "                            \n",
       "var gd = document.getElementById('b553d74b-d770-4302-857b-69c690bce512');\n",
       "var x = new MutationObserver(function (mutations, observer) {{\n",
       "        var display = window.getComputedStyle(gd).display;\n",
       "        if (!display || display === 'none') {{\n",
       "            console.log([gd, 'removed!']);\n",
       "            Plotly.purge(gd);\n",
       "            observer.disconnect();\n",
       "        }}\n",
       "}});\n",
       "\n",
       "// Listen for the removal of the full notebook cells\n",
       "var notebookContainer = gd.closest('#notebook-container');\n",
       "if (notebookContainer) {{\n",
       "    x.observe(notebookContainer, {childList: true});\n",
       "}}\n",
       "\n",
       "// Listen for the clearing of the current output cell\n",
       "var outputEl = gd.closest('.output');\n",
       "if (outputEl) {{\n",
       "    x.observe(outputEl, {childList: true});\n",
       "}}\n",
       "\n",
       "                        })                };                });            </script>        </div>"
      ]
     },
     "metadata": {},
     "output_type": "display_data"
    }
   ],
   "source": [
    "plot_discount_curve(df=IRS_Interpolated_Data,\n",
    "                    discount_curve=\"IRS_Discount_Factor\",\n",
    "                    title=\"IRS Discount Curve\")"
   ]
  },
  {
   "cell_type": "markdown",
   "metadata": {},
   "source": [
    "## Forward swap rates"
   ]
  },
  {
   "cell_type": "markdown",
   "metadata": {},
   "source": [
    "### Forward Swap Rate Bootstrapping\n",
    "\n",
    "This section calculates **forward swap rates** based on bootstrapped IRS discount factors.\n",
    "\n",
    "Each forward swap rate is defined by a:\n",
    "- **Start year**: when the forward swap begins.\n",
    "- **Tenor**: number of years the swap lasts.\n",
    "- The goal is to find the swap rate \\( S \\) such that the present value of floating and fixed legs match.\n",
    "\n",
    "---\n",
    "\n",
    "#### Equation Being Solved\n",
    "\n",
    "The following equation is solved for each row using `scipy.optimize.brentq`:\n",
    "\n",
    "$$\n",
    "\\sum_{i} DF_i \\cdot DF_{i-1} \\cdot 2 = (S + 2) \\sum_{i} DF_i\n",
    "$$\n",
    "\n",
    "Where:\n",
    "- \\( DF_i \\): IRS discount factor at year \\( i \\)\n",
    "- \\( S \\): Forward swap rate to be solved\n",
    "- The left-hand side is a weighted sum of product of adjacent discount factors.\n",
    "- The right-hand side is a scaled sum of the discount factors, including the fixed leg adjustment.\n",
    "\n",
    "---\n",
    "\n",
    "#### Algorithm Steps\n",
    "\n",
    "1. **Loop** over each row in the `Forward_swap_rates_df`.\n",
    "2. Extract the `Start` and `Tenor` for the swap.\n",
    "3. Subset the IRS curve for the forward period \\((\\text{Start}, \\text{Start} + \\text{Tenor}]\\).\n",
    "4. Compute the sum of $$  DF_i \\cdot DF_{i-1} \\cdot 2 $$\n",
    "5. Solve for \\( S \\) such that the equation balances.\n",
    "6. Store the result in `Forward_Swap_Rates`.\n",
    "\n",
    "---"
   ]
  },
  {
   "cell_type": "code",
   "execution_count": 4205,
   "metadata": {},
   "outputs": [],
   "source": [
    "Forward_swap_rates_df = pd.DataFrame({'Start' : [1]*5 + [5]*5 + [10]*5,\n",
    "                                    'Tenor' : [1,2,3,5,10]*3, \n",
    "                                    'Forward_Swap_Rates': [np.nan]*15})\n",
    "\n",
    "for i in Forward_swap_rates_df.index:\n",
    "    def equation(S, \n",
    "                 start = Forward_swap_rates_df.at[i, 'Start'], \n",
    "                 tenor = Forward_swap_rates_df.at[i, 'Tenor'], \n",
    "                 irs = IRS_cleaned):\n",
    "        \n",
    "        irs1 = irs[(irs['Years'] > start)&(irs['Years'] <= start+tenor)].copy()\n",
    "    \n",
    "        sum1 = 0\n",
    "        for i in irs1.index:\n",
    "                sum1 += irs.at[i, 'OIS_Discount_Factor']*irs.at[i-1, 'IRS_Discount_Factor']/irs.at[i, 'IRS_Discount_Factor']*2\n",
    "        \n",
    "        sum2 = (S+2)*np.sum(irs1['OIS_Discount_Factor'])\n",
    "        \n",
    "        return sum1-sum2\n",
    "\n",
    "    Forward_swap_rates_df.iloc[i, Forward_swap_rates_df.columns.get_loc(\"Forward_Swap_Rates\")] = brentq(equation, 0.0001, 0.5)"
   ]
  },
  {
   "cell_type": "code",
   "execution_count": 4206,
   "metadata": {},
   "outputs": [
    {
     "data": {
      "text/html": [
       "<div>\n",
       "<style scoped>\n",
       "    .dataframe tbody tr th:only-of-type {\n",
       "        vertical-align: middle;\n",
       "    }\n",
       "\n",
       "    .dataframe tbody tr th {\n",
       "        vertical-align: top;\n",
       "    }\n",
       "\n",
       "    .dataframe thead th {\n",
       "        text-align: right;\n",
       "    }\n",
       "</style>\n",
       "<table border=\"1\" class=\"dataframe\">\n",
       "  <thead>\n",
       "    <tr style=\"text-align: right;\">\n",
       "      <th></th>\n",
       "      <th>Start</th>\n",
       "      <th>Tenor</th>\n",
       "      <th>Forward_Swap_Rates</th>\n",
       "    </tr>\n",
       "  </thead>\n",
       "  <tbody>\n",
       "    <tr>\n",
       "      <th>0</th>\n",
       "      <td>1</td>\n",
       "      <td>1</td>\n",
       "      <td>0.031922</td>\n",
       "    </tr>\n",
       "    <tr>\n",
       "      <th>1</th>\n",
       "      <td>1</td>\n",
       "      <td>2</td>\n",
       "      <td>0.033217</td>\n",
       "    </tr>\n",
       "    <tr>\n",
       "      <th>2</th>\n",
       "      <td>1</td>\n",
       "      <td>3</td>\n",
       "      <td>0.033982</td>\n",
       "    </tr>\n",
       "    <tr>\n",
       "      <th>3</th>\n",
       "      <td>1</td>\n",
       "      <td>5</td>\n",
       "      <td>0.035238</td>\n",
       "    </tr>\n",
       "    <tr>\n",
       "      <th>4</th>\n",
       "      <td>1</td>\n",
       "      <td>10</td>\n",
       "      <td>0.038419</td>\n",
       "    </tr>\n",
       "    <tr>\n",
       "      <th>5</th>\n",
       "      <td>5</td>\n",
       "      <td>1</td>\n",
       "      <td>0.039274</td>\n",
       "    </tr>\n",
       "    <tr>\n",
       "      <th>6</th>\n",
       "      <td>5</td>\n",
       "      <td>2</td>\n",
       "      <td>0.040075</td>\n",
       "    </tr>\n",
       "    <tr>\n",
       "      <th>7</th>\n",
       "      <td>5</td>\n",
       "      <td>3</td>\n",
       "      <td>0.040072</td>\n",
       "    </tr>\n",
       "    <tr>\n",
       "      <th>8</th>\n",
       "      <td>5</td>\n",
       "      <td>5</td>\n",
       "      <td>0.041093</td>\n",
       "    </tr>\n",
       "    <tr>\n",
       "      <th>9</th>\n",
       "      <td>5</td>\n",
       "      <td>10</td>\n",
       "      <td>0.043634</td>\n",
       "    </tr>\n",
       "    <tr>\n",
       "      <th>10</th>\n",
       "      <td>10</td>\n",
       "      <td>1</td>\n",
       "      <td>0.042190</td>\n",
       "    </tr>\n",
       "    <tr>\n",
       "      <th>11</th>\n",
       "      <td>10</td>\n",
       "      <td>2</td>\n",
       "      <td>0.043116</td>\n",
       "    </tr>\n",
       "    <tr>\n",
       "      <th>12</th>\n",
       "      <td>10</td>\n",
       "      <td>3</td>\n",
       "      <td>0.044097</td>\n",
       "    </tr>\n",
       "    <tr>\n",
       "      <th>13</th>\n",
       "      <td>10</td>\n",
       "      <td>5</td>\n",
       "      <td>0.046249</td>\n",
       "    </tr>\n",
       "    <tr>\n",
       "      <th>14</th>\n",
       "      <td>10</td>\n",
       "      <td>10</td>\n",
       "      <td>0.053458</td>\n",
       "    </tr>\n",
       "  </tbody>\n",
       "</table>\n",
       "</div>"
      ],
      "text/plain": [
       "    Start  Tenor  Forward_Swap_Rates\n",
       "0       1      1            0.031922\n",
       "1       1      2            0.033217\n",
       "2       1      3            0.033982\n",
       "3       1      5            0.035238\n",
       "4       1     10            0.038419\n",
       "5       5      1            0.039274\n",
       "6       5      2            0.040075\n",
       "7       5      3            0.040072\n",
       "8       5      5            0.041093\n",
       "9       5     10            0.043634\n",
       "10     10      1            0.042190\n",
       "11     10      2            0.043116\n",
       "12     10      3            0.044097\n",
       "13     10      5            0.046249\n",
       "14     10     10            0.053458"
      ]
     },
     "execution_count": 4206,
     "metadata": {},
     "output_type": "execute_result"
    }
   ],
   "source": [
    "Forward_swap_rates_df"
   ]
  }
 ],
 "metadata": {
  "kernelspec": {
   "display_name": "Python 3 (ipykernel)",
   "language": "python",
   "name": "python3"
  },
  "language_info": {
   "codemirror_mode": {
    "name": "ipython",
    "version": 3
   },
   "file_extension": ".py",
   "mimetype": "text/x-python",
   "name": "python",
   "nbconvert_exporter": "python",
   "pygments_lexer": "ipython3",
   "version": "3.12.2"
  }
 },
 "nbformat": 4,
 "nbformat_minor": 4
}
