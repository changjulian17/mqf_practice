{
 "cells": [
  {
   "cell_type": "markdown",
   "metadata": {},
   "source": [
    "# Decompounded Options"
   ]
  },
  {
   "cell_type": "markdown",
   "metadata": {},
   "source": [
    "# 👉 <a id = \"top\">Table of Contents</a> 👈 "
   ]
  },
  {
   "cell_type": "markdown",
   "metadata": {},
   "source": [
    "# [1. Functions](#p1)\n",
    "\n",
    "# [2. Question 1](#p2)\n",
    "\n",
    "# [3. Question 2](#p3)"
   ]
  },
  {
   "cell_type": "code",
   "execution_count": 231,
   "metadata": {},
   "outputs": [],
   "source": [
    "import pandas as pd\n",
    "from scipy import integrate\n",
    "from scipy.stats import norm\n",
    "import numpy as np"
   ]
  },
  {
   "cell_type": "markdown",
   "metadata": {},
   "source": [
    "# <a id = \"p1\">1.</a>  <font color = \"green\"> Functions </font>  [back to table of contents](#top)"
   ]
  },
  {
   "cell_type": "code",
   "execution_count": 233,
   "metadata": {},
   "outputs": [],
   "source": [
    "def black76_Call(F, K, T, sigma):\n",
    "    d1 = (np.log(F/K)+(1/2)*(sigma**2)*T)/(sigma*np.sqrt(T))\n",
    "    d2 = d1 - sigma * np.sqrt(T)\n",
    "    price = F*norm.cdf(d1) - K*norm.cdf(d2)\n",
    "    return price"
   ]
  },
  {
   "cell_type": "code",
   "execution_count": 234,
   "metadata": {},
   "outputs": [],
   "source": [
    "def black76_Put(F, K, T, sigma):\n",
    "    d1 = (np.log(F/K)+1/2*(sigma**2)*T)/(sigma*np.sqrt(T))\n",
    "    d2 = d1 - sigma * np.sqrt(T)\n",
    "    price = K*norm.cdf(-d2) - F*norm.cdf(-d1)\n",
    "    return price"
   ]
  },
  {
   "cell_type": "code",
   "execution_count": 235,
   "metadata": {},
   "outputs": [],
   "source": [
    "def SABR(F, \n",
    "         K, \n",
    "         T, \n",
    "         alpha, \n",
    "         beta, \n",
    "         rho, \n",
    "         nu):\n",
    "    X = K\n",
    "\n",
    "    if F == K:\n",
    "        numer1 = (((1 - beta)**2)/24)*alpha*alpha/(F**(2 - 2*beta))\n",
    "        numer2 = 0.25*rho*beta*nu*alpha/(F**(1 - beta))\n",
    "        numer3 = ((2 - 3*rho*rho)/24)*nu*nu\n",
    "        VolAtm = alpha*(1 + (numer1 + numer2 + numer3)*T)/(F**(1-beta))\n",
    "        sabrsigma = VolAtm\n",
    "    else:\n",
    "        z = (nu/alpha)*((F*X)**(0.5*(1-beta)))*np.log(F/X)\n",
    "        zhi = np.log((((1 - 2*rho*z + z*z)**0.5) + z - rho)/(1 - rho))\n",
    "        numer1 = (((1 - beta)**2)/24)*((alpha*alpha)/((F*X)**(1 - beta)))\n",
    "        numer2 = 0.25*rho*beta*nu*alpha/((F*X)**((1 - beta)/2))\n",
    "        numer3 = ((2 - 3*rho*rho)/24)*nu*nu\n",
    "        numer = alpha*(1 + (numer1 + numer2 + numer3)*T)*z\n",
    "        denom1 = ((1 - beta)**2/24)*(np.log(F/X))**2\n",
    "        denom2 = (((1 - beta)**4)/1920)*((np.log(F/X))**4)\n",
    "        denom = ((F*X)**((1 - beta)/2))*(1 + denom1 + denom2)*zhi\n",
    "        sabrsigma = numer/denom\n",
    "\n",
    "    return sabrsigma"
   ]
  },
  {
   "cell_type": "code",
   "execution_count": 236,
   "metadata": {},
   "outputs": [],
   "source": [
    "def IRR(K, tenor, delta):\n",
    "    sum = 0\n",
    "    for i in np.arange(1, tenor/delta + 1):\n",
    "        sum += delta*(1 + K*delta)**(-i)\n",
    "    return sum\n",
    "\n",
    "# first derivative\n",
    "def IRR1(K, tenor, delta):\n",
    "    sum = 0\n",
    "    for i in np.arange(1, tenor/delta + 1):\n",
    "        sum += (-i)*(delta**2)*(1 + K*delta)**(-i-1)\n",
    "    return sum\n",
    "\n",
    "# second derivative\n",
    "def IRR2(K, tenor, delta):\n",
    "    sum = 0\n",
    "    for i in np.arange(1, tenor/delta + 1):\n",
    "        sum += (-i)*(-i-1)*(delta**3)*(1 + K*delta)**(-i-2)\n",
    "    return sum"
   ]
  },
  {
   "cell_type": "markdown",
   "metadata": {},
   "source": [
    "# <a id = \"p2\">2.</a>  <font color = \"green\"> Question 1 </font>  [back to table of contents](#top)"
   ]
  },
  {
   "cell_type": "markdown",
   "metadata": {},
   "source": [
    "### Question 1   \n",
    "\n",
    "#### Use static replication to value the PV of payoff: $CMS\\ 10y^{1/4} - 0.04^{1/2}$ at time T = 5y"
   ]
  },
  {
   "cell_type": "markdown",
   "metadata": {},
   "source": [
    "$g(F) = F^{\\frac{1}{4}} - 0.2 \\ \\ \\ \\ \\ \\ g'(F) = \\frac{1}{4}F^{-\\frac{3}{4}} \\ \\ \\ \\ \\ \\ \\ g''(F) = -\\frac{3}{16}F^{-\\frac{7}{4}}$"
   ]
  },
  {
   "cell_type": "markdown",
   "metadata": {},
   "source": [
    "$ h(K) = \\frac{g(K)}{IRR(K)}$ <br><br>\n",
    "$ h'(K) = \\frac{IRR(K)g'(K) - g(K)IRR'(K)}{IRR(K)^2}$<br><br>\n",
    "$ h''(K) = \\frac{IRR(K)g''(K) - IRR''(K)g(K) - 2 * IRR'(K)g'(K)}{IRR(K)^2} +\\frac{2*IRR'(K)^2g(K)}{IRR(K)^3}$"
   ]
  },
  {
   "cell_type": "code",
   "execution_count": 241,
   "metadata": {},
   "outputs": [],
   "source": [
    "def g(K):\n",
    "    return K**0.25 - 0.2\n",
    "\n",
    "def g1(K):\n",
    "    return 0.25*K**(-0.75)\n",
    "\n",
    "def g2(K):\n",
    "    return (-3/16)*K**(-7/4)"
   ]
  },
  {
   "cell_type": "code",
   "execution_count": 242,
   "metadata": {},
   "outputs": [],
   "source": [
    "def h(K, tenor, delta):\n",
    "    return g(K)/IRR(K, tenor, delta)\n",
    "\n",
    "def h1(K,  tenor, delta):\n",
    "    nominator = IRR(K, tenor, delta)*g1(K) - g(K)*IRR1(K, tenor, delta)\n",
    "    denominator = IRR(K, tenor, delta)**2\n",
    "    return nominator/denominator\n",
    "\n",
    "def h2(K, tenor, delta):\n",
    "    nominator = IRR(K, tenor, delta)*g2(K) - g(K)*IRR2(K, tenor, delta) - 2*IRR1(K, tenor, delta)*g1(K)\n",
    "    denominator = IRR(K, tenor, delta)**2\n",
    "    term2 = 2*IRR1(K, tenor, delta)**2*g(K)/IRR(K, tenor, delta)**3\n",
    "    return nominator/denominator + term2"
   ]
  },
  {
   "cell_type": "markdown",
   "metadata": {},
   "source": [
    "$V_0 = D(0, T)g(F) + \\int_0^F h''(K)V^{rec}(K)\\,dK + \\int_F^\\infty h''(K)V^{pay}(K)\\,dK$"
   ]
  },
  {
   "cell_type": "code",
   "execution_count": 244,
   "metadata": {},
   "outputs": [],
   "source": [
    "Discount_Factors = pd.read_csv('Discount_Factors.csv')      # This is from Part 1"
   ]
  },
  {
   "cell_type": "code",
   "execution_count": 245,
   "metadata": {},
   "outputs": [
    {
     "data": {
      "text/plain": [
       "0.9821841197332524"
      ]
     },
     "execution_count": 245,
     "metadata": {},
     "output_type": "execute_result"
    }
   ],
   "source": [
    "D = Discount_Factors[Discount_Factors['Years'] == 5]['OIS_Discount_Factor'].iloc[0]     # ois D(0,5)\n",
    "D"
   ]
  },
  {
   "cell_type": "code",
   "execution_count": 246,
   "metadata": {},
   "outputs": [],
   "source": [
    "Forward_swap_rates = pd.read_csv('Forward_swap_rates_df.csv')      # This is from Part 1"
   ]
  },
  {
   "cell_type": "code",
   "execution_count": 247,
   "metadata": {},
   "outputs": [
    {
     "data": {
      "text/plain": [
       "0.0436338062028315"
      ]
     },
     "execution_count": 247,
     "metadata": {},
     "output_type": "execute_result"
    }
   ],
   "source": [
    "F = Forward_swap_rates[(Forward_swap_rates['start']== 5) & (Forward_swap_rates['tenor'] == 10)][\"Forward_Swap_Rates\"].iloc[0]\n",
    "F"
   ]
  },
  {
   "cell_type": "code",
   "execution_count": 248,
   "metadata": {},
   "outputs": [],
   "source": [
    "Calibration_parameters_df = pd.read_csv('Calibration_parameters_df.csv')"
   ]
  },
  {
   "cell_type": "code",
   "execution_count": 249,
   "metadata": {},
   "outputs": [
    {
     "name": "stdout",
     "output_type": "stream",
     "text": [
      "For Start: 5 and Tenor: 10\n",
      "alpha: 9    0.174809\n",
      "Name: alpha, dtype: float64\n",
      "rho: 9   -0.415705\n",
      "Name: rho, dtype: float64\n",
      "nu: 9    0.511313\n",
      "Name: nu, dtype: float64\n"
     ]
    }
   ],
   "source": [
    "alpha = Calibration_parameters_df[(Calibration_parameters_df['start']== 5) & (Calibration_parameters_df['tenor'] == 10)][\"alpha\"]\n",
    "rho = Calibration_parameters_df[(Calibration_parameters_df['start']== 5) & (Calibration_parameters_df['tenor'] == 10)][\"rho\"]\n",
    "nu = Calibration_parameters_df[(Calibration_parameters_df['start']== 5) & (Calibration_parameters_df['tenor'] == 10)][\"nu\"]\n",
    "\n",
    "print(\"For Start: 5 and Tenor: 10\")\n",
    "print(f\"alpha: {alpha}\")\n",
    "print(f\"rho: {rho}\")\n",
    "print(f\"nu: {nu}\")"
   ]
  },
  {
   "cell_type": "code",
   "execution_count": 252,
   "metadata": {},
   "outputs": [],
   "source": [
    "tenor = 10\n",
    "delta = 0.5\n",
    "T = 5\n",
    "beta = 0.9"
   ]
  },
  {
   "cell_type": "markdown",
   "metadata": {},
   "source": [
    "### Present Value Calculation using SABR and Black-76\n",
    "\n",
    "This segment calculates the present value of a derivative using the SABR model and Black-76 formula for receiver and payer swaption components.\n",
    "\n",
    "The integrals computed are:\n",
    "\n",
    "- **Receiver Swaption Value:**\n",
    "$$\n",
    "V_{\\text{rec}} = \\int_{0}^{F} h_2(K, \\text{tenor}, \\delta) \\cdot \\text{Black76Put}(F, K, T, \\sigma_{\\text{SABR}}) \\, dK\n",
    "$$\n",
    "\n",
    "- **Payer Swaption Value:**\n",
    "$$\n",
    "V_{\\text{pay}} = \\int_{F}^{\\infty} h_2(K, \\text{tenor}, \\delta) \\cdot \\text{Black76Call}(F, K, T, \\sigma_{\\text{SABR}}) \\, dK\n",
    "$$\n",
    "\n",
    "where:\n",
    "- \\( $h_2(K, \\text{tenor}, \\delta)$ \\) is the second derivative of the IRR weight function\n",
    "- \\( $\\sigma_{\\text{SABR}}$ \\) is the volatility given by the SABR model\n",
    "- \\( F \\) is the forward swap rate\n",
    "- \\( T \\) is the time to expiry\n",
    "\n",
    "The total present value is computed as:\n",
    "$$\n",
    "\\text{PV} = D \\cdot g(F) + V_{\\text{rec}} + V_{\\text{pay}}\n",
    "$$\n",
    "where \\( $D \\cdot g(F)$ \\) is the CMS convexity adjustment term.\n",
    "\n",
    "This approach accounts for the convexity correction when pricing CMS products under the SABR model.\n"
   ]
  },
  {
   "cell_type": "code",
   "execution_count": 254,
   "metadata": {},
   "outputs": [
    {
     "data": {
      "text/plain": [
       "0.2497685106271413"
      ]
     },
     "execution_count": 254,
     "metadata": {},
     "output_type": "execute_result"
    }
   ],
   "source": [
    "V_rec = integrate.quad(lambda K: h2(K, tenor, delta)*black76_Put(F, K, T, SABR(F, K, T, alpha, beta, rho, nu)), 0, F)\n",
    "V_pay = integrate.quad(lambda K: h2(K, tenor, delta)*black76_Call(F, K, T, SABR(F, K, T, alpha, beta, rho, nu)), F, 1000)\n",
    "\n",
    "pv = D* g(F) + V_rec[0] + V_pay[0]\n",
    "pv"
   ]
  },
  {
   "cell_type": "markdown",
   "metadata": {},
   "source": [
    "# <a id = \"p3\">3.</a>  <font color = \"green\"> Question 2 </font>  [back to table of contents](#top)"
   ]
  },
  {
   "cell_type": "markdown",
   "metadata": {},
   "source": [
    "#### Use static replication to value the PV of this payoff: $(CMS\\ 10y^{1/4} - 0.04^{1/2})^+$"
   ]
  },
  {
   "cell_type": "markdown",
   "metadata": {},
   "source": [
    "$F^\\frac{1}{4} > 0.2$<br>\n",
    "$F > 0.2^4$<br>\n",
    "$F > 0.0016 = L$"
   ]
  },
  {
   "cell_type": "markdown",
   "metadata": {},
   "source": [
    "$CMS\\ Caplet = h'(L)V^{pay}(L) + \\int^{\\infty}_Lh''(K)V^{pay}(K)dK$"
   ]
  },
  {
   "cell_type": "code",
   "execution_count": 259,
   "metadata": {},
   "outputs": [
    {
     "data": {
      "text/plain": [
       "0.032076949051833295"
      ]
     },
     "execution_count": 259,
     "metadata": {},
     "output_type": "execute_result"
    }
   ],
   "source": [
    "tenor = 10\n",
    "delta = 2\n",
    "T = 5\n",
    "L = 0.2**4\n",
    "\n",
    "term1 = h1(L, tenor, delta)*black76_Call(F, L, T, SABR(F, L, T, alpha, beta, rho, nu))\n",
    "term2 = integrate.quad(lambda K: h2(K, tenor,delta)*black76_Call(F, K, T, SABR(F, K, T, alpha, beta, rho, nu)), L,1000)\n",
    "PV_caplet = term1[0]+ term2[0]\n",
    "PV_caplet"
   ]
  }
 ],
 "metadata": {
  "kernelspec": {
   "display_name": "Python 3 (ipykernel)",
   "language": "python",
   "name": "python3"
  },
  "language_info": {
   "codemirror_mode": {
    "name": "ipython",
    "version": 3
   },
   "file_extension": ".py",
   "mimetype": "text/x-python",
   "name": "python",
   "nbconvert_exporter": "python",
   "pygments_lexer": "ipython3",
   "version": "3.12.2"
  }
 },
 "nbformat": 4,
 "nbformat_minor": 4
}
